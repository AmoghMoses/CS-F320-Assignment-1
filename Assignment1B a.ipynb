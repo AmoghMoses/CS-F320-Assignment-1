{
 "cells": [
  {
   "cell_type": "code",
   "execution_count": 1,
   "id": "4d67eca0",
   "metadata": {},
   "outputs": [
    {
     "name": "stdout",
     "output_type": "stream",
     "text": [
      "Success\n"
     ]
    }
   ],
   "source": [
    "import pandas as pd\n",
    "import numpy as np\n",
    "import matplotlib.pyplot as plt\n",
    "from sklearn import tree\n",
    "from sklearn.model_selection import train_test_split\n",
    "from sklearn.tree import DecisionTreeRegressor\n",
    "from sklearn.preprocessing import StandardScaler\n",
    "from sklearn.linear_model import LinearRegression\n",
    "from mpl_toolkits import mplot3d\n",
    "print(\"Success\")"
   ]
  },
  {
   "cell_type": "code",
   "execution_count": 2,
   "id": "a2b4e8a6",
   "metadata": {
    "scrolled": false
   },
   "outputs": [
    {
     "data": {
      "text/html": [
       "<div>\n",
       "<style scoped>\n",
       "    .dataframe tbody tr th:only-of-type {\n",
       "        vertical-align: middle;\n",
       "    }\n",
       "\n",
       "    .dataframe tbody tr th {\n",
       "        vertical-align: top;\n",
       "    }\n",
       "\n",
       "    .dataframe thead th {\n",
       "        text-align: right;\n",
       "    }\n",
       "</style>\n",
       "<table border=\"1\" class=\"dataframe\">\n",
       "  <thead>\n",
       "    <tr style=\"text-align: right;\">\n",
       "      <th></th>\n",
       "      <th>MLOGP</th>\n",
       "      <th>RDCHI</th>\n",
       "      <th>quantitative response of LC50</th>\n",
       "    </tr>\n",
       "  </thead>\n",
       "  <tbody>\n",
       "    <tr>\n",
       "      <th>0</th>\n",
       "      <td>2.419</td>\n",
       "      <td>1.225</td>\n",
       "      <td>3.740</td>\n",
       "    </tr>\n",
       "    <tr>\n",
       "      <th>1</th>\n",
       "      <td>2.638</td>\n",
       "      <td>1.401</td>\n",
       "      <td>4.330</td>\n",
       "    </tr>\n",
       "    <tr>\n",
       "      <th>2</th>\n",
       "      <td>5.799</td>\n",
       "      <td>2.930</td>\n",
       "      <td>7.019</td>\n",
       "    </tr>\n",
       "    <tr>\n",
       "      <th>3</th>\n",
       "      <td>5.453</td>\n",
       "      <td>2.887</td>\n",
       "      <td>6.723</td>\n",
       "    </tr>\n",
       "    <tr>\n",
       "      <th>4</th>\n",
       "      <td>4.068</td>\n",
       "      <td>2.758</td>\n",
       "      <td>5.979</td>\n",
       "    </tr>\n",
       "    <tr>\n",
       "      <th>...</th>\n",
       "      <td>...</td>\n",
       "      <td>...</td>\n",
       "      <td>...</td>\n",
       "    </tr>\n",
       "    <tr>\n",
       "      <th>541</th>\n",
       "      <td>3.326</td>\n",
       "      <td>2.837</td>\n",
       "      <td>4.651</td>\n",
       "    </tr>\n",
       "    <tr>\n",
       "      <th>542</th>\n",
       "      <td>3.275</td>\n",
       "      <td>2.727</td>\n",
       "      <td>3.953</td>\n",
       "    </tr>\n",
       "    <tr>\n",
       "      <th>543</th>\n",
       "      <td>5.165</td>\n",
       "      <td>3.111</td>\n",
       "      <td>6.219</td>\n",
       "    </tr>\n",
       "    <tr>\n",
       "      <th>544</th>\n",
       "      <td>2.859</td>\n",
       "      <td>2.614</td>\n",
       "      <td>4.995</td>\n",
       "    </tr>\n",
       "    <tr>\n",
       "      <th>545</th>\n",
       "      <td>2.255</td>\n",
       "      <td>1.800</td>\n",
       "      <td>2.480</td>\n",
       "    </tr>\n",
       "  </tbody>\n",
       "</table>\n",
       "<p>546 rows × 3 columns</p>\n",
       "</div>"
      ],
      "text/plain": [
       "     MLOGP  RDCHI  quantitative response of LC50\n",
       "0    2.419  1.225                          3.740\n",
       "1    2.638  1.401                          4.330\n",
       "2    5.799  2.930                          7.019\n",
       "3    5.453  2.887                          6.723\n",
       "4    4.068  2.758                          5.979\n",
       "..     ...    ...                            ...\n",
       "541  3.326  2.837                          4.651\n",
       "542  3.275  2.727                          3.953\n",
       "543  5.165  3.111                          6.219\n",
       "544  2.859  2.614                          4.995\n",
       "545  2.255  1.800                          2.480\n",
       "\n",
       "[546 rows x 3 columns]"
      ]
     },
     "execution_count": 2,
     "metadata": {},
     "output_type": "execute_result"
    }
   ],
   "source": [
    "df = pd.read_csv('fods_1.csv')\n",
    "df"
   ]
  },
  {
   "cell_type": "code",
   "execution_count": 3,
   "id": "3bed213f",
   "metadata": {
    "scrolled": true
   },
   "outputs": [
    {
     "name": "stdout",
     "output_type": "stream",
     "text": [
      "2.3134926739926738\n",
      "2.4922985347985356\n",
      "4.6584212454212475\n",
      "1.741797285664983\n",
      "0.8110039291512505\n",
      "1.6652150617992907\n",
      "MLOGP                             9.148\n",
      "RDCHI                             6.439\n",
      "quantitative response of LC50    10.047\n",
      "dtype: float64\n",
      " \n",
      "MLOGP                           -6.446\n",
      "RDCHI                            1.000\n",
      "quantitative response of LC50    0.122\n",
      "dtype: float64\n"
     ]
    }
   ],
   "source": [
    "meanX1 = df['MLOGP'].mean()\n",
    "meanX2 = df['RDCHI'].mean()\n",
    "meanY = df['quantitative response of LC50'].mean()\n",
    "stdX1 = df['MLOGP'].std()\n",
    "stdX2 = df['RDCHI'].std()\n",
    "stdY = df['quantitative response of LC50'].std()\n",
    "maxAll = df.max()\n",
    "minAll = df.min()\n",
    "print(meanX1, meanX2, meanY, stdX1, stdX2, stdY, maxAll, \" \", minAll, sep = '\\n')"
   ]
  },
  {
   "cell_type": "code",
   "execution_count": 4,
   "id": "7af77565",
   "metadata": {},
   "outputs": [
    {
     "data": {
      "text/html": [
       "<div>\n",
       "<style scoped>\n",
       "    .dataframe tbody tr th:only-of-type {\n",
       "        vertical-align: middle;\n",
       "    }\n",
       "\n",
       "    .dataframe tbody tr th {\n",
       "        vertical-align: top;\n",
       "    }\n",
       "\n",
       "    .dataframe thead th {\n",
       "        text-align: right;\n",
       "    }\n",
       "</style>\n",
       "<table border=\"1\" class=\"dataframe\">\n",
       "  <thead>\n",
       "    <tr style=\"text-align: right;\">\n",
       "      <th></th>\n",
       "      <th>MLOGP</th>\n",
       "      <th>RDCHI</th>\n",
       "      <th>quantitative response of LC50</th>\n",
       "    </tr>\n",
       "  </thead>\n",
       "  <tbody>\n",
       "    <tr>\n",
       "      <th>0</th>\n",
       "      <td>2.419</td>\n",
       "      <td>1.225</td>\n",
       "      <td>3.740</td>\n",
       "    </tr>\n",
       "    <tr>\n",
       "      <th>1</th>\n",
       "      <td>2.638</td>\n",
       "      <td>1.401</td>\n",
       "      <td>4.330</td>\n",
       "    </tr>\n",
       "    <tr>\n",
       "      <th>2</th>\n",
       "      <td>5.799</td>\n",
       "      <td>2.930</td>\n",
       "      <td>7.019</td>\n",
       "    </tr>\n",
       "    <tr>\n",
       "      <th>3</th>\n",
       "      <td>5.453</td>\n",
       "      <td>2.887</td>\n",
       "      <td>6.723</td>\n",
       "    </tr>\n",
       "    <tr>\n",
       "      <th>4</th>\n",
       "      <td>4.068</td>\n",
       "      <td>2.758</td>\n",
       "      <td>5.979</td>\n",
       "    </tr>\n",
       "    <tr>\n",
       "      <th>...</th>\n",
       "      <td>...</td>\n",
       "      <td>...</td>\n",
       "      <td>...</td>\n",
       "    </tr>\n",
       "    <tr>\n",
       "      <th>541</th>\n",
       "      <td>3.326</td>\n",
       "      <td>2.837</td>\n",
       "      <td>4.651</td>\n",
       "    </tr>\n",
       "    <tr>\n",
       "      <th>542</th>\n",
       "      <td>3.275</td>\n",
       "      <td>2.727</td>\n",
       "      <td>3.953</td>\n",
       "    </tr>\n",
       "    <tr>\n",
       "      <th>543</th>\n",
       "      <td>5.165</td>\n",
       "      <td>3.111</td>\n",
       "      <td>6.219</td>\n",
       "    </tr>\n",
       "    <tr>\n",
       "      <th>544</th>\n",
       "      <td>2.859</td>\n",
       "      <td>2.614</td>\n",
       "      <td>4.995</td>\n",
       "    </tr>\n",
       "    <tr>\n",
       "      <th>545</th>\n",
       "      <td>2.255</td>\n",
       "      <td>1.800</td>\n",
       "      <td>2.480</td>\n",
       "    </tr>\n",
       "  </tbody>\n",
       "</table>\n",
       "<p>546 rows × 3 columns</p>\n",
       "</div>"
      ],
      "text/plain": [
       "     MLOGP  RDCHI  quantitative response of LC50\n",
       "0    2.419  1.225                          3.740\n",
       "1    2.638  1.401                          4.330\n",
       "2    5.799  2.930                          7.019\n",
       "3    5.453  2.887                          6.723\n",
       "4    4.068  2.758                          5.979\n",
       "..     ...    ...                            ...\n",
       "541  3.326  2.837                          4.651\n",
       "542  3.275  2.727                          3.953\n",
       "543  5.165  3.111                          6.219\n",
       "544  2.859  2.614                          4.995\n",
       "545  2.255  1.800                          2.480\n",
       "\n",
       "[546 rows x 3 columns]"
      ]
     },
     "execution_count": 4,
     "metadata": {},
     "output_type": "execute_result"
    }
   ],
   "source": [
    "df1 = df.copy()\n",
    "df1"
   ]
  },
  {
   "cell_type": "code",
   "execution_count": 5,
   "id": "339f5d24",
   "metadata": {},
   "outputs": [
    {
     "data": {
      "text/html": [
       "<div>\n",
       "<style scoped>\n",
       "    .dataframe tbody tr th:only-of-type {\n",
       "        vertical-align: middle;\n",
       "    }\n",
       "\n",
       "    .dataframe tbody tr th {\n",
       "        vertical-align: top;\n",
       "    }\n",
       "\n",
       "    .dataframe thead th {\n",
       "        text-align: right;\n",
       "    }\n",
       "</style>\n",
       "<table border=\"1\" class=\"dataframe\">\n",
       "  <thead>\n",
       "    <tr style=\"text-align: right;\">\n",
       "      <th></th>\n",
       "      <th>MLOGP</th>\n",
       "      <th>RDCHI</th>\n",
       "      <th>quantitative response of LC50</th>\n",
       "    </tr>\n",
       "  </thead>\n",
       "  <tbody>\n",
       "    <tr>\n",
       "      <th>0</th>\n",
       "      <td>0.568488</td>\n",
       "      <td>0.041368</td>\n",
       "      <td>3.740</td>\n",
       "    </tr>\n",
       "    <tr>\n",
       "      <th>1</th>\n",
       "      <td>0.582532</td>\n",
       "      <td>0.073727</td>\n",
       "      <td>4.330</td>\n",
       "    </tr>\n",
       "    <tr>\n",
       "      <th>2</th>\n",
       "      <td>0.785238</td>\n",
       "      <td>0.354845</td>\n",
       "      <td>7.019</td>\n",
       "    </tr>\n",
       "    <tr>\n",
       "      <th>3</th>\n",
       "      <td>0.763050</td>\n",
       "      <td>0.346939</td>\n",
       "      <td>6.723</td>\n",
       "    </tr>\n",
       "    <tr>\n",
       "      <th>4</th>\n",
       "      <td>0.674234</td>\n",
       "      <td>0.323221</td>\n",
       "      <td>5.979</td>\n",
       "    </tr>\n",
       "    <tr>\n",
       "      <th>...</th>\n",
       "      <td>...</td>\n",
       "      <td>...</td>\n",
       "      <td>...</td>\n",
       "    </tr>\n",
       "    <tr>\n",
       "      <th>541</th>\n",
       "      <td>0.626651</td>\n",
       "      <td>0.337746</td>\n",
       "      <td>4.651</td>\n",
       "    </tr>\n",
       "    <tr>\n",
       "      <th>542</th>\n",
       "      <td>0.623381</td>\n",
       "      <td>0.317522</td>\n",
       "      <td>3.953</td>\n",
       "    </tr>\n",
       "    <tr>\n",
       "      <th>543</th>\n",
       "      <td>0.744581</td>\n",
       "      <td>0.388123</td>\n",
       "      <td>6.219</td>\n",
       "    </tr>\n",
       "    <tr>\n",
       "      <th>544</th>\n",
       "      <td>0.596704</td>\n",
       "      <td>0.296746</td>\n",
       "      <td>4.995</td>\n",
       "    </tr>\n",
       "    <tr>\n",
       "      <th>545</th>\n",
       "      <td>0.557971</td>\n",
       "      <td>0.147086</td>\n",
       "      <td>2.480</td>\n",
       "    </tr>\n",
       "  </tbody>\n",
       "</table>\n",
       "<p>546 rows × 3 columns</p>\n",
       "</div>"
      ],
      "text/plain": [
       "        MLOGP     RDCHI  quantitative response of LC50\n",
       "0    0.568488  0.041368                          3.740\n",
       "1    0.582532  0.073727                          4.330\n",
       "2    0.785238  0.354845                          7.019\n",
       "3    0.763050  0.346939                          6.723\n",
       "4    0.674234  0.323221                          5.979\n",
       "..        ...       ...                            ...\n",
       "541  0.626651  0.337746                          4.651\n",
       "542  0.623381  0.317522                          3.953\n",
       "543  0.744581  0.388123                          6.219\n",
       "544  0.596704  0.296746                          4.995\n",
       "545  0.557971  0.147086                          2.480\n",
       "\n",
       "[546 rows x 3 columns]"
      ]
     },
     "execution_count": 5,
     "metadata": {},
     "output_type": "execute_result"
    }
   ],
   "source": [
    "df['MLOGP'] = (df['MLOGP'] - df['MLOGP'].min())/(df['MLOGP'].max() - df['MLOGP'].min())\n",
    "df['RDCHI'] = (df['RDCHI'] - df['RDCHI'].min())/(df['RDCHI'].max() - df['RDCHI'].min())\n",
    "df"
   ]
  },
  {
   "cell_type": "code",
   "execution_count": 6,
   "id": "477b3342",
   "metadata": {},
   "outputs": [
    {
     "name": "stdout",
     "output_type": "stream",
     "text": [
      "MLOGP                             1.000\n",
      "RDCHI                             1.000\n",
      "quantitative response of LC50    10.047\n",
      "dtype: float64\n",
      "MLOGP                            0.000\n",
      "RDCHI                            0.000\n",
      "quantitative response of LC50    0.122\n",
      "dtype: float64\n"
     ]
    },
    {
     "data": {
      "text/html": [
       "<div>\n",
       "<style scoped>\n",
       "    .dataframe tbody tr th:only-of-type {\n",
       "        vertical-align: middle;\n",
       "    }\n",
       "\n",
       "    .dataframe tbody tr th {\n",
       "        vertical-align: top;\n",
       "    }\n",
       "\n",
       "    .dataframe thead th {\n",
       "        text-align: right;\n",
       "    }\n",
       "</style>\n",
       "<table border=\"1\" class=\"dataframe\">\n",
       "  <thead>\n",
       "    <tr style=\"text-align: right;\">\n",
       "      <th></th>\n",
       "      <th>MLOGP</th>\n",
       "      <th>RDCHI</th>\n",
       "      <th>quantitative response of LC50</th>\n",
       "    </tr>\n",
       "  </thead>\n",
       "  <tbody>\n",
       "    <tr>\n",
       "      <th>0</th>\n",
       "      <td>0.568488</td>\n",
       "      <td>0.041368</td>\n",
       "      <td>3.740</td>\n",
       "    </tr>\n",
       "    <tr>\n",
       "      <th>1</th>\n",
       "      <td>0.582532</td>\n",
       "      <td>0.073727</td>\n",
       "      <td>4.330</td>\n",
       "    </tr>\n",
       "    <tr>\n",
       "      <th>2</th>\n",
       "      <td>0.785238</td>\n",
       "      <td>0.354845</td>\n",
       "      <td>7.019</td>\n",
       "    </tr>\n",
       "    <tr>\n",
       "      <th>3</th>\n",
       "      <td>0.763050</td>\n",
       "      <td>0.346939</td>\n",
       "      <td>6.723</td>\n",
       "    </tr>\n",
       "    <tr>\n",
       "      <th>4</th>\n",
       "      <td>0.674234</td>\n",
       "      <td>0.323221</td>\n",
       "      <td>5.979</td>\n",
       "    </tr>\n",
       "    <tr>\n",
       "      <th>...</th>\n",
       "      <td>...</td>\n",
       "      <td>...</td>\n",
       "      <td>...</td>\n",
       "    </tr>\n",
       "    <tr>\n",
       "      <th>541</th>\n",
       "      <td>0.626651</td>\n",
       "      <td>0.337746</td>\n",
       "      <td>4.651</td>\n",
       "    </tr>\n",
       "    <tr>\n",
       "      <th>542</th>\n",
       "      <td>0.623381</td>\n",
       "      <td>0.317522</td>\n",
       "      <td>3.953</td>\n",
       "    </tr>\n",
       "    <tr>\n",
       "      <th>543</th>\n",
       "      <td>0.744581</td>\n",
       "      <td>0.388123</td>\n",
       "      <td>6.219</td>\n",
       "    </tr>\n",
       "    <tr>\n",
       "      <th>544</th>\n",
       "      <td>0.596704</td>\n",
       "      <td>0.296746</td>\n",
       "      <td>4.995</td>\n",
       "    </tr>\n",
       "    <tr>\n",
       "      <th>545</th>\n",
       "      <td>0.557971</td>\n",
       "      <td>0.147086</td>\n",
       "      <td>2.480</td>\n",
       "    </tr>\n",
       "  </tbody>\n",
       "</table>\n",
       "<p>546 rows × 3 columns</p>\n",
       "</div>"
      ],
      "text/plain": [
       "        MLOGP     RDCHI  quantitative response of LC50\n",
       "0    0.568488  0.041368                          3.740\n",
       "1    0.582532  0.073727                          4.330\n",
       "2    0.785238  0.354845                          7.019\n",
       "3    0.763050  0.346939                          6.723\n",
       "4    0.674234  0.323221                          5.979\n",
       "..        ...       ...                            ...\n",
       "541  0.626651  0.337746                          4.651\n",
       "542  0.623381  0.317522                          3.953\n",
       "543  0.744581  0.388123                          6.219\n",
       "544  0.596704  0.296746                          4.995\n",
       "545  0.557971  0.147086                          2.480\n",
       "\n",
       "[546 rows x 3 columns]"
      ]
     },
     "execution_count": 6,
     "metadata": {},
     "output_type": "execute_result"
    }
   ],
   "source": [
    "print(df.max(), df.min(), sep = '\\n')\n",
    "df"
   ]
  },
  {
   "cell_type": "code",
   "execution_count": 7,
   "id": "47c9de65",
   "metadata": {},
   "outputs": [
    {
     "data": {
      "text/plain": [
       "MLOGP                            0\n",
       "RDCHI                            0\n",
       "quantitative response of LC50    0\n",
       "dtype: int64"
      ]
     },
     "execution_count": 7,
     "metadata": {},
     "output_type": "execute_result"
    }
   ],
   "source": [
    "df.isnull().sum()"
   ]
  },
  {
   "cell_type": "code",
   "execution_count": 8,
   "id": "827d288f",
   "metadata": {},
   "outputs": [
    {
     "data": {
      "text/html": [
       "<div>\n",
       "<style scoped>\n",
       "    .dataframe tbody tr th:only-of-type {\n",
       "        vertical-align: middle;\n",
       "    }\n",
       "\n",
       "    .dataframe tbody tr th {\n",
       "        vertical-align: top;\n",
       "    }\n",
       "\n",
       "    .dataframe thead th {\n",
       "        text-align: right;\n",
       "    }\n",
       "</style>\n",
       "<table border=\"1\" class=\"dataframe\">\n",
       "  <thead>\n",
       "    <tr style=\"text-align: right;\">\n",
       "      <th></th>\n",
       "      <th>MLOGP</th>\n",
       "      <th>RDCHI</th>\n",
       "      <th>quantitative response of LC50</th>\n",
       "    </tr>\n",
       "  </thead>\n",
       "  <tbody>\n",
       "    <tr>\n",
       "      <th>70</th>\n",
       "      <td>0.739708</td>\n",
       "      <td>0.376724</td>\n",
       "      <td>6.064</td>\n",
       "    </tr>\n",
       "    <tr>\n",
       "      <th>145</th>\n",
       "      <td>0.383673</td>\n",
       "      <td>0.263651</td>\n",
       "      <td>5.120</td>\n",
       "    </tr>\n",
       "    <tr>\n",
       "      <th>56</th>\n",
       "      <td>0.426318</td>\n",
       "      <td>0.061408</td>\n",
       "      <td>2.815</td>\n",
       "    </tr>\n",
       "    <tr>\n",
       "      <th>81</th>\n",
       "      <td>0.559189</td>\n",
       "      <td>0.211436</td>\n",
       "      <td>3.700</td>\n",
       "    </tr>\n",
       "    <tr>\n",
       "      <th>521</th>\n",
       "      <td>0.625625</td>\n",
       "      <td>0.416805</td>\n",
       "      <td>4.535</td>\n",
       "    </tr>\n",
       "    <tr>\n",
       "      <th>...</th>\n",
       "      <td>...</td>\n",
       "      <td>...</td>\n",
       "      <td>...</td>\n",
       "    </tr>\n",
       "    <tr>\n",
       "      <th>69</th>\n",
       "      <td>0.762216</td>\n",
       "      <td>0.666115</td>\n",
       "      <td>4.850</td>\n",
       "    </tr>\n",
       "    <tr>\n",
       "      <th>28</th>\n",
       "      <td>0.620495</td>\n",
       "      <td>0.299687</td>\n",
       "      <td>4.355</td>\n",
       "    </tr>\n",
       "    <tr>\n",
       "      <th>336</th>\n",
       "      <td>0.449211</td>\n",
       "      <td>0.209046</td>\n",
       "      <td>3.669</td>\n",
       "    </tr>\n",
       "    <tr>\n",
       "      <th>87</th>\n",
       "      <td>0.683147</td>\n",
       "      <td>0.376356</td>\n",
       "      <td>6.240</td>\n",
       "    </tr>\n",
       "    <tr>\n",
       "      <th>133</th>\n",
       "      <td>0.361293</td>\n",
       "      <td>0.271741</td>\n",
       "      <td>7.378</td>\n",
       "    </tr>\n",
       "  </tbody>\n",
       "</table>\n",
       "<p>436 rows × 3 columns</p>\n",
       "</div>"
      ],
      "text/plain": [
       "        MLOGP     RDCHI  quantitative response of LC50\n",
       "70   0.739708  0.376724                          6.064\n",
       "145  0.383673  0.263651                          5.120\n",
       "56   0.426318  0.061408                          2.815\n",
       "81   0.559189  0.211436                          3.700\n",
       "521  0.625625  0.416805                          4.535\n",
       "..        ...       ...                            ...\n",
       "69   0.762216  0.666115                          4.850\n",
       "28   0.620495  0.299687                          4.355\n",
       "336  0.449211  0.209046                          3.669\n",
       "87   0.683147  0.376356                          6.240\n",
       "133  0.361293  0.271741                          7.378\n",
       "\n",
       "[436 rows x 3 columns]"
      ]
     },
     "execution_count": 8,
     "metadata": {},
     "output_type": "execute_result"
    }
   ],
   "source": [
    "train, test = train_test_split(df, test_size=0.2) # this is a random split\n",
    "train"
   ]
  },
  {
   "cell_type": "code",
   "execution_count": 9,
   "id": "f5790539",
   "metadata": {
    "scrolled": false
   },
   "outputs": [
    {
     "data": {
      "text/html": [
       "<div>\n",
       "<style scoped>\n",
       "    .dataframe tbody tr th:only-of-type {\n",
       "        vertical-align: middle;\n",
       "    }\n",
       "\n",
       "    .dataframe tbody tr th {\n",
       "        vertical-align: top;\n",
       "    }\n",
       "\n",
       "    .dataframe thead th {\n",
       "        text-align: right;\n",
       "    }\n",
       "</style>\n",
       "<table border=\"1\" class=\"dataframe\">\n",
       "  <thead>\n",
       "    <tr style=\"text-align: right;\">\n",
       "      <th></th>\n",
       "      <th>MLOGP</th>\n",
       "      <th>RDCHI</th>\n",
       "      <th>quantitative response of LC50</th>\n",
       "    </tr>\n",
       "  </thead>\n",
       "  <tbody>\n",
       "    <tr>\n",
       "      <th>425</th>\n",
       "      <td>0.718610</td>\n",
       "      <td>0.366795</td>\n",
       "      <td>6.027</td>\n",
       "    </tr>\n",
       "    <tr>\n",
       "      <th>488</th>\n",
       "      <td>0.687059</td>\n",
       "      <td>0.397867</td>\n",
       "      <td>7.087</td>\n",
       "    </tr>\n",
       "    <tr>\n",
       "      <th>55</th>\n",
       "      <td>0.463319</td>\n",
       "      <td>0.314212</td>\n",
       "      <td>2.201</td>\n",
       "    </tr>\n",
       "    <tr>\n",
       "      <th>163</th>\n",
       "      <td>0.607413</td>\n",
       "      <td>0.336091</td>\n",
       "      <td>4.339</td>\n",
       "    </tr>\n",
       "    <tr>\n",
       "      <th>127</th>\n",
       "      <td>0.423624</td>\n",
       "      <td>0.128700</td>\n",
       "      <td>1.601</td>\n",
       "    </tr>\n",
       "    <tr>\n",
       "      <th>...</th>\n",
       "      <td>...</td>\n",
       "      <td>...</td>\n",
       "      <td>...</td>\n",
       "    </tr>\n",
       "    <tr>\n",
       "      <th>335</th>\n",
       "      <td>0.395857</td>\n",
       "      <td>0.073727</td>\n",
       "      <td>0.704</td>\n",
       "    </tr>\n",
       "    <tr>\n",
       "      <th>221</th>\n",
       "      <td>0.641529</td>\n",
       "      <td>0.179812</td>\n",
       "      <td>6.720</td>\n",
       "    </tr>\n",
       "    <tr>\n",
       "      <th>462</th>\n",
       "      <td>0.395857</td>\n",
       "      <td>0.106086</td>\n",
       "      <td>3.936</td>\n",
       "    </tr>\n",
       "    <tr>\n",
       "      <th>322</th>\n",
       "      <td>0.638322</td>\n",
       "      <td>0.419379</td>\n",
       "      <td>7.802</td>\n",
       "    </tr>\n",
       "    <tr>\n",
       "      <th>404</th>\n",
       "      <td>0.539631</td>\n",
       "      <td>0.214745</td>\n",
       "      <td>4.489</td>\n",
       "    </tr>\n",
       "  </tbody>\n",
       "</table>\n",
       "<p>110 rows × 3 columns</p>\n",
       "</div>"
      ],
      "text/plain": [
       "        MLOGP     RDCHI  quantitative response of LC50\n",
       "425  0.718610  0.366795                          6.027\n",
       "488  0.687059  0.397867                          7.087\n",
       "55   0.463319  0.314212                          2.201\n",
       "163  0.607413  0.336091                          4.339\n",
       "127  0.423624  0.128700                          1.601\n",
       "..        ...       ...                            ...\n",
       "335  0.395857  0.073727                          0.704\n",
       "221  0.641529  0.179812                          6.720\n",
       "462  0.395857  0.106086                          3.936\n",
       "322  0.638322  0.419379                          7.802\n",
       "404  0.539631  0.214745                          4.489\n",
       "\n",
       "[110 rows x 3 columns]"
      ]
     },
     "execution_count": 9,
     "metadata": {},
     "output_type": "execute_result"
    }
   ],
   "source": [
    "test"
   ]
  },
  {
   "cell_type": "code",
   "execution_count": 10,
   "id": "72fb5c78",
   "metadata": {},
   "outputs": [
    {
     "data": {
      "image/png": "[encoded data removed]",
      "text/plain": [
       "<Figure size 432x288 with 1 Axes>"
      ]
     },
     "metadata": {
      "needs_background": "light"
     },
     "output_type": "display_data"
    }
   ],
   "source": [
    "ax = plt.axes(projection='3d')\n",
    "\n",
    "# Data for three-dimensional scattered points\n",
    "zdata = train[\"quantitative response of LC50\"]\n",
    "xdata = train[\"RDCHI\"]\n",
    "ydata = train[\"MLOGP\"]\n",
    "ax.scatter3D(xdata, ydata, zdata, c=zdata, cmap='Greens');"
   ]
  },
  {
   "cell_type": "code",
   "execution_count": 11,
   "id": "16cf1ca1",
   "metadata": {},
   "outputs": [
    {
     "data": {
      "text/html": [
       "<div>\n",
       "<style scoped>\n",
       "    .dataframe tbody tr th:only-of-type {\n",
       "        vertical-align: middle;\n",
       "    }\n",
       "\n",
       "    .dataframe tbody tr th {\n",
       "        vertical-align: top;\n",
       "    }\n",
       "\n",
       "    .dataframe thead th {\n",
       "        text-align: right;\n",
       "    }\n",
       "</style>\n",
       "<table border=\"1\" class=\"dataframe\">\n",
       "  <thead>\n",
       "    <tr style=\"text-align: right;\">\n",
       "      <th></th>\n",
       "      <th>RDCHI</th>\n",
       "      <th>MLOGP</th>\n",
       "    </tr>\n",
       "  </thead>\n",
       "  <tbody>\n",
       "    <tr>\n",
       "      <th>70</th>\n",
       "      <td>0.376724</td>\n",
       "      <td>0.739708</td>\n",
       "    </tr>\n",
       "    <tr>\n",
       "      <th>145</th>\n",
       "      <td>0.263651</td>\n",
       "      <td>0.383673</td>\n",
       "    </tr>\n",
       "    <tr>\n",
       "      <th>56</th>\n",
       "      <td>0.061408</td>\n",
       "      <td>0.426318</td>\n",
       "    </tr>\n",
       "    <tr>\n",
       "      <th>81</th>\n",
       "      <td>0.211436</td>\n",
       "      <td>0.559189</td>\n",
       "    </tr>\n",
       "    <tr>\n",
       "      <th>521</th>\n",
       "      <td>0.416805</td>\n",
       "      <td>0.625625</td>\n",
       "    </tr>\n",
       "    <tr>\n",
       "      <th>...</th>\n",
       "      <td>...</td>\n",
       "      <td>...</td>\n",
       "    </tr>\n",
       "    <tr>\n",
       "      <th>69</th>\n",
       "      <td>0.666115</td>\n",
       "      <td>0.762216</td>\n",
       "    </tr>\n",
       "    <tr>\n",
       "      <th>28</th>\n",
       "      <td>0.299687</td>\n",
       "      <td>0.620495</td>\n",
       "    </tr>\n",
       "    <tr>\n",
       "      <th>336</th>\n",
       "      <td>0.209046</td>\n",
       "      <td>0.449211</td>\n",
       "    </tr>\n",
       "    <tr>\n",
       "      <th>87</th>\n",
       "      <td>0.376356</td>\n",
       "      <td>0.683147</td>\n",
       "    </tr>\n",
       "    <tr>\n",
       "      <th>133</th>\n",
       "      <td>0.271741</td>\n",
       "      <td>0.361293</td>\n",
       "    </tr>\n",
       "  </tbody>\n",
       "</table>\n",
       "<p>436 rows × 2 columns</p>\n",
       "</div>"
      ],
      "text/plain": [
       "        RDCHI     MLOGP\n",
       "70   0.376724  0.739708\n",
       "145  0.263651  0.383673\n",
       "56   0.061408  0.426318\n",
       "81   0.211436  0.559189\n",
       "521  0.416805  0.625625\n",
       "..        ...       ...\n",
       "69   0.666115  0.762216\n",
       "28   0.299687  0.620495\n",
       "336  0.209046  0.449211\n",
       "87   0.376356  0.683147\n",
       "133  0.271741  0.361293\n",
       "\n",
       "[436 rows x 2 columns]"
      ]
     },
     "execution_count": 11,
     "metadata": {},
     "output_type": "execute_result"
    }
   ],
   "source": [
    "dataF = pd.DataFrame(train[[\"RDCHI\", \"MLOGP\"]])\n",
    "dataF"
   ]
  },
  {
   "cell_type": "code",
   "execution_count": 12,
   "id": "d79abd31",
   "metadata": {},
   "outputs": [
    {
     "data": {
      "text/html": [
       "<div>\n",
       "<style scoped>\n",
       "    .dataframe tbody tr th:only-of-type {\n",
       "        vertical-align: middle;\n",
       "    }\n",
       "\n",
       "    .dataframe tbody tr th {\n",
       "        vertical-align: top;\n",
       "    }\n",
       "\n",
       "    .dataframe thead th {\n",
       "        text-align: right;\n",
       "    }\n",
       "</style>\n",
       "<table border=\"1\" class=\"dataframe\">\n",
       "  <thead>\n",
       "    <tr style=\"text-align: right;\">\n",
       "      <th></th>\n",
       "      <th>quantitative response of LC50</th>\n",
       "    </tr>\n",
       "  </thead>\n",
       "  <tbody>\n",
       "    <tr>\n",
       "      <th>70</th>\n",
       "      <td>6.064</td>\n",
       "    </tr>\n",
       "    <tr>\n",
       "      <th>145</th>\n",
       "      <td>5.120</td>\n",
       "    </tr>\n",
       "    <tr>\n",
       "      <th>56</th>\n",
       "      <td>2.815</td>\n",
       "    </tr>\n",
       "    <tr>\n",
       "      <th>81</th>\n",
       "      <td>3.700</td>\n",
       "    </tr>\n",
       "    <tr>\n",
       "      <th>521</th>\n",
       "      <td>4.535</td>\n",
       "    </tr>\n",
       "    <tr>\n",
       "      <th>...</th>\n",
       "      <td>...</td>\n",
       "    </tr>\n",
       "    <tr>\n",
       "      <th>69</th>\n",
       "      <td>4.850</td>\n",
       "    </tr>\n",
       "    <tr>\n",
       "      <th>28</th>\n",
       "      <td>4.355</td>\n",
       "    </tr>\n",
       "    <tr>\n",
       "      <th>336</th>\n",
       "      <td>3.669</td>\n",
       "    </tr>\n",
       "    <tr>\n",
       "      <th>87</th>\n",
       "      <td>6.240</td>\n",
       "    </tr>\n",
       "    <tr>\n",
       "      <th>133</th>\n",
       "      <td>7.378</td>\n",
       "    </tr>\n",
       "  </tbody>\n",
       "</table>\n",
       "<p>436 rows × 1 columns</p>\n",
       "</div>"
      ],
      "text/plain": [
       "     quantitative response of LC50\n",
       "70                           6.064\n",
       "145                          5.120\n",
       "56                           2.815\n",
       "81                           3.700\n",
       "521                          4.535\n",
       "..                             ...\n",
       "69                           4.850\n",
       "28                           4.355\n",
       "336                          3.669\n",
       "87                           6.240\n",
       "133                          7.378\n",
       "\n",
       "[436 rows x 1 columns]"
      ]
     },
     "execution_count": 12,
     "metadata": {},
     "output_type": "execute_result"
    }
   ],
   "source": [
    "targetF = pd.DataFrame(train[\"quantitative response of LC50\"])\n",
    "targetF"
   ]
  },
  {
   "cell_type": "code",
   "execution_count": 13,
   "id": "b4d519d5",
   "metadata": {
    "scrolled": false
   },
   "outputs": [
    {
     "name": "stdout",
     "output_type": "stream",
     "text": [
      "(436, 1)\n",
      "(436, 55)\n",
      "0.37672366243794814\n"
     ]
    }
   ],
   "source": [
    "# Value order to be followed: x1,x2, x1^2,x1x2,x2^2, x1^3,x1^2x2,x1x2^2,x2^3.... meant for all degrees of gradient descent\n",
    "valX = dataF[dataF.columns[:]].to_numpy()\n",
    "valX1 = valX[:,0]**2 ##------------------------------------------------------------------------------------------------x1^2\n",
    "valX = np.append(valX, np.column_stack([valX1]), axis = 1)\n",
    "valX1 = valX[:,0]*valX[:,1] #------------------------------------------------------------------------------------------x1x2\n",
    "valX = np.append(valX, np.column_stack([valX1]), axis = 1)\n",
    "valX1 = valX[:,1]**2 ##------------------------------------------------------------------------------------------------x2^2\n",
    "valX = np.append(valX, np.column_stack([valX1]), axis = 1)\n",
    "\n",
    "valX1 = valX[:,0]**3 ##------------------------------------------------------------------------------------------------x1^3\n",
    "valX = np.append(valX, np.column_stack([valX1]), axis = 1)\n",
    "valX1 = (valX[:,0]**2)*(valX[:,1]) ##----------------------------------------------------------------------------------x1^2x2\n",
    "valX = np.append(valX, np.column_stack([valX1]), axis = 1)\n",
    "valX1 = (valX[:,0])*(valX[:,1]**2) ##----------------------------------------------------------------------------------x1x2^2\n",
    "valX = np.append(valX, np.column_stack([valX1]), axis = 1)\n",
    "valX1 = valX[:,1]**3 #-------------------------------------------------------------------------------------------------x2^3\n",
    "valX = np.append(valX, np.column_stack([valX1]), axis = 1)\n",
    "\n",
    "valX1 = valX[:,0]**4 #-------------------------------------------------------------------------------------------------x1^4\n",
    "valX = np.append(valX, np.column_stack([valX1]), axis = 1)\n",
    "valX1 = (valX[:,0]**3)*(valX[:,1]) #-----------------------------------------------------------------------------------x1^3x2\n",
    "valX = np.append(valX, np.column_stack([valX1]), axis = 1)\n",
    "valX1 = (valX[:,0]**2)*(valX[:,1]**2) #--------------------------------------------------------------------------------x1^2x2^2\n",
    "valX = np.append(valX, np.column_stack([valX1]), axis = 1)\n",
    "valX1 = (valX[:,0])*(valX[:,1]**3) #-----------------------------------------------------------------------------------x1x2^3\n",
    "valX = np.append(valX, np.column_stack([valX1]), axis = 1)\n",
    "valX1 = valX[:,1]**4 #-------------------------------------------------------------------------------------------------x2^4\n",
    "valX = np.append(valX, np.column_stack([valX1]), axis = 1)\n",
    "\n",
    "valX1 = valX[:,0]**5 #-------------------------------------------------------------------------------------------------x1^5\n",
    "valX = np.append(valX, np.column_stack([valX1]), axis = 1)\n",
    "valX1 = (valX[:,0]**4)*(valX[:,1]) #-----------------------------------------------------------------------------------x1^4x2\n",
    "valX = np.append(valX, np.column_stack([valX1]), axis = 1)\n",
    "valX1 = (valX[:,0]**3)*(valX[:,1]**2) #--------------------------------------------------------------------------------x1^3x2^2\n",
    "valX = np.append(valX, np.column_stack([valX1]), axis = 1)\n",
    "valX1 = (valX[:,0]**2)*(valX[:,1]**3) #--------------------------------------------------------------------------------x1^2x2^3\n",
    "valX = np.append(valX, np.column_stack([valX1]), axis = 1)\n",
    "valX1 = (valX[:,0])*(valX[:,1]**4) #-----------------------------------------------------------------------------------x1x2^4\n",
    "valX = np.append(valX, np.column_stack([valX1]), axis = 1)\n",
    "valX1 = valX[:,1]**5 #-------------------------------------------------------------------------------------------------x2^5\n",
    "valX = np.append(valX, np.column_stack([valX1]), axis = 1)\n",
    "\n",
    "valX1 = valX[:,0]**6 #-------------------------------------------------------------------------------------------------x1^6\n",
    "valX = np.append(valX, np.column_stack([valX1]), axis = 1)\n",
    "valX1 = (valX[:,0]**5)*(valX[:,1]) #-----------------------------------------------------------------------------------x1^5x2\n",
    "valX = np.append(valX, np.column_stack([valX1]), axis = 1)\n",
    "valX1 = (valX[:,0]**4)*(valX[:,1]**2) #--------------------------------------------------------------------------------x1^4x2^2\n",
    "valX = np.append(valX, np.column_stack([valX1]), axis = 1)\n",
    "valX1 = (valX[:,0]**3)*(valX[:,1]**3) #--------------------------------------------------------------------------------x1^3x2^3\n",
    "valX = np.append(valX, np.column_stack([valX1]), axis = 1)\n",
    "valX1 = (valX[:,0]**2)*(valX[:,1]**4) #--------------------------------------------------------------------------------x1^2x2^4\n",
    "valX = np.append(valX, np.column_stack([valX1]), axis = 1)\n",
    "valX1 = (valX[:,0])*(valX[:,1]**5) #-----------------------------------------------------------------------------------x1x2^4\n",
    "valX = np.append(valX, np.column_stack([valX1]), axis = 1)\n",
    "valX1 = valX[:,1]**6 #-------------------------------------------------------------------------------------------------x2^6\n",
    "valX = np.append(valX, np.column_stack([valX1]), axis = 1)\n",
    "\n",
    "valX1 = valX[:,0]**7 #-------------------------------------------------------------------------------------------------x1^7\n",
    "valX = np.append(valX, np.column_stack([valX1]), axis = 1)\n",
    "valX1 = (valX[:,0]**6)*(valX[:,1]) #-----------------------------------------------------------------------------------x1^6x2\n",
    "valX = np.append(valX, np.column_stack([valX1]), axis = 1)\n",
    "valX1 = (valX[:,0]**5)*(valX[:,1]**2) #--------------------------------------------------------------------------------x1^5x2^2\n",
    "valX = np.append(valX, np.column_stack([valX1]), axis = 1)\n",
    "valX1 = (valX[:,0]**4)*(valX[:,1]**3) #--------------------------------------------------------------------------------x1^4x2^3\n",
    "valX = np.append(valX, np.column_stack([valX1]), axis = 1)\n",
    "valX1 = (valX[:,0]**3)*(valX[:,1]**4) #--------------------------------------------------------------------------------x1^3x2^4\n",
    "valX = np.append(valX, np.column_stack([valX1]), axis = 1)\n",
    "valX1 = (valX[:,0]**2)*(valX[:,1]**5) #--------------------------------------------------------------------------------x1^2x2^5\n",
    "valX = np.append(valX, np.column_stack([valX1]), axis = 1)\n",
    "valX1 = (valX[:,0])*(valX[:,1]**6) #-----------------------------------------------------------------------------------x1x2^6\n",
    "valX = np.append(valX, np.column_stack([valX1]), axis = 1)\n",
    "valX1 = valX[:,1]**7 #-------------------------------------------------------------------------------------------------x2^7\n",
    "valX = np.append(valX, np.column_stack([valX1]), axis = 1)\n",
    "\n",
    "\n",
    "valX1 = valX[:,0]**8 #-------------------------------------------------------------------------------------------------x1^8\n",
    "valX = np.append(valX, np.column_stack([valX1]), axis = 1)\n",
    "valX1 = (valX[:,0]**7)*(valX[:,1]) #-----------------------------------------------------------------------------------x1^7x2\n",
    "valX = np.append(valX, np.column_stack([valX1]), axis = 1)\n",
    "valX1 = (valX[:,0]**6)*(valX[:,1]**2) #--------------------------------------------------------------------------------x1^6x2^2\n",
    "valX = np.append(valX, np.column_stack([valX1]), axis = 1)\n",
    "valX1 = (valX[:,0]**5)*(valX[:,1]**3) #--------------------------------------------------------------------------------x1^5x2^3\n",
    "valX = np.append(valX, np.column_stack([valX1]), axis = 1)\n",
    "valX1 = (valX[:,0]**4)*(valX[:,1]**4) #--------------------------------------------------------------------------------x1^4x2^4\n",
    "valX = np.append(valX, np.column_stack([valX1]), axis = 1)\n",
    "valX1 = (valX[:,0]**3)*(valX[:,1]**5) #--------------------------------------------------------------------------------x1^3x2^5\n",
    "valX = np.append(valX, np.column_stack([valX1]), axis = 1)\n",
    "valX1 = (valX[:,0]**2)*(valX[:,1]**6) #--------------------------------------------------------------------------------x1^2x2^6\n",
    "valX = np.append(valX, np.column_stack([valX1]), axis = 1)\n",
    "valX1 = (valX[:,0])*(valX[:,1]**7) #-----------------------------------------------------------------------------------x1x2^7\n",
    "valX = np.append(valX, np.column_stack([valX1]), axis = 1)\n",
    "valX1 = valX[:,1]**8 #-------------------------------------------------------------------------------------------------x2^8\n",
    "valX = np.append(valX, np.column_stack([valX1]), axis = 1)\n",
    "\n",
    "valX1 = valX[:,0]**9 #-------------------------------------------------------------------------------------------------x1^9\n",
    "valX = np.append(valX, np.column_stack([valX1]), axis = 1)\n",
    "valX1 = (valX[:,0]**8)*(valX[:,1]) #-----------------------------------------------------------------------------------x1^8x2\n",
    "valX = np.append(valX, np.column_stack([valX1]), axis = 1)\n",
    "valX1 = (valX[:,0]**7)*(valX[:,1]**2) #--------------------------------------------------------------------------------x1^7x2^2\n",
    "valX = np.append(valX, np.column_stack([valX1]), axis = 1)\n",
    "valX1 = (valX[:,0]**6)*(valX[:,1]**3) #--------------------------------------------------------------------------------x1^6x2^3\n",
    "valX = np.append(valX, np.column_stack([valX1]), axis = 1)\n",
    "valX1 = (valX[:,0]**5)*(valX[:,1]**4) #--------------------------------------------------------------------------------x1^5x2^4\n",
    "valX = np.append(valX, np.column_stack([valX1]), axis = 1)\n",
    "valX1 = (valX[:,0]**4)*(valX[:,1]**5) #--------------------------------------------------------------------------------x1^4x2^5\n",
    "valX = np.append(valX, np.column_stack([valX1]), axis = 1)\n",
    "valX1 = (valX[:,0]**3)*(valX[:,1]**6) #--------------------------------------------------------------------------------x1^3x2^6\n",
    "valX = np.append(valX, np.column_stack([valX1]), axis = 1)\n",
    "valX1 = (valX[:,0]**2)*(valX[:,1]**7) #--------------------------------------------------------------------------------x1^3x2^6\n",
    "valX = np.append(valX, np.column_stack([valX1]), axis = 1)\n",
    "valX1 = (valX[:,0])*(valX[:,1]**8) #-----------------------------------------------------------------------------------x1x2^8\n",
    "valX = np.append(valX, np.column_stack([valX1]), axis = 1)\n",
    "valX1 = valX[:,1]**9 #-------------------------------------------------------------------------------------------------x2^9\n",
    "valX = np.append(valX, np.column_stack([valX1]), axis = 1)\n",
    "\n",
    "valX = np.append(np.ones((436,1)), valX, axis=1)\n",
    "\n",
    "valY = targetF[targetF.columns[:]].to_numpy()\n",
    "print(np.shape(valY))\n",
    "print(np.shape(valX))\n",
    "# valX is the nd array of target values and their exponents, valY is the respective Yn for every x1n and x2n\n",
    "\n",
    "print(valX[0,1])\n"
   ]
  },
  {
   "cell_type": "code",
   "execution_count": 14,
   "id": "cbb0e298",
   "metadata": {},
   "outputs": [
    {
     "data": {
      "text/html": [
       "<div>\n",
       "<style scoped>\n",
       "    .dataframe tbody tr th:only-of-type {\n",
       "        vertical-align: middle;\n",
       "    }\n",
       "\n",
       "    .dataframe tbody tr th {\n",
       "        vertical-align: top;\n",
       "    }\n",
       "\n",
       "    .dataframe thead th {\n",
       "        text-align: right;\n",
       "    }\n",
       "</style>\n",
       "<table border=\"1\" class=\"dataframe\">\n",
       "  <thead>\n",
       "    <tr style=\"text-align: right;\">\n",
       "      <th></th>\n",
       "      <th>RDCHI</th>\n",
       "      <th>MLOGP</th>\n",
       "    </tr>\n",
       "  </thead>\n",
       "  <tbody>\n",
       "    <tr>\n",
       "      <th>425</th>\n",
       "      <td>0.366795</td>\n",
       "      <td>0.718610</td>\n",
       "    </tr>\n",
       "    <tr>\n",
       "      <th>488</th>\n",
       "      <td>0.397867</td>\n",
       "      <td>0.687059</td>\n",
       "    </tr>\n",
       "    <tr>\n",
       "      <th>55</th>\n",
       "      <td>0.314212</td>\n",
       "      <td>0.463319</td>\n",
       "    </tr>\n",
       "    <tr>\n",
       "      <th>163</th>\n",
       "      <td>0.336091</td>\n",
       "      <td>0.607413</td>\n",
       "    </tr>\n",
       "    <tr>\n",
       "      <th>127</th>\n",
       "      <td>0.128700</td>\n",
       "      <td>0.423624</td>\n",
       "    </tr>\n",
       "    <tr>\n",
       "      <th>...</th>\n",
       "      <td>...</td>\n",
       "      <td>...</td>\n",
       "    </tr>\n",
       "    <tr>\n",
       "      <th>335</th>\n",
       "      <td>0.073727</td>\n",
       "      <td>0.395857</td>\n",
       "    </tr>\n",
       "    <tr>\n",
       "      <th>221</th>\n",
       "      <td>0.179812</td>\n",
       "      <td>0.641529</td>\n",
       "    </tr>\n",
       "    <tr>\n",
       "      <th>462</th>\n",
       "      <td>0.106086</td>\n",
       "      <td>0.395857</td>\n",
       "    </tr>\n",
       "    <tr>\n",
       "      <th>322</th>\n",
       "      <td>0.419379</td>\n",
       "      <td>0.638322</td>\n",
       "    </tr>\n",
       "    <tr>\n",
       "      <th>404</th>\n",
       "      <td>0.214745</td>\n",
       "      <td>0.539631</td>\n",
       "    </tr>\n",
       "  </tbody>\n",
       "</table>\n",
       "<p>110 rows × 2 columns</p>\n",
       "</div>"
      ],
      "text/plain": [
       "        RDCHI     MLOGP\n",
       "425  0.366795  0.718610\n",
       "488  0.397867  0.687059\n",
       "55   0.314212  0.463319\n",
       "163  0.336091  0.607413\n",
       "127  0.128700  0.423624\n",
       "..        ...       ...\n",
       "335  0.073727  0.395857\n",
       "221  0.179812  0.641529\n",
       "462  0.106086  0.395857\n",
       "322  0.419379  0.638322\n",
       "404  0.214745  0.539631\n",
       "\n",
       "[110 rows x 2 columns]"
      ]
     },
     "execution_count": 14,
     "metadata": {},
     "output_type": "execute_result"
    }
   ],
   "source": [
    "testX = pd.DataFrame(test[[\"RDCHI\", \"MLOGP\"]])\n",
    "testY = pd.DataFrame(test['quantitative response of LC50'])\n",
    "testX"
   ]
  },
  {
   "cell_type": "code",
   "execution_count": 15,
   "id": "3c103a6f",
   "metadata": {},
   "outputs": [
    {
     "data": {
      "text/html": [
       "<div>\n",
       "<style scoped>\n",
       "    .dataframe tbody tr th:only-of-type {\n",
       "        vertical-align: middle;\n",
       "    }\n",
       "\n",
       "    .dataframe tbody tr th {\n",
       "        vertical-align: top;\n",
       "    }\n",
       "\n",
       "    .dataframe thead th {\n",
       "        text-align: right;\n",
       "    }\n",
       "</style>\n",
       "<table border=\"1\" class=\"dataframe\">\n",
       "  <thead>\n",
       "    <tr style=\"text-align: right;\">\n",
       "      <th></th>\n",
       "      <th>quantitative response of LC50</th>\n",
       "    </tr>\n",
       "  </thead>\n",
       "  <tbody>\n",
       "    <tr>\n",
       "      <th>425</th>\n",
       "      <td>6.027</td>\n",
       "    </tr>\n",
       "    <tr>\n",
       "      <th>488</th>\n",
       "      <td>7.087</td>\n",
       "    </tr>\n",
       "    <tr>\n",
       "      <th>55</th>\n",
       "      <td>2.201</td>\n",
       "    </tr>\n",
       "    <tr>\n",
       "      <th>163</th>\n",
       "      <td>4.339</td>\n",
       "    </tr>\n",
       "    <tr>\n",
       "      <th>127</th>\n",
       "      <td>1.601</td>\n",
       "    </tr>\n",
       "    <tr>\n",
       "      <th>...</th>\n",
       "      <td>...</td>\n",
       "    </tr>\n",
       "    <tr>\n",
       "      <th>335</th>\n",
       "      <td>0.704</td>\n",
       "    </tr>\n",
       "    <tr>\n",
       "      <th>221</th>\n",
       "      <td>6.720</td>\n",
       "    </tr>\n",
       "    <tr>\n",
       "      <th>462</th>\n",
       "      <td>3.936</td>\n",
       "    </tr>\n",
       "    <tr>\n",
       "      <th>322</th>\n",
       "      <td>7.802</td>\n",
       "    </tr>\n",
       "    <tr>\n",
       "      <th>404</th>\n",
       "      <td>4.489</td>\n",
       "    </tr>\n",
       "  </tbody>\n",
       "</table>\n",
       "<p>110 rows × 1 columns</p>\n",
       "</div>"
      ],
      "text/plain": [
       "     quantitative response of LC50\n",
       "425                          6.027\n",
       "488                          7.087\n",
       "55                           2.201\n",
       "163                          4.339\n",
       "127                          1.601\n",
       "..                             ...\n",
       "335                          0.704\n",
       "221                          6.720\n",
       "462                          3.936\n",
       "322                          7.802\n",
       "404                          4.489\n",
       "\n",
       "[110 rows x 1 columns]"
      ]
     },
     "execution_count": 15,
     "metadata": {},
     "output_type": "execute_result"
    }
   ],
   "source": [
    "testY"
   ]
  },
  {
   "cell_type": "code",
   "execution_count": 16,
   "id": "0ac60508",
   "metadata": {},
   "outputs": [
    {
     "name": "stdout",
     "output_type": "stream",
     "text": [
      "(110, 1)\n",
      "(110, 55)\n",
      "0.3667953667953668\n"
     ]
    }
   ],
   "source": [
    "# Value order to be followed: x1,x2, x1^2,x1x2,x2^2, x1^3,x1^2x2,x1x2^2,x2^3.... meant for all degrees to make measure errors\n",
    "testXVal = testX[testX.columns[:]].to_numpy()\n",
    "testXVal1 = testXVal[:,0]**2 ##-----------------------------------------------------------------------------------------x1^2\n",
    "testXVal = np.append(testXVal, np.column_stack([testXVal1]), axis = 1)\n",
    "testXVal1 = testXVal[:,0]*testXVal[:,1] #-------------------------------------------------------------------------------x1x2\n",
    "testXVal = np.append(testXVal, np.column_stack([testXVal1]), axis = 1)\n",
    "testXVal1 = testXVal[:,1]**2 ##-----------------------------------------------------------------------------------------x2^2\n",
    "testXVal = np.append(testXVal, np.column_stack([testXVal1]), axis = 1)\n",
    "\n",
    "testXVal1 = testXVal[:,0]**3 ##-----------------------------------------------------------------------------------------x1^3\n",
    "testXVal = np.append(testXVal, np.column_stack([testXVal1]), axis = 1)\n",
    "testXVal1 = (testXVal[:,0]**2)*(testXVal[:,1]) ##-----------------------------------------------------------------------x1^2x2\n",
    "testXVal = np.append(testXVal, np.column_stack([testXVal1]), axis = 1)\n",
    "testXVal1 = (testXVal[:,0])*(testXVal[:,1]**2) ##-----------------------------------------------------------------------x1x2^2\n",
    "testXVal = np.append(testXVal, np.column_stack([testXVal1]), axis = 1)\n",
    "testXVal1 = testXVal[:,1]**3 #------------------------------------------------------------------------------------------x2^3\n",
    "testXVal = np.append(testXVal, np.column_stack([testXVal1]), axis = 1)\n",
    "\n",
    "testXVal1 = testXVal[:,0]**4 #------------------------------------------------------------------------------------------x1^4\n",
    "testXVal = np.append(testXVal, np.column_stack([testXVal1]), axis = 1)\n",
    "testXVal1 = (testXVal[:,0]**3)*(testXVal[:,1]) #------------------------------------------------------------------------x1^3x2\n",
    "testXVal = np.append(testXVal, np.column_stack([testXVal1]), axis = 1)\n",
    "testXVal1 = (testXVal[:,0]**2)*(testXVal[:,1]**2) #---------------------------------------------------------------------x1^2x2^2\n",
    "testXVal = np.append(testXVal, np.column_stack([testXVal1]), axis = 1)\n",
    "testXVal1 = (testXVal[:,0])*(testXVal[:,1]**3) #------------------------------------------------------------------------x1x2^3\n",
    "testXVal = np.append(testXVal, np.column_stack([testXVal1]), axis = 1)\n",
    "testXVal1 = testXVal[:,1]**4 #------------------------------------------------------------------------------------------x2^4\n",
    "testXVal = np.append(testXVal, np.column_stack([testXVal1]), axis = 1)\n",
    "\n",
    "testXVal1 = testXVal[:,0]**5 #------------------------------------------------------------------------------------------x1^5\n",
    "testXVal = np.append(testXVal, np.column_stack([testXVal1]), axis = 1)\n",
    "testXVal1 = (testXVal[:,0]**4)*(testXVal[:,1]) #------------------------------------------------------------------------x1^4x2\n",
    "testXVal = np.append(testXVal, np.column_stack([testXVal1]), axis = 1)\n",
    "testXVal1 = (testXVal[:,0]**3)*(testXVal[:,1]**2) #---------------------------------------------------------------------x1^3x2^2\n",
    "testXVal = np.append(testXVal, np.column_stack([testXVal1]), axis = 1)\n",
    "testXVal1 = (testXVal[:,0]**2)*(testXVal[:,1]**3) #---------------------------------------------------------------------x1^2x2^3\n",
    "testXVal = np.append(testXVal, np.column_stack([testXVal1]), axis = 1)\n",
    "testXVal1 = (testXVal[:,0])*(testXVal[:,1]**4) #------------------------------------------------------------------------x1x2^4\n",
    "testXVal = np.append(testXVal, np.column_stack([testXVal1]), axis = 1)\n",
    "testXVal1 = testXVal[:,1]**5 #------------------------------------------------------------------------------------------x2^5\n",
    "testXVal = np.append(testXVal, np.column_stack([testXVal1]), axis = 1)\n",
    "\n",
    "testXVal1 = testXVal[:,0]**6 #------------------------------------------------------------------------------------------x1^6\n",
    "testXVal = np.append(testXVal, np.column_stack([testXVal1]), axis = 1)\n",
    "testXVal1 = (testXVal[:,0]**5)*(testXVal[:,1]) #------------------------------------------------------------------------x1^5x2\n",
    "testXVal = np.append(testXVal, np.column_stack([testXVal1]), axis = 1)\n",
    "testXVal1 = (testXVal[:,0]**4)*(testXVal[:,1]**2) #---------------------------------------------------------------------x1^4x2^2\n",
    "testXVal = np.append(testXVal, np.column_stack([testXVal1]), axis = 1)\n",
    "testXVal1 = (testXVal[:,0]**3)*(testXVal[:,1]**3) #---------------------------------------------------------------------x1^3x2^3\n",
    "testXVal = np.append(testXVal, np.column_stack([testXVal1]), axis = 1)\n",
    "testXVal1 = (testXVal[:,0]**2)*(testXVal[:,1]**4) #---------------------------------------------------------------------x1^2x2^4\n",
    "testXVal = np.append(testXVal, np.column_stack([testXVal1]), axis = 1)\n",
    "testXVal1 = (testXVal[:,0])*(testXVal[:,1]**5) #------------------------------------------------------------------------x1x2^4\n",
    "testXVal = np.append(testXVal, np.column_stack([testXVal1]), axis = 1)\n",
    "testXVal1 = testXVal[:,1]**6 #------------------------------------------------------------------------------------------x2^6\n",
    "testXVal = np.append(testXVal, np.column_stack([testXVal1]), axis = 1)\n",
    "\n",
    "testXVal1 = testXVal[:,0]**7 #------------------------------------------------------------------------------------------x1^7\n",
    "testXVal = np.append(testXVal, np.column_stack([testXVal1]), axis = 1)\n",
    "testXVal1 = (testXVal[:,0]**6)*(testXVal[:,1]) #------------------------------------------------------------------------x1^6x2\n",
    "testXVal = np.append(testXVal, np.column_stack([testXVal1]), axis = 1)\n",
    "testXVal1 = (testXVal[:,0]**5)*(testXVal[:,1]**2) #---------------------------------------------------------------------x1^5x2^2\n",
    "testXVal = np.append(testXVal, np.column_stack([testXVal1]), axis = 1)\n",
    "testXVal1 = (testXVal[:,0]**4)*(testXVal[:,1]**3) #---------------------------------------------------------------------x1^4x2^3\n",
    "testXVal = np.append(testXVal, np.column_stack([testXVal1]), axis = 1)\n",
    "testXVal1 = (testXVal[:,0]**3)*(testXVal[:,1]**4) #---------------------------------------------------------------------x1^3x2^4\n",
    "testXVal = np.append(testXVal, np.column_stack([testXVal1]), axis = 1)\n",
    "testXVal1 = (testXVal[:,0]**2)*(testXVal[:,1]**5) #---------------------------------------------------------------------x1^2x2^5\n",
    "testXVal = np.append(testXVal, np.column_stack([testXVal1]), axis = 1)\n",
    "testXVal1 = (testXVal[:,0])*(testXVal[:,1]**6) #------------------------------------------------------------------------x1x2^6\n",
    "testXVal = np.append(testXVal, np.column_stack([testXVal1]), axis = 1)\n",
    "testXVal1 = testXVal[:,1]**7 #------------------------------------------------------------------------------------------x2^7\n",
    "testXVal = np.append(testXVal, np.column_stack([testXVal1]), axis = 1)\n",
    "\n",
    "\n",
    "testXVal1 = testXVal[:,0]**8 #------------------------------------------------------------------------------------------x1^8\n",
    "testXVal = np.append(testXVal, np.column_stack([testXVal1]), axis = 1)\n",
    "testXVal1 = (testXVal[:,0]**7)*(testXVal[:,1]) #------------------------------------------------------------------------x1^7x2\n",
    "testXVal = np.append(testXVal, np.column_stack([testXVal1]), axis = 1)\n",
    "testXVal1 = (testXVal[:,0]**6)*(testXVal[:,1]**2) #---------------------------------------------------------------------x1^6x2^2\n",
    "testXVal = np.append(testXVal, np.column_stack([testXVal1]), axis = 1)\n",
    "testXVal1 = (testXVal[:,0]**5)*(testXVal[:,1]**3) #---------------------------------------------------------------------x1^5x2^3\n",
    "testXVal = np.append(testXVal, np.column_stack([testXVal1]), axis = 1)\n",
    "testXVal1 = (testXVal[:,0]**4)*(testXVal[:,1]**4) #---------------------------------------------------------------------x1^4x2^4\n",
    "testXVal = np.append(testXVal, np.column_stack([testXVal1]), axis = 1)\n",
    "testXVal1 = (testXVal[:,0]**3)*(testXVal[:,1]**5) #---------------------------------------------------------------------x1^3x2^5\n",
    "testXVal = np.append(testXVal, np.column_stack([testXVal1]), axis = 1)\n",
    "testXVal1 = (testXVal[:,0]**2)*(testXVal[:,1]**6) #---------------------------------------------------------------------x1^2x2^6\n",
    "testXVal = np.append(testXVal, np.column_stack([testXVal1]), axis = 1)\n",
    "testXVal1 = (testXVal[:,0])*(testXVal[:,1]**7) #------------------------------------------------------------------------x1x2^7\n",
    "testXVal = np.append(testXVal, np.column_stack([testXVal1]), axis = 1)\n",
    "testXVal1 = testXVal[:,1]**8 #------------------------------------------------------------------------------------------x2^8\n",
    "testXVal = np.append(testXVal, np.column_stack([testXVal1]), axis = 1)\n",
    "\n",
    "testXVal1 = testXVal[:,0]**9 #------------------------------------------------------------------------------------------x1^9\n",
    "testXVal = np.append(testXVal, np.column_stack([testXVal1]), axis = 1)\n",
    "testXVal1 = (testXVal[:,0]**8)*(testXVal[:,1]) #------------------------------------------------------------------------x1^8x2\n",
    "testXVal = np.append(testXVal, np.column_stack([testXVal1]), axis = 1)\n",
    "testXVal1 = (testXVal[:,0]**7)*(testXVal[:,1]**2) #---------------------------------------------------------------------x1^7x2^2\n",
    "testXVal = np.append(testXVal, np.column_stack([testXVal1]), axis = 1)\n",
    "testXVal1 = (testXVal[:,0]**6)*(testXVal[:,1]**3) #---------------------------------------------------------------------x1^6x2^3\n",
    "testXVal = np.append(testXVal, np.column_stack([testXVal1]), axis = 1)\n",
    "testXVal1 = (testXVal[:,0]**5)*(testXVal[:,1]**4) #---------------------------------------------------------------------x1^5x2^4\n",
    "testXVal = np.append(testXVal, np.column_stack([testXVal1]), axis = 1)\n",
    "testXVal1 = (testXVal[:,0]**4)*(testXVal[:,1]**5) #---------------------------------------------------------------------x1^4x2^5\n",
    "testXVal = np.append(testXVal, np.column_stack([testXVal1]), axis = 1)\n",
    "testXVal1 = (testXVal[:,0]**3)*(testXVal[:,1]**6) #---------------------------------------------------------------------x1^3x2^6\n",
    "testXVal = np.append(testXVal, np.column_stack([testXVal1]), axis = 1)\n",
    "testXVal1 = (testXVal[:,0]**2)*(testXVal[:,1]**7) #---------------------------------------------------------------------x1^3x2^6\n",
    "testXVal = np.append(testXVal, np.column_stack([testXVal1]), axis = 1)\n",
    "testXVal1 = (testXVal[:,0])*(testXVal[:,1]**8) #------------------------------------------------------------------------x1x2^8\n",
    "testXVal = np.append(testXVal, np.column_stack([testXVal1]), axis = 1)\n",
    "testXVal1 = testXVal[:,1]**9 #------------------------------------------------------------------------------------------x2^9\n",
    "testXVal = np.append(testXVal, np.column_stack([testXVal1]), axis = 1)\n",
    "\n",
    "testXVal = np.append(np.ones((110,1)), testXVal, axis=1)\n",
    "\n",
    "testYVal = testY[testY.columns[:]].to_numpy()\n",
    "print(np.shape(testYVal))\n",
    "print(np.shape(testXVal))\n",
    "# testXVal is the nd array of target values and their exponents, valY is the respective Yn for every x1n and x2n\n",
    "\n",
    "print(testXVal[0,1])\n"
   ]
  },
  {
   "cell_type": "code",
   "execution_count": 17,
   "id": "f7938765",
   "metadata": {},
   "outputs": [],
   "source": [
    "iters = 10000\n",
    "learningRate = 0.001 #yeta or n\n",
    "costArr= np.zeros(iters+100)\n",
    "counterArr = np.zeros(iters+100)"
   ]
  },
  {
   "cell_type": "code",
   "execution_count": 18,
   "id": "373a182c",
   "metadata": {},
   "outputs": [],
   "source": [
    "TrainErr = np.array([])\n",
    "TestErr = np.array([])"
   ]
  },
  {
   "cell_type": "code",
   "execution_count": 19,
   "id": "ca2af950",
   "metadata": {},
   "outputs": [
    {
     "name": "stdout",
     "output_type": "stream",
     "text": [
      "w0 = 4.682364678899082\n"
     ]
    },
    {
     "data": {
      "image/png": "[encoded data removed]",
      "text/plain": [
       "<Figure size 432x288 with 1 Axes>"
      ]
     },
     "metadata": {
      "needs_background": "light"
     },
     "output_type": "display_data"
    }
   ],
   "source": [
    "# Degree 0 manipulation for other degrees w = np.zeros((wSize, 1))\n",
    "w = 0\n",
    "wSize = 1\n",
    "counter = 0\n",
    "for i in range(iters):\n",
    "    #print(np.mean(valY))\n",
    "    w1 = w + learningRate*(np.sum(valY-w))\n",
    "    #print(w1,w)\n",
    "\n",
    "    counter+=1\n",
    "    costArr[counter] = (np.sum(valY-w))\n",
    "    counterArr[counter] = counter\n",
    "    w=w1\n",
    "#print(counter)\n",
    "print(\"w0 =\", w)\n",
    "fig,ax = plt.subplots()\n",
    "ax.plot(costArr[1:-1])\n",
    "plt.title(\"Gradient Descent method degree 0 - w0 values\", y = 1, pad = 30)\n",
    "plt.show() "
   ]
  },
  {
   "cell_type": "code",
   "execution_count": 20,
   "id": "a00809f9",
   "metadata": {},
   "outputs": [
    {
     "data": {
      "text/plain": [
       "1.3880889690551088"
      ]
     },
     "execution_count": 20,
     "metadata": {},
     "output_type": "execute_result"
    }
   ],
   "source": [
    "#training data error for degree 0\n",
    "w1 = 0\n",
    "for i in range(np.shape(valX)[0]):\n",
    "    w1+= (np.sum(w*valX[i,0]) - valY[i,0])**2\n",
    "\n",
    "TrainErr = np.append(TrainErr,w1/(np.shape(valX)[0]*2))\n",
    "w1/(np.shape(valX)[0]*2)"
   ]
  },
  {
   "cell_type": "code",
   "execution_count": 21,
   "id": "898eba88",
   "metadata": {},
   "outputs": [
    {
     "data": {
      "text/plain": [
       "1.3688744970416387"
      ]
     },
     "execution_count": 21,
     "metadata": {},
     "output_type": "execute_result"
    }
   ],
   "source": [
    "# testing data error for degree 0\n",
    "testError = 0\n",
    "for i in range(np.shape(testXVal)[0]):\n",
    "    testError += (w - testYVal[i,0])**2\n",
    "\n",
    "TestErr = np.append(TestErr,testError/(np.shape(testXVal)[0]*2))\n",
    "testError/(np.shape(testXVal)[0]*2)"
   ]
  },
  {
   "cell_type": "code",
   "execution_count": 22,
   "id": "893326f1",
   "metadata": {
    "scrolled": false
   },
   "outputs": [
    {
     "data": {
      "image/png": "[encoded data removed]",
      "text/plain": [
       "<Figure size 360x360 with 1 Axes>"
      ]
     },
     "metadata": {
      "needs_background": "light"
     },
     "output_type": "display_data"
    }
   ],
   "source": [
    "degree = 0\n",
    "x = np.arange(-50,50,0.1)\n",
    "y = x.copy() # transpose\n",
    "x,y = np.meshgrid(x,y)\n",
    "z = 0\n",
    "counter = 0\n",
    "k=0\n",
    "z = w*(x**k)*(y**k)\n",
    "        \n",
    "\n",
    "fig = plt.figure(figsize = (5,5))\n",
    "ax = plt.axes(projection='3d')\n",
    "\n",
    "ax.plot_surface(x, y, z,cmap='viridis', edgecolor='none')\n",
    "ax.set_title('Surface plot')\n",
    "plt.show()"
   ]
  },
  {
   "cell_type": "code",
   "execution_count": 23,
   "id": "9a7cc083",
   "metadata": {},
   "outputs": [],
   "source": [
    "degree = 1"
   ]
  },
  {
   "cell_type": "code",
   "execution_count": 24,
   "id": "7478254f",
   "metadata": {},
   "outputs": [
    {
     "name": "stdout",
     "output_type": "stream",
     "text": [
      "w0=2.989552561400822\n",
      "w1=1.4051023526660271\n",
      "w2=2.3649273781577027\n"
     ]
    },
    {
     "data": {
      "text/plain": [
       "436"
      ]
     },
     "execution_count": 24,
     "metadata": {},
     "output_type": "execute_result"
    }
   ],
   "source": [
    "wSize = int((degree+1)*(degree+2)/2)\n",
    "w = np.zeros(wSize) # similar template for others\n",
    "w1 = np.zeros(wSize)\n",
    "#print(w, '\\n', w1)\n",
    "\n",
    "counter = 0\n",
    "costArr= np.zeros(iters+1)\n",
    "counterArr = np.zeros(iters+1)\n",
    "for i in range(iters):\n",
    "    w2 = np.zeros(wSize)\n",
    "    for j in range(np.shape(valX)[0]):\n",
    "        w2 += ((valY[j,0]-np.sum(w*valX[j,:wSize]))*valX[j,:wSize])\n",
    "\n",
    "    w2 = w2/np.shape(valX)[0] #N\n",
    "    \n",
    "    w1 = w + learningRate*w2\n",
    "    w=w1\n",
    "    counter+=1\n",
    "    costArr[counter] = w2[0]\n",
    "    counterArr[counter] = counter\n",
    "\n",
    "   \n",
    "\n",
    "for i in range(np.shape(w)[0]):    \n",
    "    print(\"w\", i, \"=\", w[i], sep = '')\n",
    "\n",
    "np.shape(valX)[0]\n",
    " "
   ]
  },
  {
   "cell_type": "code",
   "execution_count": 25,
   "id": "5da824ef",
   "metadata": {},
   "outputs": [
    {
     "data": {
      "image/png": "[encoded data removed]",
      "text/plain": [
       "<Figure size 432x288 with 1 Axes>"
      ]
     },
     "metadata": {
      "needs_background": "light"
     },
     "output_type": "display_data"
    }
   ],
   "source": [
    "fig,ax = plt.subplots()\n",
    "ax.plot(costArr[1:-1])\n",
    "plt.title(\"Gradient Descent method degree %d - del(E) values\"% degree, y = 1, pad = 30)\n",
    "plt.show() # the number of iterations are maxed out in the end,"
   ]
  },
  {
   "cell_type": "code",
   "execution_count": 26,
   "id": "058a4c36",
   "metadata": {},
   "outputs": [
    {
     "data": {
      "text/plain": [
       "1.0991985584304946"
      ]
     },
     "execution_count": 26,
     "metadata": {},
     "output_type": "execute_result"
    }
   ],
   "source": [
    "# training data error\n",
    "w1 = 0\n",
    "for i in range(np.shape(valX)[0]):\n",
    "    w1+= (np.sum(w*valX[i,:wSize]) - valY[i,0])**2\n",
    "\n",
    "TrainErr = np.append(TrainErr,w1/(np.shape(valX)[0]*2))\n",
    "w1/(np.shape(valX)[0]*2)"
   ]
  },
  {
   "cell_type": "code",
   "execution_count": 27,
   "id": "d8e3e3de",
   "metadata": {},
   "outputs": [
    {
     "data": {
      "text/plain": [
       "1.0465227965606083"
      ]
     },
     "execution_count": 27,
     "metadata": {},
     "output_type": "execute_result"
    }
   ],
   "source": [
    "# testing data error\n",
    "testError = 0\n",
    "for i in range(np.shape(testXVal)[0]):\n",
    "    testError += (np.sum(w*testXVal[i,:wSize]) - testYVal[i,0])**2\n",
    "\n",
    "TestErr = np.append(TestErr,testError/(np.shape(testXVal)[0]*2))\n",
    "testError/(np.shape(testXVal)[0]*2)"
   ]
  },
  {
   "cell_type": "code",
   "execution_count": 28,
   "id": "8ea00a37",
   "metadata": {
    "scrolled": true
   },
   "outputs": [
    {
     "data": {
      "image/png": "[encoded data removed]",
      "text/plain": [
       "<Figure size 360x360 with 1 Axes>"
      ]
     },
     "metadata": {
      "needs_background": "light"
     },
     "output_type": "display_data"
    }
   ],
   "source": [
    "x = np.arange(-50,50,0.1)\n",
    "y = x[::-1].copy() # transpose\n",
    "x,y = np.meshgrid(x,y)\n",
    "z = 0\n",
    "counter = 0\n",
    "for i in range(degree+1):\n",
    "    for j in range(i+1):\n",
    "        k = i-j\n",
    "        z += w[counter]*(x**k)*(y**j)\n",
    "        counter += 1\n",
    "\n",
    "fig = plt.figure(figsize = (5,5))\n",
    "ax = plt.axes(projection='3d')\n",
    "\n",
    "ax.plot_surface(x, y, z,cmap='viridis', edgecolor='none')\n",
    "ax.set_title('Surface plot')\n",
    "plt.show()"
   ]
  },
  {
   "cell_type": "code",
   "execution_count": 29,
   "id": "e7483fd7",
   "metadata": {},
   "outputs": [],
   "source": [
    "degree = 2"
   ]
  },
  {
   "cell_type": "code",
   "execution_count": 30,
   "id": "d234df76",
   "metadata": {},
   "outputs": [
    {
     "name": "stdout",
     "output_type": "stream",
     "text": [
      "w0=2.6325690881722794\n",
      "w1=1.130408321251327\n",
      "w2=1.9879366675444072\n",
      "w3=0.4221237678302998\n",
      "w4=0.7878932741679511\n",
      "w5=1.4347750713878993\n"
     ]
    },
    {
     "data": {
      "text/plain": [
       "436"
      ]
     },
     "execution_count": 30,
     "metadata": {},
     "output_type": "execute_result"
    }
   ],
   "source": [
    "wSize = int((degree+1)*(degree+2)/2)\n",
    "w = np.zeros(wSize) # similar template for others\n",
    "w1 = np.zeros(wSize)\n",
    "#print(w, '\\n', w1)\n",
    "\n",
    "counter = 0\n",
    "costArr= np.zeros(iters+1)\n",
    "counterArr = np.zeros(iters+1)\n",
    "for i in range(iters):\n",
    "    w2 = np.zeros(wSize)\n",
    "    for j in range(np.shape(valX)[0]):\n",
    "        w2 += ((valY[j,0]-np.sum(w*valX[j,:wSize]))*valX[j,:wSize])\n",
    "\n",
    "    w2 = w2/np.shape(valX)[0] #N\n",
    "    \n",
    "    w1 = w + learningRate*w2\n",
    "    w=w1\n",
    "    counter+=1\n",
    "    costArr[counter] = w2[0]\n",
    "    counterArr[counter] = counter\n",
    "\n",
    "   \n",
    "\n",
    "for i in range(np.shape(w)[0]):    \n",
    "    print(\"w\", i, \"=\", w[i], sep = '')\n",
    "\n",
    "np.shape(valX)[0]\n",
    " "
   ]
  },
  {
   "cell_type": "code",
   "execution_count": 31,
   "id": "51a5abf4",
   "metadata": {},
   "outputs": [
    {
     "data": {
      "image/png": "[encoded data removed]",
      "text/plain": [
       "<Figure size 432x288 with 1 Axes>"
      ]
     },
     "metadata": {
      "needs_background": "light"
     },
     "output_type": "display_data"
    }
   ],
   "source": [
    "fig,ax = plt.subplots()\n",
    "ax.plot(costArr[1:-1])\n",
    "plt.title(\"Gradient Descent method degree %d - del(E) values\"% degree, y = 1, pad = 30)\n",
    "plt.show() # the number of iterations are maxed out in the end,"
   ]
  },
  {
   "cell_type": "code",
   "execution_count": 32,
   "id": "9b6df372",
   "metadata": {},
   "outputs": [
    {
     "data": {
      "text/plain": [
       "1.0107477718412021"
      ]
     },
     "execution_count": 32,
     "metadata": {},
     "output_type": "execute_result"
    }
   ],
   "source": [
    "# training data error\n",
    "w1 = 0\n",
    "for i in range(np.shape(valX)[0]):\n",
    "    w1+= (np.sum(w*valX[i,:wSize]) - valY[i,0])**2\n",
    "\n",
    "TrainErr = np.append(TrainErr,w1/(np.shape(valX)[0]*2))\n",
    "w1/(np.shape(valX)[0]*2)"
   ]
  },
  {
   "cell_type": "code",
   "execution_count": 33,
   "id": "4aff505b",
   "metadata": {},
   "outputs": [
    {
     "data": {
      "text/plain": [
       "0.9427815459724641"
      ]
     },
     "execution_count": 33,
     "metadata": {},
     "output_type": "execute_result"
    }
   ],
   "source": [
    "# testing data error\n",
    "testError = 0\n",
    "for i in range(np.shape(testXVal)[0]):\n",
    "    testError += (np.sum(w*testXVal[i,:wSize]) - testYVal[i,0])**2\n",
    "\n",
    "TestErr = np.append(TestErr,testError/(np.shape(testXVal)[0]*2))\n",
    "testError/(np.shape(testXVal)[0]*2)"
   ]
  },
  {
   "cell_type": "code",
   "execution_count": 34,
   "id": "3a0360be",
   "metadata": {
    "scrolled": false
   },
   "outputs": [
    {
     "data": {
      "image/png": "[encoded data removed]",
      "text/plain": [
       "<Figure size 360x360 with 1 Axes>"
      ]
     },
     "metadata": {
      "needs_background": "light"
     },
     "output_type": "display_data"
    }
   ],
   "source": [
    "x = np.arange(-50,50,0.1)\n",
    "y = x.copy() # transpose\n",
    "x,y = np.meshgrid(x,y)\n",
    "z = 0\n",
    "counter = 0\n",
    "for i in range(degree+1):\n",
    "    for j in range(i+1):\n",
    "        k = i-j\n",
    "        z += w[counter]*(x**k)*(y**j)\n",
    "        counter += 1\n",
    "\n",
    "fig = plt.figure(figsize = (5,5))\n",
    "ax = plt.axes(projection='3d')\n",
    "\n",
    "ax.plot_surface(x, y, z,cmap='viridis', edgecolor='none')\n",
    "ax.set_title('Surface plot')\n",
    "plt.show()"
   ]
  },
  {
   "cell_type": "code",
   "execution_count": 35,
   "id": "d6c642c6",
   "metadata": {},
   "outputs": [],
   "source": [
    "degree = 3"
   ]
  },
  {
   "cell_type": "code",
   "execution_count": 36,
   "id": "72f179d0",
   "metadata": {},
   "outputs": [
    {
     "name": "stdout",
     "output_type": "stream",
     "text": [
      "w0=2.5514417930070517\n",
      "w1=1.0293584714884507\n",
      "w2=1.8521144920380421\n",
      "w3=0.35994324756472834\n",
      "w4=0.6975861079220452\n",
      "w5=1.3001943845653154\n",
      "w6=0.11767206204481113\n",
      "w7=0.24392505595132447\n",
      "w8=0.46756147328721137\n",
      "w9=0.8999616510342989\n"
     ]
    },
    {
     "data": {
      "text/plain": [
       "436"
      ]
     },
     "execution_count": 36,
     "metadata": {},
     "output_type": "execute_result"
    }
   ],
   "source": [
    "wSize = int((degree+1)*(degree+2)/2)\n",
    "w = np.zeros(wSize) # similar template for others\n",
    "w1 = np.zeros(wSize)\n",
    "#print(w, '\\n', w1)\n",
    "\n",
    "counter = 0\n",
    "costArr= np.zeros(iters+1)\n",
    "counterArr = np.zeros(iters+1)\n",
    "for i in range(iters):\n",
    "    w2 = np.zeros(wSize)\n",
    "    for j in range(np.shape(valX)[0]):\n",
    "        w2 += ((valY[j,0]-np.sum(w*valX[j,:wSize]))*valX[j,:wSize])\n",
    "\n",
    "    w2 = w2/np.shape(valX)[0] #N\n",
    "    \n",
    "    w1 = w + learningRate*w2\n",
    "    w=w1\n",
    "    counter+=1\n",
    "    costArr[counter] = w2[0]\n",
    "    counterArr[counter] = counter\n",
    "\n",
    "   \n",
    "\n",
    "for i in range(np.shape(w)[0]):    \n",
    "    print(\"w\", i, \"=\", w[i], sep = '')\n",
    "\n",
    "np.shape(valX)[0]\n",
    " "
   ]
  },
  {
   "cell_type": "code",
   "execution_count": 37,
   "id": "5d38e915",
   "metadata": {},
   "outputs": [
    {
     "data": {
      "image/png": "[encoded data removed]",
      "text/plain": [
       "<Figure size 432x288 with 1 Axes>"
      ]
     },
     "metadata": {
      "needs_background": "light"
     },
     "output_type": "display_data"
    }
   ],
   "source": [
    "fig,ax = plt.subplots()\n",
    "ax.plot(costArr[1:-1])\n",
    "plt.title(\"Gradient Descent method degree %d - del(E) values\"% degree, y = 1, pad = 30)\n",
    "plt.show() # the number of iterations are maxed out in the end,"
   ]
  },
  {
   "cell_type": "code",
   "execution_count": 38,
   "id": "33271b0f",
   "metadata": {},
   "outputs": [
    {
     "data": {
      "text/plain": [
       "0.9853679966995251"
      ]
     },
     "execution_count": 38,
     "metadata": {},
     "output_type": "execute_result"
    }
   ],
   "source": [
    "# training data error\n",
    "w1 = 0\n",
    "for i in range(np.shape(valX)[0]):\n",
    "    w1+= (np.sum(w*valX[i,:wSize]) - valY[i,0])**2\n",
    "\n",
    "TrainErr = np.append(TrainErr,w1/(np.shape(valX)[0]*2))\n",
    "w1/(np.shape(valX)[0]*2)"
   ]
  },
  {
   "cell_type": "code",
   "execution_count": 39,
   "id": "99aad32a",
   "metadata": {},
   "outputs": [
    {
     "data": {
      "text/plain": [
       "0.9080198780957297"
      ]
     },
     "execution_count": 39,
     "metadata": {},
     "output_type": "execute_result"
    }
   ],
   "source": [
    "# testing data error\n",
    "testError = 0\n",
    "for i in range(np.shape(testXVal)[0]):\n",
    "    testError += (np.sum(w*testXVal[i,:wSize]) - testYVal[i,0])**2\n",
    "\n",
    "TestErr = np.append(TestErr,testError/(np.shape(testXVal)[0]*2))\n",
    "testError/(np.shape(testXVal)[0]*2)"
   ]
  },
  {
   "cell_type": "code",
   "execution_count": 40,
   "id": "3aadf4dd",
   "metadata": {
    "scrolled": false
   },
   "outputs": [
    {
     "data": {
      "image/png": "[encoded data removed]",
      "text/plain": [
       "<Figure size 360x360 with 1 Axes>"
      ]
     },
     "metadata": {
      "needs_background": "light"
     },
     "output_type": "display_data"
    }
   ],
   "source": [
    "x = np.arange(-50,50,0.1)\n",
    "y = x.copy() # transpose\n",
    "x,y = np.meshgrid(x,y)\n",
    "z = 0\n",
    "counter = 0\n",
    "for i in range(degree+1):\n",
    "    for j in range(i+1):\n",
    "        k = i-j\n",
    "        z += w[counter]*(x**k)*(y**j)\n",
    "        counter += 1\n",
    "\n",
    "fig = plt.figure(figsize = (5,5))\n",
    "ax = plt.axes(projection='3d')\n",
    "\n",
    "ax.plot_surface(x, y, z,cmap='viridis', edgecolor='none')\n",
    "ax.set_title('Surface plot')\n",
    "plt.show()"
   ]
  },
  {
   "cell_type": "code",
   "execution_count": 41,
   "id": "67b481b6",
   "metadata": {},
   "outputs": [],
   "source": [
    "degree = 4"
   ]
  },
  {
   "cell_type": "code",
   "execution_count": 42,
   "id": "841c824e",
   "metadata": {},
   "outputs": [
    {
     "name": "stdout",
     "output_type": "stream",
     "text": [
      "w0=2.537520058417708\n",
      "w1=0.9906869372765751\n",
      "w2=1.7996774917503702\n",
      "w3=0.3337653016906588\n",
      "w4=0.6580454033975165\n",
      "w5=1.2408666581940697\n",
      "w6=0.10079672977421927\n",
      "w7=0.2198058938670555\n",
      "w8=0.43191288216032847\n",
      "w9=0.8446786214840074\n",
      "w10=0.016494768691457485\n",
      "w11=0.06512435477010149\n",
      "w12=0.13912115012221649\n",
      "w13=0.28032030164409527\n",
      "w14=0.5708355723534472\n"
     ]
    },
    {
     "data": {
      "text/plain": [
       "436"
      ]
     },
     "execution_count": 42,
     "metadata": {},
     "output_type": "execute_result"
    }
   ],
   "source": [
    "wSize = int((degree+1)*(degree+2)/2)\n",
    "w = np.zeros(wSize) # similar template for others\n",
    "w1 = np.zeros(wSize)\n",
    "#print(w, '\\n', w1)\n",
    "\n",
    "counter = 0\n",
    "costArr= np.zeros(iters+1)\n",
    "counterArr = np.zeros(iters+1)\n",
    "for i in range(iters):\n",
    "    w2 = np.zeros(wSize)\n",
    "    for j in range(np.shape(valX)[0]):\n",
    "        w2 += ((valY[j,0]-np.sum(w*valX[j,:wSize]))*valX[j,:wSize])\n",
    "\n",
    "    w2 = w2/np.shape(valX)[0] #N\n",
    "    \n",
    "    w1 = w + learningRate*w2\n",
    "    w=w1\n",
    "    counter+=1\n",
    "    costArr[counter] = w2[0]\n",
    "    counterArr[counter] = counter\n",
    "\n",
    "   \n",
    "\n",
    "for i in range(np.shape(w)[0]):    \n",
    "    print(\"w\", i, \"=\", w[i], sep = '')\n",
    "\n",
    "np.shape(valX)[0]\n",
    " "
   ]
  },
  {
   "cell_type": "code",
   "execution_count": 43,
   "id": "bdd072c0",
   "metadata": {},
   "outputs": [
    {
     "data": {
      "image/png": "[encoded data removed]",
      "text/plain": [
       "<Figure size 432x288 with 1 Axes>"
      ]
     },
     "metadata": {
      "needs_background": "light"
     },
     "output_type": "display_data"
    }
   ],
   "source": [
    "fig,ax = plt.subplots()\n",
    "ax.plot(costArr[1:-1])\n",
    "plt.title(\"Gradient Descent method degree %d - del(E) values\"% degree, y = 1, pad = 30)\n",
    "plt.show() # the number of iterations are maxed out in the end,"
   ]
  },
  {
   "cell_type": "code",
   "execution_count": 44,
   "id": "a428f06b",
   "metadata": {},
   "outputs": [
    {
     "data": {
      "text/plain": [
       "0.9789288585155274"
      ]
     },
     "execution_count": 44,
     "metadata": {},
     "output_type": "execute_result"
    }
   ],
   "source": [
    "# training data error\n",
    "w1 = 0\n",
    "for i in range(np.shape(valX)[0]):\n",
    "    w1+= (np.sum(w*valX[i,:wSize]) - valY[i,0])**2\n",
    "\n",
    "TrainErr = np.append(TrainErr,w1/(np.shape(valX)[0]*2))\n",
    "w1/(np.shape(valX)[0]*2)"
   ]
  },
  {
   "cell_type": "code",
   "execution_count": 45,
   "id": "22f533b5",
   "metadata": {},
   "outputs": [
    {
     "data": {
      "text/plain": [
       "0.8950932587874944"
      ]
     },
     "execution_count": 45,
     "metadata": {},
     "output_type": "execute_result"
    }
   ],
   "source": [
    "# testing data error\n",
    "testError = 0\n",
    "for i in range(np.shape(testXVal)[0]):\n",
    "    testError += (np.sum(w*testXVal[i,:wSize]) - testYVal[i,0])**2\n",
    "\n",
    "TestErr = np.append(TestErr,testError/(np.shape(testXVal)[0]*2))\n",
    "testError/(np.shape(testXVal)[0]*2)"
   ]
  },
  {
   "cell_type": "code",
   "execution_count": 46,
   "id": "1dde9eb5",
   "metadata": {
    "scrolled": true
   },
   "outputs": [
    {
     "data": {
      "image/png": "[encoded data removed]",
      "text/plain": [
       "<Figure size 360x360 with 1 Axes>"
      ]
     },
     "metadata": {
      "needs_background": "light"
     },
     "output_type": "display_data"
    }
   ],
   "source": [
    "x = np.arange(-50,50,0.1)\n",
    "y = x.copy() # transpose\n",
    "x,y = np.meshgrid(x,y)\n",
    "z = 0\n",
    "counter = 0\n",
    "for i in range(degree+1):\n",
    "    for j in range(i+1):\n",
    "        k = i-j\n",
    "        z += w[counter]*(x**k)*(y**j)\n",
    "        counter += 1\n",
    "\n",
    "fig = plt.figure(figsize = (5,5))\n",
    "ax = plt.axes(projection='3d')\n",
    "\n",
    "ax.plot_surface(x, y, z,cmap='viridis', edgecolor='none')\n",
    "ax.set_title('Surface plot')\n",
    "plt.show()"
   ]
  },
  {
   "cell_type": "code",
   "execution_count": 47,
   "id": "f812e077",
   "metadata": {},
   "outputs": [],
   "source": [
    "degree = 5"
   ]
  },
  {
   "cell_type": "code",
   "execution_count": 48,
   "id": "bcac6665",
   "metadata": {},
   "outputs": [
    {
     "name": "stdout",
     "output_type": "stream",
     "text": [
      "w0=2.539172870041254\n",
      "w1=0.9758919423201557\n",
      "w2=1.7789236858002375\n",
      "w3=0.32265664595540156\n",
      "w4=0.6403888808586207\n",
      "w5=1.2140833531368915\n",
      "w6=0.09322888286286352\n",
      "w7=0.2082927289288492\n",
      "w8=0.41469714048198564\n",
      "w9=0.818097422458231\n",
      "w10=0.01121697791074112\n",
      "w11=0.057391465401506817\n",
      "w12=0.1282394133151859\n",
      "w13=0.264541350887266\n",
      "w14=0.5465583129141036\n",
      "w15=-0.01843890908510951\n",
      "w16=0.003537618859592056\n",
      "w17=0.02927456972480673\n",
      "w18=0.07362050665870695\n",
      "w19=0.16439219373009917\n",
      "w20=0.3615102679702187\n"
     ]
    },
    {
     "data": {
      "text/plain": [
       "436"
      ]
     },
     "execution_count": 48,
     "metadata": {},
     "output_type": "execute_result"
    }
   ],
   "source": [
    "wSize = int((degree+1)*(degree+2)/2)\n",
    "w = np.zeros(wSize) # similar template for others\n",
    "w1 = np.zeros(wSize)\n",
    "#print(w, '\\n', w1)\n",
    "\n",
    "counter = 0\n",
    "costArr= np.zeros(iters+1)\n",
    "counterArr = np.zeros(iters+1)\n",
    "for i in range(iters):\n",
    "    w2 = np.zeros(wSize)\n",
    "    for j in range(np.shape(valX)[0]):\n",
    "        w2 += ((valY[j,0]-np.sum(w*valX[j,:wSize]))*valX[j,:wSize])\n",
    "\n",
    "    w2 = w2/np.shape(valX)[0] #N\n",
    "    \n",
    "    w1 = w + learningRate*w2\n",
    "    w=w1\n",
    "    counter+=1\n",
    "    costArr[counter] = w2[0]\n",
    "    counterArr[counter] = counter\n",
    "\n",
    "   \n",
    "\n",
    "for i in range(np.shape(w)[0]):    \n",
    "    print(\"w\", i, \"=\", w[i], sep = '')\n",
    "\n",
    "np.shape(valX)[0]\n",
    " "
   ]
  },
  {
   "cell_type": "code",
   "execution_count": 49,
   "id": "d649d332",
   "metadata": {},
   "outputs": [
    {
     "data": {
      "image/png": "[encoded data removed]",
      "text/plain": [
       "<Figure size 432x288 with 1 Axes>"
      ]
     },
     "metadata": {
      "needs_background": "light"
     },
     "output_type": "display_data"
    }
   ],
   "source": [
    "fig,ax = plt.subplots()\n",
    "ax.plot(costArr[1:-1])\n",
    "plt.title(\"Gradient Descent method degree %d - del(E) values\"% degree, y = 1, pad = 30)\n",
    "plt.show() # the number of iterations are maxed out in the end,"
   ]
  },
  {
   "cell_type": "code",
   "execution_count": 50,
   "id": "65ca8a64",
   "metadata": {},
   "outputs": [
    {
     "data": {
      "text/plain": [
       "0.9779776879389175"
      ]
     },
     "execution_count": 50,
     "metadata": {},
     "output_type": "execute_result"
    }
   ],
   "source": [
    "# training data error\n",
    "w1 = 0\n",
    "for i in range(np.shape(valX)[0]):\n",
    "    w1+= (np.sum(w*valX[i,:wSize]) - valY[i,0])**2\n",
    "\n",
    "TrainErr = np.append(TrainErr,w1/(np.shape(valX)[0]*2))\n",
    "w1/(np.shape(valX)[0]*2)"
   ]
  },
  {
   "cell_type": "code",
   "execution_count": 51,
   "id": "7ee7e672",
   "metadata": {},
   "outputs": [
    {
     "data": {
      "text/plain": [
       "0.8898865775175987"
      ]
     },
     "execution_count": 51,
     "metadata": {},
     "output_type": "execute_result"
    }
   ],
   "source": [
    "# testing data error\n",
    "testError = 0\n",
    "for i in range(np.shape(testXVal)[0]):\n",
    "    testError += (np.sum(w*testXVal[i,:wSize]) - testYVal[i,0])**2\n",
    "\n",
    "TestErr = np.append(TestErr,testError/(np.shape(testXVal)[0]*2))\n",
    "testError/(np.shape(testXVal)[0]*2)"
   ]
  },
  {
   "cell_type": "code",
   "execution_count": 52,
   "id": "60df7640",
   "metadata": {
    "scrolled": true
   },
   "outputs": [
    {
     "data": {
      "image/png": "[encoded data removed]",
      "text/plain": [
       "<Figure size 360x360 with 1 Axes>"
      ]
     },
     "metadata": {
      "needs_background": "light"
     },
     "output_type": "display_data"
    }
   ],
   "source": [
    "x = np.arange(-50,50,0.1)\n",
    "y = x.copy() # transpose\n",
    "x,y = np.meshgrid(x,y)\n",
    "z = 0\n",
    "counter = 0\n",
    "for i in range(degree+1):\n",
    "    for j in range(i+1):\n",
    "        k = i-j\n",
    "        z += w[counter]*(x**k)*(y**j)\n",
    "        counter += 1\n",
    "\n",
    "fig = plt.figure(figsize = (5,5))\n",
    "ax = plt.axes(projection='3d')\n",
    "\n",
    "ax.plot_surface(x, y, z,cmap='viridis', edgecolor='none')\n",
    "ax.set_title('Surface plot')\n",
    "plt.show()"
   ]
  },
  {
   "cell_type": "code",
   "execution_count": 53,
   "id": "ffbce5b8",
   "metadata": {},
   "outputs": [],
   "source": [
    "degree = 6"
   ]
  },
  {
   "cell_type": "code",
   "execution_count": null,
   "id": "b94d9cc7",
   "metadata": {},
   "outputs": [],
   "source": [
    "wSize = int((degree+1)*(degree+2)/2)\n",
    "w = np.zeros(wSize) # similar template for others\n",
    "w1 = np.zeros(wSize)\n",
    "#print(w, '\\n', w1)\n",
    "\n",
    "counter = 0\n",
    "costArr= np.zeros(iters+1)\n",
    "counterArr = np.zeros(iters+1)\n",
    "for i in range(iters):\n",
    "    w2 = np.zeros(wSize)\n",
    "    for j in range(np.shape(valX)[0]):\n",
    "        w2 += ((valY[j,0]-np.sum(w*valX[j,:wSize]))*valX[j,:wSize])\n",
    "\n",
    "    w2 = w2/np.shape(valX)[0] #N\n",
    "    \n",
    "    w1 = w + learningRate*w2\n",
    "    w=w1\n",
    "    counter+=1\n",
    "    costArr[counter] = w2[0]\n",
    "    counterArr[counter] = counter\n",
    "\n",
    "   \n",
    "\n",
    "for i in range(np.shape(w)[0]):    \n",
    "    print(\"w\", i, \"=\", w[i], sep = '')\n",
    "\n",
    "np.shape(valX)[0]\n",
    " "
   ]
  },
  {
   "cell_type": "code",
   "execution_count": null,
   "id": "54e9bdf4",
   "metadata": {},
   "outputs": [],
   "source": [
    "fig,ax = plt.subplots()\n",
    "ax.plot(costArr[1:-1])\n",
    "plt.title(\"Gradient Descent method degree %d - del(E) values\"% degree, y = 1, pad = 30)\n",
    "plt.show() # the number of iterations are maxed out in the end,"
   ]
  },
  {
   "cell_type": "code",
   "execution_count": null,
   "id": "1b8568a5",
   "metadata": {},
   "outputs": [],
   "source": [
    "# training data error\n",
    "w1 = 0\n",
    "for i in range(np.shape(valX)[0]):\n",
    "    w1+= (np.sum(w*valX[i,:wSize]) - valY[i,0])**2\n",
    "\n",
    "TrainErr = np.append(TrainErr,w1/(np.shape(valX)[0]*2))\n",
    "w1/(np.shape(valX)[0]*2)"
   ]
  },
  {
   "cell_type": "code",
   "execution_count": null,
   "id": "4509d8ce",
   "metadata": {},
   "outputs": [],
   "source": [
    "# testing data error\n",
    "testError = 0\n",
    "for i in range(np.shape(testXVal)[0]):\n",
    "    testError += (np.sum(w*testXVal[i,:wSize]) - testYVal[i,0])**2\n",
    "\n",
    "TestErr = np.append(TestErr,testError/(np.shape(testXVal)[0]*2))\n",
    "testError/(np.shape(testXVal)[0]*2)"
   ]
  },
  {
   "cell_type": "code",
   "execution_count": null,
   "id": "d7ff43f4",
   "metadata": {
    "scrolled": true
   },
   "outputs": [],
   "source": [
    "x = np.arange(-50,50,0.1)\n",
    "y = x.copy() # transpose\n",
    "x,y = np.meshgrid(x,y)\n",
    "z = 0\n",
    "counter = 0\n",
    "for i in range(degree+1):\n",
    "    for j in range(i+1):\n",
    "        k = i-j\n",
    "        z += w[counter]*(x**k)*(y**j)\n",
    "        counter += 1\n",
    "\n",
    "fig = plt.figure(figsize = (5,5))\n",
    "ax = plt.axes(projection='3d')\n",
    "\n",
    "ax.plot_surface(x, y, z,cmap='viridis', edgecolor='none')\n",
    "ax.set_title('Surface plot')\n",
    "plt.show()"
   ]
  },
  {
   "cell_type": "code",
   "execution_count": null,
   "id": "0115098d",
   "metadata": {},
   "outputs": [],
   "source": [
    "degree = 7"
   ]
  },
  {
   "cell_type": "code",
   "execution_count": null,
   "id": "862586d9",
   "metadata": {},
   "outputs": [],
   "source": [
    "wSize = int((degree+1)*(degree+2)/2)\n",
    "w = np.zeros(wSize) # similar template for others\n",
    "w1 = np.zeros(wSize)\n",
    "#print(w, '\\n', w1)\n",
    "\n",
    "counter = 0\n",
    "costArr= np.zeros(iters+1)\n",
    "counterArr = np.zeros(iters+1)\n",
    "for i in range(iters):\n",
    "    w2 = np.zeros(wSize)\n",
    "    for j in range(np.shape(valX)[0]):\n",
    "        w2 += ((valY[j,0]-np.sum(w*valX[j,:wSize]))*valX[j,:wSize])\n",
    "\n",
    "    w2 = w2/np.shape(valX)[0] #N\n",
    "    \n",
    "    w1 = w + learningRate*w2\n",
    "    w=w1\n",
    "    counter+=1\n",
    "    costArr[counter] = w2[0]\n",
    "    counterArr[counter] = counter\n",
    "\n",
    "   \n",
    "\n",
    "for i in range(np.shape(w)[0]):    \n",
    "    print(\"w\", i, \"=\", w[i], sep = '')\n",
    "\n",
    "np.shape(valX)[0]\n",
    " "
   ]
  },
  {
   "cell_type": "code",
   "execution_count": null,
   "id": "32da88c7",
   "metadata": {},
   "outputs": [],
   "source": [
    "fig,ax = plt.subplots()\n",
    "ax.plot(costArr[1:-1])\n",
    "plt.title(\"Gradient Descent method degree %d - del(E) values\"% degree, y = 1, pad = 30)\n",
    "plt.show() # the number of iterations are maxed out in the end,"
   ]
  },
  {
   "cell_type": "code",
   "execution_count": null,
   "id": "f9158721",
   "metadata": {},
   "outputs": [],
   "source": [
    "# training data error\n",
    "w1 = 0\n",
    "for i in range(np.shape(valX)[0]):\n",
    "    w1+= (np.sum(w*valX[i,:wSize]) - valY[i,0])**2\n",
    "\n",
    "TrainErr = np.append(TrainErr,w1/(np.shape(valX)[0]*2))\n",
    "w1/(np.shape(valX)[0]*2)"
   ]
  },
  {
   "cell_type": "code",
   "execution_count": null,
   "id": "fee13f07",
   "metadata": {},
   "outputs": [],
   "source": [
    "# testing data error\n",
    "testError = 0\n",
    "for i in range(np.shape(testXVal)[0]):\n",
    "    testError += (np.sum(w*testXVal[i,:wSize]) - testYVal[i,0])**2\n",
    "\n",
    "TestErr = np.append(TestErr,testError/(np.shape(testXVal)[0]*2))\n",
    "testError/(np.shape(testXVal)[0]*2)"
   ]
  },
  {
   "cell_type": "code",
   "execution_count": null,
   "id": "ea23f4d2",
   "metadata": {
    "scrolled": true
   },
   "outputs": [],
   "source": [
    "x = np.arange(-50,50,0.1)\n",
    "y = x.copy() # transpose\n",
    "x,y = np.meshgrid(x,y)\n",
    "z = 0\n",
    "counter = 0\n",
    "for i in range(degree+1):\n",
    "    for j in range(i+1):\n",
    "        k = i-j\n",
    "        z += w[counter]*(x**k)*(y**j)\n",
    "        counter += 1\n",
    "\n",
    "fig = plt.figure(figsize = (5,5))\n",
    "ax = plt.axes(projection='3d')\n",
    "\n",
    "ax.plot_surface(x, y, z,cmap='viridis', edgecolor='none')\n",
    "ax.set_title('Surface plot')\n",
    "plt.show()"
   ]
  },
  {
   "cell_type": "code",
   "execution_count": null,
   "id": "7565db22",
   "metadata": {},
   "outputs": [],
   "source": [
    "degree = 8"
   ]
  },
  {
   "cell_type": "code",
   "execution_count": null,
   "id": "058ac153",
   "metadata": {},
   "outputs": [],
   "source": [
    "wSize = int((degree+1)*(degree+2)/2)\n",
    "w = np.zeros(wSize) # similar template for others\n",
    "w1 = np.zeros(wSize)\n",
    "#print(w, '\\n', w1)\n",
    "\n",
    "counter = 0\n",
    "costArr= np.zeros(iters+1)\n",
    "counterArr = np.zeros(iters+1)\n",
    "for i in range(iters):\n",
    "    w2 = np.zeros(wSize)\n",
    "    for j in range(np.shape(valX)[0]):\n",
    "        w2 += ((valY[j,0]-np.sum(w*valX[j,:wSize]))*valX[j,:wSize])\n",
    "\n",
    "    w2 = w2/np.shape(valX)[0] #N\n",
    "    \n",
    "    w1 = w + learningRate*w2\n",
    "    w=w1\n",
    "    counter+=1\n",
    "    costArr[counter] = w2[0]\n",
    "    counterArr[counter] = counter\n",
    "\n",
    "   \n",
    "\n",
    "for i in range(np.shape(w)[0]):    \n",
    "    print(\"w\", i, \"=\", w[i], sep = '')\n",
    "\n",
    "np.shape(valX)[0]\n",
    " "
   ]
  },
  {
   "cell_type": "code",
   "execution_count": null,
   "id": "170b1ce0",
   "metadata": {},
   "outputs": [],
   "source": [
    "fig,ax = plt.subplots()\n",
    "ax.plot(costArr[1:-1])\n",
    "plt.title(\"Gradient Descent method degree %d - del(E) values\"% degree, y = 1, pad = 30)\n",
    "plt.show() # the number of iterations are maxed out in the end,"
   ]
  },
  {
   "cell_type": "code",
   "execution_count": null,
   "id": "c255f80e",
   "metadata": {},
   "outputs": [],
   "source": [
    "# training data error\n",
    "w1 = 0\n",
    "for i in range(np.shape(valX)[0]):\n",
    "    w1+= (np.sum(w*valX[i,:wSize]) - valY[i,0])**2\n",
    "\n",
    "TrainErr = np.append(TrainErr,w1/(np.shape(valX)[0]*2))\n",
    "w1/(np.shape(valX)[0]*2)"
   ]
  },
  {
   "cell_type": "code",
   "execution_count": null,
   "id": "c5565a2f",
   "metadata": {},
   "outputs": [],
   "source": [
    "# testing data error\n",
    "testError = 0\n",
    "for i in range(np.shape(testXVal)[0]):\n",
    "    testError += (np.sum(w*testXVal[i,:wSize]) - testYVal[i,0])**2\n",
    "\n",
    "TestErr = np.append(TestErr,testError/(np.shape(testXVal)[0]*2))\n",
    "testError/(np.shape(testXVal)[0]*2)"
   ]
  },
  {
   "cell_type": "code",
   "execution_count": null,
   "id": "7dec0d63",
   "metadata": {},
   "outputs": [],
   "source": [
    "x = np.arange(-50,50,0.1)\n",
    "y = x.copy() # transpose\n",
    "x,y = np.meshgrid(x,y)\n",
    "z = 0\n",
    "counter = 0\n",
    "for i in range(degree+1):\n",
    "    for j in range(i+1):\n",
    "        k = i-j\n",
    "        z += w[counter]*(x**k)*(y**j)\n",
    "        counter += 1\n",
    "\n",
    "fig = plt.figure(figsize = (5,5))\n",
    "ax = plt.axes(projection='3d')\n",
    "\n",
    "ax.plot_surface(x, y, z,cmap='viridis', edgecolor='none')\n",
    "ax.set_title('Surface plot')\n",
    "plt.show()"
   ]
  },
  {
   "cell_type": "code",
   "execution_count": null,
   "id": "895320ce",
   "metadata": {},
   "outputs": [],
   "source": [
    "degree = 9"
   ]
  },
  {
   "cell_type": "code",
   "execution_count": null,
   "id": "56ca4724",
   "metadata": {},
   "outputs": [],
   "source": [
    "wSize = int((degree+1)*(degree+2)/2)\n",
    "w = np.zeros(wSize) # similar template for others\n",
    "w1 = np.zeros(wSize)\n",
    "#print(w, '\\n', w1)\n",
    "\n",
    "counter = 0\n",
    "costArr= np.zeros(iters+1)\n",
    "counterArr = np.zeros(iters+1)\n",
    "for i in range(iters):\n",
    "    w2 = np.zeros(wSize)\n",
    "    for j in range(np.shape(valX)[0]):\n",
    "        w2 += ((valY[j,0]-np.sum(w*valX[j,:wSize]))*valX[j,:wSize])\n",
    "\n",
    "    w2 = w2/np.shape(valX)[0] #N\n",
    "    \n",
    "    w1 = w + learningRate*w2\n",
    "    w=w1\n",
    "    counter+=1\n",
    "    costArr[counter] = w2[0]\n",
    "    counterArr[counter] = counter\n",
    "\n",
    "   \n",
    "\n",
    "for i in range(np.shape(w)[0]):    \n",
    "    print(\"w\", i, \"=\", w[i], sep = '')\n",
    "\n",
    "np.shape(valX)[0]\n",
    " "
   ]
  },
  {
   "cell_type": "code",
   "execution_count": null,
   "id": "6551a998",
   "metadata": {},
   "outputs": [],
   "source": [
    "fig,ax = plt.subplots()\n",
    "ax.plot(costArr[1:-1])\n",
    "plt.title(\"Gradient Descent method degree %d - del(E) values\"% degree, y = 1, pad = 30)\n",
    "plt.show() # the number of iterations are maxed out in the end,"
   ]
  },
  {
   "cell_type": "code",
   "execution_count": null,
   "id": "31231739",
   "metadata": {},
   "outputs": [],
   "source": [
    "# training data error\n",
    "w1 = 0\n",
    "for i in range(np.shape(valX)[0]):\n",
    "    w1+= (np.sum(w*valX[i,:wSize]) - valY[i,0])**2\n",
    "\n",
    "TrainErr = np.append(TrainErr,w1/(np.shape(valX)[0]*2))\n",
    "w1/np.shape(valX)[0]"
   ]
  },
  {
   "cell_type": "code",
   "execution_count": null,
   "id": "fce45127",
   "metadata": {},
   "outputs": [],
   "source": [
    "# testing data error\n",
    "testError = 0\n",
    "for i in range(np.shape(testXVal)[0]):\n",
    "    testError += (np.sum(w*testXVal[i,:wSize]) - testYVal[i,0])**2\n",
    "\n",
    "TestErr = np.append(TestErr,testError/(np.shape(testXVal)[0]*2))\n",
    "testError/np.shape(testXVal)[0]"
   ]
  },
  {
   "cell_type": "code",
   "execution_count": null,
   "id": "5259ad25",
   "metadata": {},
   "outputs": [],
   "source": [
    "x = np.arange(-50,50,0.1)\n",
    "y = x.copy() # transpose\n",
    "x,y = np.meshgrid(x,y)\n",
    "z = 0\n",
    "counter = 0\n",
    "for i in range(degree+1):\n",
    "    for j in range(i+1):\n",
    "        k = i-j\n",
    "        z += w[counter]*(x**k)*(y**j)\n",
    "        counter += 1\n",
    "\n",
    "fig = plt.figure(figsize = (5,5))\n",
    "ax = plt.axes(projection='3d')\n",
    "\n",
    "ax.plot_surface(x, y, z,cmap='viridis', edgecolor='none')\n",
    "ax.set_title('Surface plot')\n",
    "plt.show()"
   ]
  },
  {
   "cell_type": "code",
   "execution_count": null,
   "id": "927a515d",
   "metadata": {
    "scrolled": true
   },
   "outputs": [],
   "source": [
    "TrainErr"
   ]
  },
  {
   "cell_type": "code",
   "execution_count": null,
   "id": "e9418ce1",
   "metadata": {
    "scrolled": true
   },
   "outputs": [],
   "source": [
    "TestErr"
   ]
  },
  {
   "cell_type": "code",
   "execution_count": null,
   "id": "e53181fa",
   "metadata": {},
   "outputs": [],
   "source": [
    "Errors = pd.DataFrame()\n",
    "Errors['Training-Gradient Descent'] = TrainErr.copy()\n",
    "Errors['Test-Gradient Descent'] = TestErr.copy()"
   ]
  },
  {
   "cell_type": "code",
   "execution_count": null,
   "id": "7efe9026",
   "metadata": {},
   "outputs": [],
   "source": [
    "X = np.array([i for i in range(10)])\n",
    "fig, ax = plt.subplots()\n",
    "Tr = plt.scatter(X, TrainErr, c = 'r')\n",
    "plt.plot(X, TrainErr, c = 'r')\n",
    "Te = plt.scatter(X, TestErr, c = 'b')\n",
    "plt.plot(X, TestErr, c = 'b')\n",
    "plt.legend((Tr,Te), ('Train','Test'))\n",
    "plt.show()"
   ]
  },
  {
   "cell_type": "code",
   "execution_count": null,
   "id": "89092c73",
   "metadata": {},
   "outputs": [],
   "source": []
  },
  {
   "cell_type": "code",
   "execution_count": null,
   "id": "11ff04bc",
   "metadata": {},
   "outputs": [],
   "source": [
    "iters = 300000\n",
    "learningRate = 0.01 #yeta or n\n",
    "costArr= np.zeros(iters+100)\n",
    "counterArr = np.zeros(iters+100)"
   ]
  },
  {
   "cell_type": "code",
   "execution_count": null,
   "id": "94ee9800",
   "metadata": {},
   "outputs": [],
   "source": [
    "TrainErr = np.array([])\n",
    "TestErr = np.array([])"
   ]
  },
  {
   "cell_type": "code",
   "execution_count": null,
   "id": "2402558f",
   "metadata": {},
   "outputs": [],
   "source": [
    "k = np.random.randint(low = 0, high = np.shape(valX)[0])\n",
    "k"
   ]
  },
  {
   "cell_type": "code",
   "execution_count": null,
   "id": "9fb9fd82",
   "metadata": {},
   "outputs": [],
   "source": [
    "degree = 0"
   ]
  },
  {
   "cell_type": "code",
   "execution_count": null,
   "id": "53bf7ad4",
   "metadata": {},
   "outputs": [],
   "source": [
    "wSize = int((degree+1)*(degree+2)/2)\n",
    "w = np.zeros(wSize) # similar template for others\n",
    "w1 = np.zeros(wSize)\n",
    "#print(w, '\\n', w1)\n",
    "\n",
    "counter = 0\n",
    "costArr= np.zeros(iters+1)\n",
    "counterArr = np.zeros(iters+1)\n",
    "for i in range(iters):\n",
    "    w2 = np.zeros(wSize)\n",
    "    w2 = ((valY[k,0]-np.sum(w*valX[k,:wSize]))*valX[k,:wSize])\n",
    "\n",
    "    w2 = w2/np.shape(valX)[0] #N\n",
    "    \n",
    "    w1 = w + learningRate*w2\n",
    "    w=w1\n",
    "    counter+=1\n",
    "    costArr[counter] = w2[0]\n",
    "    counterArr[counter] = counter\n",
    "\n",
    "   \n",
    "\n",
    "for i in range(np.shape(w)[0]):    \n",
    "    print(\"w\", i, \"=\", w[i], sep = '')\n",
    "\n",
    "np.shape(valX)[0]\n",
    " "
   ]
  },
  {
   "cell_type": "code",
   "execution_count": null,
   "id": "61888fce",
   "metadata": {},
   "outputs": [],
   "source": [
    "fig,ax = plt.subplots()\n",
    "ax.plot(costArr[1:-1])\n",
    "plt.title(\"Gradient Descent method degree %d - del(E) values\"% degree, y = 1, pad = 30)\n",
    "plt.show() # the number of iterations are maxed out in the end,"
   ]
  },
  {
   "cell_type": "code",
   "execution_count": null,
   "id": "73632277",
   "metadata": {},
   "outputs": [],
   "source": [
    "# training data error\n",
    "w1 = 0\n",
    "for i in range(np.shape(valX)[0]):\n",
    "    w1+= (np.sum(w*valX[i,:wSize]) - valY[i,0])**2\n",
    "\n",
    "TrainErr = np.append(TrainErr,w1/(np.shape(valX)[0]*2))\n",
    "w1/np.shape(valX)[0]"
   ]
  },
  {
   "cell_type": "code",
   "execution_count": null,
   "id": "cb976baf",
   "metadata": {},
   "outputs": [],
   "source": [
    "# testing data error\n",
    "testError = 0\n",
    "for i in range(np.shape(testXVal)[0]):\n",
    "    testError += (np.sum(w*testXVal[i,:wSize]) - testYVal[i,0])**2\n",
    "\n",
    "TestErr = np.append(TestErr,testError/(np.shape(testXVal)[0]*2))\n",
    "testError/np.shape(testXVal)[0]"
   ]
  },
  {
   "cell_type": "code",
   "execution_count": null,
   "id": "5153b1f2",
   "metadata": {},
   "outputs": [],
   "source": [
    "degree = 1"
   ]
  },
  {
   "cell_type": "code",
   "execution_count": null,
   "id": "ab3f4788",
   "metadata": {},
   "outputs": [],
   "source": [
    "wSize = int((degree+1)*(degree+2)/2)\n",
    "w = np.zeros(wSize) # similar template for others\n",
    "w1 = np.zeros(wSize)\n",
    "#print(w, '\\n', w1)\n",
    "\n",
    "counter = 0\n",
    "costArr= np.zeros(iters+1)\n",
    "counterArr = np.zeros(iters+1)\n",
    "for i in range(iters):\n",
    "    w2 = np.zeros(wSize)\n",
    "    w2 = ((valY[k,0]-np.sum(w*valX[k,:wSize]))*valX[k,:wSize])\n",
    "\n",
    "    w2 = w2/np.shape(valX)[0] #N\n",
    "    \n",
    "    w1 = w + learningRate*w2\n",
    "    w=w1\n",
    "    counter+=1\n",
    "    costArr[counter] = w2[0]\n",
    "    counterArr[counter] = counter\n",
    "\n",
    "   \n",
    "\n",
    "for i in range(np.shape(w)[0]):    \n",
    "    print(\"w\", i, \"=\", w[i], sep = '')\n",
    "\n",
    "np.shape(valX)[0]\n",
    " "
   ]
  },
  {
   "cell_type": "code",
   "execution_count": null,
   "id": "8dee516a",
   "metadata": {},
   "outputs": [],
   "source": [
    "fig,ax = plt.subplots()\n",
    "ax.plot(costArr[1:-1])\n",
    "plt.title(\"Gradient Descent method degree %d - del(E) values\"% degree, y = 1, pad = 30)\n",
    "plt.show() # the number of iterations are maxed out in the end,"
   ]
  },
  {
   "cell_type": "code",
   "execution_count": null,
   "id": "1fcb2fd9",
   "metadata": {},
   "outputs": [],
   "source": [
    "# training data error\n",
    "w1 = 0\n",
    "for i in range(np.shape(valX)[0]):\n",
    "    w1+= (np.sum(w*valX[i,:wSize]) - valY[i,0])**2\n",
    "\n",
    "TrainErr = np.append(TrainErr,w1/(np.shape(valX)[0]*2))\n",
    "w1/np.shape(valX)[0]"
   ]
  },
  {
   "cell_type": "code",
   "execution_count": null,
   "id": "4368b4f2",
   "metadata": {},
   "outputs": [],
   "source": [
    "# testing data error\n",
    "testError = 0\n",
    "for i in range(np.shape(testXVal)[0]):\n",
    "    testError += (np.sum(w*testXVal[i,:wSize]) - testYVal[i,0])**2\n",
    "\n",
    "TestErr = np.append(TestErr,testError/(np.shape(testXVal)[0]*2))\n",
    "testError/np.shape(testXVal)[0]"
   ]
  },
  {
   "cell_type": "code",
   "execution_count": null,
   "id": "fc9a2feb",
   "metadata": {},
   "outputs": [],
   "source": [
    "degree = 2"
   ]
  },
  {
   "cell_type": "code",
   "execution_count": null,
   "id": "07f15df3",
   "metadata": {},
   "outputs": [],
   "source": [
    "wSize = int((degree+1)*(degree+2)/2)\n",
    "w = np.zeros(wSize) # similar template for others\n",
    "w1 = np.zeros(wSize)\n",
    "#print(w, '\\n', w1)\n",
    "\n",
    "counter = 0\n",
    "costArr= np.zeros(iters+1)\n",
    "counterArr = np.zeros(iters+1)\n",
    "for i in range(iters):\n",
    "    w2 = np.zeros(wSize)\n",
    "    w2 = ((valY[k,0]-np.sum(w*valX[k,:wSize]))*valX[k,:wSize])\n",
    "\n",
    "    w2 = w2/np.shape(valX)[0] #N\n",
    "    \n",
    "    w1 = w + learningRate*w2\n",
    "    w=w1\n",
    "    counter+=1\n",
    "    costArr[counter] = w2[0]\n",
    "    counterArr[counter] = counter\n",
    "\n",
    "   \n",
    "\n",
    "for i in range(np.shape(w)[0]):    \n",
    "    print(\"w\", i, \"=\", w[i], sep = '')\n",
    "\n",
    "np.shape(valX)[0]\n",
    " "
   ]
  },
  {
   "cell_type": "code",
   "execution_count": null,
   "id": "a4ce44c7",
   "metadata": {},
   "outputs": [],
   "source": [
    "fig,ax = plt.subplots()\n",
    "ax.plot(costArr[1:-1])\n",
    "plt.title(\"Gradient Descent method degree %d - del(E) values\"% degree, y = 1, pad = 30)\n",
    "plt.show() # the number of iterations are maxed out in the end,"
   ]
  },
  {
   "cell_type": "code",
   "execution_count": null,
   "id": "18071149",
   "metadata": {},
   "outputs": [],
   "source": [
    "# training data error\n",
    "w1 = 0\n",
    "for i in range(np.shape(valX)[0]):\n",
    "    w1+= (np.sum(w*valX[i,:wSize]) - valY[i,0])**2\n",
    "\n",
    "TrainErr = np.append(TrainErr,w1/(np.shape(valX)[0]*2))\n",
    "w1/np.shape(valX)[0]"
   ]
  },
  {
   "cell_type": "code",
   "execution_count": null,
   "id": "6e897ff1",
   "metadata": {},
   "outputs": [],
   "source": [
    "# testing data error\n",
    "testError = 0\n",
    "for i in range(np.shape(testXVal)[0]):\n",
    "    testError += (np.sum(w*testXVal[i,:wSize]) - testYVal[i,0])**2\n",
    "\n",
    "TestErr = np.append(TestErr,testError/(np.shape(testXVal)[0]*2))\n",
    "testError/np.shape(testXVal)[0]"
   ]
  },
  {
   "cell_type": "code",
   "execution_count": null,
   "id": "3af3ed29",
   "metadata": {},
   "outputs": [],
   "source": [
    "degree = 3"
   ]
  },
  {
   "cell_type": "code",
   "execution_count": null,
   "id": "e21f7e00",
   "metadata": {},
   "outputs": [],
   "source": [
    "wSize = int((degree+1)*(degree+2)/2)\n",
    "w = np.zeros(wSize) # similar template for others\n",
    "w1 = np.zeros(wSize)\n",
    "#print(w, '\\n', w1)\n",
    "\n",
    "counter = 0\n",
    "costArr= np.zeros(iters+1)\n",
    "counterArr = np.zeros(iters+1)\n",
    "for i in range(iters):\n",
    "    w2 = np.zeros(wSize)\n",
    "    w2 = ((valY[k,0]-np.sum(w*valX[k,:wSize]))*valX[k,:wSize])\n",
    "\n",
    "    w2 = w2/np.shape(valX)[0] #N\n",
    "    \n",
    "    w1 = w + learningRate*w2\n",
    "    w=w1\n",
    "    counter+=1\n",
    "    costArr[counter] = w2[0]\n",
    "    counterArr[counter] = counter\n",
    "\n",
    "   \n",
    "\n",
    "for i in range(np.shape(w)[0]):    \n",
    "    print(\"w\", i, \"=\", w[i], sep = '')\n",
    "\n",
    "np.shape(valX)[0]\n",
    " "
   ]
  },
  {
   "cell_type": "code",
   "execution_count": null,
   "id": "3d6204b7",
   "metadata": {},
   "outputs": [],
   "source": [
    "fig,ax = plt.subplots()\n",
    "ax.plot(costArr[1:-1])\n",
    "plt.title(\"Gradient Descent method degree %d - del(E) values\"% degree, y = 1, pad = 30)\n",
    "plt.show() # the number of iterations are maxed out in the end,"
   ]
  },
  {
   "cell_type": "code",
   "execution_count": null,
   "id": "8223ca3f",
   "metadata": {},
   "outputs": [],
   "source": [
    "# training data error\n",
    "w1 = 0\n",
    "for i in range(np.shape(valX)[0]):\n",
    "    w1+= (np.sum(w*valX[i,:wSize]) - valY[i,0])**2\n",
    "\n",
    "TrainErr = np.append(TrainErr,w1/(np.shape(valX)[0]*2))\n",
    "w1/np.shape(valX)[0]"
   ]
  },
  {
   "cell_type": "code",
   "execution_count": null,
   "id": "a1b77f0b",
   "metadata": {},
   "outputs": [],
   "source": [
    "# testing data error\n",
    "testError = 0\n",
    "for i in range(np.shape(testXVal)[0]):\n",
    "    testError += (np.sum(w*testXVal[i,:wSize]) - testYVal[i,0])**2\n",
    "\n",
    "TestErr = np.append(TestErr,testError/(np.shape(testXVal)[0]*2))\n",
    "testError/np.shape(testXVal)[0]"
   ]
  },
  {
   "cell_type": "code",
   "execution_count": null,
   "id": "f827414e",
   "metadata": {},
   "outputs": [],
   "source": [
    "degree = 4"
   ]
  },
  {
   "cell_type": "code",
   "execution_count": null,
   "id": "90fcf75b",
   "metadata": {},
   "outputs": [],
   "source": [
    "wSize = int((degree+1)*(degree+2)/2)\n",
    "w = np.zeros(wSize) # similar template for others\n",
    "w1 = np.zeros(wSize)\n",
    "#print(w, '\\n', w1)\n",
    "\n",
    "counter = 0\n",
    "costArr= np.zeros(iters+1)\n",
    "counterArr = np.zeros(iters+1)\n",
    "for i in range(iters):\n",
    "    w2 = np.zeros(wSize)\n",
    "    w2 = ((valY[k,0]-np.sum(w*valX[k,:wSize]))*valX[k,:wSize])\n",
    "\n",
    "    w2 = w2/np.shape(valX)[0] #N\n",
    "    \n",
    "    w1 = w + learningRate*w2\n",
    "    w=w1\n",
    "    counter+=1\n",
    "    costArr[counter] = w2[0]\n",
    "    counterArr[counter] = counter\n",
    "\n",
    "   \n",
    "\n",
    "for i in range(np.shape(w)[0]):    \n",
    "    print(\"w\", i, \"=\", w[i], sep = '')\n",
    "\n",
    "np.shape(valX)[0]\n",
    " "
   ]
  },
  {
   "cell_type": "code",
   "execution_count": null,
   "id": "15b3e504",
   "metadata": {},
   "outputs": [],
   "source": [
    "fig,ax = plt.subplots()\n",
    "ax.plot(costArr[1:-1])\n",
    "plt.title(\"Gradient Descent method degree %d - del(E) values\"% degree, y = 1, pad = 30)\n",
    "plt.show() # the number of iterations are maxed out in the end,"
   ]
  },
  {
   "cell_type": "code",
   "execution_count": null,
   "id": "51a387d0",
   "metadata": {},
   "outputs": [],
   "source": [
    "# training data error\n",
    "w1 = 0\n",
    "for i in range(np.shape(valX)[0]):\n",
    "    w1+= (np.sum(w*valX[i,:wSize]) - valY[i,0])**2\n",
    "\n",
    "TrainErr = np.append(TrainErr,w1/(np.shape(valX)[0]*2))\n",
    "w1/np.shape(valX)[0]"
   ]
  },
  {
   "cell_type": "code",
   "execution_count": null,
   "id": "9d8b53a3",
   "metadata": {},
   "outputs": [],
   "source": [
    "# testing data error\n",
    "testError = 0\n",
    "for i in range(np.shape(testXVal)[0]):\n",
    "    testError += (np.sum(w*testXVal[i,:wSize]) - testYVal[i,0])**2\n",
    "\n",
    "TestErr = np.append(TestErr,testError/(np.shape(testXVal)[0]*2))\n",
    "testError/np.shape(testXVal)[0]"
   ]
  },
  {
   "cell_type": "code",
   "execution_count": null,
   "id": "6d85a82c",
   "metadata": {},
   "outputs": [],
   "source": [
    "degree = 5"
   ]
  },
  {
   "cell_type": "code",
   "execution_count": null,
   "id": "933e6484",
   "metadata": {},
   "outputs": [],
   "source": [
    "wSize = int((degree+1)*(degree+2)/2)\n",
    "w = np.zeros(wSize) # similar template for others\n",
    "w1 = np.zeros(wSize)\n",
    "#print(w, '\\n', w1)\n",
    "\n",
    "counter = 0\n",
    "costArr= np.zeros(iters+1)\n",
    "counterArr = np.zeros(iters+1)\n",
    "for i in range(iters):\n",
    "    w2 = np.zeros(wSize)\n",
    "    w2 = ((valY[k,0]-np.sum(w*valX[k,:wSize]))*valX[k,:wSize])\n",
    "\n",
    "    w2 = w2/np.shape(valX)[0] #N\n",
    "    \n",
    "    w1 = w + learningRate*w2\n",
    "    w=w1\n",
    "    counter+=1\n",
    "    costArr[counter] = w2[0]\n",
    "    counterArr[counter] = counter\n",
    "\n",
    "   \n",
    "\n",
    "for i in range(np.shape(w)[0]):    \n",
    "    print(\"w\", i, \"=\", w[i], sep = '')\n",
    "\n",
    "np.shape(valX)[0]\n",
    " "
   ]
  },
  {
   "cell_type": "code",
   "execution_count": null,
   "id": "980ea99e",
   "metadata": {},
   "outputs": [],
   "source": [
    "fig,ax = plt.subplots()\n",
    "ax.plot(costArr[1:-1])\n",
    "plt.title(\"Gradient Descent method degree %d - del(E) values\"% degree, y = 1, pad = 30)\n",
    "plt.show() # the number of iterations are maxed out in the end,"
   ]
  },
  {
   "cell_type": "code",
   "execution_count": null,
   "id": "ce6ae3a9",
   "metadata": {},
   "outputs": [],
   "source": [
    "# training data error\n",
    "w1 = 0\n",
    "for i in range(np.shape(valX)[0]):\n",
    "    w1+= (np.sum(w*valX[i,:wSize]) - valY[i,0])**2\n",
    "\n",
    "TrainErr = np.append(TrainErr,w1/(np.shape(valX)[0]*2))\n",
    "w1/np.shape(valX)[0]"
   ]
  },
  {
   "cell_type": "code",
   "execution_count": null,
   "id": "9b326eed",
   "metadata": {},
   "outputs": [],
   "source": [
    "# testing data error\n",
    "testError = 0\n",
    "for i in range(np.shape(testXVal)[0]):\n",
    "    testError += (np.sum(w*testXVal[i,:wSize]) - testYVal[i,0])**2\n",
    "\n",
    "TestErr = np.append(TestErr,testError/(np.shape(testXVal)[0]*2))\n",
    "testError/np.shape(testXVal)[0]"
   ]
  },
  {
   "cell_type": "code",
   "execution_count": null,
   "id": "c458b542",
   "metadata": {},
   "outputs": [],
   "source": [
    "degree = 6"
   ]
  },
  {
   "cell_type": "code",
   "execution_count": null,
   "id": "55d03921",
   "metadata": {},
   "outputs": [],
   "source": [
    "wSize = int((degree+1)*(degree+2)/2)\n",
    "w = np.zeros(wSize) # similar template for others\n",
    "w1 = np.zeros(wSize)\n",
    "#print(w, '\\n', w1)\n",
    "\n",
    "counter = 0\n",
    "costArr= np.zeros(iters+1)\n",
    "counterArr = np.zeros(iters+1)\n",
    "for i in range(iters):\n",
    "    w2 = np.zeros(wSize)\n",
    "    w2 = ((valY[k,0]-np.sum(w*valX[k,:wSize]))*valX[k,:wSize])\n",
    "\n",
    "    w2 = w2/np.shape(valX)[0] #N\n",
    "    \n",
    "    w1 = w + learningRate*w2\n",
    "    w=w1\n",
    "    counter+=1\n",
    "    costArr[counter] = w2[0]\n",
    "    counterArr[counter] = counter\n",
    "\n",
    "   \n",
    "\n",
    "for i in range(np.shape(w)[0]):    \n",
    "    print(\"w\", i, \"=\", w[i], sep = '')\n",
    "\n",
    "np.shape(valX)[0]\n",
    " "
   ]
  },
  {
   "cell_type": "code",
   "execution_count": null,
   "id": "95cdfa2e",
   "metadata": {},
   "outputs": [],
   "source": [
    "fig,ax = plt.subplots()\n",
    "ax.plot(costArr[1:-1])\n",
    "plt.title(\"Gradient Descent method degree %d - del(E) values\"% degree, y = 1, pad = 30)\n",
    "plt.show() # the number of iterations are maxed out in the end,"
   ]
  },
  {
   "cell_type": "code",
   "execution_count": null,
   "id": "20ce1e09",
   "metadata": {},
   "outputs": [],
   "source": [
    "# training data error\n",
    "w1 = 0\n",
    "for i in range(np.shape(valX)[0]):\n",
    "    w1+= (np.sum(w*valX[i,:wSize]) - valY[i,0])**2\n",
    "\n",
    "TrainErr = np.append(TrainErr,w1/(np.shape(valX)[0]*2))\n",
    "w1/np.shape(valX)[0]"
   ]
  },
  {
   "cell_type": "code",
   "execution_count": null,
   "id": "ebb1de49",
   "metadata": {},
   "outputs": [],
   "source": [
    "# testing data error\n",
    "testError = 0\n",
    "for i in range(np.shape(testXVal)[0]):\n",
    "    testError += (np.sum(w*testXVal[i,:wSize]) - testYVal[i,0])**2\n",
    "\n",
    "TestErr = np.append(TestErr,testError/(np.shape(testXVal)[0]*2))\n",
    "testError/np.shape(testXVal)[0]"
   ]
  },
  {
   "cell_type": "code",
   "execution_count": null,
   "id": "8f4ba4d9",
   "metadata": {},
   "outputs": [],
   "source": [
    "degree = 7"
   ]
  },
  {
   "cell_type": "code",
   "execution_count": null,
   "id": "df116ed6",
   "metadata": {},
   "outputs": [],
   "source": [
    "wSize = int((degree+1)*(degree+2)/2)\n",
    "w = np.zeros(wSize) # similar template for others\n",
    "w1 = np.zeros(wSize)\n",
    "#print(w, '\\n', w1)\n",
    "\n",
    "counter = 0\n",
    "costArr= np.zeros(iters+1)\n",
    "counterArr = np.zeros(iters+1)\n",
    "for i in range(iters):\n",
    "    w2 = np.zeros(wSize)\n",
    "    w2 = ((valY[k,0]-np.sum(w*valX[k,:wSize]))*valX[k,:wSize])\n",
    "\n",
    "    w2 = w2/np.shape(valX)[0] #N\n",
    "    \n",
    "    w1 = w + learningRate*w2\n",
    "    w=w1\n",
    "    counter+=1\n",
    "    costArr[counter] = w2[0]\n",
    "    counterArr[counter] = counter\n",
    "\n",
    "   \n",
    "\n",
    "for i in range(np.shape(w)[0]):    \n",
    "    print(\"w\", i, \"=\", w[i], sep = '')\n",
    "\n",
    "np.shape(valX)[0]\n",
    " "
   ]
  },
  {
   "cell_type": "code",
   "execution_count": null,
   "id": "816b1de0",
   "metadata": {},
   "outputs": [],
   "source": [
    "fig,ax = plt.subplots()\n",
    "ax.plot(costArr[1:-1])\n",
    "plt.title(\"Gradient Descent method degree %d - del(E) values\"% degree, y = 1, pad = 30)\n",
    "plt.show() # the number of iterations are maxed out in the end,"
   ]
  },
  {
   "cell_type": "code",
   "execution_count": null,
   "id": "1a2ae05a",
   "metadata": {},
   "outputs": [],
   "source": [
    "# training data error\n",
    "w1 = 0\n",
    "for i in range(np.shape(valX)[0]):\n",
    "    w1+= (np.sum(w*valX[i,:wSize]) - valY[i,0])**2\n",
    "\n",
    "TrainErr = np.append(TrainErr,w1/(np.shape(valX)[0]*2))\n",
    "w1/np.shape(valX)[0]"
   ]
  },
  {
   "cell_type": "code",
   "execution_count": null,
   "id": "e7227317",
   "metadata": {},
   "outputs": [],
   "source": [
    "# testing data error\n",
    "testError = 0\n",
    "for i in range(np.shape(testXVal)[0]):\n",
    "    testError += (np.sum(w*testXVal[i,:wSize]) - testYVal[i,0])**2\n",
    "\n",
    "TestErr = np.append(TestErr,testError/(np.shape(testXVal)[0]*2))\n",
    "testError/np.shape(testXVal)[0]"
   ]
  },
  {
   "cell_type": "code",
   "execution_count": null,
   "id": "5e0b82c5",
   "metadata": {},
   "outputs": [],
   "source": [
    "degree = 8"
   ]
  },
  {
   "cell_type": "code",
   "execution_count": null,
   "id": "6128e34f",
   "metadata": {},
   "outputs": [],
   "source": [
    "wSize = int((degree+1)*(degree+2)/2)\n",
    "w = np.zeros(wSize) # similar template for others\n",
    "w1 = np.zeros(wSize)\n",
    "#print(w, '\\n', w1)\n",
    "\n",
    "counter = 0\n",
    "costArr= np.zeros(iters+1)\n",
    "counterArr = np.zeros(iters+1)\n",
    "for i in range(iters):\n",
    "    w2 = np.zeros(wSize)\n",
    "    w2 = ((valY[k,0]-np.sum(w*valX[k,:wSize]))*valX[k,:wSize])\n",
    "\n",
    "    w2 = w2/np.shape(valX)[0] #N\n",
    "    \n",
    "    w1 = w + learningRate*w2\n",
    "    w=w1\n",
    "    counter+=1\n",
    "    costArr[counter] = w2[0]\n",
    "    counterArr[counter] = counter\n",
    "\n",
    "   \n",
    "\n",
    "for i in range(np.shape(w)[0]):    \n",
    "    print(\"w\", i, \"=\", w[i], sep = '')\n",
    "\n",
    "np.shape(valX)[0]\n",
    " "
   ]
  },
  {
   "cell_type": "code",
   "execution_count": null,
   "id": "5e6c4cd7",
   "metadata": {},
   "outputs": [],
   "source": [
    "fig,ax = plt.subplots()\n",
    "ax.plot(costArr[1:-1])\n",
    "plt.title(\"Gradient Descent method degree %d - del(E) values\"% degree, y = 1, pad = 30)\n",
    "plt.show() # the number of iterations are maxed out in the end,"
   ]
  },
  {
   "cell_type": "code",
   "execution_count": null,
   "id": "9208b8f7",
   "metadata": {},
   "outputs": [],
   "source": [
    "# training data error\n",
    "w1 = 0\n",
    "for i in range(np.shape(valX)[0]):\n",
    "    w1+= (np.sum(w*valX[i,:wSize]) - valY[i,0])**2\n",
    "\n",
    "TrainErr = np.append(TrainErr,w1/(np.shape(valX)[0]*2))\n",
    "w1/np.shape(valX)[0]"
   ]
  },
  {
   "cell_type": "code",
   "execution_count": null,
   "id": "e4d3c7b8",
   "metadata": {},
   "outputs": [],
   "source": [
    "# testing data error\n",
    "testError = 0\n",
    "for i in range(np.shape(testXVal)[0]):\n",
    "    testError += (np.sum(w*testXVal[i,:wSize]) - testYVal[i,0])**2\n",
    "\n",
    "TestErr = np.append(TestErr,testError/(np.shape(testXVal)[0]*2))\n",
    "testError/np.shape(testXVal)[0]"
   ]
  },
  {
   "cell_type": "code",
   "execution_count": null,
   "id": "a87b5304",
   "metadata": {},
   "outputs": [],
   "source": [
    "degree = 9"
   ]
  },
  {
   "cell_type": "code",
   "execution_count": null,
   "id": "96dec9c8",
   "metadata": {},
   "outputs": [],
   "source": [
    "wSize = int((degree+1)*(degree+2)/2)\n",
    "w = np.zeros(wSize) # similar template for others\n",
    "w1 = np.zeros(wSize)\n",
    "#print(w, '\\n', w1)\n",
    "\n",
    "counter = 0\n",
    "costArr= np.zeros(iters+1)\n",
    "counterArr = np.zeros(iters+1)\n",
    "for i in range(iters):\n",
    "    w2 = np.zeros(wSize)\n",
    "    w2 = ((valY[k,0]-np.sum(w*valX[k,:wSize]))*valX[k,:wSize])\n",
    "\n",
    "    w2 = w2/np.shape(valX)[0] #N\n",
    "    \n",
    "    w1 = w + learningRate*w2\n",
    "    w=w1\n",
    "    counter+=1\n",
    "    costArr[counter] = w2[0]\n",
    "    counterArr[counter] = counter\n",
    "\n",
    "   \n",
    "\n",
    "for i in range(np.shape(w)[0]):    \n",
    "    print(\"w\", i, \"=\", w[i], sep = '')\n",
    "\n",
    "np.shape(valX)[0]\n",
    " "
   ]
  },
  {
   "cell_type": "code",
   "execution_count": null,
   "id": "bddc66de",
   "metadata": {},
   "outputs": [],
   "source": [
    "fig,ax = plt.subplots()\n",
    "ax.plot(costArr[1:-1])\n",
    "plt.title(\"Gradient Descent method degree %d - del(E) values\"% degree, y = 1, pad = 30)\n",
    "plt.show() # the number of iterations are maxed out in the end,"
   ]
  },
  {
   "cell_type": "code",
   "execution_count": null,
   "id": "374257d9",
   "metadata": {},
   "outputs": [],
   "source": [
    "# training data error\n",
    "w1 = 0\n",
    "for i in range(np.shape(valX)[0]):\n",
    "    w1+= (np.sum(w*valX[i,:wSize]) - valY[i,0])**2\n",
    "\n",
    "TrainErr = np.append(TrainErr,w1/(np.shape(valX)[0]*2))\n",
    "w1/np.shape(valX)[0]"
   ]
  },
  {
   "cell_type": "code",
   "execution_count": null,
   "id": "a66d444e",
   "metadata": {},
   "outputs": [],
   "source": [
    "# testing data error\n",
    "testError = 0\n",
    "for i in range(np.shape(testXVal)[0]):\n",
    "    testError += (np.sum(w*testXVal[i,:wSize]) - testYVal[i,0])**2\n",
    "\n",
    "TestErr = np.append(TestErr,testError/(np.shape(testXVal)[0]*2))\n",
    "testError/np.shape(testXVal)[0]"
   ]
  },
  {
   "cell_type": "code",
   "execution_count": null,
   "id": "7e9d619f",
   "metadata": {
    "scrolled": true
   },
   "outputs": [],
   "source": [
    "TrainErr"
   ]
  },
  {
   "cell_type": "code",
   "execution_count": null,
   "id": "876a78a9",
   "metadata": {},
   "outputs": [],
   "source": [
    "TestErr"
   ]
  },
  {
   "cell_type": "code",
   "execution_count": null,
   "id": "bdd931ad",
   "metadata": {},
   "outputs": [],
   "source": [
    "Errors['Training-Stochastic Gradient Descent'] = TrainErr.copy()\n",
    "Errors['Test-Stochatic Gradient Descent'] = TestErr.copy()"
   ]
  },
  {
   "cell_type": "code",
   "execution_count": null,
   "id": "64ea3bdf",
   "metadata": {},
   "outputs": [],
   "source": [
    "X = np.array([i for i in range(10)])\n",
    "fig, ax = plt.subplots()\n",
    "Tr = plt.scatter(X, TrainErr, c = 'r')\n",
    "plt.plot(X, TrainErr, c = 'r')\n",
    "Te = plt.scatter(X, TestErr, c = 'b')\n",
    "plt.plot(X, TestErr, c = 'b')\n",
    "plt.legend((Tr,Te), ('Train','Test'))\n",
    "plt.show()"
   ]
  },
  {
   "cell_type": "code",
   "execution_count": null,
   "id": "6eab0d31",
   "metadata": {},
   "outputs": [],
   "source": [
    "Errors"
   ]
  }
 ],
 "metadata": {
  "kernelspec": {
   "display_name": "Python 3 (ipykernel)",
   "language": "python",
   "name": "python3"
  },
  "language_info": {
   "codemirror_mode": {
    "name": "ipython",
    "version": 3
   },
   "file_extension": ".py",
   "mimetype": "text/x-python",
   "name": "python",
   "nbconvert_exporter": "python",
   "pygments_lexer": "ipython3",
   "version": "3.9.12"
  },
  "vscode": {
   "interpreter": {
    "hash": "6491bbd3c7861498ceca5f810ff495ca48eaaad8857aa8ae48a42dff31e5d8e0"
   }
  }
 },
 "nbformat": 4,
 "nbformat_minor": 5
}
