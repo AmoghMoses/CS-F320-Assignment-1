{
 "cells": [
  {
   "cell_type": "code",
   "execution_count": 1,
   "id": "4d67eca0",
   "metadata": {},
   "outputs": [
    {
     "name": "stdout",
     "output_type": "stream",
     "text": [
      "Success\n"
     ]
    }
   ],
   "source": [
    "import pandas as pd\n",
    "import numpy as np\n",
    "import matplotlib.pyplot as plt\n",
    "from sklearn import tree\n",
    "from sklearn.model_selection import train_test_split\n",
    "from sklearn.tree import DecisionTreeRegressor\n",
    "from sklearn.preprocessing import StandardScaler\n",
    "from sklearn.linear_model import LinearRegression\n",
    "print(\"Success\")"
   ]
  },
  {
   "cell_type": "code",
   "execution_count": 2,
   "id": "a2b4e8a6",
   "metadata": {
    "scrolled": false
   },
   "outputs": [
    {
     "data": {
      "text/html": [
       "<div>\n",
       "<style scoped>\n",
       "    .dataframe tbody tr th:only-of-type {\n",
       "        vertical-align: middle;\n",
       "    }\n",
       "\n",
       "    .dataframe tbody tr th {\n",
       "        vertical-align: top;\n",
       "    }\n",
       "\n",
       "    .dataframe thead th {\n",
       "        text-align: right;\n",
       "    }\n",
       "</style>\n",
       "<table border=\"1\" class=\"dataframe\">\n",
       "  <thead>\n",
       "    <tr style=\"text-align: right;\">\n",
       "      <th></th>\n",
       "      <th>MLOGP</th>\n",
       "      <th>RDCHI</th>\n",
       "      <th>quantitative response of LC50</th>\n",
       "    </tr>\n",
       "  </thead>\n",
       "  <tbody>\n",
       "    <tr>\n",
       "      <th>0</th>\n",
       "      <td>2.419</td>\n",
       "      <td>1.225</td>\n",
       "      <td>3.740</td>\n",
       "    </tr>\n",
       "    <tr>\n",
       "      <th>1</th>\n",
       "      <td>2.638</td>\n",
       "      <td>1.401</td>\n",
       "      <td>4.330</td>\n",
       "    </tr>\n",
       "    <tr>\n",
       "      <th>2</th>\n",
       "      <td>5.799</td>\n",
       "      <td>2.930</td>\n",
       "      <td>7.019</td>\n",
       "    </tr>\n",
       "    <tr>\n",
       "      <th>3</th>\n",
       "      <td>5.453</td>\n",
       "      <td>2.887</td>\n",
       "      <td>6.723</td>\n",
       "    </tr>\n",
       "    <tr>\n",
       "      <th>4</th>\n",
       "      <td>4.068</td>\n",
       "      <td>2.758</td>\n",
       "      <td>5.979</td>\n",
       "    </tr>\n",
       "    <tr>\n",
       "      <th>...</th>\n",
       "      <td>...</td>\n",
       "      <td>...</td>\n",
       "      <td>...</td>\n",
       "    </tr>\n",
       "    <tr>\n",
       "      <th>541</th>\n",
       "      <td>3.326</td>\n",
       "      <td>2.837</td>\n",
       "      <td>4.651</td>\n",
       "    </tr>\n",
       "    <tr>\n",
       "      <th>542</th>\n",
       "      <td>3.275</td>\n",
       "      <td>2.727</td>\n",
       "      <td>3.953</td>\n",
       "    </tr>\n",
       "    <tr>\n",
       "      <th>543</th>\n",
       "      <td>5.165</td>\n",
       "      <td>3.111</td>\n",
       "      <td>6.219</td>\n",
       "    </tr>\n",
       "    <tr>\n",
       "      <th>544</th>\n",
       "      <td>2.859</td>\n",
       "      <td>2.614</td>\n",
       "      <td>4.995</td>\n",
       "    </tr>\n",
       "    <tr>\n",
       "      <th>545</th>\n",
       "      <td>2.255</td>\n",
       "      <td>1.800</td>\n",
       "      <td>2.480</td>\n",
       "    </tr>\n",
       "  </tbody>\n",
       "</table>\n",
       "<p>546 rows × 3 columns</p>\n",
       "</div>"
      ],
      "text/plain": [
       "     MLOGP  RDCHI  quantitative response of LC50\n",
       "0    2.419  1.225                          3.740\n",
       "1    2.638  1.401                          4.330\n",
       "2    5.799  2.930                          7.019\n",
       "3    5.453  2.887                          6.723\n",
       "4    4.068  2.758                          5.979\n",
       "..     ...    ...                            ...\n",
       "541  3.326  2.837                          4.651\n",
       "542  3.275  2.727                          3.953\n",
       "543  5.165  3.111                          6.219\n",
       "544  2.859  2.614                          4.995\n",
       "545  2.255  1.800                          2.480\n",
       "\n",
       "[546 rows x 3 columns]"
      ]
     },
     "execution_count": 2,
     "metadata": {},
     "output_type": "execute_result"
    }
   ],
   "source": [
    "df = pd.read_csv('fods_1.csv')\n",
    "df"
   ]
  },
  {
   "cell_type": "code",
   "execution_count": 3,
   "id": "3bed213f",
   "metadata": {},
   "outputs": [
    {
     "name": "stdout",
     "output_type": "stream",
     "text": [
      "2.3134926739926738 2.4922985347985356 4.6584212454212475 1.741797285664983 0.8110039291512505 1.6652150617992907\n"
     ]
    }
   ],
   "source": [
    "meanX1 = df['MLOGP'].mean()\n",
    "meanX2 = df['RDCHI'].mean()\n",
    "meanY = df['quantitative response of LC50'].mean()\n",
    "stdX1 = df['MLOGP'].std()\n",
    "stdX2 = df['RDCHI'].std()\n",
    "stdY = df['quantitative response of LC50'].std()\n",
    "print(meanX1, meanX2, meanY, stdX1, stdX2, stdY)"
   ]
  },
  {
   "cell_type": "code",
   "execution_count": 4,
   "id": "45c034ec",
   "metadata": {
    "scrolled": false
   },
   "outputs": [
    {
     "data": {
      "text/html": [
       "<div>\n",
       "<style scoped>\n",
       "    .dataframe tbody tr th:only-of-type {\n",
       "        vertical-align: middle;\n",
       "    }\n",
       "\n",
       "    .dataframe tbody tr th {\n",
       "        vertical-align: top;\n",
       "    }\n",
       "\n",
       "    .dataframe thead th {\n",
       "        text-align: right;\n",
       "    }\n",
       "</style>\n",
       "<table border=\"1\" class=\"dataframe\">\n",
       "  <thead>\n",
       "    <tr style=\"text-align: right;\">\n",
       "      <th></th>\n",
       "      <th>MLOGP</th>\n",
       "      <th>RDCHI</th>\n",
       "      <th>quantitative response of LC50</th>\n",
       "    </tr>\n",
       "  </thead>\n",
       "  <tbody>\n",
       "    <tr>\n",
       "      <th>0</th>\n",
       "      <td>0.060574</td>\n",
       "      <td>-1.562629</td>\n",
       "      <td>-0.551533</td>\n",
       "    </tr>\n",
       "    <tr>\n",
       "      <th>1</th>\n",
       "      <td>0.186306</td>\n",
       "      <td>-1.345614</td>\n",
       "      <td>-0.197225</td>\n",
       "    </tr>\n",
       "    <tr>\n",
       "      <th>2</th>\n",
       "      <td>2.001098</td>\n",
       "      <td>0.539703</td>\n",
       "      <td>1.417582</td>\n",
       "    </tr>\n",
       "    <tr>\n",
       "      <th>3</th>\n",
       "      <td>1.802453</td>\n",
       "      <td>0.486683</td>\n",
       "      <td>1.239827</td>\n",
       "    </tr>\n",
       "    <tr>\n",
       "      <th>4</th>\n",
       "      <td>1.007297</td>\n",
       "      <td>0.327620</td>\n",
       "      <td>0.793038</td>\n",
       "    </tr>\n",
       "    <tr>\n",
       "      <th>...</th>\n",
       "      <td>...</td>\n",
       "      <td>...</td>\n",
       "      <td>...</td>\n",
       "    </tr>\n",
       "    <tr>\n",
       "      <th>541</th>\n",
       "      <td>0.581300</td>\n",
       "      <td>0.425031</td>\n",
       "      <td>-0.004457</td>\n",
       "    </tr>\n",
       "    <tr>\n",
       "      <th>542</th>\n",
       "      <td>0.552020</td>\n",
       "      <td>0.289396</td>\n",
       "      <td>-0.423622</td>\n",
       "    </tr>\n",
       "    <tr>\n",
       "      <th>543</th>\n",
       "      <td>1.637106</td>\n",
       "      <td>0.762883</td>\n",
       "      <td>0.937163</td>\n",
       "    </tr>\n",
       "    <tr>\n",
       "      <th>544</th>\n",
       "      <td>0.313186</td>\n",
       "      <td>0.150063</td>\n",
       "      <td>0.202123</td>\n",
       "    </tr>\n",
       "    <tr>\n",
       "      <th>545</th>\n",
       "      <td>-0.033582</td>\n",
       "      <td>-0.853632</td>\n",
       "      <td>-1.308192</td>\n",
       "    </tr>\n",
       "  </tbody>\n",
       "</table>\n",
       "<p>546 rows × 3 columns</p>\n",
       "</div>"
      ],
      "text/plain": [
       "        MLOGP     RDCHI  quantitative response of LC50\n",
       "0    0.060574 -1.562629                      -0.551533\n",
       "1    0.186306 -1.345614                      -0.197225\n",
       "2    2.001098  0.539703                       1.417582\n",
       "3    1.802453  0.486683                       1.239827\n",
       "4    1.007297  0.327620                       0.793038\n",
       "..        ...       ...                            ...\n",
       "541  0.581300  0.425031                      -0.004457\n",
       "542  0.552020  0.289396                      -0.423622\n",
       "543  1.637106  0.762883                       0.937163\n",
       "544  0.313186  0.150063                       0.202123\n",
       "545 -0.033582 -0.853632                      -1.308192\n",
       "\n",
       "[546 rows x 3 columns]"
      ]
     },
     "execution_count": 4,
     "metadata": {},
     "output_type": "execute_result"
    }
   ],
   "source": [
    "df['MLOGP'] = (df['MLOGP'] - meanX1)/stdX1\n",
    "df['RDCHI'] = (df['RDCHI'] - meanX2)/stdX2\n",
    "df['quantitative response of LC50'] = (df['quantitative response of LC50'] - meanY)/stdY\n",
    "df"
   ]
  },
  {
   "cell_type": "code",
   "execution_count": 5,
   "id": "47c9de65",
   "metadata": {},
   "outputs": [
    {
     "data": {
      "text/plain": [
       "MLOGP                            0\n",
       "RDCHI                            0\n",
       "quantitative response of LC50    0\n",
       "dtype: int64"
      ]
     },
     "execution_count": 5,
     "metadata": {},
     "output_type": "execute_result"
    }
   ],
   "source": [
    "df.isnull().sum()"
   ]
  },
  {
   "cell_type": "code",
   "execution_count": 6,
   "id": "827d288f",
   "metadata": {},
   "outputs": [
    {
     "data": {
      "text/html": [
       "<div>\n",
       "<style scoped>\n",
       "    .dataframe tbody tr th:only-of-type {\n",
       "        vertical-align: middle;\n",
       "    }\n",
       "\n",
       "    .dataframe tbody tr th {\n",
       "        vertical-align: top;\n",
       "    }\n",
       "\n",
       "    .dataframe thead th {\n",
       "        text-align: right;\n",
       "    }\n",
       "</style>\n",
       "<table border=\"1\" class=\"dataframe\">\n",
       "  <thead>\n",
       "    <tr style=\"text-align: right;\">\n",
       "      <th></th>\n",
       "      <th>MLOGP</th>\n",
       "      <th>RDCHI</th>\n",
       "      <th>quantitative response of LC50</th>\n",
       "    </tr>\n",
       "  </thead>\n",
       "  <tbody>\n",
       "    <tr>\n",
       "      <th>435</th>\n",
       "      <td>-0.566939</td>\n",
       "      <td>0.655609</td>\n",
       "      <td>0.237554</td>\n",
       "    </tr>\n",
       "    <tr>\n",
       "      <th>332</th>\n",
       "      <td>-0.374035</td>\n",
       "      <td>4.116751</td>\n",
       "      <td>-0.465058</td>\n",
       "    </tr>\n",
       "    <tr>\n",
       "      <th>316</th>\n",
       "      <td>-1.137614</td>\n",
       "      <td>0.263502</td>\n",
       "      <td>-1.553206</td>\n",
       "    </tr>\n",
       "    <tr>\n",
       "      <th>536</th>\n",
       "      <td>0.574411</td>\n",
       "      <td>-0.573732</td>\n",
       "      <td>0.481967</td>\n",
       "    </tr>\n",
       "    <tr>\n",
       "      <th>260</th>\n",
       "      <td>2.110181</td>\n",
       "      <td>0.296794</td>\n",
       "      <td>1.399566</td>\n",
       "    </tr>\n",
       "    <tr>\n",
       "      <th>...</th>\n",
       "      <td>...</td>\n",
       "      <td>...</td>\n",
       "      <td>...</td>\n",
       "    </tr>\n",
       "    <tr>\n",
       "      <th>107</th>\n",
       "      <td>0.211567</td>\n",
       "      <td>0.506411</td>\n",
       "      <td>2.691892</td>\n",
       "    </tr>\n",
       "    <tr>\n",
       "      <th>265</th>\n",
       "      <td>0.668567</td>\n",
       "      <td>-0.700735</td>\n",
       "      <td>-0.312525</td>\n",
       "    </tr>\n",
       "    <tr>\n",
       "      <th>191</th>\n",
       "      <td>0.542834</td>\n",
       "      <td>-0.637850</td>\n",
       "      <td>-0.077120</td>\n",
       "    </tr>\n",
       "    <tr>\n",
       "      <th>502</th>\n",
       "      <td>-0.545122</td>\n",
       "      <td>-1.648942</td>\n",
       "      <td>-1.200699</td>\n",
       "    </tr>\n",
       "    <tr>\n",
       "      <th>499</th>\n",
       "      <td>-0.050231</td>\n",
       "      <td>-1.345614</td>\n",
       "      <td>-0.700463</td>\n",
       "    </tr>\n",
       "  </tbody>\n",
       "</table>\n",
       "<p>436 rows × 3 columns</p>\n",
       "</div>"
      ],
      "text/plain": [
       "        MLOGP     RDCHI  quantitative response of LC50\n",
       "435 -0.566939  0.655609                       0.237554\n",
       "332 -0.374035  4.116751                      -0.465058\n",
       "316 -1.137614  0.263502                      -1.553206\n",
       "536  0.574411 -0.573732                       0.481967\n",
       "260  2.110181  0.296794                       1.399566\n",
       "..        ...       ...                            ...\n",
       "107  0.211567  0.506411                       2.691892\n",
       "265  0.668567 -0.700735                      -0.312525\n",
       "191  0.542834 -0.637850                      -0.077120\n",
       "502 -0.545122 -1.648942                      -1.200699\n",
       "499 -0.050231 -1.345614                      -0.700463\n",
       "\n",
       "[436 rows x 3 columns]"
      ]
     },
     "execution_count": 6,
     "metadata": {},
     "output_type": "execute_result"
    }
   ],
   "source": [
    "train, test = train_test_split(df, test_size=0.2) # this is a random split\n",
    "train"
   ]
  },
  {
   "cell_type": "code",
   "execution_count": 7,
   "id": "f5790539",
   "metadata": {
    "scrolled": false
   },
   "outputs": [
    {
     "data": {
      "text/html": [
       "<div>\n",
       "<style scoped>\n",
       "    .dataframe tbody tr th:only-of-type {\n",
       "        vertical-align: middle;\n",
       "    }\n",
       "\n",
       "    .dataframe tbody tr th {\n",
       "        vertical-align: top;\n",
       "    }\n",
       "\n",
       "    .dataframe thead th {\n",
       "        text-align: right;\n",
       "    }\n",
       "</style>\n",
       "<table border=\"1\" class=\"dataframe\">\n",
       "  <thead>\n",
       "    <tr style=\"text-align: right;\">\n",
       "      <th></th>\n",
       "      <th>MLOGP</th>\n",
       "      <th>RDCHI</th>\n",
       "      <th>quantitative response of LC50</th>\n",
       "    </tr>\n",
       "  </thead>\n",
       "  <tbody>\n",
       "    <tr>\n",
       "      <th>126</th>\n",
       "      <td>-0.301122</td>\n",
       "      <td>1.085940</td>\n",
       "      <td>-0.736494</td>\n",
       "    </tr>\n",
       "    <tr>\n",
       "      <th>529</th>\n",
       "      <td>-2.107876</td>\n",
       "      <td>0.666706</td>\n",
       "      <td>-0.934066</td>\n",
       "    </tr>\n",
       "    <tr>\n",
       "      <th>28</th>\n",
       "      <td>0.526185</td>\n",
       "      <td>0.169791</td>\n",
       "      <td>-0.182211</td>\n",
       "    </tr>\n",
       "    <tr>\n",
       "      <th>187</th>\n",
       "      <td>0.102485</td>\n",
       "      <td>0.205550</td>\n",
       "      <td>1.280062</td>\n",
       "    </tr>\n",
       "    <tr>\n",
       "      <th>212</th>\n",
       "      <td>1.300672</td>\n",
       "      <td>1.704926</td>\n",
       "      <td>2.046930</td>\n",
       "    </tr>\n",
       "    <tr>\n",
       "      <th>...</th>\n",
       "      <td>...</td>\n",
       "      <td>...</td>\n",
       "      <td>...</td>\n",
       "    </tr>\n",
       "    <tr>\n",
       "      <th>134</th>\n",
       "      <td>-0.550864</td>\n",
       "      <td>-0.742658</td>\n",
       "      <td>-1.938741</td>\n",
       "    </tr>\n",
       "    <tr>\n",
       "      <th>541</th>\n",
       "      <td>0.581300</td>\n",
       "      <td>0.425031</td>\n",
       "      <td>-0.004457</td>\n",
       "    </tr>\n",
       "    <tr>\n",
       "      <th>444</th>\n",
       "      <td>-0.922893</td>\n",
       "      <td>-0.990499</td>\n",
       "      <td>-2.064851</td>\n",
       "    </tr>\n",
       "    <tr>\n",
       "      <th>355</th>\n",
       "      <td>-0.220745</td>\n",
       "      <td>0.868925</td>\n",
       "      <td>-0.283099</td>\n",
       "    </tr>\n",
       "    <tr>\n",
       "      <th>430</th>\n",
       "      <td>0.332132</td>\n",
       "      <td>1.226506</td>\n",
       "      <td>-0.624196</td>\n",
       "    </tr>\n",
       "  </tbody>\n",
       "</table>\n",
       "<p>110 rows × 3 columns</p>\n",
       "</div>"
      ],
      "text/plain": [
       "        MLOGP     RDCHI  quantitative response of LC50\n",
       "126 -0.301122  1.085940                      -0.736494\n",
       "529 -2.107876  0.666706                      -0.934066\n",
       "28   0.526185  0.169791                      -0.182211\n",
       "187  0.102485  0.205550                       1.280062\n",
       "212  1.300672  1.704926                       2.046930\n",
       "..        ...       ...                            ...\n",
       "134 -0.550864 -0.742658                      -1.938741\n",
       "541  0.581300  0.425031                      -0.004457\n",
       "444 -0.922893 -0.990499                      -2.064851\n",
       "355 -0.220745  0.868925                      -0.283099\n",
       "430  0.332132  1.226506                      -0.624196\n",
       "\n",
       "[110 rows x 3 columns]"
      ]
     },
     "execution_count": 7,
     "metadata": {},
     "output_type": "execute_result"
    }
   ],
   "source": [
    "test"
   ]
  },
  {
   "cell_type": "code",
   "execution_count": 8,
   "id": "72fb5c78",
   "metadata": {},
   "outputs": [
    {
     "data": {
      "image/png": "[encoded data removed]",
      "text/plain": [
       "<Figure size 432x288 with 1 Axes>"
      ]
     },
     "metadata": {
      "needs_background": "light"
     },
     "output_type": "display_data"
    }
   ],
   "source": [
    "ax = plt.axes(projection='3d')\n",
    "\n",
    "# Data for three-dimensional scattered points\n",
    "zdata = train[\"quantitative response of LC50\"]\n",
    "xdata = train[\"RDCHI\"]\n",
    "ydata = train[\"MLOGP\"]\n",
    "ax.scatter3D(xdata, ydata, zdata, c=zdata, cmap='Greens');"
   ]
  },
  {
   "cell_type": "code",
   "execution_count": 9,
   "id": "16cf1ca1",
   "metadata": {},
   "outputs": [
    {
     "data": {
      "text/html": [
       "<div>\n",
       "<style scoped>\n",
       "    .dataframe tbody tr th:only-of-type {\n",
       "        vertical-align: middle;\n",
       "    }\n",
       "\n",
       "    .dataframe tbody tr th {\n",
       "        vertical-align: top;\n",
       "    }\n",
       "\n",
       "    .dataframe thead th {\n",
       "        text-align: right;\n",
       "    }\n",
       "</style>\n",
       "<table border=\"1\" class=\"dataframe\">\n",
       "  <thead>\n",
       "    <tr style=\"text-align: right;\">\n",
       "      <th></th>\n",
       "      <th>RDCHI</th>\n",
       "      <th>MLOGP</th>\n",
       "    </tr>\n",
       "  </thead>\n",
       "  <tbody>\n",
       "    <tr>\n",
       "      <th>435</th>\n",
       "      <td>0.655609</td>\n",
       "      <td>-0.566939</td>\n",
       "    </tr>\n",
       "    <tr>\n",
       "      <th>332</th>\n",
       "      <td>4.116751</td>\n",
       "      <td>-0.374035</td>\n",
       "    </tr>\n",
       "    <tr>\n",
       "      <th>316</th>\n",
       "      <td>0.263502</td>\n",
       "      <td>-1.137614</td>\n",
       "    </tr>\n",
       "    <tr>\n",
       "      <th>536</th>\n",
       "      <td>-0.573732</td>\n",
       "      <td>0.574411</td>\n",
       "    </tr>\n",
       "    <tr>\n",
       "      <th>260</th>\n",
       "      <td>0.296794</td>\n",
       "      <td>2.110181</td>\n",
       "    </tr>\n",
       "    <tr>\n",
       "      <th>...</th>\n",
       "      <td>...</td>\n",
       "      <td>...</td>\n",
       "    </tr>\n",
       "    <tr>\n",
       "      <th>107</th>\n",
       "      <td>0.506411</td>\n",
       "      <td>0.211567</td>\n",
       "    </tr>\n",
       "    <tr>\n",
       "      <th>265</th>\n",
       "      <td>-0.700735</td>\n",
       "      <td>0.668567</td>\n",
       "    </tr>\n",
       "    <tr>\n",
       "      <th>191</th>\n",
       "      <td>-0.637850</td>\n",
       "      <td>0.542834</td>\n",
       "    </tr>\n",
       "    <tr>\n",
       "      <th>502</th>\n",
       "      <td>-1.648942</td>\n",
       "      <td>-0.545122</td>\n",
       "    </tr>\n",
       "    <tr>\n",
       "      <th>499</th>\n",
       "      <td>-1.345614</td>\n",
       "      <td>-0.050231</td>\n",
       "    </tr>\n",
       "  </tbody>\n",
       "</table>\n",
       "<p>436 rows × 2 columns</p>\n",
       "</div>"
      ],
      "text/plain": [
       "        RDCHI     MLOGP\n",
       "435  0.655609 -0.566939\n",
       "332  4.116751 -0.374035\n",
       "316  0.263502 -1.137614\n",
       "536 -0.573732  0.574411\n",
       "260  0.296794  2.110181\n",
       "..        ...       ...\n",
       "107  0.506411  0.211567\n",
       "265 -0.700735  0.668567\n",
       "191 -0.637850  0.542834\n",
       "502 -1.648942 -0.545122\n",
       "499 -1.345614 -0.050231\n",
       "\n",
       "[436 rows x 2 columns]"
      ]
     },
     "execution_count": 9,
     "metadata": {},
     "output_type": "execute_result"
    }
   ],
   "source": [
    "dataF = pd.DataFrame(train[[\"RDCHI\", \"MLOGP\"]])\n",
    "dataF"
   ]
  },
  {
   "cell_type": "code",
   "execution_count": 10,
   "id": "d79abd31",
   "metadata": {},
   "outputs": [
    {
     "data": {
      "text/html": [
       "<div>\n",
       "<style scoped>\n",
       "    .dataframe tbody tr th:only-of-type {\n",
       "        vertical-align: middle;\n",
       "    }\n",
       "\n",
       "    .dataframe tbody tr th {\n",
       "        vertical-align: top;\n",
       "    }\n",
       "\n",
       "    .dataframe thead th {\n",
       "        text-align: right;\n",
       "    }\n",
       "</style>\n",
       "<table border=\"1\" class=\"dataframe\">\n",
       "  <thead>\n",
       "    <tr style=\"text-align: right;\">\n",
       "      <th></th>\n",
       "      <th>quantitative response of LC50</th>\n",
       "    </tr>\n",
       "  </thead>\n",
       "  <tbody>\n",
       "    <tr>\n",
       "      <th>435</th>\n",
       "      <td>0.237554</td>\n",
       "    </tr>\n",
       "    <tr>\n",
       "      <th>332</th>\n",
       "      <td>-0.465058</td>\n",
       "    </tr>\n",
       "    <tr>\n",
       "      <th>316</th>\n",
       "      <td>-1.553206</td>\n",
       "    </tr>\n",
       "    <tr>\n",
       "      <th>536</th>\n",
       "      <td>0.481967</td>\n",
       "    </tr>\n",
       "    <tr>\n",
       "      <th>260</th>\n",
       "      <td>1.399566</td>\n",
       "    </tr>\n",
       "    <tr>\n",
       "      <th>...</th>\n",
       "      <td>...</td>\n",
       "    </tr>\n",
       "    <tr>\n",
       "      <th>107</th>\n",
       "      <td>2.691892</td>\n",
       "    </tr>\n",
       "    <tr>\n",
       "      <th>265</th>\n",
       "      <td>-0.312525</td>\n",
       "    </tr>\n",
       "    <tr>\n",
       "      <th>191</th>\n",
       "      <td>-0.077120</td>\n",
       "    </tr>\n",
       "    <tr>\n",
       "      <th>502</th>\n",
       "      <td>-1.200699</td>\n",
       "    </tr>\n",
       "    <tr>\n",
       "      <th>499</th>\n",
       "      <td>-0.700463</td>\n",
       "    </tr>\n",
       "  </tbody>\n",
       "</table>\n",
       "<p>436 rows × 1 columns</p>\n",
       "</div>"
      ],
      "text/plain": [
       "     quantitative response of LC50\n",
       "435                       0.237554\n",
       "332                      -0.465058\n",
       "316                      -1.553206\n",
       "536                       0.481967\n",
       "260                       1.399566\n",
       "..                             ...\n",
       "107                       2.691892\n",
       "265                      -0.312525\n",
       "191                      -0.077120\n",
       "502                      -1.200699\n",
       "499                      -0.700463\n",
       "\n",
       "[436 rows x 1 columns]"
      ]
     },
     "execution_count": 10,
     "metadata": {},
     "output_type": "execute_result"
    }
   ],
   "source": [
    "targetF = pd.DataFrame(train[\"quantitative response of LC50\"])\n",
    "targetF"
   ]
  },
  {
   "cell_type": "code",
   "execution_count": 11,
   "id": "e16de32f",
   "metadata": {},
   "outputs": [
    {
     "data": {
      "text/plain": [
       "(array([0.03061612]), array([[0.24733856, 0.44891418]]))"
      ]
     },
     "execution_count": 11,
     "metadata": {},
     "output_type": "execute_result"
    }
   ],
   "source": [
    "sc=StandardScaler()\n",
    "X_transform=sc.fit_transform(dataF)\n",
    "lin_reg = LinearRegression()\n",
    "lin_reg.fit(X_transform, targetF)\n",
    "lin_reg.intercept_, lin_reg.coef_"
   ]
  },
  {
   "cell_type": "code",
   "execution_count": 12,
   "id": "b4d519d5",
   "metadata": {
    "scrolled": false
   },
   "outputs": [
    {
     "name": "stdout",
     "output_type": "stream",
     "text": [
      "(436, 1)\n",
      "(436, 55)\n",
      "0.6556089879341426\n"
     ]
    }
   ],
   "source": [
    "# Value order to be followed: x1,x2, x1^2,x1x2,x2^2, x1^3,x1^2x2,x1x2^2,x2^3.... meant for all degrees of gradient descent\n",
    "valX = dataF[dataF.columns[:]].to_numpy()\n",
    "valX1 = valX[:,0]**2 ##------------------------------------------------------------------------------------------------x1^2\n",
    "valX = np.append(valX, np.column_stack([valX1]), axis = 1)\n",
    "valX1 = valX[:,0]*valX[:,1] #------------------------------------------------------------------------------------------x1x2\n",
    "valX = np.append(valX, np.column_stack([valX1]), axis = 1)\n",
    "valX1 = valX[:,1]**2 ##------------------------------------------------------------------------------------------------x2^2\n",
    "valX = np.append(valX, np.column_stack([valX1]), axis = 1)\n",
    "\n",
    "valX1 = valX[:,0]**3 ##------------------------------------------------------------------------------------------------x1^3\n",
    "valX = np.append(valX, np.column_stack([valX1]), axis = 1)\n",
    "valX1 = (valX[:,0]**2)*(valX[:,1]) ##----------------------------------------------------------------------------------x1^2x2\n",
    "valX = np.append(valX, np.column_stack([valX1]), axis = 1)\n",
    "valX1 = (valX[:,0])*(valX[:,1]**2) ##----------------------------------------------------------------------------------x1x2^2\n",
    "valX = np.append(valX, np.column_stack([valX1]), axis = 1)\n",
    "valX1 = valX[:,1]**3 #-------------------------------------------------------------------------------------------------x2^3\n",
    "valX = np.append(valX, np.column_stack([valX1]), axis = 1)\n",
    "\n",
    "valX1 = valX[:,0]**4 #-------------------------------------------------------------------------------------------------x1^4\n",
    "valX = np.append(valX, np.column_stack([valX1]), axis = 1)\n",
    "valX1 = (valX[:,0]**3)*(valX[:,1]) #-----------------------------------------------------------------------------------x1^3x2\n",
    "valX = np.append(valX, np.column_stack([valX1]), axis = 1)\n",
    "valX1 = (valX[:,0]**2)*(valX[:,1]**2) #--------------------------------------------------------------------------------x1^2x2^2\n",
    "valX = np.append(valX, np.column_stack([valX1]), axis = 1)\n",
    "valX1 = (valX[:,0])*(valX[:,1]**3) #-----------------------------------------------------------------------------------x1x2^3\n",
    "valX = np.append(valX, np.column_stack([valX1]), axis = 1)\n",
    "valX1 = valX[:,1]**4 #-------------------------------------------------------------------------------------------------x2^4\n",
    "valX = np.append(valX, np.column_stack([valX1]), axis = 1)\n",
    "\n",
    "valX1 = valX[:,0]**5 #-------------------------------------------------------------------------------------------------x1^5\n",
    "valX = np.append(valX, np.column_stack([valX1]), axis = 1)\n",
    "valX1 = (valX[:,0]**4)*(valX[:,1]) #-----------------------------------------------------------------------------------x1^4x2\n",
    "valX = np.append(valX, np.column_stack([valX1]), axis = 1)\n",
    "valX1 = (valX[:,0]**3)*(valX[:,1]**2) #--------------------------------------------------------------------------------x1^3x2^2\n",
    "valX = np.append(valX, np.column_stack([valX1]), axis = 1)\n",
    "valX1 = (valX[:,0]**2)*(valX[:,1]**3) #--------------------------------------------------------------------------------x1^2x2^3\n",
    "valX = np.append(valX, np.column_stack([valX1]), axis = 1)\n",
    "valX1 = (valX[:,0])*(valX[:,1]**4) #-----------------------------------------------------------------------------------x1x2^4\n",
    "valX = np.append(valX, np.column_stack([valX1]), axis = 1)\n",
    "valX1 = valX[:,1]**5 #-------------------------------------------------------------------------------------------------x2^5\n",
    "valX = np.append(valX, np.column_stack([valX1]), axis = 1)\n",
    "\n",
    "valX1 = valX[:,0]**6 #-------------------------------------------------------------------------------------------------x1^6\n",
    "valX = np.append(valX, np.column_stack([valX1]), axis = 1)\n",
    "valX1 = (valX[:,0]**5)*(valX[:,1]) #-----------------------------------------------------------------------------------x1^5x2\n",
    "valX = np.append(valX, np.column_stack([valX1]), axis = 1)\n",
    "valX1 = (valX[:,0]**4)*(valX[:,1]**2) #--------------------------------------------------------------------------------x1^4x2^2\n",
    "valX = np.append(valX, np.column_stack([valX1]), axis = 1)\n",
    "valX1 = (valX[:,0]**3)*(valX[:,1]**3) #--------------------------------------------------------------------------------x1^3x2^3\n",
    "valX = np.append(valX, np.column_stack([valX1]), axis = 1)\n",
    "valX1 = (valX[:,0]**2)*(valX[:,1]**4) #--------------------------------------------------------------------------------x1^2x2^4\n",
    "valX = np.append(valX, np.column_stack([valX1]), axis = 1)\n",
    "valX1 = (valX[:,0])*(valX[:,1]**5) #-----------------------------------------------------------------------------------x1x2^4\n",
    "valX = np.append(valX, np.column_stack([valX1]), axis = 1)\n",
    "valX1 = valX[:,1]**6 #-------------------------------------------------------------------------------------------------x2^6\n",
    "valX = np.append(valX, np.column_stack([valX1]), axis = 1)\n",
    "\n",
    "valX1 = valX[:,0]**7 #-------------------------------------------------------------------------------------------------x1^7\n",
    "valX = np.append(valX, np.column_stack([valX1]), axis = 1)\n",
    "valX1 = (valX[:,0]**6)*(valX[:,1]) #-----------------------------------------------------------------------------------x1^6x2\n",
    "valX = np.append(valX, np.column_stack([valX1]), axis = 1)\n",
    "valX1 = (valX[:,0]**5)*(valX[:,1]**2) #--------------------------------------------------------------------------------x1^5x2^2\n",
    "valX = np.append(valX, np.column_stack([valX1]), axis = 1)\n",
    "valX1 = (valX[:,0]**4)*(valX[:,1]**3) #--------------------------------------------------------------------------------x1^4x2^3\n",
    "valX = np.append(valX, np.column_stack([valX1]), axis = 1)\n",
    "valX1 = (valX[:,0]**3)*(valX[:,1]**4) #--------------------------------------------------------------------------------x1^3x2^4\n",
    "valX = np.append(valX, np.column_stack([valX1]), axis = 1)\n",
    "valX1 = (valX[:,0]**2)*(valX[:,1]**5) #--------------------------------------------------------------------------------x1^2x2^5\n",
    "valX = np.append(valX, np.column_stack([valX1]), axis = 1)\n",
    "valX1 = (valX[:,0])*(valX[:,1]**6) #-----------------------------------------------------------------------------------x1x2^6\n",
    "valX = np.append(valX, np.column_stack([valX1]), axis = 1)\n",
    "valX1 = valX[:,1]**7 #-------------------------------------------------------------------------------------------------x2^7\n",
    "valX = np.append(valX, np.column_stack([valX1]), axis = 1)\n",
    "\n",
    "\n",
    "valX1 = valX[:,0]**8 #-------------------------------------------------------------------------------------------------x1^8\n",
    "valX = np.append(valX, np.column_stack([valX1]), axis = 1)\n",
    "valX1 = (valX[:,0]**7)*(valX[:,1]) #-----------------------------------------------------------------------------------x1^7x2\n",
    "valX = np.append(valX, np.column_stack([valX1]), axis = 1)\n",
    "valX1 = (valX[:,0]**6)*(valX[:,1]**2) #--------------------------------------------------------------------------------x1^6x2^2\n",
    "valX = np.append(valX, np.column_stack([valX1]), axis = 1)\n",
    "valX1 = (valX[:,0]**5)*(valX[:,1]**3) #--------------------------------------------------------------------------------x1^5x2^3\n",
    "valX = np.append(valX, np.column_stack([valX1]), axis = 1)\n",
    "valX1 = (valX[:,0]**4)*(valX[:,1]**4) #--------------------------------------------------------------------------------x1^4x2^4\n",
    "valX = np.append(valX, np.column_stack([valX1]), axis = 1)\n",
    "valX1 = (valX[:,0]**3)*(valX[:,1]**5) #--------------------------------------------------------------------------------x1^3x2^5\n",
    "valX = np.append(valX, np.column_stack([valX1]), axis = 1)\n",
    "valX1 = (valX[:,0]**2)*(valX[:,1]**6) #--------------------------------------------------------------------------------x1^2x2^6\n",
    "valX = np.append(valX, np.column_stack([valX1]), axis = 1)\n",
    "valX1 = (valX[:,0])*(valX[:,1]**7) #-----------------------------------------------------------------------------------x1x2^7\n",
    "valX = np.append(valX, np.column_stack([valX1]), axis = 1)\n",
    "valX1 = valX[:,1]**8 #-------------------------------------------------------------------------------------------------x2^8\n",
    "valX = np.append(valX, np.column_stack([valX1]), axis = 1)\n",
    "\n",
    "valX1 = valX[:,0]**9 #-------------------------------------------------------------------------------------------------x1^9\n",
    "valX = np.append(valX, np.column_stack([valX1]), axis = 1)\n",
    "valX1 = (valX[:,0]**8)*(valX[:,1]) #-----------------------------------------------------------------------------------x1^8x2\n",
    "valX = np.append(valX, np.column_stack([valX1]), axis = 1)\n",
    "valX1 = (valX[:,0]**7)*(valX[:,1]**2) #--------------------------------------------------------------------------------x1^7x2^2\n",
    "valX = np.append(valX, np.column_stack([valX1]), axis = 1)\n",
    "valX1 = (valX[:,0]**6)*(valX[:,1]**3) #--------------------------------------------------------------------------------x1^6x2^3\n",
    "valX = np.append(valX, np.column_stack([valX1]), axis = 1)\n",
    "valX1 = (valX[:,0]**5)*(valX[:,1]**4) #--------------------------------------------------------------------------------x1^5x2^4\n",
    "valX = np.append(valX, np.column_stack([valX1]), axis = 1)\n",
    "valX1 = (valX[:,0]**4)*(valX[:,1]**5) #--------------------------------------------------------------------------------x1^4x2^5\n",
    "valX = np.append(valX, np.column_stack([valX1]), axis = 1)\n",
    "valX1 = (valX[:,0]**3)*(valX[:,1]**6) #--------------------------------------------------------------------------------x1^3x2^6\n",
    "valX = np.append(valX, np.column_stack([valX1]), axis = 1)\n",
    "valX1 = (valX[:,0]**2)*(valX[:,1]**7) #--------------------------------------------------------------------------------x1^3x2^6\n",
    "valX = np.append(valX, np.column_stack([valX1]), axis = 1)\n",
    "valX1 = (valX[:,0])*(valX[:,1]**8) #-----------------------------------------------------------------------------------x1x2^8\n",
    "valX = np.append(valX, np.column_stack([valX1]), axis = 1)\n",
    "valX1 = valX[:,1]**9 #-------------------------------------------------------------------------------------------------x2^9\n",
    "valX = np.append(valX, np.column_stack([valX1]), axis = 1)\n",
    "\n",
    "valX = np.append(np.ones((436,1)), valX, axis=1)\n",
    "\n",
    "valY = targetF[targetF.columns[:]].to_numpy()\n",
    "print(np.shape(valY))\n",
    "print(np.shape(valX))\n",
    "# valX is the nd array of target values and their exponents, valY is the respective Yn for every x1n and x2n\n",
    "\n",
    "print(valX[0,1])\n"
   ]
  },
  {
   "cell_type": "code",
   "execution_count": 13,
   "id": "cbb0e298",
   "metadata": {},
   "outputs": [
    {
     "data": {
      "text/html": [
       "<div>\n",
       "<style scoped>\n",
       "    .dataframe tbody tr th:only-of-type {\n",
       "        vertical-align: middle;\n",
       "    }\n",
       "\n",
       "    .dataframe tbody tr th {\n",
       "        vertical-align: top;\n",
       "    }\n",
       "\n",
       "    .dataframe thead th {\n",
       "        text-align: right;\n",
       "    }\n",
       "</style>\n",
       "<table border=\"1\" class=\"dataframe\">\n",
       "  <thead>\n",
       "    <tr style=\"text-align: right;\">\n",
       "      <th></th>\n",
       "      <th>RDCHI</th>\n",
       "      <th>MLOGP</th>\n",
       "    </tr>\n",
       "  </thead>\n",
       "  <tbody>\n",
       "    <tr>\n",
       "      <th>126</th>\n",
       "      <td>1.085940</td>\n",
       "      <td>-0.301122</td>\n",
       "    </tr>\n",
       "    <tr>\n",
       "      <th>529</th>\n",
       "      <td>0.666706</td>\n",
       "      <td>-2.107876</td>\n",
       "    </tr>\n",
       "    <tr>\n",
       "      <th>28</th>\n",
       "      <td>0.169791</td>\n",
       "      <td>0.526185</td>\n",
       "    </tr>\n",
       "    <tr>\n",
       "      <th>187</th>\n",
       "      <td>0.205550</td>\n",
       "      <td>0.102485</td>\n",
       "    </tr>\n",
       "    <tr>\n",
       "      <th>212</th>\n",
       "      <td>1.704926</td>\n",
       "      <td>1.300672</td>\n",
       "    </tr>\n",
       "    <tr>\n",
       "      <th>...</th>\n",
       "      <td>...</td>\n",
       "      <td>...</td>\n",
       "    </tr>\n",
       "    <tr>\n",
       "      <th>134</th>\n",
       "      <td>-0.742658</td>\n",
       "      <td>-0.550864</td>\n",
       "    </tr>\n",
       "    <tr>\n",
       "      <th>541</th>\n",
       "      <td>0.425031</td>\n",
       "      <td>0.581300</td>\n",
       "    </tr>\n",
       "    <tr>\n",
       "      <th>444</th>\n",
       "      <td>-0.990499</td>\n",
       "      <td>-0.922893</td>\n",
       "    </tr>\n",
       "    <tr>\n",
       "      <th>355</th>\n",
       "      <td>0.868925</td>\n",
       "      <td>-0.220745</td>\n",
       "    </tr>\n",
       "    <tr>\n",
       "      <th>430</th>\n",
       "      <td>1.226506</td>\n",
       "      <td>0.332132</td>\n",
       "    </tr>\n",
       "  </tbody>\n",
       "</table>\n",
       "<p>110 rows × 2 columns</p>\n",
       "</div>"
      ],
      "text/plain": [
       "        RDCHI     MLOGP\n",
       "126  1.085940 -0.301122\n",
       "529  0.666706 -2.107876\n",
       "28   0.169791  0.526185\n",
       "187  0.205550  0.102485\n",
       "212  1.704926  1.300672\n",
       "..        ...       ...\n",
       "134 -0.742658 -0.550864\n",
       "541  0.425031  0.581300\n",
       "444 -0.990499 -0.922893\n",
       "355  0.868925 -0.220745\n",
       "430  1.226506  0.332132\n",
       "\n",
       "[110 rows x 2 columns]"
      ]
     },
     "execution_count": 13,
     "metadata": {},
     "output_type": "execute_result"
    }
   ],
   "source": [
    "testX = pd.DataFrame(test[[\"RDCHI\", \"MLOGP\"]])\n",
    "testY = pd.DataFrame(test['quantitative response of LC50'])\n",
    "testX"
   ]
  },
  {
   "cell_type": "code",
   "execution_count": 14,
   "id": "3c103a6f",
   "metadata": {},
   "outputs": [
    {
     "data": {
      "text/html": [
       "<div>\n",
       "<style scoped>\n",
       "    .dataframe tbody tr th:only-of-type {\n",
       "        vertical-align: middle;\n",
       "    }\n",
       "\n",
       "    .dataframe tbody tr th {\n",
       "        vertical-align: top;\n",
       "    }\n",
       "\n",
       "    .dataframe thead th {\n",
       "        text-align: right;\n",
       "    }\n",
       "</style>\n",
       "<table border=\"1\" class=\"dataframe\">\n",
       "  <thead>\n",
       "    <tr style=\"text-align: right;\">\n",
       "      <th></th>\n",
       "      <th>quantitative response of LC50</th>\n",
       "    </tr>\n",
       "  </thead>\n",
       "  <tbody>\n",
       "    <tr>\n",
       "      <th>126</th>\n",
       "      <td>-0.736494</td>\n",
       "    </tr>\n",
       "    <tr>\n",
       "      <th>529</th>\n",
       "      <td>-0.934066</td>\n",
       "    </tr>\n",
       "    <tr>\n",
       "      <th>28</th>\n",
       "      <td>-0.182211</td>\n",
       "    </tr>\n",
       "    <tr>\n",
       "      <th>187</th>\n",
       "      <td>1.280062</td>\n",
       "    </tr>\n",
       "    <tr>\n",
       "      <th>212</th>\n",
       "      <td>2.046930</td>\n",
       "    </tr>\n",
       "    <tr>\n",
       "      <th>...</th>\n",
       "      <td>...</td>\n",
       "    </tr>\n",
       "    <tr>\n",
       "      <th>134</th>\n",
       "      <td>-1.938741</td>\n",
       "    </tr>\n",
       "    <tr>\n",
       "      <th>541</th>\n",
       "      <td>-0.004457</td>\n",
       "    </tr>\n",
       "    <tr>\n",
       "      <th>444</th>\n",
       "      <td>-2.064851</td>\n",
       "    </tr>\n",
       "    <tr>\n",
       "      <th>355</th>\n",
       "      <td>-0.283099</td>\n",
       "    </tr>\n",
       "    <tr>\n",
       "      <th>430</th>\n",
       "      <td>-0.624196</td>\n",
       "    </tr>\n",
       "  </tbody>\n",
       "</table>\n",
       "<p>110 rows × 1 columns</p>\n",
       "</div>"
      ],
      "text/plain": [
       "     quantitative response of LC50\n",
       "126                      -0.736494\n",
       "529                      -0.934066\n",
       "28                       -0.182211\n",
       "187                       1.280062\n",
       "212                       2.046930\n",
       "..                             ...\n",
       "134                      -1.938741\n",
       "541                      -0.004457\n",
       "444                      -2.064851\n",
       "355                      -0.283099\n",
       "430                      -0.624196\n",
       "\n",
       "[110 rows x 1 columns]"
      ]
     },
     "execution_count": 14,
     "metadata": {},
     "output_type": "execute_result"
    }
   ],
   "source": [
    "testY"
   ]
  },
  {
   "cell_type": "code",
   "execution_count": 15,
   "id": "0ac60508",
   "metadata": {},
   "outputs": [
    {
     "name": "stdout",
     "output_type": "stream",
     "text": [
      "(110, 1)\n",
      "(110, 55)\n",
      "1.0859398253756372\n"
     ]
    }
   ],
   "source": [
    "# Value order to be followed: x1,x2, x1^2,x1x2,x2^2, x1^3,x1^2x2,x1x2^2,x2^3.... meant for all degrees to make measure errors\n",
    "testXVal = testX[testX.columns[:]].to_numpy()\n",
    "testXVal1 = testXVal[:,0]**2 ##-----------------------------------------------------------------------------------------x1^2\n",
    "testXVal = np.append(testXVal, np.column_stack([testXVal1]), axis = 1)\n",
    "testXVal1 = testXVal[:,0]*testXVal[:,1] #-------------------------------------------------------------------------------x1x2\n",
    "testXVal = np.append(testXVal, np.column_stack([testXVal1]), axis = 1)\n",
    "testXVal1 = testXVal[:,1]**2 ##-----------------------------------------------------------------------------------------x2^2\n",
    "testXVal = np.append(testXVal, np.column_stack([testXVal1]), axis = 1)\n",
    "\n",
    "testXVal1 = testXVal[:,0]**3 ##-----------------------------------------------------------------------------------------x1^3\n",
    "testXVal = np.append(testXVal, np.column_stack([testXVal1]), axis = 1)\n",
    "testXVal1 = (testXVal[:,0]**2)*(testXVal[:,1]) ##-----------------------------------------------------------------------x1^2x2\n",
    "testXVal = np.append(testXVal, np.column_stack([testXVal1]), axis = 1)\n",
    "testXVal1 = (testXVal[:,0])*(testXVal[:,1]**2) ##-----------------------------------------------------------------------x1x2^2\n",
    "testXVal = np.append(testXVal, np.column_stack([testXVal1]), axis = 1)\n",
    "testXVal1 = testXVal[:,1]**3 #------------------------------------------------------------------------------------------x2^3\n",
    "testXVal = np.append(testXVal, np.column_stack([testXVal1]), axis = 1)\n",
    "\n",
    "testXVal1 = testXVal[:,0]**4 #------------------------------------------------------------------------------------------x1^4\n",
    "testXVal = np.append(testXVal, np.column_stack([testXVal1]), axis = 1)\n",
    "testXVal1 = (testXVal[:,0]**3)*(testXVal[:,1]) #------------------------------------------------------------------------x1^3x2\n",
    "testXVal = np.append(testXVal, np.column_stack([testXVal1]), axis = 1)\n",
    "testXVal1 = (testXVal[:,0]**2)*(testXVal[:,1]**2) #---------------------------------------------------------------------x1^2x2^2\n",
    "testXVal = np.append(testXVal, np.column_stack([testXVal1]), axis = 1)\n",
    "testXVal1 = (testXVal[:,0])*(testXVal[:,1]**3) #------------------------------------------------------------------------x1x2^3\n",
    "testXVal = np.append(testXVal, np.column_stack([testXVal1]), axis = 1)\n",
    "testXVal1 = testXVal[:,1]**4 #------------------------------------------------------------------------------------------x2^4\n",
    "testXVal = np.append(testXVal, np.column_stack([testXVal1]), axis = 1)\n",
    "\n",
    "testXVal1 = testXVal[:,0]**5 #------------------------------------------------------------------------------------------x1^5\n",
    "testXVal = np.append(testXVal, np.column_stack([testXVal1]), axis = 1)\n",
    "testXVal1 = (testXVal[:,0]**4)*(testXVal[:,1]) #------------------------------------------------------------------------x1^4x2\n",
    "testXVal = np.append(testXVal, np.column_stack([testXVal1]), axis = 1)\n",
    "testXVal1 = (testXVal[:,0]**3)*(testXVal[:,1]**2) #---------------------------------------------------------------------x1^3x2^2\n",
    "testXVal = np.append(testXVal, np.column_stack([testXVal1]), axis = 1)\n",
    "testXVal1 = (testXVal[:,0]**2)*(testXVal[:,1]**3) #---------------------------------------------------------------------x1^2x2^3\n",
    "testXVal = np.append(testXVal, np.column_stack([testXVal1]), axis = 1)\n",
    "testXVal1 = (testXVal[:,0])*(testXVal[:,1]**4) #------------------------------------------------------------------------x1x2^4\n",
    "testXVal = np.append(testXVal, np.column_stack([testXVal1]), axis = 1)\n",
    "testXVal1 = testXVal[:,1]**5 #------------------------------------------------------------------------------------------x2^5\n",
    "testXVal = np.append(testXVal, np.column_stack([testXVal1]), axis = 1)\n",
    "\n",
    "testXVal1 = testXVal[:,0]**6 #------------------------------------------------------------------------------------------x1^6\n",
    "testXVal = np.append(testXVal, np.column_stack([testXVal1]), axis = 1)\n",
    "testXVal1 = (testXVal[:,0]**5)*(testXVal[:,1]) #------------------------------------------------------------------------x1^5x2\n",
    "testXVal = np.append(testXVal, np.column_stack([testXVal1]), axis = 1)\n",
    "testXVal1 = (testXVal[:,0]**4)*(testXVal[:,1]**2) #---------------------------------------------------------------------x1^4x2^2\n",
    "testXVal = np.append(testXVal, np.column_stack([testXVal1]), axis = 1)\n",
    "testXVal1 = (testXVal[:,0]**3)*(testXVal[:,1]**3) #---------------------------------------------------------------------x1^3x2^3\n",
    "testXVal = np.append(testXVal, np.column_stack([testXVal1]), axis = 1)\n",
    "testXVal1 = (testXVal[:,0]**2)*(testXVal[:,1]**4) #---------------------------------------------------------------------x1^2x2^4\n",
    "testXVal = np.append(testXVal, np.column_stack([testXVal1]), axis = 1)\n",
    "testXVal1 = (testXVal[:,0])*(testXVal[:,1]**5) #------------------------------------------------------------------------x1x2^4\n",
    "testXVal = np.append(testXVal, np.column_stack([testXVal1]), axis = 1)\n",
    "testXVal1 = testXVal[:,1]**6 #------------------------------------------------------------------------------------------x2^6\n",
    "testXVal = np.append(testXVal, np.column_stack([testXVal1]), axis = 1)\n",
    "\n",
    "testXVal1 = testXVal[:,0]**7 #------------------------------------------------------------------------------------------x1^7\n",
    "testXVal = np.append(testXVal, np.column_stack([testXVal1]), axis = 1)\n",
    "testXVal1 = (testXVal[:,0]**6)*(testXVal[:,1]) #------------------------------------------------------------------------x1^6x2\n",
    "testXVal = np.append(testXVal, np.column_stack([testXVal1]), axis = 1)\n",
    "testXVal1 = (testXVal[:,0]**5)*(testXVal[:,1]**2) #---------------------------------------------------------------------x1^5x2^2\n",
    "testXVal = np.append(testXVal, np.column_stack([testXVal1]), axis = 1)\n",
    "testXVal1 = (testXVal[:,0]**4)*(testXVal[:,1]**3) #---------------------------------------------------------------------x1^4x2^3\n",
    "testXVal = np.append(testXVal, np.column_stack([testXVal1]), axis = 1)\n",
    "testXVal1 = (testXVal[:,0]**3)*(testXVal[:,1]**4) #---------------------------------------------------------------------x1^3x2^4\n",
    "testXVal = np.append(testXVal, np.column_stack([testXVal1]), axis = 1)\n",
    "testXVal1 = (testXVal[:,0]**2)*(testXVal[:,1]**5) #---------------------------------------------------------------------x1^2x2^5\n",
    "testXVal = np.append(testXVal, np.column_stack([testXVal1]), axis = 1)\n",
    "testXVal1 = (testXVal[:,0])*(testXVal[:,1]**6) #------------------------------------------------------------------------x1x2^6\n",
    "testXVal = np.append(testXVal, np.column_stack([testXVal1]), axis = 1)\n",
    "testXVal1 = testXVal[:,1]**7 #------------------------------------------------------------------------------------------x2^7\n",
    "testXVal = np.append(testXVal, np.column_stack([testXVal1]), axis = 1)\n",
    "\n",
    "\n",
    "testXVal1 = testXVal[:,0]**8 #------------------------------------------------------------------------------------------x1^8\n",
    "testXVal = np.append(testXVal, np.column_stack([testXVal1]), axis = 1)\n",
    "testXVal1 = (testXVal[:,0]**7)*(testXVal[:,1]) #------------------------------------------------------------------------x1^7x2\n",
    "testXVal = np.append(testXVal, np.column_stack([testXVal1]), axis = 1)\n",
    "testXVal1 = (testXVal[:,0]**6)*(testXVal[:,1]**2) #---------------------------------------------------------------------x1^6x2^2\n",
    "testXVal = np.append(testXVal, np.column_stack([testXVal1]), axis = 1)\n",
    "testXVal1 = (testXVal[:,0]**5)*(testXVal[:,1]**3) #---------------------------------------------------------------------x1^5x2^3\n",
    "testXVal = np.append(testXVal, np.column_stack([testXVal1]), axis = 1)\n",
    "testXVal1 = (testXVal[:,0]**4)*(testXVal[:,1]**4) #---------------------------------------------------------------------x1^4x2^4\n",
    "testXVal = np.append(testXVal, np.column_stack([testXVal1]), axis = 1)\n",
    "testXVal1 = (testXVal[:,0]**3)*(testXVal[:,1]**5) #---------------------------------------------------------------------x1^3x2^5\n",
    "testXVal = np.append(testXVal, np.column_stack([testXVal1]), axis = 1)\n",
    "testXVal1 = (testXVal[:,0]**2)*(testXVal[:,1]**6) #---------------------------------------------------------------------x1^2x2^6\n",
    "testXVal = np.append(testXVal, np.column_stack([testXVal1]), axis = 1)\n",
    "testXVal1 = (testXVal[:,0])*(testXVal[:,1]**7) #------------------------------------------------------------------------x1x2^7\n",
    "testXVal = np.append(testXVal, np.column_stack([testXVal1]), axis = 1)\n",
    "testXVal1 = testXVal[:,1]**8 #------------------------------------------------------------------------------------------x2^8\n",
    "testXVal = np.append(testXVal, np.column_stack([testXVal1]), axis = 1)\n",
    "\n",
    "testXVal1 = testXVal[:,0]**9 #------------------------------------------------------------------------------------------x1^9\n",
    "testXVal = np.append(testXVal, np.column_stack([testXVal1]), axis = 1)\n",
    "testXVal1 = (testXVal[:,0]**8)*(testXVal[:,1]) #------------------------------------------------------------------------x1^8x2\n",
    "testXVal = np.append(testXVal, np.column_stack([testXVal1]), axis = 1)\n",
    "testXVal1 = (testXVal[:,0]**7)*(testXVal[:,1]**2) #---------------------------------------------------------------------x1^7x2^2\n",
    "testXVal = np.append(testXVal, np.column_stack([testXVal1]), axis = 1)\n",
    "testXVal1 = (testXVal[:,0]**6)*(testXVal[:,1]**3) #---------------------------------------------------------------------x1^6x2^3\n",
    "testXVal = np.append(testXVal, np.column_stack([testXVal1]), axis = 1)\n",
    "testXVal1 = (testXVal[:,0]**5)*(testXVal[:,1]**4) #---------------------------------------------------------------------x1^5x2^4\n",
    "testXVal = np.append(testXVal, np.column_stack([testXVal1]), axis = 1)\n",
    "testXVal1 = (testXVal[:,0]**4)*(testXVal[:,1]**5) #---------------------------------------------------------------------x1^4x2^5\n",
    "testXVal = np.append(testXVal, np.column_stack([testXVal1]), axis = 1)\n",
    "testXVal1 = (testXVal[:,0]**3)*(testXVal[:,1]**6) #---------------------------------------------------------------------x1^3x2^6\n",
    "testXVal = np.append(testXVal, np.column_stack([testXVal1]), axis = 1)\n",
    "testXVal1 = (testXVal[:,0]**2)*(testXVal[:,1]**7) #---------------------------------------------------------------------x1^3x2^6\n",
    "testXVal = np.append(testXVal, np.column_stack([testXVal1]), axis = 1)\n",
    "testXVal1 = (testXVal[:,0])*(testXVal[:,1]**8) #------------------------------------------------------------------------x1x2^8\n",
    "testXVal = np.append(testXVal, np.column_stack([testXVal1]), axis = 1)\n",
    "testXVal1 = testXVal[:,1]**9 #------------------------------------------------------------------------------------------x2^9\n",
    "testXVal = np.append(testXVal, np.column_stack([testXVal1]), axis = 1)\n",
    "\n",
    "testXVal = np.append(np.ones((110,1)), testXVal, axis=1)\n",
    "\n",
    "testYVal = testY[testY.columns[:]].to_numpy()\n",
    "print(np.shape(testYVal))\n",
    "print(np.shape(testXVal))\n",
    "# testXVal is the nd array of target values and their exponents, valY is the respective Yn for every x1n and x2n\n",
    "\n",
    "print(testXVal[0,1])\n"
   ]
  },
  {
   "cell_type": "code",
   "execution_count": 16,
   "id": "f7938765",
   "metadata": {},
   "outputs": [],
   "source": [
    "iters = 10000\n",
    "learningRate = 0.001 #yeta or n\n",
    "costArr= np.zeros(iters+100)\n",
    "counterArr = np.zeros(iters+100)"
   ]
  },
  {
   "cell_type": "code",
   "execution_count": 17,
   "id": "ca2af950",
   "metadata": {},
   "outputs": [
    {
     "name": "stdout",
     "output_type": "stream",
     "text": [
      "w0 = 0.030614737054892247\n"
     ]
    },
    {
     "data": {
      "image/png": "[encoded data removed]",
      "text/plain": [
       "<Figure size 432x288 with 1 Axes>"
      ]
     },
     "metadata": {
      "needs_background": "light"
     },
     "output_type": "display_data"
    }
   ],
   "source": [
    "# Degree 0 manipulation for other degrees w = np.zeros((wSize, 1))\n",
    "w = 0\n",
    "wSize = 1\n",
    "counter = 0\n",
    "for i in range(iters):\n",
    "    #print(np.mean(valY))\n",
    "    w1 = w + learningRate*(np.mean(valY)-w)\n",
    "    #print(w1,w)\n",
    "    if w1-w <= 10**(-20):\n",
    "        w=w1\n",
    "        break\n",
    "    counter+=1\n",
    "    costArr[counter] = (np.mean(valY)-w)\n",
    "    counterArr[counter] = counter\n",
    "    w=w1\n",
    "#print(counter)\n",
    "print(\"w0 =\", w)\n",
    "fig,ax = plt.subplots()\n",
    "ax.plot(costArr[1:iters])\n",
    "plt.title(\"Gradient Descent method degree 0 - w0 values\", y = 1, pad = 30)\n",
    "plt.show() "
   ]
  },
  {
   "cell_type": "code",
   "execution_count": 18,
   "id": "a00809f9",
   "metadata": {},
   "outputs": [
    {
     "data": {
      "text/plain": [
       "0.49537782329201396"
      ]
     },
     "execution_count": 18,
     "metadata": {},
     "output_type": "execute_result"
    }
   ],
   "source": [
    "#training data error for degree 0\n",
    "w1 = 0\n",
    "for i in range(np.shape(valX)[0]):\n",
    "    w1+= (np.sum(w*valX[i,:wSize]) - valY[i,0])**2\n",
    "    \n",
    "w1/(np.shape(valX)[0]*2)"
   ]
  },
  {
   "cell_type": "code",
   "execution_count": 19,
   "id": "898eba88",
   "metadata": {},
   "outputs": [
    {
     "data": {
      "text/plain": [
       "0.5161012873162786"
      ]
     },
     "execution_count": 19,
     "metadata": {},
     "output_type": "execute_result"
    }
   ],
   "source": [
    "# testing data error for degree 0\n",
    "testError = 0\n",
    "for i in range(np.shape(testXVal)[0]):\n",
    "    testError += (w - testYVal[i,0])**2\n",
    "    \n",
    "testError/(np.shape(testXVal)[0]*2)"
   ]
  },
  {
   "cell_type": "code",
   "execution_count": 20,
   "id": "7478254f",
   "metadata": {},
   "outputs": [
    {
     "name": "stdout",
     "output_type": "stream",
     "text": [
      "w0=0.018087314092284267\n",
      "w1=0.24496408780813403\n",
      "w2=0.4184571414586202\n"
     ]
    },
    {
     "data": {
      "image/png": "[encoded data removed]",
      "text/plain": [
       "<Figure size 432x288 with 1 Axes>"
      ]
     },
     "metadata": {
      "needs_background": "light"
     },
     "output_type": "display_data"
    }
   ],
   "source": [
    "# degree 1\n",
    "degree = 1\n",
    "wSize = int((degree+1)*(degree+2)/2)\n",
    "w = np.zeros(wSize) # similar template for others\n",
    "w1 = np.zeros(wSize)\n",
    "\n",
    "counter = 0\n",
    "costArr= np.zeros(iters+100)\n",
    "for i in range(iters):\n",
    "    w2 = np.zeros(wSize)\n",
    "    for j in range(np.shape(valX)[0]):\n",
    "        w2 += ((valY[j,0]-np.sum(w*valX[j,:wSize]))*valX[j,:wSize])\n",
    "\n",
    "    w2 = w2/np.shape(valX)[0] #N\n",
    "    \n",
    "    w1 = w + learningRate*w2\n",
    "    if w1[0] - w[0] <= 10**(-20):\n",
    "        w=w1\n",
    "        break\n",
    "    w=w1\n",
    "    counter+=1\n",
    "    costArr[counter] = w2[0]\n",
    "\n",
    "\n",
    "   \n",
    "\n",
    "for i in range(np.shape(w)[0]):    \n",
    "    print(\"w\", i, \"=\", w[i], sep = '')\n",
    "\n",
    "np.shape(valX)[0]\n",
    "fig,ax = plt.subplots()\n",
    "ax.plot(costArr[1:-1])\n",
    "plt.title(\"Gradient Descent method degree 1 - del(E) values\", y = 1, pad = 30)\n",
    "plt.show() # the number of iterations are maxed out in the end, "
   ]
  },
  {
   "cell_type": "code",
   "execution_count": 21,
   "id": "058a4c36",
   "metadata": {},
   "outputs": [
    {
     "data": {
      "text/plain": [
       "0.3306200679565899"
      ]
     },
     "execution_count": 21,
     "metadata": {},
     "output_type": "execute_result"
    }
   ],
   "source": [
    "# training data error for degree 1\n",
    "w1 = 0\n",
    "for i in range(np.shape(valX)[0]):\n",
    "    w1+= (np.sum(w*valX[i,:wSize]) - valY[i,0])**2\n",
    "    \n",
    "w1/(np.shape(valX)[0]*2)"
   ]
  },
  {
   "cell_type": "code",
   "execution_count": 22,
   "id": "09c232c7",
   "metadata": {},
   "outputs": [
    {
     "data": {
      "text/plain": [
       "0.33179614122413"
      ]
     },
     "execution_count": 22,
     "metadata": {},
     "output_type": "execute_result"
    }
   ],
   "source": [
    "# testing data error for degree 1\n",
    "testError = 0\n",
    "for i in range(np.shape(testXVal)[0]):\n",
    "    testError += (np.sum(w*testXVal[i,:wSize]) - testYVal[i,0])**2\n",
    "    \n",
    "testError/(np.shape(testXVal)[0]*2)"
   ]
  },
  {
   "cell_type": "code",
   "execution_count": 23,
   "id": "9ce16262",
   "metadata": {},
   "outputs": [],
   "source": [
    "learningRate = 0.01"
   ]
  },
  {
   "cell_type": "code",
   "execution_count": 24,
   "id": "1f43d698",
   "metadata": {},
   "outputs": [
    {
     "name": "stdout",
     "output_type": "stream",
     "text": [
      "w0=0.10262013946915081\n",
      "w1=0.33794160161689213\n",
      "w2=0.42143733151473783\n",
      "w3=-0.09540458735986727\n",
      "w4=-0.03189049602671601\n",
      "w5=0.027692164317133987\n"
     ]
    },
    {
     "data": {
      "image/png": "[encoded data removed]",
      "text/plain": [
       "<Figure size 432x288 with 1 Axes>"
      ]
     },
     "metadata": {
      "needs_background": "light"
     },
     "output_type": "display_data"
    }
   ],
   "source": [
    "# Degree 2 here\n",
    "degree = 2\n",
    "wSize = int((degree+1)*(degree+2)/2)\n",
    "w = np.zeros(wSize) # similar template for others\n",
    "w1 = np.zeros(wSize)\n",
    "#print(w, '\\n', w1)\n",
    "\n",
    "counter = 0\n",
    "costArr= np.zeros(iters+100)\n",
    "counterArr = np.zeros(iters+100)\n",
    "for i in range(iters):\n",
    "    w2 = np.zeros(wSize)\n",
    "    for j in range(np.shape(valX)[0]):\n",
    "        w2 += ((valY[j,0]-np.sum(w*valX[j,:wSize]))*valX[j,:wSize])\n",
    "\n",
    "    w2 = w2/np.shape(valX)[0] #N\n",
    "    \n",
    "    w1 = w + learningRate*w2\n",
    "\n",
    "    w=w1\n",
    "    counter+=1\n",
    "    costArr[counter] = w2[0]\n",
    "    counterArr[counter] = counter\n",
    "\n",
    "   \n",
    "\n",
    "for i in range(np.shape(w)[0]):    \n",
    "    print(\"w\", i, \"=\", w[i], sep = '')\n",
    "\n",
    "np.shape(valX)[0]\n",
    "fig,ax = plt.subplots()\n",
    "ax.plot(costArr[100:-1])\n",
    "plt.title(\"Gradient Descent method degree 2 - del(E) values\", y = 1, pad = 30)\n",
    "plt.show() # the number of iterations are maxed out in the end, "
   ]
  },
  {
   "cell_type": "code",
   "execution_count": 25,
   "id": "33c1b91e",
   "metadata": {},
   "outputs": [
    {
     "data": {
      "text/plain": [
       "0.3144601297739153"
      ]
     },
     "execution_count": 25,
     "metadata": {},
     "output_type": "execute_result"
    }
   ],
   "source": [
    "# training data error for degree 2\n",
    "w1 = 0\n",
    "for i in range(np.shape(valX)[0]):\n",
    "    w1+= (np.sum(w*valX[i,:wSize]) - valY[i,0])**2\n",
    "    \n",
    "w1/(np.shape(valX)[0]*2)"
   ]
  },
  {
   "cell_type": "code",
   "execution_count": 26,
   "id": "5d67eb8f",
   "metadata": {},
   "outputs": [
    {
     "data": {
      "text/plain": [
       "0.3322137407469069"
      ]
     },
     "execution_count": 26,
     "metadata": {},
     "output_type": "execute_result"
    }
   ],
   "source": [
    "# testing data error for degree 2\n",
    "testError = 0\n",
    "for i in range(np.shape(testXVal)[0]):\n",
    "    testError += (np.sum(w*testXVal[i,:wSize]) - testYVal[i,0])**2\n",
    "    \n",
    "testError/(np.shape(testXVal)[0]*2)"
   ]
  },
  {
   "cell_type": "code",
   "execution_count": 27,
   "id": "3f3dd0ac",
   "metadata": {},
   "outputs": [
    {
     "name": "stdout",
     "output_type": "stream",
     "text": [
      "w0=0.09357802787366104\n",
      "w1=0.34549721234835645\n",
      "w2=0.4366031810783665\n",
      "w3=-0.13623803840197724\n",
      "w4=0.0031084494753965022\n",
      "w5=0.06027052701238652\n",
      "w6=0.010792437407249077\n",
      "w7=-0.01960960418290729\n",
      "w8=-0.013948237890357719\n",
      "w9=0.0024105988121533384\n"
     ]
    },
    {
     "data": {
      "image/png": "[encoded data removed]",
      "text/plain": [
       "<Figure size 432x288 with 1 Axes>"
      ]
     },
     "metadata": {
      "needs_background": "light"
     },
     "output_type": "display_data"
    }
   ],
   "source": [
    "# Degree 3 here\n",
    "degree = 3\n",
    "wSize = int((degree+1)*(degree+2)/2)\n",
    "w = np.zeros(wSize) # similar template for others\n",
    "w1 = np.zeros(wSize)\n",
    "#print(w, '\\n', w1)\n",
    "\n",
    "counter = 0\n",
    "costArr= np.zeros(iters+100)\n",
    "counterArr = np.zeros(iters+100)\n",
    "for i in range(iters):\n",
    "    w2 = np.zeros(wSize)\n",
    "    for j in range(np.shape(valX)[0]):\n",
    "        w2 += ((valY[j,0]-np.sum(w*valX[j,:wSize]))*valX[j,:wSize])\n",
    "\n",
    "    w2 = w2/np.shape(valX)[0] #N\n",
    "    \n",
    "    w1 = w + learningRate*w2\n",
    "#     if w1[0] - w[0] <= 10**(-20):\n",
    "#         w=w1\n",
    "#         break\n",
    "    w=w1\n",
    "    counter+=1\n",
    "    costArr[counter] = w2[0]\n",
    "    counterArr[counter] = counter\n",
    "\n",
    "   \n",
    "\n",
    "for i in range(np.shape(w)[0]):    \n",
    "    print(\"w\", i, \"=\", w[i], sep = '')\n",
    "\n",
    "np.shape(valX)[0]\n",
    "fig,ax = plt.subplots()\n",
    "ax.plot(costArr[100:-1])\n",
    "plt.title(\"Gradient Descent method degree 3 - del(E) values\", y = 1, pad = 30)\n",
    "plt.show() # the number of iterations are maxed out in the end, "
   ]
  },
  {
   "cell_type": "code",
   "execution_count": 28,
   "id": "d378ff46",
   "metadata": {},
   "outputs": [
    {
     "data": {
      "text/plain": [
       "0.3115072570352346"
      ]
     },
     "execution_count": 28,
     "metadata": {},
     "output_type": "execute_result"
    }
   ],
   "source": [
    "# training data error for degree 3\n",
    "w1 = 0\n",
    "for i in range(np.shape(valX)[0]):\n",
    "    w1+= (np.sum(w*valX[i,:wSize]) - valY[i,0])**2\n",
    "    \n",
    "w1/(np.shape(valX)[0]*2)"
   ]
  },
  {
   "cell_type": "code",
   "execution_count": 29,
   "id": "b6e9bdeb",
   "metadata": {
    "scrolled": false
   },
   "outputs": [
    {
     "data": {
      "text/plain": [
       "0.329146021733345"
      ]
     },
     "execution_count": 29,
     "metadata": {},
     "output_type": "execute_result"
    }
   ],
   "source": [
    "# testing data error for degree 3\n",
    "testError = 0\n",
    "for i in range(np.shape(testXVal)[0]):\n",
    "    testError += (np.sum(w*testXVal[i,:wSize]) - testYVal[i,0])**2\n",
    "    \n",
    "testError/(np.shape(testXVal)[0]*2)"
   ]
  },
  {
   "cell_type": "code",
   "execution_count": 37,
   "id": "40108f57",
   "metadata": {},
   "outputs": [],
   "source": [
    "iters = 4000"
   ]
  },
  {
   "cell_type": "code",
   "execution_count": 38,
   "id": "f56aa50f",
   "metadata": {},
   "outputs": [
    {
     "name": "stdout",
     "output_type": "stream",
     "text": [
      "w0=0.00011417166211118692\n",
      "w1=0.0015642317810700926\n",
      "w2=0.001975368994715425\n",
      "w3=-0.00019950268592877022\n",
      "w4=0.00013885754523354995\n",
      "w5=0.0004612211985472552\n",
      "w6=0.0028636074408660223\n",
      "w7=0.0027708403372345473\n",
      "w8=0.0023142147473205386\n",
      "w9=0.005137384270785269\n",
      "w10=-0.00032413995956185004\n",
      "w11=0.0011700169410397967\n",
      "w12=-0.0003612637146204455\n",
      "w13=0.0016448210510674251\n",
      "w14=0.00046197849136661974\n"
     ]
    }
   ],
   "source": [
    "# Degree 4 here\n",
    "degree = 4\n",
    "wSize = int((degree+1)*(degree+2)/2)\n",
    "w = np.zeros(wSize) # similar template for others\n",
    "w1 = np.zeros(wSize)\n",
    "#print(w, '\\n', w1)\n",
    "\n",
    "counter = 0\n",
    "costArr= np.zeros(iters +50)\n",
    "counterArr = np.zeros(iters +50)\n",
    "for i in range(iters):\n",
    "    w2 = np.zeros(wSize)\n",
    "    for j in range(np.shape(valX)[0]):\n",
    "        w2 += ((((valY[j,0]/10**4) - np.sum((w/10**4)*valX[j,:wSize])))*valX[j,:wSize])/np.shape(valX)[0]\n",
    "    \n",
    "    w1 = w + learningRate*w2\n",
    "    w=w1\n",
    "    counter+=1\n",
    "    costArr[counter] = w2[0]\n",
    "    counterArr[counter] = counter\n",
    "\n",
    "   \n",
    "\n",
    "for i in range(np.shape(w)[0]):    \n",
    "    print(\"w\", i, \"=\", w[i], sep = '')\n",
    "\n"
   ]
  },
  {
   "cell_type": "code",
   "execution_count": 39,
   "id": "3c211736",
   "metadata": {},
   "outputs": [
    {
     "data": {
      "image/png": "[encoded data removed]",
      "text/plain": [
       "<Figure size 432x288 with 1 Axes>"
      ]
     },
     "metadata": {
      "needs_background": "light"
     },
     "output_type": "display_data"
    }
   ],
   "source": [
    "fig,ax = plt.subplots()\n",
    "ax.plot(costArr[100:-1*int(iters/50)])\n",
    "plt.title(\"Gradient Descent method degree 4 - del(E) values\", y = 1, pad = 30)\n",
    "plt.show() # the number of iterations are maxed out in the end, "
   ]
  },
  {
   "cell_type": "code",
   "execution_count": 40,
   "id": "df24af14",
   "metadata": {},
   "outputs": [
    {
     "data": {
      "text/plain": [
       "0.4796002928295805"
      ]
     },
     "execution_count": 40,
     "metadata": {},
     "output_type": "execute_result"
    }
   ],
   "source": [
    "# training data error for degree 4\n",
    "w1 = 0\n",
    "for i in range(np.shape(valX)[0]):\n",
    "    w1+= (np.sum(w*valX[i,:wSize]) - valY[i,0])**2\n",
    "    \n",
    "w1/(np.shape(valX)[0]*2)"
   ]
  },
  {
   "cell_type": "code",
   "execution_count": 41,
   "id": "3a4f30f0",
   "metadata": {},
   "outputs": [
    {
     "data": {
      "text/plain": [
       "0.49935820442250006"
      ]
     },
     "execution_count": 41,
     "metadata": {},
     "output_type": "execute_result"
    }
   ],
   "source": [
    "# testing data error for degree 4\n",
    "testError = 0\n",
    "for i in range(np.shape(testXVal)[0]):\n",
    "    testError += (np.sum(w*testXVal[i,:wSize]) - testYVal[i,0])**2\n",
    "    \n",
    "testError/(np.shape(testXVal)[0]*2)"
   ]
  },
  {
   "cell_type": "code",
   "execution_count": 42,
   "id": "adb9c6a1",
   "metadata": {},
   "outputs": [],
   "source": [
    "# iters = 10000\n",
    "# leerningRate = 10**-6"
   ]
  },
  {
   "cell_type": "code",
   "execution_count": 44,
   "id": "3320efa5",
   "metadata": {},
   "outputs": [
    {
     "name": "stdout",
     "output_type": "stream",
     "text": [
      "w0=1.2091385657366707e-05\n",
      "w1=0.00015739462825707027\n",
      "w2=0.0001950609563744361\n",
      "w3=-2.214970926803896e-05\n",
      "w4=3.361130857939445e-06\n",
      "w5=5.3337928597399625e-05\n",
      "w6=0.00026995254690404555\n",
      "w7=0.00024250926121820022\n",
      "w8=0.000239859141021276\n",
      "w9=0.0004288460990550115\n",
      "w10=-0.00012066214968059122\n",
      "w11=3.805973583716376e-06\n",
      "w12=-4.7155447771456474e-05\n",
      "w13=-8.834867798051072e-05\n",
      "w14=0.000248884440847481\n",
      "w15=7.781327427362942e-05\n",
      "w16=0.00038097385544766165\n",
      "w17=0.0002670071331743655\n",
      "w18=7.385873485407932e-05\n",
      "w19=0.00048536893126356314\n",
      "w20=0.0006849006580125983\n"
     ]
    },
    {
     "data": {
      "image/png": "[encoded data removed]",
      "text/plain": [
       "<Figure size 432x288 with 1 Axes>"
      ]
     },
     "metadata": {
      "needs_background": "light"
     },
     "output_type": "display_data"
    }
   ],
   "source": [
    "# degree 5\n",
    "degree = 5\n",
    "wSize = int((degree+1)*(degree+2)/2)\n",
    "w = np.zeros(wSize) # similar template for others\n",
    "w1 = np.zeros(wSize)\n",
    "#print(w, '\\n', w1)\n",
    "\n",
    "counter = 0\n",
    "costArr= np.zeros(iters +50)\n",
    "counterArr = np.zeros(iters +50)\n",
    "for i in range(iters):\n",
    "    w2 = np.zeros(wSize)\n",
    "    for j in range(np.shape(valX)[0]):\n",
    "        w2 += ((((valY[j,0]/10**5) - np.sum((w/10**5)*valX[j,:wSize])))*valX[j,:wSize])/np.shape(valX)[0]\n",
    "    \n",
    "    w1 = w + learningRate*w2\n",
    "    w=w1\n",
    "    counter+=1\n",
    "    costArr[counter] = w2[0]\n",
    "    counterArr[counter] = counter\n",
    "\n",
    "   \n",
    "\n",
    "for i in range(np.shape(w)[0]):    \n",
    "    print(\"w\", i, \"=\", w[i], sep = '')\n",
    "\n",
    "np.shape(valX)[0]\n",
    "fig,ax = plt.subplots()\n",
    "ax.plot(costArr[1:-1*int(iters/10)])\n",
    "plt.title(\"Gradient Descent method degree 5 - del(E) values\", y = 1, pad = 30)\n",
    "plt.show() # the number of iterations are maxed out in the end, "
   ]
  },
  {
   "cell_type": "code",
   "execution_count": 45,
   "id": "3813f89b",
   "metadata": {},
   "outputs": [
    {
     "data": {
      "text/plain": [
       "0.4880747665042855"
      ]
     },
     "execution_count": 45,
     "metadata": {},
     "output_type": "execute_result"
    }
   ],
   "source": [
    "# training data error for degree 5\n",
    "w1 = 0\n",
    "for i in range(np.shape(valX)[0]):\n",
    "    w1+= (np.sum(w*valX[i,:wSize]) - valY[i,0])**2\n",
    "    \n",
    "w1/(np.shape(valX)[0]*2)"
   ]
  },
  {
   "cell_type": "code",
   "execution_count": 46,
   "id": "7dbab7e9",
   "metadata": {},
   "outputs": [
    {
     "data": {
      "text/plain": [
       "0.5062257440993811"
      ]
     },
     "execution_count": 46,
     "metadata": {},
     "output_type": "execute_result"
    }
   ],
   "source": [
    "# testing data error for degree 5\n",
    "testError = 0\n",
    "for i in range(np.shape(testXVal)[0]):\n",
    "    testError += (np.sum(w*testXVal[i,:wSize]) - testYVal[i,0])**2\n",
    "    \n",
    "testError/(np.shape(testXVal)[0]*2)"
   ]
  },
  {
   "cell_type": "code",
   "execution_count": null,
   "id": "7afb819c",
   "metadata": {},
   "outputs": [],
   "source": [
    "# degree 6\n",
    "degree = 6\n",
    "wSize = int((degree+1)*(degree+2)/2)\n",
    "w = np.zeros(wSize) # similar template for others\n",
    "w1 = np.zeros(wSize)\n",
    "#print(w, '\\n', w1)\n",
    "\n",
    "counter = 0\n",
    "costArr= np.zeros(iters +50)\n",
    "counterArr = np.zeros(iters +50)\n",
    "for i in range(iters):\n",
    "    w2 = np.zeros(wSize)\n",
    "    for j in range(np.shape(valX)[0]):\n",
    "        w2 += (((valY[:wSize,0] - np.sum(w*valX[j,:wSize])))*valX[j,:wSize])/np.shape(valX)[0]\n",
    "    \n",
    "    w1 = w + learningRate*w2\n",
    "    w=w1\n",
    "    counter+=1\n",
    "    costArr[counter] = w2[0]\n",
    "    counterArr[counter] = counter\n",
    "\n",
    "   \n",
    "\n",
    "for i in range(np.shape(w)[0]):    \n",
    "    print(\"w\", i, \"=\", w[i]*10**10, sep = '')\n",
    "\n",
    "np.shape(valX)[0]\n",
    "fig,ax = plt.subplots()\n",
    "ax.plot(costArr[1:-1*int(iters/10)])\n",
    "plt.title(\"Gradient Descent method degree 6 - del(E) values\", y = 1, pad = 30)\n",
    "plt.show() # the number of iterations are maxed out in the end, "
   ]
  },
  {
   "cell_type": "code",
   "execution_count": null,
   "id": "5ff28bbf",
   "metadata": {},
   "outputs": [],
   "source": [
    "# training data error for degree 6\n",
    "w1 = 0\n",
    "for i in range(np.shape(valX)[0]):\n",
    "    w1+= (np.sum(w*valX[i,:wSize]) - valY[i,0])**2\n",
    "    \n",
    "w1/(np.shape(valX)[0]*2)"
   ]
  },
  {
   "cell_type": "code",
   "execution_count": null,
   "id": "cd3c8c14",
   "metadata": {},
   "outputs": [],
   "source": [
    "# testing data error for degree 6\n",
    "testError = 0\n",
    "for i in range(np.shape(testXVal)[0]):\n",
    "    testError += (np.sum(w*testXVal[i,:wSize]) - testYVal[i,0])**2\n",
    "    \n",
    "testError/(np.shape(testXVal)[0]*2)"
   ]
  },
  {
   "cell_type": "code",
   "execution_count": null,
   "id": "7d59db14",
   "metadata": {},
   "outputs": [],
   "source": [
    "# degree 7\n",
    "degree = 7\n",
    "wSize = int((degree+1)*(degree+2)/2)\n",
    "w = np.zeros(wSize) # similar template for others\n",
    "w1 = np.zeros(wSize)\n",
    "#print(w, '\\n', w1)\n",
    "\n",
    "counter = 0\n",
    "costArr= np.zeros(iters +50)\n",
    "counterArr = np.zeros(iters +50)\n",
    "for i in range(iters):\n",
    "    w2 = np.zeros(wSize)\n",
    "    for j in range(np.shape(valX)[0]):\n",
    "        w2 += (((valY[:wSize,0] - np.sum(w*valX[j,:wSize])))*valX[j,:wSize])/np.shape(valX)[0]\n",
    "    \n",
    "    w1 = w + learningRate*w2\n",
    "    w=w1\n",
    "    counter+=1\n",
    "    costArr[counter] = w2[0]\n",
    "    counterArr[counter] = counter\n",
    "\n",
    "   \n",
    "\n",
    "for i in range(np.shape(w)[0]):    \n",
    "    print(\"w\", i, \"=\", w[i], sep = '')\n",
    "\n",
    "np.shape(valX)[0]\n",
    "fig,ax = plt.subplots()\n",
    "ax.plot(costArr[1:-1*int(iters/10)])\n",
    "plt.title(\"Gradient Descent method degree 7 - del(E) values\", y = 1, pad = 30)\n",
    "plt.show() # the number of iterations are maxed out in the end, "
   ]
  },
  {
   "cell_type": "code",
   "execution_count": null,
   "id": "133a908b",
   "metadata": {},
   "outputs": [],
   "source": [
    "# training data error for degree 7\n",
    "w1 = 0\n",
    "for i in range(np.shape(valX)[0]):\n",
    "    w1+= (np.sum(w*valX[i,:wSize]) - valY[i,0])**2\n",
    "    \n",
    "w1/np.shape(valX)[0]"
   ]
  },
  {
   "cell_type": "code",
   "execution_count": null,
   "id": "b22cb198",
   "metadata": {},
   "outputs": [],
   "source": [
    "# testing data error for degree 7\n",
    "testError = 0\n",
    "for i in range(np.shape(testXVal)[0]):\n",
    "    testError += (np.sum(w*testXVal[i,:wSize]) - testYVal[i,0])**2\n",
    "    \n",
    "testError/np.shape(testXVal)[0]"
   ]
  },
  {
   "cell_type": "code",
   "execution_count": null,
   "id": "50e2d7a4",
   "metadata": {},
   "outputs": [],
   "source": [
    "# degree 8\n",
    "degree = 8\n",
    "wSize = int((degree+1)*(degree+2)/2)\n",
    "w = np.zeros(wSize) # similar template for others\n",
    "w1 = np.zeros(wSize)\n",
    "#print(w, '\\n', w1)\n",
    "\n",
    "counter = 0\n",
    "costArr= np.zeros(iters +50)\n",
    "counterArr = np.zeros(iters +50)\n",
    "for i in range(iters):\n",
    "    w2 = np.zeros(wSize)\n",
    "    for j in range(np.shape(valX)[0]):\n",
    "        w2 += (((valY[:wSize,0] - np.sum(w*valX[j,:wSize])))*valX[j,:wSize])/np.shape(valX)[0]\n",
    "    \n",
    "    w1 = w + learningRate*w2\n",
    "    w=w1\n",
    "    counter+=1\n",
    "    costArr[counter] = w2[0]\n",
    "    counterArr[counter] = counter\n",
    "\n",
    "   \n",
    "\n",
    "for i in range(np.shape(w)[0]):    \n",
    "    print(\"w\", i, \"=\", w[i], sep = '')\n",
    "\n",
    "np.shape(valX)[0]\n",
    "fig,ax = plt.subplots()\n",
    "ax.plot(costArr[1:-1*int(iters/10)])\n",
    "plt.title(\"Gradient Descent method degree 8 - del(E) values\", y = 1, pad = 30)\n",
    "plt.show() # the number of iterations are maxed out in the end, "
   ]
  },
  {
   "cell_type": "code",
   "execution_count": null,
   "id": "7b72a4d5",
   "metadata": {},
   "outputs": [],
   "source": [
    "# training data error for degree 8\n",
    "w1 = 0\n",
    "for i in range(np.shape(valX)[0]):\n",
    "    w1+= (np.sum(w*valX[i,:wSize]) - valY[i,0])**2\n",
    "    \n",
    "w1/(np.shape(valX)[0]*2)"
   ]
  },
  {
   "cell_type": "code",
   "execution_count": null,
   "id": "0179d7f9",
   "metadata": {},
   "outputs": [],
   "source": [
    "# testing data error for degree 8\n",
    "testError = 0\n",
    "for i in range(np.shape(testXVal)[0]):\n",
    "    testError += (np.sum(w*testXVal[i,:wSize]) - testYVal[i,0])**2\n",
    "    \n",
    "testError/(np.shape(testXVal)[0]*2)"
   ]
  },
  {
   "cell_type": "code",
   "execution_count": null,
   "id": "ed639087",
   "metadata": {},
   "outputs": [],
   "source": [
    "# degree 9\n",
    "degree = 9\n",
    "wSize = int((degree+1)*(degree+2)/2)\n",
    "w = np.zeros(wSize) # similar template for others\n",
    "w1 = np.zeros(wSize)\n",
    "#print(w, '\\n', w1)\n",
    "\n",
    "counter = 0\n",
    "costArr= np.zeros(iters +50)\n",
    "counterArr = np.zeros(iters +50)\n",
    "for i in range(iters):\n",
    "    w2 = np.zeros(wSize)\n",
    "    for j in range(np.shape(valX)[0]):\n",
    "        w2 += (((valY[:wSize,0] - np.sum(w*valX[j,:wSize])))*valX[j,:wSize])/np.shape(valX)[0]\n",
    "    \n",
    "    w1 = w + learningRate*w2\n",
    "    w=w1\n",
    "    counter+=1\n",
    "    costArr[counter] = w2[0]\n",
    "    counterArr[counter] = counter\n",
    "\n",
    "   \n",
    "\n",
    "for i in range(np.shape(w)[0]):    \n",
    "    print(\"w\", i, \"=\", w[i], sep = '')\n",
    "\n",
    "np.shape(valX)[0]\n",
    "fig,ax = plt.subplots()\n",
    "ax.plot(costArr[1:-1*int(iters/10)])\n",
    "plt.title(\"Gradient Descent method degree 9 - del(E) values\", y = 1, pad = 30)\n",
    "plt.show() # the number of iterations are maxed out in the end, "
   ]
  },
  {
   "cell_type": "code",
   "execution_count": null,
   "id": "0f1118b3",
   "metadata": {},
   "outputs": [],
   "source": [
    "# training data error for degree 9\n",
    "w1 = 0\n",
    "for i in range(np.shape(valX)[0]):\n",
    "    w1+= (np.sum(w*valX[i,:wSize]) - valY[i,0])**2\n",
    "    \n",
    "w1/(np.shape(valX)[0]*2)"
   ]
  },
  {
   "cell_type": "code",
   "execution_count": null,
   "id": "86111ec8",
   "metadata": {},
   "outputs": [],
   "source": [
    "# testing data error for degree 9\n",
    "testError = 0\n",
    "for i in range(np.shape(testXVal)[0]):\n",
    "    testError += (np.sum(w*testXVal[i,:wSize]) - testYVal[i,0])**2\n",
    "    \n",
    "testError/(np.shape(testXVal)[0]*2)"
   ]
  },
  {
   "cell_type": "code",
   "execution_count": null,
   "id": "497e5803",
   "metadata": {},
   "outputs": [],
   "source": [
    "# stochastic gradient descent after this"
   ]
  },
  {
   "cell_type": "code",
   "execution_count": null,
   "id": "ccd9acd6",
   "metadata": {},
   "outputs": [],
   "source": [
    "k = np.random.randint(low = 0, high = np.shape(valX)[0])\n",
    "k"
   ]
  },
  {
   "cell_type": "code",
   "execution_count": null,
   "id": "55f2ac41",
   "metadata": {},
   "outputs": [],
   "source": [
    "# degree 0\n",
    "iters = 100000\n",
    "learningRate = 0.001\n",
    "degree = 0\n",
    "wSize = int((degree+1)*(degree+2)/2)\n",
    "w = np.zeros(wSize) # similar template for others\n",
    "w1 = np.zeros(wSize)\n",
    "#print(w, '\\n', w1)\n",
    "counter = 0\n",
    "costArr= np.zeros(iters+1)\n",
    "counterArr = np.zeros(iters+1)\n",
    "for i in range(iters*100):\n",
    "    w2 = np.zeros(wSize)\n",
    "    w2 += (((valY[:wSize,0] - (w*valX[k,:wSize])))*valX[k,:wSize])/np.shape(valX)[0]\n",
    "    \n",
    "    w1 = w + learningRate*w2\n",
    "    w=w1\n",
    "    \n",
    "    costArr[counter] = w2[0]\n",
    "    counter+=1\n",
    "    counterArr[counter] = counter\n",
    "\n",
    "   \n",
    "\n",
    "for i in range(np.shape(w)[0]):    \n",
    "    print(\"w\", i, \"=\", w[i], sep = '')\n",
    "\n",
    "np.shape(valX)[0]\n",
    "fig,ax = plt.subplots()\n",
    "ax.plot(costArr[1:-1*iters])\n",
    "plt.title(\"Stochastic Gradient Descent method degree 0 - del(E) values\", y = 1, pad = 30)\n",
    "plt.show()  "
   ]
  },
  {
   "cell_type": "code",
   "execution_count": null,
   "id": "f323f7fa",
   "metadata": {},
   "outputs": [],
   "source": [
    "# degree 1\n",
    "iters = 3000\n",
    "learningRate = 0.01\n",
    "degree = 1\n",
    "wSize = int((degree+1)*(degree+2)/2)\n",
    "w = np.zeros(wSize) # similar template for others\n",
    "w1 = np.zeros(wSize)\n",
    "#print(w, '\\n', w1)\n",
    "k = np.random.randint(low = 0, high = np.shape(valX)[0])\n",
    "counter = 0\n",
    "costArr= np.zeros(iters*100+1)\n",
    "counterArr = np.zeros(iters*100+1)\n",
    "for i in range(iters*100):\n",
    "    w2 = np.zeros(wSize)\n",
    "    w2 += (((valY[:wSize,0] - (w*valX[k,:wSize])))*valX[k,:wSize])/np.shape(valX)[0]\n",
    "    \n",
    "    w1 = w + learningRate*w2\n",
    "    w=w1\n",
    "    \n",
    "    costArr[counter] = w2[0]\n",
    "    counter+=1\n",
    "    counterArr[counter] = counter\n",
    "\n",
    "   \n",
    "\n",
    "for i in range(np.shape(w)[0]):    \n",
    "    print(\"w\", i, \"=\", w[i], sep = '')\n",
    "\n",
    "np.shape(valX)[0]\n",
    "fig,ax = plt.subplots()\n",
    "ax.plot(costArr[1:-1*iters])\n",
    "plt.title(\"Stochastic Gradient Descent method degree 1 - del(E) values\", y = 1, pad = 30)\n",
    "plt.show() "
   ]
  },
  {
   "cell_type": "code",
   "execution_count": null,
   "id": "84f22b16",
   "metadata": {},
   "outputs": [],
   "source": [
    "# degree 2\n",
    "iters = 3000\n",
    "learningRate = 0.01\n",
    "degree = 2\n",
    "wSize = int((degree+1)*(degree+2)/2)\n",
    "w = np.zeros(wSize) # similar template for others\n",
    "w1 = np.zeros(wSize)\n",
    "#print(w, '\\n', w1)\n",
    "k = np.random.randint(low = 0, high = np.shape(valX)[0])\n",
    "counter = 0\n",
    "costArr= np.zeros(iters*100+1)\n",
    "counterArr = np.zeros(iters*100+1)\n",
    "for i in range(iters*100):\n",
    "    w2 = np.zeros(wSize)\n",
    "    w2 += (((valY[:wSize,0] - (w*valX[k,:wSize])))*valX[k,:wSize])/np.shape(valX)[0]\n",
    "    \n",
    "    w1 = w + learningRate*w2\n",
    "    w=w1\n",
    "    \n",
    "    costArr[counter] = w2[0]\n",
    "    counter+=1\n",
    "    counterArr[counter] = counter\n",
    "\n",
    "   \n",
    "\n",
    "for i in range(np.shape(w)[0]):    \n",
    "    print(\"w\", i, \"=\", w[i], sep = '')\n",
    "\n",
    "np.shape(valX)[0]\n",
    "fig,ax = plt.subplots()\n",
    "ax.plot(costArr[1:-1*iters])\n",
    "plt.title(\"Stochastic Gradient Descent method degree 2 - del(E) values\", y = 1, pad = 30)\n",
    "plt.show() "
   ]
  },
  {
   "cell_type": "code",
   "execution_count": null,
   "id": "db1dd096",
   "metadata": {},
   "outputs": [],
   "source": [
    "# degree 3\n",
    "iters = 3000\n",
    "learningRate = 0.01\n",
    "degree = 3\n",
    "wSize = int((degree+1)*(degree+2)/2)\n",
    "w = np.zeros(wSize) # similar template for others\n",
    "w1 = np.zeros(wSize)\n",
    "#print(w, '\\n', w1)\n",
    "k = np.random.randint(low = 0, high = np.shape(valX)[0])\n",
    "counter = 0\n",
    "costArr= np.zeros(iters*100+1)\n",
    "counterArr = np.zeros(iters*100+1)\n",
    "for i in range(iters*100):\n",
    "    w2 = np.zeros(wSize)\n",
    "    w2 += (((valY[:wSize,0] - (w*valX[k,:wSize])))*valX[k,:wSize])/np.shape(valX)[0]\n",
    "    \n",
    "    w1 = w + learningRate*w2\n",
    "    w=w1\n",
    "    \n",
    "    costArr[counter] = w2[0]\n",
    "    counter+=1\n",
    "    counterArr[counter] = counter\n",
    "\n",
    "   \n",
    "\n",
    "for i in range(np.shape(w)[0]):    \n",
    "    print(\"w\", i, \"=\", w[i], sep = '')\n",
    "\n",
    "np.shape(valX)[0]\n",
    "fig,ax = plt.subplots()\n",
    "ax.plot(costArr[1:-1*iters])\n",
    "plt.title(\"Stochastic Gradient Descent method degree 3 - del(E) values\", y = 1, pad = 30)\n",
    "plt.show() "
   ]
  },
  {
   "cell_type": "code",
   "execution_count": null,
   "id": "ff7e06de",
   "metadata": {},
   "outputs": [],
   "source": [
    "# degree 4\n",
    "iters = 300000\n",
    "learningRate = 0.01\n",
    "degree = 4\n",
    "wSize = int((degree+1)*(degree+2)/2)\n",
    "w = np.zeros(wSize) # similar template for others\n",
    "w1 = np.zeros(wSize)\n",
    "#print(w, '\\n', w1)\n",
    "k = np.random.randint(low = 0, high = np.shape(valX)[0])\n",
    "counter = 0\n",
    "costArr= np.zeros(iters+1)\n",
    "counterArr = np.zeros(iters+1)\n",
    "for i in range(iters):\n",
    "    w2 = np.zeros(wSize)\n",
    "    w2 += (((valY[:wSize,0] - (w*valX[k,:wSize])))*valX[k,:wSize])/np.shape(valX)[0]\n",
    "    \n",
    "    w1 = w + learningRate*w2\n",
    "    w=w1\n",
    "    costArr[counter] = w2[0]\n",
    "    counter+=1\n",
    "    counterArr[counter] = counter\n",
    "\n",
    "   \n",
    "\n",
    "for i in range(np.shape(w)[0]):    \n",
    "    print(\"w\", i, \"=\", w[i], sep = '')\n",
    "\n",
    "np.shape(valX)[0]\n",
    "fig,ax = plt.subplots()\n",
    "ax.plot(costArr[1:])\n",
    "plt.title(\"Stochastic Gradient Descent method degree 4 - del(E) values\", y = 1, pad = 30)\n",
    "plt.show() "
   ]
  },
  {
   "cell_type": "code",
   "execution_count": null,
   "id": "c67d988e",
   "metadata": {
    "scrolled": false
   },
   "outputs": [],
   "source": [
    "# degree 5\n",
    "iters = 300000\n",
    "learningRate = 0.01\n",
    "degree = 5\n",
    "wSize = int((degree+1)*(degree+2)/2)\n",
    "w = np.zeros(wSize) # similar template for others\n",
    "w1 = np.zeros(wSize)\n",
    "#print(w, '\\n', w1)\n",
    "k = np.random.randint(low = 0, high = np.shape(valX)[0])\n",
    "counter = 0\n",
    "costArr= np.zeros(iters+1)\n",
    "counterArr = np.zeros(iters+1)\n",
    "for i in range(iters):\n",
    "    w2 = np.zeros(wSize)\n",
    "    w2 += (((valY[:wSize,0] - (w*valX[k,:wSize])))*valX[k,:wSize])/np.shape(valX)[0]\n",
    "    \n",
    "    w1 = w + learningRate*w2\n",
    "    w=w1\n",
    "    costArr[counter] = w2[0]\n",
    "    counter+=1\n",
    "    counterArr[counter] = counter\n",
    "\n",
    "   \n",
    "\n",
    "for i in range(np.shape(w)[0]):    \n",
    "    print(\"w\", i, \"=\", w[i], sep = '')\n",
    "\n",
    "np.shape(valX)[0]\n",
    "fig,ax = plt.subplots()\n",
    "ax.plot(costArr[1:])\n",
    "plt.title(\"Stochastic Gradient Descent method degree 5 - del(E) values\", y = 1, pad = 30)\n",
    "plt.show() "
   ]
  },
  {
   "cell_type": "code",
   "execution_count": null,
   "id": "72506331",
   "metadata": {
    "scrolled": false
   },
   "outputs": [],
   "source": [
    "# degree 6\n",
    "iters = 300000\n",
    "learningRate = 0.01\n",
    "degree = 6\n",
    "wSize = int((degree+1)*(degree+2)/2)\n",
    "w = np.zeros(wSize) # similar template for others\n",
    "w1 = np.zeros(wSize)\n",
    "#print(w, '\\n', w1)\n",
    "k = np.random.randint(low = 0, high = np.shape(valX)[0])\n",
    "counter = 0\n",
    "costArr= np.zeros(iters+1)\n",
    "counterArr = np.zeros(iters+1)\n",
    "for i in range(iters):\n",
    "    w2 = np.zeros(wSize)\n",
    "    w2 += (((valY[:wSize,0] - (w*valX[k,:wSize])))*valX[k,:wSize])/np.shape(valX)[0]\n",
    "    \n",
    "    w1 = w + learningRate*w2\n",
    "    w=w1\n",
    "    costArr[counter] = w2[0]\n",
    "    counter+=1\n",
    "    counterArr[counter] = counter\n",
    "\n",
    "   \n",
    "\n",
    "for i in range(np.shape(w)[0]):    \n",
    "    print(\"w\", i, \"=\", w[i], sep = '')\n",
    "\n",
    "np.shape(valX)[0]\n",
    "fig,ax = plt.subplots()\n",
    "ax.plot(costArr[1:])\n",
    "plt.title(\"Stochastic Gradient Descent method degree 6 - del(E) values\", y = 1, pad = 30)\n",
    "plt.show() "
   ]
  },
  {
   "cell_type": "code",
   "execution_count": null,
   "id": "c88fd0fe",
   "metadata": {},
   "outputs": [],
   "source": [
    "# degree 7\n",
    "iters = 300000\n",
    "learningRate = 0.01\n",
    "degree = 7\n",
    "wSize = int((degree+1)*(degree+2)/2)\n",
    "w = np.zeros(wSize) # similar template for others\n",
    "w1 = np.zeros(wSize)\n",
    "#print(w, '\\n', w1)\n",
    "k = np.random.randint(low = 0, high = np.shape(valX)[0])\n",
    "counter = 0\n",
    "costArr= np.zeros(iters+1)\n",
    "counterArr = np.zeros(iters+1)\n",
    "for i in range(iters):\n",
    "    w2 = np.zeros(wSize)\n",
    "    w2 += (((valY[:wSize,0] - (w*valX[k,:wSize])))*valX[k,:wSize])/np.shape(valX)[0]\n",
    "    \n",
    "    w1 = w + learningRate*w2\n",
    "    w=w1\n",
    "    costArr[counter] = w2[0]\n",
    "    counter+=1\n",
    "    counterArr[counter] = counter\n",
    "\n",
    "   \n",
    "\n",
    "for i in range(np.shape(w)[0]):    \n",
    "    print(\"w\", i, \"=\", w[i], sep = '')\n",
    "\n",
    "np.shape(valX)[0]\n",
    "fig,ax = plt.subplots()\n",
    "ax.plot(costArr[1:])\n",
    "plt.title(\"Stochastic Gradient Descent method degree 7 - del(E) values\", y = 1, pad = 30)\n",
    "plt.show() "
   ]
  },
  {
   "cell_type": "code",
   "execution_count": null,
   "id": "e1f28518",
   "metadata": {},
   "outputs": [],
   "source": [
    "# degree 8\n",
    "iters = 300000\n",
    "learningRate = 0.01\n",
    "degree = 8\n",
    "wSize = int((degree+1)*(degree+2)/2)\n",
    "w = np.zeros(wSize) # similar template for others\n",
    "w1 = np.zeros(wSize)\n",
    "#print(w, '\\n', w1)\n",
    "k = np.random.randint(low = 0, high = np.shape(valX)[0])\n",
    "counter = 0\n",
    "costArr= np.zeros(iters+1)\n",
    "counterArr = np.zeros(iters+1)\n",
    "for i in range(iters):\n",
    "    w2 = np.zeros(wSize)\n",
    "    w2 += (((valY[:wSize,0] - (w*valX[k,:wSize])))*valX[k,:wSize])/np.shape(valX)[0]\n",
    "    \n",
    "    w1 = w + learningRate*w2\n",
    "    w=w1\n",
    "    costArr[counter] = w2[0]\n",
    "    counter+=1\n",
    "    counterArr[counter] = counter\n",
    "\n",
    "   \n",
    "\n",
    "for i in range(np.shape(w)[0]):    \n",
    "    print(\"w\", i, \"=\", w[i], sep = '')\n",
    "\n",
    "np.shape(valX)[0]\n",
    "fig,ax = plt.subplots()\n",
    "ax.plot(costArr[1:])\n",
    "plt.title(\"Stochastic Gradient Descent method degree 8 - del(E) values\", y = 1, pad = 30)\n",
    "plt.show() "
   ]
  },
  {
   "cell_type": "code",
   "execution_count": null,
   "id": "33484669",
   "metadata": {},
   "outputs": [],
   "source": [
    "# degree 9\n",
    "iters = 300000\n",
    "learningRate = 0.01\n",
    "degree = 9\n",
    "wSize = int((degree+1)*(degree+2)/2)\n",
    "w = np.zeros(wSize) # similar template for others\n",
    "w1 = np.zeros(wSize)\n",
    "#print(w, '\\n', w1)\n",
    "k = np.random.randint(low = 0, high = np.shape(valX)[0])\n",
    "counter = 0\n",
    "costArr= np.zeros(iters+1)\n",
    "counterArr = np.zeros(iters+1)\n",
    "for i in range(iters):\n",
    "    w2 = np.zeros(wSize)\n",
    "    w2 += ((((valY[:wSize,0] - (w*valX[k,:wSize])))*valX[k,:wSize])/np.shape(valX)[0])/10**10\n",
    "    \n",
    "    w1 = w + learningRate*w2\n",
    "    w=w1\n",
    "    costArr[counter] = w2[0]*10**10\n",
    "    counter+=1\n",
    "    counterArr[counter] = counter\n",
    "\n",
    "   \n",
    "\n",
    "for i in range(np.shape(w)[0]):    \n",
    "    print(\"w\", i, \"=\", w[i], sep = '')\n",
    "\n",
    "np.shape(valX)[0]\n",
    "fig,ax = plt.subplots()\n",
    "ax.plot(costArr[1:-10])\n",
    "plt.title(\"Stochastic Gradient Descent method degree 9 - del(E) values\", y = 1, pad = 30)\n",
    "plt.show() "
   ]
  },
  {
   "cell_type": "code",
   "execution_count": null,
   "id": "6eab0d31",
   "metadata": {},
   "outputs": [],
   "source": []
  }
 ],
 "metadata": {
  "kernelspec": {
   "display_name": "Python 3 (ipykernel)",
   "language": "python",
   "name": "python3"
  },
  "language_info": {
   "codemirror_mode": {
    "name": "ipython",
    "version": 3
   },
   "file_extension": ".py",
   "mimetype": "text/x-python",
   "name": "python",
   "nbconvert_exporter": "python",
   "pygments_lexer": "ipython3",
   "version": "3.9.12"
  }
 },
 "nbformat": 4,
 "nbformat_minor": 5
}
