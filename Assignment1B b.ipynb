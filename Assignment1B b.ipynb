{
 "cells": [
  {
   "cell_type": "code",
   "execution_count": 1,
   "id": "4d67eca0",
   "metadata": {},
   "outputs": [
    {
     "name": "stdout",
     "output_type": "stream",
     "text": [
      "Success\n"
     ]
    }
   ],
   "source": [
    "import pandas as pd\n",
    "import numpy as np\n",
    "import matplotlib.pyplot as plt\n",
    "from sklearn import tree\n",
    "from sklearn.model_selection import train_test_split\n",
    "from sklearn.tree import DecisionTreeRegressor\n",
    "from sklearn.preprocessing import StandardScaler\n",
    "from sklearn.linear_model import LinearRegression\n",
    "print(\"Success\")"
   ]
  },
  {
   "cell_type": "code",
   "execution_count": 2,
   "id": "a2b4e8a6",
   "metadata": {
    "scrolled": false
   },
   "outputs": [
    {
     "data": {
      "text/html": [
       "<div>\n",
       "<style scoped>\n",
       "    .dataframe tbody tr th:only-of-type {\n",
       "        vertical-align: middle;\n",
       "    }\n",
       "\n",
       "    .dataframe tbody tr th {\n",
       "        vertical-align: top;\n",
       "    }\n",
       "\n",
       "    .dataframe thead th {\n",
       "        text-align: right;\n",
       "    }\n",
       "</style>\n",
       "<table border=\"1\" class=\"dataframe\">\n",
       "  <thead>\n",
       "    <tr style=\"text-align: right;\">\n",
       "      <th></th>\n",
       "      <th>MLOGP</th>\n",
       "      <th>RDCHI</th>\n",
       "      <th>quantitative response of LC50</th>\n",
       "    </tr>\n",
       "  </thead>\n",
       "  <tbody>\n",
       "    <tr>\n",
       "      <th>0</th>\n",
       "      <td>2.419</td>\n",
       "      <td>1.225</td>\n",
       "      <td>3.740</td>\n",
       "    </tr>\n",
       "    <tr>\n",
       "      <th>1</th>\n",
       "      <td>2.638</td>\n",
       "      <td>1.401</td>\n",
       "      <td>4.330</td>\n",
       "    </tr>\n",
       "    <tr>\n",
       "      <th>2</th>\n",
       "      <td>5.799</td>\n",
       "      <td>2.930</td>\n",
       "      <td>7.019</td>\n",
       "    </tr>\n",
       "    <tr>\n",
       "      <th>3</th>\n",
       "      <td>5.453</td>\n",
       "      <td>2.887</td>\n",
       "      <td>6.723</td>\n",
       "    </tr>\n",
       "    <tr>\n",
       "      <th>4</th>\n",
       "      <td>4.068</td>\n",
       "      <td>2.758</td>\n",
       "      <td>5.979</td>\n",
       "    </tr>\n",
       "    <tr>\n",
       "      <th>...</th>\n",
       "      <td>...</td>\n",
       "      <td>...</td>\n",
       "      <td>...</td>\n",
       "    </tr>\n",
       "    <tr>\n",
       "      <th>541</th>\n",
       "      <td>3.326</td>\n",
       "      <td>2.837</td>\n",
       "      <td>4.651</td>\n",
       "    </tr>\n",
       "    <tr>\n",
       "      <th>542</th>\n",
       "      <td>3.275</td>\n",
       "      <td>2.727</td>\n",
       "      <td>3.953</td>\n",
       "    </tr>\n",
       "    <tr>\n",
       "      <th>543</th>\n",
       "      <td>5.165</td>\n",
       "      <td>3.111</td>\n",
       "      <td>6.219</td>\n",
       "    </tr>\n",
       "    <tr>\n",
       "      <th>544</th>\n",
       "      <td>2.859</td>\n",
       "      <td>2.614</td>\n",
       "      <td>4.995</td>\n",
       "    </tr>\n",
       "    <tr>\n",
       "      <th>545</th>\n",
       "      <td>2.255</td>\n",
       "      <td>1.800</td>\n",
       "      <td>2.480</td>\n",
       "    </tr>\n",
       "  </tbody>\n",
       "</table>\n",
       "<p>546 rows × 3 columns</p>\n",
       "</div>"
      ],
      "text/plain": [
       "     MLOGP  RDCHI  quantitative response of LC50\n",
       "0    2.419  1.225                          3.740\n",
       "1    2.638  1.401                          4.330\n",
       "2    5.799  2.930                          7.019\n",
       "3    5.453  2.887                          6.723\n",
       "4    4.068  2.758                          5.979\n",
       "..     ...    ...                            ...\n",
       "541  3.326  2.837                          4.651\n",
       "542  3.275  2.727                          3.953\n",
       "543  5.165  3.111                          6.219\n",
       "544  2.859  2.614                          4.995\n",
       "545  2.255  1.800                          2.480\n",
       "\n",
       "[546 rows x 3 columns]"
      ]
     },
     "execution_count": 2,
     "metadata": {},
     "output_type": "execute_result"
    }
   ],
   "source": [
    "df = pd.read_csv('fods_1.csv')\n",
    "df"
   ]
  },
  {
   "cell_type": "code",
   "execution_count": 3,
   "id": "3bed213f",
   "metadata": {},
   "outputs": [
    {
     "name": "stdout",
     "output_type": "stream",
     "text": [
      "2.3134926739926738\n",
      "2.4922985347985356\n",
      "4.6584212454212475\n",
      "1.741797285664983\n",
      "0.8110039291512505\n",
      "1.6652150617992907\n",
      "MLOGP                             9.148\n",
      "RDCHI                             6.439\n",
      "quantitative response of LC50    10.047\n",
      "dtype: float64\n",
      "MLOGP                           -6.446\n",
      "RDCHI                            1.000\n",
      "quantitative response of LC50    0.122\n",
      "dtype: float64\n"
     ]
    }
   ],
   "source": [
    "meanX1 = df['MLOGP'].mean()\n",
    "meanX2 = df['RDCHI'].mean()\n",
    "meanY = df['quantitative response of LC50'].mean()\n",
    "stdX1 = df['MLOGP'].std()\n",
    "stdX2 = df['RDCHI'].std()\n",
    "stdY = df['quantitative response of LC50'].std()\n",
    "maxAll = df.max()\n",
    "minAll = df.min()\n",
    "print(meanX1, meanX2, meanY, stdX1, stdX2, stdY, maxAll, minAll, sep = '\\n')"
   ]
  },
  {
   "cell_type": "code",
   "execution_count": 4,
   "id": "45c034ec",
   "metadata": {
    "scrolled": false
   },
   "outputs": [
    {
     "data": {
      "text/html": [
       "<div>\n",
       "<style scoped>\n",
       "    .dataframe tbody tr th:only-of-type {\n",
       "        vertical-align: middle;\n",
       "    }\n",
       "\n",
       "    .dataframe tbody tr th {\n",
       "        vertical-align: top;\n",
       "    }\n",
       "\n",
       "    .dataframe thead th {\n",
       "        text-align: right;\n",
       "    }\n",
       "</style>\n",
       "<table border=\"1\" class=\"dataframe\">\n",
       "  <thead>\n",
       "    <tr style=\"text-align: right;\">\n",
       "      <th></th>\n",
       "      <th>MLOGP</th>\n",
       "      <th>RDCHI</th>\n",
       "      <th>quantitative response of LC50</th>\n",
       "    </tr>\n",
       "  </thead>\n",
       "  <tbody>\n",
       "    <tr>\n",
       "      <th>0</th>\n",
       "      <td>0.568488</td>\n",
       "      <td>0.041368</td>\n",
       "      <td>3.740</td>\n",
       "    </tr>\n",
       "    <tr>\n",
       "      <th>1</th>\n",
       "      <td>0.582532</td>\n",
       "      <td>0.073727</td>\n",
       "      <td>4.330</td>\n",
       "    </tr>\n",
       "    <tr>\n",
       "      <th>2</th>\n",
       "      <td>0.785238</td>\n",
       "      <td>0.354845</td>\n",
       "      <td>7.019</td>\n",
       "    </tr>\n",
       "    <tr>\n",
       "      <th>3</th>\n",
       "      <td>0.763050</td>\n",
       "      <td>0.346939</td>\n",
       "      <td>6.723</td>\n",
       "    </tr>\n",
       "    <tr>\n",
       "      <th>4</th>\n",
       "      <td>0.674234</td>\n",
       "      <td>0.323221</td>\n",
       "      <td>5.979</td>\n",
       "    </tr>\n",
       "    <tr>\n",
       "      <th>...</th>\n",
       "      <td>...</td>\n",
       "      <td>...</td>\n",
       "      <td>...</td>\n",
       "    </tr>\n",
       "    <tr>\n",
       "      <th>541</th>\n",
       "      <td>0.626651</td>\n",
       "      <td>0.337746</td>\n",
       "      <td>4.651</td>\n",
       "    </tr>\n",
       "    <tr>\n",
       "      <th>542</th>\n",
       "      <td>0.623381</td>\n",
       "      <td>0.317522</td>\n",
       "      <td>3.953</td>\n",
       "    </tr>\n",
       "    <tr>\n",
       "      <th>543</th>\n",
       "      <td>0.744581</td>\n",
       "      <td>0.388123</td>\n",
       "      <td>6.219</td>\n",
       "    </tr>\n",
       "    <tr>\n",
       "      <th>544</th>\n",
       "      <td>0.596704</td>\n",
       "      <td>0.296746</td>\n",
       "      <td>4.995</td>\n",
       "    </tr>\n",
       "    <tr>\n",
       "      <th>545</th>\n",
       "      <td>0.557971</td>\n",
       "      <td>0.147086</td>\n",
       "      <td>2.480</td>\n",
       "    </tr>\n",
       "  </tbody>\n",
       "</table>\n",
       "<p>546 rows × 3 columns</p>\n",
       "</div>"
      ],
      "text/plain": [
       "        MLOGP     RDCHI  quantitative response of LC50\n",
       "0    0.568488  0.041368                          3.740\n",
       "1    0.582532  0.073727                          4.330\n",
       "2    0.785238  0.354845                          7.019\n",
       "3    0.763050  0.346939                          6.723\n",
       "4    0.674234  0.323221                          5.979\n",
       "..        ...       ...                            ...\n",
       "541  0.626651  0.337746                          4.651\n",
       "542  0.623381  0.317522                          3.953\n",
       "543  0.744581  0.388123                          6.219\n",
       "544  0.596704  0.296746                          4.995\n",
       "545  0.557971  0.147086                          2.480\n",
       "\n",
       "[546 rows x 3 columns]"
      ]
     },
     "execution_count": 4,
     "metadata": {},
     "output_type": "execute_result"
    }
   ],
   "source": [
    "# standardization\n",
    "df['MLOGP'] = (df['MLOGP'] - df['MLOGP'].min())/(df['MLOGP'].max() - df['MLOGP'].min())\n",
    "df['RDCHI'] = (df['RDCHI'] - df['RDCHI'].min())/(df['RDCHI'].max() - df['RDCHI'].min())\n",
    "df"
   ]
  },
  {
   "cell_type": "code",
   "execution_count": 5,
   "id": "47c9de65",
   "metadata": {},
   "outputs": [
    {
     "data": {
      "text/plain": [
       "MLOGP                            0\n",
       "RDCHI                            0\n",
       "quantitative response of LC50    0\n",
       "dtype: int64"
      ]
     },
     "execution_count": 5,
     "metadata": {},
     "output_type": "execute_result"
    }
   ],
   "source": [
    "df.isnull().sum()"
   ]
  },
  {
   "cell_type": "code",
   "execution_count": 6,
   "id": "827d288f",
   "metadata": {},
   "outputs": [
    {
     "data": {
      "text/html": [
       "<div>\n",
       "<style scoped>\n",
       "    .dataframe tbody tr th:only-of-type {\n",
       "        vertical-align: middle;\n",
       "    }\n",
       "\n",
       "    .dataframe tbody tr th {\n",
       "        vertical-align: top;\n",
       "    }\n",
       "\n",
       "    .dataframe thead th {\n",
       "        text-align: right;\n",
       "    }\n",
       "</style>\n",
       "<table border=\"1\" class=\"dataframe\">\n",
       "  <thead>\n",
       "    <tr style=\"text-align: right;\">\n",
       "      <th></th>\n",
       "      <th>MLOGP</th>\n",
       "      <th>RDCHI</th>\n",
       "      <th>quantitative response of LC50</th>\n",
       "    </tr>\n",
       "  </thead>\n",
       "  <tbody>\n",
       "    <tr>\n",
       "      <th>223</th>\n",
       "      <td>0.633256</td>\n",
       "      <td>0.321566</td>\n",
       "      <td>5.300</td>\n",
       "    </tr>\n",
       "    <tr>\n",
       "      <th>146</th>\n",
       "      <td>0.403937</td>\n",
       "      <td>0.249127</td>\n",
       "      <td>5.900</td>\n",
       "    </tr>\n",
       "    <tr>\n",
       "      <th>246</th>\n",
       "      <td>0.625882</td>\n",
       "      <td>0.189557</td>\n",
       "      <td>4.761</td>\n",
       "    </tr>\n",
       "    <tr>\n",
       "      <th>534</th>\n",
       "      <td>0.353277</td>\n",
       "      <td>0.238831</td>\n",
       "      <td>0.460</td>\n",
       "    </tr>\n",
       "    <tr>\n",
       "      <th>276</th>\n",
       "      <td>0.574259</td>\n",
       "      <td>0.203714</td>\n",
       "      <td>3.840</td>\n",
       "    </tr>\n",
       "    <tr>\n",
       "      <th>...</th>\n",
       "      <td>...</td>\n",
       "      <td>...</td>\n",
       "      <td>...</td>\n",
       "    </tr>\n",
       "    <tr>\n",
       "      <th>15</th>\n",
       "      <td>0.596191</td>\n",
       "      <td>0.181835</td>\n",
       "      <td>3.533</td>\n",
       "    </tr>\n",
       "    <tr>\n",
       "      <th>220</th>\n",
       "      <td>0.529883</td>\n",
       "      <td>0.041368</td>\n",
       "      <td>3.254</td>\n",
       "    </tr>\n",
       "    <tr>\n",
       "      <th>325</th>\n",
       "      <td>0.504104</td>\n",
       "      <td>0.197463</td>\n",
       "      <td>5.001</td>\n",
       "    </tr>\n",
       "    <tr>\n",
       "      <th>12</th>\n",
       "      <td>0.613569</td>\n",
       "      <td>0.500644</td>\n",
       "      <td>7.371</td>\n",
       "    </tr>\n",
       "    <tr>\n",
       "      <th>440</th>\n",
       "      <td>0.393036</td>\n",
       "      <td>0.028498</td>\n",
       "      <td>1.057</td>\n",
       "    </tr>\n",
       "  </tbody>\n",
       "</table>\n",
       "<p>436 rows × 3 columns</p>\n",
       "</div>"
      ],
      "text/plain": [
       "        MLOGP     RDCHI  quantitative response of LC50\n",
       "223  0.633256  0.321566                          5.300\n",
       "146  0.403937  0.249127                          5.900\n",
       "246  0.625882  0.189557                          4.761\n",
       "534  0.353277  0.238831                          0.460\n",
       "276  0.574259  0.203714                          3.840\n",
       "..        ...       ...                            ...\n",
       "15   0.596191  0.181835                          3.533\n",
       "220  0.529883  0.041368                          3.254\n",
       "325  0.504104  0.197463                          5.001\n",
       "12   0.613569  0.500644                          7.371\n",
       "440  0.393036  0.028498                          1.057\n",
       "\n",
       "[436 rows x 3 columns]"
      ]
     },
     "execution_count": 6,
     "metadata": {},
     "output_type": "execute_result"
    }
   ],
   "source": [
    "train, test = train_test_split(df, test_size=0.2) # this is a random split\n",
    "train"
   ]
  },
  {
   "cell_type": "code",
   "execution_count": 7,
   "id": "f5790539",
   "metadata": {
    "scrolled": false
   },
   "outputs": [
    {
     "data": {
      "text/html": [
       "<div>\n",
       "<style scoped>\n",
       "    .dataframe tbody tr th:only-of-type {\n",
       "        vertical-align: middle;\n",
       "    }\n",
       "\n",
       "    .dataframe tbody tr th {\n",
       "        vertical-align: top;\n",
       "    }\n",
       "\n",
       "    .dataframe thead th {\n",
       "        text-align: right;\n",
       "    }\n",
       "</style>\n",
       "<table border=\"1\" class=\"dataframe\">\n",
       "  <thead>\n",
       "    <tr style=\"text-align: right;\">\n",
       "      <th></th>\n",
       "      <th>MLOGP</th>\n",
       "      <th>RDCHI</th>\n",
       "      <th>quantitative response of LC50</th>\n",
       "    </tr>\n",
       "  </thead>\n",
       "  <tbody>\n",
       "    <tr>\n",
       "      <th>10</th>\n",
       "      <td>0.613698</td>\n",
       "      <td>0.147086</td>\n",
       "      <td>4.340</td>\n",
       "    </tr>\n",
       "    <tr>\n",
       "      <th>117</th>\n",
       "      <td>0.514621</td>\n",
       "      <td>0.256849</td>\n",
       "      <td>4.437</td>\n",
       "    </tr>\n",
       "    <tr>\n",
       "      <th>536</th>\n",
       "      <td>0.625882</td>\n",
       "      <td>0.188821</td>\n",
       "      <td>5.461</td>\n",
       "    </tr>\n",
       "    <tr>\n",
       "      <th>89</th>\n",
       "      <td>0.460434</td>\n",
       "      <td>0.284611</td>\n",
       "      <td>3.250</td>\n",
       "    </tr>\n",
       "    <tr>\n",
       "      <th>441</th>\n",
       "      <td>0.589971</td>\n",
       "      <td>0.267329</td>\n",
       "      <td>4.886</td>\n",
       "    </tr>\n",
       "    <tr>\n",
       "      <th>...</th>\n",
       "      <td>...</td>\n",
       "      <td>...</td>\n",
       "      <td>...</td>\n",
       "    </tr>\n",
       "    <tr>\n",
       "      <th>219</th>\n",
       "      <td>0.556111</td>\n",
       "      <td>0.048722</td>\n",
       "      <td>3.643</td>\n",
       "    </tr>\n",
       "    <tr>\n",
       "      <th>294</th>\n",
       "      <td>0.466013</td>\n",
       "      <td>0.378746</td>\n",
       "      <td>2.533</td>\n",
       "    </tr>\n",
       "    <tr>\n",
       "      <th>419</th>\n",
       "      <td>0.530973</td>\n",
       "      <td>0.216216</td>\n",
       "      <td>5.069</td>\n",
       "    </tr>\n",
       "    <tr>\n",
       "      <th>521</th>\n",
       "      <td>0.625625</td>\n",
       "      <td>0.416805</td>\n",
       "      <td>4.535</td>\n",
       "    </tr>\n",
       "    <tr>\n",
       "      <th>454</th>\n",
       "      <td>0.539759</td>\n",
       "      <td>0.270638</td>\n",
       "      <td>3.520</td>\n",
       "    </tr>\n",
       "  </tbody>\n",
       "</table>\n",
       "<p>110 rows × 3 columns</p>\n",
       "</div>"
      ],
      "text/plain": [
       "        MLOGP     RDCHI  quantitative response of LC50\n",
       "10   0.613698  0.147086                          4.340\n",
       "117  0.514621  0.256849                          4.437\n",
       "536  0.625882  0.188821                          5.461\n",
       "89   0.460434  0.284611                          3.250\n",
       "441  0.589971  0.267329                          4.886\n",
       "..        ...       ...                            ...\n",
       "219  0.556111  0.048722                          3.643\n",
       "294  0.466013  0.378746                          2.533\n",
       "419  0.530973  0.216216                          5.069\n",
       "521  0.625625  0.416805                          4.535\n",
       "454  0.539759  0.270638                          3.520\n",
       "\n",
       "[110 rows x 3 columns]"
      ]
     },
     "execution_count": 7,
     "metadata": {},
     "output_type": "execute_result"
    }
   ],
   "source": [
    "test"
   ]
  },
  {
   "cell_type": "code",
   "execution_count": 8,
   "id": "72fb5c78",
   "metadata": {},
   "outputs": [
    {
     "data": {
      "image/png": "[encoded data removed]",
      "text/plain": [
       "<Figure size 432x288 with 1 Axes>"
      ]
     },
     "metadata": {
      "needs_background": "light"
     },
     "output_type": "display_data"
    }
   ],
   "source": [
    "ax = plt.axes(projection='3d')\n",
    "\n",
    "# Data for three-dimensional scattered points\n",
    "zdata = train[\"quantitative response of LC50\"]\n",
    "xdata = train[\"RDCHI\"]\n",
    "ydata = train[\"MLOGP\"]\n",
    "ax.scatter3D(xdata, ydata, zdata, c=zdata, cmap='Greens');"
   ]
  },
  {
   "cell_type": "code",
   "execution_count": 9,
   "id": "16cf1ca1",
   "metadata": {},
   "outputs": [
    {
     "data": {
      "text/html": [
       "<div>\n",
       "<style scoped>\n",
       "    .dataframe tbody tr th:only-of-type {\n",
       "        vertical-align: middle;\n",
       "    }\n",
       "\n",
       "    .dataframe tbody tr th {\n",
       "        vertical-align: top;\n",
       "    }\n",
       "\n",
       "    .dataframe thead th {\n",
       "        text-align: right;\n",
       "    }\n",
       "</style>\n",
       "<table border=\"1\" class=\"dataframe\">\n",
       "  <thead>\n",
       "    <tr style=\"text-align: right;\">\n",
       "      <th></th>\n",
       "      <th>RDCHI</th>\n",
       "      <th>MLOGP</th>\n",
       "    </tr>\n",
       "  </thead>\n",
       "  <tbody>\n",
       "    <tr>\n",
       "      <th>223</th>\n",
       "      <td>0.321566</td>\n",
       "      <td>0.633256</td>\n",
       "    </tr>\n",
       "    <tr>\n",
       "      <th>146</th>\n",
       "      <td>0.249127</td>\n",
       "      <td>0.403937</td>\n",
       "    </tr>\n",
       "    <tr>\n",
       "      <th>246</th>\n",
       "      <td>0.189557</td>\n",
       "      <td>0.625882</td>\n",
       "    </tr>\n",
       "    <tr>\n",
       "      <th>534</th>\n",
       "      <td>0.238831</td>\n",
       "      <td>0.353277</td>\n",
       "    </tr>\n",
       "    <tr>\n",
       "      <th>276</th>\n",
       "      <td>0.203714</td>\n",
       "      <td>0.574259</td>\n",
       "    </tr>\n",
       "    <tr>\n",
       "      <th>...</th>\n",
       "      <td>...</td>\n",
       "      <td>...</td>\n",
       "    </tr>\n",
       "    <tr>\n",
       "      <th>15</th>\n",
       "      <td>0.181835</td>\n",
       "      <td>0.596191</td>\n",
       "    </tr>\n",
       "    <tr>\n",
       "      <th>220</th>\n",
       "      <td>0.041368</td>\n",
       "      <td>0.529883</td>\n",
       "    </tr>\n",
       "    <tr>\n",
       "      <th>325</th>\n",
       "      <td>0.197463</td>\n",
       "      <td>0.504104</td>\n",
       "    </tr>\n",
       "    <tr>\n",
       "      <th>12</th>\n",
       "      <td>0.500644</td>\n",
       "      <td>0.613569</td>\n",
       "    </tr>\n",
       "    <tr>\n",
       "      <th>440</th>\n",
       "      <td>0.028498</td>\n",
       "      <td>0.393036</td>\n",
       "    </tr>\n",
       "  </tbody>\n",
       "</table>\n",
       "<p>436 rows × 2 columns</p>\n",
       "</div>"
      ],
      "text/plain": [
       "        RDCHI     MLOGP\n",
       "223  0.321566  0.633256\n",
       "146  0.249127  0.403937\n",
       "246  0.189557  0.625882\n",
       "534  0.238831  0.353277\n",
       "276  0.203714  0.574259\n",
       "..        ...       ...\n",
       "15   0.181835  0.596191\n",
       "220  0.041368  0.529883\n",
       "325  0.197463  0.504104\n",
       "12   0.500644  0.613569\n",
       "440  0.028498  0.393036\n",
       "\n",
       "[436 rows x 2 columns]"
      ]
     },
     "execution_count": 9,
     "metadata": {},
     "output_type": "execute_result"
    }
   ],
   "source": [
    "trainX = pd.DataFrame(train[[\"RDCHI\", \"MLOGP\"]])\n",
    "trainX"
   ]
  },
  {
   "cell_type": "code",
   "execution_count": 10,
   "id": "d79abd31",
   "metadata": {},
   "outputs": [
    {
     "data": {
      "text/html": [
       "<div>\n",
       "<style scoped>\n",
       "    .dataframe tbody tr th:only-of-type {\n",
       "        vertical-align: middle;\n",
       "    }\n",
       "\n",
       "    .dataframe tbody tr th {\n",
       "        vertical-align: top;\n",
       "    }\n",
       "\n",
       "    .dataframe thead th {\n",
       "        text-align: right;\n",
       "    }\n",
       "</style>\n",
       "<table border=\"1\" class=\"dataframe\">\n",
       "  <thead>\n",
       "    <tr style=\"text-align: right;\">\n",
       "      <th></th>\n",
       "      <th>quantitative response of LC50</th>\n",
       "    </tr>\n",
       "  </thead>\n",
       "  <tbody>\n",
       "    <tr>\n",
       "      <th>223</th>\n",
       "      <td>5.300</td>\n",
       "    </tr>\n",
       "    <tr>\n",
       "      <th>146</th>\n",
       "      <td>5.900</td>\n",
       "    </tr>\n",
       "    <tr>\n",
       "      <th>246</th>\n",
       "      <td>4.761</td>\n",
       "    </tr>\n",
       "    <tr>\n",
       "      <th>534</th>\n",
       "      <td>0.460</td>\n",
       "    </tr>\n",
       "    <tr>\n",
       "      <th>276</th>\n",
       "      <td>3.840</td>\n",
       "    </tr>\n",
       "    <tr>\n",
       "      <th>...</th>\n",
       "      <td>...</td>\n",
       "    </tr>\n",
       "    <tr>\n",
       "      <th>15</th>\n",
       "      <td>3.533</td>\n",
       "    </tr>\n",
       "    <tr>\n",
       "      <th>220</th>\n",
       "      <td>3.254</td>\n",
       "    </tr>\n",
       "    <tr>\n",
       "      <th>325</th>\n",
       "      <td>5.001</td>\n",
       "    </tr>\n",
       "    <tr>\n",
       "      <th>12</th>\n",
       "      <td>7.371</td>\n",
       "    </tr>\n",
       "    <tr>\n",
       "      <th>440</th>\n",
       "      <td>1.057</td>\n",
       "    </tr>\n",
       "  </tbody>\n",
       "</table>\n",
       "<p>436 rows × 1 columns</p>\n",
       "</div>"
      ],
      "text/plain": [
       "     quantitative response of LC50\n",
       "223                          5.300\n",
       "146                          5.900\n",
       "246                          4.761\n",
       "534                          0.460\n",
       "276                          3.840\n",
       "..                             ...\n",
       "15                           3.533\n",
       "220                          3.254\n",
       "325                          5.001\n",
       "12                           7.371\n",
       "440                          1.057\n",
       "\n",
       "[436 rows x 1 columns]"
      ]
     },
     "execution_count": 10,
     "metadata": {},
     "output_type": "execute_result"
    }
   ],
   "source": [
    "trainY = pd.DataFrame(train[\"quantitative response of LC50\"])\n",
    "trainY"
   ]
  },
  {
   "cell_type": "code",
   "execution_count": 11,
   "id": "cbb0e298",
   "metadata": {},
   "outputs": [
    {
     "data": {
      "text/html": [
       "<div>\n",
       "<style scoped>\n",
       "    .dataframe tbody tr th:only-of-type {\n",
       "        vertical-align: middle;\n",
       "    }\n",
       "\n",
       "    .dataframe tbody tr th {\n",
       "        vertical-align: top;\n",
       "    }\n",
       "\n",
       "    .dataframe thead th {\n",
       "        text-align: right;\n",
       "    }\n",
       "</style>\n",
       "<table border=\"1\" class=\"dataframe\">\n",
       "  <thead>\n",
       "    <tr style=\"text-align: right;\">\n",
       "      <th></th>\n",
       "      <th>RDCHI</th>\n",
       "      <th>MLOGP</th>\n",
       "    </tr>\n",
       "  </thead>\n",
       "  <tbody>\n",
       "    <tr>\n",
       "      <th>10</th>\n",
       "      <td>0.147086</td>\n",
       "      <td>0.613698</td>\n",
       "    </tr>\n",
       "    <tr>\n",
       "      <th>117</th>\n",
       "      <td>0.256849</td>\n",
       "      <td>0.514621</td>\n",
       "    </tr>\n",
       "    <tr>\n",
       "      <th>536</th>\n",
       "      <td>0.188821</td>\n",
       "      <td>0.625882</td>\n",
       "    </tr>\n",
       "    <tr>\n",
       "      <th>89</th>\n",
       "      <td>0.284611</td>\n",
       "      <td>0.460434</td>\n",
       "    </tr>\n",
       "    <tr>\n",
       "      <th>441</th>\n",
       "      <td>0.267329</td>\n",
       "      <td>0.589971</td>\n",
       "    </tr>\n",
       "    <tr>\n",
       "      <th>...</th>\n",
       "      <td>...</td>\n",
       "      <td>...</td>\n",
       "    </tr>\n",
       "    <tr>\n",
       "      <th>219</th>\n",
       "      <td>0.048722</td>\n",
       "      <td>0.556111</td>\n",
       "    </tr>\n",
       "    <tr>\n",
       "      <th>294</th>\n",
       "      <td>0.378746</td>\n",
       "      <td>0.466013</td>\n",
       "    </tr>\n",
       "    <tr>\n",
       "      <th>419</th>\n",
       "      <td>0.216216</td>\n",
       "      <td>0.530973</td>\n",
       "    </tr>\n",
       "    <tr>\n",
       "      <th>521</th>\n",
       "      <td>0.416805</td>\n",
       "      <td>0.625625</td>\n",
       "    </tr>\n",
       "    <tr>\n",
       "      <th>454</th>\n",
       "      <td>0.270638</td>\n",
       "      <td>0.539759</td>\n",
       "    </tr>\n",
       "  </tbody>\n",
       "</table>\n",
       "<p>110 rows × 2 columns</p>\n",
       "</div>"
      ],
      "text/plain": [
       "        RDCHI     MLOGP\n",
       "10   0.147086  0.613698\n",
       "117  0.256849  0.514621\n",
       "536  0.188821  0.625882\n",
       "89   0.284611  0.460434\n",
       "441  0.267329  0.589971\n",
       "..        ...       ...\n",
       "219  0.048722  0.556111\n",
       "294  0.378746  0.466013\n",
       "419  0.216216  0.530973\n",
       "521  0.416805  0.625625\n",
       "454  0.270638  0.539759\n",
       "\n",
       "[110 rows x 2 columns]"
      ]
     },
     "execution_count": 11,
     "metadata": {},
     "output_type": "execute_result"
    }
   ],
   "source": [
    "testX = pd.DataFrame(test[[\"RDCHI\", \"MLOGP\"]])\n",
    "testY = pd.DataFrame(test['quantitative response of LC50'])\n",
    "testX"
   ]
  },
  {
   "cell_type": "code",
   "execution_count": 12,
   "id": "3c103a6f",
   "metadata": {},
   "outputs": [
    {
     "data": {
      "text/html": [
       "<div>\n",
       "<style scoped>\n",
       "    .dataframe tbody tr th:only-of-type {\n",
       "        vertical-align: middle;\n",
       "    }\n",
       "\n",
       "    .dataframe tbody tr th {\n",
       "        vertical-align: top;\n",
       "    }\n",
       "\n",
       "    .dataframe thead th {\n",
       "        text-align: right;\n",
       "    }\n",
       "</style>\n",
       "<table border=\"1\" class=\"dataframe\">\n",
       "  <thead>\n",
       "    <tr style=\"text-align: right;\">\n",
       "      <th></th>\n",
       "      <th>quantitative response of LC50</th>\n",
       "    </tr>\n",
       "  </thead>\n",
       "  <tbody>\n",
       "    <tr>\n",
       "      <th>10</th>\n",
       "      <td>4.340</td>\n",
       "    </tr>\n",
       "    <tr>\n",
       "      <th>117</th>\n",
       "      <td>4.437</td>\n",
       "    </tr>\n",
       "    <tr>\n",
       "      <th>536</th>\n",
       "      <td>5.461</td>\n",
       "    </tr>\n",
       "    <tr>\n",
       "      <th>89</th>\n",
       "      <td>3.250</td>\n",
       "    </tr>\n",
       "    <tr>\n",
       "      <th>441</th>\n",
       "      <td>4.886</td>\n",
       "    </tr>\n",
       "    <tr>\n",
       "      <th>...</th>\n",
       "      <td>...</td>\n",
       "    </tr>\n",
       "    <tr>\n",
       "      <th>219</th>\n",
       "      <td>3.643</td>\n",
       "    </tr>\n",
       "    <tr>\n",
       "      <th>294</th>\n",
       "      <td>2.533</td>\n",
       "    </tr>\n",
       "    <tr>\n",
       "      <th>419</th>\n",
       "      <td>5.069</td>\n",
       "    </tr>\n",
       "    <tr>\n",
       "      <th>521</th>\n",
       "      <td>4.535</td>\n",
       "    </tr>\n",
       "    <tr>\n",
       "      <th>454</th>\n",
       "      <td>3.520</td>\n",
       "    </tr>\n",
       "  </tbody>\n",
       "</table>\n",
       "<p>110 rows × 1 columns</p>\n",
       "</div>"
      ],
      "text/plain": [
       "     quantitative response of LC50\n",
       "10                           4.340\n",
       "117                          4.437\n",
       "536                          5.461\n",
       "89                           3.250\n",
       "441                          4.886\n",
       "..                             ...\n",
       "219                          3.643\n",
       "294                          2.533\n",
       "419                          5.069\n",
       "521                          4.535\n",
       "454                          3.520\n",
       "\n",
       "[110 rows x 1 columns]"
      ]
     },
     "execution_count": 12,
     "metadata": {},
     "output_type": "execute_result"
    }
   ],
   "source": [
    "testY"
   ]
  },
  {
   "cell_type": "code",
   "execution_count": 13,
   "id": "b83b5080",
   "metadata": {},
   "outputs": [
    {
     "data": {
      "text/plain": [
       "(436, 3)"
      ]
     },
     "execution_count": 13,
     "metadata": {},
     "output_type": "execute_result"
    }
   ],
   "source": [
    "valX = trainX[trainX.columns[:]].to_numpy()\n",
    "valX = np.append(np.ones((436,1)), valX, axis=1)\n",
    "valY = trainY[trainY.columns[:]].to_numpy()\n",
    "np.shape(valX)\n",
    "# np.reshape(valX, (436,3))"
   ]
  },
  {
   "cell_type": "code",
   "execution_count": 14,
   "id": "11b7dc8f",
   "metadata": {},
   "outputs": [
    {
     "data": {
      "text/plain": [
       "(436, 1)"
      ]
     },
     "execution_count": 14,
     "metadata": {},
     "output_type": "execute_result"
    }
   ],
   "source": [
    "np.shape(valY)"
   ]
  },
  {
   "cell_type": "code",
   "execution_count": 15,
   "id": "ce27798b",
   "metadata": {},
   "outputs": [
    {
     "data": {
      "text/plain": [
       "(110, 3)"
      ]
     },
     "execution_count": 15,
     "metadata": {},
     "output_type": "execute_result"
    }
   ],
   "source": [
    "valTestX = testX[testX.columns[:]].to_numpy()\n",
    "valTestX = np.append(np.ones((110,1)), valTestX, axis=1)\n",
    "valTestY = testY[testY.columns[:]].to_numpy()\n",
    "np.shape(valTestX)"
   ]
  },
  {
   "cell_type": "code",
   "execution_count": 16,
   "id": "1635e99b",
   "metadata": {},
   "outputs": [
    {
     "data": {
      "text/plain": [
       "(110, 1)"
      ]
     },
     "execution_count": 16,
     "metadata": {},
     "output_type": "execute_result"
    }
   ],
   "source": [
    "np.shape(valTestY)"
   ]
  },
  {
   "cell_type": "code",
   "execution_count": 17,
   "id": "f7938765",
   "metadata": {},
   "outputs": [],
   "source": [
    "iters = 4000\n",
    "learningRate = 0.001 #yeta or n\n",
    "costArr= np.zeros(iters+100)\n",
    "counterArr = np.zeros(iters+100)\n",
    "TrainErrorArray = np.array([])\n",
    "TestErrorArray = np.array([])"
   ]
  },
  {
   "cell_type": "code",
   "execution_count": 18,
   "id": "c4443a45",
   "metadata": {},
   "outputs": [
    {
     "name": "stdout",
     "output_type": "stream",
     "text": [
      "w0=0.08487000439297541\n",
      "w1=2.988998943079071\n",
      "w2=6.701572353788385\n"
     ]
    },
    {
     "data": {
      "text/plain": [
       "436"
      ]
     },
     "execution_count": 18,
     "metadata": {},
     "output_type": "execute_result"
    }
   ],
   "source": [
    "wSize = 3\n",
    "w = np.ones(wSize) # similar template for others\n",
    "w1 = np.zeros(wSize)\n",
    "#print(w, '\\n', w1)\n",
    "\n",
    "counter = 0\n",
    "costArr= np.zeros(iters+1)\n",
    "counterArr = np.zeros(iters+1)\n",
    "for i in range(iters):\n",
    "    w2 = np.zeros(wSize)\n",
    "    for j in range(np.shape(valX)[0]):\n",
    "        w2 += ((valY[j,0]-np.sum(w*valX[j,:]))*valX[j,:])\n",
    "\n",
    "    w2 = w2 #N\n",
    "    \n",
    "    w1 = w + learningRate*w2\n",
    "    w=w1\n",
    "    counter+=1\n",
    "    costArr[counter] = w2[0]\n",
    "    counterArr[counter] = counter\n",
    "\n",
    "   \n",
    "\n",
    "for i in range(np.shape(w)[0]):    \n",
    "    print(\"w\", i, \"=\", w[i], sep = '')\n",
    "\n",
    "np.shape(valX)[0]\n",
    " "
   ]
  },
  {
   "cell_type": "code",
   "execution_count": 19,
   "id": "058a4c36",
   "metadata": {},
   "outputs": [
    {
     "data": {
      "text/plain": [
       "1.9133651160532135"
      ]
     },
     "execution_count": 19,
     "metadata": {},
     "output_type": "execute_result"
    }
   ],
   "source": [
    "w1 = 0\n",
    "for i in range(np.shape(valX)[0]):\n",
    "    w1+= (np.sum(w*valX[i,:wSize]) - valY[i,0])**2\n",
    "    \n",
    "TrainErrorArray = np.append(TrainErrorArray, w1)\n",
    "w1/np.shape(valX)[0]"
   ]
  },
  {
   "cell_type": "code",
   "execution_count": 20,
   "id": "09c232c7",
   "metadata": {},
   "outputs": [
    {
     "data": {
      "text/plain": [
       "1.5095759144966185"
      ]
     },
     "execution_count": 20,
     "metadata": {},
     "output_type": "execute_result"
    }
   ],
   "source": [
    "testError = 0\n",
    "for i in range(np.shape(valTestX)[0]):\n",
    "    testError += (np.sum(w*valTestX[i,:wSize]) - valTestY[i,0])**2\n",
    "    \n",
    "TestErrorArray = np.append(TestErrorArray, testError)\n",
    "testError/np.shape(valTestX)[0]"
   ]
  },
  {
   "cell_type": "code",
   "execution_count": 21,
   "id": "63bb132f",
   "metadata": {},
   "outputs": [],
   "source": [
    "degree = 1"
   ]
  },
  {
   "cell_type": "code",
   "execution_count": 22,
   "id": "38d50d13",
   "metadata": {},
   "outputs": [
    {
     "data": {
      "image/png": "[encoded data removed]",
      "text/plain": [
       "<Figure size 432x288 with 1 Axes>"
      ]
     },
     "metadata": {
      "needs_background": "light"
     },
     "output_type": "display_data"
    }
   ],
   "source": [
    "fig,ax = plt.subplots()\n",
    "ax.plot(costArr[1:-1])\n",
    "plt.title(\"Gradient Descent method degree %d - del(E) values\"% degree, y = 1, pad = 30)\n",
    "plt.show() # the number of iterations are maxed out in the end,"
   ]
  },
  {
   "cell_type": "code",
   "execution_count": 23,
   "id": "40628fd7",
   "metadata": {},
   "outputs": [],
   "source": [
    "# Reularization variables\n",
    "LambdaArr = np.linspace(0,0.01,100)\n",
    "q = 0.5\n",
    "LambdaArr\n",
    "learningRate = 10**-3\n",
    "iters = 10000"
   ]
  },
  {
   "cell_type": "code",
   "execution_count": 24,
   "id": "c686825a",
   "metadata": {
    "scrolled": true
   },
   "outputs": [
    {
     "data": {
      "text/plain": [
       "array([1.38324442, 1.3832446 , 1.38324478, 1.38324496, 1.38324514,\n",
       "       1.38324532, 1.3832455 , 1.38324568, 1.38324586, 1.38324604,\n",
       "       1.38324622, 1.38324641, 1.38324659, 1.38324677, 1.38324695,\n",
       "       1.38324713, 1.38324731, 1.38324749, 1.38324767, 1.38324785,\n",
       "       1.38324803, 1.38324821, 1.38324839, 1.38324857, 1.38324876,\n",
       "       1.38324894, 1.38324912, 1.3832493 , 1.38324948, 1.38324966,\n",
       "       1.38324984, 1.38325002, 1.3832502 , 1.38325038, 1.38325056,\n",
       "       1.38325074, 1.38325092, 1.38325111, 1.38325129, 1.38325147,\n",
       "       1.38325165, 1.38325183, 1.38325201, 1.38325219, 1.38325237,\n",
       "       1.38325255, 1.38325273, 1.38325291, 1.38325309, 1.38325328,\n",
       "       1.38325346, 1.38325364, 1.38325382, 1.383254  , 1.38325418,\n",
       "       1.38325436, 1.38325454, 1.38325472, 1.3832549 , 1.38325508,\n",
       "       1.38325526, 1.38325544, 1.38325563, 1.38325581, 1.38325599,\n",
       "       1.38325617, 1.38325635, 1.38325653, 1.38325671, 1.38325689,\n",
       "       1.38325707, 1.38325725, 1.38325743, 1.38325761, 1.38325779,\n",
       "       1.38325798, 1.38325816, 1.38325834, 1.38325852, 1.3832587 ,\n",
       "       1.38325888, 1.38325906, 1.38325924, 1.38325942, 1.3832596 ,\n",
       "       1.38325978, 1.38325996, 1.38326015, 1.38326033, 1.38326051,\n",
       "       1.38326069, 1.38326087, 1.38326105, 1.38326123, 1.38326141,\n",
       "       1.38326159, 1.38326177, 1.38326195, 1.38326213, 1.38326231])"
      ]
     },
     "execution_count": 24,
     "metadata": {},
     "output_type": "execute_result"
    }
   ],
   "source": [
    "wSize = 3\n",
    "w = np.ones(wSize) # similar template for others\n",
    "w1 = np.zeros(wSize)\n",
    "#print(w, '\\n', w1)\n",
    "\n",
    "counter = 0\n",
    "costArr= np.zeros(iters+1)\n",
    "counterArr = np.zeros(iters+1)\n",
    "ErrorLambdas = np.array([])\n",
    "for Lambda in LambdaArr:\n",
    "    w = np.ones(wSize) # similar template for others\n",
    "    w1 = np.zeros(wSize)\n",
    "    for i in range(iters):\n",
    "        z = w.copy()\n",
    "        z = np.abs(z)**(q-1)\n",
    "        z[0] = 0\n",
    "        w2 = np.zeros(wSize)\n",
    "        w2 = (np.sum((valY-np.reshape(np.sum(w*valX, axis = 1), (np.shape(valX)[0],1)))*valX, axis = 0)) - Lambda*q*(z)/2\n",
    "#         for j in range(np.shape(valX)[0]):\n",
    "#             w2 += ((valY[j,0]-np.sum(w*valX[j,:]))*valX[j,:])\n",
    "\n",
    "        w2 = w2 - (Lambda*q/2)*z\n",
    "\n",
    "        w1 = w + learningRate*w2\n",
    "        w=w1\n",
    "    \n",
    "    err = 0\n",
    "    for j in range(np.shape(valX)[0]):\n",
    "            err += ((valY[j,0]-np.sum(w*valX[j,:]))**2)\n",
    "    z = w.copy()\n",
    "    z = np.abs(z)**q\n",
    "    z[0] = 0\n",
    "    err += (Lambda/2)*(np.sum(z))\n",
    "#     print(np.sqrt(err/np.shape(valX)[0]))\n",
    "    \n",
    "    ErrorLambdas = np.append(ErrorLambdas, np.sqrt(err/np.shape(valX)[0]))\n",
    "#     print(\"Lambda:\", Lambda)\n",
    "#     print(\"-------------------------------------\")\n",
    "#     for i in range(np.shape(w)[0]):    \n",
    "#         print(\"w\", i, \"=\", w[i], sep = '')\n",
    "#     print(\"-------------------------------------\")\n",
    "\n",
    "\n",
    "   \n",
    "\n",
    "# for i in range(np.shape(w)[0]):    \n",
    "#     print(\"w\", i, \"=\", w[i], sep = '')\n",
    "\n",
    "np.shape(valX)[0]\n",
    "ErrorLambdas\n",
    " "
   ]
  },
  {
   "cell_type": "code",
   "execution_count": 25,
   "id": "e3c6950d",
   "metadata": {
    "scrolled": false
   },
   "outputs": [],
   "source": [
    "TeErrorLambdas = np.array([])\n",
    "for Lambda in LambdaArr:\n",
    "    err = 0\n",
    "    for j in range(np.shape(valX)[0]):\n",
    "            err += ((valY[j,0]-np.sum(w*valX[j,:]))**2)\n",
    "    z = w.copy()\n",
    "    z = np.abs(z)**q\n",
    "    z[0] = 0\n",
    "    err += (Lambda/2)*(np.sum(z))\n",
    "#     print(np.sqrt(err/np.shape(valTestX)[0]))\n",
    "    \n",
    "    TeErrorLambdas = np.append(TeErrorLambdas, np.sqrt(err/np.shape(valTestX)[0]))\n",
    "#     print(\"Lambda:\", Lambda)\n",
    "#     print(\"-------------------------------------\")\n",
    "#     for i in range(np.shape(w)[0]):    \n",
    "#         print(\"w\", i, \"=\", w[i], sep = '')\n",
    "#     print(\"-------------------------------------\")"
   ]
  },
  {
   "cell_type": "code",
   "execution_count": 26,
   "id": "ac7149b8",
   "metadata": {},
   "outputs": [
    {
     "data": {
      "text/plain": [
       "array([2.75388518, 2.75388554, 2.7538859 , 2.75388626, 2.75388662,\n",
       "       2.75388698, 2.75388734, 2.7538877 , 2.75388806, 2.75388842,\n",
       "       2.75388878, 2.75388913, 2.75388949, 2.75388985, 2.75389021,\n",
       "       2.75389057, 2.75389093, 2.75389129, 2.75389165, 2.75389201,\n",
       "       2.75389237, 2.75389273, 2.75389309, 2.75389345, 2.75389381,\n",
       "       2.75389417, 2.75389453, 2.75389489, 2.75389525, 2.75389561,\n",
       "       2.75389597, 2.75389633, 2.75389669, 2.75389705, 2.75389741,\n",
       "       2.75389777, 2.75389813, 2.75389849, 2.75389885, 2.75389921,\n",
       "       2.75389957, 2.75389993, 2.75390029, 2.75390065, 2.75390101,\n",
       "       2.75390137, 2.75390173, 2.75390209, 2.75390245, 2.75390281,\n",
       "       2.75390317, 2.75390353, 2.75390389, 2.75390425, 2.75390461,\n",
       "       2.75390497, 2.75390533, 2.75390569, 2.75390605, 2.75390641,\n",
       "       2.75390677, 2.75390713, 2.75390749, 2.75390785, 2.75390821,\n",
       "       2.75390857, 2.75390893, 2.75390929, 2.75390965, 2.75391001,\n",
       "       2.75391037, 2.75391073, 2.75391109, 2.75391145, 2.75391181,\n",
       "       2.75391217, 2.75391253, 2.75391289, 2.75391325, 2.75391361,\n",
       "       2.75391397, 2.75391433, 2.75391469, 2.75391505, 2.75391541,\n",
       "       2.75391577, 2.75391613, 2.75391649, 2.75391685, 2.75391721,\n",
       "       2.75391757, 2.75391793, 2.75391829, 2.75391865, 2.75391901,\n",
       "       2.75391937, 2.75391973, 2.75392009, 2.75392045, 2.75392081])"
      ]
     },
     "execution_count": 26,
     "metadata": {},
     "output_type": "execute_result"
    }
   ],
   "source": [
    "TeErrorLambdas"
   ]
  },
  {
   "cell_type": "code",
   "execution_count": 27,
   "id": "68f6a9f9",
   "metadata": {},
   "outputs": [
    {
     "data": {
      "image/png": "[encoded data removed]",
      "text/plain": [
       "<Figure size 432x288 with 1 Axes>"
      ]
     },
     "metadata": {
      "needs_background": "light"
     },
     "output_type": "display_data"
    }
   ],
   "source": [
    "X = LambdaArr.copy()\n",
    "fig, ax = plt.subplots()\n",
    "# Tr = plt.scatter(LambdaArr, ErrorLambdas, c = 'r')\n",
    "plt.plot(X, ErrorLambdas, c = 'r')\n",
    "plt.title(\"Training Error with Lambda\", y = 1, pad = 30)\n",
    "plt.show()"
   ]
  },
  {
   "cell_type": "code",
   "execution_count": 28,
   "id": "636846e0",
   "metadata": {
    "scrolled": true
   },
   "outputs": [
    {
     "data": {
      "image/png": "[encoded data removed]",
      "text/plain": [
       "<Figure size 432x288 with 1 Axes>"
      ]
     },
     "metadata": {
      "needs_background": "light"
     },
     "output_type": "display_data"
    }
   ],
   "source": [
    "fig, ax = plt.subplots()\n",
    "# Te = plt.scatter(LambdaArr, TeErrorLambdas, c = 'b')\n",
    "plt.plot(X, TeErrorLambdas, c = 'b')\n",
    "plt.title(\"Testing Error with Lambda\", y = 1, pad = 30)\n",
    "plt.show()"
   ]
  },
  {
   "cell_type": "code",
   "execution_count": 29,
   "id": "92d57929",
   "metadata": {},
   "outputs": [],
   "source": [
    "# Reularization variables\n",
    "LambdaArr = np.linspace(0,0.01,100)\n",
    "q = 1\n",
    "LambdaArr\n",
    "learningRate = 10**-3\n",
    "iters = 10000"
   ]
  },
  {
   "cell_type": "code",
   "execution_count": 30,
   "id": "b14c450d",
   "metadata": {
    "scrolled": true
   },
   "outputs": [
    {
     "data": {
      "text/plain": [
       "array([1.38324442, 1.38324482, 1.38324523, 1.38324563, 1.38324604,\n",
       "       1.38324645, 1.38324685, 1.38324726, 1.38324766, 1.38324807,\n",
       "       1.38324847, 1.38324888, 1.38324929, 1.38324969, 1.3832501 ,\n",
       "       1.3832505 , 1.38325091, 1.38325131, 1.38325172, 1.38325213,\n",
       "       1.38325253, 1.38325294, 1.38325334, 1.38325375, 1.38325416,\n",
       "       1.38325456, 1.38325497, 1.38325537, 1.38325578, 1.38325618,\n",
       "       1.38325659, 1.383257  , 1.3832574 , 1.38325781, 1.38325821,\n",
       "       1.38325862, 1.38325903, 1.38325943, 1.38325984, 1.38326024,\n",
       "       1.38326065, 1.38326105, 1.38326146, 1.38326187, 1.38326227,\n",
       "       1.38326268, 1.38326308, 1.38326349, 1.3832639 , 1.3832643 ,\n",
       "       1.38326471, 1.38326511, 1.38326552, 1.38326592, 1.38326633,\n",
       "       1.38326674, 1.38326714, 1.38326755, 1.38326795, 1.38326836,\n",
       "       1.38326877, 1.38326917, 1.38326958, 1.38326998, 1.38327039,\n",
       "       1.38327079, 1.3832712 , 1.38327161, 1.38327201, 1.38327242,\n",
       "       1.38327282, 1.38327323, 1.38327364, 1.38327404, 1.38327445,\n",
       "       1.38327485, 1.38327526, 1.38327567, 1.38327607, 1.38327648,\n",
       "       1.38327688, 1.38327729, 1.3832777 , 1.3832781 , 1.38327851,\n",
       "       1.38327891, 1.38327932, 1.38327972, 1.38328013, 1.38328054,\n",
       "       1.38328094, 1.38328135, 1.38328175, 1.38328216, 1.38328257,\n",
       "       1.38328297, 1.38328338, 1.38328378, 1.38328419, 1.3832846 ])"
      ]
     },
     "execution_count": 30,
     "metadata": {},
     "output_type": "execute_result"
    }
   ],
   "source": [
    "wSize = 3\n",
    "w = np.ones(wSize) # similar template for others\n",
    "w1 = np.zeros(wSize)\n",
    "#print(w, '\\n', w1)\n",
    "\n",
    "counter = 0\n",
    "costArr= np.zeros(iters+1)\n",
    "counterArr = np.zeros(iters+1)\n",
    "ErrorLambdas = np.array([])\n",
    "for Lambda in LambdaArr:\n",
    "    w = np.ones(wSize) # similar template for others\n",
    "    w1 = np.zeros(wSize)\n",
    "    for i in range(iters):\n",
    "        z = w.copy()\n",
    "        z = np.abs(z)**(q-1)\n",
    "        z[0] = 0\n",
    "        w2 = np.zeros(wSize)\n",
    "        w2 = (np.sum((valY-np.reshape(np.sum(w*valX, axis = 1), (np.shape(valX)[0],1)))*valX, axis = 0)) - Lambda*q*(z)/2\n",
    "#         for j in range(np.shape(valX)[0]):\n",
    "#             w2 += ((valY[j,0]-np.sum(w*valX[j,:]))*valX[j,:])\n",
    "\n",
    "        w2 = w2 - (Lambda*q/2)*z\n",
    "\n",
    "        w1 = w + learningRate*w2\n",
    "        w=w1\n",
    "    \n",
    "    err = 0\n",
    "    for j in range(np.shape(valX)[0]):\n",
    "            err += ((valY[j,0]-np.sum(w*valX[j,:]))**2)\n",
    "    z = w.copy()\n",
    "    z = np.abs(z)**q\n",
    "    z[0] = 0\n",
    "    err += (Lambda/2)*(np.sum(z))\n",
    "#     print(np.sqrt(err/np.shape(valX)[0]))\n",
    "    \n",
    "    ErrorLambdas = np.append(ErrorLambdas, np.sqrt(err/np.shape(valX)[0]))\n",
    "#     print(\"Lambda:\", Lambda)\n",
    "#     print(\"-------------------------------------\")\n",
    "#     for i in range(np.shape(w)[0]):    \n",
    "#         print(\"w\", i, \"=\", w[i], sep = '')\n",
    "#     print(\"-------------------------------------\")\n",
    "\n",
    "\n",
    "   \n",
    "\n",
    "# for i in range(np.shape(w)[0]):    \n",
    "#     print(\"w\", i, \"=\", w[i], sep = '')\n",
    "\n",
    "np.shape(valX)[0]\n",
    "ErrorLambdas\n",
    " "
   ]
  },
  {
   "cell_type": "code",
   "execution_count": 31,
   "id": "74e4bb1e",
   "metadata": {
    "scrolled": false
   },
   "outputs": [],
   "source": [
    "TeErrorLambdas = np.array([])\n",
    "for Lambda in LambdaArr:\n",
    "    err = 0\n",
    "    for j in range(np.shape(valX)[0]):\n",
    "            err += ((valY[j,0]-np.sum(w*valX[j,:]))**2)\n",
    "    z = w.copy()\n",
    "    z = np.abs(z)**q\n",
    "    z[0] = 0\n",
    "    err += (Lambda/2)*(np.sum(z))\n",
    "#     print(np.sqrt(err/np.shape(valTestX)[0]))\n",
    "    \n",
    "    TeErrorLambdas = np.append(TeErrorLambdas, np.sqrt(err/np.shape(valTestX)[0]))\n",
    "#     print(\"Lambda:\", Lambda)\n",
    "#     print(\"-------------------------------------\")\n",
    "#     for i in range(np.shape(w)[0]):    \n",
    "#         print(\"w\", i, \"=\", w[i], sep = '')\n",
    "#     print(\"-------------------------------------\")"
   ]
  },
  {
   "cell_type": "code",
   "execution_count": 32,
   "id": "ff5b3cbd",
   "metadata": {},
   "outputs": [
    {
     "data": {
      "text/plain": [
       "array([2.75388521, 2.75388602, 2.75388683, 2.75388763, 2.75388844,\n",
       "       2.75388925, 2.75389006, 2.75389087, 2.75389167, 2.75389248,\n",
       "       2.75389329, 2.7538941 , 2.7538949 , 2.75389571, 2.75389652,\n",
       "       2.75389733, 2.75389813, 2.75389894, 2.75389975, 2.75390056,\n",
       "       2.75390136, 2.75390217, 2.75390298, 2.75390379, 2.75390459,\n",
       "       2.7539054 , 2.75390621, 2.75390702, 2.75390783, 2.75390863,\n",
       "       2.75390944, 2.75391025, 2.75391106, 2.75391186, 2.75391267,\n",
       "       2.75391348, 2.75391429, 2.75391509, 2.7539159 , 2.75391671,\n",
       "       2.75391752, 2.75391832, 2.75391913, 2.75391994, 2.75392075,\n",
       "       2.75392156, 2.75392236, 2.75392317, 2.75392398, 2.75392479,\n",
       "       2.75392559, 2.7539264 , 2.75392721, 2.75392802, 2.75392882,\n",
       "       2.75392963, 2.75393044, 2.75393125, 2.75393205, 2.75393286,\n",
       "       2.75393367, 2.75393448, 2.75393528, 2.75393609, 2.7539369 ,\n",
       "       2.75393771, 2.75393851, 2.75393932, 2.75394013, 2.75394094,\n",
       "       2.75394175, 2.75394255, 2.75394336, 2.75394417, 2.75394498,\n",
       "       2.75394578, 2.75394659, 2.7539474 , 2.75394821, 2.75394901,\n",
       "       2.75394982, 2.75395063, 2.75395144, 2.75395224, 2.75395305,\n",
       "       2.75395386, 2.75395467, 2.75395547, 2.75395628, 2.75395709,\n",
       "       2.7539579 , 2.75395871, 2.75395951, 2.75396032, 2.75396113,\n",
       "       2.75396194, 2.75396274, 2.75396355, 2.75396436, 2.75396517])"
      ]
     },
     "execution_count": 32,
     "metadata": {},
     "output_type": "execute_result"
    }
   ],
   "source": [
    "TeErrorLambdas"
   ]
  },
  {
   "cell_type": "code",
   "execution_count": 33,
   "id": "54d3c89c",
   "metadata": {},
   "outputs": [
    {
     "data": {
      "image/png": "[encoded data removed]",
      "text/plain": [
       "<Figure size 432x288 with 1 Axes>"
      ]
     },
     "metadata": {
      "needs_background": "light"
     },
     "output_type": "display_data"
    }
   ],
   "source": [
    "X = LambdaArr.copy()\n",
    "fig, ax = plt.subplots()\n",
    "# Tr = plt.scatter(LambdaArr, ErrorLambdas, c = 'r')\n",
    "plt.plot(X, ErrorLambdas, c = 'r')\n",
    "plt.title(\"Training Error with Lambda\", y = 1, pad = 30)\n",
    "plt.show()"
   ]
  },
  {
   "cell_type": "code",
   "execution_count": 34,
   "id": "2aab085d",
   "metadata": {
    "scrolled": true
   },
   "outputs": [
    {
     "data": {
      "image/png": "[encoded data removed]",
      "text/plain": [
       "<Figure size 432x288 with 1 Axes>"
      ]
     },
     "metadata": {
      "needs_background": "light"
     },
     "output_type": "display_data"
    }
   ],
   "source": [
    "fig, ax = plt.subplots()\n",
    "# Te = plt.scatter(LambdaArr, TeErrorLambdas, c = 'b')\n",
    "plt.plot(X, TeErrorLambdas, c = 'b')\n",
    "plt.title(\"Testing Error with Lambda\", y = 1, pad = 30)\n",
    "plt.show()"
   ]
  },
  {
   "cell_type": "code",
   "execution_count": 35,
   "id": "ec08e802",
   "metadata": {},
   "outputs": [],
   "source": [
    "# Reularization variables\n",
    "LambdaArr = np.linspace(0,0.01,100)\n",
    "q = 2\n",
    "LambdaArr\n",
    "learningRate = 10**-3\n",
    "iters = 10000"
   ]
  },
  {
   "cell_type": "code",
   "execution_count": 36,
   "id": "1a2442ec",
   "metadata": {
    "scrolled": true
   },
   "outputs": [
    {
     "data": {
      "text/plain": [
       "array([1.38324442, 1.38324667, 1.38324893, 1.38325118, 1.38325344,\n",
       "       1.38325569, 1.38325795, 1.38326021, 1.38326246, 1.38326472,\n",
       "       1.38326698, 1.38326923, 1.38327149, 1.38327375, 1.38327601,\n",
       "       1.38327827, 1.38328053, 1.38328279, 1.38328505, 1.38328731,\n",
       "       1.38328957, 1.38329183, 1.38329409, 1.38329635, 1.38329861,\n",
       "       1.38330087, 1.38330313, 1.3833054 , 1.38330766, 1.38330992,\n",
       "       1.38331219, 1.38331445, 1.38331671, 1.38331898, 1.38332124,\n",
       "       1.38332351, 1.38332577, 1.38332804, 1.3833303 , 1.38333257,\n",
       "       1.38333483, 1.3833371 , 1.38333937, 1.38334163, 1.3833439 ,\n",
       "       1.38334617, 1.38334844, 1.3833507 , 1.38335297, 1.38335524,\n",
       "       1.38335751, 1.38335978, 1.38336205, 1.38336432, 1.38336659,\n",
       "       1.38336886, 1.38337113, 1.3833734 , 1.38337567, 1.38337794,\n",
       "       1.38338021, 1.38338249, 1.38338476, 1.38338703, 1.3833893 ,\n",
       "       1.38339158, 1.38339385, 1.38339612, 1.3833984 , 1.38340067,\n",
       "       1.38340295, 1.38340522, 1.3834075 , 1.38340977, 1.38341205,\n",
       "       1.38341433, 1.3834166 , 1.38341888, 1.38342116, 1.38342343,\n",
       "       1.38342571, 1.38342799, 1.38343027, 1.38343254, 1.38343482,\n",
       "       1.3834371 , 1.38343938, 1.38344166, 1.38344394, 1.38344622,\n",
       "       1.3834485 , 1.38345078, 1.38345306, 1.38345534, 1.38345763,\n",
       "       1.38345991, 1.38346219, 1.38346447, 1.38346675, 1.38346904])"
      ]
     },
     "execution_count": 36,
     "metadata": {},
     "output_type": "execute_result"
    }
   ],
   "source": [
    "wSize = 3\n",
    "w = np.ones(wSize) # similar template for others\n",
    "w1 = np.zeros(wSize)\n",
    "#print(w, '\\n', w1)\n",
    "\n",
    "counter = 0\n",
    "costArr= np.zeros(iters+1)\n",
    "counterArr = np.zeros(iters+1)\n",
    "ErrorLambdas = np.array([])\n",
    "for Lambda in LambdaArr:\n",
    "    w = np.ones(wSize) # similar template for others\n",
    "    w1 = np.zeros(wSize)\n",
    "    for i in range(iters):\n",
    "        z = w.copy()\n",
    "        z = np.abs(z)**(q-1)\n",
    "        z[0] = 0\n",
    "        w2 = np.zeros(wSize)\n",
    "        w2 = (np.sum((valY-np.reshape(np.sum(w*valX, axis = 1), (np.shape(valX)[0],1)))*valX, axis = 0)) - Lambda*q*(z)/2\n",
    "#         for j in range(np.shape(valX)[0]):\n",
    "#             w2 += ((valY[j,0]-np.sum(w*valX[j,:]))*valX[j,:])\n",
    "\n",
    "        w2 = w2 - (Lambda*q/2)*z\n",
    "\n",
    "        w1 = w + learningRate*w2\n",
    "        w=w1\n",
    "    \n",
    "    err = 0\n",
    "    for j in range(np.shape(valX)[0]):\n",
    "            err += ((valY[j,0]-np.sum(w*valX[j,:]))**2)\n",
    "    z = w.copy()\n",
    "    z = np.abs(z)**q\n",
    "    z[0] = 0\n",
    "    err += (Lambda/2)*(np.sum(z))\n",
    "#     print(np.sqrt(err/np.shape(valX)[0]))\n",
    "    \n",
    "    ErrorLambdas = np.append(ErrorLambdas, np.sqrt(err/np.shape(valX)[0]))\n",
    "#     print(\"Lambda:\", Lambda)\n",
    "#     print(\"-------------------------------------\")\n",
    "#     for i in range(np.shape(w)[0]):    \n",
    "#         print(\"w\", i, \"=\", w[i], sep = '')\n",
    "#     print(\"-------------------------------------\")\n",
    "\n",
    "\n",
    "   \n",
    "\n",
    "# for i in range(np.shape(w)[0]):    \n",
    "#     print(\"w\", i, \"=\", w[i], sep = '')\n",
    "\n",
    "np.shape(valX)[0]\n",
    "ErrorLambdas\n",
    " "
   ]
  },
  {
   "cell_type": "code",
   "execution_count": 37,
   "id": "07d23e47",
   "metadata": {
    "scrolled": false
   },
   "outputs": [],
   "source": [
    "TeErrorLambdas = np.array([])\n",
    "for Lambda in LambdaArr:\n",
    "    err = 0\n",
    "    for j in range(np.shape(valX)[0]):\n",
    "            err += ((valY[j,0]-np.sum(w*valX[j,:]))**2)\n",
    "    z = w.copy()\n",
    "    z = np.abs(z)**q\n",
    "    z[0] = 0\n",
    "    err += (Lambda/2)*(np.sum(z))\n",
    "#     print(np.sqrt(err/np.shape(valTestX)[0]))\n",
    "    \n",
    "    TeErrorLambdas = np.append(TeErrorLambdas, np.sqrt(err/np.shape(valTestX)[0]))\n",
    "#     print(\"Lambda:\", Lambda)\n",
    "#     print(\"-------------------------------------\")\n",
    "#     for i in range(np.shape(w)[0]):    \n",
    "#         print(\"w\", i, \"=\", w[i], sep = '')\n",
    "#     print(\"-------------------------------------\")"
   ]
  },
  {
   "cell_type": "code",
   "execution_count": 38,
   "id": "ece03a68",
   "metadata": {},
   "outputs": [
    {
     "data": {
      "text/plain": [
       "array([2.7538909 , 2.75389536, 2.75389982, 2.75390428, 2.75390874,\n",
       "       2.7539132 , 2.75391766, 2.75392212, 2.75392658, 2.75393104,\n",
       "       2.7539355 , 2.75393996, 2.75394442, 2.75394888, 2.75395333,\n",
       "       2.75395779, 2.75396225, 2.75396671, 2.75397117, 2.75397563,\n",
       "       2.75398009, 2.75398455, 2.75398901, 2.75399347, 2.75399793,\n",
       "       2.75400239, 2.75400685, 2.75401131, 2.75401577, 2.75402023,\n",
       "       2.75402469, 2.75402915, 2.75403361, 2.75403806, 2.75404252,\n",
       "       2.75404698, 2.75405144, 2.7540559 , 2.75406036, 2.75406482,\n",
       "       2.75406928, 2.75407374, 2.7540782 , 2.75408266, 2.75408712,\n",
       "       2.75409158, 2.75409604, 2.7541005 , 2.75410495, 2.75410941,\n",
       "       2.75411387, 2.75411833, 2.75412279, 2.75412725, 2.75413171,\n",
       "       2.75413617, 2.75414063, 2.75414509, 2.75414955, 2.75415401,\n",
       "       2.75415847, 2.75416293, 2.75416738, 2.75417184, 2.7541763 ,\n",
       "       2.75418076, 2.75418522, 2.75418968, 2.75419414, 2.7541986 ,\n",
       "       2.75420306, 2.75420752, 2.75421198, 2.75421643, 2.75422089,\n",
       "       2.75422535, 2.75422981, 2.75423427, 2.75423873, 2.75424319,\n",
       "       2.75424765, 2.75425211, 2.75425657, 2.75426103, 2.75426548,\n",
       "       2.75426994, 2.7542744 , 2.75427886, 2.75428332, 2.75428778,\n",
       "       2.75429224, 2.7542967 , 2.75430116, 2.75430562, 2.75431007,\n",
       "       2.75431453, 2.75431899, 2.75432345, 2.75432791, 2.75433237])"
      ]
     },
     "execution_count": 38,
     "metadata": {},
     "output_type": "execute_result"
    }
   ],
   "source": [
    "TeErrorLambdas"
   ]
  },
  {
   "cell_type": "code",
   "execution_count": 39,
   "id": "6face7ae",
   "metadata": {},
   "outputs": [
    {
     "data": {
      "image/png": "[encoded data removed]",
      "text/plain": [
       "<Figure size 432x288 with 1 Axes>"
      ]
     },
     "metadata": {
      "needs_background": "light"
     },
     "output_type": "display_data"
    }
   ],
   "source": [
    "X = LambdaArr.copy()\n",
    "fig, ax = plt.subplots()\n",
    "# Tr = plt.scatter(LambdaArr, ErrorLambdas, c = 'r')\n",
    "plt.plot(X, ErrorLambdas, c = 'r')\n",
    "plt.title(\"Training Error with Lambda\", y = 1, pad = 30)\n",
    "plt.show()"
   ]
  },
  {
   "cell_type": "code",
   "execution_count": 40,
   "id": "1ffcc926",
   "metadata": {
    "scrolled": true
   },
   "outputs": [
    {
     "data": {
      "image/png": "[encoded data removed]",
      "text/plain": [
       "<Figure size 432x288 with 1 Axes>"
      ]
     },
     "metadata": {
      "needs_background": "light"
     },
     "output_type": "display_data"
    }
   ],
   "source": [
    "fig, ax = plt.subplots()\n",
    "# Te = plt.scatter(LambdaArr, TeErrorLambdas, c = 'b')\n",
    "plt.plot(X, TeErrorLambdas, c = 'b')\n",
    "plt.title(\"Testing Error with Lambda\", y = 1, pad = 30)\n",
    "plt.show()"
   ]
  },
  {
   "cell_type": "code",
   "execution_count": 41,
   "id": "d2103349",
   "metadata": {},
   "outputs": [],
   "source": [
    "# Reularization variables\n",
    "LambdaArr = np.linspace(0,0.01,100)\n",
    "q = 4\n",
    "LambdaArr\n",
    "learningRate = 10**-3\n",
    "iters = 10000"
   ]
  },
  {
   "cell_type": "code",
   "execution_count": 42,
   "id": "cb584832",
   "metadata": {
    "scrolled": true
   },
   "outputs": [
    {
     "data": {
      "text/plain": [
       "array([1.38324442, 1.38333346, 1.38342486, 1.3835184 , 1.38361391,\n",
       "       1.38371122, 1.38381016, 1.38391061, 1.38401242, 1.38411549,\n",
       "       1.38421969, 1.38432493, 1.38443111, 1.38453815, 1.38464596,\n",
       "       1.38475447, 1.38486361, 1.38497332, 1.38508354, 1.38519421,\n",
       "       1.38530527, 1.3854167 , 1.38552842, 1.38564042, 1.38575264,\n",
       "       1.38586506, 1.38597763, 1.38609034, 1.38620313, 1.38631601,\n",
       "       1.38642892, 1.38654186, 1.38665479, 1.38676771, 1.38688058,\n",
       "       1.3869934 , 1.38710614, 1.38721879, 1.38733133, 1.38744375,\n",
       "       1.38755604, 1.38766818, 1.38778016, 1.38789198, 1.38800362,\n",
       "       1.38811508, 1.38822634, 1.38833739, 1.38844824, 1.38855887,\n",
       "       1.38866928, 1.38877945, 1.38888939, 1.3889991 , 1.38910855,\n",
       "       1.38921776, 1.38932671, 1.3894354 , 1.38954384, 1.389652  ,\n",
       "       1.38975991, 1.38986754, 1.3899749 , 1.39008198, 1.39018879,\n",
       "       1.39029531, 1.39040156, 1.39050753, 1.39061321, 1.39071861,\n",
       "       1.39082372, 1.39092854, 1.39103308, 1.39113733, 1.39124129,\n",
       "       1.39134497, 1.39144835, 1.39155145, 1.39165425, 1.39175677,\n",
       "       1.391859  , 1.39196093, 1.39206258, 1.39216394, 1.39226501,\n",
       "       1.3923658 , 1.39246629, 1.3925665 , 1.39266642, 1.39276606,\n",
       "       1.39286541, 1.39296447, 1.39306326, 1.39316176, 1.39325997,\n",
       "       1.39335791, 1.39345556, 1.39355294, 1.39365004, 1.39374686])"
      ]
     },
     "execution_count": 42,
     "metadata": {},
     "output_type": "execute_result"
    }
   ],
   "source": [
    "wSize = 3\n",
    "w = np.ones(wSize) # similar template for others\n",
    "w1 = np.zeros(wSize)\n",
    "#print(w, '\\n', w1)\n",
    "\n",
    "counter = 0\n",
    "costArr= np.zeros(iters+1)\n",
    "counterArr = np.zeros(iters+1)\n",
    "ErrorLambdas = np.array([])\n",
    "for Lambda in LambdaArr:\n",
    "    w = np.ones(wSize) # similar template for others\n",
    "    w1 = np.zeros(wSize)\n",
    "    for i in range(iters):\n",
    "        z = w.copy()\n",
    "        z = np.abs(z)**(q-1)\n",
    "        z[0] = 0\n",
    "        w2 = np.zeros(wSize)\n",
    "        w2 = (np.sum((valY-np.reshape(np.sum(w*valX, axis = 1), (np.shape(valX)[0],1)))*valX, axis = 0)) - Lambda*q*(z)/2\n",
    "#         for j in range(np.shape(valX)[0]):\n",
    "#             w2 += ((valY[j,0]-np.sum(w*valX[j,:]))*valX[j,:])\n",
    "\n",
    "        w2 = w2 - (Lambda*q/2)*z\n",
    "\n",
    "        w1 = w + learningRate*w2\n",
    "        w=w1\n",
    "    \n",
    "    err = 0\n",
    "    for j in range(np.shape(valX)[0]):\n",
    "            err += ((valY[j,0]-np.sum(w*valX[j,:]))**2)\n",
    "    z = w.copy()\n",
    "    z = np.abs(z)**q\n",
    "    z[0] = 0\n",
    "    err += (Lambda/2)*(np.sum(z))\n",
    "#     print(np.sqrt(err/np.shape(valX)[0]))\n",
    "    \n",
    "    ErrorLambdas = np.append(ErrorLambdas, np.sqrt(err/np.shape(valX)[0]))\n",
    "#     print(\"Lambda:\", Lambda)\n",
    "#     print(\"-------------------------------------\")\n",
    "#     for i in range(np.shape(w)[0]):    \n",
    "#         print(\"w\", i, \"=\", w[i], sep = '')\n",
    "#     print(\"-------------------------------------\")\n",
    "\n",
    "\n",
    "   \n",
    "\n",
    "# for i in range(np.shape(w)[0]):    \n",
    "#     print(\"w\", i, \"=\", w[i], sep = '')\n",
    "\n",
    "np.shape(valX)[0]\n",
    "ErrorLambdas\n",
    " "
   ]
  },
  {
   "cell_type": "code",
   "execution_count": 43,
   "id": "6b1d3659",
   "metadata": {
    "scrolled": false
   },
   "outputs": [],
   "source": [
    "TeErrorLambdas = np.array([])\n",
    "for Lambda in LambdaArr:\n",
    "    err = 0\n",
    "    for j in range(np.shape(valX)[0]):\n",
    "            err += ((valY[j,0]-np.sum(w*valX[j,:]))**2)\n",
    "    z = w.copy()\n",
    "    z = np.abs(z)**q\n",
    "    z[0] = 0\n",
    "    err += (Lambda/2)*(np.sum(z))\n",
    "#     print(np.sqrt(err/np.shape(valTestX)[0]))\n",
    "    \n",
    "    TeErrorLambdas = np.append(TeErrorLambdas, np.sqrt(err/np.shape(valTestX)[0]))\n",
    "#     print(\"Lambda:\", Lambda)\n",
    "#     print(\"-------------------------------------\")\n",
    "#     for i in range(np.shape(w)[0]):    \n",
    "#         print(\"w\", i, \"=\", w[i], sep = '')\n",
    "#     print(\"-------------------------------------\")"
   ]
  },
  {
   "cell_type": "code",
   "execution_count": 44,
   "id": "4ca9e002",
   "metadata": {},
   "outputs": [
    {
     "data": {
      "text/plain": [
       "array([2.76701028, 2.76708902, 2.76716775, 2.76724648, 2.76732521,\n",
       "       2.76740394, 2.76748267, 2.76756139, 2.76764011, 2.76771883,\n",
       "       2.76779754, 2.76787626, 2.76795497, 2.76803368, 2.76811239,\n",
       "       2.76819109, 2.7682698 , 2.7683485 , 2.7684272 , 2.76850589,\n",
       "       2.76858459, 2.76866328, 2.76874197, 2.76882065, 2.76889934,\n",
       "       2.76897802, 2.7690567 , 2.76913538, 2.76921406, 2.76929273,\n",
       "       2.7693714 , 2.76945007, 2.76952874, 2.7696074 , 2.76968607,\n",
       "       2.76976473, 2.76984339, 2.76992204, 2.7700007 , 2.77007935,\n",
       "       2.770158  , 2.77023664, 2.77031529, 2.77039393, 2.77047257,\n",
       "       2.77055121, 2.77062984, 2.77070848, 2.77078711, 2.77086574,\n",
       "       2.77094437, 2.77102299, 2.77110161, 2.77118023, 2.77125885,\n",
       "       2.77133747, 2.77141608, 2.77149469, 2.7715733 , 2.77165191,\n",
       "       2.77173051, 2.77180912, 2.77188772, 2.77196631, 2.77204491,\n",
       "       2.7721235 , 2.77220209, 2.77228068, 2.77235927, 2.77243786,\n",
       "       2.77251644, 2.77259502, 2.7726736 , 2.77275217, 2.77283074,\n",
       "       2.77290932, 2.77298789, 2.77306645, 2.77314502, 2.77322358,\n",
       "       2.77330214, 2.7733807 , 2.77345925, 2.77353781, 2.77361636,\n",
       "       2.77369491, 2.77377345, 2.773852  , 2.77393054, 2.77400908,\n",
       "       2.77408762, 2.77416615, 2.77424469, 2.77432322, 2.77440175,\n",
       "       2.77448027, 2.7745588 , 2.77463732, 2.77471584, 2.77479436])"
      ]
     },
     "execution_count": 44,
     "metadata": {},
     "output_type": "execute_result"
    }
   ],
   "source": [
    "TeErrorLambdas"
   ]
  },
  {
   "cell_type": "code",
   "execution_count": 45,
   "id": "a1176b2e",
   "metadata": {},
   "outputs": [
    {
     "data": {
      "image/png": "[encoded data removed]",
      "text/plain": [
       "<Figure size 432x288 with 1 Axes>"
      ]
     },
     "metadata": {
      "needs_background": "light"
     },
     "output_type": "display_data"
    }
   ],
   "source": [
    "X = LambdaArr.copy()\n",
    "fig, ax = plt.subplots()\n",
    "# Tr = plt.scatter(LambdaArr, ErrorLambdas, c = 'r')\n",
    "plt.plot(X, ErrorLambdas, c = 'r')\n",
    "plt.title(\"Training Error with Lambda\", y = 1, pad = 30)\n",
    "plt.show()"
   ]
  },
  {
   "cell_type": "code",
   "execution_count": 46,
   "id": "6bfb99c1",
   "metadata": {},
   "outputs": [
    {
     "data": {
      "image/png": "[encoded data removed]",
      "text/plain": [
       "<Figure size 432x288 with 1 Axes>"
      ]
     },
     "metadata": {
      "needs_background": "light"
     },
     "output_type": "display_data"
    }
   ],
   "source": [
    "fig, ax = plt.subplots()\n",
    "# Te = plt.scatter(LambdaArr, TeErrorLambdas, c = 'b')\n",
    "plt.plot(X, TeErrorLambdas, c = 'b')\n",
    "plt.title(\"Testing Error with Lambda\", y = 1, pad = 30)\n",
    "plt.show()"
   ]
  },
  {
   "cell_type": "code",
   "execution_count": null,
   "id": "862bf286",
   "metadata": {},
   "outputs": [],
   "source": []
  }
 ],
 "metadata": {
  "kernelspec": {
   "display_name": "Python 3 (ipykernel)",
   "language": "python",
   "name": "python3"
  },
  "language_info": {
   "codemirror_mode": {
    "name": "ipython",
    "version": 3
   },
   "file_extension": ".py",
   "mimetype": "text/x-python",
   "name": "python",
   "nbconvert_exporter": "python",
   "pygments_lexer": "ipython3",
   "version": "3.9.12"
  }
 },
 "nbformat": 4,
 "nbformat_minor": 5
}
