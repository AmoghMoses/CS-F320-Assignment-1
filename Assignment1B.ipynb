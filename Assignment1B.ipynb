{
 "cells": [
  {
   "cell_type": "code",
   "execution_count": 1,
   "id": "4d67eca0",
   "metadata": {},
   "outputs": [
    {
     "name": "stdout",
     "output_type": "stream",
     "text": [
      "Success\n"
     ]
    }
   ],
   "source": [
    "import pandas as pd\n",
    "import numpy as np\n",
    "import matplotlib.pyplot as plt\n",
    "from sklearn import tree\n",
    "from sklearn.model_selection import train_test_split\n",
    "from sklearn.tree import DecisionTreeRegressor\n",
    "from sklearn.preprocessing import StandardScaler\n",
    "from sklearn.linear_model import LinearRegression\n",
    "print(\"Success\")"
   ]
  },
  {
   "cell_type": "code",
   "execution_count": 2,
   "id": "a2b4e8a6",
   "metadata": {
    "scrolled": false
   },
   "outputs": [
    {
     "data": {
      "text/html": [
       "<div>\n",
       "<style scoped>\n",
       "    .dataframe tbody tr th:only-of-type {\n",
       "        vertical-align: middle;\n",
       "    }\n",
       "\n",
       "    .dataframe tbody tr th {\n",
       "        vertical-align: top;\n",
       "    }\n",
       "\n",
       "    .dataframe thead th {\n",
       "        text-align: right;\n",
       "    }\n",
       "</style>\n",
       "<table border=\"1\" class=\"dataframe\">\n",
       "  <thead>\n",
       "    <tr style=\"text-align: right;\">\n",
       "      <th></th>\n",
       "      <th>MLOGP</th>\n",
       "      <th>RDCHI</th>\n",
       "      <th>quantitative response of LC50</th>\n",
       "    </tr>\n",
       "  </thead>\n",
       "  <tbody>\n",
       "    <tr>\n",
       "      <th>0</th>\n",
       "      <td>2.419</td>\n",
       "      <td>1.225</td>\n",
       "      <td>3.740</td>\n",
       "    </tr>\n",
       "    <tr>\n",
       "      <th>1</th>\n",
       "      <td>2.638</td>\n",
       "      <td>1.401</td>\n",
       "      <td>4.330</td>\n",
       "    </tr>\n",
       "    <tr>\n",
       "      <th>2</th>\n",
       "      <td>5.799</td>\n",
       "      <td>2.930</td>\n",
       "      <td>7.019</td>\n",
       "    </tr>\n",
       "    <tr>\n",
       "      <th>3</th>\n",
       "      <td>5.453</td>\n",
       "      <td>2.887</td>\n",
       "      <td>6.723</td>\n",
       "    </tr>\n",
       "    <tr>\n",
       "      <th>4</th>\n",
       "      <td>4.068</td>\n",
       "      <td>2.758</td>\n",
       "      <td>5.979</td>\n",
       "    </tr>\n",
       "    <tr>\n",
       "      <th>...</th>\n",
       "      <td>...</td>\n",
       "      <td>...</td>\n",
       "      <td>...</td>\n",
       "    </tr>\n",
       "    <tr>\n",
       "      <th>541</th>\n",
       "      <td>3.326</td>\n",
       "      <td>2.837</td>\n",
       "      <td>4.651</td>\n",
       "    </tr>\n",
       "    <tr>\n",
       "      <th>542</th>\n",
       "      <td>3.275</td>\n",
       "      <td>2.727</td>\n",
       "      <td>3.953</td>\n",
       "    </tr>\n",
       "    <tr>\n",
       "      <th>543</th>\n",
       "      <td>5.165</td>\n",
       "      <td>3.111</td>\n",
       "      <td>6.219</td>\n",
       "    </tr>\n",
       "    <tr>\n",
       "      <th>544</th>\n",
       "      <td>2.859</td>\n",
       "      <td>2.614</td>\n",
       "      <td>4.995</td>\n",
       "    </tr>\n",
       "    <tr>\n",
       "      <th>545</th>\n",
       "      <td>2.255</td>\n",
       "      <td>1.800</td>\n",
       "      <td>2.480</td>\n",
       "    </tr>\n",
       "  </tbody>\n",
       "</table>\n",
       "<p>546 rows × 3 columns</p>\n",
       "</div>"
      ],
      "text/plain": [
       "     MLOGP  RDCHI  quantitative response of LC50\n",
       "0    2.419  1.225                          3.740\n",
       "1    2.638  1.401                          4.330\n",
       "2    5.799  2.930                          7.019\n",
       "3    5.453  2.887                          6.723\n",
       "4    4.068  2.758                          5.979\n",
       "..     ...    ...                            ...\n",
       "541  3.326  2.837                          4.651\n",
       "542  3.275  2.727                          3.953\n",
       "543  5.165  3.111                          6.219\n",
       "544  2.859  2.614                          4.995\n",
       "545  2.255  1.800                          2.480\n",
       "\n",
       "[546 rows x 3 columns]"
      ]
     },
     "execution_count": 2,
     "metadata": {},
     "output_type": "execute_result"
    }
   ],
   "source": [
    "df = pd.read_csv('fods_1.csv')\n",
    "df"
   ]
  },
  {
   "cell_type": "code",
   "execution_count": 3,
   "id": "3bed213f",
   "metadata": {},
   "outputs": [
    {
     "name": "stdout",
     "output_type": "stream",
     "text": [
      "2.3134926739926738 2.4922985347985356 4.6584212454212475 1.741797285664983 0.8110039291512505 1.6652150617992907\n"
     ]
    }
   ],
   "source": [
    "meanX1 = df['MLOGP'].mean()\n",
    "meanX2 = df['RDCHI'].mean()\n",
    "meanY = df['quantitative response of LC50'].mean()\n",
    "stdX1 = df['MLOGP'].std()\n",
    "stdX2 = df['RDCHI'].std()\n",
    "stdY = df['quantitative response of LC50'].std()\n",
    "print(meanX1, meanX2, meanY, stdX1, stdX2, stdY)"
   ]
  },
  {
   "cell_type": "code",
   "execution_count": 4,
   "id": "45c034ec",
   "metadata": {
    "scrolled": false
   },
   "outputs": [
    {
     "data": {
      "text/html": [
       "<div>\n",
       "<style scoped>\n",
       "    .dataframe tbody tr th:only-of-type {\n",
       "        vertical-align: middle;\n",
       "    }\n",
       "\n",
       "    .dataframe tbody tr th {\n",
       "        vertical-align: top;\n",
       "    }\n",
       "\n",
       "    .dataframe thead th {\n",
       "        text-align: right;\n",
       "    }\n",
       "</style>\n",
       "<table border=\"1\" class=\"dataframe\">\n",
       "  <thead>\n",
       "    <tr style=\"text-align: right;\">\n",
       "      <th></th>\n",
       "      <th>MLOGP</th>\n",
       "      <th>RDCHI</th>\n",
       "      <th>quantitative response of LC50</th>\n",
       "    </tr>\n",
       "  </thead>\n",
       "  <tbody>\n",
       "    <tr>\n",
       "      <th>0</th>\n",
       "      <td>0.060574</td>\n",
       "      <td>-1.562629</td>\n",
       "      <td>-0.551533</td>\n",
       "    </tr>\n",
       "    <tr>\n",
       "      <th>1</th>\n",
       "      <td>0.186306</td>\n",
       "      <td>-1.345614</td>\n",
       "      <td>-0.197225</td>\n",
       "    </tr>\n",
       "    <tr>\n",
       "      <th>2</th>\n",
       "      <td>2.001098</td>\n",
       "      <td>0.539703</td>\n",
       "      <td>1.417582</td>\n",
       "    </tr>\n",
       "    <tr>\n",
       "      <th>3</th>\n",
       "      <td>1.802453</td>\n",
       "      <td>0.486683</td>\n",
       "      <td>1.239827</td>\n",
       "    </tr>\n",
       "    <tr>\n",
       "      <th>4</th>\n",
       "      <td>1.007297</td>\n",
       "      <td>0.327620</td>\n",
       "      <td>0.793038</td>\n",
       "    </tr>\n",
       "    <tr>\n",
       "      <th>...</th>\n",
       "      <td>...</td>\n",
       "      <td>...</td>\n",
       "      <td>...</td>\n",
       "    </tr>\n",
       "    <tr>\n",
       "      <th>541</th>\n",
       "      <td>0.581300</td>\n",
       "      <td>0.425031</td>\n",
       "      <td>-0.004457</td>\n",
       "    </tr>\n",
       "    <tr>\n",
       "      <th>542</th>\n",
       "      <td>0.552020</td>\n",
       "      <td>0.289396</td>\n",
       "      <td>-0.423622</td>\n",
       "    </tr>\n",
       "    <tr>\n",
       "      <th>543</th>\n",
       "      <td>1.637106</td>\n",
       "      <td>0.762883</td>\n",
       "      <td>0.937163</td>\n",
       "    </tr>\n",
       "    <tr>\n",
       "      <th>544</th>\n",
       "      <td>0.313186</td>\n",
       "      <td>0.150063</td>\n",
       "      <td>0.202123</td>\n",
       "    </tr>\n",
       "    <tr>\n",
       "      <th>545</th>\n",
       "      <td>-0.033582</td>\n",
       "      <td>-0.853632</td>\n",
       "      <td>-1.308192</td>\n",
       "    </tr>\n",
       "  </tbody>\n",
       "</table>\n",
       "<p>546 rows × 3 columns</p>\n",
       "</div>"
      ],
      "text/plain": [
       "        MLOGP     RDCHI  quantitative response of LC50\n",
       "0    0.060574 -1.562629                      -0.551533\n",
       "1    0.186306 -1.345614                      -0.197225\n",
       "2    2.001098  0.539703                       1.417582\n",
       "3    1.802453  0.486683                       1.239827\n",
       "4    1.007297  0.327620                       0.793038\n",
       "..        ...       ...                            ...\n",
       "541  0.581300  0.425031                      -0.004457\n",
       "542  0.552020  0.289396                      -0.423622\n",
       "543  1.637106  0.762883                       0.937163\n",
       "544  0.313186  0.150063                       0.202123\n",
       "545 -0.033582 -0.853632                      -1.308192\n",
       "\n",
       "[546 rows x 3 columns]"
      ]
     },
     "execution_count": 4,
     "metadata": {},
     "output_type": "execute_result"
    }
   ],
   "source": [
    "df['MLOGP'] = (df['MLOGP'] - meanX1)/stdX1\n",
    "df['RDCHI'] = (df['RDCHI'] - meanX2)/stdX2\n",
    "df['quantitative response of LC50'] = (df['quantitative response of LC50'] - meanY)/stdY\n",
    "df"
   ]
  },
  {
   "cell_type": "code",
   "execution_count": 5,
   "id": "47c9de65",
   "metadata": {},
   "outputs": [
    {
     "data": {
      "text/plain": [
       "MLOGP                            0\n",
       "RDCHI                            0\n",
       "quantitative response of LC50    0\n",
       "dtype: int64"
      ]
     },
     "execution_count": 5,
     "metadata": {},
     "output_type": "execute_result"
    }
   ],
   "source": [
    "df.isnull().sum()"
   ]
  },
  {
   "cell_type": "code",
   "execution_count": 6,
   "id": "827d288f",
   "metadata": {},
   "outputs": [
    {
     "data": {
      "text/html": [
       "<div>\n",
       "<style scoped>\n",
       "    .dataframe tbody tr th:only-of-type {\n",
       "        vertical-align: middle;\n",
       "    }\n",
       "\n",
       "    .dataframe tbody tr th {\n",
       "        vertical-align: top;\n",
       "    }\n",
       "\n",
       "    .dataframe thead th {\n",
       "        text-align: right;\n",
       "    }\n",
       "</style>\n",
       "<table border=\"1\" class=\"dataframe\">\n",
       "  <thead>\n",
       "    <tr style=\"text-align: right;\">\n",
       "      <th></th>\n",
       "      <th>MLOGP</th>\n",
       "      <th>RDCHI</th>\n",
       "      <th>quantitative response of LC50</th>\n",
       "    </tr>\n",
       "  </thead>\n",
       "  <tbody>\n",
       "    <tr>\n",
       "      <th>471</th>\n",
       "      <td>-0.670855</td>\n",
       "      <td>0.178423</td>\n",
       "      <td>2.697296</td>\n",
       "    </tr>\n",
       "    <tr>\n",
       "      <th>444</th>\n",
       "      <td>-0.922893</td>\n",
       "      <td>-0.990499</td>\n",
       "      <td>-2.064851</td>\n",
       "    </tr>\n",
       "    <tr>\n",
       "      <th>61</th>\n",
       "      <td>0.473366</td>\n",
       "      <td>-1.212446</td>\n",
       "      <td>-0.473465</td>\n",
       "    </tr>\n",
       "    <tr>\n",
       "      <th>452</th>\n",
       "      <td>1.440757</td>\n",
       "      <td>-0.238345</td>\n",
       "      <td>0.384682</td>\n",
       "    </tr>\n",
       "    <tr>\n",
       "      <th>469</th>\n",
       "      <td>1.226037</td>\n",
       "      <td>0.611220</td>\n",
       "      <td>1.141942</td>\n",
       "    </tr>\n",
       "    <tr>\n",
       "      <th>...</th>\n",
       "      <td>...</td>\n",
       "      <td>...</td>\n",
       "      <td>...</td>\n",
       "    </tr>\n",
       "    <tr>\n",
       "      <th>484</th>\n",
       "      <td>-0.767307</td>\n",
       "      <td>0.861527</td>\n",
       "      <td>-1.292579</td>\n",
       "    </tr>\n",
       "    <tr>\n",
       "      <th>114</th>\n",
       "      <td>0.294241</td>\n",
       "      <td>0.267201</td>\n",
       "      <td>0.226745</td>\n",
       "    </tr>\n",
       "    <tr>\n",
       "      <th>522</th>\n",
       "      <td>1.158865</td>\n",
       "      <td>2.008253</td>\n",
       "      <td>2.105181</td>\n",
       "    </tr>\n",
       "    <tr>\n",
       "      <th>103</th>\n",
       "      <td>-1.046329</td>\n",
       "      <td>0.445992</td>\n",
       "      <td>2.216278</td>\n",
       "    </tr>\n",
       "    <tr>\n",
       "      <th>272</th>\n",
       "      <td>2.110181</td>\n",
       "      <td>0.270901</td>\n",
       "      <td>1.400167</td>\n",
       "    </tr>\n",
       "  </tbody>\n",
       "</table>\n",
       "<p>436 rows × 3 columns</p>\n",
       "</div>"
      ],
      "text/plain": [
       "        MLOGP     RDCHI  quantitative response of LC50\n",
       "471 -0.670855  0.178423                       2.697296\n",
       "444 -0.922893 -0.990499                      -2.064851\n",
       "61   0.473366 -1.212446                      -0.473465\n",
       "452  1.440757 -0.238345                       0.384682\n",
       "469  1.226037  0.611220                       1.141942\n",
       "..        ...       ...                            ...\n",
       "484 -0.767307  0.861527                      -1.292579\n",
       "114  0.294241  0.267201                       0.226745\n",
       "522  1.158865  2.008253                       2.105181\n",
       "103 -1.046329  0.445992                       2.216278\n",
       "272  2.110181  0.270901                       1.400167\n",
       "\n",
       "[436 rows x 3 columns]"
      ]
     },
     "execution_count": 6,
     "metadata": {},
     "output_type": "execute_result"
    }
   ],
   "source": [
    "train, test = train_test_split(df, test_size=0.2) # this is a random split\n",
    "train"
   ]
  },
  {
   "cell_type": "code",
   "execution_count": 7,
   "id": "f5790539",
   "metadata": {
    "scrolled": false
   },
   "outputs": [
    {
     "data": {
      "text/html": [
       "<div>\n",
       "<style scoped>\n",
       "    .dataframe tbody tr th:only-of-type {\n",
       "        vertical-align: middle;\n",
       "    }\n",
       "\n",
       "    .dataframe tbody tr th {\n",
       "        vertical-align: top;\n",
       "    }\n",
       "\n",
       "    .dataframe thead th {\n",
       "        text-align: right;\n",
       "    }\n",
       "</style>\n",
       "<table border=\"1\" class=\"dataframe\">\n",
       "  <thead>\n",
       "    <tr style=\"text-align: right;\">\n",
       "      <th></th>\n",
       "      <th>MLOGP</th>\n",
       "      <th>RDCHI</th>\n",
       "      <th>quantitative response of LC50</th>\n",
       "    </tr>\n",
       "  </thead>\n",
       "  <tbody>\n",
       "    <tr>\n",
       "      <th>277</th>\n",
       "      <td>1.207091</td>\n",
       "      <td>0.121703</td>\n",
       "      <td>0.590061</td>\n",
       "    </tr>\n",
       "    <tr>\n",
       "      <th>0</th>\n",
       "      <td>0.060574</td>\n",
       "      <td>-1.562629</td>\n",
       "      <td>-0.551533</td>\n",
       "    </tr>\n",
       "    <tr>\n",
       "      <th>362</th>\n",
       "      <td>-0.108791</td>\n",
       "      <td>1.187049</td>\n",
       "      <td>-0.212238</td>\n",
       "    </tr>\n",
       "    <tr>\n",
       "      <th>516</th>\n",
       "      <td>0.238551</td>\n",
       "      <td>-0.637850</td>\n",
       "      <td>0.467554</td>\n",
       "    </tr>\n",
       "    <tr>\n",
       "      <th>158</th>\n",
       "      <td>-1.236362</td>\n",
       "      <td>1.024288</td>\n",
       "      <td>-0.197225</td>\n",
       "    </tr>\n",
       "    <tr>\n",
       "      <th>...</th>\n",
       "      <td>...</td>\n",
       "      <td>...</td>\n",
       "      <td>...</td>\n",
       "    </tr>\n",
       "    <tr>\n",
       "      <th>422</th>\n",
       "      <td>1.158865</td>\n",
       "      <td>0.256104</td>\n",
       "      <td>0.448938</td>\n",
       "    </tr>\n",
       "    <tr>\n",
       "      <th>94</th>\n",
       "      <td>-0.365997</td>\n",
       "      <td>-1.212446</td>\n",
       "      <td>0.390087</td>\n",
       "    </tr>\n",
       "    <tr>\n",
       "      <th>314</th>\n",
       "      <td>-0.815533</td>\n",
       "      <td>-0.708133</td>\n",
       "      <td>-0.237460</td>\n",
       "    </tr>\n",
       "    <tr>\n",
       "      <th>311</th>\n",
       "      <td>0.238551</td>\n",
       "      <td>-0.632917</td>\n",
       "      <td>0.301210</td>\n",
       "    </tr>\n",
       "    <tr>\n",
       "      <th>544</th>\n",
       "      <td>0.313186</td>\n",
       "      <td>0.150063</td>\n",
       "      <td>0.202123</td>\n",
       "    </tr>\n",
       "  </tbody>\n",
       "</table>\n",
       "<p>110 rows × 3 columns</p>\n",
       "</div>"
      ],
      "text/plain": [
       "        MLOGP     RDCHI  quantitative response of LC50\n",
       "277  1.207091  0.121703                       0.590061\n",
       "0    0.060574 -1.562629                      -0.551533\n",
       "362 -0.108791  1.187049                      -0.212238\n",
       "516  0.238551 -0.637850                       0.467554\n",
       "158 -1.236362  1.024288                      -0.197225\n",
       "..        ...       ...                            ...\n",
       "422  1.158865  0.256104                       0.448938\n",
       "94  -0.365997 -1.212446                       0.390087\n",
       "314 -0.815533 -0.708133                      -0.237460\n",
       "311  0.238551 -0.632917                       0.301210\n",
       "544  0.313186  0.150063                       0.202123\n",
       "\n",
       "[110 rows x 3 columns]"
      ]
     },
     "execution_count": 7,
     "metadata": {},
     "output_type": "execute_result"
    }
   ],
   "source": [
    "test"
   ]
  },
  {
   "cell_type": "code",
   "execution_count": 8,
   "id": "72fb5c78",
   "metadata": {},
   "outputs": [
    {
     "data": {
      "image/png": "[encoded data removed]",
      "text/plain": [
       "<Figure size 432x288 with 1 Axes>"
      ]
     },
     "metadata": {
      "needs_background": "light"
     },
     "output_type": "display_data"
    }
   ],
   "source": [
    "ax = plt.axes(projection='3d')\n",
    "\n",
    "# Data for three-dimensional scattered points\n",
    "zdata = train[\"quantitative response of LC50\"]\n",
    "xdata = train[\"RDCHI\"]\n",
    "ydata = train[\"MLOGP\"]\n",
    "ax.scatter3D(xdata, ydata, zdata, c=zdata, cmap='Greens');"
   ]
  },
  {
   "cell_type": "code",
   "execution_count": 9,
   "id": "16cf1ca1",
   "metadata": {},
   "outputs": [
    {
     "data": {
      "text/html": [
       "<div>\n",
       "<style scoped>\n",
       "    .dataframe tbody tr th:only-of-type {\n",
       "        vertical-align: middle;\n",
       "    }\n",
       "\n",
       "    .dataframe tbody tr th {\n",
       "        vertical-align: top;\n",
       "    }\n",
       "\n",
       "    .dataframe thead th {\n",
       "        text-align: right;\n",
       "    }\n",
       "</style>\n",
       "<table border=\"1\" class=\"dataframe\">\n",
       "  <thead>\n",
       "    <tr style=\"text-align: right;\">\n",
       "      <th></th>\n",
       "      <th>RDCHI</th>\n",
       "      <th>MLOGP</th>\n",
       "    </tr>\n",
       "  </thead>\n",
       "  <tbody>\n",
       "    <tr>\n",
       "      <th>471</th>\n",
       "      <td>0.178423</td>\n",
       "      <td>-0.670855</td>\n",
       "    </tr>\n",
       "    <tr>\n",
       "      <th>444</th>\n",
       "      <td>-0.990499</td>\n",
       "      <td>-0.922893</td>\n",
       "    </tr>\n",
       "    <tr>\n",
       "      <th>61</th>\n",
       "      <td>-1.212446</td>\n",
       "      <td>0.473366</td>\n",
       "    </tr>\n",
       "    <tr>\n",
       "      <th>452</th>\n",
       "      <td>-0.238345</td>\n",
       "      <td>1.440757</td>\n",
       "    </tr>\n",
       "    <tr>\n",
       "      <th>469</th>\n",
       "      <td>0.611220</td>\n",
       "      <td>1.226037</td>\n",
       "    </tr>\n",
       "    <tr>\n",
       "      <th>...</th>\n",
       "      <td>...</td>\n",
       "      <td>...</td>\n",
       "    </tr>\n",
       "    <tr>\n",
       "      <th>484</th>\n",
       "      <td>0.861527</td>\n",
       "      <td>-0.767307</td>\n",
       "    </tr>\n",
       "    <tr>\n",
       "      <th>114</th>\n",
       "      <td>0.267201</td>\n",
       "      <td>0.294241</td>\n",
       "    </tr>\n",
       "    <tr>\n",
       "      <th>522</th>\n",
       "      <td>2.008253</td>\n",
       "      <td>1.158865</td>\n",
       "    </tr>\n",
       "    <tr>\n",
       "      <th>103</th>\n",
       "      <td>0.445992</td>\n",
       "      <td>-1.046329</td>\n",
       "    </tr>\n",
       "    <tr>\n",
       "      <th>272</th>\n",
       "      <td>0.270901</td>\n",
       "      <td>2.110181</td>\n",
       "    </tr>\n",
       "  </tbody>\n",
       "</table>\n",
       "<p>436 rows × 2 columns</p>\n",
       "</div>"
      ],
      "text/plain": [
       "        RDCHI     MLOGP\n",
       "471  0.178423 -0.670855\n",
       "444 -0.990499 -0.922893\n",
       "61  -1.212446  0.473366\n",
       "452 -0.238345  1.440757\n",
       "469  0.611220  1.226037\n",
       "..        ...       ...\n",
       "484  0.861527 -0.767307\n",
       "114  0.267201  0.294241\n",
       "522  2.008253  1.158865\n",
       "103  0.445992 -1.046329\n",
       "272  0.270901  2.110181\n",
       "\n",
       "[436 rows x 2 columns]"
      ]
     },
     "execution_count": 9,
     "metadata": {},
     "output_type": "execute_result"
    }
   ],
   "source": [
    "dataF = pd.DataFrame(train[[\"RDCHI\", \"MLOGP\"]])\n",
    "dataF"
   ]
  },
  {
   "cell_type": "code",
   "execution_count": 10,
   "id": "d79abd31",
   "metadata": {},
   "outputs": [
    {
     "data": {
      "text/html": [
       "<div>\n",
       "<style scoped>\n",
       "    .dataframe tbody tr th:only-of-type {\n",
       "        vertical-align: middle;\n",
       "    }\n",
       "\n",
       "    .dataframe tbody tr th {\n",
       "        vertical-align: top;\n",
       "    }\n",
       "\n",
       "    .dataframe thead th {\n",
       "        text-align: right;\n",
       "    }\n",
       "</style>\n",
       "<table border=\"1\" class=\"dataframe\">\n",
       "  <thead>\n",
       "    <tr style=\"text-align: right;\">\n",
       "      <th></th>\n",
       "      <th>quantitative response of LC50</th>\n",
       "    </tr>\n",
       "  </thead>\n",
       "  <tbody>\n",
       "    <tr>\n",
       "      <th>471</th>\n",
       "      <td>2.697296</td>\n",
       "    </tr>\n",
       "    <tr>\n",
       "      <th>444</th>\n",
       "      <td>-2.064851</td>\n",
       "    </tr>\n",
       "    <tr>\n",
       "      <th>61</th>\n",
       "      <td>-0.473465</td>\n",
       "    </tr>\n",
       "    <tr>\n",
       "      <th>452</th>\n",
       "      <td>0.384682</td>\n",
       "    </tr>\n",
       "    <tr>\n",
       "      <th>469</th>\n",
       "      <td>1.141942</td>\n",
       "    </tr>\n",
       "    <tr>\n",
       "      <th>...</th>\n",
       "      <td>...</td>\n",
       "    </tr>\n",
       "    <tr>\n",
       "      <th>484</th>\n",
       "      <td>-1.292579</td>\n",
       "    </tr>\n",
       "    <tr>\n",
       "      <th>114</th>\n",
       "      <td>0.226745</td>\n",
       "    </tr>\n",
       "    <tr>\n",
       "      <th>522</th>\n",
       "      <td>2.105181</td>\n",
       "    </tr>\n",
       "    <tr>\n",
       "      <th>103</th>\n",
       "      <td>2.216278</td>\n",
       "    </tr>\n",
       "    <tr>\n",
       "      <th>272</th>\n",
       "      <td>1.400167</td>\n",
       "    </tr>\n",
       "  </tbody>\n",
       "</table>\n",
       "<p>436 rows × 1 columns</p>\n",
       "</div>"
      ],
      "text/plain": [
       "     quantitative response of LC50\n",
       "471                       2.697296\n",
       "444                      -2.064851\n",
       "61                       -0.473465\n",
       "452                       0.384682\n",
       "469                       1.141942\n",
       "..                             ...\n",
       "484                      -1.292579\n",
       "114                       0.226745\n",
       "522                       2.105181\n",
       "103                       2.216278\n",
       "272                       1.400167\n",
       "\n",
       "[436 rows x 1 columns]"
      ]
     },
     "execution_count": 10,
     "metadata": {},
     "output_type": "execute_result"
    }
   ],
   "source": [
    "targetF = pd.DataFrame(train[\"quantitative response of LC50\"])\n",
    "targetF"
   ]
  },
  {
   "cell_type": "code",
   "execution_count": 11,
   "id": "e16de32f",
   "metadata": {},
   "outputs": [
    {
     "data": {
      "text/plain": [
       "(array([0.01501492]), array([[0.23684265, 0.46168392]]))"
      ]
     },
     "execution_count": 11,
     "metadata": {},
     "output_type": "execute_result"
    }
   ],
   "source": [
    "sc=StandardScaler()\n",
    "X_transform=sc.fit_transform(dataF)\n",
    "lin_reg = LinearRegression()\n",
    "lin_reg.fit(X_transform, targetF)\n",
    "lin_reg.intercept_, lin_reg.coef_"
   ]
  },
  {
   "cell_type": "code",
   "execution_count": 12,
   "id": "b4d519d5",
   "metadata": {
    "scrolled": false
   },
   "outputs": [
    {
     "name": "stdout",
     "output_type": "stream",
     "text": [
      "(436, 1)\n",
      "(436, 55)\n",
      "0.17842264383712733\n"
     ]
    }
   ],
   "source": [
    "# Value order to be followed: x1,x2, x1^2,x1x2,x2^2, x1^3,x1^2x2,x1x2^2,x2^3.... meant for all degrees of gradient descent\n",
    "valX = dataF[dataF.columns[:]].to_numpy()\n",
    "valX1 = valX[:,0]**2 ##------------------------------------------------------------------------------------------------x1^2\n",
    "valX = np.append(valX, np.column_stack([valX1]), axis = 1)\n",
    "valX1 = valX[:,0]*valX[:,1] #------------------------------------------------------------------------------------------x1x2\n",
    "valX = np.append(valX, np.column_stack([valX1]), axis = 1)\n",
    "valX1 = valX[:,1]**2 ##------------------------------------------------------------------------------------------------x2^2\n",
    "valX = np.append(valX, np.column_stack([valX1]), axis = 1)\n",
    "\n",
    "valX1 = valX[:,0]**3 ##------------------------------------------------------------------------------------------------x1^3\n",
    "valX = np.append(valX, np.column_stack([valX1]), axis = 1)\n",
    "valX1 = (valX[:,0]**2)*(valX[:,1]) ##----------------------------------------------------------------------------------x1^2x2\n",
    "valX = np.append(valX, np.column_stack([valX1]), axis = 1)\n",
    "valX1 = (valX[:,0])*(valX[:,1]**2) ##----------------------------------------------------------------------------------x1x2^2\n",
    "valX = np.append(valX, np.column_stack([valX1]), axis = 1)\n",
    "valX1 = valX[:,1]**3 #-------------------------------------------------------------------------------------------------x2^3\n",
    "valX = np.append(valX, np.column_stack([valX1]), axis = 1)\n",
    "\n",
    "valX1 = valX[:,0]**4 #-------------------------------------------------------------------------------------------------x1^4\n",
    "valX = np.append(valX, np.column_stack([valX1]), axis = 1)\n",
    "valX1 = (valX[:,0]**3)*(valX[:,1]) #-----------------------------------------------------------------------------------x1^3x2\n",
    "valX = np.append(valX, np.column_stack([valX1]), axis = 1)\n",
    "valX1 = (valX[:,0]**2)*(valX[:,1]**2) #--------------------------------------------------------------------------------x1^2x2^2\n",
    "valX = np.append(valX, np.column_stack([valX1]), axis = 1)\n",
    "valX1 = (valX[:,0])*(valX[:,1]**3) #-----------------------------------------------------------------------------------x1x2^3\n",
    "valX = np.append(valX, np.column_stack([valX1]), axis = 1)\n",
    "valX1 = valX[:,1]**4 #-------------------------------------------------------------------------------------------------x2^4\n",
    "valX = np.append(valX, np.column_stack([valX1]), axis = 1)\n",
    "\n",
    "valX1 = valX[:,0]**5 #-------------------------------------------------------------------------------------------------x1^5\n",
    "valX = np.append(valX, np.column_stack([valX1]), axis = 1)\n",
    "valX1 = (valX[:,0]**4)*(valX[:,1]) #-----------------------------------------------------------------------------------x1^4x2\n",
    "valX = np.append(valX, np.column_stack([valX1]), axis = 1)\n",
    "valX1 = (valX[:,0]**3)*(valX[:,1]**2) #--------------------------------------------------------------------------------x1^3x2^2\n",
    "valX = np.append(valX, np.column_stack([valX1]), axis = 1)\n",
    "valX1 = (valX[:,0]**2)*(valX[:,1]**3) #--------------------------------------------------------------------------------x1^2x2^3\n",
    "valX = np.append(valX, np.column_stack([valX1]), axis = 1)\n",
    "valX1 = (valX[:,0])*(valX[:,1]**4) #-----------------------------------------------------------------------------------x1x2^4\n",
    "valX = np.append(valX, np.column_stack([valX1]), axis = 1)\n",
    "valX1 = valX[:,1]**5 #-------------------------------------------------------------------------------------------------x2^5\n",
    "valX = np.append(valX, np.column_stack([valX1]), axis = 1)\n",
    "\n",
    "valX1 = valX[:,0]**6 #-------------------------------------------------------------------------------------------------x1^6\n",
    "valX = np.append(valX, np.column_stack([valX1]), axis = 1)\n",
    "valX1 = (valX[:,0]**5)*(valX[:,1]) #-----------------------------------------------------------------------------------x1^5x2\n",
    "valX = np.append(valX, np.column_stack([valX1]), axis = 1)\n",
    "valX1 = (valX[:,0]**4)*(valX[:,1]**2) #--------------------------------------------------------------------------------x1^4x2^2\n",
    "valX = np.append(valX, np.column_stack([valX1]), axis = 1)\n",
    "valX1 = (valX[:,0]**3)*(valX[:,1]**3) #--------------------------------------------------------------------------------x1^3x2^3\n",
    "valX = np.append(valX, np.column_stack([valX1]), axis = 1)\n",
    "valX1 = (valX[:,0]**2)*(valX[:,1]**4) #--------------------------------------------------------------------------------x1^2x2^4\n",
    "valX = np.append(valX, np.column_stack([valX1]), axis = 1)\n",
    "valX1 = (valX[:,0])*(valX[:,1]**5) #-----------------------------------------------------------------------------------x1x2^4\n",
    "valX = np.append(valX, np.column_stack([valX1]), axis = 1)\n",
    "valX1 = valX[:,1]**6 #-------------------------------------------------------------------------------------------------x2^6\n",
    "valX = np.append(valX, np.column_stack([valX1]), axis = 1)\n",
    "\n",
    "valX1 = valX[:,0]**7 #-------------------------------------------------------------------------------------------------x1^7\n",
    "valX = np.append(valX, np.column_stack([valX1]), axis = 1)\n",
    "valX1 = (valX[:,0]**6)*(valX[:,1]) #-----------------------------------------------------------------------------------x1^6x2\n",
    "valX = np.append(valX, np.column_stack([valX1]), axis = 1)\n",
    "valX1 = (valX[:,0]**5)*(valX[:,1]**2) #--------------------------------------------------------------------------------x1^5x2^2\n",
    "valX = np.append(valX, np.column_stack([valX1]), axis = 1)\n",
    "valX1 = (valX[:,0]**4)*(valX[:,1]**3) #--------------------------------------------------------------------------------x1^4x2^3\n",
    "valX = np.append(valX, np.column_stack([valX1]), axis = 1)\n",
    "valX1 = (valX[:,0]**3)*(valX[:,1]**4) #--------------------------------------------------------------------------------x1^3x2^4\n",
    "valX = np.append(valX, np.column_stack([valX1]), axis = 1)\n",
    "valX1 = (valX[:,0]**2)*(valX[:,1]**5) #--------------------------------------------------------------------------------x1^2x2^5\n",
    "valX = np.append(valX, np.column_stack([valX1]), axis = 1)\n",
    "valX1 = (valX[:,0])*(valX[:,1]**6) #-----------------------------------------------------------------------------------x1x2^6\n",
    "valX = np.append(valX, np.column_stack([valX1]), axis = 1)\n",
    "valX1 = valX[:,1]**7 #-------------------------------------------------------------------------------------------------x2^7\n",
    "valX = np.append(valX, np.column_stack([valX1]), axis = 1)\n",
    "\n",
    "\n",
    "valX1 = valX[:,0]**8 #-------------------------------------------------------------------------------------------------x1^8\n",
    "valX = np.append(valX, np.column_stack([valX1]), axis = 1)\n",
    "valX1 = (valX[:,0]**7)*(valX[:,1]) #-----------------------------------------------------------------------------------x1^7x2\n",
    "valX = np.append(valX, np.column_stack([valX1]), axis = 1)\n",
    "valX1 = (valX[:,0]**6)*(valX[:,1]**2) #--------------------------------------------------------------------------------x1^6x2^2\n",
    "valX = np.append(valX, np.column_stack([valX1]), axis = 1)\n",
    "valX1 = (valX[:,0]**5)*(valX[:,1]**3) #--------------------------------------------------------------------------------x1^5x2^3\n",
    "valX = np.append(valX, np.column_stack([valX1]), axis = 1)\n",
    "valX1 = (valX[:,0]**4)*(valX[:,1]**4) #--------------------------------------------------------------------------------x1^4x2^4\n",
    "valX = np.append(valX, np.column_stack([valX1]), axis = 1)\n",
    "valX1 = (valX[:,0]**3)*(valX[:,1]**5) #--------------------------------------------------------------------------------x1^3x2^5\n",
    "valX = np.append(valX, np.column_stack([valX1]), axis = 1)\n",
    "valX1 = (valX[:,0]**2)*(valX[:,1]**6) #--------------------------------------------------------------------------------x1^2x2^6\n",
    "valX = np.append(valX, np.column_stack([valX1]), axis = 1)\n",
    "valX1 = (valX[:,0])*(valX[:,1]**7) #-----------------------------------------------------------------------------------x1x2^7\n",
    "valX = np.append(valX, np.column_stack([valX1]), axis = 1)\n",
    "valX1 = valX[:,1]**8 #-------------------------------------------------------------------------------------------------x2^8\n",
    "valX = np.append(valX, np.column_stack([valX1]), axis = 1)\n",
    "\n",
    "valX1 = valX[:,0]**9 #-------------------------------------------------------------------------------------------------x1^9\n",
    "valX = np.append(valX, np.column_stack([valX1]), axis = 1)\n",
    "valX1 = (valX[:,0]**8)*(valX[:,1]) #-----------------------------------------------------------------------------------x1^8x2\n",
    "valX = np.append(valX, np.column_stack([valX1]), axis = 1)\n",
    "valX1 = (valX[:,0]**7)*(valX[:,1]**2) #--------------------------------------------------------------------------------x1^7x2^2\n",
    "valX = np.append(valX, np.column_stack([valX1]), axis = 1)\n",
    "valX1 = (valX[:,0]**6)*(valX[:,1]**3) #--------------------------------------------------------------------------------x1^6x2^3\n",
    "valX = np.append(valX, np.column_stack([valX1]), axis = 1)\n",
    "valX1 = (valX[:,0]**5)*(valX[:,1]**4) #--------------------------------------------------------------------------------x1^5x2^4\n",
    "valX = np.append(valX, np.column_stack([valX1]), axis = 1)\n",
    "valX1 = (valX[:,0]**4)*(valX[:,1]**5) #--------------------------------------------------------------------------------x1^4x2^5\n",
    "valX = np.append(valX, np.column_stack([valX1]), axis = 1)\n",
    "valX1 = (valX[:,0]**3)*(valX[:,1]**6) #--------------------------------------------------------------------------------x1^3x2^6\n",
    "valX = np.append(valX, np.column_stack([valX1]), axis = 1)\n",
    "valX1 = (valX[:,0]**2)*(valX[:,1]**7) #--------------------------------------------------------------------------------x1^3x2^6\n",
    "valX = np.append(valX, np.column_stack([valX1]), axis = 1)\n",
    "valX1 = (valX[:,0])*(valX[:,1]**8) #-----------------------------------------------------------------------------------x1x2^8\n",
    "valX = np.append(valX, np.column_stack([valX1]), axis = 1)\n",
    "valX1 = valX[:,1]**9 #-------------------------------------------------------------------------------------------------x2^9\n",
    "valX = np.append(valX, np.column_stack([valX1]), axis = 1)\n",
    "\n",
    "valX = np.append(np.ones((436,1)), valX, axis=1)\n",
    "\n",
    "valY = targetF[targetF.columns[:]].to_numpy()\n",
    "print(np.shape(valY))\n",
    "print(np.shape(valX))\n",
    "# valX is the nd array of target values and their exponents, valY is the respective Yn for every x1n and x2n\n",
    "\n",
    "print(valX[0,1])\n"
   ]
  },
  {
   "cell_type": "code",
   "execution_count": 13,
   "id": "f7938765",
   "metadata": {},
   "outputs": [],
   "source": [
    "iters = 1500\n",
    "learningRate = 0.01 #yeta or n\n",
    "costArr= np.zeros(iters+100)\n",
    "counterArr = np.zeros(iters+100)"
   ]
  },
  {
   "cell_type": "code",
   "execution_count": 14,
   "id": "ca2af950",
   "metadata": {},
   "outputs": [
    {
     "name": "stdout",
     "output_type": "stream",
     "text": [
      "w0 = 0.015014913080400132\n"
     ]
    },
    {
     "data": {
      "image/png": "[encoded data removed]",
      "text/plain": [
       "<Figure size 432x288 with 1 Axes>"
      ]
     },
     "metadata": {
      "needs_background": "light"
     },
     "output_type": "display_data"
    }
   ],
   "source": [
    "# Degree 0 manipulation for other degrees w = np.zeros((degree+1, 1))\n",
    "w = 0\n",
    "wSize = 1\n",
    "counter = 0\n",
    "for i in range(iters):\n",
    "    #print(np.mean(valY))\n",
    "    w1 = w + learningRate*(np.mean(valY)-w)\n",
    "    #print(w1,w)\n",
    "    if w1-w <= 10**(-20):\n",
    "        w=w1\n",
    "        break\n",
    "    counter+=1\n",
    "    costArr[counter] += (np.mean(valY)-w)\n",
    "    counterArr[counter] = counter\n",
    "    w=w1\n",
    "#print(counter)\n",
    "print(\"w0 =\", w)\n",
    "fig,ax = plt.subplots()\n",
    "ax.plot(costArr[1:])\n",
    "plt.show() # from the graph below we can stop at 500 iterations itself, but we check for 10**(-20) difference anyway"
   ]
  },
  {
   "cell_type": "code",
   "execution_count": 15,
   "id": "a00809f9",
   "metadata": {},
   "outputs": [
    {
     "data": {
      "text/plain": [
       "452.4384049607196"
      ]
     },
     "execution_count": 15,
     "metadata": {},
     "output_type": "execute_result"
    }
   ],
   "source": [
    "w1 = 0\n",
    "for i in range(np.shape(valX)[0]):\n",
    "    w1+= (np.sum(w*valX[i,:wSize]) - valY[i,0])**2\n",
    "    \n",
    "w1"
   ]
  },
  {
   "cell_type": "code",
   "execution_count": 16,
   "id": "7478254f",
   "metadata": {},
   "outputs": [
    {
     "name": "stdout",
     "output_type": "stream",
     "text": [
      "w0=2.697295732878191\n",
      "w1=-0.07129757137481431\n",
      "w2=0.0004647464625983142\n"
     ]
    },
    {
     "data": {
      "image/png": "[encoded data removed]",
      "text/plain": [
       "<Figure size 432x288 with 1 Axes>"
      ]
     },
     "metadata": {
      "needs_background": "light"
     },
     "output_type": "display_data"
    }
   ],
   "source": [
    "# Degree 1 here\n",
    "degree = 1\n",
    "wSize = int((degree+1)*(degree+2)/2)\n",
    "w = np.zeros(wSize) # similar template for others\n",
    "w1 = np.zeros(wSize)\n",
    "#print(w, '\\n', w1)\n",
    "\n",
    "counter = 0\n",
    "costArr= np.zeros(iters+100)\n",
    "counterArr = np.zeros(iters+100)\n",
    "for i in range(iters):\n",
    "    w2 = np.zeros(wSize)\n",
    "    for j in range(np.shape(valX)[0]):\n",
    "        w2 += ((valY[:wSize,0]-(w*valX[j,:wSize]))*valX[j,:wSize])\n",
    "\n",
    "    w2 = w2/np.shape(valX)[0] #N\n",
    "    \n",
    "    w1 = w + learningRate*w2\n",
    "    if w1[0] - w[0] <= 10**(-20):\n",
    "        w=w1\n",
    "        break\n",
    "    w=w1\n",
    "    counter+=1\n",
    "    costArr[counter] = w2[0]\n",
    "    counterArr[counter] = counter\n",
    "\n",
    "   \n",
    "\n",
    "for i in range(np.shape(w)[0]):    \n",
    "    print(\"w\", i, \"=\", w[i], sep = '')\n",
    "\n",
    "np.shape(valX)[0]\n",
    "fig,ax = plt.subplots()\n",
    "ax.plot(costArr[1:iters])\n",
    "plt.show() # the number of iterations are maxed out in the end, "
   ]
  },
  {
   "cell_type": "code",
   "execution_count": 17,
   "id": "058a4c36",
   "metadata": {},
   "outputs": [
    {
     "data": {
      "text/plain": [
       "3609.6821744263666"
      ]
     },
     "execution_count": 17,
     "metadata": {},
     "output_type": "execute_result"
    }
   ],
   "source": [
    "w1 = 0\n",
    "for i in range(np.shape(valX)[0]):\n",
    "    w1+= (np.sum(w*valX[i,:wSize]) - valY[i,0])**2\n",
    "    \n",
    "w1"
   ]
  },
  {
   "cell_type": "code",
   "execution_count": 18,
   "id": "1f43d698",
   "metadata": {},
   "outputs": [
    {
     "name": "stdout",
     "output_type": "stream",
     "text": [
      "w0=2.697295732878191\n",
      "w1=-0.07129757137481431\n",
      "w2=0.0004647464625983142\n",
      "w3=0.07071045475887715\n",
      "w4=0.1637633333857672\n",
      "w5=-0.04541903648521675\n"
     ]
    },
    {
     "data": {
      "image/png": "[encoded data removed]",
      "text/plain": [
       "<Figure size 432x288 with 1 Axes>"
      ]
     },
     "metadata": {
      "needs_background": "light"
     },
     "output_type": "display_data"
    }
   ],
   "source": [
    "# Degree 2 here\n",
    "degree = 2\n",
    "wSize = int((degree+1)*(degree+2)/2)\n",
    "w = np.zeros(wSize) # similar template for others\n",
    "w1 = np.zeros(wSize)\n",
    "#print(w, '\\n', w1)\n",
    "\n",
    "counter = 0\n",
    "costArr= np.zeros(iters+100)\n",
    "counterArr = np.zeros(iters+100)\n",
    "for i in range(iters):\n",
    "    w2 = np.zeros(wSize)\n",
    "    for j in range(np.shape(valX)[0]):\n",
    "        w2 += ((valY[:wSize,0]-(w*valX[j,:wSize]))*valX[j,:wSize])\n",
    "\n",
    "    w2 = w2/np.shape(valX)[0] #N\n",
    "    \n",
    "    w1 = w + learningRate*w2\n",
    "    if w1[0] - w[0] <= 10**(-20):\n",
    "        w=w1\n",
    "        break\n",
    "    w=w1\n",
    "    counter+=1\n",
    "    costArr[counter] = w2[0]\n",
    "    counterArr[counter] = counter\n",
    "\n",
    "   \n",
    "\n",
    "for i in range(np.shape(w)[0]):    \n",
    "    print(\"w\", i, \"=\", w[i], sep = '')\n",
    "\n",
    "np.shape(valX)[0]\n",
    "fig,ax = plt.subplots()\n",
    "ax.plot(costArr[1:iters])\n",
    "plt.show() # the number of iterations are maxed out in the end, "
   ]
  },
  {
   "cell_type": "code",
   "execution_count": 19,
   "id": "33c1b91e",
   "metadata": {},
   "outputs": [
    {
     "data": {
      "text/plain": [
       "3831.998398284908"
      ]
     },
     "execution_count": 19,
     "metadata": {},
     "output_type": "execute_result"
    }
   ],
   "source": [
    "w1 = 0\n",
    "for i in range(np.shape(valX)[0]):\n",
    "    w1+= (np.sum(w*valX[i,:wSize]) - valY[i,0])**2\n",
    "    \n",
    "w1"
   ]
  },
  {
   "cell_type": "code",
   "execution_count": 20,
   "id": "3f3dd0ac",
   "metadata": {},
   "outputs": [
    {
     "name": "stdout",
     "output_type": "stream",
     "text": [
      "w0=2.697295732878191\n",
      "w1=-0.07129757137481431\n",
      "w2=0.0004647464625983142\n",
      "w3=0.07071045475887715\n",
      "w4=0.1637633333857672\n",
      "w5=-0.04541903648521675\n",
      "w6=-0.012778739327940023\n",
      "w7=-0.011932220551329293\n",
      "w8=0.007635534075939415\n",
      "w9=0.0030936640026315997\n"
     ]
    },
    {
     "data": {
      "image/png": "[encoded data removed]",
      "text/plain": [
       "<Figure size 432x288 with 1 Axes>"
      ]
     },
     "metadata": {
      "needs_background": "light"
     },
     "output_type": "display_data"
    }
   ],
   "source": [
    "# Degree 3 here\n",
    "degree = 3\n",
    "wSize = int((degree+1)*(degree+2)/2)\n",
    "w = np.zeros(wSize) # similar template for others\n",
    "w1 = np.zeros(wSize)\n",
    "#print(w, '\\n', w1)\n",
    "\n",
    "counter = 0\n",
    "costArr= np.zeros(iters+100)\n",
    "counterArr = np.zeros(iters+100)\n",
    "for i in range(iters):\n",
    "    w2 = np.zeros(wSize)\n",
    "    for j in range(np.shape(valX)[0]):\n",
    "        w2 += ((valY[:wSize,0]-(w*valX[j,:wSize]))*valX[j,:wSize])\n",
    "\n",
    "    w2 = w2/np.shape(valX)[0] #N\n",
    "    \n",
    "    w1 = w + learningRate*w2\n",
    "    if w1[0] - w[0] <= 10**(-20):\n",
    "        w=w1\n",
    "        break\n",
    "    w=w1\n",
    "    counter+=1\n",
    "    costArr[counter] = w2[0]\n",
    "    counterArr[counter] = counter\n",
    "\n",
    "   \n",
    "\n",
    "for i in range(np.shape(w)[0]):    \n",
    "    print(\"w\", i, \"=\", w[i], sep = '')\n",
    "\n",
    "np.shape(valX)[0]\n",
    "fig,ax = plt.subplots()\n",
    "ax.plot(costArr[1:iters])\n",
    "plt.show() # the number of iterations are maxed out in the end, "
   ]
  },
  {
   "cell_type": "code",
   "execution_count": 21,
   "id": "d378ff46",
   "metadata": {},
   "outputs": [
    {
     "data": {
      "text/plain": [
       "3811.428384317778"
      ]
     },
     "execution_count": 21,
     "metadata": {},
     "output_type": "execute_result"
    }
   ],
   "source": [
    "w1 = 0\n",
    "for i in range(np.shape(valX)[0]):\n",
    "    w1+= (np.sum(w*valX[i,:wSize]) - valY[i,0])**2\n",
    "    \n",
    "w1"
   ]
  },
  {
   "cell_type": "code",
   "execution_count": 22,
   "id": "f56aa50f",
   "metadata": {},
   "outputs": [
    {
     "name": "stdout",
     "output_type": "stream",
     "text": [
      "w0=40459.417126176915\n",
      "w1=-1121.0908071362344\n",
      "w2=7.152304928480839\n",
      "w3=6048.764550202951\n",
      "w4=5597.674842883829\n",
      "w5=-3312.470433037033\n",
      "w6=-14172.46607031736\n",
      "w7=-3080.3946122619373\n",
      "w8=2777.517768309861\n",
      "w9=3111.9722767021503\n",
      "w10=-51495.85198166522\n",
      "w11=-922.1790730478649\n",
      "w12=2474.7130892187797\n",
      "w13=825.9019030945786\n",
      "w14=-80041.1182484071\n"
     ]
    },
    {
     "data": {
      "image/png": "[encoded data removed]",
      "text/plain": [
       "<Figure size 432x288 with 1 Axes>"
      ]
     },
     "metadata": {
      "needs_background": "light"
     },
     "output_type": "display_data"
    }
   ],
   "source": [
    "# Degree 4 here\n",
    "learningRate = 0.5\n",
    "degree = 4\n",
    "wSize = int((degree+1)*(degree+2)/2)\n",
    "w = np.zeros(wSize) # similar template for others\n",
    "w1 = np.zeros(wSize)\n",
    "#print(w, '\\n', w1)\n",
    "\n",
    "counter = 0\n",
    "costArr= np.zeros(iters*20 +50)\n",
    "counterArr = np.zeros(iters*20 +50)\n",
    "for i in range(iters*20):\n",
    "    w2 = np.zeros(wSize)\n",
    "    for j in range(np.shape(valX)[0]):\n",
    "        w2 += (((valY[:wSize,0] - (w*valX[j,:wSize]))/10**10)*valX[j,:wSize])/np.shape(valX)[0]\n",
    "    \n",
    "    w1 = w + learningRate*w2\n",
    "    w=w1\n",
    "    counter+=1\n",
    "    costArr[counter] = w2[0]\n",
    "    counterArr[counter] = counter\n",
    "\n",
    "   \n",
    "\n",
    "for i in range(np.shape(w)[0]):    \n",
    "    print(\"w\", i, \"=\", w[i]*10**10, sep = '')\n",
    "\n",
    "np.shape(valX)[0]\n",
    "fig,ax = plt.subplots()\n",
    "ax.plot(costArr[1:iters])\n",
    "plt.show() # the number of iterations are maxed out in the end, "
   ]
  },
  {
   "cell_type": "code",
   "execution_count": 23,
   "id": "df24af14",
   "metadata": {},
   "outputs": [
    {
     "data": {
      "text/plain": [
       "452.53034230432644"
      ]
     },
     "execution_count": 23,
     "metadata": {},
     "output_type": "execute_result"
    }
   ],
   "source": [
    "w1 = 0\n",
    "for i in range(np.shape(valX)[0]):\n",
    "    w1+= (np.sum(w*valX[i,:wSize]) - valY[i,0])**2\n",
    "    \n",
    "w1"
   ]
  },
  {
   "cell_type": "code",
   "execution_count": 24,
   "id": "3320efa5",
   "metadata": {},
   "outputs": [
    {
     "name": "stdout",
     "output_type": "stream",
     "text": [
      "w0=809.188937257287\n",
      "w1=-22.42183341775573\n",
      "w2=0.14304620643644445\n",
      "w3=120.97579806922936\n",
      "w4=111.95368436198187\n",
      "w5=-66.2496454051835\n",
      "w6=-283.4647258575344\n",
      "w7=-61.6086715555754\n",
      "w8=55.55134550549525\n",
      "w9=62.24251341658158\n",
      "w10=-1030.9066723886478\n",
      "w11=-18.446434673674634\n",
      "w12=49.501784157740154\n",
      "w13=16.523534373821754\n",
      "w14=-1602.4339624036695\n",
      "w15=-3316.3311751057254\n",
      "w16=349.703826071429\n",
      "w17=-398.4852395983407\n",
      "w18=-702.8471167370061\n",
      "w19=1959.9121330264336\n",
      "w20=-1158.0765228638124\n"
     ]
    },
    {
     "data": {
      "image/png": "[encoded data removed]",
      "text/plain": [
       "<Figure size 432x288 with 1 Axes>"
      ]
     },
     "metadata": {
      "needs_background": "light"
     },
     "output_type": "display_data"
    }
   ],
   "source": [
    "learningRate = 0.01\n",
    "degree = 5\n",
    "wSize = int((degree+1)*(degree+2)/2)\n",
    "w = np.zeros(wSize) # similar template for others\n",
    "w1 = np.zeros(wSize)\n",
    "#print(w, '\\n', w1)\n",
    "\n",
    "counter = 0\n",
    "costArr= np.zeros(iters*20 +50)\n",
    "counterArr = np.zeros(iters*20 +50)\n",
    "for i in range(iters*20):\n",
    "    w2 = np.zeros(wSize)\n",
    "    for j in range(np.shape(valX)[0]):\n",
    "        w2 += (((valY[:wSize,0] - (w*valX[j,:wSize]))/10**10)*valX[j,:wSize])/np.shape(valX)[0]\n",
    "    \n",
    "    w1 = w + learningRate*w2\n",
    "    w=w1\n",
    "    counter+=1\n",
    "    costArr[counter] = w2[0]\n",
    "    counterArr[counter] = counter\n",
    "\n",
    "   \n",
    "\n",
    "for i in range(np.shape(w)[0]):    \n",
    "    print(\"w\", i, \"=\", w[i]*10**10, sep = '')\n",
    "\n",
    "np.shape(valX)[0]\n",
    "fig,ax = plt.subplots()\n",
    "ax.plot(costArr[1:iters])\n",
    "plt.show() # the number of iterations are maxed out in the end, "
   ]
  },
  {
   "cell_type": "code",
   "execution_count": 25,
   "id": "3813f89b",
   "metadata": {},
   "outputs": [
    {
     "data": {
      "text/plain": [
       "452.53941514139257"
      ]
     },
     "execution_count": 25,
     "metadata": {},
     "output_type": "execute_result"
    }
   ],
   "source": [
    "w1 = 0\n",
    "for i in range(np.shape(valX)[0]):\n",
    "    w1+= (np.sum(w*valX[i,:wSize]) - valY[i,0])**2\n",
    "    \n",
    "w1"
   ]
  },
  {
   "cell_type": "code",
   "execution_count": 26,
   "id": "7afb819c",
   "metadata": {},
   "outputs": [
    {
     "name": "stdout",
     "output_type": "stream",
     "text": [
      "w0=809.188937257287\n",
      "w1=-22.42183341775573\n",
      "w2=0.14304620643644445\n",
      "w3=120.97579806922936\n",
      "w4=111.95368436198187\n",
      "w5=-66.2496454051835\n",
      "w6=-283.4647258575344\n",
      "w7=-61.6086715555754\n",
      "w8=55.55134550549525\n",
      "w9=62.24251341658158\n",
      "w10=-1030.9066723886478\n",
      "w11=-18.446434673674634\n",
      "w12=49.501784157740154\n",
      "w13=16.523534373821754\n",
      "w14=-1602.4339624036695\n",
      "w15=-3316.3311751057254\n",
      "w16=349.703826071429\n",
      "w17=-398.4852395983407\n",
      "w18=-702.8471167370061\n",
      "w19=1959.9121330264336\n",
      "w20=-1158.0765228638124\n",
      "w21=19166.833264429635\n",
      "w22=2069.2628313843393\n",
      "w23=-5273.331336062009\n",
      "w24=24.592387993863092\n",
      "w25=3725.0644346903077\n",
      "w26=-5099.515597783581\n",
      "w27=-20310.559409210324\n"
     ]
    },
    {
     "data": {
      "image/png": "[encoded data removed]",
      "text/plain": [
       "<Figure size 432x288 with 1 Axes>"
      ]
     },
     "metadata": {
      "needs_background": "light"
     },
     "output_type": "display_data"
    }
   ],
   "source": [
    "learningRate = 0.01\n",
    "degree = 6\n",
    "wSize = int((degree+1)*(degree+2)/2)\n",
    "w = np.zeros(wSize) # similar template for others\n",
    "w1 = np.zeros(wSize)\n",
    "#print(w, '\\n', w1)\n",
    "\n",
    "counter = 0\n",
    "costArr= np.zeros(iters*20 +50)\n",
    "counterArr = np.zeros(iters*20 +50)\n",
    "for i in range(iters*20):\n",
    "    w2 = np.zeros(wSize)\n",
    "    for j in range(np.shape(valX)[0]):\n",
    "        w2 += (((valY[:wSize,0] - (w*valX[j,:wSize]))/10**10)*valX[j,:wSize])/np.shape(valX)[0]\n",
    "    \n",
    "    w1 = w + learningRate*w2\n",
    "    w=w1\n",
    "    counter+=1\n",
    "    costArr[counter] = w2[0]\n",
    "    counterArr[counter] = counter\n",
    "\n",
    "   \n",
    "\n",
    "for i in range(np.shape(w)[0]):    \n",
    "    print(\"w\", i, \"=\", w[i]*10**10, sep = '')\n",
    "\n",
    "np.shape(valX)[0]\n",
    "fig,ax = plt.subplots()\n",
    "ax.plot(costArr[1:iters])\n",
    "plt.show() # the number of iterations are maxed out in the end, "
   ]
  },
  {
   "cell_type": "code",
   "execution_count": 27,
   "id": "5ff28bbf",
   "metadata": {},
   "outputs": [
    {
     "data": {
      "text/plain": [
       "452.48599358689546"
      ]
     },
     "execution_count": 27,
     "metadata": {},
     "output_type": "execute_result"
    }
   ],
   "source": [
    "w1 = 0\n",
    "for i in range(np.shape(valX)[0]):\n",
    "    w1+= (np.sum(w*valX[i,:wSize]) - valY[i,0])**2\n",
    "    \n",
    "w1"
   ]
  },
  {
   "cell_type": "code",
   "execution_count": 28,
   "id": "7d59db14",
   "metadata": {},
   "outputs": [
    {
     "name": "stdout",
     "output_type": "stream",
     "text": [
      "w0=809.188937257287\n",
      "w1=-22.42183341775573\n",
      "w2=0.14304620643644445\n",
      "w3=120.97579806922936\n",
      "w4=111.95368436198187\n",
      "w5=-66.2496454051835\n",
      "w6=-283.4647258575344\n",
      "w7=-61.6086715555754\n",
      "w8=55.55134550549525\n",
      "w9=62.24251341658158\n",
      "w10=-1030.9066723886478\n",
      "w11=-18.446434673674634\n",
      "w12=49.501784157740154\n",
      "w13=16.523534373821754\n",
      "w14=-1602.4339624036695\n",
      "w15=-3316.3311751057254\n",
      "w16=349.703826071429\n",
      "w17=-398.4852395983407\n",
      "w18=-702.8471167370061\n",
      "w19=1959.9121330264336\n",
      "w20=-1158.0765228638124\n",
      "w21=19166.833264429635\n",
      "w22=2069.2628313843393\n",
      "w23=-5273.331336062009\n",
      "w24=24.592387993863092\n",
      "w25=3725.0644346903077\n",
      "w26=-5099.515597783581\n",
      "w27=-20310.559409210324\n",
      "w28=32933.47411475189\n",
      "w29=6637.792880695801\n",
      "w30=-3237.089390746348\n",
      "w31=1076.8365121123536\n",
      "w32=21369.201883844453\n",
      "w33=15985.302786253826\n",
      "w34=51061.00023610502\n",
      "w35=61499.426434091925\n"
     ]
    },
    {
     "data": {
      "image/png": "[encoded data removed]",
      "text/plain": [
       "<Figure size 432x288 with 1 Axes>"
      ]
     },
     "metadata": {
      "needs_background": "light"
     },
     "output_type": "display_data"
    }
   ],
   "source": [
    "learningRate = 0.01\n",
    "degree = 7\n",
    "wSize = int((degree+1)*(degree+2)/2)\n",
    "w = np.zeros(wSize) # similar template for others\n",
    "w1 = np.zeros(wSize)\n",
    "#print(w, '\\n', w1)\n",
    "\n",
    "counter = 0\n",
    "costArr= np.zeros(iters*20 +50)\n",
    "counterArr = np.zeros(iters*20 +50)\n",
    "for i in range(iters*20):\n",
    "    w2 = np.zeros(wSize)\n",
    "    for j in range(np.shape(valX)[0]):\n",
    "        w2 += (((valY[:wSize,0] - (w*valX[j,:wSize]))/10**10)*valX[j,:wSize])/np.shape(valX)[0]\n",
    "    \n",
    "    w1 = w + learningRate*w2\n",
    "    w=w1\n",
    "    counter+=1\n",
    "    costArr[counter] = w2[0]\n",
    "    counterArr[counter] = counter\n",
    "\n",
    "   \n",
    "\n",
    "for i in range(np.shape(w)[0]):    \n",
    "    print(\"w\", i, \"=\", w[i]*10**10, sep = '')\n",
    "\n",
    "np.shape(valX)[0]\n",
    "fig,ax = plt.subplots()\n",
    "ax.plot(costArr[1:iters])\n",
    "plt.show() # the number of iterations are maxed out in the end, "
   ]
  },
  {
   "cell_type": "code",
   "execution_count": 29,
   "id": "133a908b",
   "metadata": {},
   "outputs": [
    {
     "data": {
      "text/plain": [
       "451.491410544317"
      ]
     },
     "execution_count": 29,
     "metadata": {},
     "output_type": "execute_result"
    }
   ],
   "source": [
    "w1 = 0\n",
    "for i in range(np.shape(valX)[0]):\n",
    "    w1+= (np.sum(w*valX[i,:wSize]) - valY[i,0])**2\n",
    "    \n",
    "w1"
   ]
  },
  {
   "cell_type": "code",
   "execution_count": 30,
   "id": "50e2d7a4",
   "metadata": {},
   "outputs": [
    {
     "name": "stdout",
     "output_type": "stream",
     "text": [
      "w0=809.188937257287\n",
      "w1=-22.42183341775573\n",
      "w2=0.14304620643644445\n",
      "w3=120.97579806922936\n",
      "w4=111.95368436198187\n",
      "w5=-66.2496454051835\n",
      "w6=-283.4647258575344\n",
      "w7=-61.6086715555754\n",
      "w8=55.55134550549525\n",
      "w9=62.24251341658158\n",
      "w10=-1030.9066723886478\n",
      "w11=-18.446434673674634\n",
      "w12=49.501784157740154\n",
      "w13=16.523534373821754\n",
      "w14=-1602.4339624036695\n",
      "w15=-3316.3311751057254\n",
      "w16=349.703826071429\n",
      "w17=-398.4852395983407\n",
      "w18=-702.8471167370061\n",
      "w19=1959.9121330264336\n",
      "w20=-1158.0765228638124\n",
      "w21=19166.833264429635\n",
      "w22=2069.2628313843393\n",
      "w23=-5273.331336062009\n",
      "w24=24.592387993863092\n",
      "w25=3725.0644346903077\n",
      "w26=-5099.515597783581\n",
      "w27=-20310.559409210324\n",
      "w28=32933.47411475189\n",
      "w29=6637.792880695801\n",
      "w30=-3237.089390746348\n",
      "w31=1076.8365121123536\n",
      "w32=21369.201883844453\n",
      "w33=15985.302786253826\n",
      "w34=51061.00023610502\n",
      "w35=61499.426434091925\n",
      "w36=23881.6809474389\n",
      "w37=10266.59335630023\n",
      "w38=39047.84196301736\n",
      "w39=877.3312851661485\n",
      "w40=15935.39100478537\n",
      "w41=-6905.945750920634\n",
      "w42=-31444.872214477553\n",
      "w43=156.64464515691625\n",
      "w44=54772.83474384169\n"
     ]
    },
    {
     "data": {
      "image/png": "[encoded data removed]",
      "text/plain": [
       "<Figure size 432x288 with 1 Axes>"
      ]
     },
     "metadata": {
      "needs_background": "light"
     },
     "output_type": "display_data"
    }
   ],
   "source": [
    "learningRate = 0.01\n",
    "degree = 8\n",
    "wSize = int((degree+1)*(degree+2)/2)\n",
    "w = np.zeros(wSize) # similar template for others\n",
    "w1 = np.zeros(wSize)\n",
    "#print(w, '\\n', w1)\n",
    "\n",
    "counter = 0\n",
    "costArr= np.zeros(iters*20 +50)\n",
    "counterArr = np.zeros(iters*20 +50)\n",
    "for i in range(iters*20):\n",
    "    w2 = np.zeros(wSize)\n",
    "    for j in range(np.shape(valX)[0]):\n",
    "        w2 += (((valY[:wSize,0] - (w*valX[j,:wSize]))/10**10)*valX[j,:wSize])/np.shape(valX)[0]\n",
    "    \n",
    "    w1 = w + learningRate*w2\n",
    "    w=w1\n",
    "    counter+=1\n",
    "    costArr[counter] = w2[0]\n",
    "    counterArr[counter] = counter\n",
    "\n",
    "   \n",
    "\n",
    "for i in range(np.shape(w)[0]):    \n",
    "    print(\"w\", i, \"=\", w[i]*10**10, sep = '')\n",
    "\n",
    "np.shape(valX)[0]\n",
    "fig,ax = plt.subplots()\n",
    "ax.plot(costArr[1:iters])\n",
    "plt.show() # the number of iterations are maxed out in the end, "
   ]
  },
  {
   "cell_type": "code",
   "execution_count": 31,
   "id": "7b72a4d5",
   "metadata": {},
   "outputs": [
    {
     "data": {
      "text/plain": [
       "460.11755551693807"
      ]
     },
     "execution_count": 31,
     "metadata": {},
     "output_type": "execute_result"
    }
   ],
   "source": [
    "w1 = 0\n",
    "for i in range(np.shape(valX)[0]):\n",
    "    w1+= (np.sum(w*valX[i,:wSize]) - valY[i,0])**2\n",
    "    \n",
    "w1"
   ]
  },
  {
   "cell_type": "code",
   "execution_count": 32,
   "id": "ed639087",
   "metadata": {},
   "outputs": [
    {
     "name": "stdout",
     "output_type": "stream",
     "text": [
      "w0=809.188937257287\n",
      "w1=-22.42183341775573\n",
      "w2=0.14304620643644445\n",
      "w3=120.97579806922936\n",
      "w4=111.95368436198187\n",
      "w5=-66.2496454051835\n",
      "w6=-283.4647258575344\n",
      "w7=-61.6086715555754\n",
      "w8=55.55134550549525\n",
      "w9=62.24251341658158\n",
      "w10=-1030.9066723886478\n",
      "w11=-18.446434673674634\n",
      "w12=49.501784157740154\n",
      "w13=16.523534373821754\n",
      "w14=-1602.4339624036695\n",
      "w15=-3316.3311751057254\n",
      "w16=349.703826071429\n",
      "w17=-398.4852395983407\n",
      "w18=-702.8471167370061\n",
      "w19=1959.9121330264336\n",
      "w20=-1158.0765228638124\n",
      "w21=19166.833264429635\n",
      "w22=2069.2628313843393\n",
      "w23=-5273.331336062009\n",
      "w24=24.592387993863092\n",
      "w25=3725.0644346903077\n",
      "w26=-5099.515597783581\n",
      "w27=-20310.559409210324\n",
      "w28=32933.47411475189\n",
      "w29=6637.792880695801\n",
      "w30=-3237.089390746348\n",
      "w31=1076.8365121123536\n",
      "w32=21369.201883844453\n",
      "w33=15985.302786253826\n",
      "w34=51061.00023610502\n",
      "w35=61499.426434091925\n",
      "w36=23881.6809474389\n",
      "w37=10266.59335630023\n",
      "w38=39047.84196301736\n",
      "w39=877.3312851661485\n",
      "w40=15935.39100478537\n",
      "w41=-6905.945750920634\n",
      "w42=-31444.872214477553\n",
      "w43=156.64464515691625\n",
      "w44=54772.83474384169\n",
      "w45=3657.900461447079\n",
      "w46=2907.372555077681\n",
      "w47=70872.16766017304\n",
      "w48=822.3641442236722\n",
      "w49=40493.884624255945\n",
      "w50=2453.1967752506844\n",
      "w51=34909.34506466522\n",
      "w52=17624.059975591437\n",
      "w53=5988.930837000591\n",
      "w54=-4342.877594913713\n"
     ]
    },
    {
     "data": {
      "image/png": "[encoded data removed]",
      "text/plain": [
       "<Figure size 432x288 with 1 Axes>"
      ]
     },
     "metadata": {
      "needs_background": "light"
     },
     "output_type": "display_data"
    }
   ],
   "source": [
    "learningRate = 0.01\n",
    "degree = 9\n",
    "wSize = int((degree+1)*(degree+2)/2)\n",
    "w = np.zeros(wSize) # similar template for others\n",
    "w1 = np.zeros(wSize)\n",
    "#print(w, '\\n', w1)\n",
    "\n",
    "counter = 0\n",
    "costArr= np.zeros(iters*20 +50)\n",
    "counterArr = np.zeros(iters*20 +50)\n",
    "for i in range(iters*20):\n",
    "    w2 = np.zeros(wSize)\n",
    "    for j in range(np.shape(valX)[0]):\n",
    "        w2 += (((valY[:wSize,0] - (w*valX[j,:wSize]))/10**10)*valX[j,:wSize])/np.shape(valX)[0]\n",
    "    \n",
    "    w1 = w + learningRate*w2\n",
    "    w=w1\n",
    "    counter+=1\n",
    "    costArr[counter] = w2[0]\n",
    "    counterArr[counter] = counter\n",
    "\n",
    "   \n",
    "\n",
    "for i in range(np.shape(w)[0]):    \n",
    "    print(\"w\", i, \"=\", w[i]*10**10, sep = '')\n",
    "\n",
    "np.shape(valX)[0]\n",
    "fig,ax = plt.subplots()\n",
    "ax.plot(costArr[1:iters])\n",
    "plt.show() # the number of iterations are maxed out in the end, "
   ]
  },
  {
   "cell_type": "code",
   "execution_count": 33,
   "id": "0f1118b3",
   "metadata": {},
   "outputs": [
    {
     "data": {
      "text/plain": [
       "489.6365426673486"
      ]
     },
     "execution_count": 33,
     "metadata": {},
     "output_type": "execute_result"
    }
   ],
   "source": [
    "# training data error\n",
    "w1 = 0\n",
    "for i in range(np.shape(valX)[0]):\n",
    "    w1+= (np.sum(w*valX[i,:wSize]) - valY[i,0])**2\n",
    "    \n",
    "w1"
   ]
  },
  {
   "cell_type": "code",
   "execution_count": null,
   "id": "86111ec8",
   "metadata": {},
   "outputs": [],
   "source": []
  }
 ],
 "metadata": {
  "kernelspec": {
   "display_name": "Python 3 (ipykernel)",
   "language": "python",
   "name": "python3"
  },
  "language_info": {
   "codemirror_mode": {
    "name": "ipython",
    "version": 3
   },
   "file_extension": ".py",
   "mimetype": "text/x-python",
   "name": "python",
   "nbconvert_exporter": "python",
   "pygments_lexer": "ipython3",
   "version": "3.9.12"
  }
 },
 "nbformat": 4,
 "nbformat_minor": 5
}
