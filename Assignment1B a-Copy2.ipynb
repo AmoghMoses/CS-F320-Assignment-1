{
 "cells": [
  {
   "cell_type": "code",
   "execution_count": 1,
   "id": "4d67eca0",
   "metadata": {},
   "outputs": [
    {
     "name": "stdout",
     "output_type": "stream",
     "text": [
      "Success\n"
     ]
    }
   ],
   "source": [
    "import pandas as pd\n",
    "import numpy as np\n",
    "import matplotlib.pyplot as plt\n",
    "from sklearn import tree\n",
    "from sklearn.model_selection import train_test_split\n",
    "from sklearn.tree import DecisionTreeRegressor\n",
    "from sklearn.preprocessing import StandardScaler\n",
    "from sklearn.linear_model import LinearRegression\n",
    "print(\"Success\")"
   ]
  },
  {
   "cell_type": "code",
   "execution_count": 2,
   "id": "a2b4e8a6",
   "metadata": {
    "scrolled": false
   },
   "outputs": [
    {
     "data": {
      "text/html": [
       "<div>\n",
       "<style scoped>\n",
       "    .dataframe tbody tr th:only-of-type {\n",
       "        vertical-align: middle;\n",
       "    }\n",
       "\n",
       "    .dataframe tbody tr th {\n",
       "        vertical-align: top;\n",
       "    }\n",
       "\n",
       "    .dataframe thead th {\n",
       "        text-align: right;\n",
       "    }\n",
       "</style>\n",
       "<table border=\"1\" class=\"dataframe\">\n",
       "  <thead>\n",
       "    <tr style=\"text-align: right;\">\n",
       "      <th></th>\n",
       "      <th>MLOGP</th>\n",
       "      <th>RDCHI</th>\n",
       "      <th>quantitative response of LC50</th>\n",
       "    </tr>\n",
       "  </thead>\n",
       "  <tbody>\n",
       "    <tr>\n",
       "      <th>0</th>\n",
       "      <td>2.419</td>\n",
       "      <td>1.225</td>\n",
       "      <td>3.740</td>\n",
       "    </tr>\n",
       "    <tr>\n",
       "      <th>1</th>\n",
       "      <td>2.638</td>\n",
       "      <td>1.401</td>\n",
       "      <td>4.330</td>\n",
       "    </tr>\n",
       "    <tr>\n",
       "      <th>2</th>\n",
       "      <td>5.799</td>\n",
       "      <td>2.930</td>\n",
       "      <td>7.019</td>\n",
       "    </tr>\n",
       "    <tr>\n",
       "      <th>3</th>\n",
       "      <td>5.453</td>\n",
       "      <td>2.887</td>\n",
       "      <td>6.723</td>\n",
       "    </tr>\n",
       "    <tr>\n",
       "      <th>4</th>\n",
       "      <td>4.068</td>\n",
       "      <td>2.758</td>\n",
       "      <td>5.979</td>\n",
       "    </tr>\n",
       "    <tr>\n",
       "      <th>...</th>\n",
       "      <td>...</td>\n",
       "      <td>...</td>\n",
       "      <td>...</td>\n",
       "    </tr>\n",
       "    <tr>\n",
       "      <th>541</th>\n",
       "      <td>3.326</td>\n",
       "      <td>2.837</td>\n",
       "      <td>4.651</td>\n",
       "    </tr>\n",
       "    <tr>\n",
       "      <th>542</th>\n",
       "      <td>3.275</td>\n",
       "      <td>2.727</td>\n",
       "      <td>3.953</td>\n",
       "    </tr>\n",
       "    <tr>\n",
       "      <th>543</th>\n",
       "      <td>5.165</td>\n",
       "      <td>3.111</td>\n",
       "      <td>6.219</td>\n",
       "    </tr>\n",
       "    <tr>\n",
       "      <th>544</th>\n",
       "      <td>2.859</td>\n",
       "      <td>2.614</td>\n",
       "      <td>4.995</td>\n",
       "    </tr>\n",
       "    <tr>\n",
       "      <th>545</th>\n",
       "      <td>2.255</td>\n",
       "      <td>1.800</td>\n",
       "      <td>2.480</td>\n",
       "    </tr>\n",
       "  </tbody>\n",
       "</table>\n",
       "<p>546 rows × 3 columns</p>\n",
       "</div>"
      ],
      "text/plain": [
       "     MLOGP  RDCHI  quantitative response of LC50\n",
       "0    2.419  1.225                          3.740\n",
       "1    2.638  1.401                          4.330\n",
       "2    5.799  2.930                          7.019\n",
       "3    5.453  2.887                          6.723\n",
       "4    4.068  2.758                          5.979\n",
       "..     ...    ...                            ...\n",
       "541  3.326  2.837                          4.651\n",
       "542  3.275  2.727                          3.953\n",
       "543  5.165  3.111                          6.219\n",
       "544  2.859  2.614                          4.995\n",
       "545  2.255  1.800                          2.480\n",
       "\n",
       "[546 rows x 3 columns]"
      ]
     },
     "execution_count": 2,
     "metadata": {},
     "output_type": "execute_result"
    }
   ],
   "source": [
    "df = pd.read_csv('fods_1.csv')\n",
    "df"
   ]
  },
  {
   "cell_type": "code",
   "execution_count": 3,
   "id": "3bed213f",
   "metadata": {
    "scrolled": true
   },
   "outputs": [
    {
     "name": "stdout",
     "output_type": "stream",
     "text": [
      "2.3134926739926738\n",
      "2.4922985347985356\n",
      "4.6584212454212475\n",
      "1.741797285664983\n",
      "0.8110039291512505\n",
      "1.6652150617992907\n",
      "MLOGP                             9.148\n",
      "RDCHI                             6.439\n",
      "quantitative response of LC50    10.047\n",
      "dtype: float64\n",
      " \n",
      "MLOGP                           -6.446\n",
      "RDCHI                            1.000\n",
      "quantitative response of LC50    0.122\n",
      "dtype: float64\n"
     ]
    }
   ],
   "source": [
    "meanX1 = df['MLOGP'].mean()\n",
    "meanX2 = df['RDCHI'].mean()\n",
    "meanY = df['quantitative response of LC50'].mean()\n",
    "stdX1 = df['MLOGP'].std()\n",
    "stdX2 = df['RDCHI'].std()\n",
    "stdY = df['quantitative response of LC50'].std()\n",
    "maxAll = df.max()\n",
    "minAll = df.min()\n",
    "print(meanX1, meanX2, meanY, stdX1, stdX2, stdY, maxAll, \" \", minAll, sep = '\\n')"
   ]
  },
  {
   "cell_type": "code",
   "execution_count": 4,
   "id": "1ce734f6",
   "metadata": {},
   "outputs": [
    {
     "data": {
      "text/html": [
       "<div>\n",
       "<style scoped>\n",
       "    .dataframe tbody tr th:only-of-type {\n",
       "        vertical-align: middle;\n",
       "    }\n",
       "\n",
       "    .dataframe tbody tr th {\n",
       "        vertical-align: top;\n",
       "    }\n",
       "\n",
       "    .dataframe thead th {\n",
       "        text-align: right;\n",
       "    }\n",
       "</style>\n",
       "<table border=\"1\" class=\"dataframe\">\n",
       "  <thead>\n",
       "    <tr style=\"text-align: right;\">\n",
       "      <th></th>\n",
       "      <th>MLOGP</th>\n",
       "      <th>RDCHI</th>\n",
       "      <th>quantitative response of LC50</th>\n",
       "    </tr>\n",
       "  </thead>\n",
       "  <tbody>\n",
       "    <tr>\n",
       "      <th>0</th>\n",
       "      <td>2.419</td>\n",
       "      <td>1.225</td>\n",
       "      <td>3.740</td>\n",
       "    </tr>\n",
       "    <tr>\n",
       "      <th>1</th>\n",
       "      <td>2.638</td>\n",
       "      <td>1.401</td>\n",
       "      <td>4.330</td>\n",
       "    </tr>\n",
       "    <tr>\n",
       "      <th>2</th>\n",
       "      <td>5.799</td>\n",
       "      <td>2.930</td>\n",
       "      <td>7.019</td>\n",
       "    </tr>\n",
       "    <tr>\n",
       "      <th>3</th>\n",
       "      <td>5.453</td>\n",
       "      <td>2.887</td>\n",
       "      <td>6.723</td>\n",
       "    </tr>\n",
       "    <tr>\n",
       "      <th>4</th>\n",
       "      <td>4.068</td>\n",
       "      <td>2.758</td>\n",
       "      <td>5.979</td>\n",
       "    </tr>\n",
       "    <tr>\n",
       "      <th>...</th>\n",
       "      <td>...</td>\n",
       "      <td>...</td>\n",
       "      <td>...</td>\n",
       "    </tr>\n",
       "    <tr>\n",
       "      <th>541</th>\n",
       "      <td>3.326</td>\n",
       "      <td>2.837</td>\n",
       "      <td>4.651</td>\n",
       "    </tr>\n",
       "    <tr>\n",
       "      <th>542</th>\n",
       "      <td>3.275</td>\n",
       "      <td>2.727</td>\n",
       "      <td>3.953</td>\n",
       "    </tr>\n",
       "    <tr>\n",
       "      <th>543</th>\n",
       "      <td>5.165</td>\n",
       "      <td>3.111</td>\n",
       "      <td>6.219</td>\n",
       "    </tr>\n",
       "    <tr>\n",
       "      <th>544</th>\n",
       "      <td>2.859</td>\n",
       "      <td>2.614</td>\n",
       "      <td>4.995</td>\n",
       "    </tr>\n",
       "    <tr>\n",
       "      <th>545</th>\n",
       "      <td>2.255</td>\n",
       "      <td>1.800</td>\n",
       "      <td>2.480</td>\n",
       "    </tr>\n",
       "  </tbody>\n",
       "</table>\n",
       "<p>546 rows × 3 columns</p>\n",
       "</div>"
      ],
      "text/plain": [
       "     MLOGP  RDCHI  quantitative response of LC50\n",
       "0    2.419  1.225                          3.740\n",
       "1    2.638  1.401                          4.330\n",
       "2    5.799  2.930                          7.019\n",
       "3    5.453  2.887                          6.723\n",
       "4    4.068  2.758                          5.979\n",
       "..     ...    ...                            ...\n",
       "541  3.326  2.837                          4.651\n",
       "542  3.275  2.727                          3.953\n",
       "543  5.165  3.111                          6.219\n",
       "544  2.859  2.614                          4.995\n",
       "545  2.255  1.800                          2.480\n",
       "\n",
       "[546 rows x 3 columns]"
      ]
     },
     "execution_count": 4,
     "metadata": {},
     "output_type": "execute_result"
    }
   ],
   "source": [
    "df1 = df.copy()\n",
    "df1"
   ]
  },
  {
   "cell_type": "code",
   "execution_count": 5,
   "id": "e0cfec69",
   "metadata": {},
   "outputs": [
    {
     "data": {
      "text/html": [
       "<div>\n",
       "<style scoped>\n",
       "    .dataframe tbody tr th:only-of-type {\n",
       "        vertical-align: middle;\n",
       "    }\n",
       "\n",
       "    .dataframe tbody tr th {\n",
       "        vertical-align: top;\n",
       "    }\n",
       "\n",
       "    .dataframe thead th {\n",
       "        text-align: right;\n",
       "    }\n",
       "</style>\n",
       "<table border=\"1\" class=\"dataframe\">\n",
       "  <thead>\n",
       "    <tr style=\"text-align: right;\">\n",
       "      <th></th>\n",
       "      <th>MLOGP</th>\n",
       "      <th>RDCHI</th>\n",
       "      <th>quantitative response of LC50</th>\n",
       "    </tr>\n",
       "  </thead>\n",
       "  <tbody>\n",
       "    <tr>\n",
       "      <th>0</th>\n",
       "      <td>0.568488</td>\n",
       "      <td>0.041368</td>\n",
       "      <td>3.740</td>\n",
       "    </tr>\n",
       "    <tr>\n",
       "      <th>1</th>\n",
       "      <td>0.582532</td>\n",
       "      <td>0.073727</td>\n",
       "      <td>4.330</td>\n",
       "    </tr>\n",
       "    <tr>\n",
       "      <th>2</th>\n",
       "      <td>0.785238</td>\n",
       "      <td>0.354845</td>\n",
       "      <td>7.019</td>\n",
       "    </tr>\n",
       "    <tr>\n",
       "      <th>3</th>\n",
       "      <td>0.763050</td>\n",
       "      <td>0.346939</td>\n",
       "      <td>6.723</td>\n",
       "    </tr>\n",
       "    <tr>\n",
       "      <th>4</th>\n",
       "      <td>0.674234</td>\n",
       "      <td>0.323221</td>\n",
       "      <td>5.979</td>\n",
       "    </tr>\n",
       "    <tr>\n",
       "      <th>...</th>\n",
       "      <td>...</td>\n",
       "      <td>...</td>\n",
       "      <td>...</td>\n",
       "    </tr>\n",
       "    <tr>\n",
       "      <th>541</th>\n",
       "      <td>0.626651</td>\n",
       "      <td>0.337746</td>\n",
       "      <td>4.651</td>\n",
       "    </tr>\n",
       "    <tr>\n",
       "      <th>542</th>\n",
       "      <td>0.623381</td>\n",
       "      <td>0.317522</td>\n",
       "      <td>3.953</td>\n",
       "    </tr>\n",
       "    <tr>\n",
       "      <th>543</th>\n",
       "      <td>0.744581</td>\n",
       "      <td>0.388123</td>\n",
       "      <td>6.219</td>\n",
       "    </tr>\n",
       "    <tr>\n",
       "      <th>544</th>\n",
       "      <td>0.596704</td>\n",
       "      <td>0.296746</td>\n",
       "      <td>4.995</td>\n",
       "    </tr>\n",
       "    <tr>\n",
       "      <th>545</th>\n",
       "      <td>0.557971</td>\n",
       "      <td>0.147086</td>\n",
       "      <td>2.480</td>\n",
       "    </tr>\n",
       "  </tbody>\n",
       "</table>\n",
       "<p>546 rows × 3 columns</p>\n",
       "</div>"
      ],
      "text/plain": [
       "        MLOGP     RDCHI  quantitative response of LC50\n",
       "0    0.568488  0.041368                          3.740\n",
       "1    0.582532  0.073727                          4.330\n",
       "2    0.785238  0.354845                          7.019\n",
       "3    0.763050  0.346939                          6.723\n",
       "4    0.674234  0.323221                          5.979\n",
       "..        ...       ...                            ...\n",
       "541  0.626651  0.337746                          4.651\n",
       "542  0.623381  0.317522                          3.953\n",
       "543  0.744581  0.388123                          6.219\n",
       "544  0.596704  0.296746                          4.995\n",
       "545  0.557971  0.147086                          2.480\n",
       "\n",
       "[546 rows x 3 columns]"
      ]
     },
     "execution_count": 5,
     "metadata": {},
     "output_type": "execute_result"
    }
   ],
   "source": [
    "df['MLOGP'] = (df['MLOGP'] - df['MLOGP'].min())/(df['MLOGP'].max() - df['MLOGP'].min())\n",
    "df['RDCHI'] = (df['RDCHI'] - df['RDCHI'].min())/(df['RDCHI'].max() - df['RDCHI'].min())\n",
    "df"
   ]
  },
  {
   "cell_type": "code",
   "execution_count": 6,
   "id": "c7608a8f",
   "metadata": {},
   "outputs": [
    {
     "name": "stdout",
     "output_type": "stream",
     "text": [
      "MLOGP                             1.000\n",
      "RDCHI                             1.000\n",
      "quantitative response of LC50    10.047\n",
      "dtype: float64\n",
      "MLOGP                            0.000\n",
      "RDCHI                            0.000\n",
      "quantitative response of LC50    0.122\n",
      "dtype: float64\n"
     ]
    },
    {
     "data": {
      "text/html": [
       "<div>\n",
       "<style scoped>\n",
       "    .dataframe tbody tr th:only-of-type {\n",
       "        vertical-align: middle;\n",
       "    }\n",
       "\n",
       "    .dataframe tbody tr th {\n",
       "        vertical-align: top;\n",
       "    }\n",
       "\n",
       "    .dataframe thead th {\n",
       "        text-align: right;\n",
       "    }\n",
       "</style>\n",
       "<table border=\"1\" class=\"dataframe\">\n",
       "  <thead>\n",
       "    <tr style=\"text-align: right;\">\n",
       "      <th></th>\n",
       "      <th>MLOGP</th>\n",
       "      <th>RDCHI</th>\n",
       "      <th>quantitative response of LC50</th>\n",
       "    </tr>\n",
       "  </thead>\n",
       "  <tbody>\n",
       "    <tr>\n",
       "      <th>0</th>\n",
       "      <td>0.568488</td>\n",
       "      <td>0.041368</td>\n",
       "      <td>3.740</td>\n",
       "    </tr>\n",
       "    <tr>\n",
       "      <th>1</th>\n",
       "      <td>0.582532</td>\n",
       "      <td>0.073727</td>\n",
       "      <td>4.330</td>\n",
       "    </tr>\n",
       "    <tr>\n",
       "      <th>2</th>\n",
       "      <td>0.785238</td>\n",
       "      <td>0.354845</td>\n",
       "      <td>7.019</td>\n",
       "    </tr>\n",
       "    <tr>\n",
       "      <th>3</th>\n",
       "      <td>0.763050</td>\n",
       "      <td>0.346939</td>\n",
       "      <td>6.723</td>\n",
       "    </tr>\n",
       "    <tr>\n",
       "      <th>4</th>\n",
       "      <td>0.674234</td>\n",
       "      <td>0.323221</td>\n",
       "      <td>5.979</td>\n",
       "    </tr>\n",
       "    <tr>\n",
       "      <th>...</th>\n",
       "      <td>...</td>\n",
       "      <td>...</td>\n",
       "      <td>...</td>\n",
       "    </tr>\n",
       "    <tr>\n",
       "      <th>541</th>\n",
       "      <td>0.626651</td>\n",
       "      <td>0.337746</td>\n",
       "      <td>4.651</td>\n",
       "    </tr>\n",
       "    <tr>\n",
       "      <th>542</th>\n",
       "      <td>0.623381</td>\n",
       "      <td>0.317522</td>\n",
       "      <td>3.953</td>\n",
       "    </tr>\n",
       "    <tr>\n",
       "      <th>543</th>\n",
       "      <td>0.744581</td>\n",
       "      <td>0.388123</td>\n",
       "      <td>6.219</td>\n",
       "    </tr>\n",
       "    <tr>\n",
       "      <th>544</th>\n",
       "      <td>0.596704</td>\n",
       "      <td>0.296746</td>\n",
       "      <td>4.995</td>\n",
       "    </tr>\n",
       "    <tr>\n",
       "      <th>545</th>\n",
       "      <td>0.557971</td>\n",
       "      <td>0.147086</td>\n",
       "      <td>2.480</td>\n",
       "    </tr>\n",
       "  </tbody>\n",
       "</table>\n",
       "<p>546 rows × 3 columns</p>\n",
       "</div>"
      ],
      "text/plain": [
       "        MLOGP     RDCHI  quantitative response of LC50\n",
       "0    0.568488  0.041368                          3.740\n",
       "1    0.582532  0.073727                          4.330\n",
       "2    0.785238  0.354845                          7.019\n",
       "3    0.763050  0.346939                          6.723\n",
       "4    0.674234  0.323221                          5.979\n",
       "..        ...       ...                            ...\n",
       "541  0.626651  0.337746                          4.651\n",
       "542  0.623381  0.317522                          3.953\n",
       "543  0.744581  0.388123                          6.219\n",
       "544  0.596704  0.296746                          4.995\n",
       "545  0.557971  0.147086                          2.480\n",
       "\n",
       "[546 rows x 3 columns]"
      ]
     },
     "execution_count": 6,
     "metadata": {},
     "output_type": "execute_result"
    }
   ],
   "source": [
    "print(df.max(), df.min(), sep = '\\n')\n",
    "df"
   ]
  },
  {
   "cell_type": "code",
   "execution_count": 7,
   "id": "47c9de65",
   "metadata": {},
   "outputs": [
    {
     "data": {
      "text/plain": [
       "MLOGP                            0\n",
       "RDCHI                            0\n",
       "quantitative response of LC50    0\n",
       "dtype: int64"
      ]
     },
     "execution_count": 7,
     "metadata": {},
     "output_type": "execute_result"
    }
   ],
   "source": [
    "df.isnull().sum()"
   ]
  },
  {
   "cell_type": "code",
   "execution_count": 8,
   "id": "827d288f",
   "metadata": {},
   "outputs": [
    {
     "data": {
      "text/html": [
       "<div>\n",
       "<style scoped>\n",
       "    .dataframe tbody tr th:only-of-type {\n",
       "        vertical-align: middle;\n",
       "    }\n",
       "\n",
       "    .dataframe tbody tr th {\n",
       "        vertical-align: top;\n",
       "    }\n",
       "\n",
       "    .dataframe thead th {\n",
       "        text-align: right;\n",
       "    }\n",
       "</style>\n",
       "<table border=\"1\" class=\"dataframe\">\n",
       "  <thead>\n",
       "    <tr style=\"text-align: right;\">\n",
       "      <th></th>\n",
       "      <th>MLOGP</th>\n",
       "      <th>RDCHI</th>\n",
       "      <th>quantitative response of LC50</th>\n",
       "    </tr>\n",
       "  </thead>\n",
       "  <tbody>\n",
       "    <tr>\n",
       "      <th>79</th>\n",
       "      <td>0.645376</td>\n",
       "      <td>0.403935</td>\n",
       "      <td>4.878</td>\n",
       "    </tr>\n",
       "    <tr>\n",
       "      <th>407</th>\n",
       "      <td>0.502822</td>\n",
       "      <td>0.245266</td>\n",
       "      <td>4.606</td>\n",
       "    </tr>\n",
       "    <tr>\n",
       "      <th>397</th>\n",
       "      <td>0.431897</td>\n",
       "      <td>0.291782</td>\n",
       "      <td>3.339</td>\n",
       "    </tr>\n",
       "    <tr>\n",
       "      <th>213</th>\n",
       "      <td>0.505836</td>\n",
       "      <td>0.093583</td>\n",
       "      <td>2.576</td>\n",
       "    </tr>\n",
       "    <tr>\n",
       "      <th>84</th>\n",
       "      <td>0.641785</td>\n",
       "      <td>0.235521</td>\n",
       "      <td>5.548</td>\n",
       "    </tr>\n",
       "    <tr>\n",
       "      <th>...</th>\n",
       "      <td>...</td>\n",
       "      <td>...</td>\n",
       "      <td>...</td>\n",
       "    </tr>\n",
       "    <tr>\n",
       "      <th>97</th>\n",
       "      <td>0.559125</td>\n",
       "      <td>0.271741</td>\n",
       "      <td>3.331</td>\n",
       "    </tr>\n",
       "    <tr>\n",
       "      <th>31</th>\n",
       "      <td>0.556111</td>\n",
       "      <td>0.048722</td>\n",
       "      <td>3.718</td>\n",
       "    </tr>\n",
       "    <tr>\n",
       "      <th>485</th>\n",
       "      <td>0.493267</td>\n",
       "      <td>0.199669</td>\n",
       "      <td>9.099</td>\n",
       "    </tr>\n",
       "    <tr>\n",
       "      <th>400</th>\n",
       "      <td>0.525459</td>\n",
       "      <td>0.253172</td>\n",
       "      <td>4.790</td>\n",
       "    </tr>\n",
       "    <tr>\n",
       "      <th>296</th>\n",
       "      <td>0.464409</td>\n",
       "      <td>0.154440</td>\n",
       "      <td>6.251</td>\n",
       "    </tr>\n",
       "  </tbody>\n",
       "</table>\n",
       "<p>436 rows × 3 columns</p>\n",
       "</div>"
      ],
      "text/plain": [
       "        MLOGP     RDCHI  quantitative response of LC50\n",
       "79   0.645376  0.403935                          4.878\n",
       "407  0.502822  0.245266                          4.606\n",
       "397  0.431897  0.291782                          3.339\n",
       "213  0.505836  0.093583                          2.576\n",
       "84   0.641785  0.235521                          5.548\n",
       "..        ...       ...                            ...\n",
       "97   0.559125  0.271741                          3.331\n",
       "31   0.556111  0.048722                          3.718\n",
       "485  0.493267  0.199669                          9.099\n",
       "400  0.525459  0.253172                          4.790\n",
       "296  0.464409  0.154440                          6.251\n",
       "\n",
       "[436 rows x 3 columns]"
      ]
     },
     "execution_count": 8,
     "metadata": {},
     "output_type": "execute_result"
    }
   ],
   "source": [
    "train, test = train_test_split(df, test_size=0.2) # this is a random split\n",
    "train"
   ]
  },
  {
   "cell_type": "code",
   "execution_count": 9,
   "id": "f5790539",
   "metadata": {
    "scrolled": false
   },
   "outputs": [
    {
     "data": {
      "text/html": [
       "<div>\n",
       "<style scoped>\n",
       "    .dataframe tbody tr th:only-of-type {\n",
       "        vertical-align: middle;\n",
       "    }\n",
       "\n",
       "    .dataframe tbody tr th {\n",
       "        vertical-align: top;\n",
       "    }\n",
       "\n",
       "    .dataframe thead th {\n",
       "        text-align: right;\n",
       "    }\n",
       "</style>\n",
       "<table border=\"1\" class=\"dataframe\">\n",
       "  <thead>\n",
       "    <tr style=\"text-align: right;\">\n",
       "      <th></th>\n",
       "      <th>MLOGP</th>\n",
       "      <th>RDCHI</th>\n",
       "      <th>quantitative response of LC50</th>\n",
       "    </tr>\n",
       "  </thead>\n",
       "  <tbody>\n",
       "    <tr>\n",
       "      <th>358</th>\n",
       "      <td>0.655124</td>\n",
       "      <td>0.384446</td>\n",
       "      <td>4.010</td>\n",
       "    </tr>\n",
       "    <tr>\n",
       "      <th>312</th>\n",
       "      <td>0.625882</td>\n",
       "      <td>0.187167</td>\n",
       "      <td>5.430</td>\n",
       "    </tr>\n",
       "    <tr>\n",
       "      <th>280</th>\n",
       "      <td>0.636399</td>\n",
       "      <td>0.166942</td>\n",
       "      <td>4.787</td>\n",
       "    </tr>\n",
       "    <tr>\n",
       "      <th>465</th>\n",
       "      <td>0.579454</td>\n",
       "      <td>0.284243</td>\n",
       "      <td>3.601</td>\n",
       "    </tr>\n",
       "    <tr>\n",
       "      <th>166</th>\n",
       "      <td>0.427729</td>\n",
       "      <td>0.203714</td>\n",
       "      <td>1.888</td>\n",
       "    </tr>\n",
       "    <tr>\n",
       "      <th>...</th>\n",
       "      <td>...</td>\n",
       "      <td>...</td>\n",
       "      <td>...</td>\n",
       "    </tr>\n",
       "    <tr>\n",
       "      <th>359</th>\n",
       "      <td>0.563871</td>\n",
       "      <td>0.412392</td>\n",
       "      <td>3.917</td>\n",
       "    </tr>\n",
       "    <tr>\n",
       "      <th>471</th>\n",
       "      <td>0.486790</td>\n",
       "      <td>0.300974</td>\n",
       "      <td>9.150</td>\n",
       "    </tr>\n",
       "    <tr>\n",
       "      <th>191</th>\n",
       "      <td>0.622355</td>\n",
       "      <td>0.179261</td>\n",
       "      <td>4.530</td>\n",
       "    </tr>\n",
       "    <tr>\n",
       "      <th>160</th>\n",
       "      <td>0.541939</td>\n",
       "      <td>0.269903</td>\n",
       "      <td>3.770</td>\n",
       "    </tr>\n",
       "    <tr>\n",
       "      <th>78</th>\n",
       "      <td>0.451199</td>\n",
       "      <td>0.167126</td>\n",
       "      <td>3.850</td>\n",
       "    </tr>\n",
       "  </tbody>\n",
       "</table>\n",
       "<p>110 rows × 3 columns</p>\n",
       "</div>"
      ],
      "text/plain": [
       "        MLOGP     RDCHI  quantitative response of LC50\n",
       "358  0.655124  0.384446                          4.010\n",
       "312  0.625882  0.187167                          5.430\n",
       "280  0.636399  0.166942                          4.787\n",
       "465  0.579454  0.284243                          3.601\n",
       "166  0.427729  0.203714                          1.888\n",
       "..        ...       ...                            ...\n",
       "359  0.563871  0.412392                          3.917\n",
       "471  0.486790  0.300974                          9.150\n",
       "191  0.622355  0.179261                          4.530\n",
       "160  0.541939  0.269903                          3.770\n",
       "78   0.451199  0.167126                          3.850\n",
       "\n",
       "[110 rows x 3 columns]"
      ]
     },
     "execution_count": 9,
     "metadata": {},
     "output_type": "execute_result"
    }
   ],
   "source": [
    "test"
   ]
  },
  {
   "cell_type": "code",
   "execution_count": 10,
   "id": "72fb5c78",
   "metadata": {},
   "outputs": [
    {
     "data": {
      "image/png": "[encoded data removed]",
      "text/plain": [
       "<Figure size 432x288 with 1 Axes>"
      ]
     },
     "metadata": {
      "needs_background": "light"
     },
     "output_type": "display_data"
    }
   ],
   "source": [
    "ax = plt.axes(projection='3d')\n",
    "\n",
    "# Data for three-dimensional scattered points\n",
    "zdata = train[\"quantitative response of LC50\"]\n",
    "xdata = train[\"RDCHI\"]\n",
    "ydata = train[\"MLOGP\"]\n",
    "ax.scatter3D(xdata, ydata, zdata, c=zdata, cmap='Greens');"
   ]
  },
  {
   "cell_type": "code",
   "execution_count": 11,
   "id": "16cf1ca1",
   "metadata": {},
   "outputs": [
    {
     "data": {
      "text/html": [
       "<div>\n",
       "<style scoped>\n",
       "    .dataframe tbody tr th:only-of-type {\n",
       "        vertical-align: middle;\n",
       "    }\n",
       "\n",
       "    .dataframe tbody tr th {\n",
       "        vertical-align: top;\n",
       "    }\n",
       "\n",
       "    .dataframe thead th {\n",
       "        text-align: right;\n",
       "    }\n",
       "</style>\n",
       "<table border=\"1\" class=\"dataframe\">\n",
       "  <thead>\n",
       "    <tr style=\"text-align: right;\">\n",
       "      <th></th>\n",
       "      <th>RDCHI</th>\n",
       "      <th>MLOGP</th>\n",
       "    </tr>\n",
       "  </thead>\n",
       "  <tbody>\n",
       "    <tr>\n",
       "      <th>79</th>\n",
       "      <td>0.403935</td>\n",
       "      <td>0.645376</td>\n",
       "    </tr>\n",
       "    <tr>\n",
       "      <th>407</th>\n",
       "      <td>0.245266</td>\n",
       "      <td>0.502822</td>\n",
       "    </tr>\n",
       "    <tr>\n",
       "      <th>397</th>\n",
       "      <td>0.291782</td>\n",
       "      <td>0.431897</td>\n",
       "    </tr>\n",
       "    <tr>\n",
       "      <th>213</th>\n",
       "      <td>0.093583</td>\n",
       "      <td>0.505836</td>\n",
       "    </tr>\n",
       "    <tr>\n",
       "      <th>84</th>\n",
       "      <td>0.235521</td>\n",
       "      <td>0.641785</td>\n",
       "    </tr>\n",
       "    <tr>\n",
       "      <th>...</th>\n",
       "      <td>...</td>\n",
       "      <td>...</td>\n",
       "    </tr>\n",
       "    <tr>\n",
       "      <th>97</th>\n",
       "      <td>0.271741</td>\n",
       "      <td>0.559125</td>\n",
       "    </tr>\n",
       "    <tr>\n",
       "      <th>31</th>\n",
       "      <td>0.048722</td>\n",
       "      <td>0.556111</td>\n",
       "    </tr>\n",
       "    <tr>\n",
       "      <th>485</th>\n",
       "      <td>0.199669</td>\n",
       "      <td>0.493267</td>\n",
       "    </tr>\n",
       "    <tr>\n",
       "      <th>400</th>\n",
       "      <td>0.253172</td>\n",
       "      <td>0.525459</td>\n",
       "    </tr>\n",
       "    <tr>\n",
       "      <th>296</th>\n",
       "      <td>0.154440</td>\n",
       "      <td>0.464409</td>\n",
       "    </tr>\n",
       "  </tbody>\n",
       "</table>\n",
       "<p>436 rows × 2 columns</p>\n",
       "</div>"
      ],
      "text/plain": [
       "        RDCHI     MLOGP\n",
       "79   0.403935  0.645376\n",
       "407  0.245266  0.502822\n",
       "397  0.291782  0.431897\n",
       "213  0.093583  0.505836\n",
       "84   0.235521  0.641785\n",
       "..        ...       ...\n",
       "97   0.271741  0.559125\n",
       "31   0.048722  0.556111\n",
       "485  0.199669  0.493267\n",
       "400  0.253172  0.525459\n",
       "296  0.154440  0.464409\n",
       "\n",
       "[436 rows x 2 columns]"
      ]
     },
     "execution_count": 11,
     "metadata": {},
     "output_type": "execute_result"
    }
   ],
   "source": [
    "dataF = pd.DataFrame(train[[\"RDCHI\", \"MLOGP\"]])\n",
    "dataF"
   ]
  },
  {
   "cell_type": "code",
   "execution_count": 12,
   "id": "d79abd31",
   "metadata": {},
   "outputs": [
    {
     "data": {
      "text/html": [
       "<div>\n",
       "<style scoped>\n",
       "    .dataframe tbody tr th:only-of-type {\n",
       "        vertical-align: middle;\n",
       "    }\n",
       "\n",
       "    .dataframe tbody tr th {\n",
       "        vertical-align: top;\n",
       "    }\n",
       "\n",
       "    .dataframe thead th {\n",
       "        text-align: right;\n",
       "    }\n",
       "</style>\n",
       "<table border=\"1\" class=\"dataframe\">\n",
       "  <thead>\n",
       "    <tr style=\"text-align: right;\">\n",
       "      <th></th>\n",
       "      <th>quantitative response of LC50</th>\n",
       "    </tr>\n",
       "  </thead>\n",
       "  <tbody>\n",
       "    <tr>\n",
       "      <th>79</th>\n",
       "      <td>4.878</td>\n",
       "    </tr>\n",
       "    <tr>\n",
       "      <th>407</th>\n",
       "      <td>4.606</td>\n",
       "    </tr>\n",
       "    <tr>\n",
       "      <th>397</th>\n",
       "      <td>3.339</td>\n",
       "    </tr>\n",
       "    <tr>\n",
       "      <th>213</th>\n",
       "      <td>2.576</td>\n",
       "    </tr>\n",
       "    <tr>\n",
       "      <th>84</th>\n",
       "      <td>5.548</td>\n",
       "    </tr>\n",
       "    <tr>\n",
       "      <th>...</th>\n",
       "      <td>...</td>\n",
       "    </tr>\n",
       "    <tr>\n",
       "      <th>97</th>\n",
       "      <td>3.331</td>\n",
       "    </tr>\n",
       "    <tr>\n",
       "      <th>31</th>\n",
       "      <td>3.718</td>\n",
       "    </tr>\n",
       "    <tr>\n",
       "      <th>485</th>\n",
       "      <td>9.099</td>\n",
       "    </tr>\n",
       "    <tr>\n",
       "      <th>400</th>\n",
       "      <td>4.790</td>\n",
       "    </tr>\n",
       "    <tr>\n",
       "      <th>296</th>\n",
       "      <td>6.251</td>\n",
       "    </tr>\n",
       "  </tbody>\n",
       "</table>\n",
       "<p>436 rows × 1 columns</p>\n",
       "</div>"
      ],
      "text/plain": [
       "     quantitative response of LC50\n",
       "79                           4.878\n",
       "407                          4.606\n",
       "397                          3.339\n",
       "213                          2.576\n",
       "84                           5.548\n",
       "..                             ...\n",
       "97                           3.331\n",
       "31                           3.718\n",
       "485                          9.099\n",
       "400                          4.790\n",
       "296                          6.251\n",
       "\n",
       "[436 rows x 1 columns]"
      ]
     },
     "execution_count": 12,
     "metadata": {},
     "output_type": "execute_result"
    }
   ],
   "source": [
    "targetF = pd.DataFrame(train[\"quantitative response of LC50\"])\n",
    "targetF"
   ]
  },
  {
   "cell_type": "code",
   "execution_count": 13,
   "id": "b4d519d5",
   "metadata": {
    "scrolled": false
   },
   "outputs": [
    {
     "name": "stdout",
     "output_type": "stream",
     "text": [
      "(436, 1)\n",
      "(436, 55)\n",
      "0.40393454679168966\n"
     ]
    }
   ],
   "source": [
    "# Value order to be followed: x1,x2, x1^2,x1x2,x2^2, x1^3,x1^2x2,x1x2^2,x2^3.... meant for all degrees of gradient descent\n",
    "valX = dataF[dataF.columns[:]].to_numpy()\n",
    "valX1 = valX[:,0]**2 ##------------------------------------------------------------------------------------------------x1^2\n",
    "valX = np.append(valX, np.column_stack([valX1]), axis = 1)\n",
    "valX1 = valX[:,0]*valX[:,1] #------------------------------------------------------------------------------------------x1x2\n",
    "valX = np.append(valX, np.column_stack([valX1]), axis = 1)\n",
    "valX1 = valX[:,1]**2 ##------------------------------------------------------------------------------------------------x2^2\n",
    "valX = np.append(valX, np.column_stack([valX1]), axis = 1)\n",
    "\n",
    "valX1 = valX[:,0]**3 ##------------------------------------------------------------------------------------------------x1^3\n",
    "valX = np.append(valX, np.column_stack([valX1]), axis = 1)\n",
    "valX1 = (valX[:,0]**2)*(valX[:,1]) ##----------------------------------------------------------------------------------x1^2x2\n",
    "valX = np.append(valX, np.column_stack([valX1]), axis = 1)\n",
    "valX1 = (valX[:,0])*(valX[:,1]**2) ##----------------------------------------------------------------------------------x1x2^2\n",
    "valX = np.append(valX, np.column_stack([valX1]), axis = 1)\n",
    "valX1 = valX[:,1]**3 #-------------------------------------------------------------------------------------------------x2^3\n",
    "valX = np.append(valX, np.column_stack([valX1]), axis = 1)\n",
    "\n",
    "valX1 = valX[:,0]**4 #-------------------------------------------------------------------------------------------------x1^4\n",
    "valX = np.append(valX, np.column_stack([valX1]), axis = 1)\n",
    "valX1 = (valX[:,0]**3)*(valX[:,1]) #-----------------------------------------------------------------------------------x1^3x2\n",
    "valX = np.append(valX, np.column_stack([valX1]), axis = 1)\n",
    "valX1 = (valX[:,0]**2)*(valX[:,1]**2) #--------------------------------------------------------------------------------x1^2x2^2\n",
    "valX = np.append(valX, np.column_stack([valX1]), axis = 1)\n",
    "valX1 = (valX[:,0])*(valX[:,1]**3) #-----------------------------------------------------------------------------------x1x2^3\n",
    "valX = np.append(valX, np.column_stack([valX1]), axis = 1)\n",
    "valX1 = valX[:,1]**4 #-------------------------------------------------------------------------------------------------x2^4\n",
    "valX = np.append(valX, np.column_stack([valX1]), axis = 1)\n",
    "\n",
    "valX1 = valX[:,0]**5 #-------------------------------------------------------------------------------------------------x1^5\n",
    "valX = np.append(valX, np.column_stack([valX1]), axis = 1)\n",
    "valX1 = (valX[:,0]**4)*(valX[:,1]) #-----------------------------------------------------------------------------------x1^4x2\n",
    "valX = np.append(valX, np.column_stack([valX1]), axis = 1)\n",
    "valX1 = (valX[:,0]**3)*(valX[:,1]**2) #--------------------------------------------------------------------------------x1^3x2^2\n",
    "valX = np.append(valX, np.column_stack([valX1]), axis = 1)\n",
    "valX1 = (valX[:,0]**2)*(valX[:,1]**3) #--------------------------------------------------------------------------------x1^2x2^3\n",
    "valX = np.append(valX, np.column_stack([valX1]), axis = 1)\n",
    "valX1 = (valX[:,0])*(valX[:,1]**4) #-----------------------------------------------------------------------------------x1x2^4\n",
    "valX = np.append(valX, np.column_stack([valX1]), axis = 1)\n",
    "valX1 = valX[:,1]**5 #-------------------------------------------------------------------------------------------------x2^5\n",
    "valX = np.append(valX, np.column_stack([valX1]), axis = 1)\n",
    "\n",
    "valX1 = valX[:,0]**6 #-------------------------------------------------------------------------------------------------x1^6\n",
    "valX = np.append(valX, np.column_stack([valX1]), axis = 1)\n",
    "valX1 = (valX[:,0]**5)*(valX[:,1]) #-----------------------------------------------------------------------------------x1^5x2\n",
    "valX = np.append(valX, np.column_stack([valX1]), axis = 1)\n",
    "valX1 = (valX[:,0]**4)*(valX[:,1]**2) #--------------------------------------------------------------------------------x1^4x2^2\n",
    "valX = np.append(valX, np.column_stack([valX1]), axis = 1)\n",
    "valX1 = (valX[:,0]**3)*(valX[:,1]**3) #--------------------------------------------------------------------------------x1^3x2^3\n",
    "valX = np.append(valX, np.column_stack([valX1]), axis = 1)\n",
    "valX1 = (valX[:,0]**2)*(valX[:,1]**4) #--------------------------------------------------------------------------------x1^2x2^4\n",
    "valX = np.append(valX, np.column_stack([valX1]), axis = 1)\n",
    "valX1 = (valX[:,0])*(valX[:,1]**5) #-----------------------------------------------------------------------------------x1x2^4\n",
    "valX = np.append(valX, np.column_stack([valX1]), axis = 1)\n",
    "valX1 = valX[:,1]**6 #-------------------------------------------------------------------------------------------------x2^6\n",
    "valX = np.append(valX, np.column_stack([valX1]), axis = 1)\n",
    "\n",
    "valX1 = valX[:,0]**7 #-------------------------------------------------------------------------------------------------x1^7\n",
    "valX = np.append(valX, np.column_stack([valX1]), axis = 1)\n",
    "valX1 = (valX[:,0]**6)*(valX[:,1]) #-----------------------------------------------------------------------------------x1^6x2\n",
    "valX = np.append(valX, np.column_stack([valX1]), axis = 1)\n",
    "valX1 = (valX[:,0]**5)*(valX[:,1]**2) #--------------------------------------------------------------------------------x1^5x2^2\n",
    "valX = np.append(valX, np.column_stack([valX1]), axis = 1)\n",
    "valX1 = (valX[:,0]**4)*(valX[:,1]**3) #--------------------------------------------------------------------------------x1^4x2^3\n",
    "valX = np.append(valX, np.column_stack([valX1]), axis = 1)\n",
    "valX1 = (valX[:,0]**3)*(valX[:,1]**4) #--------------------------------------------------------------------------------x1^3x2^4\n",
    "valX = np.append(valX, np.column_stack([valX1]), axis = 1)\n",
    "valX1 = (valX[:,0]**2)*(valX[:,1]**5) #--------------------------------------------------------------------------------x1^2x2^5\n",
    "valX = np.append(valX, np.column_stack([valX1]), axis = 1)\n",
    "valX1 = (valX[:,0])*(valX[:,1]**6) #-----------------------------------------------------------------------------------x1x2^6\n",
    "valX = np.append(valX, np.column_stack([valX1]), axis = 1)\n",
    "valX1 = valX[:,1]**7 #-------------------------------------------------------------------------------------------------x2^7\n",
    "valX = np.append(valX, np.column_stack([valX1]), axis = 1)\n",
    "\n",
    "\n",
    "valX1 = valX[:,0]**8 #-------------------------------------------------------------------------------------------------x1^8\n",
    "valX = np.append(valX, np.column_stack([valX1]), axis = 1)\n",
    "valX1 = (valX[:,0]**7)*(valX[:,1]) #-----------------------------------------------------------------------------------x1^7x2\n",
    "valX = np.append(valX, np.column_stack([valX1]), axis = 1)\n",
    "valX1 = (valX[:,0]**6)*(valX[:,1]**2) #--------------------------------------------------------------------------------x1^6x2^2\n",
    "valX = np.append(valX, np.column_stack([valX1]), axis = 1)\n",
    "valX1 = (valX[:,0]**5)*(valX[:,1]**3) #--------------------------------------------------------------------------------x1^5x2^3\n",
    "valX = np.append(valX, np.column_stack([valX1]), axis = 1)\n",
    "valX1 = (valX[:,0]**4)*(valX[:,1]**4) #--------------------------------------------------------------------------------x1^4x2^4\n",
    "valX = np.append(valX, np.column_stack([valX1]), axis = 1)\n",
    "valX1 = (valX[:,0]**3)*(valX[:,1]**5) #--------------------------------------------------------------------------------x1^3x2^5\n",
    "valX = np.append(valX, np.column_stack([valX1]), axis = 1)\n",
    "valX1 = (valX[:,0]**2)*(valX[:,1]**6) #--------------------------------------------------------------------------------x1^2x2^6\n",
    "valX = np.append(valX, np.column_stack([valX1]), axis = 1)\n",
    "valX1 = (valX[:,0])*(valX[:,1]**7) #-----------------------------------------------------------------------------------x1x2^7\n",
    "valX = np.append(valX, np.column_stack([valX1]), axis = 1)\n",
    "valX1 = valX[:,1]**8 #-------------------------------------------------------------------------------------------------x2^8\n",
    "valX = np.append(valX, np.column_stack([valX1]), axis = 1)\n",
    "\n",
    "valX1 = valX[:,0]**9 #-------------------------------------------------------------------------------------------------x1^9\n",
    "valX = np.append(valX, np.column_stack([valX1]), axis = 1)\n",
    "valX1 = (valX[:,0]**8)*(valX[:,1]) #-----------------------------------------------------------------------------------x1^8x2\n",
    "valX = np.append(valX, np.column_stack([valX1]), axis = 1)\n",
    "valX1 = (valX[:,0]**7)*(valX[:,1]**2) #--------------------------------------------------------------------------------x1^7x2^2\n",
    "valX = np.append(valX, np.column_stack([valX1]), axis = 1)\n",
    "valX1 = (valX[:,0]**6)*(valX[:,1]**3) #--------------------------------------------------------------------------------x1^6x2^3\n",
    "valX = np.append(valX, np.column_stack([valX1]), axis = 1)\n",
    "valX1 = (valX[:,0]**5)*(valX[:,1]**4) #--------------------------------------------------------------------------------x1^5x2^4\n",
    "valX = np.append(valX, np.column_stack([valX1]), axis = 1)\n",
    "valX1 = (valX[:,0]**4)*(valX[:,1]**5) #--------------------------------------------------------------------------------x1^4x2^5\n",
    "valX = np.append(valX, np.column_stack([valX1]), axis = 1)\n",
    "valX1 = (valX[:,0]**3)*(valX[:,1]**6) #--------------------------------------------------------------------------------x1^3x2^6\n",
    "valX = np.append(valX, np.column_stack([valX1]), axis = 1)\n",
    "valX1 = (valX[:,0]**2)*(valX[:,1]**7) #--------------------------------------------------------------------------------x1^3x2^6\n",
    "valX = np.append(valX, np.column_stack([valX1]), axis = 1)\n",
    "valX1 = (valX[:,0])*(valX[:,1]**8) #-----------------------------------------------------------------------------------x1x2^8\n",
    "valX = np.append(valX, np.column_stack([valX1]), axis = 1)\n",
    "valX1 = valX[:,1]**9 #-------------------------------------------------------------------------------------------------x2^9\n",
    "valX = np.append(valX, np.column_stack([valX1]), axis = 1)\n",
    "\n",
    "valX = np.append(np.ones((436,1)), valX, axis=1)\n",
    "\n",
    "valY = targetF[targetF.columns[:]].to_numpy()\n",
    "print(np.shape(valY))\n",
    "print(np.shape(valX))\n",
    "# valX is the nd array of target values and their exponents, valY is the respective Yn for every x1n and x2n\n",
    "\n",
    "print(valX[0,1])\n"
   ]
  },
  {
   "cell_type": "code",
   "execution_count": 14,
   "id": "cbb0e298",
   "metadata": {},
   "outputs": [
    {
     "data": {
      "text/html": [
       "<div>\n",
       "<style scoped>\n",
       "    .dataframe tbody tr th:only-of-type {\n",
       "        vertical-align: middle;\n",
       "    }\n",
       "\n",
       "    .dataframe tbody tr th {\n",
       "        vertical-align: top;\n",
       "    }\n",
       "\n",
       "    .dataframe thead th {\n",
       "        text-align: right;\n",
       "    }\n",
       "</style>\n",
       "<table border=\"1\" class=\"dataframe\">\n",
       "  <thead>\n",
       "    <tr style=\"text-align: right;\">\n",
       "      <th></th>\n",
       "      <th>RDCHI</th>\n",
       "      <th>MLOGP</th>\n",
       "    </tr>\n",
       "  </thead>\n",
       "  <tbody>\n",
       "    <tr>\n",
       "      <th>358</th>\n",
       "      <td>0.384446</td>\n",
       "      <td>0.655124</td>\n",
       "    </tr>\n",
       "    <tr>\n",
       "      <th>312</th>\n",
       "      <td>0.187167</td>\n",
       "      <td>0.625882</td>\n",
       "    </tr>\n",
       "    <tr>\n",
       "      <th>280</th>\n",
       "      <td>0.166942</td>\n",
       "      <td>0.636399</td>\n",
       "    </tr>\n",
       "    <tr>\n",
       "      <th>465</th>\n",
       "      <td>0.284243</td>\n",
       "      <td>0.579454</td>\n",
       "    </tr>\n",
       "    <tr>\n",
       "      <th>166</th>\n",
       "      <td>0.203714</td>\n",
       "      <td>0.427729</td>\n",
       "    </tr>\n",
       "    <tr>\n",
       "      <th>...</th>\n",
       "      <td>...</td>\n",
       "      <td>...</td>\n",
       "    </tr>\n",
       "    <tr>\n",
       "      <th>359</th>\n",
       "      <td>0.412392</td>\n",
       "      <td>0.563871</td>\n",
       "    </tr>\n",
       "    <tr>\n",
       "      <th>471</th>\n",
       "      <td>0.300974</td>\n",
       "      <td>0.486790</td>\n",
       "    </tr>\n",
       "    <tr>\n",
       "      <th>191</th>\n",
       "      <td>0.179261</td>\n",
       "      <td>0.622355</td>\n",
       "    </tr>\n",
       "    <tr>\n",
       "      <th>160</th>\n",
       "      <td>0.269903</td>\n",
       "      <td>0.541939</td>\n",
       "    </tr>\n",
       "    <tr>\n",
       "      <th>78</th>\n",
       "      <td>0.167126</td>\n",
       "      <td>0.451199</td>\n",
       "    </tr>\n",
       "  </tbody>\n",
       "</table>\n",
       "<p>110 rows × 2 columns</p>\n",
       "</div>"
      ],
      "text/plain": [
       "        RDCHI     MLOGP\n",
       "358  0.384446  0.655124\n",
       "312  0.187167  0.625882\n",
       "280  0.166942  0.636399\n",
       "465  0.284243  0.579454\n",
       "166  0.203714  0.427729\n",
       "..        ...       ...\n",
       "359  0.412392  0.563871\n",
       "471  0.300974  0.486790\n",
       "191  0.179261  0.622355\n",
       "160  0.269903  0.541939\n",
       "78   0.167126  0.451199\n",
       "\n",
       "[110 rows x 2 columns]"
      ]
     },
     "execution_count": 14,
     "metadata": {},
     "output_type": "execute_result"
    }
   ],
   "source": [
    "testX = pd.DataFrame(test[[\"RDCHI\", \"MLOGP\"]])\n",
    "testY = pd.DataFrame(test['quantitative response of LC50'])\n",
    "testX"
   ]
  },
  {
   "cell_type": "code",
   "execution_count": 15,
   "id": "3c103a6f",
   "metadata": {},
   "outputs": [
    {
     "data": {
      "text/html": [
       "<div>\n",
       "<style scoped>\n",
       "    .dataframe tbody tr th:only-of-type {\n",
       "        vertical-align: middle;\n",
       "    }\n",
       "\n",
       "    .dataframe tbody tr th {\n",
       "        vertical-align: top;\n",
       "    }\n",
       "\n",
       "    .dataframe thead th {\n",
       "        text-align: right;\n",
       "    }\n",
       "</style>\n",
       "<table border=\"1\" class=\"dataframe\">\n",
       "  <thead>\n",
       "    <tr style=\"text-align: right;\">\n",
       "      <th></th>\n",
       "      <th>quantitative response of LC50</th>\n",
       "    </tr>\n",
       "  </thead>\n",
       "  <tbody>\n",
       "    <tr>\n",
       "      <th>358</th>\n",
       "      <td>4.010</td>\n",
       "    </tr>\n",
       "    <tr>\n",
       "      <th>312</th>\n",
       "      <td>5.430</td>\n",
       "    </tr>\n",
       "    <tr>\n",
       "      <th>280</th>\n",
       "      <td>4.787</td>\n",
       "    </tr>\n",
       "    <tr>\n",
       "      <th>465</th>\n",
       "      <td>3.601</td>\n",
       "    </tr>\n",
       "    <tr>\n",
       "      <th>166</th>\n",
       "      <td>1.888</td>\n",
       "    </tr>\n",
       "    <tr>\n",
       "      <th>...</th>\n",
       "      <td>...</td>\n",
       "    </tr>\n",
       "    <tr>\n",
       "      <th>359</th>\n",
       "      <td>3.917</td>\n",
       "    </tr>\n",
       "    <tr>\n",
       "      <th>471</th>\n",
       "      <td>9.150</td>\n",
       "    </tr>\n",
       "    <tr>\n",
       "      <th>191</th>\n",
       "      <td>4.530</td>\n",
       "    </tr>\n",
       "    <tr>\n",
       "      <th>160</th>\n",
       "      <td>3.770</td>\n",
       "    </tr>\n",
       "    <tr>\n",
       "      <th>78</th>\n",
       "      <td>3.850</td>\n",
       "    </tr>\n",
       "  </tbody>\n",
       "</table>\n",
       "<p>110 rows × 1 columns</p>\n",
       "</div>"
      ],
      "text/plain": [
       "     quantitative response of LC50\n",
       "358                          4.010\n",
       "312                          5.430\n",
       "280                          4.787\n",
       "465                          3.601\n",
       "166                          1.888\n",
       "..                             ...\n",
       "359                          3.917\n",
       "471                          9.150\n",
       "191                          4.530\n",
       "160                          3.770\n",
       "78                           3.850\n",
       "\n",
       "[110 rows x 1 columns]"
      ]
     },
     "execution_count": 15,
     "metadata": {},
     "output_type": "execute_result"
    }
   ],
   "source": [
    "testY"
   ]
  },
  {
   "cell_type": "code",
   "execution_count": 16,
   "id": "0ac60508",
   "metadata": {},
   "outputs": [
    {
     "name": "stdout",
     "output_type": "stream",
     "text": [
      "(110, 1)\n",
      "(110, 55)\n",
      "0.3844456701599559\n"
     ]
    }
   ],
   "source": [
    "# Value order to be followed: x1,x2, x1^2,x1x2,x2^2, x1^3,x1^2x2,x1x2^2,x2^3.... meant for all degrees to make measure errors\n",
    "testXVal = testX[testX.columns[:]].to_numpy()\n",
    "testXVal1 = testXVal[:,0]**2 ##-----------------------------------------------------------------------------------------x1^2\n",
    "testXVal = np.append(testXVal, np.column_stack([testXVal1]), axis = 1)\n",
    "testXVal1 = testXVal[:,0]*testXVal[:,1] #-------------------------------------------------------------------------------x1x2\n",
    "testXVal = np.append(testXVal, np.column_stack([testXVal1]), axis = 1)\n",
    "testXVal1 = testXVal[:,1]**2 ##-----------------------------------------------------------------------------------------x2^2\n",
    "testXVal = np.append(testXVal, np.column_stack([testXVal1]), axis = 1)\n",
    "\n",
    "testXVal1 = testXVal[:,0]**3 ##-----------------------------------------------------------------------------------------x1^3\n",
    "testXVal = np.append(testXVal, np.column_stack([testXVal1]), axis = 1)\n",
    "testXVal1 = (testXVal[:,0]**2)*(testXVal[:,1]) ##-----------------------------------------------------------------------x1^2x2\n",
    "testXVal = np.append(testXVal, np.column_stack([testXVal1]), axis = 1)\n",
    "testXVal1 = (testXVal[:,0])*(testXVal[:,1]**2) ##-----------------------------------------------------------------------x1x2^2\n",
    "testXVal = np.append(testXVal, np.column_stack([testXVal1]), axis = 1)\n",
    "testXVal1 = testXVal[:,1]**3 #------------------------------------------------------------------------------------------x2^3\n",
    "testXVal = np.append(testXVal, np.column_stack([testXVal1]), axis = 1)\n",
    "\n",
    "testXVal1 = testXVal[:,0]**4 #------------------------------------------------------------------------------------------x1^4\n",
    "testXVal = np.append(testXVal, np.column_stack([testXVal1]), axis = 1)\n",
    "testXVal1 = (testXVal[:,0]**3)*(testXVal[:,1]) #------------------------------------------------------------------------x1^3x2\n",
    "testXVal = np.append(testXVal, np.column_stack([testXVal1]), axis = 1)\n",
    "testXVal1 = (testXVal[:,0]**2)*(testXVal[:,1]**2) #---------------------------------------------------------------------x1^2x2^2\n",
    "testXVal = np.append(testXVal, np.column_stack([testXVal1]), axis = 1)\n",
    "testXVal1 = (testXVal[:,0])*(testXVal[:,1]**3) #------------------------------------------------------------------------x1x2^3\n",
    "testXVal = np.append(testXVal, np.column_stack([testXVal1]), axis = 1)\n",
    "testXVal1 = testXVal[:,1]**4 #------------------------------------------------------------------------------------------x2^4\n",
    "testXVal = np.append(testXVal, np.column_stack([testXVal1]), axis = 1)\n",
    "\n",
    "testXVal1 = testXVal[:,0]**5 #------------------------------------------------------------------------------------------x1^5\n",
    "testXVal = np.append(testXVal, np.column_stack([testXVal1]), axis = 1)\n",
    "testXVal1 = (testXVal[:,0]**4)*(testXVal[:,1]) #------------------------------------------------------------------------x1^4x2\n",
    "testXVal = np.append(testXVal, np.column_stack([testXVal1]), axis = 1)\n",
    "testXVal1 = (testXVal[:,0]**3)*(testXVal[:,1]**2) #---------------------------------------------------------------------x1^3x2^2\n",
    "testXVal = np.append(testXVal, np.column_stack([testXVal1]), axis = 1)\n",
    "testXVal1 = (testXVal[:,0]**2)*(testXVal[:,1]**3) #---------------------------------------------------------------------x1^2x2^3\n",
    "testXVal = np.append(testXVal, np.column_stack([testXVal1]), axis = 1)\n",
    "testXVal1 = (testXVal[:,0])*(testXVal[:,1]**4) #------------------------------------------------------------------------x1x2^4\n",
    "testXVal = np.append(testXVal, np.column_stack([testXVal1]), axis = 1)\n",
    "testXVal1 = testXVal[:,1]**5 #------------------------------------------------------------------------------------------x2^5\n",
    "testXVal = np.append(testXVal, np.column_stack([testXVal1]), axis = 1)\n",
    "\n",
    "testXVal1 = testXVal[:,0]**6 #------------------------------------------------------------------------------------------x1^6\n",
    "testXVal = np.append(testXVal, np.column_stack([testXVal1]), axis = 1)\n",
    "testXVal1 = (testXVal[:,0]**5)*(testXVal[:,1]) #------------------------------------------------------------------------x1^5x2\n",
    "testXVal = np.append(testXVal, np.column_stack([testXVal1]), axis = 1)\n",
    "testXVal1 = (testXVal[:,0]**4)*(testXVal[:,1]**2) #---------------------------------------------------------------------x1^4x2^2\n",
    "testXVal = np.append(testXVal, np.column_stack([testXVal1]), axis = 1)\n",
    "testXVal1 = (testXVal[:,0]**3)*(testXVal[:,1]**3) #---------------------------------------------------------------------x1^3x2^3\n",
    "testXVal = np.append(testXVal, np.column_stack([testXVal1]), axis = 1)\n",
    "testXVal1 = (testXVal[:,0]**2)*(testXVal[:,1]**4) #---------------------------------------------------------------------x1^2x2^4\n",
    "testXVal = np.append(testXVal, np.column_stack([testXVal1]), axis = 1)\n",
    "testXVal1 = (testXVal[:,0])*(testXVal[:,1]**5) #------------------------------------------------------------------------x1x2^4\n",
    "testXVal = np.append(testXVal, np.column_stack([testXVal1]), axis = 1)\n",
    "testXVal1 = testXVal[:,1]**6 #------------------------------------------------------------------------------------------x2^6\n",
    "testXVal = np.append(testXVal, np.column_stack([testXVal1]), axis = 1)\n",
    "\n",
    "testXVal1 = testXVal[:,0]**7 #------------------------------------------------------------------------------------------x1^7\n",
    "testXVal = np.append(testXVal, np.column_stack([testXVal1]), axis = 1)\n",
    "testXVal1 = (testXVal[:,0]**6)*(testXVal[:,1]) #------------------------------------------------------------------------x1^6x2\n",
    "testXVal = np.append(testXVal, np.column_stack([testXVal1]), axis = 1)\n",
    "testXVal1 = (testXVal[:,0]**5)*(testXVal[:,1]**2) #---------------------------------------------------------------------x1^5x2^2\n",
    "testXVal = np.append(testXVal, np.column_stack([testXVal1]), axis = 1)\n",
    "testXVal1 = (testXVal[:,0]**4)*(testXVal[:,1]**3) #---------------------------------------------------------------------x1^4x2^3\n",
    "testXVal = np.append(testXVal, np.column_stack([testXVal1]), axis = 1)\n",
    "testXVal1 = (testXVal[:,0]**3)*(testXVal[:,1]**4) #---------------------------------------------------------------------x1^3x2^4\n",
    "testXVal = np.append(testXVal, np.column_stack([testXVal1]), axis = 1)\n",
    "testXVal1 = (testXVal[:,0]**2)*(testXVal[:,1]**5) #---------------------------------------------------------------------x1^2x2^5\n",
    "testXVal = np.append(testXVal, np.column_stack([testXVal1]), axis = 1)\n",
    "testXVal1 = (testXVal[:,0])*(testXVal[:,1]**6) #------------------------------------------------------------------------x1x2^6\n",
    "testXVal = np.append(testXVal, np.column_stack([testXVal1]), axis = 1)\n",
    "testXVal1 = testXVal[:,1]**7 #------------------------------------------------------------------------------------------x2^7\n",
    "testXVal = np.append(testXVal, np.column_stack([testXVal1]), axis = 1)\n",
    "\n",
    "\n",
    "testXVal1 = testXVal[:,0]**8 #------------------------------------------------------------------------------------------x1^8\n",
    "testXVal = np.append(testXVal, np.column_stack([testXVal1]), axis = 1)\n",
    "testXVal1 = (testXVal[:,0]**7)*(testXVal[:,1]) #------------------------------------------------------------------------x1^7x2\n",
    "testXVal = np.append(testXVal, np.column_stack([testXVal1]), axis = 1)\n",
    "testXVal1 = (testXVal[:,0]**6)*(testXVal[:,1]**2) #---------------------------------------------------------------------x1^6x2^2\n",
    "testXVal = np.append(testXVal, np.column_stack([testXVal1]), axis = 1)\n",
    "testXVal1 = (testXVal[:,0]**5)*(testXVal[:,1]**3) #---------------------------------------------------------------------x1^5x2^3\n",
    "testXVal = np.append(testXVal, np.column_stack([testXVal1]), axis = 1)\n",
    "testXVal1 = (testXVal[:,0]**4)*(testXVal[:,1]**4) #---------------------------------------------------------------------x1^4x2^4\n",
    "testXVal = np.append(testXVal, np.column_stack([testXVal1]), axis = 1)\n",
    "testXVal1 = (testXVal[:,0]**3)*(testXVal[:,1]**5) #---------------------------------------------------------------------x1^3x2^5\n",
    "testXVal = np.append(testXVal, np.column_stack([testXVal1]), axis = 1)\n",
    "testXVal1 = (testXVal[:,0]**2)*(testXVal[:,1]**6) #---------------------------------------------------------------------x1^2x2^6\n",
    "testXVal = np.append(testXVal, np.column_stack([testXVal1]), axis = 1)\n",
    "testXVal1 = (testXVal[:,0])*(testXVal[:,1]**7) #------------------------------------------------------------------------x1x2^7\n",
    "testXVal = np.append(testXVal, np.column_stack([testXVal1]), axis = 1)\n",
    "testXVal1 = testXVal[:,1]**8 #------------------------------------------------------------------------------------------x2^8\n",
    "testXVal = np.append(testXVal, np.column_stack([testXVal1]), axis = 1)\n",
    "\n",
    "testXVal1 = testXVal[:,0]**9 #------------------------------------------------------------------------------------------x1^9\n",
    "testXVal = np.append(testXVal, np.column_stack([testXVal1]), axis = 1)\n",
    "testXVal1 = (testXVal[:,0]**8)*(testXVal[:,1]) #------------------------------------------------------------------------x1^8x2\n",
    "testXVal = np.append(testXVal, np.column_stack([testXVal1]), axis = 1)\n",
    "testXVal1 = (testXVal[:,0]**7)*(testXVal[:,1]**2) #---------------------------------------------------------------------x1^7x2^2\n",
    "testXVal = np.append(testXVal, np.column_stack([testXVal1]), axis = 1)\n",
    "testXVal1 = (testXVal[:,0]**6)*(testXVal[:,1]**3) #---------------------------------------------------------------------x1^6x2^3\n",
    "testXVal = np.append(testXVal, np.column_stack([testXVal1]), axis = 1)\n",
    "testXVal1 = (testXVal[:,0]**5)*(testXVal[:,1]**4) #---------------------------------------------------------------------x1^5x2^4\n",
    "testXVal = np.append(testXVal, np.column_stack([testXVal1]), axis = 1)\n",
    "testXVal1 = (testXVal[:,0]**4)*(testXVal[:,1]**5) #---------------------------------------------------------------------x1^4x2^5\n",
    "testXVal = np.append(testXVal, np.column_stack([testXVal1]), axis = 1)\n",
    "testXVal1 = (testXVal[:,0]**3)*(testXVal[:,1]**6) #---------------------------------------------------------------------x1^3x2^6\n",
    "testXVal = np.append(testXVal, np.column_stack([testXVal1]), axis = 1)\n",
    "testXVal1 = (testXVal[:,0]**2)*(testXVal[:,1]**7) #---------------------------------------------------------------------x1^3x2^6\n",
    "testXVal = np.append(testXVal, np.column_stack([testXVal1]), axis = 1)\n",
    "testXVal1 = (testXVal[:,0])*(testXVal[:,1]**8) #------------------------------------------------------------------------x1x2^8\n",
    "testXVal = np.append(testXVal, np.column_stack([testXVal1]), axis = 1)\n",
    "testXVal1 = testXVal[:,1]**9 #------------------------------------------------------------------------------------------x2^9\n",
    "testXVal = np.append(testXVal, np.column_stack([testXVal1]), axis = 1)\n",
    "\n",
    "testXVal = np.append(np.ones((110,1)), testXVal, axis=1)\n",
    "\n",
    "testYVal = testY[testY.columns[:]].to_numpy()\n",
    "print(np.shape(testYVal))\n",
    "print(np.shape(testXVal))\n",
    "# testXVal is the nd array of target values and their exponents, valY is the respective Yn for every x1n and x2n\n",
    "\n",
    "print(testXVal[0,1])\n"
   ]
  },
  {
   "cell_type": "code",
   "execution_count": 17,
   "id": "f7938765",
   "metadata": {},
   "outputs": [],
   "source": [
    "iters = 10000\n",
    "learningRate = 0.001 #yeta or n\n",
    "costArr= np.zeros(iters+100)\n",
    "counterArr = np.zeros(iters+100)"
   ]
  },
  {
   "cell_type": "code",
   "execution_count": 18,
   "id": "373a182c",
   "metadata": {},
   "outputs": [],
   "source": [
    "TrainErr = np.array([])\n",
    "TestErr = np.array([])"
   ]
  },
  {
   "cell_type": "code",
   "execution_count": 19,
   "id": "ca2af950",
   "metadata": {},
   "outputs": [
    {
     "name": "stdout",
     "output_type": "stream",
     "text": [
      "w0 = 4.643479357798165\n"
     ]
    },
    {
     "data": {
      "image/png": "[encoded data removed]",
      "text/plain": [
       "<Figure size 432x288 with 1 Axes>"
      ]
     },
     "metadata": {
      "needs_background": "light"
     },
     "output_type": "display_data"
    }
   ],
   "source": [
    "# Degree 0 manipulation for other degrees w = np.zeros((wSize, 1))\n",
    "w = 0\n",
    "wSize = 1\n",
    "counter = 0\n",
    "for i in range(iters):\n",
    "    #print(np.mean(valY))\n",
    "    w1 = w + learningRate*(np.sum(valY-w))\n",
    "    #print(w1,w)\n",
    "\n",
    "    counter+=1\n",
    "    costArr[counter] = (np.sum(valY-w))\n",
    "    counterArr[counter] = counter\n",
    "    w=w1\n",
    "#print(counter)\n",
    "print(\"w0 =\", w)\n",
    "fig,ax = plt.subplots()\n",
    "ax.plot(costArr[1:-1])\n",
    "plt.title(\"Gradient Descent method degree 0 - w0 values\", y = 1, pad = 30)\n",
    "plt.show() "
   ]
  },
  {
   "cell_type": "code",
   "execution_count": 20,
   "id": "a00809f9",
   "metadata": {},
   "outputs": [
    {
     "data": {
      "text/plain": [
       "1.362289285337409"
      ]
     },
     "execution_count": 20,
     "metadata": {},
     "output_type": "execute_result"
    }
   ],
   "source": [
    "#training data error for degree 0\n",
    "w1 = 0\n",
    "for i in range(np.shape(valX)[0]):\n",
    "    w1+= (np.sum(w*valX[i,0]) - valY[i,0])**2\n",
    "\n",
    "TrainErr = np.append(TrainErr,w1/(np.shape(valX)[0]*2))\n",
    "w1/(np.shape(valX)[0]*2)"
   ]
  },
  {
   "cell_type": "code",
   "execution_count": 21,
   "id": "898eba88",
   "metadata": {},
   "outputs": [
    {
     "data": {
      "text/plain": [
       "1.4702663557384883"
      ]
     },
     "execution_count": 21,
     "metadata": {},
     "output_type": "execute_result"
    }
   ],
   "source": [
    "# testing data error for degree 0\n",
    "testError = 0\n",
    "for i in range(np.shape(testXVal)[0]):\n",
    "    testError += (w - testYVal[i,0])**2\n",
    "\n",
    "TestErr = np.append(TestErr,testError/(np.shape(testXVal)[0]*2))\n",
    "testError/(np.shape(testXVal)[0]*2)"
   ]
  },
  {
   "cell_type": "code",
   "execution_count": 22,
   "id": "4bfd9b24",
   "metadata": {},
   "outputs": [],
   "source": [
    "degree = 1"
   ]
  },
  {
   "cell_type": "code",
   "execution_count": 23,
   "id": "7478254f",
   "metadata": {},
   "outputs": [
    {
     "name": "stdout",
     "output_type": "stream",
     "text": [
      "w0=2.962114687370763\n",
      "w1=1.4657490956374357\n",
      "w2=2.3549172780389362\n"
     ]
    },
    {
     "data": {
      "text/plain": [
       "436"
      ]
     },
     "execution_count": 23,
     "metadata": {},
     "output_type": "execute_result"
    }
   ],
   "source": [
    "wSize = int((degree+1)*(degree+2)/2)\n",
    "w = np.zeros(wSize) # similar template for others\n",
    "w1 = np.zeros(wSize)\n",
    "#print(w, '\\n', w1)\n",
    "\n",
    "counter = 0\n",
    "costArr= np.zeros(iters+1)\n",
    "counterArr = np.zeros(iters+1)\n",
    "for i in range(iters):\n",
    "    w2 = np.zeros(wSize)\n",
    "    for j in range(np.shape(valX)[0]):\n",
    "        w2 += ((valY[j,0]-np.sum(w*valX[j,:wSize]))*valX[j,:wSize])\n",
    "\n",
    "    w2 = w2/np.shape(valX)[0] #N\n",
    "    \n",
    "    w1 = w + learningRate*w2\n",
    "    w=w1\n",
    "    counter+=1\n",
    "    costArr[counter] = w2[0]\n",
    "    counterArr[counter] = counter\n",
    "\n",
    "   \n",
    "\n",
    "for i in range(np.shape(w)[0]):    \n",
    "    print(\"w\", i, \"=\", w[i], sep = '')\n",
    "\n",
    "np.shape(valX)[0]\n",
    " "
   ]
  },
  {
   "cell_type": "code",
   "execution_count": 24,
   "id": "d8e3e0cf",
   "metadata": {},
   "outputs": [
    {
     "data": {
      "image/png": "[encoded data removed]",
      "text/plain": [
       "<Figure size 432x288 with 1 Axes>"
      ]
     },
     "metadata": {
      "needs_background": "light"
     },
     "output_type": "display_data"
    }
   ],
   "source": [
    "fig,ax = plt.subplots()\n",
    "ax.plot(costArr[1:-1])\n",
    "plt.title(\"Gradient Descent method degree %d - del(E) values\"% degree, y = 1, pad = 30)\n",
    "plt.show() # the number of iterations are maxed out in the end,"
   ]
  },
  {
   "cell_type": "code",
   "execution_count": 25,
   "id": "058a4c36",
   "metadata": {},
   "outputs": [
    {
     "data": {
      "text/plain": [
       "1.052807057265151"
      ]
     },
     "execution_count": 25,
     "metadata": {},
     "output_type": "execute_result"
    }
   ],
   "source": [
    "# training data error\n",
    "w1 = 0\n",
    "for i in range(np.shape(valX)[0]):\n",
    "    w1+= (np.sum(w*valX[i,:wSize]) - valY[i,0])**2\n",
    "\n",
    "TrainErr = np.append(TrainErr,w1/(np.shape(valX)[0]*2))\n",
    "w1/(np.shape(valX)[0]*2)"
   ]
  },
  {
   "cell_type": "code",
   "execution_count": 26,
   "id": "2f6dc445",
   "metadata": {},
   "outputs": [
    {
     "data": {
      "text/plain": [
       "1.2147966389197304"
      ]
     },
     "execution_count": 26,
     "metadata": {},
     "output_type": "execute_result"
    }
   ],
   "source": [
    "# testing data error\n",
    "testError = 0\n",
    "for i in range(np.shape(testXVal)[0]):\n",
    "    testError += (np.sum(w*testXVal[i,:wSize]) - testYVal[i,0])**2\n",
    "\n",
    "TestErr = np.append(TestErr,testError/(np.shape(testXVal)[0]*2))\n",
    "testError/(np.shape(testXVal)[0]*2)"
   ]
  },
  {
   "cell_type": "code",
   "execution_count": 27,
   "id": "9354419e",
   "metadata": {},
   "outputs": [],
   "source": [
    "degree = 2"
   ]
  },
  {
   "cell_type": "code",
   "execution_count": 28,
   "id": "5f27a922",
   "metadata": {},
   "outputs": [
    {
     "name": "stdout",
     "output_type": "stream",
     "text": [
      "w0=2.6021481110013833\n",
      "w1=1.1903573892713677\n",
      "w2=1.9808843870937087\n",
      "w3=0.45946367324937387\n",
      "w4=0.8222586138837299\n",
      "w5=1.4413809779382967\n"
     ]
    },
    {
     "data": {
      "text/plain": [
       "436"
      ]
     },
     "execution_count": 28,
     "metadata": {},
     "output_type": "execute_result"
    }
   ],
   "source": [
    "wSize = int((degree+1)*(degree+2)/2)\n",
    "w = np.zeros(wSize) # similar template for others\n",
    "w1 = np.zeros(wSize)\n",
    "#print(w, '\\n', w1)\n",
    "\n",
    "counter = 0\n",
    "costArr= np.zeros(iters+1)\n",
    "counterArr = np.zeros(iters+1)\n",
    "for i in range(iters):\n",
    "    w2 = np.zeros(wSize)\n",
    "    for j in range(np.shape(valX)[0]):\n",
    "        w2 += ((valY[j,0]-np.sum(w*valX[j,:wSize]))*valX[j,:wSize])\n",
    "\n",
    "    w2 = w2/np.shape(valX)[0] #N\n",
    "    \n",
    "    w1 = w + learningRate*w2\n",
    "    w=w1\n",
    "    counter+=1\n",
    "    costArr[counter] = w2[0]\n",
    "    counterArr[counter] = counter\n",
    "\n",
    "   \n",
    "\n",
    "for i in range(np.shape(w)[0]):    \n",
    "    print(\"w\", i, \"=\", w[i], sep = '')\n",
    "\n",
    "np.shape(valX)[0]\n",
    " "
   ]
  },
  {
   "cell_type": "code",
   "execution_count": 29,
   "id": "bbeda6b5",
   "metadata": {},
   "outputs": [
    {
     "data": {
      "image/png": "[encoded data removed]",
      "text/plain": [
       "<Figure size 432x288 with 1 Axes>"
      ]
     },
     "metadata": {
      "needs_background": "light"
     },
     "output_type": "display_data"
    }
   ],
   "source": [
    "fig,ax = plt.subplots()\n",
    "ax.plot(costArr[1:-1])\n",
    "plt.title(\"Gradient Descent method degree %d - del(E) values\"% degree, y = 1, pad = 30)\n",
    "plt.show() # the number of iterations are maxed out in the end,"
   ]
  },
  {
   "cell_type": "code",
   "execution_count": 30,
   "id": "4c471c05",
   "metadata": {},
   "outputs": [
    {
     "data": {
      "text/plain": [
       "0.9562166391912658"
      ]
     },
     "execution_count": 30,
     "metadata": {},
     "output_type": "execute_result"
    }
   ],
   "source": [
    "# training data error\n",
    "w1 = 0\n",
    "for i in range(np.shape(valX)[0]):\n",
    "    w1+= (np.sum(w*valX[i,:wSize]) - valY[i,0])**2\n",
    "\n",
    "TrainErr = np.append(TrainErr,w1/(np.shape(valX)[0]*2))\n",
    "w1/(np.shape(valX)[0]*2)"
   ]
  },
  {
   "cell_type": "code",
   "execution_count": 31,
   "id": "8da69579",
   "metadata": {},
   "outputs": [
    {
     "data": {
      "text/plain": [
       "1.1411449908651152"
      ]
     },
     "execution_count": 31,
     "metadata": {},
     "output_type": "execute_result"
    }
   ],
   "source": [
    "# testing data error\n",
    "testError = 0\n",
    "for i in range(np.shape(testXVal)[0]):\n",
    "    testError += (np.sum(w*testXVal[i,:wSize]) - testYVal[i,0])**2\n",
    "\n",
    "TestErr = np.append(TestErr,testError/(np.shape(testXVal)[0]*2))\n",
    "testError/(np.shape(testXVal)[0]*2)"
   ]
  },
  {
   "cell_type": "code",
   "execution_count": 32,
   "id": "29448223",
   "metadata": {},
   "outputs": [],
   "source": [
    "degree = 3"
   ]
  },
  {
   "cell_type": "code",
   "execution_count": 33,
   "id": "a8c0168e",
   "metadata": {},
   "outputs": [
    {
     "name": "stdout",
     "output_type": "stream",
     "text": [
      "w0=2.5136663996709014\n",
      "w1=1.0868117385218372\n",
      "w2=1.844434962835148\n",
      "w3=0.40029893278921963\n",
      "w4=0.7358127966796925\n",
      "w5=1.3120088680880098\n",
      "w6=0.14305384912024013\n",
      "w7=0.2744843677537663\n",
      "w8=0.5004248238002765\n",
      "w9=0.9225921018837322\n"
     ]
    },
    {
     "data": {
      "text/plain": [
       "436"
      ]
     },
     "execution_count": 33,
     "metadata": {},
     "output_type": "execute_result"
    }
   ],
   "source": [
    "wSize = int((degree+1)*(degree+2)/2)\n",
    "w = np.zeros(wSize) # similar template for others\n",
    "w1 = np.zeros(wSize)\n",
    "#print(w, '\\n', w1)\n",
    "\n",
    "counter = 0\n",
    "costArr= np.zeros(iters+1)\n",
    "counterArr = np.zeros(iters+1)\n",
    "for i in range(iters):\n",
    "    w2 = np.zeros(wSize)\n",
    "    for j in range(np.shape(valX)[0]):\n",
    "        w2 += ((valY[j,0]-np.sum(w*valX[j,:wSize]))*valX[j,:wSize])\n",
    "\n",
    "    w2 = w2/np.shape(valX)[0] #N\n",
    "    \n",
    "    w1 = w + learningRate*w2\n",
    "    w=w1\n",
    "    counter+=1\n",
    "    costArr[counter] = w2[0]\n",
    "    counterArr[counter] = counter\n",
    "\n",
    "   \n",
    "\n",
    "for i in range(np.shape(w)[0]):    \n",
    "    print(\"w\", i, \"=\", w[i], sep = '')\n",
    "\n",
    "np.shape(valX)[0]\n",
    " "
   ]
  },
  {
   "cell_type": "code",
   "execution_count": 34,
   "id": "39119c11",
   "metadata": {},
   "outputs": [
    {
     "data": {
      "image/png": "[encoded data removed]",
      "text/plain": [
       "<Figure size 432x288 with 1 Axes>"
      ]
     },
     "metadata": {
      "needs_background": "light"
     },
     "output_type": "display_data"
    }
   ],
   "source": [
    "fig,ax = plt.subplots()\n",
    "ax.plot(costArr[1:-1])\n",
    "plt.title(\"Gradient Descent method degree %d - del(E) values\"% degree, y = 1, pad = 30)\n",
    "plt.show() # the number of iterations are maxed out in the end,"
   ]
  },
  {
   "cell_type": "code",
   "execution_count": 35,
   "id": "0128406e",
   "metadata": {},
   "outputs": [
    {
     "data": {
      "text/plain": [
       "0.9247557034387169"
      ]
     },
     "execution_count": 35,
     "metadata": {},
     "output_type": "execute_result"
    }
   ],
   "source": [
    "# training data error\n",
    "w1 = 0\n",
    "for i in range(np.shape(valX)[0]):\n",
    "    w1+= (np.sum(w*valX[i,:wSize]) - valY[i,0])**2\n",
    "\n",
    "TrainErr = np.append(TrainErr,w1/(np.shape(valX)[0]*2))\n",
    "w1/(np.shape(valX)[0]*2)"
   ]
  },
  {
   "cell_type": "code",
   "execution_count": 36,
   "id": "5240f9a3",
   "metadata": {},
   "outputs": [
    {
     "data": {
      "text/plain": [
       "1.1289604011842487"
      ]
     },
     "execution_count": 36,
     "metadata": {},
     "output_type": "execute_result"
    }
   ],
   "source": [
    "# testing data error\n",
    "testError = 0\n",
    "for i in range(np.shape(testXVal)[0]):\n",
    "    testError += (np.sum(w*testXVal[i,:wSize]) - testYVal[i,0])**2\n",
    "\n",
    "TestErr = np.append(TestErr,testError/(np.shape(testXVal)[0]*2))\n",
    "testError/(np.shape(testXVal)[0]*2)"
   ]
  },
  {
   "cell_type": "code",
   "execution_count": 37,
   "id": "96faa11f",
   "metadata": {},
   "outputs": [],
   "source": [
    "degree = 4"
   ]
  },
  {
   "cell_type": "code",
   "execution_count": 38,
   "id": "128ebb46",
   "metadata": {},
   "outputs": [
    {
     "name": "stdout",
     "output_type": "stream",
     "text": [
      "w0=2.4924878531978143\n",
      "w1=1.0451461417995618\n",
      "w2=1.7896291875276373\n",
      "w3=0.37532415622479404\n",
      "w4=0.6979333495415044\n",
      "w5=1.2546010895124018\n",
      "w6=0.12902139322858078\n",
      "w7=0.25435775282480333\n",
      "w8=0.46941662640554965\n",
      "w9=0.8725033866874974\n",
      "w10=0.03567709267034246\n",
      "w11=0.09219158752099729\n",
      "w12=0.17289753008759925\n",
      "w13=0.3187754773588545\n",
      "w14=0.606782128097512\n"
     ]
    },
    {
     "data": {
      "text/plain": [
       "436"
      ]
     },
     "execution_count": 38,
     "metadata": {},
     "output_type": "execute_result"
    }
   ],
   "source": [
    "wSize = int((degree+1)*(degree+2)/2)\n",
    "w = np.zeros(wSize) # similar template for others\n",
    "w1 = np.zeros(wSize)\n",
    "#print(w, '\\n', w1)\n",
    "\n",
    "counter = 0\n",
    "costArr= np.zeros(iters+1)\n",
    "counterArr = np.zeros(iters+1)\n",
    "for i in range(iters):\n",
    "    w2 = np.zeros(wSize)\n",
    "    for j in range(np.shape(valX)[0]):\n",
    "        w2 += ((valY[j,0]-np.sum(w*valX[j,:wSize]))*valX[j,:wSize])\n",
    "\n",
    "    w2 = w2/np.shape(valX)[0] #N\n",
    "    \n",
    "    w1 = w + learningRate*w2\n",
    "    w=w1\n",
    "    counter+=1\n",
    "    costArr[counter] = w2[0]\n",
    "    counterArr[counter] = counter\n",
    "\n",
    "   \n",
    "\n",
    "for i in range(np.shape(w)[0]):    \n",
    "    print(\"w\", i, \"=\", w[i], sep = '')\n",
    "\n",
    "np.shape(valX)[0]\n",
    " "
   ]
  },
  {
   "cell_type": "code",
   "execution_count": 39,
   "id": "4e1918fc",
   "metadata": {},
   "outputs": [
    {
     "data": {
      "image/png": "[encoded data removed]",
      "text/plain": [
       "<Figure size 432x288 with 1 Axes>"
      ]
     },
     "metadata": {
      "needs_background": "light"
     },
     "output_type": "display_data"
    }
   ],
   "source": [
    "fig,ax = plt.subplots()\n",
    "ax.plot(costArr[1:-1])\n",
    "plt.title(\"Gradient Descent method degree %d - del(E) values\"% degree, y = 1, pad = 30)\n",
    "plt.show() # the number of iterations are maxed out in the end,"
   ]
  },
  {
   "cell_type": "code",
   "execution_count": 40,
   "id": "57290058",
   "metadata": {},
   "outputs": [
    {
     "data": {
      "text/plain": [
       "0.9133250368046062"
      ]
     },
     "execution_count": 40,
     "metadata": {},
     "output_type": "execute_result"
    }
   ],
   "source": [
    "# training data error\n",
    "w1 = 0\n",
    "for i in range(np.shape(valX)[0]):\n",
    "    w1+= (np.sum(w*valX[i,:wSize]) - valY[i,0])**2\n",
    "\n",
    "TrainErr = np.append(TrainErr,w1/(np.shape(valX)[0]*2))\n",
    "w1/(np.shape(valX)[0]*2)"
   ]
  },
  {
   "cell_type": "code",
   "execution_count": 41,
   "id": "d42ba72d",
   "metadata": {},
   "outputs": [
    {
     "data": {
      "text/plain": [
       "1.135610066722776"
      ]
     },
     "execution_count": 41,
     "metadata": {},
     "output_type": "execute_result"
    }
   ],
   "source": [
    "# testing data error\n",
    "testError = 0\n",
    "for i in range(np.shape(testXVal)[0]):\n",
    "    testError += (np.sum(w*testXVal[i,:wSize]) - testYVal[i,0])**2\n",
    "\n",
    "TestErr = np.append(TestErr,testError/(np.shape(testXVal)[0]*2))\n",
    "testError/(np.shape(testXVal)[0]*2)"
   ]
  },
  {
   "cell_type": "code",
   "execution_count": 42,
   "id": "5622498a",
   "metadata": {},
   "outputs": [],
   "source": [
    "degree = 5"
   ]
  },
  {
   "cell_type": "code",
   "execution_count": null,
   "id": "de4a4b69",
   "metadata": {},
   "outputs": [],
   "source": [
    "wSize = int((degree+1)*(degree+2)/2)\n",
    "w = np.zeros(wSize) # similar template for others\n",
    "w1 = np.zeros(wSize)\n",
    "#print(w, '\\n', w1)\n",
    "\n",
    "counter = 0\n",
    "costArr= np.zeros(iters+1)\n",
    "counterArr = np.zeros(iters+1)\n",
    "for i in range(iters):\n",
    "    w2 = np.zeros(wSize)\n",
    "    for j in range(np.shape(valX)[0]):\n",
    "        w2 += ((valY[j,0]-np.sum(w*valX[j,:wSize]))*valX[j,:wSize])\n",
    "\n",
    "    w2 = w2/np.shape(valX)[0] #N\n",
    "    \n",
    "    w1 = w + learningRate*w2\n",
    "    w=w1\n",
    "    counter+=1\n",
    "    costArr[counter] = w2[0]\n",
    "    counterArr[counter] = counter\n",
    "\n",
    "   \n",
    "\n",
    "for i in range(np.shape(w)[0]):    \n",
    "    print(\"w\", i, \"=\", w[i], sep = '')\n",
    "\n",
    "np.shape(valX)[0]\n",
    " "
   ]
  },
  {
   "cell_type": "code",
   "execution_count": null,
   "id": "4af8ef03",
   "metadata": {},
   "outputs": [],
   "source": [
    "fig,ax = plt.subplots()\n",
    "ax.plot(costArr[1:-1])\n",
    "plt.title(\"Gradient Descent method degree %d - del(E) values\"% degree, y = 1, pad = 30)\n",
    "plt.show() # the number of iterations are maxed out in the end,"
   ]
  },
  {
   "cell_type": "code",
   "execution_count": null,
   "id": "575b3a90",
   "metadata": {},
   "outputs": [],
   "source": [
    "# training data error\n",
    "w1 = 0\n",
    "for i in range(np.shape(valX)[0]):\n",
    "    w1+= (np.sum(w*valX[i,:wSize]) - valY[i,0])**2\n",
    "\n",
    "TrainErr = np.append(TrainErr,w1/(np.shape(valX)[0]*2))\n",
    "w1/(np.shape(valX)[0]*2)"
   ]
  },
  {
   "cell_type": "code",
   "execution_count": null,
   "id": "a48fcafb",
   "metadata": {},
   "outputs": [],
   "source": [
    "# testing data error\n",
    "testError = 0\n",
    "for i in range(np.shape(testXVal)[0]):\n",
    "    testError += (np.sum(w*testXVal[i,:wSize]) - testYVal[i,0])**2\n",
    "\n",
    "TestErr = np.append(TestErr,testError/(np.shape(testXVal)[0]*2))\n",
    "testError/(np.shape(testXVal)[0]*2)"
   ]
  },
  {
   "cell_type": "code",
   "execution_count": null,
   "id": "acf28a12",
   "metadata": {},
   "outputs": [],
   "source": [
    "degree = 6"
   ]
  },
  {
   "cell_type": "code",
   "execution_count": null,
   "id": "70a579f2",
   "metadata": {},
   "outputs": [],
   "source": [
    "wSize = int((degree+1)*(degree+2)/2)\n",
    "w = np.zeros(wSize) # similar template for others\n",
    "w1 = np.zeros(wSize)\n",
    "#print(w, '\\n', w1)\n",
    "\n",
    "counter = 0\n",
    "costArr= np.zeros(iters+1)\n",
    "counterArr = np.zeros(iters+1)\n",
    "for i in range(iters):\n",
    "    w2 = np.zeros(wSize)\n",
    "    for j in range(np.shape(valX)[0]):\n",
    "        w2 += ((valY[j,0]-np.sum(w*valX[j,:wSize]))*valX[j,:wSize])\n",
    "\n",
    "    w2 = w2/np.shape(valX)[0] #N\n",
    "    \n",
    "    w1 = w + learningRate*w2\n",
    "    w=w1\n",
    "    counter+=1\n",
    "    costArr[counter] = w2[0]\n",
    "    counterArr[counter] = counter\n",
    "\n",
    "   \n",
    "\n",
    "for i in range(np.shape(w)[0]):    \n",
    "    print(\"w\", i, \"=\", w[i], sep = '')\n",
    "\n",
    "np.shape(valX)[0]\n",
    " "
   ]
  },
  {
   "cell_type": "code",
   "execution_count": null,
   "id": "5ef4c184",
   "metadata": {},
   "outputs": [],
   "source": [
    "fig,ax = plt.subplots()\n",
    "ax.plot(costArr[1:-1])\n",
    "plt.title(\"Gradient Descent method degree %d - del(E) values\"% degree, y = 1, pad = 30)\n",
    "plt.show() # the number of iterations are maxed out in the end,"
   ]
  },
  {
   "cell_type": "code",
   "execution_count": null,
   "id": "ccbe45b6",
   "metadata": {},
   "outputs": [],
   "source": [
    "# training data error\n",
    "w1 = 0\n",
    "for i in range(np.shape(valX)[0]):\n",
    "    w1+= (np.sum(w*valX[i,:wSize]) - valY[i,0])**2\n",
    "\n",
    "TrainErr = np.append(TrainErr,w1/(np.shape(valX)[0]*2))\n",
    "w1/(np.shape(valX)[0]*2)"
   ]
  },
  {
   "cell_type": "code",
   "execution_count": null,
   "id": "519b2c17",
   "metadata": {},
   "outputs": [],
   "source": [
    "# testing data error\n",
    "testError = 0\n",
    "for i in range(np.shape(testXVal)[0]):\n",
    "    testError += (np.sum(w*testXVal[i,:wSize]) - testYVal[i,0])**2\n",
    "\n",
    "TestErr = np.append(TestErr,testError/(np.shape(testXVal)[0]*2))\n",
    "testError/(np.shape(testXVal)[0]*2)"
   ]
  },
  {
   "cell_type": "code",
   "execution_count": null,
   "id": "6c8f635b",
   "metadata": {},
   "outputs": [],
   "source": [
    "degree = 7"
   ]
  },
  {
   "cell_type": "code",
   "execution_count": null,
   "id": "a56502e6",
   "metadata": {},
   "outputs": [],
   "source": [
    "wSize = int((degree+1)*(degree+2)/2)\n",
    "w = np.zeros(wSize) # similar template for others\n",
    "w1 = np.zeros(wSize)\n",
    "#print(w, '\\n', w1)\n",
    "\n",
    "counter = 0\n",
    "costArr= np.zeros(iters+1)\n",
    "counterArr = np.zeros(iters+1)\n",
    "for i in range(iters):\n",
    "    w2 = np.zeros(wSize)\n",
    "    for j in range(np.shape(valX)[0]):\n",
    "        w2 += ((valY[j,0]-np.sum(w*valX[j,:wSize]))*valX[j,:wSize])\n",
    "\n",
    "    w2 = w2/np.shape(valX)[0] #N\n",
    "    \n",
    "    w1 = w + learningRate*w2\n",
    "    w=w1\n",
    "    counter+=1\n",
    "    costArr[counter] = w2[0]\n",
    "    counterArr[counter] = counter\n",
    "\n",
    "   \n",
    "\n",
    "for i in range(np.shape(w)[0]):    \n",
    "    print(\"w\", i, \"=\", w[i], sep = '')\n",
    "\n",
    "np.shape(valX)[0]\n",
    " "
   ]
  },
  {
   "cell_type": "code",
   "execution_count": null,
   "id": "ea52aded",
   "metadata": {},
   "outputs": [],
   "source": [
    "fig,ax = plt.subplots()\n",
    "ax.plot(costArr[1:-1])\n",
    "plt.title(\"Gradient Descent method degree %d - del(E) values\"% degree, y = 1, pad = 30)\n",
    "plt.show() # the number of iterations are maxed out in the end,"
   ]
  },
  {
   "cell_type": "code",
   "execution_count": null,
   "id": "f58e38d3",
   "metadata": {},
   "outputs": [],
   "source": [
    "# training data error\n",
    "w1 = 0\n",
    "for i in range(np.shape(valX)[0]):\n",
    "    w1+= (np.sum(w*valX[i,:wSize]) - valY[i,0])**2\n",
    "\n",
    "TrainErr = np.append(TrainErr,w1/(np.shape(valX)[0]*2))\n",
    "w1/(np.shape(valX)[0]*2)"
   ]
  },
  {
   "cell_type": "code",
   "execution_count": null,
   "id": "4b3c63bf",
   "metadata": {},
   "outputs": [],
   "source": [
    "# testing data error\n",
    "testError = 0\n",
    "for i in range(np.shape(testXVal)[0]):\n",
    "    testError += (np.sum(w*testXVal[i,:wSize]) - testYVal[i,0])**2\n",
    "\n",
    "TestErr = np.append(TestErr,testError/(np.shape(testXVal)[0]*2))\n",
    "testError/(np.shape(testXVal)[0]*2)"
   ]
  },
  {
   "cell_type": "code",
   "execution_count": null,
   "id": "366d422a",
   "metadata": {},
   "outputs": [],
   "source": [
    "degree = 8"
   ]
  },
  {
   "cell_type": "code",
   "execution_count": null,
   "id": "f2d08679",
   "metadata": {},
   "outputs": [],
   "source": [
    "wSize = int((degree+1)*(degree+2)/2)\n",
    "w = np.zeros(wSize) # similar template for others\n",
    "w1 = np.zeros(wSize)\n",
    "#print(w, '\\n', w1)\n",
    "\n",
    "counter = 0\n",
    "costArr= np.zeros(iters+1)\n",
    "counterArr = np.zeros(iters+1)\n",
    "for i in range(iters):\n",
    "    w2 = np.zeros(wSize)\n",
    "    for j in range(np.shape(valX)[0]):\n",
    "        w2 += ((valY[j,0]-np.sum(w*valX[j,:wSize]))*valX[j,:wSize])\n",
    "\n",
    "    w2 = w2/np.shape(valX)[0] #N\n",
    "    \n",
    "    w1 = w + learningRate*w2\n",
    "    w=w1\n",
    "    counter+=1\n",
    "    costArr[counter] = w2[0]\n",
    "    counterArr[counter] = counter\n",
    "\n",
    "   \n",
    "\n",
    "for i in range(np.shape(w)[0]):    \n",
    "    print(\"w\", i, \"=\", w[i], sep = '')\n",
    "\n",
    "np.shape(valX)[0]\n",
    " "
   ]
  },
  {
   "cell_type": "code",
   "execution_count": null,
   "id": "19c07235",
   "metadata": {},
   "outputs": [],
   "source": [
    "fig,ax = plt.subplots()\n",
    "ax.plot(costArr[1:-1])\n",
    "plt.title(\"Gradient Descent method degree %d - del(E) values\"% degree, y = 1, pad = 30)\n",
    "plt.show() # the number of iterations are maxed out in the end,"
   ]
  },
  {
   "cell_type": "code",
   "execution_count": null,
   "id": "bf6af92f",
   "metadata": {},
   "outputs": [],
   "source": [
    "# training data error\n",
    "w1 = 0\n",
    "for i in range(np.shape(valX)[0]):\n",
    "    w1+= (np.sum(w*valX[i,:wSize]) - valY[i,0])**2\n",
    "\n",
    "TrainErr = np.append(TrainErr,w1/(np.shape(valX)[0]*2))\n",
    "w1/(np.shape(valX)[0]*2)"
   ]
  },
  {
   "cell_type": "code",
   "execution_count": null,
   "id": "4acd66f6",
   "metadata": {},
   "outputs": [],
   "source": [
    "# testing data error\n",
    "testError = 0\n",
    "for i in range(np.shape(testXVal)[0]):\n",
    "    testError += (np.sum(w*testXVal[i,:wSize]) - testYVal[i,0])**2\n",
    "\n",
    "TestErr = np.append(TestErr,testError/(np.shape(testXVal)[0]*2))\n",
    "testError/(np.shape(testXVal)[0]*2)"
   ]
  },
  {
   "cell_type": "code",
   "execution_count": null,
   "id": "0559d986",
   "metadata": {},
   "outputs": [],
   "source": [
    "degree = 9"
   ]
  },
  {
   "cell_type": "code",
   "execution_count": null,
   "id": "068e2c25",
   "metadata": {},
   "outputs": [],
   "source": [
    "wSize = int((degree+1)*(degree+2)/2)\n",
    "w = np.zeros(wSize) # similar template for others\n",
    "w1 = np.zeros(wSize)\n",
    "#print(w, '\\n', w1)\n",
    "\n",
    "counter = 0\n",
    "costArr= np.zeros(iters+1)\n",
    "counterArr = np.zeros(iters+1)\n",
    "for i in range(iters):\n",
    "    w2 = np.zeros(wSize)\n",
    "    for j in range(np.shape(valX)[0]):\n",
    "        w2 += ((valY[j,0]-np.sum(w*valX[j,:wSize]))*valX[j,:wSize])\n",
    "\n",
    "    w2 = w2/np.shape(valX)[0] #N\n",
    "    \n",
    "    w1 = w + learningRate*w2\n",
    "    w=w1\n",
    "    counter+=1\n",
    "    costArr[counter] = w2[0]\n",
    "    counterArr[counter] = counter\n",
    "\n",
    "   \n",
    "\n",
    "for i in range(np.shape(w)[0]):    \n",
    "    print(\"w\", i, \"=\", w[i], sep = '')\n",
    "\n",
    "np.shape(valX)[0]\n",
    " "
   ]
  },
  {
   "cell_type": "code",
   "execution_count": null,
   "id": "c2bfb38c",
   "metadata": {},
   "outputs": [],
   "source": [
    "fig,ax = plt.subplots()\n",
    "ax.plot(costArr[1:-1])\n",
    "plt.title(\"Gradient Descent method degree %d - del(E) values\"% degree, y = 1, pad = 30)\n",
    "plt.show() # the number of iterations are maxed out in the end,"
   ]
  },
  {
   "cell_type": "code",
   "execution_count": null,
   "id": "d8a654b0",
   "metadata": {},
   "outputs": [],
   "source": [
    "# training data error\n",
    "w1 = 0\n",
    "for i in range(np.shape(valX)[0]):\n",
    "    w1+= (np.sum(w*valX[i,:wSize]) - valY[i,0])**2\n",
    "\n",
    "TrainErr = np.append(TrainErr,w1/(np.shape(valX)[0]*2))\n",
    "w1/np.shape(valX)[0]"
   ]
  },
  {
   "cell_type": "code",
   "execution_count": null,
   "id": "168fb4f3",
   "metadata": {},
   "outputs": [],
   "source": [
    "# testing data error\n",
    "testError = 0\n",
    "for i in range(np.shape(testXVal)[0]):\n",
    "    testError += (np.sum(w*testXVal[i,:wSize]) - testYVal[i,0])**2\n",
    "\n",
    "TestErr = np.append(TestErr,testError/(np.shape(testXVal)[0]*2))\n",
    "testError/np.shape(testXVal)[0]"
   ]
  },
  {
   "cell_type": "code",
   "execution_count": null,
   "id": "48dbbf26",
   "metadata": {},
   "outputs": [],
   "source": [
    "TrainErr"
   ]
  },
  {
   "cell_type": "code",
   "execution_count": null,
   "id": "581638ae",
   "metadata": {},
   "outputs": [],
   "source": [
    "TestErr"
   ]
  },
  {
   "cell_type": "code",
   "execution_count": null,
   "id": "f25e36a9",
   "metadata": {},
   "outputs": [],
   "source": [
    "X = np.array([i for i in range(10)])\n",
    "fig, ax = plt.subplots()\n",
    "Tr = plt.scatter(X, TrainErr, c = 'r')\n",
    "Te = plt.scatter(X, TestErr, c = 'b')\n",
    "plt.legend((Tr,Te), ('Train','Test'))\n",
    "plt.show()"
   ]
  },
  {
   "cell_type": "code",
   "execution_count": null,
   "id": "e24d9c90",
   "metadata": {},
   "outputs": [],
   "source": []
  },
  {
   "cell_type": "code",
   "execution_count": null,
   "id": "e6885dd9",
   "metadata": {},
   "outputs": [],
   "source": [
    "k = np.random.randint(low = 0, high = np.shape(valX)[0])\n",
    "k"
   ]
  },
  {
   "cell_type": "code",
   "execution_count": null,
   "id": "55f2ac41",
   "metadata": {},
   "outputs": [],
   "source": [
    "# degree 0\n",
    "iters = 3000\n",
    "learningRate = 0.01\n",
    "degree = 0\n",
    "wSize = int((degree+1)*(degree+2)/2)\n",
    "w = np.zeros(wSize) # similar template for others\n",
    "w1 = np.zeros(wSize)\n",
    "#print(w, '\\n', w1)\n",
    "counter = 0\n",
    "costArr= np.zeros(iters*100+1)\n",
    "counterArr = np.zeros(iters*100+1)\n",
    "for i in range(iters*100):\n",
    "    w2 = np.zeros(wSize)\n",
    "    w2 += (((valY[:wSize,0] - (w*valX[k,:wSize])))*valX[k,:wSize])/np.shape(valX)[0]\n",
    "    \n",
    "    w1 = w + learningRate*w2\n",
    "    w=w1\n",
    "    \n",
    "    costArr[counter] = w2[0]\n",
    "    counter+=1\n",
    "    counterArr[counter] = counter\n",
    "\n",
    "   \n",
    "\n",
    "for i in range(np.shape(w)[0]):    \n",
    "    print(\"w\", i, \"=\", w[i], sep = '')\n",
    "\n",
    "np.shape(valX)[0]\n",
    "fig,ax = plt.subplots()\n",
    "ax.plot(costArr[1:-1*iters])\n",
    "plt.title(\"Stochastic Gradient Descent method degree 0 - del(E) values\", y = 1, pad = 30)\n",
    "plt.show()  "
   ]
  },
  {
   "cell_type": "code",
   "execution_count": null,
   "id": "f323f7fa",
   "metadata": {},
   "outputs": [],
   "source": [
    "# degree 1\n",
    "iters = 3000\n",
    "learningRate = 0.01\n",
    "degree = 1\n",
    "wSize = int((degree+1)*(degree+2)/2)\n",
    "w = np.zeros(wSize) # similar template for others\n",
    "w1 = np.zeros(wSize)\n",
    "#print(w, '\\n', w1)\n",
    "k = np.random.randint(low = 0, high = np.shape(valX)[0])\n",
    "counter = 0\n",
    "costArr= np.zeros(iters*100+1)\n",
    "counterArr = np.zeros(iters*100+1)\n",
    "for i in range(iters*100):\n",
    "    w2 = np.zeros(wSize)\n",
    "    w2 += (((valY[:wSize,0] - (w*valX[k,:wSize])))*valX[k,:wSize])/np.shape(valX)[0]\n",
    "    \n",
    "    w1 = w + learningRate*w2\n",
    "    w=w1\n",
    "    \n",
    "    costArr[counter] = w2[0]\n",
    "    counter+=1\n",
    "    counterArr[counter] = counter\n",
    "\n",
    "   \n",
    "\n",
    "for i in range(np.shape(w)[0]):    \n",
    "    print(\"w\", i, \"=\", w[i], sep = '')\n",
    "\n",
    "np.shape(valX)[0]\n",
    "fig,ax = plt.subplots()\n",
    "ax.plot(costArr[1:-1*iters])\n",
    "plt.title(\"Stochastic Gradient Descent method degree 1 - del(E) values\", y = 1, pad = 30)\n",
    "plt.show() "
   ]
  },
  {
   "cell_type": "code",
   "execution_count": null,
   "id": "84f22b16",
   "metadata": {},
   "outputs": [],
   "source": [
    "# degree 2\n",
    "iters = 3000\n",
    "learningRate = 0.01\n",
    "degree = 2\n",
    "wSize = int((degree+1)*(degree+2)/2)\n",
    "w = np.zeros(wSize) # similar template for others\n",
    "w1 = np.zeros(wSize)\n",
    "#print(w, '\\n', w1)\n",
    "k = np.random.randint(low = 0, high = np.shape(valX)[0])\n",
    "counter = 0\n",
    "costArr= np.zeros(iters*100+1)\n",
    "counterArr = np.zeros(iters*100+1)\n",
    "for i in range(iters*100):\n",
    "    w2 = np.zeros(wSize)\n",
    "    w2 += (((valY[:wSize,0] - (w*valX[k,:wSize])))*valX[k,:wSize])/np.shape(valX)[0]\n",
    "    \n",
    "    w1 = w + learningRate*w2\n",
    "    w=w1\n",
    "    \n",
    "    costArr[counter] = w2[0]\n",
    "    counter+=1\n",
    "    counterArr[counter] = counter\n",
    "\n",
    "   \n",
    "\n",
    "for i in range(np.shape(w)[0]):    \n",
    "    print(\"w\", i, \"=\", w[i], sep = '')\n",
    "\n",
    "np.shape(valX)[0]\n",
    "fig,ax = plt.subplots()\n",
    "ax.plot(costArr[1:-1*iters])\n",
    "plt.title(\"Stochastic Gradient Descent method degree 2 - del(E) values\", y = 1, pad = 30)\n",
    "plt.show() "
   ]
  },
  {
   "cell_type": "code",
   "execution_count": null,
   "id": "db1dd096",
   "metadata": {},
   "outputs": [],
   "source": [
    "# degree 3\n",
    "iters = 3000\n",
    "learningRate = 0.01\n",
    "degree = 3\n",
    "wSize = int((degree+1)*(degree+2)/2)\n",
    "w = np.zeros(wSize) # similar template for others\n",
    "w1 = np.zeros(wSize)\n",
    "#print(w, '\\n', w1)\n",
    "k = np.random.randint(low = 0, high = np.shape(valX)[0])\n",
    "counter = 0\n",
    "costArr= np.zeros(iters*100+1)\n",
    "counterArr = np.zeros(iters*100+1)\n",
    "for i in range(iters*100):\n",
    "    w2 = np.zeros(wSize)\n",
    "    w2 += (((valY[:wSize,0] - (w*valX[k,:wSize])))*valX[k,:wSize])/np.shape(valX)[0]\n",
    "    \n",
    "    w1 = w + learningRate*w2\n",
    "    w=w1\n",
    "    \n",
    "    costArr[counter] = w2[0]\n",
    "    counter+=1\n",
    "    counterArr[counter] = counter\n",
    "\n",
    "   \n",
    "\n",
    "for i in range(np.shape(w)[0]):    \n",
    "    print(\"w\", i, \"=\", w[i], sep = '')\n",
    "\n",
    "np.shape(valX)[0]\n",
    "fig,ax = plt.subplots()\n",
    "ax.plot(costArr[1:-1*iters])\n",
    "plt.title(\"Stochastic Gradient Descent method degree 3 - del(E) values\", y = 1, pad = 30)\n",
    "plt.show() "
   ]
  },
  {
   "cell_type": "code",
   "execution_count": null,
   "id": "ff7e06de",
   "metadata": {},
   "outputs": [],
   "source": [
    "# degree 4\n",
    "iters = 300000\n",
    "learningRate = 0.01\n",
    "degree = 4\n",
    "wSize = int((degree+1)*(degree+2)/2)\n",
    "w = np.zeros(wSize) # similar template for others\n",
    "w1 = np.zeros(wSize)\n",
    "#print(w, '\\n', w1)\n",
    "k = np.random.randint(low = 0, high = np.shape(valX)[0])\n",
    "counter = 0\n",
    "costArr= np.zeros(iters+1)\n",
    "counterArr = np.zeros(iters+1)\n",
    "for i in range(iters):\n",
    "    w2 = np.zeros(wSize)\n",
    "    w2 += (((valY[:wSize,0] - (w*valX[k,:wSize])))*valX[k,:wSize])/np.shape(valX)[0]\n",
    "    \n",
    "    w1 = w + learningRate*w2\n",
    "    w=w1\n",
    "    costArr[counter] = w2[0]\n",
    "    counter+=1\n",
    "    counterArr[counter] = counter\n",
    "\n",
    "   \n",
    "\n",
    "for i in range(np.shape(w)[0]):    \n",
    "    print(\"w\", i, \"=\", w[i], sep = '')\n",
    "\n",
    "np.shape(valX)[0]\n",
    "fig,ax = plt.subplots()\n",
    "ax.plot(costArr[1:])\n",
    "plt.title(\"Stochastic Gradient Descent method degree 4 - del(E) values\", y = 1, pad = 30)\n",
    "plt.show() "
   ]
  },
  {
   "cell_type": "code",
   "execution_count": null,
   "id": "c67d988e",
   "metadata": {
    "scrolled": false
   },
   "outputs": [],
   "source": [
    "# degree 5\n",
    "iters = 300000\n",
    "learningRate = 0.01\n",
    "degree = 5\n",
    "wSize = int((degree+1)*(degree+2)/2)\n",
    "w = np.zeros(wSize) # similar template for others\n",
    "w1 = np.zeros(wSize)\n",
    "#print(w, '\\n', w1)\n",
    "k = np.random.randint(low = 0, high = np.shape(valX)[0])\n",
    "counter = 0\n",
    "costArr= np.zeros(iters+1)\n",
    "counterArr = np.zeros(iters+1)\n",
    "for i in range(iters):\n",
    "    w2 = np.zeros(wSize)\n",
    "    w2 += (((valY[:wSize,0] - (w*valX[k,:wSize])))*valX[k,:wSize])/np.shape(valX)[0]\n",
    "    \n",
    "    w1 = w + learningRate*w2\n",
    "    w=w1\n",
    "    costArr[counter] = w2[0]\n",
    "    counter+=1\n",
    "    counterArr[counter] = counter\n",
    "\n",
    "   \n",
    "\n",
    "for i in range(np.shape(w)[0]):    \n",
    "    print(\"w\", i, \"=\", w[i], sep = '')\n",
    "\n",
    "np.shape(valX)[0]\n",
    "fig,ax = plt.subplots()\n",
    "ax.plot(costArr[1:])\n",
    "plt.title(\"Stochastic Gradient Descent method degree 5 - del(E) values\", y = 1, pad = 30)\n",
    "plt.show() "
   ]
  },
  {
   "cell_type": "code",
   "execution_count": null,
   "id": "72506331",
   "metadata": {
    "scrolled": false
   },
   "outputs": [],
   "source": [
    "# degree 6\n",
    "iters = 300000\n",
    "learningRate = 0.01\n",
    "degree = 6\n",
    "wSize = int((degree+1)*(degree+2)/2)\n",
    "w = np.zeros(wSize) # similar template for others\n",
    "w1 = np.zeros(wSize)\n",
    "#print(w, '\\n', w1)\n",
    "k = np.random.randint(low = 0, high = np.shape(valX)[0])\n",
    "counter = 0\n",
    "costArr= np.zeros(iters+1)\n",
    "counterArr = np.zeros(iters+1)\n",
    "for i in range(iters):\n",
    "    w2 = np.zeros(wSize)\n",
    "    w2 += (((valY[:wSize,0] - (w*valX[k,:wSize])))*valX[k,:wSize])/np.shape(valX)[0]\n",
    "    \n",
    "    w1 = w + learningRate*w2\n",
    "    w=w1\n",
    "    costArr[counter] = w2[0]\n",
    "    counter+=1\n",
    "    counterArr[counter] = counter\n",
    "\n",
    "   \n",
    "\n",
    "for i in range(np.shape(w)[0]):    \n",
    "    print(\"w\", i, \"=\", w[i], sep = '')\n",
    "\n",
    "np.shape(valX)[0]\n",
    "fig,ax = plt.subplots()\n",
    "ax.plot(costArr[1:])\n",
    "plt.title(\"Stochastic Gradient Descent method degree 6 - del(E) values\", y = 1, pad = 30)\n",
    "plt.show() "
   ]
  },
  {
   "cell_type": "code",
   "execution_count": null,
   "id": "c88fd0fe",
   "metadata": {},
   "outputs": [],
   "source": [
    "# degree 7\n",
    "iters = 300000\n",
    "learningRate = 0.01\n",
    "degree = 7\n",
    "wSize = int((degree+1)*(degree+2)/2)\n",
    "w = np.zeros(wSize) # similar template for others\n",
    "w1 = np.zeros(wSize)\n",
    "#print(w, '\\n', w1)\n",
    "k = np.random.randint(low = 0, high = np.shape(valX)[0])\n",
    "counter = 0\n",
    "costArr= np.zeros(iters+1)\n",
    "counterArr = np.zeros(iters+1)\n",
    "for i in range(iters):\n",
    "    w2 = np.zeros(wSize)\n",
    "    w2 += (((valY[:wSize,0] - (w*valX[k,:wSize])))*valX[k,:wSize])/np.shape(valX)[0]\n",
    "    \n",
    "    w1 = w + learningRate*w2\n",
    "    w=w1\n",
    "    costArr[counter] = w2[0]\n",
    "    counter+=1\n",
    "    counterArr[counter] = counter\n",
    "\n",
    "   \n",
    "\n",
    "for i in range(np.shape(w)[0]):    \n",
    "    print(\"w\", i, \"=\", w[i], sep = '')\n",
    "\n",
    "np.shape(valX)[0]\n",
    "fig,ax = plt.subplots()\n",
    "ax.plot(costArr[1:])\n",
    "plt.title(\"Stochastic Gradient Descent method degree 7 - del(E) values\", y = 1, pad = 30)\n",
    "plt.show() "
   ]
  },
  {
   "cell_type": "code",
   "execution_count": null,
   "id": "e1f28518",
   "metadata": {},
   "outputs": [],
   "source": [
    "# degree 8\n",
    "iters = 300000\n",
    "learningRate = 0.01\n",
    "degree = 8\n",
    "wSize = int((degree+1)*(degree+2)/2)\n",
    "w = np.zeros(wSize) # similar template for others\n",
    "w1 = np.zeros(wSize)\n",
    "#print(w, '\\n', w1)\n",
    "k = np.random.randint(low = 0, high = np.shape(valX)[0])\n",
    "counter = 0\n",
    "costArr= np.zeros(iters+1)\n",
    "counterArr = np.zeros(iters+1)\n",
    "for i in range(iters):\n",
    "    w2 = np.zeros(wSize)\n",
    "    w2 += (((valY[:wSize,0] - (w*valX[k,:wSize])))*valX[k,:wSize])/np.shape(valX)[0]\n",
    "    \n",
    "    w1 = w + learningRate*w2\n",
    "    w=w1\n",
    "    costArr[counter] = w2[0]\n",
    "    counter+=1\n",
    "    counterArr[counter] = counter\n",
    "\n",
    "   \n",
    "\n",
    "for i in range(np.shape(w)[0]):    \n",
    "    print(\"w\", i, \"=\", w[i], sep = '')\n",
    "\n",
    "np.shape(valX)[0]\n",
    "fig,ax = plt.subplots()\n",
    "ax.plot(costArr[1:])\n",
    "plt.title(\"Stochastic Gradient Descent method degree 8 - del(E) values\", y = 1, pad = 30)\n",
    "plt.show() "
   ]
  },
  {
   "cell_type": "code",
   "execution_count": null,
   "id": "33484669",
   "metadata": {},
   "outputs": [],
   "source": [
    "# degree 9\n",
    "iters = 300000\n",
    "learningRate = 0.01\n",
    "degree = 9\n",
    "wSize = int((degree+1)*(degree+2)/2)\n",
    "w = np.zeros(wSize) # similar template for others\n",
    "w1 = np.zeros(wSize)\n",
    "#print(w, '\\n', w1)\n",
    "k = np.random.randint(low = 0, high = np.shape(valX)[0])\n",
    "counter = 0\n",
    "costArr= np.zeros(iters+1)\n",
    "counterArr = np.zeros(iters+1)\n",
    "for i in range(iters):\n",
    "    w2 = np.zeros(wSize)\n",
    "    w2 += ((((valY[:wSize,0] - (w*valX[k,:wSize])))*valX[k,:wSize])/np.shape(valX)[0])/10**10\n",
    "    \n",
    "    w1 = w + learningRate*w2\n",
    "    w=w1\n",
    "    costArr[counter] = w2[0]*10**10\n",
    "    counter+=1\n",
    "    counterArr[counter] = counter\n",
    "\n",
    "   \n",
    "\n",
    "for i in range(np.shape(w)[0]):    \n",
    "    print(\"w\", i, \"=\", w[i], sep = '')\n",
    "\n",
    "np.shape(valX)[0]\n",
    "fig,ax = plt.subplots()\n",
    "ax.plot(costArr[1:-10])\n",
    "plt.title(\"Stochastic Gradient Descent method degree 9 - del(E) values\", y = 1, pad = 30)\n",
    "plt.show() "
   ]
  },
  {
   "cell_type": "code",
   "execution_count": null,
   "id": "6eab0d31",
   "metadata": {},
   "outputs": [],
   "source": []
  }
 ],
 "metadata": {
  "kernelspec": {
   "display_name": "Python 3 (ipykernel)",
   "language": "python",
   "name": "python3"
  },
  "language_info": {
   "codemirror_mode": {
    "name": "ipython",
    "version": 3
   },
   "file_extension": ".py",
   "mimetype": "text/x-python",
   "name": "python",
   "nbconvert_exporter": "python",
   "pygments_lexer": "ipython3",
   "version": "3.9.12"
  }
 },
 "nbformat": 4,
 "nbformat_minor": 5
}
