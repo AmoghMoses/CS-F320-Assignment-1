{
 "cells": [
  {
   "cell_type": "code",
   "execution_count": 1,
   "id": "4d67eca0",
   "metadata": {},
   "outputs": [
    {
     "name": "stdout",
     "output_type": "stream",
     "text": [
      "Success\n"
     ]
    }
   ],
   "source": [
    "import pandas as pd\n",
    "import numpy as np\n",
    "import matplotlib.pyplot as plt\n",
    "from sklearn import tree\n",
    "from sklearn.model_selection import train_test_split\n",
    "from sklearn.tree import DecisionTreeRegressor\n",
    "from sklearn.preprocessing import StandardScaler\n",
    "from sklearn.linear_model import LinearRegression\n",
    "print(\"Success\")"
   ]
  },
  {
   "cell_type": "code",
   "execution_count": 2,
   "id": "a2b4e8a6",
   "metadata": {
    "scrolled": false
   },
   "outputs": [
    {
     "data": {
      "text/html": [
       "<div>\n",
       "<style scoped>\n",
       "    .dataframe tbody tr th:only-of-type {\n",
       "        vertical-align: middle;\n",
       "    }\n",
       "\n",
       "    .dataframe tbody tr th {\n",
       "        vertical-align: top;\n",
       "    }\n",
       "\n",
       "    .dataframe thead th {\n",
       "        text-align: right;\n",
       "    }\n",
       "</style>\n",
       "<table border=\"1\" class=\"dataframe\">\n",
       "  <thead>\n",
       "    <tr style=\"text-align: right;\">\n",
       "      <th></th>\n",
       "      <th>MLOGP</th>\n",
       "      <th>RDCHI</th>\n",
       "      <th>quantitative response of LC50</th>\n",
       "    </tr>\n",
       "  </thead>\n",
       "  <tbody>\n",
       "    <tr>\n",
       "      <th>0</th>\n",
       "      <td>2.419</td>\n",
       "      <td>1.225</td>\n",
       "      <td>3.740</td>\n",
       "    </tr>\n",
       "    <tr>\n",
       "      <th>1</th>\n",
       "      <td>2.638</td>\n",
       "      <td>1.401</td>\n",
       "      <td>4.330</td>\n",
       "    </tr>\n",
       "    <tr>\n",
       "      <th>2</th>\n",
       "      <td>5.799</td>\n",
       "      <td>2.930</td>\n",
       "      <td>7.019</td>\n",
       "    </tr>\n",
       "    <tr>\n",
       "      <th>3</th>\n",
       "      <td>5.453</td>\n",
       "      <td>2.887</td>\n",
       "      <td>6.723</td>\n",
       "    </tr>\n",
       "    <tr>\n",
       "      <th>4</th>\n",
       "      <td>4.068</td>\n",
       "      <td>2.758</td>\n",
       "      <td>5.979</td>\n",
       "    </tr>\n",
       "    <tr>\n",
       "      <th>...</th>\n",
       "      <td>...</td>\n",
       "      <td>...</td>\n",
       "      <td>...</td>\n",
       "    </tr>\n",
       "    <tr>\n",
       "      <th>541</th>\n",
       "      <td>3.326</td>\n",
       "      <td>2.837</td>\n",
       "      <td>4.651</td>\n",
       "    </tr>\n",
       "    <tr>\n",
       "      <th>542</th>\n",
       "      <td>3.275</td>\n",
       "      <td>2.727</td>\n",
       "      <td>3.953</td>\n",
       "    </tr>\n",
       "    <tr>\n",
       "      <th>543</th>\n",
       "      <td>5.165</td>\n",
       "      <td>3.111</td>\n",
       "      <td>6.219</td>\n",
       "    </tr>\n",
       "    <tr>\n",
       "      <th>544</th>\n",
       "      <td>2.859</td>\n",
       "      <td>2.614</td>\n",
       "      <td>4.995</td>\n",
       "    </tr>\n",
       "    <tr>\n",
       "      <th>545</th>\n",
       "      <td>2.255</td>\n",
       "      <td>1.800</td>\n",
       "      <td>2.480</td>\n",
       "    </tr>\n",
       "  </tbody>\n",
       "</table>\n",
       "<p>546 rows × 3 columns</p>\n",
       "</div>"
      ],
      "text/plain": [
       "     MLOGP  RDCHI  quantitative response of LC50\n",
       "0    2.419  1.225                          3.740\n",
       "1    2.638  1.401                          4.330\n",
       "2    5.799  2.930                          7.019\n",
       "3    5.453  2.887                          6.723\n",
       "4    4.068  2.758                          5.979\n",
       "..     ...    ...                            ...\n",
       "541  3.326  2.837                          4.651\n",
       "542  3.275  2.727                          3.953\n",
       "543  5.165  3.111                          6.219\n",
       "544  2.859  2.614                          4.995\n",
       "545  2.255  1.800                          2.480\n",
       "\n",
       "[546 rows x 3 columns]"
      ]
     },
     "execution_count": 2,
     "metadata": {},
     "output_type": "execute_result"
    }
   ],
   "source": [
    "df = pd.read_csv('fods_1.csv')\n",
    "df"
   ]
  },
  {
   "cell_type": "code",
   "execution_count": 3,
   "id": "3bed213f",
   "metadata": {},
   "outputs": [
    {
     "name": "stdout",
     "output_type": "stream",
     "text": [
      "2.3134926739926738 2.4922985347985356 4.6584212454212475 1.741797285664983 0.8110039291512505 1.6652150617992907\n"
     ]
    }
   ],
   "source": [
    "meanX1 = df['MLOGP'].mean()\n",
    "meanX2 = df['RDCHI'].mean()\n",
    "meanY = df['quantitative response of LC50'].mean()\n",
    "stdX1 = df['MLOGP'].std()\n",
    "stdX2 = df['RDCHI'].std()\n",
    "stdY = df['quantitative response of LC50'].std()\n",
    "print(meanX1, meanX2, meanY, stdX1, stdX2, stdY)"
   ]
  },
  {
   "cell_type": "code",
   "execution_count": 4,
   "id": "45c034ec",
   "metadata": {
    "scrolled": false
   },
   "outputs": [
    {
     "data": {
      "text/html": [
       "<div>\n",
       "<style scoped>\n",
       "    .dataframe tbody tr th:only-of-type {\n",
       "        vertical-align: middle;\n",
       "    }\n",
       "\n",
       "    .dataframe tbody tr th {\n",
       "        vertical-align: top;\n",
       "    }\n",
       "\n",
       "    .dataframe thead th {\n",
       "        text-align: right;\n",
       "    }\n",
       "</style>\n",
       "<table border=\"1\" class=\"dataframe\">\n",
       "  <thead>\n",
       "    <tr style=\"text-align: right;\">\n",
       "      <th></th>\n",
       "      <th>MLOGP</th>\n",
       "      <th>RDCHI</th>\n",
       "      <th>quantitative response of LC50</th>\n",
       "    </tr>\n",
       "  </thead>\n",
       "  <tbody>\n",
       "    <tr>\n",
       "      <th>0</th>\n",
       "      <td>0.060574</td>\n",
       "      <td>-1.562629</td>\n",
       "      <td>-0.551533</td>\n",
       "    </tr>\n",
       "    <tr>\n",
       "      <th>1</th>\n",
       "      <td>0.186306</td>\n",
       "      <td>-1.345614</td>\n",
       "      <td>-0.197225</td>\n",
       "    </tr>\n",
       "    <tr>\n",
       "      <th>2</th>\n",
       "      <td>2.001098</td>\n",
       "      <td>0.539703</td>\n",
       "      <td>1.417582</td>\n",
       "    </tr>\n",
       "    <tr>\n",
       "      <th>3</th>\n",
       "      <td>1.802453</td>\n",
       "      <td>0.486683</td>\n",
       "      <td>1.239827</td>\n",
       "    </tr>\n",
       "    <tr>\n",
       "      <th>4</th>\n",
       "      <td>1.007297</td>\n",
       "      <td>0.327620</td>\n",
       "      <td>0.793038</td>\n",
       "    </tr>\n",
       "    <tr>\n",
       "      <th>...</th>\n",
       "      <td>...</td>\n",
       "      <td>...</td>\n",
       "      <td>...</td>\n",
       "    </tr>\n",
       "    <tr>\n",
       "      <th>541</th>\n",
       "      <td>0.581300</td>\n",
       "      <td>0.425031</td>\n",
       "      <td>-0.004457</td>\n",
       "    </tr>\n",
       "    <tr>\n",
       "      <th>542</th>\n",
       "      <td>0.552020</td>\n",
       "      <td>0.289396</td>\n",
       "      <td>-0.423622</td>\n",
       "    </tr>\n",
       "    <tr>\n",
       "      <th>543</th>\n",
       "      <td>1.637106</td>\n",
       "      <td>0.762883</td>\n",
       "      <td>0.937163</td>\n",
       "    </tr>\n",
       "    <tr>\n",
       "      <th>544</th>\n",
       "      <td>0.313186</td>\n",
       "      <td>0.150063</td>\n",
       "      <td>0.202123</td>\n",
       "    </tr>\n",
       "    <tr>\n",
       "      <th>545</th>\n",
       "      <td>-0.033582</td>\n",
       "      <td>-0.853632</td>\n",
       "      <td>-1.308192</td>\n",
       "    </tr>\n",
       "  </tbody>\n",
       "</table>\n",
       "<p>546 rows × 3 columns</p>\n",
       "</div>"
      ],
      "text/plain": [
       "        MLOGP     RDCHI  quantitative response of LC50\n",
       "0    0.060574 -1.562629                      -0.551533\n",
       "1    0.186306 -1.345614                      -0.197225\n",
       "2    2.001098  0.539703                       1.417582\n",
       "3    1.802453  0.486683                       1.239827\n",
       "4    1.007297  0.327620                       0.793038\n",
       "..        ...       ...                            ...\n",
       "541  0.581300  0.425031                      -0.004457\n",
       "542  0.552020  0.289396                      -0.423622\n",
       "543  1.637106  0.762883                       0.937163\n",
       "544  0.313186  0.150063                       0.202123\n",
       "545 -0.033582 -0.853632                      -1.308192\n",
       "\n",
       "[546 rows x 3 columns]"
      ]
     },
     "execution_count": 4,
     "metadata": {},
     "output_type": "execute_result"
    }
   ],
   "source": [
    "df['MLOGP'] = (df['MLOGP'] - meanX1)/stdX1\n",
    "df['RDCHI'] = (df['RDCHI'] - meanX2)/stdX2\n",
    "df['quantitative response of LC50'] = (df['quantitative response of LC50'] - meanY)/stdY\n",
    "df"
   ]
  },
  {
   "cell_type": "code",
   "execution_count": 5,
   "id": "47c9de65",
   "metadata": {},
   "outputs": [
    {
     "data": {
      "text/plain": [
       "MLOGP                            0\n",
       "RDCHI                            0\n",
       "quantitative response of LC50    0\n",
       "dtype: int64"
      ]
     },
     "execution_count": 5,
     "metadata": {},
     "output_type": "execute_result"
    }
   ],
   "source": [
    "df.isnull().sum()"
   ]
  },
  {
   "cell_type": "code",
   "execution_count": 6,
   "id": "827d288f",
   "metadata": {},
   "outputs": [
    {
     "data": {
      "text/html": [
       "<div>\n",
       "<style scoped>\n",
       "    .dataframe tbody tr th:only-of-type {\n",
       "        vertical-align: middle;\n",
       "    }\n",
       "\n",
       "    .dataframe tbody tr th {\n",
       "        vertical-align: top;\n",
       "    }\n",
       "\n",
       "    .dataframe thead th {\n",
       "        text-align: right;\n",
       "    }\n",
       "</style>\n",
       "<table border=\"1\" class=\"dataframe\">\n",
       "  <thead>\n",
       "    <tr style=\"text-align: right;\">\n",
       "      <th></th>\n",
       "      <th>MLOGP</th>\n",
       "      <th>RDCHI</th>\n",
       "      <th>quantitative response of LC50</th>\n",
       "    </tr>\n",
       "  </thead>\n",
       "  <tbody>\n",
       "    <tr>\n",
       "      <th>544</th>\n",
       "      <td>0.313186</td>\n",
       "      <td>0.150063</td>\n",
       "      <td>0.202123</td>\n",
       "    </tr>\n",
       "    <tr>\n",
       "      <th>133</th>\n",
       "      <td>-1.794407</td>\n",
       "      <td>-0.017631</td>\n",
       "      <td>1.633170</td>\n",
       "    </tr>\n",
       "    <tr>\n",
       "      <th>229</th>\n",
       "      <td>0.166786</td>\n",
       "      <td>-1.150794</td>\n",
       "      <td>-0.602578</td>\n",
       "    </tr>\n",
       "    <tr>\n",
       "      <th>368</th>\n",
       "      <td>-1.374725</td>\n",
       "      <td>-1.004062</td>\n",
       "      <td>-2.154930</td>\n",
       "    </tr>\n",
       "    <tr>\n",
       "      <th>263</th>\n",
       "      <td>0.303426</td>\n",
       "      <td>-0.417136</td>\n",
       "      <td>-0.234457</td>\n",
       "    </tr>\n",
       "    <tr>\n",
       "      <th>...</th>\n",
       "      <td>...</td>\n",
       "      <td>...</td>\n",
       "      <td>...</td>\n",
       "    </tr>\n",
       "    <tr>\n",
       "      <th>110</th>\n",
       "      <td>-0.051954</td>\n",
       "      <td>0.506411</td>\n",
       "      <td>2.096773</td>\n",
       "    </tr>\n",
       "    <tr>\n",
       "      <th>323</th>\n",
       "      <td>0.961368</td>\n",
       "      <td>0.834400</td>\n",
       "      <td>1.693222</td>\n",
       "    </tr>\n",
       "    <tr>\n",
       "      <th>142</th>\n",
       "      <td>-1.214546</td>\n",
       "      <td>-0.637850</td>\n",
       "      <td>0.487372</td>\n",
       "    </tr>\n",
       "    <tr>\n",
       "      <th>319</th>\n",
       "      <td>-0.448096</td>\n",
       "      <td>-0.269171</td>\n",
       "      <td>-0.384588</td>\n",
       "    </tr>\n",
       "    <tr>\n",
       "      <th>236</th>\n",
       "      <td>-1.498735</td>\n",
       "      <td>-1.095307</td>\n",
       "      <td>-0.969497</td>\n",
       "    </tr>\n",
       "  </tbody>\n",
       "</table>\n",
       "<p>436 rows × 3 columns</p>\n",
       "</div>"
      ],
      "text/plain": [
       "        MLOGP     RDCHI  quantitative response of LC50\n",
       "544  0.313186  0.150063                       0.202123\n",
       "133 -1.794407 -0.017631                       1.633170\n",
       "229  0.166786 -1.150794                      -0.602578\n",
       "368 -1.374725 -1.004062                      -2.154930\n",
       "263  0.303426 -0.417136                      -0.234457\n",
       "..        ...       ...                            ...\n",
       "110 -0.051954  0.506411                       2.096773\n",
       "323  0.961368  0.834400                       1.693222\n",
       "142 -1.214546 -0.637850                       0.487372\n",
       "319 -0.448096 -0.269171                      -0.384588\n",
       "236 -1.498735 -1.095307                      -0.969497\n",
       "\n",
       "[436 rows x 3 columns]"
      ]
     },
     "execution_count": 6,
     "metadata": {},
     "output_type": "execute_result"
    }
   ],
   "source": [
    "train, test = train_test_split(df, test_size=0.2) # this is a random split\n",
    "train"
   ]
  },
  {
   "cell_type": "code",
   "execution_count": 7,
   "id": "f5790539",
   "metadata": {
    "scrolled": false
   },
   "outputs": [
    {
     "data": {
      "text/html": [
       "<div>\n",
       "<style scoped>\n",
       "    .dataframe tbody tr th:only-of-type {\n",
       "        vertical-align: middle;\n",
       "    }\n",
       "\n",
       "    .dataframe tbody tr th {\n",
       "        vertical-align: top;\n",
       "    }\n",
       "\n",
       "    .dataframe thead th {\n",
       "        text-align: right;\n",
       "    }\n",
       "</style>\n",
       "<table border=\"1\" class=\"dataframe\">\n",
       "  <thead>\n",
       "    <tr style=\"text-align: right;\">\n",
       "      <th></th>\n",
       "      <th>MLOGP</th>\n",
       "      <th>RDCHI</th>\n",
       "      <th>quantitative response of LC50</th>\n",
       "    </tr>\n",
       "  </thead>\n",
       "  <tbody>\n",
       "    <tr>\n",
       "      <th>168</th>\n",
       "      <td>-1.763978</td>\n",
       "      <td>-0.694569</td>\n",
       "      <td>-0.331141</td>\n",
       "    </tr>\n",
       "    <tr>\n",
       "      <th>463</th>\n",
       "      <td>-0.868926</td>\n",
       "      <td>-1.212446</td>\n",
       "      <td>-0.925058</td>\n",
       "    </tr>\n",
       "    <tr>\n",
       "      <th>77</th>\n",
       "      <td>-0.330976</td>\n",
       "      <td>-0.025029</td>\n",
       "      <td>1.314892</td>\n",
       "    </tr>\n",
       "    <tr>\n",
       "      <th>192</th>\n",
       "      <td>-0.069177</td>\n",
       "      <td>-0.637850</td>\n",
       "      <td>0.064003</td>\n",
       "    </tr>\n",
       "    <tr>\n",
       "      <th>408</th>\n",
       "      <td>-0.245432</td>\n",
       "      <td>-0.253141</td>\n",
       "      <td>-0.641011</td>\n",
       "    </tr>\n",
       "    <tr>\n",
       "      <th>...</th>\n",
       "      <td>...</td>\n",
       "      <td>...</td>\n",
       "      <td>...</td>\n",
       "    </tr>\n",
       "    <tr>\n",
       "      <th>131</th>\n",
       "      <td>-1.067571</td>\n",
       "      <td>-0.518245</td>\n",
       "      <td>0.119852</td>\n",
       "    </tr>\n",
       "    <tr>\n",
       "      <th>43</th>\n",
       "      <td>-0.210411</td>\n",
       "      <td>-0.600858</td>\n",
       "      <td>-0.959288</td>\n",
       "    </tr>\n",
       "    <tr>\n",
       "      <th>121</th>\n",
       "      <td>-1.307553</td>\n",
       "      <td>2.793700</td>\n",
       "      <td>-0.033882</td>\n",
       "    </tr>\n",
       "    <tr>\n",
       "      <th>249</th>\n",
       "      <td>1.813361</td>\n",
       "      <td>0.226511</td>\n",
       "      <td>0.589461</td>\n",
       "    </tr>\n",
       "    <tr>\n",
       "      <th>106</th>\n",
       "      <td>-0.868926</td>\n",
       "      <td>-1.212446</td>\n",
       "      <td>-1.758584</td>\n",
       "    </tr>\n",
       "  </tbody>\n",
       "</table>\n",
       "<p>110 rows × 3 columns</p>\n",
       "</div>"
      ],
      "text/plain": [
       "        MLOGP     RDCHI  quantitative response of LC50\n",
       "168 -1.763978 -0.694569                      -0.331141\n",
       "463 -0.868926 -1.212446                      -0.925058\n",
       "77  -0.330976 -0.025029                       1.314892\n",
       "192 -0.069177 -0.637850                       0.064003\n",
       "408 -0.245432 -0.253141                      -0.641011\n",
       "..        ...       ...                            ...\n",
       "131 -1.067571 -0.518245                       0.119852\n",
       "43  -0.210411 -0.600858                      -0.959288\n",
       "121 -1.307553  2.793700                      -0.033882\n",
       "249  1.813361  0.226511                       0.589461\n",
       "106 -0.868926 -1.212446                      -1.758584\n",
       "\n",
       "[110 rows x 3 columns]"
      ]
     },
     "execution_count": 7,
     "metadata": {},
     "output_type": "execute_result"
    }
   ],
   "source": [
    "test"
   ]
  },
  {
   "cell_type": "code",
   "execution_count": 8,
   "id": "72fb5c78",
   "metadata": {},
   "outputs": [
    {
     "data": {
      "image/png": "[encoded data removed]",
      "text/plain": [
       "<Figure size 432x288 with 1 Axes>"
      ]
     },
     "metadata": {
      "needs_background": "light"
     },
     "output_type": "display_data"
    }
   ],
   "source": [
    "ax = plt.axes(projection='3d')\n",
    "\n",
    "# Data for three-dimensional scattered points\n",
    "zdata = train[\"quantitative response of LC50\"]\n",
    "xdata = train[\"RDCHI\"]\n",
    "ydata = train[\"MLOGP\"]\n",
    "ax.scatter3D(xdata, ydata, zdata, c=zdata, cmap='Greens');"
   ]
  },
  {
   "cell_type": "code",
   "execution_count": 9,
   "id": "16cf1ca1",
   "metadata": {},
   "outputs": [
    {
     "data": {
      "text/html": [
       "<div>\n",
       "<style scoped>\n",
       "    .dataframe tbody tr th:only-of-type {\n",
       "        vertical-align: middle;\n",
       "    }\n",
       "\n",
       "    .dataframe tbody tr th {\n",
       "        vertical-align: top;\n",
       "    }\n",
       "\n",
       "    .dataframe thead th {\n",
       "        text-align: right;\n",
       "    }\n",
       "</style>\n",
       "<table border=\"1\" class=\"dataframe\">\n",
       "  <thead>\n",
       "    <tr style=\"text-align: right;\">\n",
       "      <th></th>\n",
       "      <th>RDCHI</th>\n",
       "      <th>MLOGP</th>\n",
       "    </tr>\n",
       "  </thead>\n",
       "  <tbody>\n",
       "    <tr>\n",
       "      <th>544</th>\n",
       "      <td>0.150063</td>\n",
       "      <td>0.313186</td>\n",
       "    </tr>\n",
       "    <tr>\n",
       "      <th>133</th>\n",
       "      <td>-0.017631</td>\n",
       "      <td>-1.794407</td>\n",
       "    </tr>\n",
       "    <tr>\n",
       "      <th>229</th>\n",
       "      <td>-1.150794</td>\n",
       "      <td>0.166786</td>\n",
       "    </tr>\n",
       "    <tr>\n",
       "      <th>368</th>\n",
       "      <td>-1.004062</td>\n",
       "      <td>-1.374725</td>\n",
       "    </tr>\n",
       "    <tr>\n",
       "      <th>263</th>\n",
       "      <td>-0.417136</td>\n",
       "      <td>0.303426</td>\n",
       "    </tr>\n",
       "    <tr>\n",
       "      <th>...</th>\n",
       "      <td>...</td>\n",
       "      <td>...</td>\n",
       "    </tr>\n",
       "    <tr>\n",
       "      <th>110</th>\n",
       "      <td>0.506411</td>\n",
       "      <td>-0.051954</td>\n",
       "    </tr>\n",
       "    <tr>\n",
       "      <th>323</th>\n",
       "      <td>0.834400</td>\n",
       "      <td>0.961368</td>\n",
       "    </tr>\n",
       "    <tr>\n",
       "      <th>142</th>\n",
       "      <td>-0.637850</td>\n",
       "      <td>-1.214546</td>\n",
       "    </tr>\n",
       "    <tr>\n",
       "      <th>319</th>\n",
       "      <td>-0.269171</td>\n",
       "      <td>-0.448096</td>\n",
       "    </tr>\n",
       "    <tr>\n",
       "      <th>236</th>\n",
       "      <td>-1.095307</td>\n",
       "      <td>-1.498735</td>\n",
       "    </tr>\n",
       "  </tbody>\n",
       "</table>\n",
       "<p>436 rows × 2 columns</p>\n",
       "</div>"
      ],
      "text/plain": [
       "        RDCHI     MLOGP\n",
       "544  0.150063  0.313186\n",
       "133 -0.017631 -1.794407\n",
       "229 -1.150794  0.166786\n",
       "368 -1.004062 -1.374725\n",
       "263 -0.417136  0.303426\n",
       "..        ...       ...\n",
       "110  0.506411 -0.051954\n",
       "323  0.834400  0.961368\n",
       "142 -0.637850 -1.214546\n",
       "319 -0.269171 -0.448096\n",
       "236 -1.095307 -1.498735\n",
       "\n",
       "[436 rows x 2 columns]"
      ]
     },
     "execution_count": 9,
     "metadata": {},
     "output_type": "execute_result"
    }
   ],
   "source": [
    "dataF = pd.DataFrame(train[[\"RDCHI\", \"MLOGP\"]])\n",
    "dataF"
   ]
  },
  {
   "cell_type": "code",
   "execution_count": 10,
   "id": "d79abd31",
   "metadata": {},
   "outputs": [
    {
     "data": {
      "text/html": [
       "<div>\n",
       "<style scoped>\n",
       "    .dataframe tbody tr th:only-of-type {\n",
       "        vertical-align: middle;\n",
       "    }\n",
       "\n",
       "    .dataframe tbody tr th {\n",
       "        vertical-align: top;\n",
       "    }\n",
       "\n",
       "    .dataframe thead th {\n",
       "        text-align: right;\n",
       "    }\n",
       "</style>\n",
       "<table border=\"1\" class=\"dataframe\">\n",
       "  <thead>\n",
       "    <tr style=\"text-align: right;\">\n",
       "      <th></th>\n",
       "      <th>quantitative response of LC50</th>\n",
       "    </tr>\n",
       "  </thead>\n",
       "  <tbody>\n",
       "    <tr>\n",
       "      <th>544</th>\n",
       "      <td>0.202123</td>\n",
       "    </tr>\n",
       "    <tr>\n",
       "      <th>133</th>\n",
       "      <td>1.633170</td>\n",
       "    </tr>\n",
       "    <tr>\n",
       "      <th>229</th>\n",
       "      <td>-0.602578</td>\n",
       "    </tr>\n",
       "    <tr>\n",
       "      <th>368</th>\n",
       "      <td>-2.154930</td>\n",
       "    </tr>\n",
       "    <tr>\n",
       "      <th>263</th>\n",
       "      <td>-0.234457</td>\n",
       "    </tr>\n",
       "    <tr>\n",
       "      <th>...</th>\n",
       "      <td>...</td>\n",
       "    </tr>\n",
       "    <tr>\n",
       "      <th>110</th>\n",
       "      <td>2.096773</td>\n",
       "    </tr>\n",
       "    <tr>\n",
       "      <th>323</th>\n",
       "      <td>1.693222</td>\n",
       "    </tr>\n",
       "    <tr>\n",
       "      <th>142</th>\n",
       "      <td>0.487372</td>\n",
       "    </tr>\n",
       "    <tr>\n",
       "      <th>319</th>\n",
       "      <td>-0.384588</td>\n",
       "    </tr>\n",
       "    <tr>\n",
       "      <th>236</th>\n",
       "      <td>-0.969497</td>\n",
       "    </tr>\n",
       "  </tbody>\n",
       "</table>\n",
       "<p>436 rows × 1 columns</p>\n",
       "</div>"
      ],
      "text/plain": [
       "     quantitative response of LC50\n",
       "544                       0.202123\n",
       "133                       1.633170\n",
       "229                      -0.602578\n",
       "368                      -2.154930\n",
       "263                      -0.234457\n",
       "..                             ...\n",
       "110                       2.096773\n",
       "323                       1.693222\n",
       "142                       0.487372\n",
       "319                      -0.384588\n",
       "236                      -0.969497\n",
       "\n",
       "[436 rows x 1 columns]"
      ]
     },
     "execution_count": 10,
     "metadata": {},
     "output_type": "execute_result"
    }
   ],
   "source": [
    "targetF = pd.DataFrame(train[\"quantitative response of LC50\"])\n",
    "targetF"
   ]
  },
  {
   "cell_type": "code",
   "execution_count": 11,
   "id": "e16de32f",
   "metadata": {},
   "outputs": [
    {
     "data": {
      "text/plain": [
       "(array([-0.02357144]), array([[0.26073356, 0.45371062]]))"
      ]
     },
     "execution_count": 11,
     "metadata": {},
     "output_type": "execute_result"
    }
   ],
   "source": [
    "sc=StandardScaler()\n",
    "X_transform=sc.fit_transform(dataF)\n",
    "lin_reg = LinearRegression()\n",
    "lin_reg.fit(X_transform, targetF)\n",
    "lin_reg.intercept_, lin_reg.coef_"
   ]
  },
  {
   "cell_type": "code",
   "execution_count": 12,
   "id": "b4d519d5",
   "metadata": {
    "scrolled": false
   },
   "outputs": [
    {
     "name": "stdout",
     "output_type": "stream",
     "text": [
      "(436, 1)\n",
      "(436, 55)\n",
      "0.15006273191404876\n"
     ]
    }
   ],
   "source": [
    "# Value order to be followed: x1,x2, x1^2,x1x2,x2^2, x1^3,x1^2x2,x1x2^2,x2^3.... meant for all degrees of gradient descent\n",
    "valX = dataF[dataF.columns[:]].to_numpy()\n",
    "valX1 = valX[:,0]**2 ##------------------------------------------------------------------------------------------------x1^2\n",
    "valX = np.append(valX, np.column_stack([valX1]), axis = 1)\n",
    "valX1 = valX[:,0]*valX[:,1] #------------------------------------------------------------------------------------------x1x2\n",
    "valX = np.append(valX, np.column_stack([valX1]), axis = 1)\n",
    "valX1 = valX[:,1]**2 ##------------------------------------------------------------------------------------------------x2^2\n",
    "valX = np.append(valX, np.column_stack([valX1]), axis = 1)\n",
    "\n",
    "valX1 = valX[:,0]**3 ##------------------------------------------------------------------------------------------------x1^3\n",
    "valX = np.append(valX, np.column_stack([valX1]), axis = 1)\n",
    "valX1 = (valX[:,0]**2)*(valX[:,1]) ##----------------------------------------------------------------------------------x1^2x2\n",
    "valX = np.append(valX, np.column_stack([valX1]), axis = 1)\n",
    "valX1 = (valX[:,0])*(valX[:,1]**2) ##----------------------------------------------------------------------------------x1x2^2\n",
    "valX = np.append(valX, np.column_stack([valX1]), axis = 1)\n",
    "valX1 = valX[:,1]**3 #-------------------------------------------------------------------------------------------------x2^3\n",
    "valX = np.append(valX, np.column_stack([valX1]), axis = 1)\n",
    "\n",
    "valX1 = valX[:,0]**4 #-------------------------------------------------------------------------------------------------x1^4\n",
    "valX = np.append(valX, np.column_stack([valX1]), axis = 1)\n",
    "valX1 = (valX[:,0]**3)*(valX[:,1]) #-----------------------------------------------------------------------------------x1^3x2\n",
    "valX = np.append(valX, np.column_stack([valX1]), axis = 1)\n",
    "valX1 = (valX[:,0]**2)*(valX[:,1]**2) #--------------------------------------------------------------------------------x1^2x2^2\n",
    "valX = np.append(valX, np.column_stack([valX1]), axis = 1)\n",
    "valX1 = (valX[:,0])*(valX[:,1]**3) #-----------------------------------------------------------------------------------x1x2^3\n",
    "valX = np.append(valX, np.column_stack([valX1]), axis = 1)\n",
    "valX1 = valX[:,1]**4 #-------------------------------------------------------------------------------------------------x2^4\n",
    "valX = np.append(valX, np.column_stack([valX1]), axis = 1)\n",
    "\n",
    "valX1 = valX[:,0]**5 #-------------------------------------------------------------------------------------------------x1^5\n",
    "valX = np.append(valX, np.column_stack([valX1]), axis = 1)\n",
    "valX1 = (valX[:,0]**4)*(valX[:,1]) #-----------------------------------------------------------------------------------x1^4x2\n",
    "valX = np.append(valX, np.column_stack([valX1]), axis = 1)\n",
    "valX1 = (valX[:,0]**3)*(valX[:,1]**2) #--------------------------------------------------------------------------------x1^3x2^2\n",
    "valX = np.append(valX, np.column_stack([valX1]), axis = 1)\n",
    "valX1 = (valX[:,0]**2)*(valX[:,1]**3) #--------------------------------------------------------------------------------x1^2x2^3\n",
    "valX = np.append(valX, np.column_stack([valX1]), axis = 1)\n",
    "valX1 = (valX[:,0])*(valX[:,1]**4) #-----------------------------------------------------------------------------------x1x2^4\n",
    "valX = np.append(valX, np.column_stack([valX1]), axis = 1)\n",
    "valX1 = valX[:,1]**5 #-------------------------------------------------------------------------------------------------x2^5\n",
    "valX = np.append(valX, np.column_stack([valX1]), axis = 1)\n",
    "\n",
    "valX1 = valX[:,0]**6 #-------------------------------------------------------------------------------------------------x1^6\n",
    "valX = np.append(valX, np.column_stack([valX1]), axis = 1)\n",
    "valX1 = (valX[:,0]**5)*(valX[:,1]) #-----------------------------------------------------------------------------------x1^5x2\n",
    "valX = np.append(valX, np.column_stack([valX1]), axis = 1)\n",
    "valX1 = (valX[:,0]**4)*(valX[:,1]**2) #--------------------------------------------------------------------------------x1^4x2^2\n",
    "valX = np.append(valX, np.column_stack([valX1]), axis = 1)\n",
    "valX1 = (valX[:,0]**3)*(valX[:,1]**3) #--------------------------------------------------------------------------------x1^3x2^3\n",
    "valX = np.append(valX, np.column_stack([valX1]), axis = 1)\n",
    "valX1 = (valX[:,0]**2)*(valX[:,1]**4) #--------------------------------------------------------------------------------x1^2x2^4\n",
    "valX = np.append(valX, np.column_stack([valX1]), axis = 1)\n",
    "valX1 = (valX[:,0])*(valX[:,1]**5) #-----------------------------------------------------------------------------------x1x2^4\n",
    "valX = np.append(valX, np.column_stack([valX1]), axis = 1)\n",
    "valX1 = valX[:,1]**6 #-------------------------------------------------------------------------------------------------x2^6\n",
    "valX = np.append(valX, np.column_stack([valX1]), axis = 1)\n",
    "\n",
    "valX1 = valX[:,0]**7 #-------------------------------------------------------------------------------------------------x1^7\n",
    "valX = np.append(valX, np.column_stack([valX1]), axis = 1)\n",
    "valX1 = (valX[:,0]**6)*(valX[:,1]) #-----------------------------------------------------------------------------------x1^6x2\n",
    "valX = np.append(valX, np.column_stack([valX1]), axis = 1)\n",
    "valX1 = (valX[:,0]**5)*(valX[:,1]**2) #--------------------------------------------------------------------------------x1^5x2^2\n",
    "valX = np.append(valX, np.column_stack([valX1]), axis = 1)\n",
    "valX1 = (valX[:,0]**4)*(valX[:,1]**3) #--------------------------------------------------------------------------------x1^4x2^3\n",
    "valX = np.append(valX, np.column_stack([valX1]), axis = 1)\n",
    "valX1 = (valX[:,0]**3)*(valX[:,1]**4) #--------------------------------------------------------------------------------x1^3x2^4\n",
    "valX = np.append(valX, np.column_stack([valX1]), axis = 1)\n",
    "valX1 = (valX[:,0]**2)*(valX[:,1]**5) #--------------------------------------------------------------------------------x1^2x2^5\n",
    "valX = np.append(valX, np.column_stack([valX1]), axis = 1)\n",
    "valX1 = (valX[:,0])*(valX[:,1]**6) #-----------------------------------------------------------------------------------x1x2^6\n",
    "valX = np.append(valX, np.column_stack([valX1]), axis = 1)\n",
    "valX1 = valX[:,1]**7 #-------------------------------------------------------------------------------------------------x2^7\n",
    "valX = np.append(valX, np.column_stack([valX1]), axis = 1)\n",
    "\n",
    "\n",
    "valX1 = valX[:,0]**8 #-------------------------------------------------------------------------------------------------x1^8\n",
    "valX = np.append(valX, np.column_stack([valX1]), axis = 1)\n",
    "valX1 = (valX[:,0]**7)*(valX[:,1]) #-----------------------------------------------------------------------------------x1^7x2\n",
    "valX = np.append(valX, np.column_stack([valX1]), axis = 1)\n",
    "valX1 = (valX[:,0]**6)*(valX[:,1]**2) #--------------------------------------------------------------------------------x1^6x2^2\n",
    "valX = np.append(valX, np.column_stack([valX1]), axis = 1)\n",
    "valX1 = (valX[:,0]**5)*(valX[:,1]**3) #--------------------------------------------------------------------------------x1^5x2^3\n",
    "valX = np.append(valX, np.column_stack([valX1]), axis = 1)\n",
    "valX1 = (valX[:,0]**4)*(valX[:,1]**4) #--------------------------------------------------------------------------------x1^4x2^4\n",
    "valX = np.append(valX, np.column_stack([valX1]), axis = 1)\n",
    "valX1 = (valX[:,0]**3)*(valX[:,1]**5) #--------------------------------------------------------------------------------x1^3x2^5\n",
    "valX = np.append(valX, np.column_stack([valX1]), axis = 1)\n",
    "valX1 = (valX[:,0]**2)*(valX[:,1]**6) #--------------------------------------------------------------------------------x1^2x2^6\n",
    "valX = np.append(valX, np.column_stack([valX1]), axis = 1)\n",
    "valX1 = (valX[:,0])*(valX[:,1]**7) #-----------------------------------------------------------------------------------x1x2^7\n",
    "valX = np.append(valX, np.column_stack([valX1]), axis = 1)\n",
    "valX1 = valX[:,1]**8 #-------------------------------------------------------------------------------------------------x2^8\n",
    "valX = np.append(valX, np.column_stack([valX1]), axis = 1)\n",
    "\n",
    "valX1 = valX[:,0]**9 #-------------------------------------------------------------------------------------------------x1^9\n",
    "valX = np.append(valX, np.column_stack([valX1]), axis = 1)\n",
    "valX1 = (valX[:,0]**8)*(valX[:,1]) #-----------------------------------------------------------------------------------x1^8x2\n",
    "valX = np.append(valX, np.column_stack([valX1]), axis = 1)\n",
    "valX1 = (valX[:,0]**7)*(valX[:,1]**2) #--------------------------------------------------------------------------------x1^7x2^2\n",
    "valX = np.append(valX, np.column_stack([valX1]), axis = 1)\n",
    "valX1 = (valX[:,0]**6)*(valX[:,1]**3) #--------------------------------------------------------------------------------x1^6x2^3\n",
    "valX = np.append(valX, np.column_stack([valX1]), axis = 1)\n",
    "valX1 = (valX[:,0]**5)*(valX[:,1]**4) #--------------------------------------------------------------------------------x1^5x2^4\n",
    "valX = np.append(valX, np.column_stack([valX1]), axis = 1)\n",
    "valX1 = (valX[:,0]**4)*(valX[:,1]**5) #--------------------------------------------------------------------------------x1^4x2^5\n",
    "valX = np.append(valX, np.column_stack([valX1]), axis = 1)\n",
    "valX1 = (valX[:,0]**3)*(valX[:,1]**6) #--------------------------------------------------------------------------------x1^3x2^6\n",
    "valX = np.append(valX, np.column_stack([valX1]), axis = 1)\n",
    "valX1 = (valX[:,0]**2)*(valX[:,1]**7) #--------------------------------------------------------------------------------x1^3x2^6\n",
    "valX = np.append(valX, np.column_stack([valX1]), axis = 1)\n",
    "valX1 = (valX[:,0])*(valX[:,1]**8) #-----------------------------------------------------------------------------------x1x2^8\n",
    "valX = np.append(valX, np.column_stack([valX1]), axis = 1)\n",
    "valX1 = valX[:,1]**9 #-------------------------------------------------------------------------------------------------x2^9\n",
    "valX = np.append(valX, np.column_stack([valX1]), axis = 1)\n",
    "\n",
    "valX = np.append(np.ones((436,1)), valX, axis=1)\n",
    "\n",
    "valY = targetF[targetF.columns[:]].to_numpy()\n",
    "print(np.shape(valY))\n",
    "print(np.shape(valX))\n",
    "# valX is the nd array of target values and their exponents, valY is the respective Yn for every x1n and x2n\n",
    "\n",
    "print(valX[0,1])\n"
   ]
  },
  {
   "cell_type": "code",
   "execution_count": 13,
   "id": "cbb0e298",
   "metadata": {},
   "outputs": [
    {
     "data": {
      "text/html": [
       "<div>\n",
       "<style scoped>\n",
       "    .dataframe tbody tr th:only-of-type {\n",
       "        vertical-align: middle;\n",
       "    }\n",
       "\n",
       "    .dataframe tbody tr th {\n",
       "        vertical-align: top;\n",
       "    }\n",
       "\n",
       "    .dataframe thead th {\n",
       "        text-align: right;\n",
       "    }\n",
       "</style>\n",
       "<table border=\"1\" class=\"dataframe\">\n",
       "  <thead>\n",
       "    <tr style=\"text-align: right;\">\n",
       "      <th></th>\n",
       "      <th>RDCHI</th>\n",
       "      <th>MLOGP</th>\n",
       "    </tr>\n",
       "  </thead>\n",
       "  <tbody>\n",
       "    <tr>\n",
       "      <th>168</th>\n",
       "      <td>-0.694569</td>\n",
       "      <td>-1.763978</td>\n",
       "    </tr>\n",
       "    <tr>\n",
       "      <th>463</th>\n",
       "      <td>-1.212446</td>\n",
       "      <td>-0.868926</td>\n",
       "    </tr>\n",
       "    <tr>\n",
       "      <th>77</th>\n",
       "      <td>-0.025029</td>\n",
       "      <td>-0.330976</td>\n",
       "    </tr>\n",
       "    <tr>\n",
       "      <th>192</th>\n",
       "      <td>-0.637850</td>\n",
       "      <td>-0.069177</td>\n",
       "    </tr>\n",
       "    <tr>\n",
       "      <th>408</th>\n",
       "      <td>-0.253141</td>\n",
       "      <td>-0.245432</td>\n",
       "    </tr>\n",
       "    <tr>\n",
       "      <th>...</th>\n",
       "      <td>...</td>\n",
       "      <td>...</td>\n",
       "    </tr>\n",
       "    <tr>\n",
       "      <th>131</th>\n",
       "      <td>-0.518245</td>\n",
       "      <td>-1.067571</td>\n",
       "    </tr>\n",
       "    <tr>\n",
       "      <th>43</th>\n",
       "      <td>-0.600858</td>\n",
       "      <td>-0.210411</td>\n",
       "    </tr>\n",
       "    <tr>\n",
       "      <th>121</th>\n",
       "      <td>2.793700</td>\n",
       "      <td>-1.307553</td>\n",
       "    </tr>\n",
       "    <tr>\n",
       "      <th>249</th>\n",
       "      <td>0.226511</td>\n",
       "      <td>1.813361</td>\n",
       "    </tr>\n",
       "    <tr>\n",
       "      <th>106</th>\n",
       "      <td>-1.212446</td>\n",
       "      <td>-0.868926</td>\n",
       "    </tr>\n",
       "  </tbody>\n",
       "</table>\n",
       "<p>110 rows × 2 columns</p>\n",
       "</div>"
      ],
      "text/plain": [
       "        RDCHI     MLOGP\n",
       "168 -0.694569 -1.763978\n",
       "463 -1.212446 -0.868926\n",
       "77  -0.025029 -0.330976\n",
       "192 -0.637850 -0.069177\n",
       "408 -0.253141 -0.245432\n",
       "..        ...       ...\n",
       "131 -0.518245 -1.067571\n",
       "43  -0.600858 -0.210411\n",
       "121  2.793700 -1.307553\n",
       "249  0.226511  1.813361\n",
       "106 -1.212446 -0.868926\n",
       "\n",
       "[110 rows x 2 columns]"
      ]
     },
     "execution_count": 13,
     "metadata": {},
     "output_type": "execute_result"
    }
   ],
   "source": [
    "testX = pd.DataFrame(test[[\"RDCHI\", \"MLOGP\"]])\n",
    "testY = pd.DataFrame(test['quantitative response of LC50'])\n",
    "testX"
   ]
  },
  {
   "cell_type": "code",
   "execution_count": 14,
   "id": "3c103a6f",
   "metadata": {},
   "outputs": [
    {
     "data": {
      "text/html": [
       "<div>\n",
       "<style scoped>\n",
       "    .dataframe tbody tr th:only-of-type {\n",
       "        vertical-align: middle;\n",
       "    }\n",
       "\n",
       "    .dataframe tbody tr th {\n",
       "        vertical-align: top;\n",
       "    }\n",
       "\n",
       "    .dataframe thead th {\n",
       "        text-align: right;\n",
       "    }\n",
       "</style>\n",
       "<table border=\"1\" class=\"dataframe\">\n",
       "  <thead>\n",
       "    <tr style=\"text-align: right;\">\n",
       "      <th></th>\n",
       "      <th>quantitative response of LC50</th>\n",
       "    </tr>\n",
       "  </thead>\n",
       "  <tbody>\n",
       "    <tr>\n",
       "      <th>168</th>\n",
       "      <td>-0.331141</td>\n",
       "    </tr>\n",
       "    <tr>\n",
       "      <th>463</th>\n",
       "      <td>-0.925058</td>\n",
       "    </tr>\n",
       "    <tr>\n",
       "      <th>77</th>\n",
       "      <td>1.314892</td>\n",
       "    </tr>\n",
       "    <tr>\n",
       "      <th>192</th>\n",
       "      <td>0.064003</td>\n",
       "    </tr>\n",
       "    <tr>\n",
       "      <th>408</th>\n",
       "      <td>-0.641011</td>\n",
       "    </tr>\n",
       "    <tr>\n",
       "      <th>...</th>\n",
       "      <td>...</td>\n",
       "    </tr>\n",
       "    <tr>\n",
       "      <th>131</th>\n",
       "      <td>0.119852</td>\n",
       "    </tr>\n",
       "    <tr>\n",
       "      <th>43</th>\n",
       "      <td>-0.959288</td>\n",
       "    </tr>\n",
       "    <tr>\n",
       "      <th>121</th>\n",
       "      <td>-0.033882</td>\n",
       "    </tr>\n",
       "    <tr>\n",
       "      <th>249</th>\n",
       "      <td>0.589461</td>\n",
       "    </tr>\n",
       "    <tr>\n",
       "      <th>106</th>\n",
       "      <td>-1.758584</td>\n",
       "    </tr>\n",
       "  </tbody>\n",
       "</table>\n",
       "<p>110 rows × 1 columns</p>\n",
       "</div>"
      ],
      "text/plain": [
       "     quantitative response of LC50\n",
       "168                      -0.331141\n",
       "463                      -0.925058\n",
       "77                        1.314892\n",
       "192                       0.064003\n",
       "408                      -0.641011\n",
       "..                             ...\n",
       "131                       0.119852\n",
       "43                       -0.959288\n",
       "121                      -0.033882\n",
       "249                       0.589461\n",
       "106                      -1.758584\n",
       "\n",
       "[110 rows x 1 columns]"
      ]
     },
     "execution_count": 14,
     "metadata": {},
     "output_type": "execute_result"
    }
   ],
   "source": [
    "testY"
   ]
  },
  {
   "cell_type": "code",
   "execution_count": 55,
   "id": "0ac60508",
   "metadata": {},
   "outputs": [
    {
     "name": "stdout",
     "output_type": "stream",
     "text": [
      "(110, 1)\n",
      "(110, 55)\n",
      "-0.6945694275341563\n"
     ]
    }
   ],
   "source": [
    "# Value order to be followed: x1,x2, x1^2,x1x2,x2^2, x1^3,x1^2x2,x1x2^2,x2^3.... meant for all degrees to make measure errors\n",
    "testXVal = testX[testX.columns[:]].to_numpy()\n",
    "testXVal1 = testXVal[:,0]**2 ##-----------------------------------------------------------------------------------------x1^2\n",
    "testXVal = np.append(testXVal, np.column_stack([testXVal1]), axis = 1)\n",
    "testXVal1 = testXVal[:,0]*testXVal[:,1] #-------------------------------------------------------------------------------x1x2\n",
    "testXVal = np.append(testXVal, np.column_stack([testXVal1]), axis = 1)\n",
    "testXVal1 = testXVal[:,1]**2 ##-----------------------------------------------------------------------------------------x2^2\n",
    "testXVal = np.append(testXVal, np.column_stack([testXVal1]), axis = 1)\n",
    "\n",
    "testXVal1 = testXVal[:,0]**3 ##-----------------------------------------------------------------------------------------x1^3\n",
    "testXVal = np.append(testXVal, np.column_stack([testXVal1]), axis = 1)\n",
    "testXVal1 = (testXVal[:,0]**2)*(testXVal[:,1]) ##-----------------------------------------------------------------------x1^2x2\n",
    "testXVal = np.append(testXVal, np.column_stack([testXVal1]), axis = 1)\n",
    "testXVal1 = (testXVal[:,0])*(testXVal[:,1]**2) ##-----------------------------------------------------------------------x1x2^2\n",
    "testXVal = np.append(testXVal, np.column_stack([testXVal1]), axis = 1)\n",
    "testXVal1 = testXVal[:,1]**3 #------------------------------------------------------------------------------------------x2^3\n",
    "testXVal = np.append(testXVal, np.column_stack([testXVal1]), axis = 1)\n",
    "\n",
    "testXVal1 = testXVal[:,0]**4 #------------------------------------------------------------------------------------------x1^4\n",
    "testXVal = np.append(testXVal, np.column_stack([testXVal1]), axis = 1)\n",
    "testXVal1 = (testXVal[:,0]**3)*(testXVal[:,1]) #------------------------------------------------------------------------x1^3x2\n",
    "testXVal = np.append(testXVal, np.column_stack([testXVal1]), axis = 1)\n",
    "testXVal1 = (testXVal[:,0]**2)*(testXVal[:,1]**2) #---------------------------------------------------------------------x1^2x2^2\n",
    "testXVal = np.append(testXVal, np.column_stack([testXVal1]), axis = 1)\n",
    "testXVal1 = (testXVal[:,0])*(testXVal[:,1]**3) #------------------------------------------------------------------------x1x2^3\n",
    "testXVal = np.append(testXVal, np.column_stack([testXVal1]), axis = 1)\n",
    "testXVal1 = testXVal[:,1]**4 #------------------------------------------------------------------------------------------x2^4\n",
    "testXVal = np.append(testXVal, np.column_stack([testXVal1]), axis = 1)\n",
    "\n",
    "testXVal1 = testXVal[:,0]**5 #------------------------------------------------------------------------------------------x1^5\n",
    "testXVal = np.append(testXVal, np.column_stack([testXVal1]), axis = 1)\n",
    "testXVal1 = (testXVal[:,0]**4)*(testXVal[:,1]) #------------------------------------------------------------------------x1^4x2\n",
    "testXVal = np.append(testXVal, np.column_stack([testXVal1]), axis = 1)\n",
    "testXVal1 = (testXVal[:,0]**3)*(testXVal[:,1]**2) #---------------------------------------------------------------------x1^3x2^2\n",
    "testXVal = np.append(testXVal, np.column_stack([testXVal1]), axis = 1)\n",
    "testXVal1 = (testXVal[:,0]**2)*(testXVal[:,1]**3) #---------------------------------------------------------------------x1^2x2^3\n",
    "testXVal = np.append(testXVal, np.column_stack([testXVal1]), axis = 1)\n",
    "testXVal1 = (testXVal[:,0])*(testXVal[:,1]**4) #------------------------------------------------------------------------x1x2^4\n",
    "testXVal = np.append(testXVal, np.column_stack([testXVal1]), axis = 1)\n",
    "testXVal1 = testXVal[:,1]**5 #------------------------------------------------------------------------------------------x2^5\n",
    "testXVal = np.append(testXVal, np.column_stack([testXVal1]), axis = 1)\n",
    "\n",
    "testXVal1 = testXVal[:,0]**6 #------------------------------------------------------------------------------------------x1^6\n",
    "testXVal = np.append(testXVal, np.column_stack([testXVal1]), axis = 1)\n",
    "testXVal1 = (testXVal[:,0]**5)*(testXVal[:,1]) #------------------------------------------------------------------------x1^5x2\n",
    "testXVal = np.append(testXVal, np.column_stack([testXVal1]), axis = 1)\n",
    "testXVal1 = (testXVal[:,0]**4)*(testXVal[:,1]**2) #---------------------------------------------------------------------x1^4x2^2\n",
    "testXVal = np.append(testXVal, np.column_stack([testXVal1]), axis = 1)\n",
    "testXVal1 = (testXVal[:,0]**3)*(testXVal[:,1]**3) #---------------------------------------------------------------------x1^3x2^3\n",
    "testXVal = np.append(testXVal, np.column_stack([testXVal1]), axis = 1)\n",
    "testXVal1 = (testXVal[:,0]**2)*(testXVal[:,1]**4) #---------------------------------------------------------------------x1^2x2^4\n",
    "testXVal = np.append(testXVal, np.column_stack([testXVal1]), axis = 1)\n",
    "testXVal1 = (testXVal[:,0])*(testXVal[:,1]**5) #------------------------------------------------------------------------x1x2^4\n",
    "testXVal = np.append(testXVal, np.column_stack([testXVal1]), axis = 1)\n",
    "testXVal1 = testXVal[:,1]**6 #------------------------------------------------------------------------------------------x2^6\n",
    "testXVal = np.append(testXVal, np.column_stack([testXVal1]), axis = 1)\n",
    "\n",
    "testXVal1 = testXVal[:,0]**7 #------------------------------------------------------------------------------------------x1^7\n",
    "testXVal = np.append(testXVal, np.column_stack([testXVal1]), axis = 1)\n",
    "testXVal1 = (testXVal[:,0]**6)*(testXVal[:,1]) #------------------------------------------------------------------------x1^6x2\n",
    "testXVal = np.append(testXVal, np.column_stack([testXVal1]), axis = 1)\n",
    "testXVal1 = (testXVal[:,0]**5)*(testXVal[:,1]**2) #---------------------------------------------------------------------x1^5x2^2\n",
    "testXVal = np.append(testXVal, np.column_stack([testXVal1]), axis = 1)\n",
    "testXVal1 = (testXVal[:,0]**4)*(testXVal[:,1]**3) #---------------------------------------------------------------------x1^4x2^3\n",
    "testXVal = np.append(testXVal, np.column_stack([testXVal1]), axis = 1)\n",
    "testXVal1 = (testXVal[:,0]**3)*(testXVal[:,1]**4) #---------------------------------------------------------------------x1^3x2^4\n",
    "testXVal = np.append(testXVal, np.column_stack([testXVal1]), axis = 1)\n",
    "testXVal1 = (testXVal[:,0]**2)*(testXVal[:,1]**5) #---------------------------------------------------------------------x1^2x2^5\n",
    "testXVal = np.append(testXVal, np.column_stack([testXVal1]), axis = 1)\n",
    "testXVal1 = (testXVal[:,0])*(testXVal[:,1]**6) #------------------------------------------------------------------------x1x2^6\n",
    "testXVal = np.append(testXVal, np.column_stack([testXVal1]), axis = 1)\n",
    "testXVal1 = testXVal[:,1]**7 #------------------------------------------------------------------------------------------x2^7\n",
    "testXVal = np.append(testXVal, np.column_stack([testXVal1]), axis = 1)\n",
    "\n",
    "\n",
    "testXVal1 = testXVal[:,0]**8 #------------------------------------------------------------------------------------------x1^8\n",
    "testXVal = np.append(testXVal, np.column_stack([testXVal1]), axis = 1)\n",
    "testXVal1 = (testXVal[:,0]**7)*(testXVal[:,1]) #------------------------------------------------------------------------x1^7x2\n",
    "testXVal = np.append(testXVal, np.column_stack([testXVal1]), axis = 1)\n",
    "testXVal1 = (testXVal[:,0]**6)*(testXVal[:,1]**2) #---------------------------------------------------------------------x1^6x2^2\n",
    "testXVal = np.append(testXVal, np.column_stack([testXVal1]), axis = 1)\n",
    "testXVal1 = (testXVal[:,0]**5)*(testXVal[:,1]**3) #---------------------------------------------------------------------x1^5x2^3\n",
    "testXVal = np.append(testXVal, np.column_stack([testXVal1]), axis = 1)\n",
    "testXVal1 = (testXVal[:,0]**4)*(testXVal[:,1]**4) #---------------------------------------------------------------------x1^4x2^4\n",
    "testXVal = np.append(testXVal, np.column_stack([testXVal1]), axis = 1)\n",
    "testXVal1 = (testXVal[:,0]**3)*(testXVal[:,1]**5) #---------------------------------------------------------------------x1^3x2^5\n",
    "testXVal = np.append(testXVal, np.column_stack([testXVal1]), axis = 1)\n",
    "testXVal1 = (testXVal[:,0]**2)*(testXVal[:,1]**6) #---------------------------------------------------------------------x1^2x2^6\n",
    "testXVal = np.append(testXVal, np.column_stack([testXVal1]), axis = 1)\n",
    "testXVal1 = (testXVal[:,0])*(testXVal[:,1]**7) #------------------------------------------------------------------------x1x2^7\n",
    "testXVal = np.append(testXVal, np.column_stack([testXVal1]), axis = 1)\n",
    "testXVal1 = testXVal[:,1]**8 #------------------------------------------------------------------------------------------x2^8\n",
    "testXVal = np.append(testXVal, np.column_stack([testXVal1]), axis = 1)\n",
    "\n",
    "testXVal1 = testXVal[:,0]**9 #------------------------------------------------------------------------------------------x1^9\n",
    "testXVal = np.append(testXVal, np.column_stack([testXVal1]), axis = 1)\n",
    "testXVal1 = (testXVal[:,0]**8)*(testXVal[:,1]) #------------------------------------------------------------------------x1^8x2\n",
    "testXVal = np.append(testXVal, np.column_stack([testXVal1]), axis = 1)\n",
    "testXVal1 = (testXVal[:,0]**7)*(testXVal[:,1]**2) #---------------------------------------------------------------------x1^7x2^2\n",
    "testXVal = np.append(testXVal, np.column_stack([testXVal1]), axis = 1)\n",
    "testXVal1 = (testXVal[:,0]**6)*(testXVal[:,1]**3) #---------------------------------------------------------------------x1^6x2^3\n",
    "testXVal = np.append(testXVal, np.column_stack([testXVal1]), axis = 1)\n",
    "testXVal1 = (testXVal[:,0]**5)*(testXVal[:,1]**4) #---------------------------------------------------------------------x1^5x2^4\n",
    "testXVal = np.append(testXVal, np.column_stack([testXVal1]), axis = 1)\n",
    "testXVal1 = (testXVal[:,0]**4)*(testXVal[:,1]**5) #---------------------------------------------------------------------x1^4x2^5\n",
    "testXVal = np.append(testXVal, np.column_stack([testXVal1]), axis = 1)\n",
    "testXVal1 = (testXVal[:,0]**3)*(testXVal[:,1]**6) #---------------------------------------------------------------------x1^3x2^6\n",
    "testXVal = np.append(testXVal, np.column_stack([testXVal1]), axis = 1)\n",
    "testXVal1 = (testXVal[:,0]**2)*(testXVal[:,1]**7) #---------------------------------------------------------------------x1^3x2^6\n",
    "testXVal = np.append(testXVal, np.column_stack([testXVal1]), axis = 1)\n",
    "testXVal1 = (testXVal[:,0])*(testXVal[:,1]**8) #------------------------------------------------------------------------x1x2^8\n",
    "testXVal = np.append(testXVal, np.column_stack([testXVal1]), axis = 1)\n",
    "testXVal1 = testXVal[:,1]**9 #------------------------------------------------------------------------------------------x2^9\n",
    "testXVal = np.append(testXVal, np.column_stack([testXVal1]), axis = 1)\n",
    "\n",
    "testXVal = np.append(np.ones((110,1)), testXVal, axis=1)\n",
    "\n",
    "testYVal = testY[testY.columns[:]].to_numpy()\n",
    "print(np.shape(testYVal))\n",
    "print(np.shape(testXVal))\n",
    "# testXVal is the nd array of target values and their exponents, valY is the respective Yn for every x1n and x2n\n",
    "\n",
    "print(testXVal[0,1])\n"
   ]
  },
  {
   "cell_type": "code",
   "execution_count": 56,
   "id": "f7938765",
   "metadata": {},
   "outputs": [],
   "source": [
    "iters = 1500\n",
    "learningRate = 0.01 #yeta or n\n",
    "costArr= np.zeros(iters+100)\n",
    "counterArr = np.zeros(iters+100)"
   ]
  },
  {
   "cell_type": "code",
   "execution_count": 53,
   "id": "ca2af950",
   "metadata": {},
   "outputs": [
    {
     "name": "stdout",
     "output_type": "stream",
     "text": [
      "w0 = -0.00023571442242537348\n"
     ]
    },
    {
     "data": {
      "image/png": "[encoded data removed]",
      "text/plain": [
       "<Figure size 432x288 with 1 Axes>"
      ]
     },
     "metadata": {
      "needs_background": "light"
     },
     "output_type": "display_data"
    }
   ],
   "source": [
    "# Degree 0 manipulation for other degrees w = np.zeros((wSize, 1))\n",
    "w = 0\n",
    "wSize = 1\n",
    "counter = 0\n",
    "for i in range(iters):\n",
    "    #print(np.mean(valY))\n",
    "    w1 = w + learningRate*(np.mean(valY)-w)\n",
    "    #print(w1,w)\n",
    "    if w1-w <= 10**(-20):\n",
    "        w=w1\n",
    "        break\n",
    "    counter+=1\n",
    "    costArr[counter] = (np.mean(valY)-w)\n",
    "    counterArr[counter] = counter\n",
    "    w=w1\n",
    "#print(counter)\n",
    "print(\"w0 =\", w)\n",
    "fig,ax = plt.subplots()\n",
    "ax.plot(costArr[1:iters])\n",
    "plt.title(\"Gradient Descent method degree 0 - w0 values\")\n",
    "plt.show() # from the graph below we can stop at 500 iterations itself, but we check for 10**(-20) difference anyway"
   ]
  },
  {
   "cell_type": "code",
   "execution_count": 19,
   "id": "a00809f9",
   "metadata": {},
   "outputs": [
    {
     "data": {
      "text/plain": [
       "1.0025212085308088"
      ]
     },
     "execution_count": 19,
     "metadata": {},
     "output_type": "execute_result"
    }
   ],
   "source": [
    "#training data error for degree 0\n",
    "w1 = 0\n",
    "for i in range(np.shape(valX)[0]):\n",
    "    w1+= (np.sum(w*valX[i,:wSize]) - valY[i,0])**2\n",
    "    \n",
    "w1/np.shape(valX)[0]"
   ]
  },
  {
   "cell_type": "code",
   "execution_count": 18,
   "id": "898eba88",
   "metadata": {},
   "outputs": [
    {
     "data": {
      "text/plain": [
       "0.9809162128821011"
      ]
     },
     "execution_count": 18,
     "metadata": {},
     "output_type": "execute_result"
    }
   ],
   "source": [
    "# testing data error for degree 0\n",
    "testError = 0\n",
    "for i in range(np.shape(testXVal)[0]):\n",
    "    testError += (w - testYVal[i,0])**2\n",
    "    \n",
    "testError/np.shape(testXVal)[0]"
   ]
  },
  {
   "cell_type": "code",
   "execution_count": 54,
   "id": "7478254f",
   "metadata": {},
   "outputs": [
    {
     "name": "stdout",
     "output_type": "stream",
     "text": [
      "w0=0.2021232373087642\n",
      "w1=-0.02337659542656846\n",
      "w2=0.01718978430670113\n"
     ]
    },
    {
     "data": {
      "image/png": "[encoded data removed]",
      "text/plain": [
       "<Figure size 432x288 with 1 Axes>"
      ]
     },
     "metadata": {
      "needs_background": "light"
     },
     "output_type": "display_data"
    }
   ],
   "source": [
    "# Degree 1 here\n",
    "degree = 1\n",
    "wSize = int((degree+1)*(degree+2)/2)\n",
    "w = np.zeros(wSize) # similar template for others\n",
    "w1 = np.zeros(wSize)\n",
    "#print(w, '\\n', w1)\n",
    "\n",
    "counter = 0\n",
    "costArr= np.zeros(iters+100)\n",
    "counterArr = np.zeros(iters+100)\n",
    "for i in range(iters):\n",
    "    w2 = np.zeros(wSize)\n",
    "    for j in range(np.shape(valX)[0]):\n",
    "        w2 += ((valY[:wSize,0]-(w*valX[j,:wSize]))*valX[j,:wSize])\n",
    "\n",
    "    w2 = w2/np.shape(valX)[0] #N\n",
    "    \n",
    "    w1 = w + learningRate*w2\n",
    "    if w1[0] - w[0] <= 10**(-20):\n",
    "        w=w1\n",
    "        break\n",
    "    w=w1\n",
    "    counter+=1\n",
    "    costArr[counter] = w2[0]\n",
    "    counterArr[counter] = counter\n",
    "\n",
    "   \n",
    "\n",
    "for i in range(np.shape(w)[0]):    \n",
    "    print(\"w\", i, \"=\", w[i], sep = '')\n",
    "\n",
    "np.shape(valX)[0]\n",
    "fig,ax = plt.subplots()\n",
    "ax.plot(costArr[1:iters])\n",
    "plt.title(\"Gradient Descent method degree 1 - w0 values\")\n",
    "plt.show() # the number of iterations are maxed out in the end, "
   ]
  },
  {
   "cell_type": "code",
   "execution_count": 21,
   "id": "058a4c36",
   "metadata": {},
   "outputs": [
    {
     "data": {
      "text/plain": [
       "1.0536358887713195"
      ]
     },
     "execution_count": 21,
     "metadata": {},
     "output_type": "execute_result"
    }
   ],
   "source": [
    "# training data error for degree 1\n",
    "w1 = 0\n",
    "for i in range(np.shape(valX)[0]):\n",
    "    w1+= (np.sum(w*valX[i,:wSize]) - valY[i,0])**2\n",
    "    \n",
    "w1/np.shape(valX)[0]"
   ]
  },
  {
   "cell_type": "code",
   "execution_count": 22,
   "id": "09c232c7",
   "metadata": {},
   "outputs": [
    {
     "data": {
      "text/plain": [
       "0.9832360789687409"
      ]
     },
     "execution_count": 22,
     "metadata": {},
     "output_type": "execute_result"
    }
   ],
   "source": [
    "# testing data error for degree 1\n",
    "testError = 0\n",
    "for i in range(np.shape(testXVal)[0]):\n",
    "    testError += (np.sum(w*testXVal[i,:wSize]) - testYVal[i,0])**2\n",
    "    \n",
    "testError/np.shape(testXVal)[0]"
   ]
  },
  {
   "cell_type": "code",
   "execution_count": 23,
   "id": "1f43d698",
   "metadata": {},
   "outputs": [
    {
     "name": "stdout",
     "output_type": "stream",
     "text": [
      "w0=0.2021232373087642\n",
      "w1=-0.02337659542656846\n",
      "w2=0.01718978430670113\n",
      "w3=-0.4669594121546303\n",
      "w4=-0.03950734772594903\n",
      "w5=-0.2893876987583577\n"
     ]
    },
    {
     "data": {
      "image/png": "[encoded data removed]",
      "text/plain": [
       "<Figure size 432x288 with 1 Axes>"
      ]
     },
     "metadata": {
      "needs_background": "light"
     },
     "output_type": "display_data"
    }
   ],
   "source": [
    "# Degree 2 here\n",
    "degree = 2\n",
    "wSize = int((degree+1)*(degree+2)/2)\n",
    "w = np.zeros(wSize) # similar template for others\n",
    "w1 = np.zeros(wSize)\n",
    "#print(w, '\\n', w1)\n",
    "\n",
    "counter = 0\n",
    "costArr= np.zeros(iters+100)\n",
    "counterArr = np.zeros(iters+100)\n",
    "for i in range(iters):\n",
    "    w2 = np.zeros(wSize)\n",
    "    for j in range(np.shape(valX)[0]):\n",
    "        w2 += ((valY[:wSize,0]-(w*valX[j,:wSize]))*valX[j,:wSize])\n",
    "\n",
    "    w2 = w2/np.shape(valX)[0] #N\n",
    "    \n",
    "    w1 = w + learningRate*w2\n",
    "    if w1[0] - w[0] <= 10**(-20):\n",
    "        w=w1\n",
    "        break\n",
    "    w=w1\n",
    "    counter+=1\n",
    "    costArr[counter] = w2[0]\n",
    "    counterArr[counter] = counter\n",
    "\n",
    "   \n",
    "\n",
    "for i in range(np.shape(w)[0]):    \n",
    "    print(\"w\", i, \"=\", w[i], sep = '')\n",
    "\n",
    "np.shape(valX)[0]\n",
    "fig,ax = plt.subplots()\n",
    "ax.plot(costArr[1:iters])\n",
    "plt.title(\"Gradient Descent method degree 2 - w0 values\")\n",
    "plt.show() # the number of iterations are maxed out in the end, "
   ]
  },
  {
   "cell_type": "code",
   "execution_count": 24,
   "id": "33c1b91e",
   "metadata": {},
   "outputs": [
    {
     "data": {
      "text/plain": [
       "2.5425818252319083"
      ]
     },
     "execution_count": 24,
     "metadata": {},
     "output_type": "execute_result"
    }
   ],
   "source": [
    "# training data error for degree 2\n",
    "w1 = 0\n",
    "for i in range(np.shape(valX)[0]):\n",
    "    w1+= (np.sum(w*valX[i,:wSize]) - valY[i,0])**2\n",
    "    \n",
    "w1/np.shape(valX)[0]"
   ]
  },
  {
   "cell_type": "code",
   "execution_count": 25,
   "id": "5d67eb8f",
   "metadata": {},
   "outputs": [
    {
     "data": {
      "text/plain": [
       "3.6586366960526284"
      ]
     },
     "execution_count": 25,
     "metadata": {},
     "output_type": "execute_result"
    }
   ],
   "source": [
    "# testing data error for degree 2\n",
    "testError = 0\n",
    "for i in range(np.shape(testXVal)[0]):\n",
    "    testError += (np.sum(w*testXVal[i,:wSize]) - testYVal[i,0])**2\n",
    "    \n",
    "testError/np.shape(testXVal)[0]"
   ]
  },
  {
   "cell_type": "code",
   "execution_count": 26,
   "id": "3f3dd0ac",
   "metadata": {},
   "outputs": [
    {
     "name": "stdout",
     "output_type": "stream",
     "text": [
      "w0=0.2021232373087642\n",
      "w1=-0.02337659542656846\n",
      "w2=0.01718978430670113\n",
      "w3=-0.4669594121546303\n",
      "w4=-0.03950734772594903\n",
      "w5=-0.2893876987583577\n",
      "w6=-0.003414827587892297\n",
      "w7=-0.04427069669647535\n",
      "w8=-0.035065116001472205\n",
      "w9=-0.012476778494547794\n"
     ]
    },
    {
     "data": {
      "image/png": "[encoded data removed]",
      "text/plain": [
       "<Figure size 432x288 with 1 Axes>"
      ]
     },
     "metadata": {
      "needs_background": "light"
     },
     "output_type": "display_data"
    }
   ],
   "source": [
    "# Degree 3 here\n",
    "degree = 3\n",
    "wSize = int((degree+1)*(degree+2)/2)\n",
    "w = np.zeros(wSize) # similar template for others\n",
    "w1 = np.zeros(wSize)\n",
    "#print(w, '\\n', w1)\n",
    "\n",
    "counter = 0\n",
    "costArr= np.zeros(iters+100)\n",
    "counterArr = np.zeros(iters+100)\n",
    "for i in range(iters):\n",
    "    w2 = np.zeros(wSize)\n",
    "    for j in range(np.shape(valX)[0]):\n",
    "        w2 += ((valY[:wSize,0]-(w*valX[j,:wSize]))*valX[j,:wSize])\n",
    "\n",
    "    w2 = w2/np.shape(valX)[0] #N\n",
    "    \n",
    "    w1 = w + learningRate*w2\n",
    "    if w1[0] - w[0] <= 10**(-20):\n",
    "        w=w1\n",
    "        break\n",
    "    w=w1\n",
    "    counter+=1\n",
    "    costArr[counter] = w2[0]\n",
    "    counterArr[counter] = counter\n",
    "\n",
    "   \n",
    "\n",
    "for i in range(np.shape(w)[0]):    \n",
    "    print(\"w\", i, \"=\", w[i], sep = '')\n",
    "\n",
    "np.shape(valX)[0]\n",
    "fig,ax = plt.subplots()\n",
    "ax.plot(costArr[1:iters])\n",
    "plt.title(\"Gradient Descent method degree 3 - w0 values\")\n",
    "plt.show() # the number of iterations are maxed out in the end, "
   ]
  },
  {
   "cell_type": "code",
   "execution_count": 27,
   "id": "d378ff46",
   "metadata": {},
   "outputs": [
    {
     "data": {
      "text/plain": [
       "2.678893528132955"
      ]
     },
     "execution_count": 27,
     "metadata": {},
     "output_type": "execute_result"
    }
   ],
   "source": [
    "# training data error for degree 3\n",
    "w1 = 0\n",
    "for i in range(np.shape(valX)[0]):\n",
    "    w1+= (np.sum(w*valX[i,:wSize]) - valY[i,0])**2\n",
    "    \n",
    "w1/np.shape(valX)[0]"
   ]
  },
  {
   "cell_type": "code",
   "execution_count": 28,
   "id": "b6e9bdeb",
   "metadata": {},
   "outputs": [
    {
     "data": {
      "text/plain": [
       "5.224905976569792"
      ]
     },
     "execution_count": 28,
     "metadata": {},
     "output_type": "execute_result"
    }
   ],
   "source": [
    "# testing data error for degree 3\n",
    "testError = 0\n",
    "for i in range(np.shape(testXVal)[0]):\n",
    "    testError += (np.sum(w*testXVal[i,:wSize]) - testYVal[i,0])**2\n",
    "    \n",
    "testError/np.shape(testXVal)[0]"
   ]
  },
  {
   "cell_type": "code",
   "execution_count": 29,
   "id": "f56aa50f",
   "metadata": {},
   "outputs": [
    {
     "name": "stdout",
     "output_type": "stream",
     "text": [
      "w0=3031.847145823457\n",
      "w1=-344.96019509691735\n",
      "w2=256.90227157135377\n",
      "w3=-31799.44184738281\n",
      "w4=-1059.5110485370094\n",
      "w5=-19012.45843732558\n",
      "w6=-2883.028425957232\n",
      "w7=-6925.529042909045\n",
      "w8=-8983.521767002947\n",
      "w9=-11057.353649432282\n",
      "w10=-5247.739149159947\n",
      "w11=-730.2687649426315\n",
      "w12=10460.566131844877\n",
      "w13=-7103.524677637061\n",
      "w14=-81964.72598811719\n"
     ]
    },
    {
     "data": {
      "image/png": "[encoded data removed]",
      "text/plain": [
       "<Figure size 432x288 with 1 Axes>"
      ]
     },
     "metadata": {
      "needs_background": "light"
     },
     "output_type": "display_data"
    }
   ],
   "source": [
    "# Degree 4 here\n",
    "learningRate = 0.5\n",
    "degree = 4\n",
    "wSize = int((degree+1)*(degree+2)/2)\n",
    "w = np.zeros(wSize) # similar template for others\n",
    "w1 = np.zeros(wSize)\n",
    "#print(w, '\\n', w1)\n",
    "\n",
    "counter = 0\n",
    "costArr= np.zeros(iters*20 +50)\n",
    "counterArr = np.zeros(iters*20 +50)\n",
    "for i in range(iters*20):\n",
    "    w2 = np.zeros(wSize)\n",
    "    for j in range(np.shape(valX)[0]):\n",
    "        w2 += (((valY[:wSize,0] - (w*valX[j,:wSize]))/10**10)*valX[j,:wSize])/np.shape(valX)[0]\n",
    "    \n",
    "    w1 = w + learningRate*w2\n",
    "    w=w1\n",
    "    counter+=1\n",
    "    costArr[counter] = w2[0]\n",
    "    counterArr[counter] = counter\n",
    "\n",
    "   \n",
    "\n",
    "for i in range(np.shape(w)[0]):    \n",
    "    print(\"w\", i, \"=\", w[i]*10**10, sep = '')\n",
    "\n",
    "np.shape(valX)[0]\n",
    "fig,ax = plt.subplots()\n",
    "ax.plot(costArr[1:iters])\n",
    "plt.title(\"Gradient Descent method degree 4 - w0 values\")\n",
    "plt.show() # the number of iterations are maxed out in the end, "
   ]
  },
  {
   "cell_type": "code",
   "execution_count": 30,
   "id": "df24af14",
   "metadata": {},
   "outputs": [
    {
     "data": {
      "text/plain": [
       "1.0025137565232691"
      ]
     },
     "execution_count": 30,
     "metadata": {},
     "output_type": "execute_result"
    }
   ],
   "source": [
    "# training data error for degree 4\n",
    "w1 = 0\n",
    "for i in range(np.shape(valX)[0]):\n",
    "    w1+= (np.sum(w*valX[i,:wSize]) - valY[i,0])**2\n",
    "    \n",
    "w1/np.shape(valX)[0]"
   ]
  },
  {
   "cell_type": "code",
   "execution_count": 31,
   "id": "3a4f30f0",
   "metadata": {},
   "outputs": [
    {
     "data": {
      "text/plain": [
       "0.9809308151605647"
      ]
     },
     "execution_count": 31,
     "metadata": {},
     "output_type": "execute_result"
    }
   ],
   "source": [
    "# testing data error for degree 4\n",
    "testError = 0\n",
    "for i in range(np.shape(testXVal)[0]):\n",
    "    testError += (np.sum(w*testXVal[i,:wSize]) - testYVal[i,0])**2\n",
    "    \n",
    "testError/np.shape(testXVal)[0]"
   ]
  },
  {
   "cell_type": "code",
   "execution_count": 32,
   "id": "3320efa5",
   "metadata": {},
   "outputs": [
    {
     "name": "stdout",
     "output_type": "stream",
     "text": [
      "w0=60.636987483147244\n",
      "w1=-6.8992088904222335\n",
      "w2=5.138049193934433\n",
      "w3=-635.9909590846268\n",
      "w4=-21.19024881562801\n",
      "w5=-380.25039282698816\n",
      "w6=-57.66295393920173\n",
      "w7=-138.5116425675161\n",
      "w8=-179.67269080931317\n",
      "w9=-221.1566766521994\n",
      "w10=-105.03442471159603\n",
      "w11=-14.606634658037848\n",
      "w12=209.22760560002337\n",
      "w13=-142.10604198139896\n",
      "w14=-1640.7925784746906\n",
      "w15=2121.292964223734\n",
      "w16=374.1291726745451\n",
      "w17=763.802187491469\n",
      "w18=344.6442825451578\n",
      "w19=-684.6581555757182\n",
      "w20=2251.274717558892\n"
     ]
    },
    {
     "data": {
      "image/png": "[encoded data removed]",
      "text/plain": [
       "<Figure size 432x288 with 1 Axes>"
      ]
     },
     "metadata": {
      "needs_background": "light"
     },
     "output_type": "display_data"
    }
   ],
   "source": [
    "learningRate = 0.01\n",
    "degree = 5\n",
    "wSize = int((degree+1)*(degree+2)/2)\n",
    "w = np.zeros(wSize) # similar template for others\n",
    "w1 = np.zeros(wSize)\n",
    "#print(w, '\\n', w1)\n",
    "\n",
    "counter = 0\n",
    "costArr= np.zeros(iters*20 +50)\n",
    "counterArr = np.zeros(iters*20 +50)\n",
    "for i in range(iters*20):\n",
    "    w2 = np.zeros(wSize)\n",
    "    for j in range(np.shape(valX)[0]):\n",
    "        w2 += (((valY[:wSize,0] - (w*valX[j,:wSize]))/10**10)*valX[j,:wSize])/np.shape(valX)[0]\n",
    "    \n",
    "    w1 = w + learningRate*w2\n",
    "    w=w1\n",
    "    counter+=1\n",
    "    costArr[counter] = w2[0]\n",
    "    counterArr[counter] = counter\n",
    "\n",
    "   \n",
    "\n",
    "for i in range(np.shape(w)[0]):    \n",
    "    print(\"w\", i, \"=\", w[i]*10**10, sep = '')\n",
    "\n",
    "np.shape(valX)[0]\n",
    "fig,ax = plt.subplots()\n",
    "ax.plot(costArr[1:iters])\n",
    "plt.title(\"Gradient Descent method degree 5 - w0 values\")\n",
    "plt.show() # the number of iterations are maxed out in the end, "
   ]
  },
  {
   "cell_type": "code",
   "execution_count": 33,
   "id": "3813f89b",
   "metadata": {},
   "outputs": [
    {
     "data": {
      "text/plain": [
       "1.0025235345698116"
      ]
     },
     "execution_count": 33,
     "metadata": {},
     "output_type": "execute_result"
    }
   ],
   "source": [
    "# training data error for degree 5\n",
    "w1 = 0\n",
    "for i in range(np.shape(valX)[0]):\n",
    "    w1+= (np.sum(w*valX[i,:wSize]) - valY[i,0])**2\n",
    "    \n",
    "w1/np.shape(valX)[0]"
   ]
  },
  {
   "cell_type": "code",
   "execution_count": 34,
   "id": "7dbab7e9",
   "metadata": {},
   "outputs": [
    {
     "data": {
      "text/plain": [
       "0.9808670109070676"
      ]
     },
     "execution_count": 34,
     "metadata": {},
     "output_type": "execute_result"
    }
   ],
   "source": [
    "# testing data error for degree 5\n",
    "testError = 0\n",
    "for i in range(np.shape(testXVal)[0]):\n",
    "    testError += (np.sum(w*testXVal[i,:wSize]) - testYVal[i,0])**2\n",
    "    \n",
    "testError/np.shape(testXVal)[0]"
   ]
  },
  {
   "cell_type": "code",
   "execution_count": 35,
   "id": "7afb819c",
   "metadata": {},
   "outputs": [
    {
     "name": "stdout",
     "output_type": "stream",
     "text": [
      "w0=60.636987483147244\n",
      "w1=-6.8992088904222335\n",
      "w2=5.138049193934433\n",
      "w3=-635.9909590846268\n",
      "w4=-21.19024881562801\n",
      "w5=-380.25039282698816\n",
      "w6=-57.66295393920173\n",
      "w7=-138.5116425675161\n",
      "w8=-179.67269080931317\n",
      "w9=-221.1566766521994\n",
      "w10=-105.03442471159603\n",
      "w11=-14.606634658037848\n",
      "w12=209.22760560002337\n",
      "w13=-142.10604198139896\n",
      "w14=-1640.7925784746906\n",
      "w15=2121.292964223734\n",
      "w16=374.1291726745451\n",
      "w17=763.802187491469\n",
      "w18=344.6442825451578\n",
      "w19=-684.6581555757182\n",
      "w20=2251.274717558892\n",
      "w21=-14422.849992696969\n",
      "w22=1118.1650473224288\n",
      "w23=-12.063330596769426\n",
      "w24=763.1330344413084\n",
      "w25=12008.385357405268\n",
      "w26=-3087.877530575913\n",
      "w27=9371.00891333519\n"
     ]
    },
    {
     "data": {
      "image/png": "[encoded data removed]",
      "text/plain": [
       "<Figure size 432x288 with 1 Axes>"
      ]
     },
     "metadata": {
      "needs_background": "light"
     },
     "output_type": "display_data"
    }
   ],
   "source": [
    "learningRate = 0.01\n",
    "degree = 6\n",
    "wSize = int((degree+1)*(degree+2)/2)\n",
    "w = np.zeros(wSize) # similar template for others\n",
    "w1 = np.zeros(wSize)\n",
    "#print(w, '\\n', w1)\n",
    "\n",
    "counter = 0\n",
    "costArr= np.zeros(iters*20 +50)\n",
    "counterArr = np.zeros(iters*20 +50)\n",
    "for i in range(iters*20):\n",
    "    w2 = np.zeros(wSize)\n",
    "    for j in range(np.shape(valX)[0]):\n",
    "        w2 += (((valY[:wSize,0] - (w*valX[j,:wSize]))/10**10)*valX[j,:wSize])/np.shape(valX)[0]\n",
    "    \n",
    "    w1 = w + learningRate*w2\n",
    "    w=w1\n",
    "    counter+=1\n",
    "    costArr[counter] = w2[0]\n",
    "    counterArr[counter] = counter\n",
    "\n",
    "   \n",
    "\n",
    "for i in range(np.shape(w)[0]):    \n",
    "    print(\"w\", i, \"=\", w[i]*10**10, sep = '')\n",
    "\n",
    "np.shape(valX)[0]\n",
    "fig,ax = plt.subplots()\n",
    "ax.plot(costArr[1:iters])\n",
    "plt.title(\"Gradient Descent method degree 6 - w0 values\")\n",
    "plt.show() # the number of iterations are maxed out in the end, "
   ]
  },
  {
   "cell_type": "code",
   "execution_count": 36,
   "id": "5ff28bbf",
   "metadata": {},
   "outputs": [
    {
     "data": {
      "text/plain": [
       "1.0026637537853578"
      ]
     },
     "execution_count": 36,
     "metadata": {},
     "output_type": "execute_result"
    }
   ],
   "source": [
    "# training data error for degree 6\n",
    "w1 = 0\n",
    "for i in range(np.shape(valX)[0]):\n",
    "    w1+= (np.sum(w*valX[i,:wSize]) - valY[i,0])**2\n",
    "    \n",
    "w1/np.shape(valX)[0]"
   ]
  },
  {
   "cell_type": "code",
   "execution_count": 37,
   "id": "cd3c8c14",
   "metadata": {},
   "outputs": [
    {
     "data": {
      "text/plain": [
       "0.9807461526255549"
      ]
     },
     "execution_count": 37,
     "metadata": {},
     "output_type": "execute_result"
    }
   ],
   "source": [
    "# testing data error for degree 6\n",
    "testError = 0\n",
    "for i in range(np.shape(testXVal)[0]):\n",
    "    testError += (np.sum(w*testXVal[i,:wSize]) - testYVal[i,0])**2\n",
    "    \n",
    "testError/np.shape(testXVal)[0]"
   ]
  },
  {
   "cell_type": "code",
   "execution_count": 38,
   "id": "7d59db14",
   "metadata": {},
   "outputs": [
    {
     "name": "stdout",
     "output_type": "stream",
     "text": [
      "w0=60.636987483147244\n",
      "w1=-6.8992088904222335\n",
      "w2=5.138049193934433\n",
      "w3=-635.9909590846268\n",
      "w4=-21.19024881562801\n",
      "w5=-380.25039282698816\n",
      "w6=-57.66295393920173\n",
      "w7=-138.5116425675161\n",
      "w8=-179.67269080931317\n",
      "w9=-221.1566766521994\n",
      "w10=-105.03442471159603\n",
      "w11=-14.606634658037848\n",
      "w12=209.22760560002337\n",
      "w13=-142.10604198139896\n",
      "w14=-1640.7925784746906\n",
      "w15=2121.292964223734\n",
      "w16=374.1291726745451\n",
      "w17=763.802187491469\n",
      "w18=344.6442825451578\n",
      "w19=-684.6581555757182\n",
      "w20=2251.274717558892\n",
      "w21=-14422.849992696969\n",
      "w22=1118.1650473224288\n",
      "w23=-12.063330596769426\n",
      "w24=763.1330344413084\n",
      "w25=12008.385357405268\n",
      "w26=-3087.877530575913\n",
      "w27=9371.00891333519\n",
      "w28=-28875.424797648597\n",
      "w29=-22141.174110101714\n",
      "w30=-10393.701385483437\n",
      "w31=-7718.495635942073\n",
      "w32=-19917.463125649825\n",
      "w33=10267.699293763788\n",
      "w34=-587.5985741179719\n",
      "w35=-119659.18078569087\n"
     ]
    },
    {
     "data": {
      "image/png": "[encoded data removed]",
      "text/plain": [
       "<Figure size 432x288 with 1 Axes>"
      ]
     },
     "metadata": {
      "needs_background": "light"
     },
     "output_type": "display_data"
    }
   ],
   "source": [
    "learningRate = 0.01\n",
    "degree = 7\n",
    "wSize = int((degree+1)*(degree+2)/2)\n",
    "w = np.zeros(wSize) # similar template for others\n",
    "w1 = np.zeros(wSize)\n",
    "#print(w, '\\n', w1)\n",
    "\n",
    "counter = 0\n",
    "costArr= np.zeros(iters*20 +50)\n",
    "counterArr = np.zeros(iters*20 +50)\n",
    "for i in range(iters*20):\n",
    "    w2 = np.zeros(wSize)\n",
    "    for j in range(np.shape(valX)[0]):\n",
    "        w2 += (((valY[:wSize,0] - (w*valX[j,:wSize]))/10**10)*valX[j,:wSize])/np.shape(valX)[0]\n",
    "    \n",
    "    w1 = w + learningRate*w2\n",
    "    w=w1\n",
    "    counter+=1\n",
    "    costArr[counter] = w2[0]\n",
    "    counterArr[counter] = counter\n",
    "\n",
    "   \n",
    "\n",
    "for i in range(np.shape(w)[0]):    \n",
    "    print(\"w\", i, \"=\", w[i]*10**10, sep = '')\n",
    "\n",
    "np.shape(valX)[0]\n",
    "fig,ax = plt.subplots()\n",
    "ax.plot(costArr[1:iters])\n",
    "plt.title(\"Gradient Descent method degree 7 - w0 values\")\n",
    "plt.show() # the number of iterations are maxed out in the end, "
   ]
  },
  {
   "cell_type": "code",
   "execution_count": 39,
   "id": "133a908b",
   "metadata": {},
   "outputs": [
    {
     "data": {
      "text/plain": [
       "1.0109666290325927"
      ]
     },
     "execution_count": 39,
     "metadata": {},
     "output_type": "execute_result"
    }
   ],
   "source": [
    "# training data error for degree 7\n",
    "w1 = 0\n",
    "for i in range(np.shape(valX)[0]):\n",
    "    w1+= (np.sum(w*valX[i,:wSize]) - valY[i,0])**2\n",
    "    \n",
    "w1/np.shape(valX)[0]"
   ]
  },
  {
   "cell_type": "code",
   "execution_count": 40,
   "id": "b22cb198",
   "metadata": {},
   "outputs": [
    {
     "data": {
      "text/plain": [
       "0.9849499238273423"
      ]
     },
     "execution_count": 40,
     "metadata": {},
     "output_type": "execute_result"
    }
   ],
   "source": [
    "# testing data error for degree 7\n",
    "testError = 0\n",
    "for i in range(np.shape(testXVal)[0]):\n",
    "    testError += (np.sum(w*testXVal[i,:wSize]) - testYVal[i,0])**2\n",
    "    \n",
    "testError/np.shape(testXVal)[0]"
   ]
  },
  {
   "cell_type": "code",
   "execution_count": 41,
   "id": "50e2d7a4",
   "metadata": {},
   "outputs": [
    {
     "name": "stdout",
     "output_type": "stream",
     "text": [
      "w0=60.636987483147244\n",
      "w1=-6.8992088904222335\n",
      "w2=5.138049193934433\n",
      "w3=-635.9909590846268\n",
      "w4=-21.19024881562801\n",
      "w5=-380.25039282698816\n",
      "w6=-57.66295393920173\n",
      "w7=-138.5116425675161\n",
      "w8=-179.67269080931317\n",
      "w9=-221.1566766521994\n",
      "w10=-105.03442471159603\n",
      "w11=-14.606634658037848\n",
      "w12=209.22760560002337\n",
      "w13=-142.10604198139896\n",
      "w14=-1640.7925784746906\n",
      "w15=2121.292964223734\n",
      "w16=374.1291726745451\n",
      "w17=763.802187491469\n",
      "w18=344.6442825451578\n",
      "w19=-684.6581555757182\n",
      "w20=2251.274717558892\n",
      "w21=-14422.849992696969\n",
      "w22=1118.1650473224288\n",
      "w23=-12.063330596769426\n",
      "w24=763.1330344413084\n",
      "w25=12008.385357405268\n",
      "w26=-3087.877530575913\n",
      "w27=9371.00891333519\n",
      "w28=-28875.424797648597\n",
      "w29=-22141.174110101714\n",
      "w30=-10393.701385483437\n",
      "w31=-7718.495635942073\n",
      "w32=-19917.463125649825\n",
      "w33=10267.699293763788\n",
      "w34=-587.5985741179719\n",
      "w35=-119659.18078569087\n",
      "w36=-77357.88084066776\n",
      "w37=-7321.222514669198\n",
      "w38=14915.326682497427\n",
      "w39=-2239.4747975327664\n",
      "w40=-5996.128771861752\n",
      "w41=-3185.842620690306\n",
      "w42=18827.960085989587\n",
      "w43=133002.06737827533\n",
      "w44=-16984.77272194511\n"
     ]
    },
    {
     "data": {
      "image/png": "[encoded data removed]",
      "text/plain": [
       "<Figure size 432x288 with 1 Axes>"
      ]
     },
     "metadata": {
      "needs_background": "light"
     },
     "output_type": "display_data"
    }
   ],
   "source": [
    "learningRate = 0.01\n",
    "degree = 8\n",
    "wSize = int((degree+1)*(degree+2)/2)\n",
    "w = np.zeros(wSize) # similar template for others\n",
    "w1 = np.zeros(wSize)\n",
    "#print(w, '\\n', w1)\n",
    "\n",
    "counter = 0\n",
    "costArr= np.zeros(iters*20 +50)\n",
    "counterArr = np.zeros(iters*20 +50)\n",
    "for i in range(iters*20):\n",
    "    w2 = np.zeros(wSize)\n",
    "    for j in range(np.shape(valX)[0]):\n",
    "        w2 += (((valY[:wSize,0] - (w*valX[j,:wSize]))/10**10)*valX[j,:wSize])/np.shape(valX)[0]\n",
    "    \n",
    "    w1 = w + learningRate*w2\n",
    "    w=w1\n",
    "    counter+=1\n",
    "    costArr[counter] = w2[0]\n",
    "    counterArr[counter] = counter\n",
    "\n",
    "   \n",
    "\n",
    "for i in range(np.shape(w)[0]):    \n",
    "    print(\"w\", i, \"=\", w[i]*10**10, sep = '')\n",
    "\n",
    "np.shape(valX)[0]\n",
    "fig,ax = plt.subplots()\n",
    "ax.plot(costArr[1:iters])\n",
    "plt.title(\"Gradient Descent method degree 8 - w0 values\")\n",
    "plt.show() # the number of iterations are maxed out in the end, "
   ]
  },
  {
   "cell_type": "code",
   "execution_count": 42,
   "id": "7b72a4d5",
   "metadata": {},
   "outputs": [
    {
     "data": {
      "text/plain": [
       "1.0198231563471445"
      ]
     },
     "execution_count": 42,
     "metadata": {},
     "output_type": "execute_result"
    }
   ],
   "source": [
    "# training data error for degree 8\n",
    "w1 = 0\n",
    "for i in range(np.shape(valX)[0]):\n",
    "    w1+= (np.sum(w*valX[i,:wSize]) - valY[i,0])**2\n",
    "    \n",
    "w1/np.shape(valX)[0]"
   ]
  },
  {
   "cell_type": "code",
   "execution_count": 43,
   "id": "0179d7f9",
   "metadata": {},
   "outputs": [
    {
     "data": {
      "text/plain": [
       "0.9774746641220114"
      ]
     },
     "execution_count": 43,
     "metadata": {},
     "output_type": "execute_result"
    }
   ],
   "source": [
    "# testing data error for degree 8\n",
    "testError = 0\n",
    "for i in range(np.shape(testXVal)[0]):\n",
    "    testError += (np.sum(w*testXVal[i,:wSize]) - testYVal[i,0])**2\n",
    "    \n",
    "testError/np.shape(testXVal)[0]"
   ]
  },
  {
   "cell_type": "code",
   "execution_count": 44,
   "id": "ed639087",
   "metadata": {},
   "outputs": [
    {
     "name": "stdout",
     "output_type": "stream",
     "text": [
      "w0=60.636987483147244\n",
      "w1=-6.8992088904222335\n",
      "w2=5.138049193934433\n",
      "w3=-635.9909590846268\n",
      "w4=-21.19024881562801\n",
      "w5=-380.25039282698816\n",
      "w6=-57.66295393920173\n",
      "w7=-138.5116425675161\n",
      "w8=-179.67269080931317\n",
      "w9=-221.1566766521994\n",
      "w10=-105.03442471159603\n",
      "w11=-14.606634658037848\n",
      "w12=209.22760560002337\n",
      "w13=-142.10604198139896\n",
      "w14=-1640.7925784746906\n",
      "w15=2121.292964223734\n",
      "w16=374.1291726745451\n",
      "w17=763.802187491469\n",
      "w18=344.6442825451578\n",
      "w19=-684.6581555757182\n",
      "w20=2251.274717558892\n",
      "w21=-14422.849992696969\n",
      "w22=1118.1650473224288\n",
      "w23=-12.063330596769426\n",
      "w24=763.1330344413084\n",
      "w25=12008.385357405268\n",
      "w26=-3087.877530575913\n",
      "w27=9371.00891333519\n",
      "w28=-28875.424797648597\n",
      "w29=-22141.174110101714\n",
      "w30=-10393.701385483437\n",
      "w31=-7718.495635942073\n",
      "w32=-19917.463125649825\n",
      "w33=10267.699293763788\n",
      "w34=-587.5985741179719\n",
      "w35=-119659.18078569087\n",
      "w36=-77357.88084066776\n",
      "w37=-7321.222514669198\n",
      "w38=14915.326682497427\n",
      "w39=-2239.4747975327664\n",
      "w40=-5996.128771861752\n",
      "w41=-3185.842620690306\n",
      "w42=18827.960085989587\n",
      "w43=133002.06737827533\n",
      "w44=-16984.77272194511\n",
      "w45=1237.243539662648\n",
      "w46=49638.09413396736\n",
      "w47=-45177.59965176741\n",
      "w48=7567.233506038669\n",
      "w49=-25963.587742089498\n",
      "w50=17751.291244724565\n",
      "w51=56781.77075496381\n",
      "w52=24642.166575712366\n",
      "w53=-9281.536707769788\n",
      "w54=-5313.8739251716825\n"
     ]
    },
    {
     "data": {
      "image/png": "[encoded data removed]",
      "text/plain": [
       "<Figure size 432x288 with 1 Axes>"
      ]
     },
     "metadata": {
      "needs_background": "light"
     },
     "output_type": "display_data"
    }
   ],
   "source": [
    "learningRate = 0.01\n",
    "degree = 9\n",
    "wSize = int((degree+1)*(degree+2)/2)\n",
    "w = np.zeros(wSize) # similar template for others\n",
    "w1 = np.zeros(wSize)\n",
    "#print(w, '\\n', w1)\n",
    "\n",
    "counter = 0\n",
    "costArr= np.zeros(iters*20 +50)\n",
    "counterArr = np.zeros(iters*20 +50)\n",
    "for i in range(iters*20):\n",
    "    w2 = np.zeros(wSize)\n",
    "    for j in range(np.shape(valX)[0]):\n",
    "        w2 += (((valY[:wSize,0] - (w*valX[j,:wSize]))/10**10)*valX[j,:wSize])/np.shape(valX)[0]\n",
    "    \n",
    "    w1 = w + learningRate*w2\n",
    "    w=w1\n",
    "    counter+=1\n",
    "    costArr[counter] = w2[0]\n",
    "    counterArr[counter] = counter\n",
    "\n",
    "   \n",
    "\n",
    "for i in range(np.shape(w)[0]):    \n",
    "    print(\"w\", i, \"=\", w[i]*10**10, sep = '')\n",
    "\n",
    "np.shape(valX)[0]\n",
    "fig,ax = plt.subplots()\n",
    "ax.plot(costArr[1:iters])\n",
    "plt.title(\"Gradient Descent method degree 9 - w0 values\")\n",
    "plt.show() # the number of iterations are maxed out in the end, "
   ]
  },
  {
   "cell_type": "code",
   "execution_count": 45,
   "id": "0f1118b3",
   "metadata": {},
   "outputs": [
    {
     "data": {
      "text/plain": [
       "1.0764392061975196"
      ]
     },
     "execution_count": 45,
     "metadata": {},
     "output_type": "execute_result"
    }
   ],
   "source": [
    "# training data error for degree 9\n",
    "w1 = 0\n",
    "for i in range(np.shape(valX)[0]):\n",
    "    w1+= (np.sum(w*valX[i,:wSize]) - valY[i,0])**2\n",
    "    \n",
    "w1/np.shape(valX)[0]"
   ]
  },
  {
   "cell_type": "code",
   "execution_count": 46,
   "id": "86111ec8",
   "metadata": {},
   "outputs": [
    {
     "data": {
      "text/plain": [
       "0.9778443753320982"
      ]
     },
     "execution_count": 46,
     "metadata": {},
     "output_type": "execute_result"
    }
   ],
   "source": [
    "# testing data error for degree 9\n",
    "testError = 0\n",
    "for i in range(np.shape(testXVal)[0]):\n",
    "    testError += (np.sum(w*testXVal[i,:wSize]) - testYVal[i,0])**2\n",
    "    \n",
    "testError/np.shape(testXVal)[0]"
   ]
  },
  {
   "cell_type": "code",
   "execution_count": null,
   "id": "497e5803",
   "metadata": {},
   "outputs": [],
   "source": []
  },
  {
   "cell_type": "code",
   "execution_count": null,
   "id": "55f2ac41",
   "metadata": {},
   "outputs": [],
   "source": []
  }
 ],
 "metadata": {
  "kernelspec": {
   "display_name": "Python 3 (ipykernel)",
   "language": "python",
   "name": "python3"
  },
  "language_info": {
   "codemirror_mode": {
    "name": "ipython",
    "version": 3
   },
   "file_extension": ".py",
   "mimetype": "text/x-python",
   "name": "python",
   "nbconvert_exporter": "python",
   "pygments_lexer": "ipython3",
   "version": "3.9.12"
  }
 },
 "nbformat": 4,
 "nbformat_minor": 5
}
