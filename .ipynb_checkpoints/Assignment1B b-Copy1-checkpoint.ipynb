{
 "cells": [
  {
   "cell_type": "code",
   "execution_count": 1,
   "id": "4d67eca0",
   "metadata": {},
   "outputs": [
    {
     "name": "stdout",
     "output_type": "stream",
     "text": [
      "Success\n"
     ]
    }
   ],
   "source": [
    "import pandas as pd\n",
    "import numpy as np\n",
    "import matplotlib.pyplot as plt\n",
    "from sklearn import tree\n",
    "from sklearn.model_selection import train_test_split\n",
    "from sklearn.tree import DecisionTreeRegressor\n",
    "from sklearn.preprocessing import StandardScaler\n",
    "from sklearn.linear_model import LinearRegression\n",
    "print(\"Success\")"
   ]
  },
  {
   "cell_type": "code",
   "execution_count": 2,
   "id": "a2b4e8a6",
   "metadata": {
    "scrolled": false
   },
   "outputs": [
    {
     "data": {
      "text/html": [
       "<div>\n",
       "<style scoped>\n",
       "    .dataframe tbody tr th:only-of-type {\n",
       "        vertical-align: middle;\n",
       "    }\n",
       "\n",
       "    .dataframe tbody tr th {\n",
       "        vertical-align: top;\n",
       "    }\n",
       "\n",
       "    .dataframe thead th {\n",
       "        text-align: right;\n",
       "    }\n",
       "</style>\n",
       "<table border=\"1\" class=\"dataframe\">\n",
       "  <thead>\n",
       "    <tr style=\"text-align: right;\">\n",
       "      <th></th>\n",
       "      <th>MLOGP</th>\n",
       "      <th>RDCHI</th>\n",
       "      <th>quantitative response of LC50</th>\n",
       "    </tr>\n",
       "  </thead>\n",
       "  <tbody>\n",
       "    <tr>\n",
       "      <th>0</th>\n",
       "      <td>2.419</td>\n",
       "      <td>1.225</td>\n",
       "      <td>3.740</td>\n",
       "    </tr>\n",
       "    <tr>\n",
       "      <th>1</th>\n",
       "      <td>2.638</td>\n",
       "      <td>1.401</td>\n",
       "      <td>4.330</td>\n",
       "    </tr>\n",
       "    <tr>\n",
       "      <th>2</th>\n",
       "      <td>5.799</td>\n",
       "      <td>2.930</td>\n",
       "      <td>7.019</td>\n",
       "    </tr>\n",
       "    <tr>\n",
       "      <th>3</th>\n",
       "      <td>5.453</td>\n",
       "      <td>2.887</td>\n",
       "      <td>6.723</td>\n",
       "    </tr>\n",
       "    <tr>\n",
       "      <th>4</th>\n",
       "      <td>4.068</td>\n",
       "      <td>2.758</td>\n",
       "      <td>5.979</td>\n",
       "    </tr>\n",
       "    <tr>\n",
       "      <th>...</th>\n",
       "      <td>...</td>\n",
       "      <td>...</td>\n",
       "      <td>...</td>\n",
       "    </tr>\n",
       "    <tr>\n",
       "      <th>541</th>\n",
       "      <td>3.326</td>\n",
       "      <td>2.837</td>\n",
       "      <td>4.651</td>\n",
       "    </tr>\n",
       "    <tr>\n",
       "      <th>542</th>\n",
       "      <td>3.275</td>\n",
       "      <td>2.727</td>\n",
       "      <td>3.953</td>\n",
       "    </tr>\n",
       "    <tr>\n",
       "      <th>543</th>\n",
       "      <td>5.165</td>\n",
       "      <td>3.111</td>\n",
       "      <td>6.219</td>\n",
       "    </tr>\n",
       "    <tr>\n",
       "      <th>544</th>\n",
       "      <td>2.859</td>\n",
       "      <td>2.614</td>\n",
       "      <td>4.995</td>\n",
       "    </tr>\n",
       "    <tr>\n",
       "      <th>545</th>\n",
       "      <td>2.255</td>\n",
       "      <td>1.800</td>\n",
       "      <td>2.480</td>\n",
       "    </tr>\n",
       "  </tbody>\n",
       "</table>\n",
       "<p>546 rows × 3 columns</p>\n",
       "</div>"
      ],
      "text/plain": [
       "     MLOGP  RDCHI  quantitative response of LC50\n",
       "0    2.419  1.225                          3.740\n",
       "1    2.638  1.401                          4.330\n",
       "2    5.799  2.930                          7.019\n",
       "3    5.453  2.887                          6.723\n",
       "4    4.068  2.758                          5.979\n",
       "..     ...    ...                            ...\n",
       "541  3.326  2.837                          4.651\n",
       "542  3.275  2.727                          3.953\n",
       "543  5.165  3.111                          6.219\n",
       "544  2.859  2.614                          4.995\n",
       "545  2.255  1.800                          2.480\n",
       "\n",
       "[546 rows x 3 columns]"
      ]
     },
     "execution_count": 2,
     "metadata": {},
     "output_type": "execute_result"
    }
   ],
   "source": [
    "df = pd.read_csv('fods_1.csv')\n",
    "df"
   ]
  },
  {
   "cell_type": "code",
   "execution_count": 3,
   "id": "3bed213f",
   "metadata": {},
   "outputs": [
    {
     "name": "stdout",
     "output_type": "stream",
     "text": [
      "2.3134926739926738 2.4922985347985356 4.6584212454212475 1.741797285664983 0.8110039291512505 1.6652150617992907\n"
     ]
    }
   ],
   "source": [
    "meanX1 = df['MLOGP'].mean()\n",
    "meanX2 = df['RDCHI'].mean()\n",
    "meanY = df['quantitative response of LC50'].mean()\n",
    "stdX1 = df['MLOGP'].std()\n",
    "stdX2 = df['RDCHI'].std()\n",
    "stdY = df['quantitative response of LC50'].std()\n",
    "print(meanX1, meanX2, meanY, stdX1, stdX2, stdY)"
   ]
  },
  {
   "cell_type": "code",
   "execution_count": 4,
   "id": "45c034ec",
   "metadata": {
    "scrolled": false
   },
   "outputs": [
    {
     "data": {
      "text/html": [
       "<div>\n",
       "<style scoped>\n",
       "    .dataframe tbody tr th:only-of-type {\n",
       "        vertical-align: middle;\n",
       "    }\n",
       "\n",
       "    .dataframe tbody tr th {\n",
       "        vertical-align: top;\n",
       "    }\n",
       "\n",
       "    .dataframe thead th {\n",
       "        text-align: right;\n",
       "    }\n",
       "</style>\n",
       "<table border=\"1\" class=\"dataframe\">\n",
       "  <thead>\n",
       "    <tr style=\"text-align: right;\">\n",
       "      <th></th>\n",
       "      <th>MLOGP</th>\n",
       "      <th>RDCHI</th>\n",
       "      <th>quantitative response of LC50</th>\n",
       "    </tr>\n",
       "  </thead>\n",
       "  <tbody>\n",
       "    <tr>\n",
       "      <th>0</th>\n",
       "      <td>0.060574</td>\n",
       "      <td>-1.562629</td>\n",
       "      <td>-0.551533</td>\n",
       "    </tr>\n",
       "    <tr>\n",
       "      <th>1</th>\n",
       "      <td>0.186306</td>\n",
       "      <td>-1.345614</td>\n",
       "      <td>-0.197225</td>\n",
       "    </tr>\n",
       "    <tr>\n",
       "      <th>2</th>\n",
       "      <td>2.001098</td>\n",
       "      <td>0.539703</td>\n",
       "      <td>1.417582</td>\n",
       "    </tr>\n",
       "    <tr>\n",
       "      <th>3</th>\n",
       "      <td>1.802453</td>\n",
       "      <td>0.486683</td>\n",
       "      <td>1.239827</td>\n",
       "    </tr>\n",
       "    <tr>\n",
       "      <th>4</th>\n",
       "      <td>1.007297</td>\n",
       "      <td>0.327620</td>\n",
       "      <td>0.793038</td>\n",
       "    </tr>\n",
       "    <tr>\n",
       "      <th>...</th>\n",
       "      <td>...</td>\n",
       "      <td>...</td>\n",
       "      <td>...</td>\n",
       "    </tr>\n",
       "    <tr>\n",
       "      <th>541</th>\n",
       "      <td>0.581300</td>\n",
       "      <td>0.425031</td>\n",
       "      <td>-0.004457</td>\n",
       "    </tr>\n",
       "    <tr>\n",
       "      <th>542</th>\n",
       "      <td>0.552020</td>\n",
       "      <td>0.289396</td>\n",
       "      <td>-0.423622</td>\n",
       "    </tr>\n",
       "    <tr>\n",
       "      <th>543</th>\n",
       "      <td>1.637106</td>\n",
       "      <td>0.762883</td>\n",
       "      <td>0.937163</td>\n",
       "    </tr>\n",
       "    <tr>\n",
       "      <th>544</th>\n",
       "      <td>0.313186</td>\n",
       "      <td>0.150063</td>\n",
       "      <td>0.202123</td>\n",
       "    </tr>\n",
       "    <tr>\n",
       "      <th>545</th>\n",
       "      <td>-0.033582</td>\n",
       "      <td>-0.853632</td>\n",
       "      <td>-1.308192</td>\n",
       "    </tr>\n",
       "  </tbody>\n",
       "</table>\n",
       "<p>546 rows × 3 columns</p>\n",
       "</div>"
      ],
      "text/plain": [
       "        MLOGP     RDCHI  quantitative response of LC50\n",
       "0    0.060574 -1.562629                      -0.551533\n",
       "1    0.186306 -1.345614                      -0.197225\n",
       "2    2.001098  0.539703                       1.417582\n",
       "3    1.802453  0.486683                       1.239827\n",
       "4    1.007297  0.327620                       0.793038\n",
       "..        ...       ...                            ...\n",
       "541  0.581300  0.425031                      -0.004457\n",
       "542  0.552020  0.289396                      -0.423622\n",
       "543  1.637106  0.762883                       0.937163\n",
       "544  0.313186  0.150063                       0.202123\n",
       "545 -0.033582 -0.853632                      -1.308192\n",
       "\n",
       "[546 rows x 3 columns]"
      ]
     },
     "execution_count": 4,
     "metadata": {},
     "output_type": "execute_result"
    }
   ],
   "source": [
    "# standardization\n",
    "df['MLOGP'] = (df['MLOGP'] - df['MLOGP'].min())/(df['MLOGP'].max() - df['MLOGP'].min())\n",
    "df['RDCHI'] = (df['RDCHI'] - df['RDCHI'].min())/(df['RDCHI'].max() - df['RDCHI'].min())\n",
    "df"
   ]
  },
  {
   "cell_type": "code",
   "execution_count": 5,
   "id": "47c9de65",
   "metadata": {},
   "outputs": [
    {
     "data": {
      "text/plain": [
       "MLOGP                            0\n",
       "RDCHI                            0\n",
       "quantitative response of LC50    0\n",
       "dtype: int64"
      ]
     },
     "execution_count": 5,
     "metadata": {},
     "output_type": "execute_result"
    }
   ],
   "source": [
    "df.isnull().sum()"
   ]
  },
  {
   "cell_type": "code",
   "execution_count": 6,
   "id": "827d288f",
   "metadata": {},
   "outputs": [
    {
     "data": {
      "text/html": [
       "<div>\n",
       "<style scoped>\n",
       "    .dataframe tbody tr th:only-of-type {\n",
       "        vertical-align: middle;\n",
       "    }\n",
       "\n",
       "    .dataframe tbody tr th {\n",
       "        vertical-align: top;\n",
       "    }\n",
       "\n",
       "    .dataframe thead th {\n",
       "        text-align: right;\n",
       "    }\n",
       "</style>\n",
       "<table border=\"1\" class=\"dataframe\">\n",
       "  <thead>\n",
       "    <tr style=\"text-align: right;\">\n",
       "      <th></th>\n",
       "      <th>MLOGP</th>\n",
       "      <th>RDCHI</th>\n",
       "      <th>quantitative response of LC50</th>\n",
       "    </tr>\n",
       "  </thead>\n",
       "  <tbody>\n",
       "    <tr>\n",
       "      <th>20</th>\n",
       "      <td>0.511258</td>\n",
       "      <td>1.050182</td>\n",
       "      <td>-1.022944</td>\n",
       "    </tr>\n",
       "    <tr>\n",
       "      <th>38</th>\n",
       "      <td>1.802453</td>\n",
       "      <td>0.425031</td>\n",
       "      <td>1.320898</td>\n",
       "    </tr>\n",
       "    <tr>\n",
       "      <th>100</th>\n",
       "      <td>1.093989</td>\n",
       "      <td>1.791239</td>\n",
       "      <td>0.223142</td>\n",
       "    </tr>\n",
       "    <tr>\n",
       "      <th>368</th>\n",
       "      <td>-1.374725</td>\n",
       "      <td>-1.004062</td>\n",
       "      <td>-2.154930</td>\n",
       "    </tr>\n",
       "    <tr>\n",
       "      <th>111</th>\n",
       "      <td>0.516425</td>\n",
       "      <td>0.386806</td>\n",
       "      <td>2.516539</td>\n",
       "    </tr>\n",
       "    <tr>\n",
       "      <th>...</th>\n",
       "      <td>...</td>\n",
       "      <td>...</td>\n",
       "      <td>...</td>\n",
       "    </tr>\n",
       "    <tr>\n",
       "      <th>417</th>\n",
       "      <td>0.897066</td>\n",
       "      <td>0.057585</td>\n",
       "      <td>0.150478</td>\n",
       "    </tr>\n",
       "    <tr>\n",
       "      <th>352</th>\n",
       "      <td>-1.999367</td>\n",
       "      <td>-0.196421</td>\n",
       "      <td>-1.154458</td>\n",
       "    </tr>\n",
       "    <tr>\n",
       "      <th>509</th>\n",
       "      <td>2.249692</td>\n",
       "      <td>0.337485</td>\n",
       "      <td>1.711838</td>\n",
       "    </tr>\n",
       "    <tr>\n",
       "      <th>271</th>\n",
       "      <td>2.110181</td>\n",
       "      <td>0.327620</td>\n",
       "      <td>2.102779</td>\n",
       "    </tr>\n",
       "    <tr>\n",
       "      <th>508</th>\n",
       "      <td>0.457290</td>\n",
       "      <td>-0.417136</td>\n",
       "      <td>-0.244666</td>\n",
       "    </tr>\n",
       "  </tbody>\n",
       "</table>\n",
       "<p>437 rows × 3 columns</p>\n",
       "</div>"
      ],
      "text/plain": [
       "        MLOGP     RDCHI  quantitative response of LC50\n",
       "20   0.511258  1.050182                      -1.022944\n",
       "38   1.802453  0.425031                       1.320898\n",
       "100  1.093989  1.791239                       0.223142\n",
       "368 -1.374725 -1.004062                      -2.154930\n",
       "111  0.516425  0.386806                       2.516539\n",
       "..        ...       ...                            ...\n",
       "417  0.897066  0.057585                       0.150478\n",
       "352 -1.999367 -0.196421                      -1.154458\n",
       "509  2.249692  0.337485                       1.711838\n",
       "271  2.110181  0.327620                       2.102779\n",
       "508  0.457290 -0.417136                      -0.244666\n",
       "\n",
       "[437 rows x 3 columns]"
      ]
     },
     "execution_count": 6,
     "metadata": {},
     "output_type": "execute_result"
    }
   ],
   "source": [
    "train = df.sample(frac = 0.8)\n",
    "test = df.drop(train.index)\n",
    "train"
   ]
  },
  {
   "cell_type": "code",
   "execution_count": 7,
   "id": "f5790539",
   "metadata": {
    "scrolled": false
   },
   "outputs": [
    {
     "data": {
      "text/html": [
       "<div>\n",
       "<style scoped>\n",
       "    .dataframe tbody tr th:only-of-type {\n",
       "        vertical-align: middle;\n",
       "    }\n",
       "\n",
       "    .dataframe tbody tr th {\n",
       "        vertical-align: top;\n",
       "    }\n",
       "\n",
       "    .dataframe thead th {\n",
       "        text-align: right;\n",
       "    }\n",
       "</style>\n",
       "<table border=\"1\" class=\"dataframe\">\n",
       "  <thead>\n",
       "    <tr style=\"text-align: right;\">\n",
       "      <th></th>\n",
       "      <th>MLOGP</th>\n",
       "      <th>RDCHI</th>\n",
       "      <th>quantitative response of LC50</th>\n",
       "    </tr>\n",
       "  </thead>\n",
       "  <tbody>\n",
       "    <tr>\n",
       "      <th>0</th>\n",
       "      <td>0.060574</td>\n",
       "      <td>-1.562629</td>\n",
       "      <td>-0.551533</td>\n",
       "    </tr>\n",
       "    <tr>\n",
       "      <th>4</th>\n",
       "      <td>1.007297</td>\n",
       "      <td>0.327620</td>\n",
       "      <td>0.793038</td>\n",
       "    </tr>\n",
       "    <tr>\n",
       "      <th>5</th>\n",
       "      <td>-1.219713</td>\n",
       "      <td>2.693824</td>\n",
       "      <td>0.844082</td>\n",
       "    </tr>\n",
       "    <tr>\n",
       "      <th>7</th>\n",
       "      <td>0.547427</td>\n",
       "      <td>-0.214917</td>\n",
       "      <td>-0.335345</td>\n",
       "    </tr>\n",
       "    <tr>\n",
       "      <th>13</th>\n",
       "      <td>-1.274254</td>\n",
       "      <td>-1.428228</td>\n",
       "      <td>-0.527512</td>\n",
       "    </tr>\n",
       "    <tr>\n",
       "      <th>...</th>\n",
       "      <td>...</td>\n",
       "      <td>...</td>\n",
       "      <td>...</td>\n",
       "    </tr>\n",
       "    <tr>\n",
       "      <th>505</th>\n",
       "      <td>0.748369</td>\n",
       "      <td>-0.515779</td>\n",
       "      <td>0.661523</td>\n",
       "    </tr>\n",
       "    <tr>\n",
       "      <th>512</th>\n",
       "      <td>0.597950</td>\n",
       "      <td>0.745621</td>\n",
       "      <td>0.097632</td>\n",
       "    </tr>\n",
       "    <tr>\n",
       "      <th>535</th>\n",
       "      <td>0.748369</td>\n",
       "      <td>-0.515779</td>\n",
       "      <td>0.871706</td>\n",
       "    </tr>\n",
       "    <tr>\n",
       "      <th>539</th>\n",
       "      <td>0.112245</td>\n",
       "      <td>-0.496050</td>\n",
       "      <td>-0.611585</td>\n",
       "    </tr>\n",
       "    <tr>\n",
       "      <th>544</th>\n",
       "      <td>0.313186</td>\n",
       "      <td>0.150063</td>\n",
       "      <td>0.202123</td>\n",
       "    </tr>\n",
       "  </tbody>\n",
       "</table>\n",
       "<p>109 rows × 3 columns</p>\n",
       "</div>"
      ],
      "text/plain": [
       "        MLOGP     RDCHI  quantitative response of LC50\n",
       "0    0.060574 -1.562629                      -0.551533\n",
       "4    1.007297  0.327620                       0.793038\n",
       "5   -1.219713  2.693824                       0.844082\n",
       "7    0.547427 -0.214917                      -0.335345\n",
       "13  -1.274254 -1.428228                      -0.527512\n",
       "..        ...       ...                            ...\n",
       "505  0.748369 -0.515779                       0.661523\n",
       "512  0.597950  0.745621                       0.097632\n",
       "535  0.748369 -0.515779                       0.871706\n",
       "539  0.112245 -0.496050                      -0.611585\n",
       "544  0.313186  0.150063                       0.202123\n",
       "\n",
       "[109 rows x 3 columns]"
      ]
     },
     "execution_count": 7,
     "metadata": {},
     "output_type": "execute_result"
    }
   ],
   "source": [
    "test"
   ]
  },
  {
   "cell_type": "code",
   "execution_count": 8,
   "id": "72fb5c78",
   "metadata": {},
   "outputs": [
    {
     "data": {
      "image/png": "[encoded data removed]",
      "text/plain": [
       "<Figure size 432x288 with 1 Axes>"
      ]
     },
     "metadata": {
      "needs_background": "light"
     },
     "output_type": "display_data"
    }
   ],
   "source": [
    "ax = plt.axes(projection='3d')\n",
    "\n",
    "# Data for three-dimensional scattered points\n",
    "zdata = train[\"quantitative response of LC50\"]\n",
    "xdata = train[\"RDCHI\"]\n",
    "ydata = train[\"MLOGP\"]\n",
    "ax.scatter3D(xdata, ydata, zdata, c=zdata, cmap='Greens');"
   ]
  },
  {
   "cell_type": "code",
   "execution_count": 9,
   "id": "16cf1ca1",
   "metadata": {},
   "outputs": [
    {
     "data": {
      "text/html": [
       "<div>\n",
       "<style scoped>\n",
       "    .dataframe tbody tr th:only-of-type {\n",
       "        vertical-align: middle;\n",
       "    }\n",
       "\n",
       "    .dataframe tbody tr th {\n",
       "        vertical-align: top;\n",
       "    }\n",
       "\n",
       "    .dataframe thead th {\n",
       "        text-align: right;\n",
       "    }\n",
       "</style>\n",
       "<table border=\"1\" class=\"dataframe\">\n",
       "  <thead>\n",
       "    <tr style=\"text-align: right;\">\n",
       "      <th></th>\n",
       "      <th>RDCHI</th>\n",
       "      <th>MLOGP</th>\n",
       "    </tr>\n",
       "  </thead>\n",
       "  <tbody>\n",
       "    <tr>\n",
       "      <th>20</th>\n",
       "      <td>1.050182</td>\n",
       "      <td>0.511258</td>\n",
       "    </tr>\n",
       "    <tr>\n",
       "      <th>38</th>\n",
       "      <td>0.425031</td>\n",
       "      <td>1.802453</td>\n",
       "    </tr>\n",
       "    <tr>\n",
       "      <th>100</th>\n",
       "      <td>1.791239</td>\n",
       "      <td>1.093989</td>\n",
       "    </tr>\n",
       "    <tr>\n",
       "      <th>368</th>\n",
       "      <td>-1.004062</td>\n",
       "      <td>-1.374725</td>\n",
       "    </tr>\n",
       "    <tr>\n",
       "      <th>111</th>\n",
       "      <td>0.386806</td>\n",
       "      <td>0.516425</td>\n",
       "    </tr>\n",
       "    <tr>\n",
       "      <th>...</th>\n",
       "      <td>...</td>\n",
       "      <td>...</td>\n",
       "    </tr>\n",
       "    <tr>\n",
       "      <th>417</th>\n",
       "      <td>0.057585</td>\n",
       "      <td>0.897066</td>\n",
       "    </tr>\n",
       "    <tr>\n",
       "      <th>352</th>\n",
       "      <td>-0.196421</td>\n",
       "      <td>-1.999367</td>\n",
       "    </tr>\n",
       "    <tr>\n",
       "      <th>509</th>\n",
       "      <td>0.337485</td>\n",
       "      <td>2.249692</td>\n",
       "    </tr>\n",
       "    <tr>\n",
       "      <th>271</th>\n",
       "      <td>0.327620</td>\n",
       "      <td>2.110181</td>\n",
       "    </tr>\n",
       "    <tr>\n",
       "      <th>508</th>\n",
       "      <td>-0.417136</td>\n",
       "      <td>0.457290</td>\n",
       "    </tr>\n",
       "  </tbody>\n",
       "</table>\n",
       "<p>437 rows × 2 columns</p>\n",
       "</div>"
      ],
      "text/plain": [
       "        RDCHI     MLOGP\n",
       "20   1.050182  0.511258\n",
       "38   0.425031  1.802453\n",
       "100  1.791239  1.093989\n",
       "368 -1.004062 -1.374725\n",
       "111  0.386806  0.516425\n",
       "..        ...       ...\n",
       "417  0.057585  0.897066\n",
       "352 -0.196421 -1.999367\n",
       "509  0.337485  2.249692\n",
       "271  0.327620  2.110181\n",
       "508 -0.417136  0.457290\n",
       "\n",
       "[437 rows x 2 columns]"
      ]
     },
     "execution_count": 9,
     "metadata": {},
     "output_type": "execute_result"
    }
   ],
   "source": [
    "trainX = pd.DataFrame(train[[\"RDCHI\", \"MLOGP\"]])\n",
    "trainX"
   ]
  },
  {
   "cell_type": "code",
   "execution_count": 10,
   "id": "d79abd31",
   "metadata": {},
   "outputs": [
    {
     "data": {
      "text/html": [
       "<div>\n",
       "<style scoped>\n",
       "    .dataframe tbody tr th:only-of-type {\n",
       "        vertical-align: middle;\n",
       "    }\n",
       "\n",
       "    .dataframe tbody tr th {\n",
       "        vertical-align: top;\n",
       "    }\n",
       "\n",
       "    .dataframe thead th {\n",
       "        text-align: right;\n",
       "    }\n",
       "</style>\n",
       "<table border=\"1\" class=\"dataframe\">\n",
       "  <thead>\n",
       "    <tr style=\"text-align: right;\">\n",
       "      <th></th>\n",
       "      <th>quantitative response of LC50</th>\n",
       "    </tr>\n",
       "  </thead>\n",
       "  <tbody>\n",
       "    <tr>\n",
       "      <th>20</th>\n",
       "      <td>-1.022944</td>\n",
       "    </tr>\n",
       "    <tr>\n",
       "      <th>38</th>\n",
       "      <td>1.320898</td>\n",
       "    </tr>\n",
       "    <tr>\n",
       "      <th>100</th>\n",
       "      <td>0.223142</td>\n",
       "    </tr>\n",
       "    <tr>\n",
       "      <th>368</th>\n",
       "      <td>-2.154930</td>\n",
       "    </tr>\n",
       "    <tr>\n",
       "      <th>111</th>\n",
       "      <td>2.516539</td>\n",
       "    </tr>\n",
       "    <tr>\n",
       "      <th>...</th>\n",
       "      <td>...</td>\n",
       "    </tr>\n",
       "    <tr>\n",
       "      <th>417</th>\n",
       "      <td>0.150478</td>\n",
       "    </tr>\n",
       "    <tr>\n",
       "      <th>352</th>\n",
       "      <td>-1.154458</td>\n",
       "    </tr>\n",
       "    <tr>\n",
       "      <th>509</th>\n",
       "      <td>1.711838</td>\n",
       "    </tr>\n",
       "    <tr>\n",
       "      <th>271</th>\n",
       "      <td>2.102779</td>\n",
       "    </tr>\n",
       "    <tr>\n",
       "      <th>508</th>\n",
       "      <td>-0.244666</td>\n",
       "    </tr>\n",
       "  </tbody>\n",
       "</table>\n",
       "<p>437 rows × 1 columns</p>\n",
       "</div>"
      ],
      "text/plain": [
       "     quantitative response of LC50\n",
       "20                       -1.022944\n",
       "38                        1.320898\n",
       "100                       0.223142\n",
       "368                      -2.154930\n",
       "111                       2.516539\n",
       "..                             ...\n",
       "417                       0.150478\n",
       "352                      -1.154458\n",
       "509                       1.711838\n",
       "271                       2.102779\n",
       "508                      -0.244666\n",
       "\n",
       "[437 rows x 1 columns]"
      ]
     },
     "execution_count": 10,
     "metadata": {},
     "output_type": "execute_result"
    }
   ],
   "source": [
    "trainY = pd.DataFrame(train[\"quantitative response of LC50\"])\n",
    "trainY"
   ]
  },
  {
   "cell_type": "code",
   "execution_count": 11,
   "id": "cbb0e298",
   "metadata": {},
   "outputs": [
    {
     "data": {
      "text/html": [
       "<div>\n",
       "<style scoped>\n",
       "    .dataframe tbody tr th:only-of-type {\n",
       "        vertical-align: middle;\n",
       "    }\n",
       "\n",
       "    .dataframe tbody tr th {\n",
       "        vertical-align: top;\n",
       "    }\n",
       "\n",
       "    .dataframe thead th {\n",
       "        text-align: right;\n",
       "    }\n",
       "</style>\n",
       "<table border=\"1\" class=\"dataframe\">\n",
       "  <thead>\n",
       "    <tr style=\"text-align: right;\">\n",
       "      <th></th>\n",
       "      <th>RDCHI</th>\n",
       "      <th>MLOGP</th>\n",
       "    </tr>\n",
       "  </thead>\n",
       "  <tbody>\n",
       "    <tr>\n",
       "      <th>0</th>\n",
       "      <td>-1.562629</td>\n",
       "      <td>0.060574</td>\n",
       "    </tr>\n",
       "    <tr>\n",
       "      <th>4</th>\n",
       "      <td>0.327620</td>\n",
       "      <td>1.007297</td>\n",
       "    </tr>\n",
       "    <tr>\n",
       "      <th>5</th>\n",
       "      <td>2.693824</td>\n",
       "      <td>-1.219713</td>\n",
       "    </tr>\n",
       "    <tr>\n",
       "      <th>7</th>\n",
       "      <td>-0.214917</td>\n",
       "      <td>0.547427</td>\n",
       "    </tr>\n",
       "    <tr>\n",
       "      <th>13</th>\n",
       "      <td>-1.428228</td>\n",
       "      <td>-1.274254</td>\n",
       "    </tr>\n",
       "    <tr>\n",
       "      <th>...</th>\n",
       "      <td>...</td>\n",
       "      <td>...</td>\n",
       "    </tr>\n",
       "    <tr>\n",
       "      <th>505</th>\n",
       "      <td>-0.515779</td>\n",
       "      <td>0.748369</td>\n",
       "    </tr>\n",
       "    <tr>\n",
       "      <th>512</th>\n",
       "      <td>0.745621</td>\n",
       "      <td>0.597950</td>\n",
       "    </tr>\n",
       "    <tr>\n",
       "      <th>535</th>\n",
       "      <td>-0.515779</td>\n",
       "      <td>0.748369</td>\n",
       "    </tr>\n",
       "    <tr>\n",
       "      <th>539</th>\n",
       "      <td>-0.496050</td>\n",
       "      <td>0.112245</td>\n",
       "    </tr>\n",
       "    <tr>\n",
       "      <th>544</th>\n",
       "      <td>0.150063</td>\n",
       "      <td>0.313186</td>\n",
       "    </tr>\n",
       "  </tbody>\n",
       "</table>\n",
       "<p>109 rows × 2 columns</p>\n",
       "</div>"
      ],
      "text/plain": [
       "        RDCHI     MLOGP\n",
       "0   -1.562629  0.060574\n",
       "4    0.327620  1.007297\n",
       "5    2.693824 -1.219713\n",
       "7   -0.214917  0.547427\n",
       "13  -1.428228 -1.274254\n",
       "..        ...       ...\n",
       "505 -0.515779  0.748369\n",
       "512  0.745621  0.597950\n",
       "535 -0.515779  0.748369\n",
       "539 -0.496050  0.112245\n",
       "544  0.150063  0.313186\n",
       "\n",
       "[109 rows x 2 columns]"
      ]
     },
     "execution_count": 11,
     "metadata": {},
     "output_type": "execute_result"
    }
   ],
   "source": [
    "testX = pd.DataFrame(test[[\"RDCHI\", \"MLOGP\"]])\n",
    "testY = pd.DataFrame(test['quantitative response of LC50'])\n",
    "testX"
   ]
  },
  {
   "cell_type": "code",
   "execution_count": 12,
   "id": "3c103a6f",
   "metadata": {},
   "outputs": [
    {
     "data": {
      "text/html": [
       "<div>\n",
       "<style scoped>\n",
       "    .dataframe tbody tr th:only-of-type {\n",
       "        vertical-align: middle;\n",
       "    }\n",
       "\n",
       "    .dataframe tbody tr th {\n",
       "        vertical-align: top;\n",
       "    }\n",
       "\n",
       "    .dataframe thead th {\n",
       "        text-align: right;\n",
       "    }\n",
       "</style>\n",
       "<table border=\"1\" class=\"dataframe\">\n",
       "  <thead>\n",
       "    <tr style=\"text-align: right;\">\n",
       "      <th></th>\n",
       "      <th>quantitative response of LC50</th>\n",
       "    </tr>\n",
       "  </thead>\n",
       "  <tbody>\n",
       "    <tr>\n",
       "      <th>0</th>\n",
       "      <td>-0.551533</td>\n",
       "    </tr>\n",
       "    <tr>\n",
       "      <th>4</th>\n",
       "      <td>0.793038</td>\n",
       "    </tr>\n",
       "    <tr>\n",
       "      <th>5</th>\n",
       "      <td>0.844082</td>\n",
       "    </tr>\n",
       "    <tr>\n",
       "      <th>7</th>\n",
       "      <td>-0.335345</td>\n",
       "    </tr>\n",
       "    <tr>\n",
       "      <th>13</th>\n",
       "      <td>-0.527512</td>\n",
       "    </tr>\n",
       "    <tr>\n",
       "      <th>...</th>\n",
       "      <td>...</td>\n",
       "    </tr>\n",
       "    <tr>\n",
       "      <th>505</th>\n",
       "      <td>0.661523</td>\n",
       "    </tr>\n",
       "    <tr>\n",
       "      <th>512</th>\n",
       "      <td>0.097632</td>\n",
       "    </tr>\n",
       "    <tr>\n",
       "      <th>535</th>\n",
       "      <td>0.871706</td>\n",
       "    </tr>\n",
       "    <tr>\n",
       "      <th>539</th>\n",
       "      <td>-0.611585</td>\n",
       "    </tr>\n",
       "    <tr>\n",
       "      <th>544</th>\n",
       "      <td>0.202123</td>\n",
       "    </tr>\n",
       "  </tbody>\n",
       "</table>\n",
       "<p>109 rows × 1 columns</p>\n",
       "</div>"
      ],
      "text/plain": [
       "     quantitative response of LC50\n",
       "0                        -0.551533\n",
       "4                         0.793038\n",
       "5                         0.844082\n",
       "7                        -0.335345\n",
       "13                       -0.527512\n",
       "..                             ...\n",
       "505                       0.661523\n",
       "512                       0.097632\n",
       "535                       0.871706\n",
       "539                      -0.611585\n",
       "544                       0.202123\n",
       "\n",
       "[109 rows x 1 columns]"
      ]
     },
     "execution_count": 12,
     "metadata": {},
     "output_type": "execute_result"
    }
   ],
   "source": [
    "testY"
   ]
  },
  {
   "cell_type": "code",
   "execution_count": 13,
   "id": "b83b5080",
   "metadata": {},
   "outputs": [
    {
     "data": {
      "text/plain": [
       "(437, 3)"
      ]
     },
     "execution_count": 13,
     "metadata": {},
     "output_type": "execute_result"
    }
   ],
   "source": [
    "valX = trainX[trainX.columns[:]].to_numpy()\n",
    "valX = np.append(np.ones((437,1)), valX, axis=1)\n",
    "valY = trainY[trainY.columns[:]].to_numpy()\n",
    "np.shape(valX)\n",
    "# np.reshape(valX, (436,3))"
   ]
  },
  {
   "cell_type": "code",
   "execution_count": 14,
   "id": "11b7dc8f",
   "metadata": {},
   "outputs": [
    {
     "data": {
      "text/plain": [
       "(437, 1)"
      ]
     },
     "execution_count": 14,
     "metadata": {},
     "output_type": "execute_result"
    }
   ],
   "source": [
    "np.shape(valY)"
   ]
  },
  {
   "cell_type": "code",
   "execution_count": 15,
   "id": "ce27798b",
   "metadata": {},
   "outputs": [
    {
     "data": {
      "text/plain": [
       "(109, 3)"
      ]
     },
     "execution_count": 15,
     "metadata": {},
     "output_type": "execute_result"
    }
   ],
   "source": [
    "valTestX = testX[testX.columns[:]].to_numpy()\n",
    "valTestX = np.append(np.ones((109,1)), valTestX, axis=1)\n",
    "valTestY = testY[testY.columns[:]].to_numpy()\n",
    "np.shape(valTestX)"
   ]
  },
  {
   "cell_type": "code",
   "execution_count": 16,
   "id": "1635e99b",
   "metadata": {},
   "outputs": [
    {
     "data": {
      "text/plain": [
       "(109, 1)"
      ]
     },
     "execution_count": 16,
     "metadata": {},
     "output_type": "execute_result"
    }
   ],
   "source": [
    "np.shape(valTestY)"
   ]
  },
  {
   "cell_type": "code",
   "execution_count": 17,
   "id": "f7938765",
   "metadata": {},
   "outputs": [],
   "source": [
    "iters = 1500000\n",
    "learningRate = 0.001 #yeta or n\n",
    "costArr= np.zeros(iters+100)\n",
    "counterArr = np.zeros(iters+100)\n",
    "TrainErrorArray = np.array([])\n",
    "TestErrorArray = np.array([])"
   ]
  },
  {
   "cell_type": "code",
   "execution_count": 18,
   "id": "7478254f",
   "metadata": {},
   "outputs": [
    {
     "name": "stdout",
     "output_type": "stream",
     "text": [
      "w0= 0.5753174996778755\n",
      "w1= 0.608161012949908\n",
      "w2= 0.668530364972286\n"
     ]
    }
   ],
   "source": [
    "# Degree 1 here without regularization\n",
    "degree = 1\n",
    "wSize = 3\n",
    "w = np.ones(wSize)\n",
    "w1 = np.zeros(wSize)\n",
    "\n",
    "counter = 0\n",
    "costArr= np.zeros(iters+1)\n",
    "counterArr = np.zeros(iters+1)\n",
    "for i in range(iters):\n",
    "    w2 = (np.sum((valY-np.reshape(np.sum(w*valX, axis = 1), (np.shape(valX)[0],1)))*valX*-1, axis = 0))#del E\n",
    "    # sum(Y-wX)*X where X = [1,x1,x2], so we get a matrix of 1x3 and w = [w0,w1,w2]\n",
    "#     for j in range(np.shape(valX)[0]):\n",
    "#         w2 += (((valY[j,0] - (w*valX[j,:wSize])))*valX[j,:wSize])/np.shape(valX)[0]\n",
    "\n",
    "    #w2 = w2/np.shape(valX)[0] #N\n",
    "    \n",
    "    w1 = w - learningRate*w2\n",
    "    if w1[0] - w[0] <= 10**(-20):\n",
    "        w=w1\n",
    "        break\n",
    "    w=w1\n",
    "    counter+=1\n",
    "    costArr[counter] = w2[0]\n",
    "    counterArr[counter] = counter\n",
    "\n",
    "   \n",
    "\n",
    "for i in range(np.shape(w)[0]):    \n",
    "    print(\"w\", i, \"= \", w[i], sep = '')\n"
   ]
  },
  {
   "cell_type": "code",
   "execution_count": 19,
   "id": "058a4c36",
   "metadata": {},
   "outputs": [
    {
     "data": {
      "text/plain": [
       "1.1940595906820246"
      ]
     },
     "execution_count": 19,
     "metadata": {},
     "output_type": "execute_result"
    }
   ],
   "source": [
    "w1 = 0\n",
    "for i in range(np.shape(valX)[0]):\n",
    "    w1+= (np.sum(w*valX[i,:wSize]) - valY[i,0])**2\n",
    "    \n",
    "TrainErrorArray = np.append(TrainErrorArray, w1)\n",
    "w1/np.shape(valX)[0]"
   ]
  },
  {
   "cell_type": "code",
   "execution_count": 20,
   "id": "09c232c7",
   "metadata": {},
   "outputs": [
    {
     "data": {
      "text/plain": [
       "1.3286040539082355"
      ]
     },
     "execution_count": 20,
     "metadata": {},
     "output_type": "execute_result"
    }
   ],
   "source": [
    "testError = 0\n",
    "for i in range(np.shape(valTestX)[0]):\n",
    "    testError += (np.sum(w*valTestX[i,:wSize]) - valTestY[i,0])**2\n",
    "    \n",
    "TestErrorArray = np.append(TestErrorArray, testError)\n",
    "testError/np.shape(valTestX)[0]"
   ]
  },
  {
   "cell_type": "code",
   "execution_count": 21,
   "id": "40628fd7",
   "metadata": {},
   "outputs": [],
   "source": [
    "# Reularization variables\n",
    "LambdaArr = np.arange(0.01,1.01,0.01)\n",
    "q = 0.5"
   ]
  },
  {
   "cell_type": "code",
   "execution_count": 22,
   "id": "f9790ec5",
   "metadata": {},
   "outputs": [
    {
     "name": "stdout",
     "output_type": "stream",
     "text": [
      "0\n",
      "Optimal Lambda = 0.01\n"
     ]
    }
   ],
   "source": [
    "# Finding optimal lambda for Degree 1 here with regularization q = 0.5\n",
    "degree = 1\n",
    "wSize = 3\n",
    "w = np.ones(wSize)\n",
    "w1 = np.zeros(wSize)\n",
    "TrainErrorArrayLambda = np.array([])\n",
    "TestErrorArrayLambda = np.array([])\n",
    "\n",
    "counter = 0\n",
    "costArr= np.zeros(iters+1)\n",
    "counterArr = np.zeros(iters+1)\n",
    "for Lambda in LambdaArr:\n",
    "    for i in range(iters):\n",
    "        z = w.copy()\n",
    "        z = z**(q-1)\n",
    "        z[0] = 0\n",
    "        w2 = (np.sum((valY-np.reshape(np.sum(w*valX, axis = 1), (np.shape(valX)[0],1)))*valX*-1, axis = 0)) + Lambda*q*(z)/2\n",
    "        # sum(Y-wX)*X where X = [1,x1,x2], so we get a matrix of 1x3 and w = [w0,w1,w2], z = [0,w1,w2]\n",
    "\n",
    "        w1 = w - learningRate*w2\n",
    "        if w1[0] - w[0] <= 10**(-20):\n",
    "            w=w1\n",
    "            break\n",
    "        w=w1\n",
    "        counter+=1\n",
    "        costArr[counter] = w2[0]\n",
    "        counterArr[counter] = counter\n",
    "    \n",
    "    ErrorLambdas = 0\n",
    "    for i in range(np.shape(valX)[0]):\n",
    "        ErrorLambdas += ((np.sum(w*valX[i,:wSize]) - valY[i,0])**2) + Lambda*np.sum(np.abs(w)**q)/2\n",
    "\n",
    "    TrainErrorArrayLambda = np.append(TrainErrorArrayLambda, ErrorLambdas)\n",
    "    \n",
    "    testError = 0\n",
    "    for i in range(np.shape(valTestX)[0]):\n",
    "        testError += ((np.sum(w*valTestX[i,:wSize]) - valTestY[i,0])**2) + Lambda*np.sum(np.abs(w)**q)/2\n",
    "\n",
    "    TestErrorArrayLambda = np.append(TestErrorArrayLambda, testError)\n",
    "\n",
    "\n",
    "minIndex = int(np.where(z == np.amin(z))[0])\n",
    "print(minIndex)\n",
    "\n",
    "\n",
    "Lambda = (minIndex+1)*0.01\n",
    "print(\"Optimal Lambda = \", Lambda, sep = '')"
   ]
  },
  {
   "cell_type": "code",
   "execution_count": 23,
   "id": "6ad52bcf",
   "metadata": {},
   "outputs": [
    {
     "name": "stdout",
     "output_type": "stream",
     "text": [
      "Optimal Lambda = 0.01\n",
      "w0= 0.5753174996778755\n",
      "w1= 0.6081585129499081\n",
      "w2= 0.6685278649722861\n"
     ]
    }
   ],
   "source": [
    "# Degree 1 here with regularization q = 0.5\n",
    "q = 0.5\n",
    "degree = 1\n",
    "wSize = 3\n",
    "w = np.ones(wSize)\n",
    "w1 = np.zeros(wSize)\n",
    "\n",
    "counter = 0\n",
    "costArr= np.zeros(iters+1)\n",
    "counterArr = np.zeros(iters+1)\n",
    "for i in range(iters):\n",
    "    z = w.copy()\n",
    "    z = z**(q-1)\n",
    "    z[0] = 0\n",
    "    w2 = (np.sum((valY-np.reshape(np.sum(w*valX, axis = 1), (np.shape(valX)[0],1)))*valX*-1, axis = 0)) + Lambda*q*(z)/2\n",
    "    # sum(Y-wX)*X where X = [1,x1,x2], so we get a matrix of 1x3 and w = [w0,w1,w2], z = [0,w1,w2]\n",
    "    \n",
    "    w1 = w - learningRate*w2\n",
    "    if w1[0] - w[0] <= 10**(-20):\n",
    "        w=w1\n",
    "        break\n",
    "    w=w1\n",
    "    counter+=1\n",
    "    costArr[counter] = w2[0]\n",
    "    counterArr[counter] = counter\n",
    "\n",
    "   \n",
    "print(\"Optimal Lambda =\", Lambda)\n",
    "for i in range(np.shape(w)[0]):    \n",
    "    print(\"w\", i, \"= \", w[i], sep = '')\n"
   ]
  },
  {
   "cell_type": "code",
   "execution_count": 24,
   "id": "a5500ae9",
   "metadata": {},
   "outputs": [
    {
     "data": {
      "text/plain": [
       "1.2058358996364305"
      ]
     },
     "execution_count": 24,
     "metadata": {},
     "output_type": "execute_result"
    }
   ],
   "source": [
    "w1 = 0\n",
    "for i in range(np.shape(valX)[0]):\n",
    "    w1+= ((np.sum(w*valX[i,:wSize]) - valY[i,0])**2) + Lambda*np.sum(np.abs(w)**q)/2\n",
    "\n",
    "TrainErrorArray = np.append(TrainErrorArray, w1)\n",
    "w1/np.shape(valX)[0]"
   ]
  },
  {
   "cell_type": "code",
   "execution_count": 25,
   "id": "fc0b55da",
   "metadata": {},
   "outputs": [
    {
     "data": {
      "text/plain": [
       "1.340379089678882"
      ]
     },
     "execution_count": 25,
     "metadata": {},
     "output_type": "execute_result"
    }
   ],
   "source": [
    "testError = 0\n",
    "for i in range(np.shape(valTestX)[0]):\n",
    "    testError += ((np.sum(w*valTestX[i,:wSize]) - valTestY[i,0])**2) + Lambda*np.sum(np.abs(w)**q)/2\n",
    "\n",
    "TestErrorArray = np.append(TestErrorArray, testError)\n",
    "testError/np.shape(valTestX)[0]"
   ]
  },
  {
   "cell_type": "code",
   "execution_count": 26,
   "id": "97e790b9",
   "metadata": {},
   "outputs": [
    {
     "name": "stdout",
     "output_type": "stream",
     "text": [
      "0\n",
      "Optimal Lambda = 0.01\n"
     ]
    }
   ],
   "source": [
    "# Degree 1 here with regularization q = 1\n",
    "q = 1\n",
    "degree = 1\n",
    "wSize = 3\n",
    "w = np.ones(wSize)\n",
    "w1 = np.zeros(wSize)\n",
    "\n",
    "counter = 0\n",
    "costArr= np.zeros(iters+1)\n",
    "counterArr = np.zeros(iters+1)\n",
    "for Lambda in LambdaArr:\n",
    "    for i in range(iters):\n",
    "        z = np.array([0,1,1])\n",
    "        w2 = (np.sum((valY-np.reshape(np.sum(w*valX, axis = 1), (np.shape(valX)[0],1)))*valX*-1, axis = 0)) + Lambda*q*(z)/2\n",
    "        # sum(Y-wX)*X where X = [1,x1,x2], so we get a matrix of 1x3 and w = [w0,w1,w2], z = [0,w1,w2]\n",
    "\n",
    "        w1 = w - learningRate*w2\n",
    "        if w1[0] - w[0] <= 10**(-20):\n",
    "            w=w1\n",
    "            break\n",
    "        w=w1\n",
    "        counter+=1\n",
    "        costArr[counter] = w2[0]\n",
    "        counterArr[counter] = counter\n",
    "\n",
    "        ErrorLambdas = 0\n",
    "        for i in range(np.shape(valX)[0]):\n",
    "            ErrorLambdas += ((np.sum(w*valX[i,:wSize]) - valY[i,0])**2) + Lambda*np.sum(np.abs(w)**q)/2\n",
    "\n",
    "        TrainErrorArrayLambda = np.append(TrainErrorArrayLambda, ErrorLambdas)\n",
    "\n",
    "        testError = 0\n",
    "        for i in range(np.shape(valTestX)[0]):\n",
    "            testError += ((np.sum(w*valTestX[i,:wSize]) - valTestY[i,0])**2) + Lambda*np.sum(np.abs(w)**q)/2\n",
    "\n",
    "        TestErrorArrayLambda = np.append(TestErrorArrayLambda, testError)\n",
    "\n",
    "\n",
    "minIndex = int(np.where(z == np.amin(z))[0])\n",
    "print(minIndex)\n",
    "\n",
    "\n",
    "Lambda = (minIndex+1)*0.01\n",
    "print(\"Optimal Lambda = \", Lambda, sep = '')\n",
    "\n",
    "   \n",
    "\n",
    "\n"
   ]
  },
  {
   "cell_type": "code",
   "execution_count": 27,
   "id": "6456cc6c",
   "metadata": {},
   "outputs": [
    {
     "name": "stdout",
     "output_type": "stream",
     "text": [
      "w0= 0.5753174996778755\n",
      "w1= 0.6081560129499081\n",
      "w2= 0.668525364972286\n"
     ]
    }
   ],
   "source": [
    "# Degree 1 here with regularization q = 1\n",
    "degree = 1\n",
    "wSize = 3\n",
    "w = np.ones(wSize)\n",
    "w1 = np.zeros(wSize)\n",
    "\n",
    "counter = 0\n",
    "costArr= np.zeros(iters+1)\n",
    "counterArr = np.zeros(iters+1)\n",
    "for i in range(iters):\n",
    "    z = np.array([0,1,1])\n",
    "    w2 = (np.sum((valY-np.reshape(np.sum(w*valX, axis = 1), (np.shape(valX)[0],1)))*valX*-1, axis = 0)) + Lambda*q*(z)/2\n",
    "    # sum(Y-wX)*X where X = [1,x1,x2], so we get a matrix of 1x3 and w = [w0,w1,w2], z = [0,w1,w2]\n",
    "    \n",
    "    w1 = w - learningRate*w2\n",
    "    if w1[0] - w[0] <= 10**(-20):\n",
    "        w=w1\n",
    "        break\n",
    "    w=w1\n",
    "    counter+=1\n",
    "    costArr[counter] = w2[0]\n",
    "    counterArr[counter] = counter\n",
    "\n",
    "   \n",
    "\n",
    "for i in range(np.shape(w)[0]):    \n",
    "    print(\"w\", i, \"= \", w[i], sep = '')\n"
   ]
  },
  {
   "cell_type": "code",
   "execution_count": 28,
   "id": "f97f80e6",
   "metadata": {},
   "outputs": [
    {
     "data": {
      "text/plain": [
       "1.2033124271422906"
      ]
     },
     "execution_count": 28,
     "metadata": {},
     "output_type": "execute_result"
    }
   ],
   "source": [
    "w1 = 0\n",
    "for i in range(np.shape(valX)[0]):\n",
    "    w1+= ((np.sum(w*valX[i,:wSize]) - valY[i,0])**2) + Lambda*np.sum(np.abs(w))/2\n",
    "\n",
    "TrainErrorArray = np.append(TrainErrorArray, w1)\n",
    "w1/np.shape(valX)[0]"
   ]
  },
  {
   "cell_type": "code",
   "execution_count": 29,
   "id": "370a1ad2",
   "metadata": {},
   "outputs": [
    {
     "data": {
      "text/plain": [
       "1.3378543440024415"
      ]
     },
     "execution_count": 29,
     "metadata": {},
     "output_type": "execute_result"
    }
   ],
   "source": [
    "testError = 0\n",
    "for i in range(np.shape(valTestX)[0]):\n",
    "    testError += ((np.sum(w*valTestX[i,:wSize]) - valTestY[i,0])**2) + Lambda*np.sum(np.abs(w)**q)/2\n",
    "\n",
    "TestErrorArray = np.append(TestErrorArray, testError)\n",
    "testError/np.shape(valTestX)[0]"
   ]
  },
  {
   "cell_type": "code",
   "execution_count": null,
   "id": "280aaefc",
   "metadata": {},
   "outputs": [],
   "source": []
  },
  {
   "cell_type": "code",
   "execution_count": 30,
   "id": "ed5061fe",
   "metadata": {},
   "outputs": [
    {
     "name": "stdout",
     "output_type": "stream",
     "text": [
      "0\n",
      "Optimal Lambda = 0.01\n"
     ]
    }
   ],
   "source": [
    "# Degree 1 here with regularization q = 2\n",
    "q = 2\n",
    "degree = 1\n",
    "wSize = 3\n",
    "w = np.ones(wSize)\n",
    "w1 = np.zeros(wSize)\n",
    "\n",
    "counter = 0\n",
    "costArr= np.zeros(iters+1)\n",
    "counterArr = np.zeros(iters+1)\n",
    "for Lambda in LambdaArr:\n",
    "    for i in range(iters):\n",
    "        z = w.copy()\n",
    "        z[0]=0\n",
    "        w2 = (np.sum((valY-np.reshape(np.sum(w*valX, axis = 1), (np.shape(valX)[0],1)))*valX*-1, axis = 0)) + Lambda*q*(z**(q-1))/2\n",
    "        # sum(Y-wX)*X where X = [1,x1,x2], so we get a matrix of 1x3 and w = [w0,w1,w2], z = [0,w1,w2]\n",
    "\n",
    "        w1 = w - learningRate*w2\n",
    "        if w1[0] - w[0] <= 10**(-20):\n",
    "            w=w1\n",
    "            break\n",
    "        w=w1\n",
    "        counter+=1\n",
    "        costArr[counter] = w2[0]\n",
    "        counterArr[counter] = counter\n",
    "        \n",
    "        ErrorLambdas = 0\n",
    "        for i in range(np.shape(valX)[0]):\n",
    "            ErrorLambdas += ((np.sum(w*valX[i,:wSize]) - valY[i,0])**2) + Lambda*np.sum(np.abs(w)**q)/2\n",
    "\n",
    "        TrainErrorArrayLambda = np.append(TrainErrorArrayLambda, ErrorLambdas)\n",
    "\n",
    "        testError = 0\n",
    "        for i in range(np.shape(valTestX)[0]):\n",
    "            testError += ((np.sum(w*valTestX[i,:wSize]) - valTestY[i,0])**2) + Lambda*np.sum(np.abs(w)**q)/2\n",
    "\n",
    "        TestErrorArrayLambda = np.append(TestErrorArrayLambda, testError)\n",
    "\n",
    "\n",
    "minIndex = int(np.where(z == np.amin(z))[0])\n",
    "print(minIndex)\n",
    "\n",
    "\n",
    "Lambda = (minIndex+1)*0.01\n",
    "print(\"Optimal Lambda = \", Lambda, sep = '')"
   ]
  },
  {
   "cell_type": "code",
   "execution_count": 31,
   "id": "29b42003",
   "metadata": {},
   "outputs": [
    {
     "name": "stdout",
     "output_type": "stream",
     "text": [
      "w0= 0.5753174996778755\n",
      "w1= 0.6081510129499081\n",
      "w2= 0.6685203649722861\n"
     ]
    }
   ],
   "source": [
    "# Degree 1 here with regularization q = 2\n",
    "q = 2\n",
    "degree = 1\n",
    "wSize = 3\n",
    "w = np.ones(wSize)\n",
    "w1 = np.zeros(wSize)\n",
    "\n",
    "counter = 0\n",
    "costArr= np.zeros(iters+1)\n",
    "counterArr = np.zeros(iters+1)\n",
    "for i in range(iters):\n",
    "    z = w.copy()\n",
    "    z[0]=0\n",
    "    w2 = (np.sum((valY-np.reshape(np.sum(w*valX, axis = 1), (np.shape(valX)[0],1)))*valX*-1, axis = 0)) + Lambda*q*(z**(q-1))/2\n",
    "    # sum(Y-wX)*X where X = [1,x1,x2], so we get a matrix of 1x3 and w = [w0,w1,w2], z = [0,w1,w2]\n",
    "    \n",
    "    w1 = w - learningRate*w2\n",
    "    if w1[0] - w[0] <= 10**(-20):\n",
    "        w=w1\n",
    "        break\n",
    "    w=w1\n",
    "    counter+=1\n",
    "    costArr[counter] = w2[0]\n",
    "    counterArr[counter] = counter\n",
    "\n",
    "   \n",
    "\n",
    "for i in range(np.shape(w)[0]):    \n",
    "    print(\"w\", i, \"= \", w[i], sep = '')\n"
   ]
  },
  {
   "cell_type": "code",
   "execution_count": 32,
   "id": "7d2e3662",
   "metadata": {},
   "outputs": [
    {
     "data": {
      "text/plain": [
       "1.1997840617497004"
      ]
     },
     "execution_count": 32,
     "metadata": {},
     "output_type": "execute_result"
    }
   ],
   "source": [
    "w1 = 0\n",
    "for i in range(np.shape(valX)[0]):\n",
    "    w1+= ((np.sum(w*valX[i,:wSize]) - valY[i,0])**2) + Lambda*np.sum(np.abs(w)**q)/2\n",
    "\n",
    "TrainErrorArray = np.append(TrainErrorArray, w1)\n",
    "w1/np.shape(valX)[0]"
   ]
  },
  {
   "cell_type": "code",
   "execution_count": 33,
   "id": "09cbdbc8",
   "metadata": {},
   "outputs": [
    {
     "data": {
      "text/plain": [
       "1.334323432249623"
      ]
     },
     "execution_count": 33,
     "metadata": {},
     "output_type": "execute_result"
    }
   ],
   "source": [
    "testError = 0\n",
    "for i in range(np.shape(valTestX)[0]):\n",
    "    testError += ((np.sum(w*valTestX[i,:wSize]) - valTestY[i,0])**2) + Lambda*np.sum(np.abs(w)**q)/2\n",
    "\n",
    "TestErrorArray = np.append(TestErrorArray, testError)\n",
    "testError/np.shape(valTestX)[0]"
   ]
  },
  {
   "cell_type": "code",
   "execution_count": null,
   "id": "83ef1bde",
   "metadata": {},
   "outputs": [],
   "source": []
  },
  {
   "cell_type": "code",
   "execution_count": 34,
   "id": "d39ff04a",
   "metadata": {},
   "outputs": [],
   "source": [
    "# Reularization variables\n",
    "Lambda = np.exp(-7)\n",
    "q = 4"
   ]
  },
  {
   "cell_type": "code",
   "execution_count": 35,
   "id": "88f3b925",
   "metadata": {},
   "outputs": [
    {
     "name": "stdout",
     "output_type": "stream",
     "text": [
      "0\n",
      "Optimal Lambda = 0.01\n"
     ]
    }
   ],
   "source": [
    "# Degree 1 here with regularization q = 4\n",
    "degree = 1\n",
    "wSize = 3\n",
    "w = np.ones(wSize)\n",
    "w1 = np.zeros(wSize)\n",
    "\n",
    "counter = 0\n",
    "costArr= np.zeros(iters+1)\n",
    "counterArr = np.zeros(iters+1)\n",
    "for Lambda in LambdaArr:\n",
    "    for i in range(iters):\n",
    "        z = w.copy()\n",
    "        z[0]=0\n",
    "        w2 = (np.sum((valY-np.reshape(np.sum(w*valX, axis = 1), (np.shape(valX)[0],1)))*valX*-1, axis = 0)) + Lambda*q*(z**(q-1))/2\n",
    "        # sum(Y-wX)*X where X = [1,x1,x2], so we get a matrix of 1x3 and w = [w0,w1,w2], z = [0,w1,w2]\n",
    "\n",
    "        w1 = w - learningRate*w2\n",
    "        if w1[0] - w[0] <= 10**(-20):\n",
    "            w=w1\n",
    "            break\n",
    "        w=w1\n",
    "        counter+=1\n",
    "        costArr[counter] = w2[0]\n",
    "        counterArr[counter] = counter\n",
    "        \n",
    "        ErrorLambdas = 0\n",
    "        for i in range(np.shape(valX)[0]):\n",
    "            ErrorLambdas += ((np.sum(w*valX[i,:wSize]) - valY[i,0])**2) + Lambda*np.sum(np.abs(w)**q)/2\n",
    "\n",
    "        TrainErrorArrayLambda = np.append(TrainErrorArrayLambda, ErrorLambdas)\n",
    "\n",
    "        testError = 0\n",
    "        for i in range(np.shape(valTestX)[0]):\n",
    "            testError += ((np.sum(w*valTestX[i,:wSize]) - valTestY[i,0])**2) + Lambda*np.sum(np.abs(w)**q)/2\n",
    "\n",
    "        TestErrorArrayLambda = np.append(TestErrorArrayLambda, testError)\n",
    "\n",
    "\n",
    "minIndex = int(np.where(z == np.amin(z))[0])\n",
    "print(minIndex)\n",
    "\n",
    "\n",
    "Lambda = (minIndex+1)*0.01\n",
    "print(\"Optimal Lambda = \", Lambda, sep = '')"
   ]
  },
  {
   "cell_type": "code",
   "execution_count": 36,
   "id": "e0f64eba",
   "metadata": {},
   "outputs": [
    {
     "name": "stdout",
     "output_type": "stream",
     "text": [
      "w0= 0.5753174996778755\n",
      "w1= 0.6081410129499081\n",
      "w2= 0.6685103649722861\n"
     ]
    }
   ],
   "source": [
    "# Degree 1 here with regularization q = 4\n",
    "degree = 1\n",
    "wSize = 3\n",
    "w = np.ones(wSize)\n",
    "w1 = np.zeros(wSize)\n",
    "\n",
    "counter = 0\n",
    "costArr= np.zeros(iters+1)\n",
    "counterArr = np.zeros(iters+1)\n",
    "for i in range(iters):\n",
    "    z = w.copy()\n",
    "    z[0]=0\n",
    "    w2 = (np.sum((valY-np.reshape(np.sum(w*valX, axis = 1), (np.shape(valX)[0],1)))*valX*-1, axis = 0)) + Lambda*q*(z**(q-1))/2\n",
    "    # sum(Y-wX)*X where X = [1,x1,x2], so we get a matrix of 1x3 and w = [w0,w1,w2], z = [0,w1,w2]\n",
    "    \n",
    "    w1 = w - learningRate*w2\n",
    "    if w1[0] - w[0] <= 10**(-20):\n",
    "        w=w1\n",
    "        break\n",
    "    w=w1\n",
    "    counter+=1\n",
    "    costArr[counter] = w2[0]\n",
    "    counterArr[counter] = counter\n",
    "\n",
    "   \n",
    "\n",
    "for i in range(np.shape(w)[0]):    \n",
    "    print(\"w\", i, \"= \", w[i], sep = '')\n"
   ]
  },
  {
   "cell_type": "code",
   "execution_count": 37,
   "id": "b27f1fae",
   "metadata": {},
   "outputs": [
    {
     "data": {
      "text/plain": [
       "1.1962612492070432"
      ]
     },
     "execution_count": 37,
     "metadata": {},
     "output_type": "execute_result"
    }
   ],
   "source": [
    "w1 = 0\n",
    "for i in range(np.shape(valX)[0]):\n",
    "    w1+= ((np.sum(w*valX[i,:wSize]) - valY[i,0])**2) + Lambda*np.sum(np.abs(w)**q)/2\n",
    "\n",
    "TrainErrorArray = np.append(TrainErrorArray, w1)\n",
    "w1/np.shape(valX)[0]"
   ]
  },
  {
   "cell_type": "code",
   "execution_count": 38,
   "id": "737bea84",
   "metadata": {},
   "outputs": [
    {
     "data": {
      "text/plain": [
       "1.3307955270039997"
      ]
     },
     "execution_count": 38,
     "metadata": {},
     "output_type": "execute_result"
    }
   ],
   "source": [
    "testError = 0\n",
    "for i in range(np.shape(valTestX)[0]):\n",
    "    testError += ((np.sum(w*valTestX[i,:wSize]) - valTestY[i,0])**2) + Lambda*np.sum(np.abs(w)**q)/2\n",
    "\n",
    "TestErrorArray = np.append(TestErrorArray, testError)\n",
    "testError/np.shape(valTestX)[0]"
   ]
  },
  {
   "cell_type": "code",
   "execution_count": 39,
   "id": "3c63b845",
   "metadata": {},
   "outputs": [
    {
     "name": "stdout",
     "output_type": "stream",
     "text": [
      "[1.19405959 1.2058359  1.20331243 1.19978406 1.19626125]\n",
      "[1.32860405 1.34037909 1.33785434 1.33432343 1.33079553]\n"
     ]
    }
   ],
   "source": [
    "print(TrainErrorArray/np.shape(valX)[0])\n",
    "print(TestErrorArray/np.shape(valTestX)[0])"
   ]
  },
  {
   "cell_type": "code",
   "execution_count": null,
   "id": "5edd6dd6",
   "metadata": {},
   "outputs": [],
   "source": []
  }
 ],
 "metadata": {
  "kernelspec": {
   "display_name": "Python 3 (ipykernel)",
   "language": "python",
   "name": "python3"
  },
  "language_info": {
   "codemirror_mode": {
    "name": "ipython",
    "version": 3
   },
   "file_extension": ".py",
   "mimetype": "text/x-python",
   "name": "python",
   "nbconvert_exporter": "python",
   "pygments_lexer": "ipython3",
   "version": "3.9.12"
  }
 },
 "nbformat": 4,
 "nbformat_minor": 5
}
