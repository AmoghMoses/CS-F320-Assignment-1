{
 "cells": [
  {
   "cell_type": "code",
   "execution_count": 1,
   "id": "4d67eca0",
   "metadata": {},
   "outputs": [
    {
     "name": "stdout",
     "output_type": "stream",
     "text": [
      "Success\n"
     ]
    }
   ],
   "source": [
    "import pandas as pd\n",
    "import numpy as np\n",
    "import matplotlib.pyplot as plt\n",
    "from sklearn import tree\n",
    "from sklearn.model_selection import train_test_split\n",
    "from sklearn.tree import DecisionTreeRegressor\n",
    "from sklearn.preprocessing import StandardScaler\n",
    "from sklearn.linear_model import LinearRegression\n",
    "print(\"Success\")"
   ]
  },
  {
   "cell_type": "code",
   "execution_count": 2,
   "id": "a2b4e8a6",
   "metadata": {
    "scrolled": false
   },
   "outputs": [
    {
     "data": {
      "text/html": [
       "<div>\n",
       "<style scoped>\n",
       "    .dataframe tbody tr th:only-of-type {\n",
       "        vertical-align: middle;\n",
       "    }\n",
       "\n",
       "    .dataframe tbody tr th {\n",
       "        vertical-align: top;\n",
       "    }\n",
       "\n",
       "    .dataframe thead th {\n",
       "        text-align: right;\n",
       "    }\n",
       "</style>\n",
       "<table border=\"1\" class=\"dataframe\">\n",
       "  <thead>\n",
       "    <tr style=\"text-align: right;\">\n",
       "      <th></th>\n",
       "      <th>MLOGP</th>\n",
       "      <th>RDCHI</th>\n",
       "      <th>quantitative response of LC50</th>\n",
       "    </tr>\n",
       "  </thead>\n",
       "  <tbody>\n",
       "    <tr>\n",
       "      <th>0</th>\n",
       "      <td>2.419</td>\n",
       "      <td>1.225</td>\n",
       "      <td>3.740</td>\n",
       "    </tr>\n",
       "    <tr>\n",
       "      <th>1</th>\n",
       "      <td>2.638</td>\n",
       "      <td>1.401</td>\n",
       "      <td>4.330</td>\n",
       "    </tr>\n",
       "    <tr>\n",
       "      <th>2</th>\n",
       "      <td>5.799</td>\n",
       "      <td>2.930</td>\n",
       "      <td>7.019</td>\n",
       "    </tr>\n",
       "    <tr>\n",
       "      <th>3</th>\n",
       "      <td>5.453</td>\n",
       "      <td>2.887</td>\n",
       "      <td>6.723</td>\n",
       "    </tr>\n",
       "    <tr>\n",
       "      <th>4</th>\n",
       "      <td>4.068</td>\n",
       "      <td>2.758</td>\n",
       "      <td>5.979</td>\n",
       "    </tr>\n",
       "    <tr>\n",
       "      <th>...</th>\n",
       "      <td>...</td>\n",
       "      <td>...</td>\n",
       "      <td>...</td>\n",
       "    </tr>\n",
       "    <tr>\n",
       "      <th>541</th>\n",
       "      <td>3.326</td>\n",
       "      <td>2.837</td>\n",
       "      <td>4.651</td>\n",
       "    </tr>\n",
       "    <tr>\n",
       "      <th>542</th>\n",
       "      <td>3.275</td>\n",
       "      <td>2.727</td>\n",
       "      <td>3.953</td>\n",
       "    </tr>\n",
       "    <tr>\n",
       "      <th>543</th>\n",
       "      <td>5.165</td>\n",
       "      <td>3.111</td>\n",
       "      <td>6.219</td>\n",
       "    </tr>\n",
       "    <tr>\n",
       "      <th>544</th>\n",
       "      <td>2.859</td>\n",
       "      <td>2.614</td>\n",
       "      <td>4.995</td>\n",
       "    </tr>\n",
       "    <tr>\n",
       "      <th>545</th>\n",
       "      <td>2.255</td>\n",
       "      <td>1.800</td>\n",
       "      <td>2.480</td>\n",
       "    </tr>\n",
       "  </tbody>\n",
       "</table>\n",
       "<p>546 rows × 3 columns</p>\n",
       "</div>"
      ],
      "text/plain": [
       "     MLOGP  RDCHI  quantitative response of LC50\n",
       "0    2.419  1.225                          3.740\n",
       "1    2.638  1.401                          4.330\n",
       "2    5.799  2.930                          7.019\n",
       "3    5.453  2.887                          6.723\n",
       "4    4.068  2.758                          5.979\n",
       "..     ...    ...                            ...\n",
       "541  3.326  2.837                          4.651\n",
       "542  3.275  2.727                          3.953\n",
       "543  5.165  3.111                          6.219\n",
       "544  2.859  2.614                          4.995\n",
       "545  2.255  1.800                          2.480\n",
       "\n",
       "[546 rows x 3 columns]"
      ]
     },
     "execution_count": 2,
     "metadata": {},
     "output_type": "execute_result"
    }
   ],
   "source": [
    "df = pd.read_csv('fods_1.csv')\n",
    "df"
   ]
  },
  {
   "cell_type": "code",
   "execution_count": 3,
   "id": "3bed213f",
   "metadata": {},
   "outputs": [
    {
     "name": "stdout",
     "output_type": "stream",
     "text": [
      "2.3134926739926738 2.4922985347985356 4.6584212454212475 1.741797285664983 0.8110039291512505 1.6652150617992907\n"
     ]
    }
   ],
   "source": [
    "meanX1 = df['MLOGP'].mean()\n",
    "meanX2 = df['RDCHI'].mean()\n",
    "meanY = df['quantitative response of LC50'].mean()\n",
    "stdX1 = df['MLOGP'].std()\n",
    "stdX2 = df['RDCHI'].std()\n",
    "stdY = df['quantitative response of LC50'].std()\n",
    "print(meanX1, meanX2, meanY, stdX1, stdX2, stdY)"
   ]
  },
  {
   "cell_type": "code",
   "execution_count": 4,
   "id": "45c034ec",
   "metadata": {
    "scrolled": false
   },
   "outputs": [
    {
     "data": {
      "text/html": [
       "<div>\n",
       "<style scoped>\n",
       "    .dataframe tbody tr th:only-of-type {\n",
       "        vertical-align: middle;\n",
       "    }\n",
       "\n",
       "    .dataframe tbody tr th {\n",
       "        vertical-align: top;\n",
       "    }\n",
       "\n",
       "    .dataframe thead th {\n",
       "        text-align: right;\n",
       "    }\n",
       "</style>\n",
       "<table border=\"1\" class=\"dataframe\">\n",
       "  <thead>\n",
       "    <tr style=\"text-align: right;\">\n",
       "      <th></th>\n",
       "      <th>MLOGP</th>\n",
       "      <th>RDCHI</th>\n",
       "      <th>quantitative response of LC50</th>\n",
       "    </tr>\n",
       "  </thead>\n",
       "  <tbody>\n",
       "    <tr>\n",
       "      <th>0</th>\n",
       "      <td>0.060574</td>\n",
       "      <td>-1.562629</td>\n",
       "      <td>-0.551533</td>\n",
       "    </tr>\n",
       "    <tr>\n",
       "      <th>1</th>\n",
       "      <td>0.186306</td>\n",
       "      <td>-1.345614</td>\n",
       "      <td>-0.197225</td>\n",
       "    </tr>\n",
       "    <tr>\n",
       "      <th>2</th>\n",
       "      <td>2.001098</td>\n",
       "      <td>0.539703</td>\n",
       "      <td>1.417582</td>\n",
       "    </tr>\n",
       "    <tr>\n",
       "      <th>3</th>\n",
       "      <td>1.802453</td>\n",
       "      <td>0.486683</td>\n",
       "      <td>1.239827</td>\n",
       "    </tr>\n",
       "    <tr>\n",
       "      <th>4</th>\n",
       "      <td>1.007297</td>\n",
       "      <td>0.327620</td>\n",
       "      <td>0.793038</td>\n",
       "    </tr>\n",
       "    <tr>\n",
       "      <th>...</th>\n",
       "      <td>...</td>\n",
       "      <td>...</td>\n",
       "      <td>...</td>\n",
       "    </tr>\n",
       "    <tr>\n",
       "      <th>541</th>\n",
       "      <td>0.581300</td>\n",
       "      <td>0.425031</td>\n",
       "      <td>-0.004457</td>\n",
       "    </tr>\n",
       "    <tr>\n",
       "      <th>542</th>\n",
       "      <td>0.552020</td>\n",
       "      <td>0.289396</td>\n",
       "      <td>-0.423622</td>\n",
       "    </tr>\n",
       "    <tr>\n",
       "      <th>543</th>\n",
       "      <td>1.637106</td>\n",
       "      <td>0.762883</td>\n",
       "      <td>0.937163</td>\n",
       "    </tr>\n",
       "    <tr>\n",
       "      <th>544</th>\n",
       "      <td>0.313186</td>\n",
       "      <td>0.150063</td>\n",
       "      <td>0.202123</td>\n",
       "    </tr>\n",
       "    <tr>\n",
       "      <th>545</th>\n",
       "      <td>-0.033582</td>\n",
       "      <td>-0.853632</td>\n",
       "      <td>-1.308192</td>\n",
       "    </tr>\n",
       "  </tbody>\n",
       "</table>\n",
       "<p>546 rows × 3 columns</p>\n",
       "</div>"
      ],
      "text/plain": [
       "        MLOGP     RDCHI  quantitative response of LC50\n",
       "0    0.060574 -1.562629                      -0.551533\n",
       "1    0.186306 -1.345614                      -0.197225\n",
       "2    2.001098  0.539703                       1.417582\n",
       "3    1.802453  0.486683                       1.239827\n",
       "4    1.007297  0.327620                       0.793038\n",
       "..        ...       ...                            ...\n",
       "541  0.581300  0.425031                      -0.004457\n",
       "542  0.552020  0.289396                      -0.423622\n",
       "543  1.637106  0.762883                       0.937163\n",
       "544  0.313186  0.150063                       0.202123\n",
       "545 -0.033582 -0.853632                      -1.308192\n",
       "\n",
       "[546 rows x 3 columns]"
      ]
     },
     "execution_count": 4,
     "metadata": {},
     "output_type": "execute_result"
    }
   ],
   "source": [
    "df['MLOGP'] = (df['MLOGP'] - meanX1)/stdX1\n",
    "df['RDCHI'] = (df['RDCHI'] - meanX2)/stdX2\n",
    "df['quantitative response of LC50'] = (df['quantitative response of LC50'] - meanY)/stdY\n",
    "df"
   ]
  },
  {
   "cell_type": "code",
   "execution_count": 5,
   "id": "47c9de65",
   "metadata": {},
   "outputs": [
    {
     "data": {
      "text/plain": [
       "MLOGP                            0\n",
       "RDCHI                            0\n",
       "quantitative response of LC50    0\n",
       "dtype: int64"
      ]
     },
     "execution_count": 5,
     "metadata": {},
     "output_type": "execute_result"
    }
   ],
   "source": [
    "df.isnull().sum()"
   ]
  },
  {
   "cell_type": "code",
   "execution_count": 6,
   "id": "827d288f",
   "metadata": {},
   "outputs": [
    {
     "data": {
      "text/html": [
       "<div>\n",
       "<style scoped>\n",
       "    .dataframe tbody tr th:only-of-type {\n",
       "        vertical-align: middle;\n",
       "    }\n",
       "\n",
       "    .dataframe tbody tr th {\n",
       "        vertical-align: top;\n",
       "    }\n",
       "\n",
       "    .dataframe thead th {\n",
       "        text-align: right;\n",
       "    }\n",
       "</style>\n",
       "<table border=\"1\" class=\"dataframe\">\n",
       "  <thead>\n",
       "    <tr style=\"text-align: right;\">\n",
       "      <th></th>\n",
       "      <th>MLOGP</th>\n",
       "      <th>RDCHI</th>\n",
       "      <th>quantitative response of LC50</th>\n",
       "    </tr>\n",
       "  </thead>\n",
       "  <tbody>\n",
       "    <tr>\n",
       "      <th>539</th>\n",
       "      <td>0.112245</td>\n",
       "      <td>-0.496050</td>\n",
       "      <td>-0.611585</td>\n",
       "    </tr>\n",
       "    <tr>\n",
       "      <th>297</th>\n",
       "      <td>1.128436</td>\n",
       "      <td>1.812200</td>\n",
       "      <td>2.687088</td>\n",
       "    </tr>\n",
       "    <tr>\n",
       "      <th>259</th>\n",
       "      <td>0.457290</td>\n",
       "      <td>-0.409737</td>\n",
       "      <td>0.000948</td>\n",
       "    </tr>\n",
       "    <tr>\n",
       "      <th>107</th>\n",
       "      <td>0.211567</td>\n",
       "      <td>0.506411</td>\n",
       "      <td>2.691892</td>\n",
       "    </tr>\n",
       "    <tr>\n",
       "      <th>24</th>\n",
       "      <td>3.923825</td>\n",
       "      <td>3.704916</td>\n",
       "      <td>0.781628</td>\n",
       "    </tr>\n",
       "    <tr>\n",
       "      <th>...</th>\n",
       "      <td>...</td>\n",
       "      <td>...</td>\n",
       "      <td>...</td>\n",
       "    </tr>\n",
       "    <tr>\n",
       "      <th>449</th>\n",
       "      <td>0.667992</td>\n",
       "      <td>-0.783348</td>\n",
       "      <td>0.096431</td>\n",
       "    </tr>\n",
       "    <tr>\n",
       "      <th>109</th>\n",
       "      <td>0.068612</td>\n",
       "      <td>0.521208</td>\n",
       "      <td>2.345390</td>\n",
       "    </tr>\n",
       "    <tr>\n",
       "      <th>205</th>\n",
       "      <td>0.782816</td>\n",
       "      <td>-0.207519</td>\n",
       "      <td>0.205726</td>\n",
       "    </tr>\n",
       "    <tr>\n",
       "      <th>286</th>\n",
       "      <td>-0.368868</td>\n",
       "      <td>1.243769</td>\n",
       "      <td>-0.550332</td>\n",
       "    </tr>\n",
       "    <tr>\n",
       "      <th>92</th>\n",
       "      <td>-0.068029</td>\n",
       "      <td>0.727125</td>\n",
       "      <td>1.432595</td>\n",
       "    </tr>\n",
       "  </tbody>\n",
       "</table>\n",
       "<p>436 rows × 3 columns</p>\n",
       "</div>"
      ],
      "text/plain": [
       "        MLOGP     RDCHI  quantitative response of LC50\n",
       "539  0.112245 -0.496050                      -0.611585\n",
       "297  1.128436  1.812200                       2.687088\n",
       "259  0.457290 -0.409737                       0.000948\n",
       "107  0.211567  0.506411                       2.691892\n",
       "24   3.923825  3.704916                       0.781628\n",
       "..        ...       ...                            ...\n",
       "449  0.667992 -0.783348                       0.096431\n",
       "109  0.068612  0.521208                       2.345390\n",
       "205  0.782816 -0.207519                       0.205726\n",
       "286 -0.368868  1.243769                      -0.550332\n",
       "92  -0.068029  0.727125                       1.432595\n",
       "\n",
       "[436 rows x 3 columns]"
      ]
     },
     "execution_count": 6,
     "metadata": {},
     "output_type": "execute_result"
    }
   ],
   "source": [
    "train, test = train_test_split(df, test_size=0.2) # this is a random split\n",
    "train"
   ]
  },
  {
   "cell_type": "code",
   "execution_count": 7,
   "id": "f5790539",
   "metadata": {
    "scrolled": false
   },
   "outputs": [
    {
     "data": {
      "text/html": [
       "<div>\n",
       "<style scoped>\n",
       "    .dataframe tbody tr th:only-of-type {\n",
       "        vertical-align: middle;\n",
       "    }\n",
       "\n",
       "    .dataframe tbody tr th {\n",
       "        vertical-align: top;\n",
       "    }\n",
       "\n",
       "    .dataframe thead th {\n",
       "        text-align: right;\n",
       "    }\n",
       "</style>\n",
       "<table border=\"1\" class=\"dataframe\">\n",
       "  <thead>\n",
       "    <tr style=\"text-align: right;\">\n",
       "      <th></th>\n",
       "      <th>MLOGP</th>\n",
       "      <th>RDCHI</th>\n",
       "      <th>quantitative response of LC50</th>\n",
       "    </tr>\n",
       "  </thead>\n",
       "  <tbody>\n",
       "    <tr>\n",
       "      <th>383</th>\n",
       "      <td>-0.107069</td>\n",
       "      <td>-0.720463</td>\n",
       "      <td>-0.252473</td>\n",
       "    </tr>\n",
       "    <tr>\n",
       "      <th>357</th>\n",
       "      <td>-0.685782</td>\n",
       "      <td>-0.298764</td>\n",
       "      <td>-0.609183</td>\n",
       "    </tr>\n",
       "    <tr>\n",
       "      <th>441</th>\n",
       "      <td>0.252904</td>\n",
       "      <td>-0.047224</td>\n",
       "      <td>0.136666</td>\n",
       "    </tr>\n",
       "    <tr>\n",
       "      <th>388</th>\n",
       "      <td>0.583597</td>\n",
       "      <td>-0.260539</td>\n",
       "      <td>1.129931</td>\n",
       "    </tr>\n",
       "    <tr>\n",
       "      <th>391</th>\n",
       "      <td>-1.356353</td>\n",
       "      <td>-1.648942</td>\n",
       "      <td>-0.059104</td>\n",
       "    </tr>\n",
       "    <tr>\n",
       "      <th>...</th>\n",
       "      <td>...</td>\n",
       "      <td>...</td>\n",
       "      <td>...</td>\n",
       "    </tr>\n",
       "    <tr>\n",
       "      <th>238</th>\n",
       "      <td>1.004426</td>\n",
       "      <td>-0.656345</td>\n",
       "      <td>0.054995</td>\n",
       "    </tr>\n",
       "    <tr>\n",
       "      <th>155</th>\n",
       "      <td>-1.795555</td>\n",
       "      <td>-1.840063</td>\n",
       "      <td>-2.203572</td>\n",
       "    </tr>\n",
       "    <tr>\n",
       "      <th>61</th>\n",
       "      <td>0.473366</td>\n",
       "      <td>-1.212446</td>\n",
       "      <td>-0.473465</td>\n",
       "    </tr>\n",
       "    <tr>\n",
       "      <th>371</th>\n",
       "      <td>-0.623203</td>\n",
       "      <td>0.674105</td>\n",
       "      <td>-0.980907</td>\n",
       "    </tr>\n",
       "    <tr>\n",
       "      <th>16</th>\n",
       "      <td>-0.688078</td>\n",
       "      <td>-1.840063</td>\n",
       "      <td>-0.015867</td>\n",
       "    </tr>\n",
       "  </tbody>\n",
       "</table>\n",
       "<p>110 rows × 3 columns</p>\n",
       "</div>"
      ],
      "text/plain": [
       "        MLOGP     RDCHI  quantitative response of LC50\n",
       "383 -0.107069 -0.720463                      -0.252473\n",
       "357 -0.685782 -0.298764                      -0.609183\n",
       "441  0.252904 -0.047224                       0.136666\n",
       "388  0.583597 -0.260539                       1.129931\n",
       "391 -1.356353 -1.648942                      -0.059104\n",
       "..        ...       ...                            ...\n",
       "238  1.004426 -0.656345                       0.054995\n",
       "155 -1.795555 -1.840063                      -2.203572\n",
       "61   0.473366 -1.212446                      -0.473465\n",
       "371 -0.623203  0.674105                      -0.980907\n",
       "16  -0.688078 -1.840063                      -0.015867\n",
       "\n",
       "[110 rows x 3 columns]"
      ]
     },
     "execution_count": 7,
     "metadata": {},
     "output_type": "execute_result"
    }
   ],
   "source": [
    "test"
   ]
  },
  {
   "cell_type": "code",
   "execution_count": 8,
   "id": "72fb5c78",
   "metadata": {},
   "outputs": [
    {
     "data": {
      "image/png": "[encoded data removed]",
      "text/plain": [
       "<Figure size 432x288 with 1 Axes>"
      ]
     },
     "metadata": {
      "needs_background": "light"
     },
     "output_type": "display_data"
    }
   ],
   "source": [
    "ax = plt.axes(projection='3d')\n",
    "\n",
    "# Data for three-dimensional scattered points\n",
    "zdata = train[\"quantitative response of LC50\"]\n",
    "xdata = train[\"RDCHI\"]\n",
    "ydata = train[\"MLOGP\"]\n",
    "ax.scatter3D(xdata, ydata, zdata, c=zdata, cmap='Greens');"
   ]
  },
  {
   "cell_type": "code",
   "execution_count": 9,
   "id": "16cf1ca1",
   "metadata": {},
   "outputs": [
    {
     "data": {
      "text/html": [
       "<div>\n",
       "<style scoped>\n",
       "    .dataframe tbody tr th:only-of-type {\n",
       "        vertical-align: middle;\n",
       "    }\n",
       "\n",
       "    .dataframe tbody tr th {\n",
       "        vertical-align: top;\n",
       "    }\n",
       "\n",
       "    .dataframe thead th {\n",
       "        text-align: right;\n",
       "    }\n",
       "</style>\n",
       "<table border=\"1\" class=\"dataframe\">\n",
       "  <thead>\n",
       "    <tr style=\"text-align: right;\">\n",
       "      <th></th>\n",
       "      <th>RDCHI</th>\n",
       "      <th>MLOGP</th>\n",
       "    </tr>\n",
       "  </thead>\n",
       "  <tbody>\n",
       "    <tr>\n",
       "      <th>539</th>\n",
       "      <td>-0.496050</td>\n",
       "      <td>0.112245</td>\n",
       "    </tr>\n",
       "    <tr>\n",
       "      <th>297</th>\n",
       "      <td>1.812200</td>\n",
       "      <td>1.128436</td>\n",
       "    </tr>\n",
       "    <tr>\n",
       "      <th>259</th>\n",
       "      <td>-0.409737</td>\n",
       "      <td>0.457290</td>\n",
       "    </tr>\n",
       "    <tr>\n",
       "      <th>107</th>\n",
       "      <td>0.506411</td>\n",
       "      <td>0.211567</td>\n",
       "    </tr>\n",
       "    <tr>\n",
       "      <th>24</th>\n",
       "      <td>3.704916</td>\n",
       "      <td>3.923825</td>\n",
       "    </tr>\n",
       "    <tr>\n",
       "      <th>...</th>\n",
       "      <td>...</td>\n",
       "      <td>...</td>\n",
       "    </tr>\n",
       "    <tr>\n",
       "      <th>449</th>\n",
       "      <td>-0.783348</td>\n",
       "      <td>0.667992</td>\n",
       "    </tr>\n",
       "    <tr>\n",
       "      <th>109</th>\n",
       "      <td>0.521208</td>\n",
       "      <td>0.068612</td>\n",
       "    </tr>\n",
       "    <tr>\n",
       "      <th>205</th>\n",
       "      <td>-0.207519</td>\n",
       "      <td>0.782816</td>\n",
       "    </tr>\n",
       "    <tr>\n",
       "      <th>286</th>\n",
       "      <td>1.243769</td>\n",
       "      <td>-0.368868</td>\n",
       "    </tr>\n",
       "    <tr>\n",
       "      <th>92</th>\n",
       "      <td>0.727125</td>\n",
       "      <td>-0.068029</td>\n",
       "    </tr>\n",
       "  </tbody>\n",
       "</table>\n",
       "<p>436 rows × 2 columns</p>\n",
       "</div>"
      ],
      "text/plain": [
       "        RDCHI     MLOGP\n",
       "539 -0.496050  0.112245\n",
       "297  1.812200  1.128436\n",
       "259 -0.409737  0.457290\n",
       "107  0.506411  0.211567\n",
       "24   3.704916  3.923825\n",
       "..        ...       ...\n",
       "449 -0.783348  0.667992\n",
       "109  0.521208  0.068612\n",
       "205 -0.207519  0.782816\n",
       "286  1.243769 -0.368868\n",
       "92   0.727125 -0.068029\n",
       "\n",
       "[436 rows x 2 columns]"
      ]
     },
     "execution_count": 9,
     "metadata": {},
     "output_type": "execute_result"
    }
   ],
   "source": [
    "dataF = pd.DataFrame(train[[\"RDCHI\", \"MLOGP\"]])\n",
    "dataF # x1,x2"
   ]
  },
  {
   "cell_type": "code",
   "execution_count": 10,
   "id": "d79abd31",
   "metadata": {},
   "outputs": [
    {
     "data": {
      "text/html": [
       "<div>\n",
       "<style scoped>\n",
       "    .dataframe tbody tr th:only-of-type {\n",
       "        vertical-align: middle;\n",
       "    }\n",
       "\n",
       "    .dataframe tbody tr th {\n",
       "        vertical-align: top;\n",
       "    }\n",
       "\n",
       "    .dataframe thead th {\n",
       "        text-align: right;\n",
       "    }\n",
       "</style>\n",
       "<table border=\"1\" class=\"dataframe\">\n",
       "  <thead>\n",
       "    <tr style=\"text-align: right;\">\n",
       "      <th></th>\n",
       "      <th>quantitative response of LC50</th>\n",
       "    </tr>\n",
       "  </thead>\n",
       "  <tbody>\n",
       "    <tr>\n",
       "      <th>539</th>\n",
       "      <td>-0.611585</td>\n",
       "    </tr>\n",
       "    <tr>\n",
       "      <th>297</th>\n",
       "      <td>2.687088</td>\n",
       "    </tr>\n",
       "    <tr>\n",
       "      <th>259</th>\n",
       "      <td>0.000948</td>\n",
       "    </tr>\n",
       "    <tr>\n",
       "      <th>107</th>\n",
       "      <td>2.691892</td>\n",
       "    </tr>\n",
       "    <tr>\n",
       "      <th>24</th>\n",
       "      <td>0.781628</td>\n",
       "    </tr>\n",
       "    <tr>\n",
       "      <th>...</th>\n",
       "      <td>...</td>\n",
       "    </tr>\n",
       "    <tr>\n",
       "      <th>449</th>\n",
       "      <td>0.096431</td>\n",
       "    </tr>\n",
       "    <tr>\n",
       "      <th>109</th>\n",
       "      <td>2.345390</td>\n",
       "    </tr>\n",
       "    <tr>\n",
       "      <th>205</th>\n",
       "      <td>0.205726</td>\n",
       "    </tr>\n",
       "    <tr>\n",
       "      <th>286</th>\n",
       "      <td>-0.550332</td>\n",
       "    </tr>\n",
       "    <tr>\n",
       "      <th>92</th>\n",
       "      <td>1.432595</td>\n",
       "    </tr>\n",
       "  </tbody>\n",
       "</table>\n",
       "<p>436 rows × 1 columns</p>\n",
       "</div>"
      ],
      "text/plain": [
       "     quantitative response of LC50\n",
       "539                      -0.611585\n",
       "297                       2.687088\n",
       "259                       0.000948\n",
       "107                       2.691892\n",
       "24                        0.781628\n",
       "..                             ...\n",
       "449                       0.096431\n",
       "109                       2.345390\n",
       "205                       0.205726\n",
       "286                      -0.550332\n",
       "92                        1.432595\n",
       "\n",
       "[436 rows x 1 columns]"
      ]
     },
     "execution_count": 10,
     "metadata": {},
     "output_type": "execute_result"
    }
   ],
   "source": [
    "targetF = pd.DataFrame(train[\"quantitative response of LC50\"])\n",
    "targetF # t"
   ]
  },
  {
   "cell_type": "code",
   "execution_count": 11,
   "id": "b4d519d5",
   "metadata": {
    "scrolled": false
   },
   "outputs": [
    {
     "name": "stdout",
     "output_type": "stream",
     "text": [
      "(436, 1)\n",
      "(436, 55)\n",
      "-0.49605004407260755\n"
     ]
    }
   ],
   "source": [
    "# Value order to be followed: x1,x2, x1^2,x1x2,x2^2, x1^3,x1^2x2,x1x2^2,x2^3.... meant for all degrees of gradient descent\n",
    "valX = dataF[dataF.columns[:]].to_numpy()\n",
    "\n",
    "for i in range(2,10):\n",
    "    for j in range(i+1):\n",
    "        k = i-j\n",
    "        valX1 = (valX[:,0]**k)*(valX[:,1]**j)\n",
    "        valX = np.append(valX, np.column_stack([valX1]), axis = 1)\n",
    "\n",
    "valX = np.append(np.ones((np.shape(valX)[0],1)), valX, axis=1)\n",
    "\n",
    "valY = targetF[targetF.columns[:]].to_numpy()\n",
    "print(np.shape(valY))\n",
    "print(np.shape(valX))\n",
    "# valX is the nd array of target values and their exponents, valY is the respective Yn for every x1n and x2n\n",
    "\n",
    "print(valX[0,1])\n"
   ]
  },
  {
   "cell_type": "code",
   "execution_count": 12,
   "id": "cbb0e298",
   "metadata": {},
   "outputs": [
    {
     "data": {
      "text/html": [
       "<div>\n",
       "<style scoped>\n",
       "    .dataframe tbody tr th:only-of-type {\n",
       "        vertical-align: middle;\n",
       "    }\n",
       "\n",
       "    .dataframe tbody tr th {\n",
       "        vertical-align: top;\n",
       "    }\n",
       "\n",
       "    .dataframe thead th {\n",
       "        text-align: right;\n",
       "    }\n",
       "</style>\n",
       "<table border=\"1\" class=\"dataframe\">\n",
       "  <thead>\n",
       "    <tr style=\"text-align: right;\">\n",
       "      <th></th>\n",
       "      <th>RDCHI</th>\n",
       "      <th>MLOGP</th>\n",
       "    </tr>\n",
       "  </thead>\n",
       "  <tbody>\n",
       "    <tr>\n",
       "      <th>383</th>\n",
       "      <td>-0.720463</td>\n",
       "      <td>-0.107069</td>\n",
       "    </tr>\n",
       "    <tr>\n",
       "      <th>357</th>\n",
       "      <td>-0.298764</td>\n",
       "      <td>-0.685782</td>\n",
       "    </tr>\n",
       "    <tr>\n",
       "      <th>441</th>\n",
       "      <td>-0.047224</td>\n",
       "      <td>0.252904</td>\n",
       "    </tr>\n",
       "    <tr>\n",
       "      <th>388</th>\n",
       "      <td>-0.260539</td>\n",
       "      <td>0.583597</td>\n",
       "    </tr>\n",
       "    <tr>\n",
       "      <th>391</th>\n",
       "      <td>-1.648942</td>\n",
       "      <td>-1.356353</td>\n",
       "    </tr>\n",
       "    <tr>\n",
       "      <th>...</th>\n",
       "      <td>...</td>\n",
       "      <td>...</td>\n",
       "    </tr>\n",
       "    <tr>\n",
       "      <th>238</th>\n",
       "      <td>-0.656345</td>\n",
       "      <td>1.004426</td>\n",
       "    </tr>\n",
       "    <tr>\n",
       "      <th>155</th>\n",
       "      <td>-1.840063</td>\n",
       "      <td>-1.795555</td>\n",
       "    </tr>\n",
       "    <tr>\n",
       "      <th>61</th>\n",
       "      <td>-1.212446</td>\n",
       "      <td>0.473366</td>\n",
       "    </tr>\n",
       "    <tr>\n",
       "      <th>371</th>\n",
       "      <td>0.674105</td>\n",
       "      <td>-0.623203</td>\n",
       "    </tr>\n",
       "    <tr>\n",
       "      <th>16</th>\n",
       "      <td>-1.840063</td>\n",
       "      <td>-0.688078</td>\n",
       "    </tr>\n",
       "  </tbody>\n",
       "</table>\n",
       "<p>110 rows × 2 columns</p>\n",
       "</div>"
      ],
      "text/plain": [
       "        RDCHI     MLOGP\n",
       "383 -0.720463 -0.107069\n",
       "357 -0.298764 -0.685782\n",
       "441 -0.047224  0.252904\n",
       "388 -0.260539  0.583597\n",
       "391 -1.648942 -1.356353\n",
       "..        ...       ...\n",
       "238 -0.656345  1.004426\n",
       "155 -1.840063 -1.795555\n",
       "61  -1.212446  0.473366\n",
       "371  0.674105 -0.623203\n",
       "16  -1.840063 -0.688078\n",
       "\n",
       "[110 rows x 2 columns]"
      ]
     },
     "execution_count": 12,
     "metadata": {},
     "output_type": "execute_result"
    }
   ],
   "source": [
    "testX = pd.DataFrame(test[[\"RDCHI\", \"MLOGP\"]])\n",
    "testY = pd.DataFrame(test['quantitative response of LC50'])\n",
    "testX"
   ]
  },
  {
   "cell_type": "code",
   "execution_count": 13,
   "id": "3c103a6f",
   "metadata": {},
   "outputs": [
    {
     "data": {
      "text/html": [
       "<div>\n",
       "<style scoped>\n",
       "    .dataframe tbody tr th:only-of-type {\n",
       "        vertical-align: middle;\n",
       "    }\n",
       "\n",
       "    .dataframe tbody tr th {\n",
       "        vertical-align: top;\n",
       "    }\n",
       "\n",
       "    .dataframe thead th {\n",
       "        text-align: right;\n",
       "    }\n",
       "</style>\n",
       "<table border=\"1\" class=\"dataframe\">\n",
       "  <thead>\n",
       "    <tr style=\"text-align: right;\">\n",
       "      <th></th>\n",
       "      <th>quantitative response of LC50</th>\n",
       "    </tr>\n",
       "  </thead>\n",
       "  <tbody>\n",
       "    <tr>\n",
       "      <th>383</th>\n",
       "      <td>-0.252473</td>\n",
       "    </tr>\n",
       "    <tr>\n",
       "      <th>357</th>\n",
       "      <td>-0.609183</td>\n",
       "    </tr>\n",
       "    <tr>\n",
       "      <th>441</th>\n",
       "      <td>0.136666</td>\n",
       "    </tr>\n",
       "    <tr>\n",
       "      <th>388</th>\n",
       "      <td>1.129931</td>\n",
       "    </tr>\n",
       "    <tr>\n",
       "      <th>391</th>\n",
       "      <td>-0.059104</td>\n",
       "    </tr>\n",
       "    <tr>\n",
       "      <th>...</th>\n",
       "      <td>...</td>\n",
       "    </tr>\n",
       "    <tr>\n",
       "      <th>238</th>\n",
       "      <td>0.054995</td>\n",
       "    </tr>\n",
       "    <tr>\n",
       "      <th>155</th>\n",
       "      <td>-2.203572</td>\n",
       "    </tr>\n",
       "    <tr>\n",
       "      <th>61</th>\n",
       "      <td>-0.473465</td>\n",
       "    </tr>\n",
       "    <tr>\n",
       "      <th>371</th>\n",
       "      <td>-0.980907</td>\n",
       "    </tr>\n",
       "    <tr>\n",
       "      <th>16</th>\n",
       "      <td>-0.015867</td>\n",
       "    </tr>\n",
       "  </tbody>\n",
       "</table>\n",
       "<p>110 rows × 1 columns</p>\n",
       "</div>"
      ],
      "text/plain": [
       "     quantitative response of LC50\n",
       "383                      -0.252473\n",
       "357                      -0.609183\n",
       "441                       0.136666\n",
       "388                       1.129931\n",
       "391                      -0.059104\n",
       "..                             ...\n",
       "238                       0.054995\n",
       "155                      -2.203572\n",
       "61                       -0.473465\n",
       "371                      -0.980907\n",
       "16                       -0.015867\n",
       "\n",
       "[110 rows x 1 columns]"
      ]
     },
     "execution_count": 13,
     "metadata": {},
     "output_type": "execute_result"
    }
   ],
   "source": [
    "testY"
   ]
  },
  {
   "cell_type": "code",
   "execution_count": 14,
   "id": "0ac60508",
   "metadata": {},
   "outputs": [
    {
     "name": "stdout",
     "output_type": "stream",
     "text": [
      "(110, 1)\n",
      "(110, 55)\n"
     ]
    }
   ],
   "source": [
    "# Value order to be followed: x1,x2, x1^2,x1x2,x2^2, x1^3,x1^2x2,x1x2^2,x2^3.... meant for all degrees to make measure errors\n",
    "testXVal = testX[testX.columns[:]].to_numpy()\n",
    "\n",
    "for i in range(2,10):\n",
    "    for j in range(i+1):\n",
    "        k = i-j\n",
    "        testXVal1 = (testXVal[:,0]**k)*(testXVal[:,1]**j)\n",
    "        testXVal = np.append(testXVal, np.column_stack([testXVal1]), axis = 1)\n",
    "\n",
    "testXVal = np.append(np.ones((np.shape(testXVal)[0],1)), testXVal, axis=1)\n",
    "\n",
    "testYVal = testY[testY.columns[:]].to_numpy()\n",
    "print(np.shape(testYVal))\n",
    "print(np.shape(testXVal))\n",
    "# valX is the nd array of target values and their exponents, valY is the respective Yn for every x1n and x2n\n"
   ]
  },
  {
   "cell_type": "code",
   "execution_count": 15,
   "id": "d03e51f6",
   "metadata": {},
   "outputs": [],
   "source": [
    "# Unregularised training errors to be noted\n",
    "trainErr = []\n",
    "testErr = []"
   ]
  },
  {
   "cell_type": "code",
   "execution_count": 89,
   "id": "60ae6d5e",
   "metadata": {},
   "outputs": [],
   "source": [
    "def computeCost(X,Y,w):# E(w)\n",
    "    m = np.shape(X[0])\n",
    "    \n",
    "    J = np.sum((np.dot(X, w) - Y)**2) / (2 * m)\n",
    "    return J[0]"
   ]
  },
  {
   "cell_type": "code",
   "execution_count": 90,
   "id": "835c64f4",
   "metadata": {},
   "outputs": [],
   "source": [
    "def gradDes(X, Y, theta, alpha): # update X and Y before  \n",
    "    num_iters = 10000\n",
    "    m = np.shape(X)[0]\n",
    "    J_history = np.zeros(int(num_iters))\n",
    "    \n",
    "    for iter in range(num_iters):\n",
    "        delta = np.dot(X.T, (np.dot(X, theta) - Y))\n",
    "        theta = theta - (alpha/m)*delta\n",
    "        J_history[iter] = computeCost(X, Y, theta)\n",
    "        \n",
    "    return theta, J_history"
   ]
  },
  {
   "cell_type": "code",
   "execution_count": 91,
   "id": "37122644",
   "metadata": {},
   "outputs": [],
   "source": [
    "def getW(degree):\n",
    "    wSize = int((degree+1)*(degree+2)/2)\n",
    "    w = np.zeros(wSize) # theta\n",
    "    "
   ]
  },
  {
   "cell_type": "code",
   "execution_count": 92,
   "id": "b4eba271",
   "metadata": {},
   "outputs": [
    {
     "data": {
      "text/plain": [
       "(110, 55)"
      ]
     },
     "execution_count": 92,
     "metadata": {},
     "output_type": "execute_result"
    }
   ],
   "source": [
    "np.shape(testXVal)"
   ]
  },
  {
   "cell_type": "code",
   "execution_count": 93,
   "id": "31bff57f",
   "metadata": {},
   "outputs": [
    {
     "data": {
      "text/plain": [
       "(110, 1)"
      ]
     },
     "execution_count": 93,
     "metadata": {},
     "output_type": "execute_result"
    }
   ],
   "source": [
    "np.shape(testYVal)"
   ]
  },
  {
   "cell_type": "code",
   "execution_count": 94,
   "id": "81846928",
   "metadata": {},
   "outputs": [
    {
     "name": "stdout",
     "output_type": "stream",
     "text": [
      "237.77551607213556\n"
     ]
    }
   ],
   "source": [
    "w = np.zeros(np.shape(testXVal)[1])\n",
    "# j = computeCost(testXVal,testYVal,w)\n",
    "print(computeCost(testXVal,testYVal,w))"
   ]
  },
  {
   "cell_type": "code",
   "execution_count": 98,
   "id": "61327d2f",
   "metadata": {
    "scrolled": false
   },
   "outputs": [
    {
     "ename": "ValueError",
     "evalue": "operands could not be broadcast together with shapes (3,) (3,436) ",
     "output_type": "error",
     "traceback": [
      "\u001b[1;31m---------------------------------------------------------------------------\u001b[0m",
      "\u001b[1;31mValueError\u001b[0m                                Traceback (most recent call last)",
      "Input \u001b[1;32mIn [98]\u001b[0m, in \u001b[0;36m<cell line: 4>\u001b[1;34m()\u001b[0m\n\u001b[0;32m      2\u001b[0m Xu \u001b[38;5;241m=\u001b[39m valX[:,:wSize]\n\u001b[0;32m      3\u001b[0m w \u001b[38;5;241m=\u001b[39m np\u001b[38;5;241m.\u001b[39mzeros(wSize)\n\u001b[1;32m----> 4\u001b[0m theta, J \u001b[38;5;241m=\u001b[39m \u001b[43mgradDes\u001b[49m\u001b[43m(\u001b[49m\u001b[43mXu\u001b[49m\u001b[43m,\u001b[49m\u001b[43mvalY\u001b[49m\u001b[43m,\u001b[49m\u001b[43mw\u001b[49m\u001b[43m,\u001b[49m\u001b[43m \u001b[49m\u001b[38;5;241;43m10\u001b[39;49m\u001b[38;5;241;43m*\u001b[39;49m\u001b[38;5;241;43m*\u001b[39;49m\u001b[38;5;241;43m-\u001b[39;49m\u001b[38;5;241;43m3\u001b[39;49m\u001b[43m)\u001b[49m\n",
      "Input \u001b[1;32mIn [90]\u001b[0m, in \u001b[0;36mgradDes\u001b[1;34m(X, Y, theta, alpha)\u001b[0m\n\u001b[0;32m      6\u001b[0m \u001b[38;5;28;01mfor\u001b[39;00m \u001b[38;5;28miter\u001b[39m \u001b[38;5;129;01min\u001b[39;00m \u001b[38;5;28mrange\u001b[39m(num_iters):\n\u001b[0;32m      7\u001b[0m     delta \u001b[38;5;241m=\u001b[39m np\u001b[38;5;241m.\u001b[39mdot(X\u001b[38;5;241m.\u001b[39mT, (np\u001b[38;5;241m.\u001b[39mdot(X, theta) \u001b[38;5;241m-\u001b[39m Y))\n\u001b[1;32m----> 8\u001b[0m     theta \u001b[38;5;241m=\u001b[39m \u001b[43mtheta\u001b[49m\u001b[43m \u001b[49m\u001b[38;5;241;43m-\u001b[39;49m\u001b[43m \u001b[49m\u001b[43m(\u001b[49m\u001b[43malpha\u001b[49m\u001b[38;5;241;43m/\u001b[39;49m\u001b[43mm\u001b[49m\u001b[43m)\u001b[49m\u001b[38;5;241;43m*\u001b[39;49m\u001b[43mdelta\u001b[49m\n\u001b[0;32m      9\u001b[0m     J_history[\u001b[38;5;28miter\u001b[39m] \u001b[38;5;241m=\u001b[39m computeCost(X, Y, theta)\n\u001b[0;32m     11\u001b[0m \u001b[38;5;28;01mreturn\u001b[39;00m theta, J_history\n",
      "\u001b[1;31mValueError\u001b[0m: operands could not be broadcast together with shapes (3,) (3,436) "
     ]
    }
   ],
   "source": [
    "wSize = 1\n",
    "Xu = valX[:,:wSize]\n",
    "w = np.zeros(wSize)\n",
    "theta, J = gradDes(Xu,valY,w, 10**-3)"
   ]
  },
  {
   "cell_type": "code",
   "execution_count": 96,
   "id": "a289bf38",
   "metadata": {},
   "outputs": [
    {
     "data": {
      "text/plain": [
       "185775.06445952668"
      ]
     },
     "execution_count": 96,
     "metadata": {},
     "output_type": "execute_result"
    }
   ],
   "source": [
    "J[-1]"
   ]
  },
  {
   "cell_type": "code",
   "execution_count": 97,
   "id": "b4f632f6",
   "metadata": {},
   "outputs": [
    {
     "data": {
      "image/png": "[encoded data removed]",
      "text/plain": [
       "<Figure size 720x720 with 1 Axes>"
      ]
     },
     "metadata": {
      "needs_background": "light"
     },
     "output_type": "display_data"
    }
   ],
   "source": [
    "fig, ax = plt.subplots(figsize = (10,10))\n",
    "ax.plot(J)\n",
    "plt.show()"
   ]
  },
  {
   "cell_type": "code",
   "execution_count": null,
   "id": "18ec1ace",
   "metadata": {},
   "outputs": [],
   "source": []
  }
 ],
 "metadata": {
  "kernelspec": {
   "display_name": "Python 3 (ipykernel)",
   "language": "python",
   "name": "python3"
  },
  "language_info": {
   "codemirror_mode": {
    "name": "ipython",
    "version": 3
   },
   "file_extension": ".py",
   "mimetype": "text/x-python",
   "name": "python",
   "nbconvert_exporter": "python",
   "pygments_lexer": "ipython3",
   "version": "3.9.12"
  }
 },
 "nbformat": 4,
 "nbformat_minor": 5
}
