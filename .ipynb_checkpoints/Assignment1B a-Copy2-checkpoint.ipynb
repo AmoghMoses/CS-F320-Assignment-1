{
 "cells": [
  {
   "cell_type": "code",
   "execution_count": 1,
   "id": "4d67eca0",
   "metadata": {},
   "outputs": [
    {
     "name": "stdout",
     "output_type": "stream",
     "text": [
      "Success\n"
     ]
    }
   ],
   "source": [
    "import pandas as pd\n",
    "import numpy as np\n",
    "import matplotlib.pyplot as plt\n",
    "from sklearn import tree\n",
    "from sklearn.model_selection import train_test_split\n",
    "from sklearn.tree import DecisionTreeRegressor\n",
    "from sklearn.preprocessing import StandardScaler\n",
    "from sklearn.linear_model import LinearRegression\n",
    "from mpl_toolkits import mplot3d\n",
    "print(\"Success\")"
   ]
  },
  {
   "cell_type": "code",
   "execution_count": 2,
   "id": "a2b4e8a6",
   "metadata": {
    "scrolled": false
   },
   "outputs": [
    {
     "data": {
      "text/html": [
       "<div>\n",
       "<style scoped>\n",
       "    .dataframe tbody tr th:only-of-type {\n",
       "        vertical-align: middle;\n",
       "    }\n",
       "\n",
       "    .dataframe tbody tr th {\n",
       "        vertical-align: top;\n",
       "    }\n",
       "\n",
       "    .dataframe thead th {\n",
       "        text-align: right;\n",
       "    }\n",
       "</style>\n",
       "<table border=\"1\" class=\"dataframe\">\n",
       "  <thead>\n",
       "    <tr style=\"text-align: right;\">\n",
       "      <th></th>\n",
       "      <th>MLOGP</th>\n",
       "      <th>RDCHI</th>\n",
       "      <th>quantitative response of LC50</th>\n",
       "    </tr>\n",
       "  </thead>\n",
       "  <tbody>\n",
       "    <tr>\n",
       "      <th>0</th>\n",
       "      <td>2.419</td>\n",
       "      <td>1.225</td>\n",
       "      <td>3.740</td>\n",
       "    </tr>\n",
       "    <tr>\n",
       "      <th>1</th>\n",
       "      <td>2.638</td>\n",
       "      <td>1.401</td>\n",
       "      <td>4.330</td>\n",
       "    </tr>\n",
       "    <tr>\n",
       "      <th>2</th>\n",
       "      <td>5.799</td>\n",
       "      <td>2.930</td>\n",
       "      <td>7.019</td>\n",
       "    </tr>\n",
       "    <tr>\n",
       "      <th>3</th>\n",
       "      <td>5.453</td>\n",
       "      <td>2.887</td>\n",
       "      <td>6.723</td>\n",
       "    </tr>\n",
       "    <tr>\n",
       "      <th>4</th>\n",
       "      <td>4.068</td>\n",
       "      <td>2.758</td>\n",
       "      <td>5.979</td>\n",
       "    </tr>\n",
       "    <tr>\n",
       "      <th>...</th>\n",
       "      <td>...</td>\n",
       "      <td>...</td>\n",
       "      <td>...</td>\n",
       "    </tr>\n",
       "    <tr>\n",
       "      <th>541</th>\n",
       "      <td>3.326</td>\n",
       "      <td>2.837</td>\n",
       "      <td>4.651</td>\n",
       "    </tr>\n",
       "    <tr>\n",
       "      <th>542</th>\n",
       "      <td>3.275</td>\n",
       "      <td>2.727</td>\n",
       "      <td>3.953</td>\n",
       "    </tr>\n",
       "    <tr>\n",
       "      <th>543</th>\n",
       "      <td>5.165</td>\n",
       "      <td>3.111</td>\n",
       "      <td>6.219</td>\n",
       "    </tr>\n",
       "    <tr>\n",
       "      <th>544</th>\n",
       "      <td>2.859</td>\n",
       "      <td>2.614</td>\n",
       "      <td>4.995</td>\n",
       "    </tr>\n",
       "    <tr>\n",
       "      <th>545</th>\n",
       "      <td>2.255</td>\n",
       "      <td>1.800</td>\n",
       "      <td>2.480</td>\n",
       "    </tr>\n",
       "  </tbody>\n",
       "</table>\n",
       "<p>546 rows × 3 columns</p>\n",
       "</div>"
      ],
      "text/plain": [
       "     MLOGP  RDCHI  quantitative response of LC50\n",
       "0    2.419  1.225                          3.740\n",
       "1    2.638  1.401                          4.330\n",
       "2    5.799  2.930                          7.019\n",
       "3    5.453  2.887                          6.723\n",
       "4    4.068  2.758                          5.979\n",
       "..     ...    ...                            ...\n",
       "541  3.326  2.837                          4.651\n",
       "542  3.275  2.727                          3.953\n",
       "543  5.165  3.111                          6.219\n",
       "544  2.859  2.614                          4.995\n",
       "545  2.255  1.800                          2.480\n",
       "\n",
       "[546 rows x 3 columns]"
      ]
     },
     "execution_count": 2,
     "metadata": {},
     "output_type": "execute_result"
    }
   ],
   "source": [
    "df = pd.read_csv('fods_1.csv')\n",
    "df"
   ]
  },
  {
   "cell_type": "code",
   "execution_count": 3,
   "id": "3bed213f",
   "metadata": {
    "scrolled": true
   },
   "outputs": [
    {
     "name": "stdout",
     "output_type": "stream",
     "text": [
      "2.3134926739926738\n",
      "2.4922985347985356\n",
      "4.6584212454212475\n",
      "1.741797285664983\n",
      "0.8110039291512505\n",
      "1.6652150617992907\n",
      "MLOGP                             9.148\n",
      "RDCHI                             6.439\n",
      "quantitative response of LC50    10.047\n",
      "dtype: float64\n",
      " \n",
      "MLOGP                           -6.446\n",
      "RDCHI                            1.000\n",
      "quantitative response of LC50    0.122\n",
      "dtype: float64\n"
     ]
    }
   ],
   "source": [
    "meanX1 = df['MLOGP'].mean()\n",
    "meanX2 = df['RDCHI'].mean()\n",
    "meanY = df['quantitative response of LC50'].mean()\n",
    "stdX1 = df['MLOGP'].std()\n",
    "stdX2 = df['RDCHI'].std()\n",
    "stdY = df['quantitative response of LC50'].std()\n",
    "maxAll = df.max()\n",
    "minAll = df.min()\n",
    "print(meanX1, meanX2, meanY, stdX1, stdX2, stdY, maxAll, \" \", minAll, sep = '\\n')"
   ]
  },
  {
   "cell_type": "code",
   "execution_count": 4,
   "id": "7af77565",
   "metadata": {},
   "outputs": [
    {
     "data": {
      "text/html": [
       "<div>\n",
       "<style scoped>\n",
       "    .dataframe tbody tr th:only-of-type {\n",
       "        vertical-align: middle;\n",
       "    }\n",
       "\n",
       "    .dataframe tbody tr th {\n",
       "        vertical-align: top;\n",
       "    }\n",
       "\n",
       "    .dataframe thead th {\n",
       "        text-align: right;\n",
       "    }\n",
       "</style>\n",
       "<table border=\"1\" class=\"dataframe\">\n",
       "  <thead>\n",
       "    <tr style=\"text-align: right;\">\n",
       "      <th></th>\n",
       "      <th>MLOGP</th>\n",
       "      <th>RDCHI</th>\n",
       "      <th>quantitative response of LC50</th>\n",
       "    </tr>\n",
       "  </thead>\n",
       "  <tbody>\n",
       "    <tr>\n",
       "      <th>0</th>\n",
       "      <td>2.419</td>\n",
       "      <td>1.225</td>\n",
       "      <td>3.740</td>\n",
       "    </tr>\n",
       "    <tr>\n",
       "      <th>1</th>\n",
       "      <td>2.638</td>\n",
       "      <td>1.401</td>\n",
       "      <td>4.330</td>\n",
       "    </tr>\n",
       "    <tr>\n",
       "      <th>2</th>\n",
       "      <td>5.799</td>\n",
       "      <td>2.930</td>\n",
       "      <td>7.019</td>\n",
       "    </tr>\n",
       "    <tr>\n",
       "      <th>3</th>\n",
       "      <td>5.453</td>\n",
       "      <td>2.887</td>\n",
       "      <td>6.723</td>\n",
       "    </tr>\n",
       "    <tr>\n",
       "      <th>4</th>\n",
       "      <td>4.068</td>\n",
       "      <td>2.758</td>\n",
       "      <td>5.979</td>\n",
       "    </tr>\n",
       "    <tr>\n",
       "      <th>...</th>\n",
       "      <td>...</td>\n",
       "      <td>...</td>\n",
       "      <td>...</td>\n",
       "    </tr>\n",
       "    <tr>\n",
       "      <th>541</th>\n",
       "      <td>3.326</td>\n",
       "      <td>2.837</td>\n",
       "      <td>4.651</td>\n",
       "    </tr>\n",
       "    <tr>\n",
       "      <th>542</th>\n",
       "      <td>3.275</td>\n",
       "      <td>2.727</td>\n",
       "      <td>3.953</td>\n",
       "    </tr>\n",
       "    <tr>\n",
       "      <th>543</th>\n",
       "      <td>5.165</td>\n",
       "      <td>3.111</td>\n",
       "      <td>6.219</td>\n",
       "    </tr>\n",
       "    <tr>\n",
       "      <th>544</th>\n",
       "      <td>2.859</td>\n",
       "      <td>2.614</td>\n",
       "      <td>4.995</td>\n",
       "    </tr>\n",
       "    <tr>\n",
       "      <th>545</th>\n",
       "      <td>2.255</td>\n",
       "      <td>1.800</td>\n",
       "      <td>2.480</td>\n",
       "    </tr>\n",
       "  </tbody>\n",
       "</table>\n",
       "<p>546 rows × 3 columns</p>\n",
       "</div>"
      ],
      "text/plain": [
       "     MLOGP  RDCHI  quantitative response of LC50\n",
       "0    2.419  1.225                          3.740\n",
       "1    2.638  1.401                          4.330\n",
       "2    5.799  2.930                          7.019\n",
       "3    5.453  2.887                          6.723\n",
       "4    4.068  2.758                          5.979\n",
       "..     ...    ...                            ...\n",
       "541  3.326  2.837                          4.651\n",
       "542  3.275  2.727                          3.953\n",
       "543  5.165  3.111                          6.219\n",
       "544  2.859  2.614                          4.995\n",
       "545  2.255  1.800                          2.480\n",
       "\n",
       "[546 rows x 3 columns]"
      ]
     },
     "execution_count": 4,
     "metadata": {},
     "output_type": "execute_result"
    }
   ],
   "source": [
    "df1 = df.copy()\n",
    "df1"
   ]
  },
  {
   "cell_type": "code",
   "execution_count": 5,
   "id": "339f5d24",
   "metadata": {},
   "outputs": [
    {
     "data": {
      "text/html": [
       "<div>\n",
       "<style scoped>\n",
       "    .dataframe tbody tr th:only-of-type {\n",
       "        vertical-align: middle;\n",
       "    }\n",
       "\n",
       "    .dataframe tbody tr th {\n",
       "        vertical-align: top;\n",
       "    }\n",
       "\n",
       "    .dataframe thead th {\n",
       "        text-align: right;\n",
       "    }\n",
       "</style>\n",
       "<table border=\"1\" class=\"dataframe\">\n",
       "  <thead>\n",
       "    <tr style=\"text-align: right;\">\n",
       "      <th></th>\n",
       "      <th>MLOGP</th>\n",
       "      <th>RDCHI</th>\n",
       "      <th>quantitative response of LC50</th>\n",
       "    </tr>\n",
       "  </thead>\n",
       "  <tbody>\n",
       "    <tr>\n",
       "      <th>0</th>\n",
       "      <td>0.568488</td>\n",
       "      <td>0.041368</td>\n",
       "      <td>3.740</td>\n",
       "    </tr>\n",
       "    <tr>\n",
       "      <th>1</th>\n",
       "      <td>0.582532</td>\n",
       "      <td>0.073727</td>\n",
       "      <td>4.330</td>\n",
       "    </tr>\n",
       "    <tr>\n",
       "      <th>2</th>\n",
       "      <td>0.785238</td>\n",
       "      <td>0.354845</td>\n",
       "      <td>7.019</td>\n",
       "    </tr>\n",
       "    <tr>\n",
       "      <th>3</th>\n",
       "      <td>0.763050</td>\n",
       "      <td>0.346939</td>\n",
       "      <td>6.723</td>\n",
       "    </tr>\n",
       "    <tr>\n",
       "      <th>4</th>\n",
       "      <td>0.674234</td>\n",
       "      <td>0.323221</td>\n",
       "      <td>5.979</td>\n",
       "    </tr>\n",
       "    <tr>\n",
       "      <th>...</th>\n",
       "      <td>...</td>\n",
       "      <td>...</td>\n",
       "      <td>...</td>\n",
       "    </tr>\n",
       "    <tr>\n",
       "      <th>541</th>\n",
       "      <td>0.626651</td>\n",
       "      <td>0.337746</td>\n",
       "      <td>4.651</td>\n",
       "    </tr>\n",
       "    <tr>\n",
       "      <th>542</th>\n",
       "      <td>0.623381</td>\n",
       "      <td>0.317522</td>\n",
       "      <td>3.953</td>\n",
       "    </tr>\n",
       "    <tr>\n",
       "      <th>543</th>\n",
       "      <td>0.744581</td>\n",
       "      <td>0.388123</td>\n",
       "      <td>6.219</td>\n",
       "    </tr>\n",
       "    <tr>\n",
       "      <th>544</th>\n",
       "      <td>0.596704</td>\n",
       "      <td>0.296746</td>\n",
       "      <td>4.995</td>\n",
       "    </tr>\n",
       "    <tr>\n",
       "      <th>545</th>\n",
       "      <td>0.557971</td>\n",
       "      <td>0.147086</td>\n",
       "      <td>2.480</td>\n",
       "    </tr>\n",
       "  </tbody>\n",
       "</table>\n",
       "<p>546 rows × 3 columns</p>\n",
       "</div>"
      ],
      "text/plain": [
       "        MLOGP     RDCHI  quantitative response of LC50\n",
       "0    0.568488  0.041368                          3.740\n",
       "1    0.582532  0.073727                          4.330\n",
       "2    0.785238  0.354845                          7.019\n",
       "3    0.763050  0.346939                          6.723\n",
       "4    0.674234  0.323221                          5.979\n",
       "..        ...       ...                            ...\n",
       "541  0.626651  0.337746                          4.651\n",
       "542  0.623381  0.317522                          3.953\n",
       "543  0.744581  0.388123                          6.219\n",
       "544  0.596704  0.296746                          4.995\n",
       "545  0.557971  0.147086                          2.480\n",
       "\n",
       "[546 rows x 3 columns]"
      ]
     },
     "execution_count": 5,
     "metadata": {},
     "output_type": "execute_result"
    }
   ],
   "source": [
    "df['MLOGP'] = (df['MLOGP'] - df['MLOGP'].min())/(df['MLOGP'].max() - df['MLOGP'].min())\n",
    "df['RDCHI'] = (df['RDCHI'] - df['RDCHI'].min())/(df['RDCHI'].max() - df['RDCHI'].min())\n",
    "df"
   ]
  },
  {
   "cell_type": "code",
   "execution_count": 6,
   "id": "477b3342",
   "metadata": {},
   "outputs": [
    {
     "name": "stdout",
     "output_type": "stream",
     "text": [
      "MLOGP                             1.000\n",
      "RDCHI                             1.000\n",
      "quantitative response of LC50    10.047\n",
      "dtype: float64\n",
      "MLOGP                            0.000\n",
      "RDCHI                            0.000\n",
      "quantitative response of LC50    0.122\n",
      "dtype: float64\n"
     ]
    },
    {
     "data": {
      "text/html": [
       "<div>\n",
       "<style scoped>\n",
       "    .dataframe tbody tr th:only-of-type {\n",
       "        vertical-align: middle;\n",
       "    }\n",
       "\n",
       "    .dataframe tbody tr th {\n",
       "        vertical-align: top;\n",
       "    }\n",
       "\n",
       "    .dataframe thead th {\n",
       "        text-align: right;\n",
       "    }\n",
       "</style>\n",
       "<table border=\"1\" class=\"dataframe\">\n",
       "  <thead>\n",
       "    <tr style=\"text-align: right;\">\n",
       "      <th></th>\n",
       "      <th>MLOGP</th>\n",
       "      <th>RDCHI</th>\n",
       "      <th>quantitative response of LC50</th>\n",
       "    </tr>\n",
       "  </thead>\n",
       "  <tbody>\n",
       "    <tr>\n",
       "      <th>0</th>\n",
       "      <td>0.568488</td>\n",
       "      <td>0.041368</td>\n",
       "      <td>3.740</td>\n",
       "    </tr>\n",
       "    <tr>\n",
       "      <th>1</th>\n",
       "      <td>0.582532</td>\n",
       "      <td>0.073727</td>\n",
       "      <td>4.330</td>\n",
       "    </tr>\n",
       "    <tr>\n",
       "      <th>2</th>\n",
       "      <td>0.785238</td>\n",
       "      <td>0.354845</td>\n",
       "      <td>7.019</td>\n",
       "    </tr>\n",
       "    <tr>\n",
       "      <th>3</th>\n",
       "      <td>0.763050</td>\n",
       "      <td>0.346939</td>\n",
       "      <td>6.723</td>\n",
       "    </tr>\n",
       "    <tr>\n",
       "      <th>4</th>\n",
       "      <td>0.674234</td>\n",
       "      <td>0.323221</td>\n",
       "      <td>5.979</td>\n",
       "    </tr>\n",
       "    <tr>\n",
       "      <th>...</th>\n",
       "      <td>...</td>\n",
       "      <td>...</td>\n",
       "      <td>...</td>\n",
       "    </tr>\n",
       "    <tr>\n",
       "      <th>541</th>\n",
       "      <td>0.626651</td>\n",
       "      <td>0.337746</td>\n",
       "      <td>4.651</td>\n",
       "    </tr>\n",
       "    <tr>\n",
       "      <th>542</th>\n",
       "      <td>0.623381</td>\n",
       "      <td>0.317522</td>\n",
       "      <td>3.953</td>\n",
       "    </tr>\n",
       "    <tr>\n",
       "      <th>543</th>\n",
       "      <td>0.744581</td>\n",
       "      <td>0.388123</td>\n",
       "      <td>6.219</td>\n",
       "    </tr>\n",
       "    <tr>\n",
       "      <th>544</th>\n",
       "      <td>0.596704</td>\n",
       "      <td>0.296746</td>\n",
       "      <td>4.995</td>\n",
       "    </tr>\n",
       "    <tr>\n",
       "      <th>545</th>\n",
       "      <td>0.557971</td>\n",
       "      <td>0.147086</td>\n",
       "      <td>2.480</td>\n",
       "    </tr>\n",
       "  </tbody>\n",
       "</table>\n",
       "<p>546 rows × 3 columns</p>\n",
       "</div>"
      ],
      "text/plain": [
       "        MLOGP     RDCHI  quantitative response of LC50\n",
       "0    0.568488  0.041368                          3.740\n",
       "1    0.582532  0.073727                          4.330\n",
       "2    0.785238  0.354845                          7.019\n",
       "3    0.763050  0.346939                          6.723\n",
       "4    0.674234  0.323221                          5.979\n",
       "..        ...       ...                            ...\n",
       "541  0.626651  0.337746                          4.651\n",
       "542  0.623381  0.317522                          3.953\n",
       "543  0.744581  0.388123                          6.219\n",
       "544  0.596704  0.296746                          4.995\n",
       "545  0.557971  0.147086                          2.480\n",
       "\n",
       "[546 rows x 3 columns]"
      ]
     },
     "execution_count": 6,
     "metadata": {},
     "output_type": "execute_result"
    }
   ],
   "source": [
    "print(df.max(), df.min(), sep = '\\n')\n",
    "df"
   ]
  },
  {
   "cell_type": "code",
   "execution_count": 7,
   "id": "47c9de65",
   "metadata": {},
   "outputs": [
    {
     "data": {
      "text/plain": [
       "MLOGP                            0\n",
       "RDCHI                            0\n",
       "quantitative response of LC50    0\n",
       "dtype: int64"
      ]
     },
     "execution_count": 7,
     "metadata": {},
     "output_type": "execute_result"
    }
   ],
   "source": [
    "df.isnull().sum()"
   ]
  },
  {
   "cell_type": "code",
   "execution_count": 8,
   "id": "827d288f",
   "metadata": {},
   "outputs": [
    {
     "data": {
      "text/html": [
       "<div>\n",
       "<style scoped>\n",
       "    .dataframe tbody tr th:only-of-type {\n",
       "        vertical-align: middle;\n",
       "    }\n",
       "\n",
       "    .dataframe tbody tr th {\n",
       "        vertical-align: top;\n",
       "    }\n",
       "\n",
       "    .dataframe thead th {\n",
       "        text-align: right;\n",
       "    }\n",
       "</style>\n",
       "<table border=\"1\" class=\"dataframe\">\n",
       "  <thead>\n",
       "    <tr style=\"text-align: right;\">\n",
       "      <th></th>\n",
       "      <th>MLOGP</th>\n",
       "      <th>RDCHI</th>\n",
       "      <th>quantitative response of LC50</th>\n",
       "    </tr>\n",
       "  </thead>\n",
       "  <tbody>\n",
       "    <tr>\n",
       "      <th>199</th>\n",
       "      <td>0.649160</td>\n",
       "      <td>0.247104</td>\n",
       "      <td>4.980</td>\n",
       "    </tr>\n",
       "    <tr>\n",
       "      <th>220</th>\n",
       "      <td>0.529883</td>\n",
       "      <td>0.041368</td>\n",
       "      <td>3.254</td>\n",
       "    </tr>\n",
       "    <tr>\n",
       "      <th>197</th>\n",
       "      <td>0.532577</td>\n",
       "      <td>0.169884</td>\n",
       "      <td>3.710</td>\n",
       "    </tr>\n",
       "    <tr>\n",
       "      <th>487</th>\n",
       "      <td>0.537514</td>\n",
       "      <td>0.524361</td>\n",
       "      <td>8.028</td>\n",
       "    </tr>\n",
       "    <tr>\n",
       "      <th>431</th>\n",
       "      <td>0.661921</td>\n",
       "      <td>0.296746</td>\n",
       "      <td>5.597</td>\n",
       "    </tr>\n",
       "    <tr>\n",
       "      <th>...</th>\n",
       "      <td>...</td>\n",
       "      <td>...</td>\n",
       "      <td>...</td>\n",
       "    </tr>\n",
       "    <tr>\n",
       "      <th>406</th>\n",
       "      <td>0.574131</td>\n",
       "      <td>0.245266</td>\n",
       "      <td>5.402</td>\n",
       "    </tr>\n",
       "    <tr>\n",
       "      <th>347</th>\n",
       "      <td>0.560087</td>\n",
       "      <td>0.339768</td>\n",
       "      <td>3.220</td>\n",
       "    </tr>\n",
       "    <tr>\n",
       "      <th>190</th>\n",
       "      <td>0.641785</td>\n",
       "      <td>0.189557</td>\n",
       "      <td>5.450</td>\n",
       "    </tr>\n",
       "    <tr>\n",
       "      <th>441</th>\n",
       "      <td>0.589971</td>\n",
       "      <td>0.267329</td>\n",
       "      <td>4.886</td>\n",
       "    </tr>\n",
       "    <tr>\n",
       "      <th>204</th>\n",
       "      <td>0.557073</td>\n",
       "      <td>0.203714</td>\n",
       "      <td>4.040</td>\n",
       "    </tr>\n",
       "  </tbody>\n",
       "</table>\n",
       "<p>436 rows × 3 columns</p>\n",
       "</div>"
      ],
      "text/plain": [
       "        MLOGP     RDCHI  quantitative response of LC50\n",
       "199  0.649160  0.247104                          4.980\n",
       "220  0.529883  0.041368                          3.254\n",
       "197  0.532577  0.169884                          3.710\n",
       "487  0.537514  0.524361                          8.028\n",
       "431  0.661921  0.296746                          5.597\n",
       "..        ...       ...                            ...\n",
       "406  0.574131  0.245266                          5.402\n",
       "347  0.560087  0.339768                          3.220\n",
       "190  0.641785  0.189557                          5.450\n",
       "441  0.589971  0.267329                          4.886\n",
       "204  0.557073  0.203714                          4.040\n",
       "\n",
       "[436 rows x 3 columns]"
      ]
     },
     "execution_count": 8,
     "metadata": {},
     "output_type": "execute_result"
    }
   ],
   "source": [
    "train, test = train_test_split(df, test_size=0.2) # this is a random split\n",
    "train"
   ]
  },
  {
   "cell_type": "code",
   "execution_count": 9,
   "id": "f5790539",
   "metadata": {
    "scrolled": false
   },
   "outputs": [
    {
     "data": {
      "text/html": [
       "<div>\n",
       "<style scoped>\n",
       "    .dataframe tbody tr th:only-of-type {\n",
       "        vertical-align: middle;\n",
       "    }\n",
       "\n",
       "    .dataframe tbody tr th {\n",
       "        vertical-align: top;\n",
       "    }\n",
       "\n",
       "    .dataframe thead th {\n",
       "        text-align: right;\n",
       "    }\n",
       "</style>\n",
       "<table border=\"1\" class=\"dataframe\">\n",
       "  <thead>\n",
       "    <tr style=\"text-align: right;\">\n",
       "      <th></th>\n",
       "      <th>MLOGP</th>\n",
       "      <th>RDCHI</th>\n",
       "      <th>quantitative response of LC50</th>\n",
       "    </tr>\n",
       "  </thead>\n",
       "  <tbody>\n",
       "    <tr>\n",
       "      <th>295</th>\n",
       "      <td>0.604527</td>\n",
       "      <td>0.328001</td>\n",
       "      <td>6.475</td>\n",
       "    </tr>\n",
       "    <tr>\n",
       "      <th>114</th>\n",
       "      <td>0.594588</td>\n",
       "      <td>0.314212</td>\n",
       "      <td>5.036</td>\n",
       "    </tr>\n",
       "    <tr>\n",
       "      <th>210</th>\n",
       "      <td>0.571053</td>\n",
       "      <td>0.087332</td>\n",
       "      <td>4.002</td>\n",
       "    </tr>\n",
       "    <tr>\n",
       "      <th>225</th>\n",
       "      <td>0.741952</td>\n",
       "      <td>0.278544</td>\n",
       "      <td>6.777</td>\n",
       "    </tr>\n",
       "    <tr>\n",
       "      <th>458</th>\n",
       "      <td>0.674105</td>\n",
       "      <td>0.370656</td>\n",
       "      <td>7.012</td>\n",
       "    </tr>\n",
       "    <tr>\n",
       "      <th>...</th>\n",
       "      <td>...</td>\n",
       "      <td>...</td>\n",
       "      <td>...</td>\n",
       "    </tr>\n",
       "    <tr>\n",
       "      <th>521</th>\n",
       "      <td>0.625625</td>\n",
       "      <td>0.416805</td>\n",
       "      <td>4.535</td>\n",
       "    </tr>\n",
       "    <tr>\n",
       "      <th>519</th>\n",
       "      <td>0.549763</td>\n",
       "      <td>0.166942</td>\n",
       "      <td>5.190</td>\n",
       "    </tr>\n",
       "    <tr>\n",
       "      <th>229</th>\n",
       "      <td>0.580351</td>\n",
       "      <td>0.102776</td>\n",
       "      <td>3.655</td>\n",
       "    </tr>\n",
       "    <tr>\n",
       "      <th>132</th>\n",
       "      <td>0.442478</td>\n",
       "      <td>0.225593</td>\n",
       "      <td>6.059</td>\n",
       "    </tr>\n",
       "    <tr>\n",
       "      <th>169</th>\n",
       "      <td>0.335001</td>\n",
       "      <td>0.105718</td>\n",
       "      <td>6.618</td>\n",
       "    </tr>\n",
       "  </tbody>\n",
       "</table>\n",
       "<p>110 rows × 3 columns</p>\n",
       "</div>"
      ],
      "text/plain": [
       "        MLOGP     RDCHI  quantitative response of LC50\n",
       "295  0.604527  0.328001                          6.475\n",
       "114  0.594588  0.314212                          5.036\n",
       "210  0.571053  0.087332                          4.002\n",
       "225  0.741952  0.278544                          6.777\n",
       "458  0.674105  0.370656                          7.012\n",
       "..        ...       ...                            ...\n",
       "521  0.625625  0.416805                          4.535\n",
       "519  0.549763  0.166942                          5.190\n",
       "229  0.580351  0.102776                          3.655\n",
       "132  0.442478  0.225593                          6.059\n",
       "169  0.335001  0.105718                          6.618\n",
       "\n",
       "[110 rows x 3 columns]"
      ]
     },
     "execution_count": 9,
     "metadata": {},
     "output_type": "execute_result"
    }
   ],
   "source": [
    "test"
   ]
  },
  {
   "cell_type": "code",
   "execution_count": 10,
   "id": "72fb5c78",
   "metadata": {},
   "outputs": [
    {
     "data": {
      "image/png": "[encoded data removed]",
      "text/plain": [
       "<Figure size 432x288 with 1 Axes>"
      ]
     },
     "metadata": {
      "needs_background": "light"
     },
     "output_type": "display_data"
    }
   ],
   "source": [
    "ax = plt.axes(projection='3d')\n",
    "\n",
    "# Data for three-dimensional scattered points\n",
    "zdata = train[\"quantitative response of LC50\"]\n",
    "xdata = train[\"RDCHI\"]\n",
    "ydata = train[\"MLOGP\"]\n",
    "ax.scatter3D(xdata, ydata, zdata, c=zdata, cmap='Greens');"
   ]
  },
  {
   "cell_type": "code",
   "execution_count": 11,
   "id": "16cf1ca1",
   "metadata": {},
   "outputs": [
    {
     "data": {
      "text/html": [
       "<div>\n",
       "<style scoped>\n",
       "    .dataframe tbody tr th:only-of-type {\n",
       "        vertical-align: middle;\n",
       "    }\n",
       "\n",
       "    .dataframe tbody tr th {\n",
       "        vertical-align: top;\n",
       "    }\n",
       "\n",
       "    .dataframe thead th {\n",
       "        text-align: right;\n",
       "    }\n",
       "</style>\n",
       "<table border=\"1\" class=\"dataframe\">\n",
       "  <thead>\n",
       "    <tr style=\"text-align: right;\">\n",
       "      <th></th>\n",
       "      <th>RDCHI</th>\n",
       "      <th>MLOGP</th>\n",
       "    </tr>\n",
       "  </thead>\n",
       "  <tbody>\n",
       "    <tr>\n",
       "      <th>199</th>\n",
       "      <td>0.247104</td>\n",
       "      <td>0.649160</td>\n",
       "    </tr>\n",
       "    <tr>\n",
       "      <th>220</th>\n",
       "      <td>0.041368</td>\n",
       "      <td>0.529883</td>\n",
       "    </tr>\n",
       "    <tr>\n",
       "      <th>197</th>\n",
       "      <td>0.169884</td>\n",
       "      <td>0.532577</td>\n",
       "    </tr>\n",
       "    <tr>\n",
       "      <th>487</th>\n",
       "      <td>0.524361</td>\n",
       "      <td>0.537514</td>\n",
       "    </tr>\n",
       "    <tr>\n",
       "      <th>431</th>\n",
       "      <td>0.296746</td>\n",
       "      <td>0.661921</td>\n",
       "    </tr>\n",
       "    <tr>\n",
       "      <th>...</th>\n",
       "      <td>...</td>\n",
       "      <td>...</td>\n",
       "    </tr>\n",
       "    <tr>\n",
       "      <th>406</th>\n",
       "      <td>0.245266</td>\n",
       "      <td>0.574131</td>\n",
       "    </tr>\n",
       "    <tr>\n",
       "      <th>347</th>\n",
       "      <td>0.339768</td>\n",
       "      <td>0.560087</td>\n",
       "    </tr>\n",
       "    <tr>\n",
       "      <th>190</th>\n",
       "      <td>0.189557</td>\n",
       "      <td>0.641785</td>\n",
       "    </tr>\n",
       "    <tr>\n",
       "      <th>441</th>\n",
       "      <td>0.267329</td>\n",
       "      <td>0.589971</td>\n",
       "    </tr>\n",
       "    <tr>\n",
       "      <th>204</th>\n",
       "      <td>0.203714</td>\n",
       "      <td>0.557073</td>\n",
       "    </tr>\n",
       "  </tbody>\n",
       "</table>\n",
       "<p>436 rows × 2 columns</p>\n",
       "</div>"
      ],
      "text/plain": [
       "        RDCHI     MLOGP\n",
       "199  0.247104  0.649160\n",
       "220  0.041368  0.529883\n",
       "197  0.169884  0.532577\n",
       "487  0.524361  0.537514\n",
       "431  0.296746  0.661921\n",
       "..        ...       ...\n",
       "406  0.245266  0.574131\n",
       "347  0.339768  0.560087\n",
       "190  0.189557  0.641785\n",
       "441  0.267329  0.589971\n",
       "204  0.203714  0.557073\n",
       "\n",
       "[436 rows x 2 columns]"
      ]
     },
     "execution_count": 11,
     "metadata": {},
     "output_type": "execute_result"
    }
   ],
   "source": [
    "dataF = pd.DataFrame(train[[\"RDCHI\", \"MLOGP\"]])\n",
    "dataF"
   ]
  },
  {
   "cell_type": "code",
   "execution_count": 12,
   "id": "d79abd31",
   "metadata": {},
   "outputs": [
    {
     "data": {
      "text/html": [
       "<div>\n",
       "<style scoped>\n",
       "    .dataframe tbody tr th:only-of-type {\n",
       "        vertical-align: middle;\n",
       "    }\n",
       "\n",
       "    .dataframe tbody tr th {\n",
       "        vertical-align: top;\n",
       "    }\n",
       "\n",
       "    .dataframe thead th {\n",
       "        text-align: right;\n",
       "    }\n",
       "</style>\n",
       "<table border=\"1\" class=\"dataframe\">\n",
       "  <thead>\n",
       "    <tr style=\"text-align: right;\">\n",
       "      <th></th>\n",
       "      <th>quantitative response of LC50</th>\n",
       "    </tr>\n",
       "  </thead>\n",
       "  <tbody>\n",
       "    <tr>\n",
       "      <th>199</th>\n",
       "      <td>4.980</td>\n",
       "    </tr>\n",
       "    <tr>\n",
       "      <th>220</th>\n",
       "      <td>3.254</td>\n",
       "    </tr>\n",
       "    <tr>\n",
       "      <th>197</th>\n",
       "      <td>3.710</td>\n",
       "    </tr>\n",
       "    <tr>\n",
       "      <th>487</th>\n",
       "      <td>8.028</td>\n",
       "    </tr>\n",
       "    <tr>\n",
       "      <th>431</th>\n",
       "      <td>5.597</td>\n",
       "    </tr>\n",
       "    <tr>\n",
       "      <th>...</th>\n",
       "      <td>...</td>\n",
       "    </tr>\n",
       "    <tr>\n",
       "      <th>406</th>\n",
       "      <td>5.402</td>\n",
       "    </tr>\n",
       "    <tr>\n",
       "      <th>347</th>\n",
       "      <td>3.220</td>\n",
       "    </tr>\n",
       "    <tr>\n",
       "      <th>190</th>\n",
       "      <td>5.450</td>\n",
       "    </tr>\n",
       "    <tr>\n",
       "      <th>441</th>\n",
       "      <td>4.886</td>\n",
       "    </tr>\n",
       "    <tr>\n",
       "      <th>204</th>\n",
       "      <td>4.040</td>\n",
       "    </tr>\n",
       "  </tbody>\n",
       "</table>\n",
       "<p>436 rows × 1 columns</p>\n",
       "</div>"
      ],
      "text/plain": [
       "     quantitative response of LC50\n",
       "199                          4.980\n",
       "220                          3.254\n",
       "197                          3.710\n",
       "487                          8.028\n",
       "431                          5.597\n",
       "..                             ...\n",
       "406                          5.402\n",
       "347                          3.220\n",
       "190                          5.450\n",
       "441                          4.886\n",
       "204                          4.040\n",
       "\n",
       "[436 rows x 1 columns]"
      ]
     },
     "execution_count": 12,
     "metadata": {},
     "output_type": "execute_result"
    }
   ],
   "source": [
    "targetF = pd.DataFrame(train[\"quantitative response of LC50\"])\n",
    "targetF"
   ]
  },
  {
   "cell_type": "code",
   "execution_count": 13,
   "id": "b4d519d5",
   "metadata": {
    "scrolled": false
   },
   "outputs": [
    {
     "name": "stdout",
     "output_type": "stream",
     "text": [
      "(436, 1)\n",
      "(436, 55)\n",
      "0.24710424710424708\n"
     ]
    }
   ],
   "source": [
    "# Value order to be followed: x1,x2, x1^2,x1x2,x2^2, x1^3,x1^2x2,x1x2^2,x2^3.... meant for all degrees of gradient descent\n",
    "valX = dataF[dataF.columns[:]].to_numpy()\n",
    "valX1 = valX[:,0]**2 ##------------------------------------------------------------------------------------------------x1^2\n",
    "valX = np.append(valX, np.column_stack([valX1]), axis = 1)\n",
    "valX1 = valX[:,0]*valX[:,1] #------------------------------------------------------------------------------------------x1x2\n",
    "valX = np.append(valX, np.column_stack([valX1]), axis = 1)\n",
    "valX1 = valX[:,1]**2 ##------------------------------------------------------------------------------------------------x2^2\n",
    "valX = np.append(valX, np.column_stack([valX1]), axis = 1)\n",
    "\n",
    "valX1 = valX[:,0]**3 ##------------------------------------------------------------------------------------------------x1^3\n",
    "valX = np.append(valX, np.column_stack([valX1]), axis = 1)\n",
    "valX1 = (valX[:,0]**2)*(valX[:,1]) ##----------------------------------------------------------------------------------x1^2x2\n",
    "valX = np.append(valX, np.column_stack([valX1]), axis = 1)\n",
    "valX1 = (valX[:,0])*(valX[:,1]**2) ##----------------------------------------------------------------------------------x1x2^2\n",
    "valX = np.append(valX, np.column_stack([valX1]), axis = 1)\n",
    "valX1 = valX[:,1]**3 #-------------------------------------------------------------------------------------------------x2^3\n",
    "valX = np.append(valX, np.column_stack([valX1]), axis = 1)\n",
    "\n",
    "valX1 = valX[:,0]**4 #-------------------------------------------------------------------------------------------------x1^4\n",
    "valX = np.append(valX, np.column_stack([valX1]), axis = 1)\n",
    "valX1 = (valX[:,0]**3)*(valX[:,1]) #-----------------------------------------------------------------------------------x1^3x2\n",
    "valX = np.append(valX, np.column_stack([valX1]), axis = 1)\n",
    "valX1 = (valX[:,0]**2)*(valX[:,1]**2) #--------------------------------------------------------------------------------x1^2x2^2\n",
    "valX = np.append(valX, np.column_stack([valX1]), axis = 1)\n",
    "valX1 = (valX[:,0])*(valX[:,1]**3) #-----------------------------------------------------------------------------------x1x2^3\n",
    "valX = np.append(valX, np.column_stack([valX1]), axis = 1)\n",
    "valX1 = valX[:,1]**4 #-------------------------------------------------------------------------------------------------x2^4\n",
    "valX = np.append(valX, np.column_stack([valX1]), axis = 1)\n",
    "\n",
    "valX1 = valX[:,0]**5 #-------------------------------------------------------------------------------------------------x1^5\n",
    "valX = np.append(valX, np.column_stack([valX1]), axis = 1)\n",
    "valX1 = (valX[:,0]**4)*(valX[:,1]) #-----------------------------------------------------------------------------------x1^4x2\n",
    "valX = np.append(valX, np.column_stack([valX1]), axis = 1)\n",
    "valX1 = (valX[:,0]**3)*(valX[:,1]**2) #--------------------------------------------------------------------------------x1^3x2^2\n",
    "valX = np.append(valX, np.column_stack([valX1]), axis = 1)\n",
    "valX1 = (valX[:,0]**2)*(valX[:,1]**3) #--------------------------------------------------------------------------------x1^2x2^3\n",
    "valX = np.append(valX, np.column_stack([valX1]), axis = 1)\n",
    "valX1 = (valX[:,0])*(valX[:,1]**4) #-----------------------------------------------------------------------------------x1x2^4\n",
    "valX = np.append(valX, np.column_stack([valX1]), axis = 1)\n",
    "valX1 = valX[:,1]**5 #-------------------------------------------------------------------------------------------------x2^5\n",
    "valX = np.append(valX, np.column_stack([valX1]), axis = 1)\n",
    "\n",
    "valX1 = valX[:,0]**6 #-------------------------------------------------------------------------------------------------x1^6\n",
    "valX = np.append(valX, np.column_stack([valX1]), axis = 1)\n",
    "valX1 = (valX[:,0]**5)*(valX[:,1]) #-----------------------------------------------------------------------------------x1^5x2\n",
    "valX = np.append(valX, np.column_stack([valX1]), axis = 1)\n",
    "valX1 = (valX[:,0]**4)*(valX[:,1]**2) #--------------------------------------------------------------------------------x1^4x2^2\n",
    "valX = np.append(valX, np.column_stack([valX1]), axis = 1)\n",
    "valX1 = (valX[:,0]**3)*(valX[:,1]**3) #--------------------------------------------------------------------------------x1^3x2^3\n",
    "valX = np.append(valX, np.column_stack([valX1]), axis = 1)\n",
    "valX1 = (valX[:,0]**2)*(valX[:,1]**4) #--------------------------------------------------------------------------------x1^2x2^4\n",
    "valX = np.append(valX, np.column_stack([valX1]), axis = 1)\n",
    "valX1 = (valX[:,0])*(valX[:,1]**5) #-----------------------------------------------------------------------------------x1x2^4\n",
    "valX = np.append(valX, np.column_stack([valX1]), axis = 1)\n",
    "valX1 = valX[:,1]**6 #-------------------------------------------------------------------------------------------------x2^6\n",
    "valX = np.append(valX, np.column_stack([valX1]), axis = 1)\n",
    "\n",
    "valX1 = valX[:,0]**7 #-------------------------------------------------------------------------------------------------x1^7\n",
    "valX = np.append(valX, np.column_stack([valX1]), axis = 1)\n",
    "valX1 = (valX[:,0]**6)*(valX[:,1]) #-----------------------------------------------------------------------------------x1^6x2\n",
    "valX = np.append(valX, np.column_stack([valX1]), axis = 1)\n",
    "valX1 = (valX[:,0]**5)*(valX[:,1]**2) #--------------------------------------------------------------------------------x1^5x2^2\n",
    "valX = np.append(valX, np.column_stack([valX1]), axis = 1)\n",
    "valX1 = (valX[:,0]**4)*(valX[:,1]**3) #--------------------------------------------------------------------------------x1^4x2^3\n",
    "valX = np.append(valX, np.column_stack([valX1]), axis = 1)\n",
    "valX1 = (valX[:,0]**3)*(valX[:,1]**4) #--------------------------------------------------------------------------------x1^3x2^4\n",
    "valX = np.append(valX, np.column_stack([valX1]), axis = 1)\n",
    "valX1 = (valX[:,0]**2)*(valX[:,1]**5) #--------------------------------------------------------------------------------x1^2x2^5\n",
    "valX = np.append(valX, np.column_stack([valX1]), axis = 1)\n",
    "valX1 = (valX[:,0])*(valX[:,1]**6) #-----------------------------------------------------------------------------------x1x2^6\n",
    "valX = np.append(valX, np.column_stack([valX1]), axis = 1)\n",
    "valX1 = valX[:,1]**7 #-------------------------------------------------------------------------------------------------x2^7\n",
    "valX = np.append(valX, np.column_stack([valX1]), axis = 1)\n",
    "\n",
    "\n",
    "valX1 = valX[:,0]**8 #-------------------------------------------------------------------------------------------------x1^8\n",
    "valX = np.append(valX, np.column_stack([valX1]), axis = 1)\n",
    "valX1 = (valX[:,0]**7)*(valX[:,1]) #-----------------------------------------------------------------------------------x1^7x2\n",
    "valX = np.append(valX, np.column_stack([valX1]), axis = 1)\n",
    "valX1 = (valX[:,0]**6)*(valX[:,1]**2) #--------------------------------------------------------------------------------x1^6x2^2\n",
    "valX = np.append(valX, np.column_stack([valX1]), axis = 1)\n",
    "valX1 = (valX[:,0]**5)*(valX[:,1]**3) #--------------------------------------------------------------------------------x1^5x2^3\n",
    "valX = np.append(valX, np.column_stack([valX1]), axis = 1)\n",
    "valX1 = (valX[:,0]**4)*(valX[:,1]**4) #--------------------------------------------------------------------------------x1^4x2^4\n",
    "valX = np.append(valX, np.column_stack([valX1]), axis = 1)\n",
    "valX1 = (valX[:,0]**3)*(valX[:,1]**5) #--------------------------------------------------------------------------------x1^3x2^5\n",
    "valX = np.append(valX, np.column_stack([valX1]), axis = 1)\n",
    "valX1 = (valX[:,0]**2)*(valX[:,1]**6) #--------------------------------------------------------------------------------x1^2x2^6\n",
    "valX = np.append(valX, np.column_stack([valX1]), axis = 1)\n",
    "valX1 = (valX[:,0])*(valX[:,1]**7) #-----------------------------------------------------------------------------------x1x2^7\n",
    "valX = np.append(valX, np.column_stack([valX1]), axis = 1)\n",
    "valX1 = valX[:,1]**8 #-------------------------------------------------------------------------------------------------x2^8\n",
    "valX = np.append(valX, np.column_stack([valX1]), axis = 1)\n",
    "\n",
    "valX1 = valX[:,0]**9 #-------------------------------------------------------------------------------------------------x1^9\n",
    "valX = np.append(valX, np.column_stack([valX1]), axis = 1)\n",
    "valX1 = (valX[:,0]**8)*(valX[:,1]) #-----------------------------------------------------------------------------------x1^8x2\n",
    "valX = np.append(valX, np.column_stack([valX1]), axis = 1)\n",
    "valX1 = (valX[:,0]**7)*(valX[:,1]**2) #--------------------------------------------------------------------------------x1^7x2^2\n",
    "valX = np.append(valX, np.column_stack([valX1]), axis = 1)\n",
    "valX1 = (valX[:,0]**6)*(valX[:,1]**3) #--------------------------------------------------------------------------------x1^6x2^3\n",
    "valX = np.append(valX, np.column_stack([valX1]), axis = 1)\n",
    "valX1 = (valX[:,0]**5)*(valX[:,1]**4) #--------------------------------------------------------------------------------x1^5x2^4\n",
    "valX = np.append(valX, np.column_stack([valX1]), axis = 1)\n",
    "valX1 = (valX[:,0]**4)*(valX[:,1]**5) #--------------------------------------------------------------------------------x1^4x2^5\n",
    "valX = np.append(valX, np.column_stack([valX1]), axis = 1)\n",
    "valX1 = (valX[:,0]**3)*(valX[:,1]**6) #--------------------------------------------------------------------------------x1^3x2^6\n",
    "valX = np.append(valX, np.column_stack([valX1]), axis = 1)\n",
    "valX1 = (valX[:,0]**2)*(valX[:,1]**7) #--------------------------------------------------------------------------------x1^3x2^6\n",
    "valX = np.append(valX, np.column_stack([valX1]), axis = 1)\n",
    "valX1 = (valX[:,0])*(valX[:,1]**8) #-----------------------------------------------------------------------------------x1x2^8\n",
    "valX = np.append(valX, np.column_stack([valX1]), axis = 1)\n",
    "valX1 = valX[:,1]**9 #-------------------------------------------------------------------------------------------------x2^9\n",
    "valX = np.append(valX, np.column_stack([valX1]), axis = 1)\n",
    "\n",
    "valX = np.append(np.ones((436,1)), valX, axis=1)\n",
    "\n",
    "valY = targetF[targetF.columns[:]].to_numpy()\n",
    "print(np.shape(valY))\n",
    "print(np.shape(valX))\n",
    "# valX is the nd array of target values and their exponents, valY is the respective Yn for every x1n and x2n\n",
    "\n",
    "print(valX[0,1])\n"
   ]
  },
  {
   "cell_type": "code",
   "execution_count": 14,
   "id": "cbb0e298",
   "metadata": {},
   "outputs": [
    {
     "data": {
      "text/html": [
       "<div>\n",
       "<style scoped>\n",
       "    .dataframe tbody tr th:only-of-type {\n",
       "        vertical-align: middle;\n",
       "    }\n",
       "\n",
       "    .dataframe tbody tr th {\n",
       "        vertical-align: top;\n",
       "    }\n",
       "\n",
       "    .dataframe thead th {\n",
       "        text-align: right;\n",
       "    }\n",
       "</style>\n",
       "<table border=\"1\" class=\"dataframe\">\n",
       "  <thead>\n",
       "    <tr style=\"text-align: right;\">\n",
       "      <th></th>\n",
       "      <th>RDCHI</th>\n",
       "      <th>MLOGP</th>\n",
       "    </tr>\n",
       "  </thead>\n",
       "  <tbody>\n",
       "    <tr>\n",
       "      <th>295</th>\n",
       "      <td>0.328001</td>\n",
       "      <td>0.604527</td>\n",
       "    </tr>\n",
       "    <tr>\n",
       "      <th>114</th>\n",
       "      <td>0.314212</td>\n",
       "      <td>0.594588</td>\n",
       "    </tr>\n",
       "    <tr>\n",
       "      <th>210</th>\n",
       "      <td>0.087332</td>\n",
       "      <td>0.571053</td>\n",
       "    </tr>\n",
       "    <tr>\n",
       "      <th>225</th>\n",
       "      <td>0.278544</td>\n",
       "      <td>0.741952</td>\n",
       "    </tr>\n",
       "    <tr>\n",
       "      <th>458</th>\n",
       "      <td>0.370656</td>\n",
       "      <td>0.674105</td>\n",
       "    </tr>\n",
       "    <tr>\n",
       "      <th>...</th>\n",
       "      <td>...</td>\n",
       "      <td>...</td>\n",
       "    </tr>\n",
       "    <tr>\n",
       "      <th>521</th>\n",
       "      <td>0.416805</td>\n",
       "      <td>0.625625</td>\n",
       "    </tr>\n",
       "    <tr>\n",
       "      <th>519</th>\n",
       "      <td>0.166942</td>\n",
       "      <td>0.549763</td>\n",
       "    </tr>\n",
       "    <tr>\n",
       "      <th>229</th>\n",
       "      <td>0.102776</td>\n",
       "      <td>0.580351</td>\n",
       "    </tr>\n",
       "    <tr>\n",
       "      <th>132</th>\n",
       "      <td>0.225593</td>\n",
       "      <td>0.442478</td>\n",
       "    </tr>\n",
       "    <tr>\n",
       "      <th>169</th>\n",
       "      <td>0.105718</td>\n",
       "      <td>0.335001</td>\n",
       "    </tr>\n",
       "  </tbody>\n",
       "</table>\n",
       "<p>110 rows × 2 columns</p>\n",
       "</div>"
      ],
      "text/plain": [
       "        RDCHI     MLOGP\n",
       "295  0.328001  0.604527\n",
       "114  0.314212  0.594588\n",
       "210  0.087332  0.571053\n",
       "225  0.278544  0.741952\n",
       "458  0.370656  0.674105\n",
       "..        ...       ...\n",
       "521  0.416805  0.625625\n",
       "519  0.166942  0.549763\n",
       "229  0.102776  0.580351\n",
       "132  0.225593  0.442478\n",
       "169  0.105718  0.335001\n",
       "\n",
       "[110 rows x 2 columns]"
      ]
     },
     "execution_count": 14,
     "metadata": {},
     "output_type": "execute_result"
    }
   ],
   "source": [
    "testX = pd.DataFrame(test[[\"RDCHI\", \"MLOGP\"]])\n",
    "testY = pd.DataFrame(test['quantitative response of LC50'])\n",
    "testX"
   ]
  },
  {
   "cell_type": "code",
   "execution_count": 15,
   "id": "3c103a6f",
   "metadata": {},
   "outputs": [
    {
     "data": {
      "text/html": [
       "<div>\n",
       "<style scoped>\n",
       "    .dataframe tbody tr th:only-of-type {\n",
       "        vertical-align: middle;\n",
       "    }\n",
       "\n",
       "    .dataframe tbody tr th {\n",
       "        vertical-align: top;\n",
       "    }\n",
       "\n",
       "    .dataframe thead th {\n",
       "        text-align: right;\n",
       "    }\n",
       "</style>\n",
       "<table border=\"1\" class=\"dataframe\">\n",
       "  <thead>\n",
       "    <tr style=\"text-align: right;\">\n",
       "      <th></th>\n",
       "      <th>quantitative response of LC50</th>\n",
       "    </tr>\n",
       "  </thead>\n",
       "  <tbody>\n",
       "    <tr>\n",
       "      <th>295</th>\n",
       "      <td>6.475</td>\n",
       "    </tr>\n",
       "    <tr>\n",
       "      <th>114</th>\n",
       "      <td>5.036</td>\n",
       "    </tr>\n",
       "    <tr>\n",
       "      <th>210</th>\n",
       "      <td>4.002</td>\n",
       "    </tr>\n",
       "    <tr>\n",
       "      <th>225</th>\n",
       "      <td>6.777</td>\n",
       "    </tr>\n",
       "    <tr>\n",
       "      <th>458</th>\n",
       "      <td>7.012</td>\n",
       "    </tr>\n",
       "    <tr>\n",
       "      <th>...</th>\n",
       "      <td>...</td>\n",
       "    </tr>\n",
       "    <tr>\n",
       "      <th>521</th>\n",
       "      <td>4.535</td>\n",
       "    </tr>\n",
       "    <tr>\n",
       "      <th>519</th>\n",
       "      <td>5.190</td>\n",
       "    </tr>\n",
       "    <tr>\n",
       "      <th>229</th>\n",
       "      <td>3.655</td>\n",
       "    </tr>\n",
       "    <tr>\n",
       "      <th>132</th>\n",
       "      <td>6.059</td>\n",
       "    </tr>\n",
       "    <tr>\n",
       "      <th>169</th>\n",
       "      <td>6.618</td>\n",
       "    </tr>\n",
       "  </tbody>\n",
       "</table>\n",
       "<p>110 rows × 1 columns</p>\n",
       "</div>"
      ],
      "text/plain": [
       "     quantitative response of LC50\n",
       "295                          6.475\n",
       "114                          5.036\n",
       "210                          4.002\n",
       "225                          6.777\n",
       "458                          7.012\n",
       "..                             ...\n",
       "521                          4.535\n",
       "519                          5.190\n",
       "229                          3.655\n",
       "132                          6.059\n",
       "169                          6.618\n",
       "\n",
       "[110 rows x 1 columns]"
      ]
     },
     "execution_count": 15,
     "metadata": {},
     "output_type": "execute_result"
    }
   ],
   "source": [
    "testY"
   ]
  },
  {
   "cell_type": "code",
   "execution_count": 16,
   "id": "0ac60508",
   "metadata": {},
   "outputs": [
    {
     "name": "stdout",
     "output_type": "stream",
     "text": [
      "(110, 1)\n",
      "(110, 55)\n",
      "0.3280014708586137\n"
     ]
    }
   ],
   "source": [
    "# Value order to be followed: x1,x2, x1^2,x1x2,x2^2, x1^3,x1^2x2,x1x2^2,x2^3.... meant for all degrees to make measure errors\n",
    "testXVal = testX[testX.columns[:]].to_numpy()\n",
    "testXVal1 = testXVal[:,0]**2 ##-----------------------------------------------------------------------------------------x1^2\n",
    "testXVal = np.append(testXVal, np.column_stack([testXVal1]), axis = 1)\n",
    "testXVal1 = testXVal[:,0]*testXVal[:,1] #-------------------------------------------------------------------------------x1x2\n",
    "testXVal = np.append(testXVal, np.column_stack([testXVal1]), axis = 1)\n",
    "testXVal1 = testXVal[:,1]**2 ##-----------------------------------------------------------------------------------------x2^2\n",
    "testXVal = np.append(testXVal, np.column_stack([testXVal1]), axis = 1)\n",
    "\n",
    "testXVal1 = testXVal[:,0]**3 ##-----------------------------------------------------------------------------------------x1^3\n",
    "testXVal = np.append(testXVal, np.column_stack([testXVal1]), axis = 1)\n",
    "testXVal1 = (testXVal[:,0]**2)*(testXVal[:,1]) ##-----------------------------------------------------------------------x1^2x2\n",
    "testXVal = np.append(testXVal, np.column_stack([testXVal1]), axis = 1)\n",
    "testXVal1 = (testXVal[:,0])*(testXVal[:,1]**2) ##-----------------------------------------------------------------------x1x2^2\n",
    "testXVal = np.append(testXVal, np.column_stack([testXVal1]), axis = 1)\n",
    "testXVal1 = testXVal[:,1]**3 #------------------------------------------------------------------------------------------x2^3\n",
    "testXVal = np.append(testXVal, np.column_stack([testXVal1]), axis = 1)\n",
    "\n",
    "testXVal1 = testXVal[:,0]**4 #------------------------------------------------------------------------------------------x1^4\n",
    "testXVal = np.append(testXVal, np.column_stack([testXVal1]), axis = 1)\n",
    "testXVal1 = (testXVal[:,0]**3)*(testXVal[:,1]) #------------------------------------------------------------------------x1^3x2\n",
    "testXVal = np.append(testXVal, np.column_stack([testXVal1]), axis = 1)\n",
    "testXVal1 = (testXVal[:,0]**2)*(testXVal[:,1]**2) #---------------------------------------------------------------------x1^2x2^2\n",
    "testXVal = np.append(testXVal, np.column_stack([testXVal1]), axis = 1)\n",
    "testXVal1 = (testXVal[:,0])*(testXVal[:,1]**3) #------------------------------------------------------------------------x1x2^3\n",
    "testXVal = np.append(testXVal, np.column_stack([testXVal1]), axis = 1)\n",
    "testXVal1 = testXVal[:,1]**4 #------------------------------------------------------------------------------------------x2^4\n",
    "testXVal = np.append(testXVal, np.column_stack([testXVal1]), axis = 1)\n",
    "\n",
    "testXVal1 = testXVal[:,0]**5 #------------------------------------------------------------------------------------------x1^5\n",
    "testXVal = np.append(testXVal, np.column_stack([testXVal1]), axis = 1)\n",
    "testXVal1 = (testXVal[:,0]**4)*(testXVal[:,1]) #------------------------------------------------------------------------x1^4x2\n",
    "testXVal = np.append(testXVal, np.column_stack([testXVal1]), axis = 1)\n",
    "testXVal1 = (testXVal[:,0]**3)*(testXVal[:,1]**2) #---------------------------------------------------------------------x1^3x2^2\n",
    "testXVal = np.append(testXVal, np.column_stack([testXVal1]), axis = 1)\n",
    "testXVal1 = (testXVal[:,0]**2)*(testXVal[:,1]**3) #---------------------------------------------------------------------x1^2x2^3\n",
    "testXVal = np.append(testXVal, np.column_stack([testXVal1]), axis = 1)\n",
    "testXVal1 = (testXVal[:,0])*(testXVal[:,1]**4) #------------------------------------------------------------------------x1x2^4\n",
    "testXVal = np.append(testXVal, np.column_stack([testXVal1]), axis = 1)\n",
    "testXVal1 = testXVal[:,1]**5 #------------------------------------------------------------------------------------------x2^5\n",
    "testXVal = np.append(testXVal, np.column_stack([testXVal1]), axis = 1)\n",
    "\n",
    "testXVal1 = testXVal[:,0]**6 #------------------------------------------------------------------------------------------x1^6\n",
    "testXVal = np.append(testXVal, np.column_stack([testXVal1]), axis = 1)\n",
    "testXVal1 = (testXVal[:,0]**5)*(testXVal[:,1]) #------------------------------------------------------------------------x1^5x2\n",
    "testXVal = np.append(testXVal, np.column_stack([testXVal1]), axis = 1)\n",
    "testXVal1 = (testXVal[:,0]**4)*(testXVal[:,1]**2) #---------------------------------------------------------------------x1^4x2^2\n",
    "testXVal = np.append(testXVal, np.column_stack([testXVal1]), axis = 1)\n",
    "testXVal1 = (testXVal[:,0]**3)*(testXVal[:,1]**3) #---------------------------------------------------------------------x1^3x2^3\n",
    "testXVal = np.append(testXVal, np.column_stack([testXVal1]), axis = 1)\n",
    "testXVal1 = (testXVal[:,0]**2)*(testXVal[:,1]**4) #---------------------------------------------------------------------x1^2x2^4\n",
    "testXVal = np.append(testXVal, np.column_stack([testXVal1]), axis = 1)\n",
    "testXVal1 = (testXVal[:,0])*(testXVal[:,1]**5) #------------------------------------------------------------------------x1x2^4\n",
    "testXVal = np.append(testXVal, np.column_stack([testXVal1]), axis = 1)\n",
    "testXVal1 = testXVal[:,1]**6 #------------------------------------------------------------------------------------------x2^6\n",
    "testXVal = np.append(testXVal, np.column_stack([testXVal1]), axis = 1)\n",
    "\n",
    "testXVal1 = testXVal[:,0]**7 #------------------------------------------------------------------------------------------x1^7\n",
    "testXVal = np.append(testXVal, np.column_stack([testXVal1]), axis = 1)\n",
    "testXVal1 = (testXVal[:,0]**6)*(testXVal[:,1]) #------------------------------------------------------------------------x1^6x2\n",
    "testXVal = np.append(testXVal, np.column_stack([testXVal1]), axis = 1)\n",
    "testXVal1 = (testXVal[:,0]**5)*(testXVal[:,1]**2) #---------------------------------------------------------------------x1^5x2^2\n",
    "testXVal = np.append(testXVal, np.column_stack([testXVal1]), axis = 1)\n",
    "testXVal1 = (testXVal[:,0]**4)*(testXVal[:,1]**3) #---------------------------------------------------------------------x1^4x2^3\n",
    "testXVal = np.append(testXVal, np.column_stack([testXVal1]), axis = 1)\n",
    "testXVal1 = (testXVal[:,0]**3)*(testXVal[:,1]**4) #---------------------------------------------------------------------x1^3x2^4\n",
    "testXVal = np.append(testXVal, np.column_stack([testXVal1]), axis = 1)\n",
    "testXVal1 = (testXVal[:,0]**2)*(testXVal[:,1]**5) #---------------------------------------------------------------------x1^2x2^5\n",
    "testXVal = np.append(testXVal, np.column_stack([testXVal1]), axis = 1)\n",
    "testXVal1 = (testXVal[:,0])*(testXVal[:,1]**6) #------------------------------------------------------------------------x1x2^6\n",
    "testXVal = np.append(testXVal, np.column_stack([testXVal1]), axis = 1)\n",
    "testXVal1 = testXVal[:,1]**7 #------------------------------------------------------------------------------------------x2^7\n",
    "testXVal = np.append(testXVal, np.column_stack([testXVal1]), axis = 1)\n",
    "\n",
    "\n",
    "testXVal1 = testXVal[:,0]**8 #------------------------------------------------------------------------------------------x1^8\n",
    "testXVal = np.append(testXVal, np.column_stack([testXVal1]), axis = 1)\n",
    "testXVal1 = (testXVal[:,0]**7)*(testXVal[:,1]) #------------------------------------------------------------------------x1^7x2\n",
    "testXVal = np.append(testXVal, np.column_stack([testXVal1]), axis = 1)\n",
    "testXVal1 = (testXVal[:,0]**6)*(testXVal[:,1]**2) #---------------------------------------------------------------------x1^6x2^2\n",
    "testXVal = np.append(testXVal, np.column_stack([testXVal1]), axis = 1)\n",
    "testXVal1 = (testXVal[:,0]**5)*(testXVal[:,1]**3) #---------------------------------------------------------------------x1^5x2^3\n",
    "testXVal = np.append(testXVal, np.column_stack([testXVal1]), axis = 1)\n",
    "testXVal1 = (testXVal[:,0]**4)*(testXVal[:,1]**4) #---------------------------------------------------------------------x1^4x2^4\n",
    "testXVal = np.append(testXVal, np.column_stack([testXVal1]), axis = 1)\n",
    "testXVal1 = (testXVal[:,0]**3)*(testXVal[:,1]**5) #---------------------------------------------------------------------x1^3x2^5\n",
    "testXVal = np.append(testXVal, np.column_stack([testXVal1]), axis = 1)\n",
    "testXVal1 = (testXVal[:,0]**2)*(testXVal[:,1]**6) #---------------------------------------------------------------------x1^2x2^6\n",
    "testXVal = np.append(testXVal, np.column_stack([testXVal1]), axis = 1)\n",
    "testXVal1 = (testXVal[:,0])*(testXVal[:,1]**7) #------------------------------------------------------------------------x1x2^7\n",
    "testXVal = np.append(testXVal, np.column_stack([testXVal1]), axis = 1)\n",
    "testXVal1 = testXVal[:,1]**8 #------------------------------------------------------------------------------------------x2^8\n",
    "testXVal = np.append(testXVal, np.column_stack([testXVal1]), axis = 1)\n",
    "\n",
    "testXVal1 = testXVal[:,0]**9 #------------------------------------------------------------------------------------------x1^9\n",
    "testXVal = np.append(testXVal, np.column_stack([testXVal1]), axis = 1)\n",
    "testXVal1 = (testXVal[:,0]**8)*(testXVal[:,1]) #------------------------------------------------------------------------x1^8x2\n",
    "testXVal = np.append(testXVal, np.column_stack([testXVal1]), axis = 1)\n",
    "testXVal1 = (testXVal[:,0]**7)*(testXVal[:,1]**2) #---------------------------------------------------------------------x1^7x2^2\n",
    "testXVal = np.append(testXVal, np.column_stack([testXVal1]), axis = 1)\n",
    "testXVal1 = (testXVal[:,0]**6)*(testXVal[:,1]**3) #---------------------------------------------------------------------x1^6x2^3\n",
    "testXVal = np.append(testXVal, np.column_stack([testXVal1]), axis = 1)\n",
    "testXVal1 = (testXVal[:,0]**5)*(testXVal[:,1]**4) #---------------------------------------------------------------------x1^5x2^4\n",
    "testXVal = np.append(testXVal, np.column_stack([testXVal1]), axis = 1)\n",
    "testXVal1 = (testXVal[:,0]**4)*(testXVal[:,1]**5) #---------------------------------------------------------------------x1^4x2^5\n",
    "testXVal = np.append(testXVal, np.column_stack([testXVal1]), axis = 1)\n",
    "testXVal1 = (testXVal[:,0]**3)*(testXVal[:,1]**6) #---------------------------------------------------------------------x1^3x2^6\n",
    "testXVal = np.append(testXVal, np.column_stack([testXVal1]), axis = 1)\n",
    "testXVal1 = (testXVal[:,0]**2)*(testXVal[:,1]**7) #---------------------------------------------------------------------x1^3x2^6\n",
    "testXVal = np.append(testXVal, np.column_stack([testXVal1]), axis = 1)\n",
    "testXVal1 = (testXVal[:,0])*(testXVal[:,1]**8) #------------------------------------------------------------------------x1x2^8\n",
    "testXVal = np.append(testXVal, np.column_stack([testXVal1]), axis = 1)\n",
    "testXVal1 = testXVal[:,1]**9 #------------------------------------------------------------------------------------------x2^9\n",
    "testXVal = np.append(testXVal, np.column_stack([testXVal1]), axis = 1)\n",
    "\n",
    "testXVal = np.append(np.ones((110,1)), testXVal, axis=1)\n",
    "\n",
    "testYVal = testY[testY.columns[:]].to_numpy()\n",
    "print(np.shape(testYVal))\n",
    "print(np.shape(testXVal))\n",
    "# testXVal is the nd array of target values and their exponents, valY is the respective Yn for every x1n and x2n\n",
    "\n",
    "print(testXVal[0,1])\n"
   ]
  },
  {
   "cell_type": "code",
   "execution_count": 17,
   "id": "f7938765",
   "metadata": {},
   "outputs": [],
   "source": [
    "iters = 10000\n",
    "learningRate = 0.001 #yeta or n\n",
    "costArr= np.zeros(iters+100)\n",
    "counterArr = np.zeros(iters+100)"
   ]
  },
  {
   "cell_type": "code",
   "execution_count": 18,
   "id": "373a182c",
   "metadata": {},
   "outputs": [],
   "source": [
    "TrainErr = np.array([])\n",
    "TestErr = np.array([])"
   ]
  },
  {
   "cell_type": "code",
   "execution_count": 19,
   "id": "ca2af950",
   "metadata": {},
   "outputs": [
    {
     "name": "stdout",
     "output_type": "stream",
     "text": [
      "w0 = 4.687949541284403\n"
     ]
    },
    {
     "data": {
      "image/png": "[encoded data removed]",
      "text/plain": [
       "<Figure size 432x288 with 1 Axes>"
      ]
     },
     "metadata": {
      "needs_background": "light"
     },
     "output_type": "display_data"
    }
   ],
   "source": [
    "# Degree 0 manipulation for other degrees w = np.zeros((wSize, 1))\n",
    "w = 0\n",
    "wSize = 1\n",
    "counter = 0\n",
    "for i in range(iters):\n",
    "    #print(np.mean(valY))\n",
    "    w1 = w + learningRate*(np.sum(valY-w))\n",
    "    #print(w1,w)\n",
    "\n",
    "    counter+=1\n",
    "    costArr[counter] = (np.sum(valY-w))\n",
    "    counterArr[counter] = counter\n",
    "    w=w1\n",
    "#print(counter)\n",
    "print(\"w0 =\", w)\n",
    "fig,ax = plt.subplots()\n",
    "ax.plot(costArr[1:-1])\n",
    "plt.title(\"Gradient Descent method degree 0 - w0 values\", y = 1, pad = 30)\n",
    "plt.show() "
   ]
  },
  {
   "cell_type": "code",
   "execution_count": 20,
   "id": "a00809f9",
   "metadata": {},
   "outputs": [
    {
     "data": {
      "text/plain": [
       "1.3803262877177842"
      ]
     },
     "execution_count": 20,
     "metadata": {},
     "output_type": "execute_result"
    }
   ],
   "source": [
    "#training data error for degree 0\n",
    "w1 = 0\n",
    "for i in range(np.shape(valX)[0]):\n",
    "    w1+= (np.sum(w*valX[i,0]) - valY[i,0])**2\n",
    "\n",
    "TrainErr = np.append(TrainErr,w1/(np.shape(valX)[0]*2))\n",
    "w1/(np.shape(valX)[0]*2)"
   ]
  },
  {
   "cell_type": "code",
   "execution_count": 21,
   "id": "898eba88",
   "metadata": {},
   "outputs": [
    {
     "data": {
      "text/plain": [
       "1.4003840940169947"
      ]
     },
     "execution_count": 21,
     "metadata": {},
     "output_type": "execute_result"
    }
   ],
   "source": [
    "# testing data error for degree 0\n",
    "testError = 0\n",
    "for i in range(np.shape(testXVal)[0]):\n",
    "    testError += (w - testYVal[i,0])**2\n",
    "\n",
    "TestErr = np.append(TestErr,testError/(np.shape(testXVal)[0]*2))\n",
    "testError/(np.shape(testXVal)[0]*2)"
   ]
  },
  {
   "cell_type": "code",
   "execution_count": 22,
   "id": "c74031a1",
   "metadata": {
    "scrolled": false
   },
   "outputs": [
    {
     "data": {
      "image/png": "[encoded data removed]",
      "text/plain": [
       "<Figure size 360x360 with 1 Axes>"
      ]
     },
     "metadata": {
      "needs_background": "light"
     },
     "output_type": "display_data"
    }
   ],
   "source": [
    "degree = 0\n",
    "x = np.arange(-50,50,0.1)\n",
    "y = x.copy() # transpose\n",
    "x,y = np.meshgrid(x,y)\n",
    "z = 0\n",
    "counter = 0\n",
    "k=0\n",
    "z = w*(x**k)*(y**k)\n",
    "        \n",
    "\n",
    "fig = plt.figure(figsize = (5,5))\n",
    "ax = plt.axes(projection='3d')\n",
    "\n",
    "ax.plot_surface(x, y, z,cmap='viridis', edgecolor='none')\n",
    "ax.set_title('Surface plot')\n",
    "plt.show()"
   ]
  },
  {
   "cell_type": "code",
   "execution_count": 23,
   "id": "9a7cc083",
   "metadata": {},
   "outputs": [],
   "source": [
    "degree = 1"
   ]
  },
  {
   "cell_type": "code",
   "execution_count": 24,
   "id": "7478254f",
   "metadata": {},
   "outputs": [
    {
     "name": "stdout",
     "output_type": "stream",
     "text": [
      "w0=2.983179906496235\n",
      "w1=1.4373009018126701\n",
      "w2=2.3735398546856583\n"
     ]
    },
    {
     "data": {
      "text/plain": [
       "436"
      ]
     },
     "execution_count": 24,
     "metadata": {},
     "output_type": "execute_result"
    }
   ],
   "source": [
    "wSize = int((degree+1)*(degree+2)/2)\n",
    "w = np.zeros(wSize) # similar template for others\n",
    "w1 = np.zeros(wSize)\n",
    "#print(w, '\\n', w1)\n",
    "\n",
    "counter = 0\n",
    "costArr= np.zeros(iters+1)\n",
    "counterArr = np.zeros(iters+1)\n",
    "for i in range(iters):\n",
    "    w2 = np.zeros(wSize)\n",
    "    for j in range(np.shape(valX)[0]):\n",
    "        w2 += ((valY[j,0]-np.sum(w*valX[j,:wSize]))*valX[j,:wSize])\n",
    "\n",
    "    w2 = w2/np.shape(valX)[0] #N\n",
    "    \n",
    "    w1 = w + learningRate*w2\n",
    "    w=w1\n",
    "    counter+=1\n",
    "    costArr[counter] = w2[0]\n",
    "    counterArr[counter] = counter\n",
    "\n",
    "   \n",
    "\n",
    "for i in range(np.shape(w)[0]):    \n",
    "    print(\"w\", i, \"=\", w[i], sep = '')\n",
    "\n",
    "np.shape(valX)[0]\n",
    " "
   ]
  },
  {
   "cell_type": "code",
   "execution_count": 25,
   "id": "5da824ef",
   "metadata": {},
   "outputs": [
    {
     "data": {
      "image/png": "[encoded data removed]",
      "text/plain": [
       "<Figure size 432x288 with 1 Axes>"
      ]
     },
     "metadata": {
      "needs_background": "light"
     },
     "output_type": "display_data"
    }
   ],
   "source": [
    "fig,ax = plt.subplots()\n",
    "ax.plot(costArr[1:-1])\n",
    "plt.title(\"Gradient Descent method degree %d - del(E) values\"% degree, y = 1, pad = 30)\n",
    "plt.show() # the number of iterations are maxed out in the end,"
   ]
  },
  {
   "cell_type": "code",
   "execution_count": 26,
   "id": "058a4c36",
   "metadata": {},
   "outputs": [
    {
     "data": {
      "text/plain": [
       "1.0783655965103085"
      ]
     },
     "execution_count": 26,
     "metadata": {},
     "output_type": "execute_result"
    }
   ],
   "source": [
    "# training data error\n",
    "w1 = 0\n",
    "for i in range(np.shape(valX)[0]):\n",
    "    w1+= (np.sum(w*valX[i,:wSize]) - valY[i,0])**2\n",
    "\n",
    "TrainErr = np.append(TrainErr,w1/(np.shape(valX)[0]*2))\n",
    "w1/(np.shape(valX)[0]*2)"
   ]
  },
  {
   "cell_type": "code",
   "execution_count": 27,
   "id": "d8e3e3de",
   "metadata": {},
   "outputs": [
    {
     "data": {
      "text/plain": [
       "1.119830538491056"
      ]
     },
     "execution_count": 27,
     "metadata": {},
     "output_type": "execute_result"
    }
   ],
   "source": [
    "# testing data error\n",
    "testError = 0\n",
    "for i in range(np.shape(testXVal)[0]):\n",
    "    testError += (np.sum(w*testXVal[i,:wSize]) - testYVal[i,0])**2\n",
    "\n",
    "TestErr = np.append(TestErr,testError/(np.shape(testXVal)[0]*2))\n",
    "testError/(np.shape(testXVal)[0]*2)"
   ]
  },
  {
   "cell_type": "code",
   "execution_count": 28,
   "id": "1a478c24",
   "metadata": {
    "scrolled": true
   },
   "outputs": [
    {
     "data": {
      "image/png": "[encoded data removed]",
      "text/plain": [
       "<Figure size 360x360 with 1 Axes>"
      ]
     },
     "metadata": {
      "needs_background": "light"
     },
     "output_type": "display_data"
    }
   ],
   "source": [
    "x = np.arange(-50,50,0.1)\n",
    "y = x[::-1].copy() # transpose\n",
    "x,y = np.meshgrid(x,y)\n",
    "z = 0\n",
    "counter = 0\n",
    "for i in range(degree+1):\n",
    "    for j in range(i+1):\n",
    "        k = i-j\n",
    "        z += w[counter]*(x**k)*(y**j)\n",
    "        counter += 1\n",
    "\n",
    "fig = plt.figure(figsize = (5,5))\n",
    "ax = plt.axes(projection='3d')\n",
    "\n",
    "ax.plot_surface(x, y, z,cmap='viridis', edgecolor='none')\n",
    "ax.set_title('Surface plot')\n",
    "plt.show()"
   ]
  },
  {
   "cell_type": "code",
   "execution_count": 29,
   "id": "e7483fd7",
   "metadata": {},
   "outputs": [],
   "source": [
    "degree = 2"
   ]
  },
  {
   "cell_type": "code",
   "execution_count": null,
   "id": "d234df76",
   "metadata": {},
   "outputs": [],
   "source": [
    "wSize = int((degree+1)*(degree+2)/2)\n",
    "w = np.zeros(wSize) # similar template for others\n",
    "w1 = np.zeros(wSize)\n",
    "#print(w, '\\n', w1)\n",
    "\n",
    "counter = 0\n",
    "costArr= np.zeros(iters+1)\n",
    "counterArr = np.zeros(iters+1)\n",
    "for i in range(iters):\n",
    "    w2 = np.zeros(wSize)\n",
    "    for j in range(np.shape(valX)[0]):\n",
    "        w2 += ((valY[j,0]-np.sum(w*valX[j,:wSize]))*valX[j,:wSize])\n",
    "\n",
    "    w2 = w2/np.shape(valX)[0] #N\n",
    "    \n",
    "    w1 = w + learningRate*w2\n",
    "    w=w1\n",
    "    counter+=1\n",
    "    costArr[counter] = w2[0]\n",
    "    counterArr[counter] = counter\n",
    "\n",
    "   \n",
    "\n",
    "for i in range(np.shape(w)[0]):    \n",
    "    print(\"w\", i, \"=\", w[i], sep = '')\n",
    "\n",
    "np.shape(valX)[0]\n",
    " "
   ]
  },
  {
   "cell_type": "code",
   "execution_count": null,
   "id": "51a5abf4",
   "metadata": {},
   "outputs": [],
   "source": [
    "fig,ax = plt.subplots()\n",
    "ax.plot(costArr[1:-1])\n",
    "plt.title(\"Gradient Descent method degree %d - del(E) values\"% degree, y = 1, pad = 30)\n",
    "plt.show() # the number of iterations are maxed out in the end,"
   ]
  },
  {
   "cell_type": "code",
   "execution_count": null,
   "id": "9b6df372",
   "metadata": {},
   "outputs": [],
   "source": [
    "# training data error\n",
    "w1 = 0\n",
    "for i in range(np.shape(valX)[0]):\n",
    "    w1+= (np.sum(w*valX[i,:wSize]) - valY[i,0])**2\n",
    "\n",
    "TrainErr = np.append(TrainErr,w1/(np.shape(valX)[0]*2))\n",
    "w1/(np.shape(valX)[0]*2)"
   ]
  },
  {
   "cell_type": "code",
   "execution_count": null,
   "id": "4aff505b",
   "metadata": {},
   "outputs": [],
   "source": [
    "# testing data error\n",
    "testError = 0\n",
    "for i in range(np.shape(testXVal)[0]):\n",
    "    testError += (np.sum(w*testXVal[i,:wSize]) - testYVal[i,0])**2\n",
    "\n",
    "TestErr = np.append(TestErr,testError/(np.shape(testXVal)[0]*2))\n",
    "testError/(np.shape(testXVal)[0]*2)"
   ]
  },
  {
   "cell_type": "code",
   "execution_count": null,
   "id": "7039d3d1",
   "metadata": {
    "scrolled": false
   },
   "outputs": [],
   "source": [
    "x = np.arange(-50,50,0.1)\n",
    "y = x.copy() # transpose\n",
    "x,y = np.meshgrid(x,y)\n",
    "z = 0\n",
    "counter = 0\n",
    "for i in range(degree+1):\n",
    "    for j in range(i+1):\n",
    "        k = i-j\n",
    "        z += w[counter]*(x**k)*(y**j)\n",
    "        counter += 1\n",
    "\n",
    "fig = plt.figure(figsize = (5,5))\n",
    "ax = plt.axes(projection='3d')\n",
    "\n",
    "ax.plot_surface(x, y, z,cmap='viridis', edgecolor='none')\n",
    "ax.set_title('Surface plot')\n",
    "plt.show()"
   ]
  },
  {
   "cell_type": "code",
   "execution_count": null,
   "id": "d6c642c6",
   "metadata": {},
   "outputs": [],
   "source": [
    "degree = 3"
   ]
  },
  {
   "cell_type": "code",
   "execution_count": null,
   "id": "72f179d0",
   "metadata": {},
   "outputs": [],
   "source": [
    "wSize = int((degree+1)*(degree+2)/2)\n",
    "w = np.zeros(wSize) # similar template for others\n",
    "w1 = np.zeros(wSize)\n",
    "#print(w, '\\n', w1)\n",
    "\n",
    "counter = 0\n",
    "costArr= np.zeros(iters+1)\n",
    "counterArr = np.zeros(iters+1)\n",
    "for i in range(iters):\n",
    "    w2 = np.zeros(wSize)\n",
    "    for j in range(np.shape(valX)[0]):\n",
    "        w2 += ((valY[j,0]-np.sum(w*valX[j,:wSize]))*valX[j,:wSize])\n",
    "\n",
    "    w2 = w2/np.shape(valX)[0] #N\n",
    "    \n",
    "    w1 = w + learningRate*w2\n",
    "    w=w1\n",
    "    counter+=1\n",
    "    costArr[counter] = w2[0]\n",
    "    counterArr[counter] = counter\n",
    "\n",
    "   \n",
    "\n",
    "for i in range(np.shape(w)[0]):    \n",
    "    print(\"w\", i, \"=\", w[i], sep = '')\n",
    "\n",
    "np.shape(valX)[0]\n",
    " "
   ]
  },
  {
   "cell_type": "code",
   "execution_count": null,
   "id": "5d38e915",
   "metadata": {},
   "outputs": [],
   "source": [
    "fig,ax = plt.subplots()\n",
    "ax.plot(costArr[1:-1])\n",
    "plt.title(\"Gradient Descent method degree %d - del(E) values\"% degree, y = 1, pad = 30)\n",
    "plt.show() # the number of iterations are maxed out in the end,"
   ]
  },
  {
   "cell_type": "code",
   "execution_count": null,
   "id": "33271b0f",
   "metadata": {},
   "outputs": [],
   "source": [
    "# training data error\n",
    "w1 = 0\n",
    "for i in range(np.shape(valX)[0]):\n",
    "    w1+= (np.sum(w*valX[i,:wSize]) - valY[i,0])**2\n",
    "\n",
    "TrainErr = np.append(TrainErr,w1/(np.shape(valX)[0]*2))\n",
    "w1/(np.shape(valX)[0]*2)"
   ]
  },
  {
   "cell_type": "code",
   "execution_count": null,
   "id": "99aad32a",
   "metadata": {},
   "outputs": [],
   "source": [
    "# testing data error\n",
    "testError = 0\n",
    "for i in range(np.shape(testXVal)[0]):\n",
    "    testError += (np.sum(w*testXVal[i,:wSize]) - testYVal[i,0])**2\n",
    "\n",
    "TestErr = np.append(TestErr,testError/(np.shape(testXVal)[0]*2))\n",
    "testError/(np.shape(testXVal)[0]*2)"
   ]
  },
  {
   "cell_type": "code",
   "execution_count": null,
   "id": "acabe8a6",
   "metadata": {
    "scrolled": false
   },
   "outputs": [],
   "source": [
    "x = np.arange(-50,50,0.1)\n",
    "y = x.copy() # transpose\n",
    "x,y = np.meshgrid(x,y)\n",
    "z = 0\n",
    "counter = 0\n",
    "for i in range(degree+1):\n",
    "    for j in range(i+1):\n",
    "        k = i-j\n",
    "        z += w[counter]*(x**k)*(y**j)\n",
    "        counter += 1\n",
    "\n",
    "fig = plt.figure(figsize = (5,5))\n",
    "ax = plt.axes(projection='3d')\n",
    "\n",
    "ax.plot_surface(x, y, z,cmap='viridis', edgecolor='none')\n",
    "ax.set_title('Surface plot')\n",
    "plt.show()"
   ]
  },
  {
   "cell_type": "code",
   "execution_count": null,
   "id": "67b481b6",
   "metadata": {},
   "outputs": [],
   "source": [
    "degree = 4"
   ]
  },
  {
   "cell_type": "code",
   "execution_count": null,
   "id": "841c824e",
   "metadata": {},
   "outputs": [],
   "source": [
    "wSize = int((degree+1)*(degree+2)/2)\n",
    "w = np.zeros(wSize) # similar template for others\n",
    "w1 = np.zeros(wSize)\n",
    "#print(w, '\\n', w1)\n",
    "\n",
    "counter = 0\n",
    "costArr= np.zeros(iters+1)\n",
    "counterArr = np.zeros(iters+1)\n",
    "for i in range(iters):\n",
    "    w2 = np.zeros(wSize)\n",
    "    for j in range(np.shape(valX)[0]):\n",
    "        w2 += ((valY[j,0]-np.sum(w*valX[j,:wSize]))*valX[j,:wSize])\n",
    "\n",
    "    w2 = w2/np.shape(valX)[0] #N\n",
    "    \n",
    "    w1 = w + learningRate*w2\n",
    "    w=w1\n",
    "    counter+=1\n",
    "    costArr[counter] = w2[0]\n",
    "    counterArr[counter] = counter\n",
    "\n",
    "   \n",
    "\n",
    "for i in range(np.shape(w)[0]):    \n",
    "    print(\"w\", i, \"=\", w[i], sep = '')\n",
    "\n",
    "np.shape(valX)[0]\n",
    " "
   ]
  },
  {
   "cell_type": "code",
   "execution_count": null,
   "id": "bdd072c0",
   "metadata": {},
   "outputs": [],
   "source": [
    "fig,ax = plt.subplots()\n",
    "ax.plot(costArr[1:-1])\n",
    "plt.title(\"Gradient Descent method degree %d - del(E) values\"% degree, y = 1, pad = 30)\n",
    "plt.show() # the number of iterations are maxed out in the end,"
   ]
  },
  {
   "cell_type": "code",
   "execution_count": null,
   "id": "a428f06b",
   "metadata": {},
   "outputs": [],
   "source": [
    "# training data error\n",
    "w1 = 0\n",
    "for i in range(np.shape(valX)[0]):\n",
    "    w1+= (np.sum(w*valX[i,:wSize]) - valY[i,0])**2\n",
    "\n",
    "TrainErr = np.append(TrainErr,w1/(np.shape(valX)[0]*2))\n",
    "w1/(np.shape(valX)[0]*2)"
   ]
  },
  {
   "cell_type": "code",
   "execution_count": null,
   "id": "22f533b5",
   "metadata": {},
   "outputs": [],
   "source": [
    "# testing data error\n",
    "testError = 0\n",
    "for i in range(np.shape(testXVal)[0]):\n",
    "    testError += (np.sum(w*testXVal[i,:wSize]) - testYVal[i,0])**2\n",
    "\n",
    "TestErr = np.append(TestErr,testError/(np.shape(testXVal)[0]*2))\n",
    "testError/(np.shape(testXVal)[0]*2)"
   ]
  },
  {
   "cell_type": "code",
   "execution_count": null,
   "id": "053e507c",
   "metadata": {
    "scrolled": true
   },
   "outputs": [],
   "source": [
    "x = np.arange(-50,50,0.1)\n",
    "y = x.copy() # transpose\n",
    "x,y = np.meshgrid(x,y)\n",
    "z = 0\n",
    "counter = 0\n",
    "for i in range(degree+1):\n",
    "    for j in range(i+1):\n",
    "        k = i-j\n",
    "        z += w[counter]*(x**k)*(y**j)\n",
    "        counter += 1\n",
    "\n",
    "fig = plt.figure(figsize = (5,5))\n",
    "ax = plt.axes(projection='3d')\n",
    "\n",
    "ax.plot_surface(x, y, z,cmap='viridis', edgecolor='none')\n",
    "ax.set_title('Surface plot')\n",
    "plt.show()"
   ]
  },
  {
   "cell_type": "code",
   "execution_count": null,
   "id": "f812e077",
   "metadata": {},
   "outputs": [],
   "source": [
    "degree = 5"
   ]
  },
  {
   "cell_type": "code",
   "execution_count": null,
   "id": "bcac6665",
   "metadata": {},
   "outputs": [],
   "source": [
    "wSize = int((degree+1)*(degree+2)/2)\n",
    "w = np.zeros(wSize) # similar template for others\n",
    "w1 = np.zeros(wSize)\n",
    "#print(w, '\\n', w1)\n",
    "\n",
    "counter = 0\n",
    "costArr= np.zeros(iters+1)\n",
    "counterArr = np.zeros(iters+1)\n",
    "for i in range(iters):\n",
    "    w2 = np.zeros(wSize)\n",
    "    for j in range(np.shape(valX)[0]):\n",
    "        w2 += ((valY[j,0]-np.sum(w*valX[j,:wSize]))*valX[j,:wSize])\n",
    "\n",
    "    w2 = w2/np.shape(valX)[0] #N\n",
    "    \n",
    "    w1 = w + learningRate*w2\n",
    "    w=w1\n",
    "    counter+=1\n",
    "    costArr[counter] = w2[0]\n",
    "    counterArr[counter] = counter\n",
    "\n",
    "   \n",
    "\n",
    "for i in range(np.shape(w)[0]):    \n",
    "    print(\"w\", i, \"=\", w[i], sep = '')\n",
    "\n",
    "np.shape(valX)[0]\n",
    " "
   ]
  },
  {
   "cell_type": "code",
   "execution_count": null,
   "id": "d649d332",
   "metadata": {},
   "outputs": [],
   "source": [
    "fig,ax = plt.subplots()\n",
    "ax.plot(costArr[1:-1])\n",
    "plt.title(\"Gradient Descent method degree %d - del(E) values\"% degree, y = 1, pad = 30)\n",
    "plt.show() # the number of iterations are maxed out in the end,"
   ]
  },
  {
   "cell_type": "code",
   "execution_count": null,
   "id": "65ca8a64",
   "metadata": {},
   "outputs": [],
   "source": [
    "# training data error\n",
    "w1 = 0\n",
    "for i in range(np.shape(valX)[0]):\n",
    "    w1+= (np.sum(w*valX[i,:wSize]) - valY[i,0])**2\n",
    "\n",
    "TrainErr = np.append(TrainErr,w1/(np.shape(valX)[0]*2))\n",
    "w1/(np.shape(valX)[0]*2)"
   ]
  },
  {
   "cell_type": "code",
   "execution_count": null,
   "id": "7ee7e672",
   "metadata": {},
   "outputs": [],
   "source": [
    "# testing data error\n",
    "testError = 0\n",
    "for i in range(np.shape(testXVal)[0]):\n",
    "    testError += (np.sum(w*testXVal[i,:wSize]) - testYVal[i,0])**2\n",
    "\n",
    "TestErr = np.append(TestErr,testError/(np.shape(testXVal)[0]*2))\n",
    "testError/(np.shape(testXVal)[0]*2)"
   ]
  },
  {
   "cell_type": "code",
   "execution_count": null,
   "id": "06bbb1ba",
   "metadata": {
    "scrolled": true
   },
   "outputs": [],
   "source": [
    "x = np.arange(-50,50,0.1)\n",
    "y = x.copy() # transpose\n",
    "x,y = np.meshgrid(x,y)\n",
    "z = 0\n",
    "counter = 0\n",
    "for i in range(degree+1):\n",
    "    for j in range(i+1):\n",
    "        k = i-j\n",
    "        z += w[counter]*(x**k)*(y**j)\n",
    "        counter += 1\n",
    "\n",
    "fig = plt.figure(figsize = (5,5))\n",
    "ax = plt.axes(projection='3d')\n",
    "\n",
    "ax.plot_surface(x, y, z,cmap='viridis', edgecolor='none')\n",
    "ax.set_title('Surface plot')\n",
    "plt.show()"
   ]
  },
  {
   "cell_type": "code",
   "execution_count": null,
   "id": "ffbce5b8",
   "metadata": {},
   "outputs": [],
   "source": [
    "degree = 6"
   ]
  },
  {
   "cell_type": "code",
   "execution_count": null,
   "id": "b94d9cc7",
   "metadata": {},
   "outputs": [],
   "source": [
    "wSize = int((degree+1)*(degree+2)/2)\n",
    "w = np.zeros(wSize) # similar template for others\n",
    "w1 = np.zeros(wSize)\n",
    "#print(w, '\\n', w1)\n",
    "\n",
    "counter = 0\n",
    "costArr= np.zeros(iters+1)\n",
    "counterArr = np.zeros(iters+1)\n",
    "for i in range(iters):\n",
    "    w2 = np.zeros(wSize)\n",
    "    for j in range(np.shape(valX)[0]):\n",
    "        w2 += ((valY[j,0]-np.sum(w*valX[j,:wSize]))*valX[j,:wSize])\n",
    "\n",
    "    w2 = w2/np.shape(valX)[0] #N\n",
    "    \n",
    "    w1 = w + learningRate*w2\n",
    "    w=w1\n",
    "    counter+=1\n",
    "    costArr[counter] = w2[0]\n",
    "    counterArr[counter] = counter\n",
    "\n",
    "   \n",
    "\n",
    "for i in range(np.shape(w)[0]):    \n",
    "    print(\"w\", i, \"=\", w[i], sep = '')\n",
    "\n",
    "np.shape(valX)[0]\n",
    " "
   ]
  },
  {
   "cell_type": "code",
   "execution_count": null,
   "id": "54e9bdf4",
   "metadata": {},
   "outputs": [],
   "source": [
    "fig,ax = plt.subplots()\n",
    "ax.plot(costArr[1:-1])\n",
    "plt.title(\"Gradient Descent method degree %d - del(E) values\"% degree, y = 1, pad = 30)\n",
    "plt.show() # the number of iterations are maxed out in the end,"
   ]
  },
  {
   "cell_type": "code",
   "execution_count": null,
   "id": "1b8568a5",
   "metadata": {},
   "outputs": [],
   "source": [
    "# training data error\n",
    "w1 = 0\n",
    "for i in range(np.shape(valX)[0]):\n",
    "    w1+= (np.sum(w*valX[i,:wSize]) - valY[i,0])**2\n",
    "\n",
    "TrainErr = np.append(TrainErr,w1/(np.shape(valX)[0]*2))\n",
    "w1/(np.shape(valX)[0]*2)"
   ]
  },
  {
   "cell_type": "code",
   "execution_count": null,
   "id": "4509d8ce",
   "metadata": {},
   "outputs": [],
   "source": [
    "# testing data error\n",
    "testError = 0\n",
    "for i in range(np.shape(testXVal)[0]):\n",
    "    testError += (np.sum(w*testXVal[i,:wSize]) - testYVal[i,0])**2\n",
    "\n",
    "TestErr = np.append(TestErr,testError/(np.shape(testXVal)[0]*2))\n",
    "testError/(np.shape(testXVal)[0]*2)"
   ]
  },
  {
   "cell_type": "code",
   "execution_count": null,
   "id": "86dbbefa",
   "metadata": {
    "scrolled": true
   },
   "outputs": [],
   "source": [
    "x = np.arange(-50,50,0.1)\n",
    "y = x.copy() # transpose\n",
    "x,y = np.meshgrid(x,y)\n",
    "z = 0\n",
    "counter = 0\n",
    "for i in range(degree+1):\n",
    "    for j in range(i+1):\n",
    "        k = i-j\n",
    "        z += w[counter]*(x**k)*(y**j)\n",
    "        counter += 1\n",
    "\n",
    "fig = plt.figure(figsize = (5,5))\n",
    "ax = plt.axes(projection='3d')\n",
    "\n",
    "ax.plot_surface(x, y, z,cmap='viridis', edgecolor='none')\n",
    "ax.set_title('Surface plot')\n",
    "plt.show()"
   ]
  },
  {
   "cell_type": "code",
   "execution_count": null,
   "id": "0115098d",
   "metadata": {},
   "outputs": [],
   "source": [
    "degree = 7"
   ]
  },
  {
   "cell_type": "code",
   "execution_count": null,
   "id": "862586d9",
   "metadata": {},
   "outputs": [],
   "source": [
    "wSize = int((degree+1)*(degree+2)/2)\n",
    "w = np.zeros(wSize) # similar template for others\n",
    "w1 = np.zeros(wSize)\n",
    "#print(w, '\\n', w1)\n",
    "\n",
    "counter = 0\n",
    "costArr= np.zeros(iters+1)\n",
    "counterArr = np.zeros(iters+1)\n",
    "for i in range(iters):\n",
    "    w2 = np.zeros(wSize)\n",
    "    for j in range(np.shape(valX)[0]):\n",
    "        w2 += ((valY[j,0]-np.sum(w*valX[j,:wSize]))*valX[j,:wSize])\n",
    "\n",
    "    w2 = w2/np.shape(valX)[0] #N\n",
    "    \n",
    "    w1 = w + learningRate*w2\n",
    "    w=w1\n",
    "    counter+=1\n",
    "    costArr[counter] = w2[0]\n",
    "    counterArr[counter] = counter\n",
    "\n",
    "   \n",
    "\n",
    "for i in range(np.shape(w)[0]):    \n",
    "    print(\"w\", i, \"=\", w[i], sep = '')\n",
    "\n",
    "np.shape(valX)[0]\n",
    " "
   ]
  },
  {
   "cell_type": "code",
   "execution_count": null,
   "id": "32da88c7",
   "metadata": {},
   "outputs": [],
   "source": [
    "fig,ax = plt.subplots()\n",
    "ax.plot(costArr[1:-1])\n",
    "plt.title(\"Gradient Descent method degree %d - del(E) values\"% degree, y = 1, pad = 30)\n",
    "plt.show() # the number of iterations are maxed out in the end,"
   ]
  },
  {
   "cell_type": "code",
   "execution_count": null,
   "id": "f9158721",
   "metadata": {},
   "outputs": [],
   "source": [
    "# training data error\n",
    "w1 = 0\n",
    "for i in range(np.shape(valX)[0]):\n",
    "    w1+= (np.sum(w*valX[i,:wSize]) - valY[i,0])**2\n",
    "\n",
    "TrainErr = np.append(TrainErr,w1/(np.shape(valX)[0]*2))\n",
    "w1/(np.shape(valX)[0]*2)"
   ]
  },
  {
   "cell_type": "code",
   "execution_count": null,
   "id": "fee13f07",
   "metadata": {},
   "outputs": [],
   "source": [
    "# testing data error\n",
    "testError = 0\n",
    "for i in range(np.shape(testXVal)[0]):\n",
    "    testError += (np.sum(w*testXVal[i,:wSize]) - testYVal[i,0])**2\n",
    "\n",
    "TestErr = np.append(TestErr,testError/(np.shape(testXVal)[0]*2))\n",
    "testError/(np.shape(testXVal)[0]*2)"
   ]
  },
  {
   "cell_type": "code",
   "execution_count": null,
   "id": "45aae6ad",
   "metadata": {
    "scrolled": true
   },
   "outputs": [],
   "source": [
    "x = np.arange(-50,50,0.1)\n",
    "y = x.copy() # transpose\n",
    "x,y = np.meshgrid(x,y)\n",
    "z = 0\n",
    "counter = 0\n",
    "for i in range(degree+1):\n",
    "    for j in range(i+1):\n",
    "        k = i-j\n",
    "        z += w[counter]*(x**k)*(y**j)\n",
    "        counter += 1\n",
    "\n",
    "fig = plt.figure(figsize = (5,5))\n",
    "ax = plt.axes(projection='3d')\n",
    "\n",
    "ax.plot_surface(x, y, z,cmap='viridis', edgecolor='none')\n",
    "ax.set_title('Surface plot')\n",
    "plt.show()"
   ]
  },
  {
   "cell_type": "code",
   "execution_count": null,
   "id": "7565db22",
   "metadata": {},
   "outputs": [],
   "source": [
    "degree = 8"
   ]
  },
  {
   "cell_type": "code",
   "execution_count": null,
   "id": "058ac153",
   "metadata": {},
   "outputs": [],
   "source": [
    "wSize = int((degree+1)*(degree+2)/2)\n",
    "w = np.zeros(wSize) # similar template for others\n",
    "w1 = np.zeros(wSize)\n",
    "#print(w, '\\n', w1)\n",
    "\n",
    "counter = 0\n",
    "costArr= np.zeros(iters+1)\n",
    "counterArr = np.zeros(iters+1)\n",
    "for i in range(iters):\n",
    "    w2 = np.zeros(wSize)\n",
    "    for j in range(np.shape(valX)[0]):\n",
    "        w2 += ((valY[j,0]-np.sum(w*valX[j,:wSize]))*valX[j,:wSize])\n",
    "\n",
    "    w2 = w2/np.shape(valX)[0] #N\n",
    "    \n",
    "    w1 = w + learningRate*w2\n",
    "    w=w1\n",
    "    counter+=1\n",
    "    costArr[counter] = w2[0]\n",
    "    counterArr[counter] = counter\n",
    "\n",
    "   \n",
    "\n",
    "for i in range(np.shape(w)[0]):    \n",
    "    print(\"w\", i, \"=\", w[i], sep = '')\n",
    "\n",
    "np.shape(valX)[0]\n",
    " "
   ]
  },
  {
   "cell_type": "code",
   "execution_count": null,
   "id": "170b1ce0",
   "metadata": {},
   "outputs": [],
   "source": [
    "fig,ax = plt.subplots()\n",
    "ax.plot(costArr[1:-1])\n",
    "plt.title(\"Gradient Descent method degree %d - del(E) values\"% degree, y = 1, pad = 30)\n",
    "plt.show() # the number of iterations are maxed out in the end,"
   ]
  },
  {
   "cell_type": "code",
   "execution_count": null,
   "id": "c255f80e",
   "metadata": {},
   "outputs": [],
   "source": [
    "# training data error\n",
    "w1 = 0\n",
    "for i in range(np.shape(valX)[0]):\n",
    "    w1+= (np.sum(w*valX[i,:wSize]) - valY[i,0])**2\n",
    "\n",
    "TrainErr = np.append(TrainErr,w1/(np.shape(valX)[0]*2))\n",
    "w1/(np.shape(valX)[0]*2)"
   ]
  },
  {
   "cell_type": "code",
   "execution_count": null,
   "id": "c5565a2f",
   "metadata": {},
   "outputs": [],
   "source": [
    "# testing data error\n",
    "testError = 0\n",
    "for i in range(np.shape(testXVal)[0]):\n",
    "    testError += (np.sum(w*testXVal[i,:wSize]) - testYVal[i,0])**2\n",
    "\n",
    "TestErr = np.append(TestErr,testError/(np.shape(testXVal)[0]*2))\n",
    "testError/(np.shape(testXVal)[0]*2)"
   ]
  },
  {
   "cell_type": "code",
   "execution_count": null,
   "id": "c729e271",
   "metadata": {},
   "outputs": [],
   "source": [
    "x = np.arange(-50,50,0.1)\n",
    "y = x.copy() # transpose\n",
    "x,y = np.meshgrid(x,y)\n",
    "z = 0\n",
    "counter = 0\n",
    "for i in range(degree+1):\n",
    "    for j in range(i+1):\n",
    "        k = i-j\n",
    "        z += w[counter]*(x**k)*(y**j)\n",
    "        counter += 1\n",
    "\n",
    "fig = plt.figure(figsize = (5,5))\n",
    "ax = plt.axes(projection='3d')\n",
    "\n",
    "ax.plot_surface(x, y, z,cmap='viridis', edgecolor='none')\n",
    "ax.set_title('Surface plot')\n",
    "plt.show()"
   ]
  },
  {
   "cell_type": "code",
   "execution_count": null,
   "id": "895320ce",
   "metadata": {},
   "outputs": [],
   "source": [
    "degree = 9"
   ]
  },
  {
   "cell_type": "code",
   "execution_count": null,
   "id": "56ca4724",
   "metadata": {},
   "outputs": [],
   "source": [
    "wSize = int((degree+1)*(degree+2)/2)\n",
    "w = np.zeros(wSize) # similar template for others\n",
    "w1 = np.zeros(wSize)\n",
    "#print(w, '\\n', w1)\n",
    "\n",
    "counter = 0\n",
    "costArr= np.zeros(iters+1)\n",
    "counterArr = np.zeros(iters+1)\n",
    "for i in range(iters):\n",
    "    w2 = np.zeros(wSize)\n",
    "    for j in range(np.shape(valX)[0]):\n",
    "        w2 += ((valY[j,0]-np.sum(w*valX[j,:wSize]))*valX[j,:wSize])\n",
    "\n",
    "    w2 = w2/np.shape(valX)[0] #N\n",
    "    \n",
    "    w1 = w + learningRate*w2\n",
    "    w=w1\n",
    "    counter+=1\n",
    "    costArr[counter] = w2[0]\n",
    "    counterArr[counter] = counter\n",
    "\n",
    "   \n",
    "\n",
    "for i in range(np.shape(w)[0]):    \n",
    "    print(\"w\", i, \"=\", w[i], sep = '')\n",
    "\n",
    "np.shape(valX)[0]\n",
    " "
   ]
  },
  {
   "cell_type": "code",
   "execution_count": null,
   "id": "6551a998",
   "metadata": {},
   "outputs": [],
   "source": [
    "fig,ax = plt.subplots()\n",
    "ax.plot(costArr[1:-1])\n",
    "plt.title(\"Gradient Descent method degree %d - del(E) values\"% degree, y = 1, pad = 30)\n",
    "plt.show() # the number of iterations are maxed out in the end,"
   ]
  },
  {
   "cell_type": "code",
   "execution_count": null,
   "id": "31231739",
   "metadata": {},
   "outputs": [],
   "source": [
    "# training data error\n",
    "w1 = 0\n",
    "for i in range(np.shape(valX)[0]):\n",
    "    w1+= (np.sum(w*valX[i,:wSize]) - valY[i,0])**2\n",
    "\n",
    "TrainErr = np.append(TrainErr,w1/(np.shape(valX)[0]*2))\n",
    "w1/np.shape(valX)[0]"
   ]
  },
  {
   "cell_type": "code",
   "execution_count": null,
   "id": "fce45127",
   "metadata": {},
   "outputs": [],
   "source": [
    "# testing data error\n",
    "testError = 0\n",
    "for i in range(np.shape(testXVal)[0]):\n",
    "    testError += (np.sum(w*testXVal[i,:wSize]) - testYVal[i,0])**2\n",
    "\n",
    "TestErr = np.append(TestErr,testError/(np.shape(testXVal)[0]*2))\n",
    "testError/np.shape(testXVal)[0]"
   ]
  },
  {
   "cell_type": "code",
   "execution_count": null,
   "id": "bbf97b39",
   "metadata": {},
   "outputs": [],
   "source": [
    "x = np.arange(-50,50,0.1)\n",
    "y = x.copy() # transpose\n",
    "x,y = np.meshgrid(x,y)\n",
    "z = 0\n",
    "counter = 0\n",
    "for i in range(degree+1):\n",
    "    for j in range(i+1):\n",
    "        k = i-j\n",
    "        z += w[counter]*(x**k)*(y**j)\n",
    "        counter += 1\n",
    "\n",
    "fig = plt.figure(figsize = (5,5))\n",
    "ax = plt.axes(projection='3d')\n",
    "\n",
    "ax.plot_surface(x, y, z,cmap='viridis', edgecolor='none')\n",
    "ax.set_title('Surface plot')\n",
    "plt.show()"
   ]
  },
  {
   "cell_type": "code",
   "execution_count": null,
   "id": "927a515d",
   "metadata": {
    "scrolled": true
   },
   "outputs": [],
   "source": [
    "TrainErr"
   ]
  },
  {
   "cell_type": "code",
   "execution_count": null,
   "id": "e9418ce1",
   "metadata": {},
   "outputs": [],
   "source": [
    "TestErr"
   ]
  },
  {
   "cell_type": "code",
   "execution_count": null,
   "id": "7efe9026",
   "metadata": {},
   "outputs": [],
   "source": [
    "X = np.array([i for i in range(10)])\n",
    "fig, ax = plt.subplots()\n",
    "Tr = plt.scatter(X, TrainErr, c = 'r')\n",
    "plt.plot(X, TrainErr, c = 'r')\n",
    "Te = plt.scatter(X, TestErr, c = 'b')\n",
    "plt.plot(X, TestErr, c = 'b')\n",
    "plt.legend((Tr,Te), ('Train','Test'))\n",
    "plt.show()"
   ]
  },
  {
   "cell_type": "code",
   "execution_count": null,
   "id": "89092c73",
   "metadata": {},
   "outputs": [],
   "source": []
  },
  {
   "cell_type": "code",
   "execution_count": null,
   "id": "13a7de2e",
   "metadata": {},
   "outputs": [],
   "source": [
    "iters = 300000\n",
    "learningRate = 0.01 #yeta or n\n",
    "costArr= np.zeros(iters+100)\n",
    "counterArr = np.zeros(iters+100)"
   ]
  },
  {
   "cell_type": "code",
   "execution_count": null,
   "id": "913a66c1",
   "metadata": {},
   "outputs": [],
   "source": [
    "TrainErr = np.array([])\n",
    "TestErr = np.array([])"
   ]
  },
  {
   "cell_type": "code",
   "execution_count": null,
   "id": "2402558f",
   "metadata": {},
   "outputs": [],
   "source": [
    "k = np.random.randint(low = 0, high = np.shape(valX)[0])\n",
    "k"
   ]
  },
  {
   "cell_type": "code",
   "execution_count": null,
   "id": "e18afbd6",
   "metadata": {},
   "outputs": [],
   "source": [
    "degree = 0"
   ]
  },
  {
   "cell_type": "code",
   "execution_count": null,
   "id": "d0a6ce1e",
   "metadata": {},
   "outputs": [],
   "source": [
    "wSize = int((degree+1)*(degree+2)/2)\n",
    "w = np.zeros(wSize) # similar template for others\n",
    "w1 = np.zeros(wSize)\n",
    "#print(w, '\\n', w1)\n",
    "\n",
    "counter = 0\n",
    "costArr= np.zeros(iters+1)\n",
    "counterArr = np.zeros(iters+1)\n",
    "for i in range(iters):\n",
    "    w2 = np.zeros(wSize)\n",
    "    w2 = ((valY[k,0]-np.sum(w*valX[k,:wSize]))*valX[k,:wSize])\n",
    "\n",
    "    w2 = w2/np.shape(valX)[0] #N\n",
    "    \n",
    "    w1 = w + learningRate*w2\n",
    "    w=w1\n",
    "    counter+=1\n",
    "    costArr[counter] = w2[0]\n",
    "    counterArr[counter] = counter\n",
    "\n",
    "   \n",
    "\n",
    "for i in range(np.shape(w)[0]):    \n",
    "    print(\"w\", i, \"=\", w[i], sep = '')\n",
    "\n",
    "np.shape(valX)[0]\n",
    " "
   ]
  },
  {
   "cell_type": "code",
   "execution_count": null,
   "id": "3e0f86f4",
   "metadata": {},
   "outputs": [],
   "source": [
    "fig,ax = plt.subplots()\n",
    "ax.plot(costArr[1:-1])\n",
    "plt.title(\"Gradient Descent method degree %d - del(E) values\"% degree, y = 1, pad = 30)\n",
    "plt.show() # the number of iterations are maxed out in the end,"
   ]
  },
  {
   "cell_type": "code",
   "execution_count": null,
   "id": "be2870d7",
   "metadata": {},
   "outputs": [],
   "source": [
    "# training data error\n",
    "w1 = 0\n",
    "for i in range(np.shape(valX)[0]):\n",
    "    w1+= (np.sum(w*valX[i,:wSize]) - valY[i,0])**2\n",
    "\n",
    "TrainErr = np.append(TrainErr,w1/(np.shape(valX)[0]*2))\n",
    "w1/np.shape(valX)[0]"
   ]
  },
  {
   "cell_type": "code",
   "execution_count": null,
   "id": "7c68e48d",
   "metadata": {},
   "outputs": [],
   "source": [
    "# testing data error\n",
    "testError = 0\n",
    "for i in range(np.shape(testXVal)[0]):\n",
    "    testError += (np.sum(w*testXVal[i,:wSize]) - testYVal[i,0])**2\n",
    "\n",
    "TestErr = np.append(TestErr,testError/(np.shape(testXVal)[0]*2))\n",
    "testError/np.shape(testXVal)[0]"
   ]
  },
  {
   "cell_type": "code",
   "execution_count": null,
   "id": "da1da03b",
   "metadata": {},
   "outputs": [],
   "source": [
    "degree = 1"
   ]
  },
  {
   "cell_type": "code",
   "execution_count": null,
   "id": "d5c3ff1c",
   "metadata": {},
   "outputs": [],
   "source": [
    "wSize = int((degree+1)*(degree+2)/2)\n",
    "w = np.zeros(wSize) # similar template for others\n",
    "w1 = np.zeros(wSize)\n",
    "#print(w, '\\n', w1)\n",
    "\n",
    "counter = 0\n",
    "costArr= np.zeros(iters+1)\n",
    "counterArr = np.zeros(iters+1)\n",
    "for i in range(iters):\n",
    "    w2 = np.zeros(wSize)\n",
    "    w2 = ((valY[k,0]-np.sum(w*valX[k,:wSize]))*valX[k,:wSize])\n",
    "\n",
    "    w2 = w2/np.shape(valX)[0] #N\n",
    "    \n",
    "    w1 = w + learningRate*w2\n",
    "    w=w1\n",
    "    counter+=1\n",
    "    costArr[counter] = w2[0]\n",
    "    counterArr[counter] = counter\n",
    "\n",
    "   \n",
    "\n",
    "for i in range(np.shape(w)[0]):    \n",
    "    print(\"w\", i, \"=\", w[i], sep = '')\n",
    "\n",
    "np.shape(valX)[0]\n",
    " "
   ]
  },
  {
   "cell_type": "code",
   "execution_count": null,
   "id": "868edbf8",
   "metadata": {},
   "outputs": [],
   "source": [
    "fig,ax = plt.subplots()\n",
    "ax.plot(costArr[1:-1])\n",
    "plt.title(\"Gradient Descent method degree %d - del(E) values\"% degree, y = 1, pad = 30)\n",
    "plt.show() # the number of iterations are maxed out in the end,"
   ]
  },
  {
   "cell_type": "code",
   "execution_count": null,
   "id": "58af4cec",
   "metadata": {},
   "outputs": [],
   "source": [
    "# training data error\n",
    "w1 = 0\n",
    "for i in range(np.shape(valX)[0]):\n",
    "    w1+= (np.sum(w*valX[i,:wSize]) - valY[i,0])**2\n",
    "\n",
    "TrainErr = np.append(TrainErr,w1/(np.shape(valX)[0]*2))\n",
    "w1/np.shape(valX)[0]"
   ]
  },
  {
   "cell_type": "code",
   "execution_count": null,
   "id": "125aa030",
   "metadata": {},
   "outputs": [],
   "source": [
    "# testing data error\n",
    "testError = 0\n",
    "for i in range(np.shape(testXVal)[0]):\n",
    "    testError += (np.sum(w*testXVal[i,:wSize]) - testYVal[i,0])**2\n",
    "\n",
    "TestErr = np.append(TestErr,testError/(np.shape(testXVal)[0]*2))\n",
    "testError/np.shape(testXVal)[0]"
   ]
  },
  {
   "cell_type": "code",
   "execution_count": null,
   "id": "a62e802e",
   "metadata": {},
   "outputs": [],
   "source": [
    "degree = 2"
   ]
  },
  {
   "cell_type": "code",
   "execution_count": null,
   "id": "9c601ce3",
   "metadata": {},
   "outputs": [],
   "source": [
    "wSize = int((degree+1)*(degree+2)/2)\n",
    "w = np.zeros(wSize) # similar template for others\n",
    "w1 = np.zeros(wSize)\n",
    "#print(w, '\\n', w1)\n",
    "\n",
    "counter = 0\n",
    "costArr= np.zeros(iters+1)\n",
    "counterArr = np.zeros(iters+1)\n",
    "for i in range(iters):\n",
    "    w2 = np.zeros(wSize)\n",
    "    w2 = ((valY[k,0]-np.sum(w*valX[k,:wSize]))*valX[k,:wSize])\n",
    "\n",
    "    w2 = w2/np.shape(valX)[0] #N\n",
    "    \n",
    "    w1 = w + learningRate*w2\n",
    "    w=w1\n",
    "    counter+=1\n",
    "    costArr[counter] = w2[0]\n",
    "    counterArr[counter] = counter\n",
    "\n",
    "   \n",
    "\n",
    "for i in range(np.shape(w)[0]):    \n",
    "    print(\"w\", i, \"=\", w[i], sep = '')\n",
    "\n",
    "np.shape(valX)[0]\n",
    " "
   ]
  },
  {
   "cell_type": "code",
   "execution_count": null,
   "id": "572d5e05",
   "metadata": {},
   "outputs": [],
   "source": [
    "fig,ax = plt.subplots()\n",
    "ax.plot(costArr[1:-1])\n",
    "plt.title(\"Gradient Descent method degree %d - del(E) values\"% degree, y = 1, pad = 30)\n",
    "plt.show() # the number of iterations are maxed out in the end,"
   ]
  },
  {
   "cell_type": "code",
   "execution_count": null,
   "id": "b495363e",
   "metadata": {},
   "outputs": [],
   "source": [
    "# training data error\n",
    "w1 = 0\n",
    "for i in range(np.shape(valX)[0]):\n",
    "    w1+= (np.sum(w*valX[i,:wSize]) - valY[i,0])**2\n",
    "\n",
    "TrainErr = np.append(TrainErr,w1/(np.shape(valX)[0]*2))\n",
    "w1/np.shape(valX)[0]"
   ]
  },
  {
   "cell_type": "code",
   "execution_count": null,
   "id": "6435048c",
   "metadata": {},
   "outputs": [],
   "source": [
    "# testing data error\n",
    "testError = 0\n",
    "for i in range(np.shape(testXVal)[0]):\n",
    "    testError += (np.sum(w*testXVal[i,:wSize]) - testYVal[i,0])**2\n",
    "\n",
    "TestErr = np.append(TestErr,testError/(np.shape(testXVal)[0]*2))\n",
    "testError/np.shape(testXVal)[0]"
   ]
  },
  {
   "cell_type": "code",
   "execution_count": null,
   "id": "ad4cc072",
   "metadata": {},
   "outputs": [],
   "source": [
    "degree = 3"
   ]
  },
  {
   "cell_type": "code",
   "execution_count": null,
   "id": "89c2807e",
   "metadata": {},
   "outputs": [],
   "source": [
    "wSize = int((degree+1)*(degree+2)/2)\n",
    "w = np.zeros(wSize) # similar template for others\n",
    "w1 = np.zeros(wSize)\n",
    "#print(w, '\\n', w1)\n",
    "\n",
    "counter = 0\n",
    "costArr= np.zeros(iters+1)\n",
    "counterArr = np.zeros(iters+1)\n",
    "for i in range(iters):\n",
    "    w2 = np.zeros(wSize)\n",
    "    w2 = ((valY[k,0]-np.sum(w*valX[k,:wSize]))*valX[k,:wSize])\n",
    "\n",
    "    w2 = w2/np.shape(valX)[0] #N\n",
    "    \n",
    "    w1 = w + learningRate*w2\n",
    "    w=w1\n",
    "    counter+=1\n",
    "    costArr[counter] = w2[0]\n",
    "    counterArr[counter] = counter\n",
    "\n",
    "   \n",
    "\n",
    "for i in range(np.shape(w)[0]):    \n",
    "    print(\"w\", i, \"=\", w[i], sep = '')\n",
    "\n",
    "np.shape(valX)[0]\n",
    " "
   ]
  },
  {
   "cell_type": "code",
   "execution_count": null,
   "id": "14c685a9",
   "metadata": {},
   "outputs": [],
   "source": [
    "fig,ax = plt.subplots()\n",
    "ax.plot(costArr[1:-1])\n",
    "plt.title(\"Gradient Descent method degree %d - del(E) values\"% degree, y = 1, pad = 30)\n",
    "plt.show() # the number of iterations are maxed out in the end,"
   ]
  },
  {
   "cell_type": "code",
   "execution_count": null,
   "id": "c283de48",
   "metadata": {},
   "outputs": [],
   "source": [
    "# training data error\n",
    "w1 = 0\n",
    "for i in range(np.shape(valX)[0]):\n",
    "    w1+= (np.sum(w*valX[i,:wSize]) - valY[i,0])**2\n",
    "\n",
    "TrainErr = np.append(TrainErr,w1/(np.shape(valX)[0]*2))\n",
    "w1/np.shape(valX)[0]"
   ]
  },
  {
   "cell_type": "code",
   "execution_count": null,
   "id": "c6aa8a3f",
   "metadata": {},
   "outputs": [],
   "source": [
    "# testing data error\n",
    "testError = 0\n",
    "for i in range(np.shape(testXVal)[0]):\n",
    "    testError += (np.sum(w*testXVal[i,:wSize]) - testYVal[i,0])**2\n",
    "\n",
    "TestErr = np.append(TestErr,testError/(np.shape(testXVal)[0]*2))\n",
    "testError/np.shape(testXVal)[0]"
   ]
  },
  {
   "cell_type": "code",
   "execution_count": null,
   "id": "78ff4dd9",
   "metadata": {},
   "outputs": [],
   "source": [
    "degree = 4"
   ]
  },
  {
   "cell_type": "code",
   "execution_count": null,
   "id": "da29aed2",
   "metadata": {},
   "outputs": [],
   "source": [
    "wSize = int((degree+1)*(degree+2)/2)\n",
    "w = np.zeros(wSize) # similar template for others\n",
    "w1 = np.zeros(wSize)\n",
    "#print(w, '\\n', w1)\n",
    "\n",
    "counter = 0\n",
    "costArr= np.zeros(iters+1)\n",
    "counterArr = np.zeros(iters+1)\n",
    "for i in range(iters):\n",
    "    w2 = np.zeros(wSize)\n",
    "    w2 = ((valY[k,0]-np.sum(w*valX[k,:wSize]))*valX[k,:wSize])\n",
    "\n",
    "    w2 = w2/np.shape(valX)[0] #N\n",
    "    \n",
    "    w1 = w + learningRate*w2\n",
    "    w=w1\n",
    "    counter+=1\n",
    "    costArr[counter] = w2[0]\n",
    "    counterArr[counter] = counter\n",
    "\n",
    "   \n",
    "\n",
    "for i in range(np.shape(w)[0]):    \n",
    "    print(\"w\", i, \"=\", w[i], sep = '')\n",
    "\n",
    "np.shape(valX)[0]\n",
    " "
   ]
  },
  {
   "cell_type": "code",
   "execution_count": null,
   "id": "bc1258d4",
   "metadata": {},
   "outputs": [],
   "source": [
    "fig,ax = plt.subplots()\n",
    "ax.plot(costArr[1:-1])\n",
    "plt.title(\"Gradient Descent method degree %d - del(E) values\"% degree, y = 1, pad = 30)\n",
    "plt.show() # the number of iterations are maxed out in the end,"
   ]
  },
  {
   "cell_type": "code",
   "execution_count": null,
   "id": "93a53790",
   "metadata": {},
   "outputs": [],
   "source": [
    "# training data error\n",
    "w1 = 0\n",
    "for i in range(np.shape(valX)[0]):\n",
    "    w1+= (np.sum(w*valX[i,:wSize]) - valY[i,0])**2\n",
    "\n",
    "TrainErr = np.append(TrainErr,w1/(np.shape(valX)[0]*2))\n",
    "w1/np.shape(valX)[0]"
   ]
  },
  {
   "cell_type": "code",
   "execution_count": null,
   "id": "8c69ef5f",
   "metadata": {},
   "outputs": [],
   "source": [
    "# testing data error\n",
    "testError = 0\n",
    "for i in range(np.shape(testXVal)[0]):\n",
    "    testError += (np.sum(w*testXVal[i,:wSize]) - testYVal[i,0])**2\n",
    "\n",
    "TestErr = np.append(TestErr,testError/(np.shape(testXVal)[0]*2))\n",
    "testError/np.shape(testXVal)[0]"
   ]
  },
  {
   "cell_type": "code",
   "execution_count": null,
   "id": "5d936478",
   "metadata": {},
   "outputs": [],
   "source": [
    "degree = 5"
   ]
  },
  {
   "cell_type": "code",
   "execution_count": null,
   "id": "5fae0263",
   "metadata": {},
   "outputs": [],
   "source": [
    "wSize = int((degree+1)*(degree+2)/2)\n",
    "w = np.zeros(wSize) # similar template for others\n",
    "w1 = np.zeros(wSize)\n",
    "#print(w, '\\n', w1)\n",
    "\n",
    "counter = 0\n",
    "costArr= np.zeros(iters+1)\n",
    "counterArr = np.zeros(iters+1)\n",
    "for i in range(iters):\n",
    "    w2 = np.zeros(wSize)\n",
    "    w2 = ((valY[k,0]-np.sum(w*valX[k,:wSize]))*valX[k,:wSize])\n",
    "\n",
    "    w2 = w2/np.shape(valX)[0] #N\n",
    "    \n",
    "    w1 = w + learningRate*w2\n",
    "    w=w1\n",
    "    counter+=1\n",
    "    costArr[counter] = w2[0]\n",
    "    counterArr[counter] = counter\n",
    "\n",
    "   \n",
    "\n",
    "for i in range(np.shape(w)[0]):    \n",
    "    print(\"w\", i, \"=\", w[i], sep = '')\n",
    "\n",
    "np.shape(valX)[0]\n",
    " "
   ]
  },
  {
   "cell_type": "code",
   "execution_count": null,
   "id": "b94dbf56",
   "metadata": {},
   "outputs": [],
   "source": [
    "fig,ax = plt.subplots()\n",
    "ax.plot(costArr[1:-1])\n",
    "plt.title(\"Gradient Descent method degree %d - del(E) values\"% degree, y = 1, pad = 30)\n",
    "plt.show() # the number of iterations are maxed out in the end,"
   ]
  },
  {
   "cell_type": "code",
   "execution_count": null,
   "id": "88de065f",
   "metadata": {},
   "outputs": [],
   "source": [
    "# training data error\n",
    "w1 = 0\n",
    "for i in range(np.shape(valX)[0]):\n",
    "    w1+= (np.sum(w*valX[i,:wSize]) - valY[i,0])**2\n",
    "\n",
    "TrainErr = np.append(TrainErr,w1/(np.shape(valX)[0]*2))\n",
    "w1/np.shape(valX)[0]"
   ]
  },
  {
   "cell_type": "code",
   "execution_count": null,
   "id": "9f2e9414",
   "metadata": {},
   "outputs": [],
   "source": [
    "# testing data error\n",
    "testError = 0\n",
    "for i in range(np.shape(testXVal)[0]):\n",
    "    testError += (np.sum(w*testXVal[i,:wSize]) - testYVal[i,0])**2\n",
    "\n",
    "TestErr = np.append(TestErr,testError/(np.shape(testXVal)[0]*2))\n",
    "testError/np.shape(testXVal)[0]"
   ]
  },
  {
   "cell_type": "code",
   "execution_count": null,
   "id": "d8678f67",
   "metadata": {},
   "outputs": [],
   "source": [
    "degree = 6"
   ]
  },
  {
   "cell_type": "code",
   "execution_count": null,
   "id": "103e2206",
   "metadata": {},
   "outputs": [],
   "source": [
    "wSize = int((degree+1)*(degree+2)/2)\n",
    "w = np.zeros(wSize) # similar template for others\n",
    "w1 = np.zeros(wSize)\n",
    "#print(w, '\\n', w1)\n",
    "\n",
    "counter = 0\n",
    "costArr= np.zeros(iters+1)\n",
    "counterArr = np.zeros(iters+1)\n",
    "for i in range(iters):\n",
    "    w2 = np.zeros(wSize)\n",
    "    w2 = ((valY[k,0]-np.sum(w*valX[k,:wSize]))*valX[k,:wSize])\n",
    "\n",
    "    w2 = w2/np.shape(valX)[0] #N\n",
    "    \n",
    "    w1 = w + learningRate*w2\n",
    "    w=w1\n",
    "    counter+=1\n",
    "    costArr[counter] = w2[0]\n",
    "    counterArr[counter] = counter\n",
    "\n",
    "   \n",
    "\n",
    "for i in range(np.shape(w)[0]):    \n",
    "    print(\"w\", i, \"=\", w[i], sep = '')\n",
    "\n",
    "np.shape(valX)[0]\n",
    " "
   ]
  },
  {
   "cell_type": "code",
   "execution_count": null,
   "id": "318b1775",
   "metadata": {},
   "outputs": [],
   "source": [
    "fig,ax = plt.subplots()\n",
    "ax.plot(costArr[1:-1])\n",
    "plt.title(\"Gradient Descent method degree %d - del(E) values\"% degree, y = 1, pad = 30)\n",
    "plt.show() # the number of iterations are maxed out in the end,"
   ]
  },
  {
   "cell_type": "code",
   "execution_count": null,
   "id": "a3f72fea",
   "metadata": {},
   "outputs": [],
   "source": [
    "# training data error\n",
    "w1 = 0\n",
    "for i in range(np.shape(valX)[0]):\n",
    "    w1+= (np.sum(w*valX[i,:wSize]) - valY[i,0])**2\n",
    "\n",
    "TrainErr = np.append(TrainErr,w1/(np.shape(valX)[0]*2))\n",
    "w1/np.shape(valX)[0]"
   ]
  },
  {
   "cell_type": "code",
   "execution_count": null,
   "id": "79cb1cee",
   "metadata": {},
   "outputs": [],
   "source": [
    "# testing data error\n",
    "testError = 0\n",
    "for i in range(np.shape(testXVal)[0]):\n",
    "    testError += (np.sum(w*testXVal[i,:wSize]) - testYVal[i,0])**2\n",
    "\n",
    "TestErr = np.append(TestErr,testError/(np.shape(testXVal)[0]*2))\n",
    "testError/np.shape(testXVal)[0]"
   ]
  },
  {
   "cell_type": "code",
   "execution_count": null,
   "id": "ffccaced",
   "metadata": {},
   "outputs": [],
   "source": [
    "degree = 7"
   ]
  },
  {
   "cell_type": "code",
   "execution_count": null,
   "id": "ca1a972f",
   "metadata": {},
   "outputs": [],
   "source": [
    "wSize = int((degree+1)*(degree+2)/2)\n",
    "w = np.zeros(wSize) # similar template for others\n",
    "w1 = np.zeros(wSize)\n",
    "#print(w, '\\n', w1)\n",
    "\n",
    "counter = 0\n",
    "costArr= np.zeros(iters+1)\n",
    "counterArr = np.zeros(iters+1)\n",
    "for i in range(iters):\n",
    "    w2 = np.zeros(wSize)\n",
    "    w2 = ((valY[k,0]-np.sum(w*valX[k,:wSize]))*valX[k,:wSize])\n",
    "\n",
    "    w2 = w2/np.shape(valX)[0] #N\n",
    "    \n",
    "    w1 = w + learningRate*w2\n",
    "    w=w1\n",
    "    counter+=1\n",
    "    costArr[counter] = w2[0]\n",
    "    counterArr[counter] = counter\n",
    "\n",
    "   \n",
    "\n",
    "for i in range(np.shape(w)[0]):    \n",
    "    print(\"w\", i, \"=\", w[i], sep = '')\n",
    "\n",
    "np.shape(valX)[0]\n",
    " "
   ]
  },
  {
   "cell_type": "code",
   "execution_count": null,
   "id": "7fe4a333",
   "metadata": {},
   "outputs": [],
   "source": [
    "fig,ax = plt.subplots()\n",
    "ax.plot(costArr[1:-1])\n",
    "plt.title(\"Gradient Descent method degree %d - del(E) values\"% degree, y = 1, pad = 30)\n",
    "plt.show() # the number of iterations are maxed out in the end,"
   ]
  },
  {
   "cell_type": "code",
   "execution_count": null,
   "id": "ca5a49db",
   "metadata": {},
   "outputs": [],
   "source": [
    "# training data error\n",
    "w1 = 0\n",
    "for i in range(np.shape(valX)[0]):\n",
    "    w1+= (np.sum(w*valX[i,:wSize]) - valY[i,0])**2\n",
    "\n",
    "TrainErr = np.append(TrainErr,w1/(np.shape(valX)[0]*2))\n",
    "w1/np.shape(valX)[0]"
   ]
  },
  {
   "cell_type": "code",
   "execution_count": null,
   "id": "204879bb",
   "metadata": {},
   "outputs": [],
   "source": [
    "# testing data error\n",
    "testError = 0\n",
    "for i in range(np.shape(testXVal)[0]):\n",
    "    testError += (np.sum(w*testXVal[i,:wSize]) - testYVal[i,0])**2\n",
    "\n",
    "TestErr = np.append(TestErr,testError/(np.shape(testXVal)[0]*2))\n",
    "testError/np.shape(testXVal)[0]"
   ]
  },
  {
   "cell_type": "code",
   "execution_count": null,
   "id": "5dfa6411",
   "metadata": {},
   "outputs": [],
   "source": [
    "degree = 8"
   ]
  },
  {
   "cell_type": "code",
   "execution_count": null,
   "id": "b5e749e3",
   "metadata": {},
   "outputs": [],
   "source": [
    "wSize = int((degree+1)*(degree+2)/2)\n",
    "w = np.zeros(wSize) # similar template for others\n",
    "w1 = np.zeros(wSize)\n",
    "#print(w, '\\n', w1)\n",
    "\n",
    "counter = 0\n",
    "costArr= np.zeros(iters+1)\n",
    "counterArr = np.zeros(iters+1)\n",
    "for i in range(iters):\n",
    "    w2 = np.zeros(wSize)\n",
    "    w2 = ((valY[k,0]-np.sum(w*valX[k,:wSize]))*valX[k,:wSize])\n",
    "\n",
    "    w2 = w2/np.shape(valX)[0] #N\n",
    "    \n",
    "    w1 = w + learningRate*w2\n",
    "    w=w1\n",
    "    counter+=1\n",
    "    costArr[counter] = w2[0]\n",
    "    counterArr[counter] = counter\n",
    "\n",
    "   \n",
    "\n",
    "for i in range(np.shape(w)[0]):    \n",
    "    print(\"w\", i, \"=\", w[i], sep = '')\n",
    "\n",
    "np.shape(valX)[0]\n",
    " "
   ]
  },
  {
   "cell_type": "code",
   "execution_count": null,
   "id": "3704640e",
   "metadata": {},
   "outputs": [],
   "source": [
    "fig,ax = plt.subplots()\n",
    "ax.plot(costArr[1:-1])\n",
    "plt.title(\"Gradient Descent method degree %d - del(E) values\"% degree, y = 1, pad = 30)\n",
    "plt.show() # the number of iterations are maxed out in the end,"
   ]
  },
  {
   "cell_type": "code",
   "execution_count": null,
   "id": "6905a863",
   "metadata": {},
   "outputs": [],
   "source": [
    "# training data error\n",
    "w1 = 0\n",
    "for i in range(np.shape(valX)[0]):\n",
    "    w1+= (np.sum(w*valX[i,:wSize]) - valY[i,0])**2\n",
    "\n",
    "TrainErr = np.append(TrainErr,w1/(np.shape(valX)[0]*2))\n",
    "w1/np.shape(valX)[0]"
   ]
  },
  {
   "cell_type": "code",
   "execution_count": null,
   "id": "a47f1f97",
   "metadata": {},
   "outputs": [],
   "source": [
    "# testing data error\n",
    "testError = 0\n",
    "for i in range(np.shape(testXVal)[0]):\n",
    "    testError += (np.sum(w*testXVal[i,:wSize]) - testYVal[i,0])**2\n",
    "\n",
    "TestErr = np.append(TestErr,testError/(np.shape(testXVal)[0]*2))\n",
    "testError/np.shape(testXVal)[0]"
   ]
  },
  {
   "cell_type": "code",
   "execution_count": null,
   "id": "04af674f",
   "metadata": {},
   "outputs": [],
   "source": [
    "degree = 9"
   ]
  },
  {
   "cell_type": "code",
   "execution_count": null,
   "id": "a6d8d5b1",
   "metadata": {},
   "outputs": [],
   "source": [
    "wSize = int((degree+1)*(degree+2)/2)\n",
    "w = np.zeros(wSize) # similar template for others\n",
    "w1 = np.zeros(wSize)\n",
    "#print(w, '\\n', w1)\n",
    "\n",
    "counter = 0\n",
    "costArr= np.zeros(iters+1)\n",
    "counterArr = np.zeros(iters+1)\n",
    "for i in range(iters):\n",
    "    w2 = np.zeros(wSize)\n",
    "    w2 = ((valY[k,0]-np.sum(w*valX[k,:wSize]))*valX[k,:wSize])\n",
    "\n",
    "    w2 = w2/np.shape(valX)[0] #N\n",
    "    \n",
    "    w1 = w + learningRate*w2\n",
    "    w=w1\n",
    "    counter+=1\n",
    "    costArr[counter] = w2[0]\n",
    "    counterArr[counter] = counter\n",
    "\n",
    "   \n",
    "\n",
    "for i in range(np.shape(w)[0]):    \n",
    "    print(\"w\", i, \"=\", w[i], sep = '')\n",
    "\n",
    "np.shape(valX)[0]\n",
    " "
   ]
  },
  {
   "cell_type": "code",
   "execution_count": null,
   "id": "c45dd189",
   "metadata": {},
   "outputs": [],
   "source": [
    "fig,ax = plt.subplots()\n",
    "ax.plot(costArr[1:-1])\n",
    "plt.title(\"Gradient Descent method degree %d - del(E) values\"% degree, y = 1, pad = 30)\n",
    "plt.show() # the number of iterations are maxed out in the end,"
   ]
  },
  {
   "cell_type": "code",
   "execution_count": null,
   "id": "64578fbb",
   "metadata": {},
   "outputs": [],
   "source": [
    "# training data error\n",
    "w1 = 0\n",
    "for i in range(np.shape(valX)[0]):\n",
    "    w1+= (np.sum(w*valX[i,:wSize]) - valY[i,0])**2\n",
    "\n",
    "TrainErr = np.append(TrainErr,w1/(np.shape(valX)[0]*2))\n",
    "w1/np.shape(valX)[0]"
   ]
  },
  {
   "cell_type": "code",
   "execution_count": null,
   "id": "8ab9ee54",
   "metadata": {},
   "outputs": [],
   "source": [
    "# testing data error\n",
    "testError = 0\n",
    "for i in range(np.shape(testXVal)[0]):\n",
    "    testError += (np.sum(w*testXVal[i,:wSize]) - testYVal[i,0])**2\n",
    "\n",
    "TestErr = np.append(TestErr,testError/(np.shape(testXVal)[0]*2))\n",
    "testError/np.shape(testXVal)[0]"
   ]
  },
  {
   "cell_type": "code",
   "execution_count": null,
   "id": "2732663b",
   "metadata": {
    "scrolled": true
   },
   "outputs": [],
   "source": [
    "TrainErr"
   ]
  },
  {
   "cell_type": "code",
   "execution_count": null,
   "id": "919092c2",
   "metadata": {},
   "outputs": [],
   "source": [
    "TestErr"
   ]
  },
  {
   "cell_type": "code",
   "execution_count": null,
   "id": "ada82336",
   "metadata": {},
   "outputs": [],
   "source": [
    "X = np.array([i for i in range(10)])\n",
    "fig, ax = plt.subplots()\n",
    "Tr = plt.scatter(X, TrainErr, c = 'r')\n",
    "plt.plot(X, TrainErr, c = 'r')\n",
    "Te = plt.scatter(X, TestErr, c = 'b')\n",
    "plt.plot(X, TestErr, c = 'b')\n",
    "plt.legend((Tr,Te), ('Train','Test'))\n",
    "plt.show()"
   ]
  },
  {
   "cell_type": "code",
   "execution_count": null,
   "id": "6eab0d31",
   "metadata": {},
   "outputs": [],
   "source": []
  }
 ],
 "metadata": {
  "kernelspec": {
   "display_name": "Python 3 (ipykernel)",
   "language": "python",
   "name": "python3"
  },
  "language_info": {
   "codemirror_mode": {
    "name": "ipython",
    "version": 3
   },
   "file_extension": ".py",
   "mimetype": "text/x-python",
   "name": "python",
   "nbconvert_exporter": "python",
   "pygments_lexer": "ipython3",
   "version": "3.9.12"
  }
 },
 "nbformat": 4,
 "nbformat_minor": 5
}
