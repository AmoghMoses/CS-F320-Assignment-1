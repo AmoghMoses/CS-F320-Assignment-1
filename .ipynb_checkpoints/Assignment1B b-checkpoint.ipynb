{
 "cells": [
  {
   "cell_type": "code",
   "execution_count": 1,
   "id": "4d67eca0",
   "metadata": {},
   "outputs": [
    {
     "name": "stdout",
     "output_type": "stream",
     "text": [
      "Success\n"
     ]
    }
   ],
   "source": [
    "import pandas as pd\n",
    "import numpy as np\n",
    "import matplotlib.pyplot as plt\n",
    "from sklearn import tree\n",
    "from sklearn.model_selection import train_test_split\n",
    "from sklearn.tree import DecisionTreeRegressor\n",
    "from sklearn.preprocessing import StandardScaler\n",
    "from sklearn.linear_model import LinearRegression\n",
    "print(\"Success\")"
   ]
  },
  {
   "cell_type": "code",
   "execution_count": 2,
   "id": "a2b4e8a6",
   "metadata": {
    "scrolled": false
   },
   "outputs": [
    {
     "data": {
      "text/html": [
       "<div>\n",
       "<style scoped>\n",
       "    .dataframe tbody tr th:only-of-type {\n",
       "        vertical-align: middle;\n",
       "    }\n",
       "\n",
       "    .dataframe tbody tr th {\n",
       "        vertical-align: top;\n",
       "    }\n",
       "\n",
       "    .dataframe thead th {\n",
       "        text-align: right;\n",
       "    }\n",
       "</style>\n",
       "<table border=\"1\" class=\"dataframe\">\n",
       "  <thead>\n",
       "    <tr style=\"text-align: right;\">\n",
       "      <th></th>\n",
       "      <th>MLOGP</th>\n",
       "      <th>RDCHI</th>\n",
       "      <th>quantitative response of LC50</th>\n",
       "    </tr>\n",
       "  </thead>\n",
       "  <tbody>\n",
       "    <tr>\n",
       "      <th>0</th>\n",
       "      <td>2.419</td>\n",
       "      <td>1.225</td>\n",
       "      <td>3.740</td>\n",
       "    </tr>\n",
       "    <tr>\n",
       "      <th>1</th>\n",
       "      <td>2.638</td>\n",
       "      <td>1.401</td>\n",
       "      <td>4.330</td>\n",
       "    </tr>\n",
       "    <tr>\n",
       "      <th>2</th>\n",
       "      <td>5.799</td>\n",
       "      <td>2.930</td>\n",
       "      <td>7.019</td>\n",
       "    </tr>\n",
       "    <tr>\n",
       "      <th>3</th>\n",
       "      <td>5.453</td>\n",
       "      <td>2.887</td>\n",
       "      <td>6.723</td>\n",
       "    </tr>\n",
       "    <tr>\n",
       "      <th>4</th>\n",
       "      <td>4.068</td>\n",
       "      <td>2.758</td>\n",
       "      <td>5.979</td>\n",
       "    </tr>\n",
       "    <tr>\n",
       "      <th>...</th>\n",
       "      <td>...</td>\n",
       "      <td>...</td>\n",
       "      <td>...</td>\n",
       "    </tr>\n",
       "    <tr>\n",
       "      <th>541</th>\n",
       "      <td>3.326</td>\n",
       "      <td>2.837</td>\n",
       "      <td>4.651</td>\n",
       "    </tr>\n",
       "    <tr>\n",
       "      <th>542</th>\n",
       "      <td>3.275</td>\n",
       "      <td>2.727</td>\n",
       "      <td>3.953</td>\n",
       "    </tr>\n",
       "    <tr>\n",
       "      <th>543</th>\n",
       "      <td>5.165</td>\n",
       "      <td>3.111</td>\n",
       "      <td>6.219</td>\n",
       "    </tr>\n",
       "    <tr>\n",
       "      <th>544</th>\n",
       "      <td>2.859</td>\n",
       "      <td>2.614</td>\n",
       "      <td>4.995</td>\n",
       "    </tr>\n",
       "    <tr>\n",
       "      <th>545</th>\n",
       "      <td>2.255</td>\n",
       "      <td>1.800</td>\n",
       "      <td>2.480</td>\n",
       "    </tr>\n",
       "  </tbody>\n",
       "</table>\n",
       "<p>546 rows × 3 columns</p>\n",
       "</div>"
      ],
      "text/plain": [
       "     MLOGP  RDCHI  quantitative response of LC50\n",
       "0    2.419  1.225                          3.740\n",
       "1    2.638  1.401                          4.330\n",
       "2    5.799  2.930                          7.019\n",
       "3    5.453  2.887                          6.723\n",
       "4    4.068  2.758                          5.979\n",
       "..     ...    ...                            ...\n",
       "541  3.326  2.837                          4.651\n",
       "542  3.275  2.727                          3.953\n",
       "543  5.165  3.111                          6.219\n",
       "544  2.859  2.614                          4.995\n",
       "545  2.255  1.800                          2.480\n",
       "\n",
       "[546 rows x 3 columns]"
      ]
     },
     "execution_count": 2,
     "metadata": {},
     "output_type": "execute_result"
    }
   ],
   "source": [
    "df = pd.read_csv('fods_1.csv')\n",
    "df"
   ]
  },
  {
   "cell_type": "code",
   "execution_count": 3,
   "id": "3bed213f",
   "metadata": {},
   "outputs": [
    {
     "name": "stdout",
     "output_type": "stream",
     "text": [
      "2.3134926739926738 2.4922985347985356 4.6584212454212475 1.741797285664983 0.8110039291512505 1.6652150617992907\n"
     ]
    }
   ],
   "source": [
    "meanX1 = df['MLOGP'].mean()\n",
    "meanX2 = df['RDCHI'].mean()\n",
    "meanY = df['quantitative response of LC50'].mean()\n",
    "stdX1 = df['MLOGP'].std()\n",
    "stdX2 = df['RDCHI'].std()\n",
    "stdY = df['quantitative response of LC50'].std()\n",
    "print(meanX1, meanX2, meanY, stdX1, stdX2, stdY)"
   ]
  },
  {
   "cell_type": "code",
   "execution_count": 4,
   "id": "45c034ec",
   "metadata": {
    "scrolled": false
   },
   "outputs": [
    {
     "data": {
      "text/html": [
       "<div>\n",
       "<style scoped>\n",
       "    .dataframe tbody tr th:only-of-type {\n",
       "        vertical-align: middle;\n",
       "    }\n",
       "\n",
       "    .dataframe tbody tr th {\n",
       "        vertical-align: top;\n",
       "    }\n",
       "\n",
       "    .dataframe thead th {\n",
       "        text-align: right;\n",
       "    }\n",
       "</style>\n",
       "<table border=\"1\" class=\"dataframe\">\n",
       "  <thead>\n",
       "    <tr style=\"text-align: right;\">\n",
       "      <th></th>\n",
       "      <th>MLOGP</th>\n",
       "      <th>RDCHI</th>\n",
       "      <th>quantitative response of LC50</th>\n",
       "    </tr>\n",
       "  </thead>\n",
       "  <tbody>\n",
       "    <tr>\n",
       "      <th>0</th>\n",
       "      <td>0.060574</td>\n",
       "      <td>-1.562629</td>\n",
       "      <td>-0.551533</td>\n",
       "    </tr>\n",
       "    <tr>\n",
       "      <th>1</th>\n",
       "      <td>0.186306</td>\n",
       "      <td>-1.345614</td>\n",
       "      <td>-0.197225</td>\n",
       "    </tr>\n",
       "    <tr>\n",
       "      <th>2</th>\n",
       "      <td>2.001098</td>\n",
       "      <td>0.539703</td>\n",
       "      <td>1.417582</td>\n",
       "    </tr>\n",
       "    <tr>\n",
       "      <th>3</th>\n",
       "      <td>1.802453</td>\n",
       "      <td>0.486683</td>\n",
       "      <td>1.239827</td>\n",
       "    </tr>\n",
       "    <tr>\n",
       "      <th>4</th>\n",
       "      <td>1.007297</td>\n",
       "      <td>0.327620</td>\n",
       "      <td>0.793038</td>\n",
       "    </tr>\n",
       "    <tr>\n",
       "      <th>...</th>\n",
       "      <td>...</td>\n",
       "      <td>...</td>\n",
       "      <td>...</td>\n",
       "    </tr>\n",
       "    <tr>\n",
       "      <th>541</th>\n",
       "      <td>0.581300</td>\n",
       "      <td>0.425031</td>\n",
       "      <td>-0.004457</td>\n",
       "    </tr>\n",
       "    <tr>\n",
       "      <th>542</th>\n",
       "      <td>0.552020</td>\n",
       "      <td>0.289396</td>\n",
       "      <td>-0.423622</td>\n",
       "    </tr>\n",
       "    <tr>\n",
       "      <th>543</th>\n",
       "      <td>1.637106</td>\n",
       "      <td>0.762883</td>\n",
       "      <td>0.937163</td>\n",
       "    </tr>\n",
       "    <tr>\n",
       "      <th>544</th>\n",
       "      <td>0.313186</td>\n",
       "      <td>0.150063</td>\n",
       "      <td>0.202123</td>\n",
       "    </tr>\n",
       "    <tr>\n",
       "      <th>545</th>\n",
       "      <td>-0.033582</td>\n",
       "      <td>-0.853632</td>\n",
       "      <td>-1.308192</td>\n",
       "    </tr>\n",
       "  </tbody>\n",
       "</table>\n",
       "<p>546 rows × 3 columns</p>\n",
       "</div>"
      ],
      "text/plain": [
       "        MLOGP     RDCHI  quantitative response of LC50\n",
       "0    0.060574 -1.562629                      -0.551533\n",
       "1    0.186306 -1.345614                      -0.197225\n",
       "2    2.001098  0.539703                       1.417582\n",
       "3    1.802453  0.486683                       1.239827\n",
       "4    1.007297  0.327620                       0.793038\n",
       "..        ...       ...                            ...\n",
       "541  0.581300  0.425031                      -0.004457\n",
       "542  0.552020  0.289396                      -0.423622\n",
       "543  1.637106  0.762883                       0.937163\n",
       "544  0.313186  0.150063                       0.202123\n",
       "545 -0.033582 -0.853632                      -1.308192\n",
       "\n",
       "[546 rows x 3 columns]"
      ]
     },
     "execution_count": 4,
     "metadata": {},
     "output_type": "execute_result"
    }
   ],
   "source": [
    "# standardization\n",
    "df['MLOGP'] = (df['MLOGP'] - meanX1)/stdX1\n",
    "df['RDCHI'] = (df['RDCHI'] - meanX2)/stdX2\n",
    "df['quantitative response of LC50'] = (df['quantitative response of LC50'] - meanY)/stdY\n",
    "df"
   ]
  },
  {
   "cell_type": "code",
   "execution_count": 5,
   "id": "47c9de65",
   "metadata": {},
   "outputs": [
    {
     "data": {
      "text/plain": [
       "MLOGP                            0\n",
       "RDCHI                            0\n",
       "quantitative response of LC50    0\n",
       "dtype: int64"
      ]
     },
     "execution_count": 5,
     "metadata": {},
     "output_type": "execute_result"
    }
   ],
   "source": [
    "df.isnull().sum()"
   ]
  },
  {
   "cell_type": "code",
   "execution_count": 6,
   "id": "827d288f",
   "metadata": {},
   "outputs": [
    {
     "data": {
      "text/html": [
       "<div>\n",
       "<style scoped>\n",
       "    .dataframe tbody tr th:only-of-type {\n",
       "        vertical-align: middle;\n",
       "    }\n",
       "\n",
       "    .dataframe tbody tr th {\n",
       "        vertical-align: top;\n",
       "    }\n",
       "\n",
       "    .dataframe thead th {\n",
       "        text-align: right;\n",
       "    }\n",
       "</style>\n",
       "<table border=\"1\" class=\"dataframe\">\n",
       "  <thead>\n",
       "    <tr style=\"text-align: right;\">\n",
       "      <th></th>\n",
       "      <th>MLOGP</th>\n",
       "      <th>RDCHI</th>\n",
       "      <th>quantitative response of LC50</th>\n",
       "    </tr>\n",
       "  </thead>\n",
       "  <tbody>\n",
       "    <tr>\n",
       "      <th>395</th>\n",
       "      <td>-0.400444</td>\n",
       "      <td>0.589025</td>\n",
       "      <td>-0.294509</td>\n",
       "    </tr>\n",
       "    <tr>\n",
       "      <th>275</th>\n",
       "      <td>0.668567</td>\n",
       "      <td>-0.708133</td>\n",
       "      <td>-0.212838</td>\n",
       "    </tr>\n",
       "    <tr>\n",
       "      <th>291</th>\n",
       "      <td>1.092841</td>\n",
       "      <td>1.995923</td>\n",
       "      <td>2.413850</td>\n",
       "    </tr>\n",
       "    <tr>\n",
       "      <th>468</th>\n",
       "      <td>-0.960785</td>\n",
       "      <td>0.150063</td>\n",
       "      <td>0.662724</td>\n",
       "    </tr>\n",
       "    <tr>\n",
       "      <th>410</th>\n",
       "      <td>0.303426</td>\n",
       "      <td>-0.433165</td>\n",
       "      <td>-0.028478</td>\n",
       "    </tr>\n",
       "    <tr>\n",
       "      <th>...</th>\n",
       "      <td>...</td>\n",
       "      <td>...</td>\n",
       "      <td>...</td>\n",
       "    </tr>\n",
       "    <tr>\n",
       "      <th>208</th>\n",
       "      <td>-1.248419</td>\n",
       "      <td>0.315290</td>\n",
       "      <td>-1.380855</td>\n",
       "    </tr>\n",
       "    <tr>\n",
       "      <th>211</th>\n",
       "      <td>-0.368294</td>\n",
       "      <td>-1.562629</td>\n",
       "      <td>-0.827774</td>\n",
       "    </tr>\n",
       "    <tr>\n",
       "      <th>259</th>\n",
       "      <td>0.457290</td>\n",
       "      <td>-0.409737</td>\n",
       "      <td>0.000948</td>\n",
       "    </tr>\n",
       "    <tr>\n",
       "      <th>248</th>\n",
       "      <td>2.386332</td>\n",
       "      <td>0.405302</td>\n",
       "      <td>2.270925</td>\n",
       "    </tr>\n",
       "    <tr>\n",
       "      <th>285</th>\n",
       "      <td>-1.462566</td>\n",
       "      <td>-0.637850</td>\n",
       "      <td>-0.565946</td>\n",
       "    </tr>\n",
       "  </tbody>\n",
       "</table>\n",
       "<p>436 rows × 3 columns</p>\n",
       "</div>"
      ],
      "text/plain": [
       "        MLOGP     RDCHI  quantitative response of LC50\n",
       "395 -0.400444  0.589025                      -0.294509\n",
       "275  0.668567 -0.708133                      -0.212838\n",
       "291  1.092841  1.995923                       2.413850\n",
       "468 -0.960785  0.150063                       0.662724\n",
       "410  0.303426 -0.433165                      -0.028478\n",
       "..        ...       ...                            ...\n",
       "208 -1.248419  0.315290                      -1.380855\n",
       "211 -0.368294 -1.562629                      -0.827774\n",
       "259  0.457290 -0.409737                       0.000948\n",
       "248  2.386332  0.405302                       2.270925\n",
       "285 -1.462566 -0.637850                      -0.565946\n",
       "\n",
       "[436 rows x 3 columns]"
      ]
     },
     "execution_count": 6,
     "metadata": {},
     "output_type": "execute_result"
    }
   ],
   "source": [
    "train, test = train_test_split(df, test_size=0.2) # this is a random split\n",
    "train"
   ]
  },
  {
   "cell_type": "code",
   "execution_count": 7,
   "id": "f5790539",
   "metadata": {
    "scrolled": false
   },
   "outputs": [
    {
     "data": {
      "text/html": [
       "<div>\n",
       "<style scoped>\n",
       "    .dataframe tbody tr th:only-of-type {\n",
       "        vertical-align: middle;\n",
       "    }\n",
       "\n",
       "    .dataframe tbody tr th {\n",
       "        vertical-align: top;\n",
       "    }\n",
       "\n",
       "    .dataframe thead th {\n",
       "        text-align: right;\n",
       "    }\n",
       "</style>\n",
       "<table border=\"1\" class=\"dataframe\">\n",
       "  <thead>\n",
       "    <tr style=\"text-align: right;\">\n",
       "      <th></th>\n",
       "      <th>MLOGP</th>\n",
       "      <th>RDCHI</th>\n",
       "      <th>quantitative response of LC50</th>\n",
       "    </tr>\n",
       "  </thead>\n",
       "  <tbody>\n",
       "    <tr>\n",
       "      <th>236</th>\n",
       "      <td>-1.498735</td>\n",
       "      <td>-1.095307</td>\n",
       "      <td>-0.969497</td>\n",
       "    </tr>\n",
       "    <tr>\n",
       "      <th>274</th>\n",
       "      <td>0.936680</td>\n",
       "      <td>-0.182858</td>\n",
       "      <td>0.505387</td>\n",
       "    </tr>\n",
       "    <tr>\n",
       "      <th>103</th>\n",
       "      <td>-1.046329</td>\n",
       "      <td>0.445992</td>\n",
       "      <td>2.216278</td>\n",
       "    </tr>\n",
       "    <tr>\n",
       "      <th>463</th>\n",
       "      <td>-0.868926</td>\n",
       "      <td>-1.212446</td>\n",
       "      <td>-0.925058</td>\n",
       "    </tr>\n",
       "    <tr>\n",
       "      <th>175</th>\n",
       "      <td>0.242570</td>\n",
       "      <td>-0.381377</td>\n",
       "      <td>0.521602</td>\n",
       "    </tr>\n",
       "    <tr>\n",
       "      <th>...</th>\n",
       "      <td>...</td>\n",
       "      <td>...</td>\n",
       "      <td>...</td>\n",
       "    </tr>\n",
       "    <tr>\n",
       "      <th>288</th>\n",
       "      <td>0.560058</td>\n",
       "      <td>1.571757</td>\n",
       "      <td>0.657920</td>\n",
       "    </tr>\n",
       "    <tr>\n",
       "      <th>233</th>\n",
       "      <td>-0.133479</td>\n",
       "      <td>-1.212446</td>\n",
       "      <td>-0.202029</td>\n",
       "    </tr>\n",
       "    <tr>\n",
       "      <th>200</th>\n",
       "      <td>0.491164</td>\n",
       "      <td>-0.313560</td>\n",
       "      <td>-0.380384</td>\n",
       "    </tr>\n",
       "    <tr>\n",
       "      <th>235</th>\n",
       "      <td>-0.486562</td>\n",
       "      <td>-0.422068</td>\n",
       "      <td>-1.033753</td>\n",
       "    </tr>\n",
       "    <tr>\n",
       "      <th>68</th>\n",
       "      <td>0.690383</td>\n",
       "      <td>-1.004062</td>\n",
       "      <td>-0.191219</td>\n",
       "    </tr>\n",
       "  </tbody>\n",
       "</table>\n",
       "<p>110 rows × 3 columns</p>\n",
       "</div>"
      ],
      "text/plain": [
       "        MLOGP     RDCHI  quantitative response of LC50\n",
       "236 -1.498735 -1.095307                      -0.969497\n",
       "274  0.936680 -0.182858                       0.505387\n",
       "103 -1.046329  0.445992                       2.216278\n",
       "463 -0.868926 -1.212446                      -0.925058\n",
       "175  0.242570 -0.381377                       0.521602\n",
       "..        ...       ...                            ...\n",
       "288  0.560058  1.571757                       0.657920\n",
       "233 -0.133479 -1.212446                      -0.202029\n",
       "200  0.491164 -0.313560                      -0.380384\n",
       "235 -0.486562 -0.422068                      -1.033753\n",
       "68   0.690383 -1.004062                      -0.191219\n",
       "\n",
       "[110 rows x 3 columns]"
      ]
     },
     "execution_count": 7,
     "metadata": {},
     "output_type": "execute_result"
    }
   ],
   "source": [
    "test"
   ]
  },
  {
   "cell_type": "code",
   "execution_count": 8,
   "id": "72fb5c78",
   "metadata": {},
   "outputs": [
    {
     "data": {
      "image/png": "[encoded data removed]",
      "text/plain": [
       "<Figure size 432x288 with 1 Axes>"
      ]
     },
     "metadata": {
      "needs_background": "light"
     },
     "output_type": "display_data"
    }
   ],
   "source": [
    "ax = plt.axes(projection='3d')\n",
    "\n",
    "# Data for three-dimensional scattered points\n",
    "zdata = train[\"quantitative response of LC50\"]\n",
    "xdata = train[\"RDCHI\"]\n",
    "ydata = train[\"MLOGP\"]\n",
    "ax.scatter3D(xdata, ydata, zdata, c=zdata, cmap='Greens');"
   ]
  },
  {
   "cell_type": "code",
   "execution_count": 9,
   "id": "16cf1ca1",
   "metadata": {},
   "outputs": [
    {
     "data": {
      "text/html": [
       "<div>\n",
       "<style scoped>\n",
       "    .dataframe tbody tr th:only-of-type {\n",
       "        vertical-align: middle;\n",
       "    }\n",
       "\n",
       "    .dataframe tbody tr th {\n",
       "        vertical-align: top;\n",
       "    }\n",
       "\n",
       "    .dataframe thead th {\n",
       "        text-align: right;\n",
       "    }\n",
       "</style>\n",
       "<table border=\"1\" class=\"dataframe\">\n",
       "  <thead>\n",
       "    <tr style=\"text-align: right;\">\n",
       "      <th></th>\n",
       "      <th>RDCHI</th>\n",
       "      <th>MLOGP</th>\n",
       "    </tr>\n",
       "  </thead>\n",
       "  <tbody>\n",
       "    <tr>\n",
       "      <th>395</th>\n",
       "      <td>0.589025</td>\n",
       "      <td>-0.400444</td>\n",
       "    </tr>\n",
       "    <tr>\n",
       "      <th>275</th>\n",
       "      <td>-0.708133</td>\n",
       "      <td>0.668567</td>\n",
       "    </tr>\n",
       "    <tr>\n",
       "      <th>291</th>\n",
       "      <td>1.995923</td>\n",
       "      <td>1.092841</td>\n",
       "    </tr>\n",
       "    <tr>\n",
       "      <th>468</th>\n",
       "      <td>0.150063</td>\n",
       "      <td>-0.960785</td>\n",
       "    </tr>\n",
       "    <tr>\n",
       "      <th>410</th>\n",
       "      <td>-0.433165</td>\n",
       "      <td>0.303426</td>\n",
       "    </tr>\n",
       "    <tr>\n",
       "      <th>...</th>\n",
       "      <td>...</td>\n",
       "      <td>...</td>\n",
       "    </tr>\n",
       "    <tr>\n",
       "      <th>208</th>\n",
       "      <td>0.315290</td>\n",
       "      <td>-1.248419</td>\n",
       "    </tr>\n",
       "    <tr>\n",
       "      <th>211</th>\n",
       "      <td>-1.562629</td>\n",
       "      <td>-0.368294</td>\n",
       "    </tr>\n",
       "    <tr>\n",
       "      <th>259</th>\n",
       "      <td>-0.409737</td>\n",
       "      <td>0.457290</td>\n",
       "    </tr>\n",
       "    <tr>\n",
       "      <th>248</th>\n",
       "      <td>0.405302</td>\n",
       "      <td>2.386332</td>\n",
       "    </tr>\n",
       "    <tr>\n",
       "      <th>285</th>\n",
       "      <td>-0.637850</td>\n",
       "      <td>-1.462566</td>\n",
       "    </tr>\n",
       "  </tbody>\n",
       "</table>\n",
       "<p>436 rows × 2 columns</p>\n",
       "</div>"
      ],
      "text/plain": [
       "        RDCHI     MLOGP\n",
       "395  0.589025 -0.400444\n",
       "275 -0.708133  0.668567\n",
       "291  1.995923  1.092841\n",
       "468  0.150063 -0.960785\n",
       "410 -0.433165  0.303426\n",
       "..        ...       ...\n",
       "208  0.315290 -1.248419\n",
       "211 -1.562629 -0.368294\n",
       "259 -0.409737  0.457290\n",
       "248  0.405302  2.386332\n",
       "285 -0.637850 -1.462566\n",
       "\n",
       "[436 rows x 2 columns]"
      ]
     },
     "execution_count": 9,
     "metadata": {},
     "output_type": "execute_result"
    }
   ],
   "source": [
    "trainX = pd.DataFrame(train[[\"RDCHI\", \"MLOGP\"]])\n",
    "trainX"
   ]
  },
  {
   "cell_type": "code",
   "execution_count": 10,
   "id": "d79abd31",
   "metadata": {},
   "outputs": [
    {
     "data": {
      "text/html": [
       "<div>\n",
       "<style scoped>\n",
       "    .dataframe tbody tr th:only-of-type {\n",
       "        vertical-align: middle;\n",
       "    }\n",
       "\n",
       "    .dataframe tbody tr th {\n",
       "        vertical-align: top;\n",
       "    }\n",
       "\n",
       "    .dataframe thead th {\n",
       "        text-align: right;\n",
       "    }\n",
       "</style>\n",
       "<table border=\"1\" class=\"dataframe\">\n",
       "  <thead>\n",
       "    <tr style=\"text-align: right;\">\n",
       "      <th></th>\n",
       "      <th>quantitative response of LC50</th>\n",
       "    </tr>\n",
       "  </thead>\n",
       "  <tbody>\n",
       "    <tr>\n",
       "      <th>395</th>\n",
       "      <td>-0.294509</td>\n",
       "    </tr>\n",
       "    <tr>\n",
       "      <th>275</th>\n",
       "      <td>-0.212838</td>\n",
       "    </tr>\n",
       "    <tr>\n",
       "      <th>291</th>\n",
       "      <td>2.413850</td>\n",
       "    </tr>\n",
       "    <tr>\n",
       "      <th>468</th>\n",
       "      <td>0.662724</td>\n",
       "    </tr>\n",
       "    <tr>\n",
       "      <th>410</th>\n",
       "      <td>-0.028478</td>\n",
       "    </tr>\n",
       "    <tr>\n",
       "      <th>...</th>\n",
       "      <td>...</td>\n",
       "    </tr>\n",
       "    <tr>\n",
       "      <th>208</th>\n",
       "      <td>-1.380855</td>\n",
       "    </tr>\n",
       "    <tr>\n",
       "      <th>211</th>\n",
       "      <td>-0.827774</td>\n",
       "    </tr>\n",
       "    <tr>\n",
       "      <th>259</th>\n",
       "      <td>0.000948</td>\n",
       "    </tr>\n",
       "    <tr>\n",
       "      <th>248</th>\n",
       "      <td>2.270925</td>\n",
       "    </tr>\n",
       "    <tr>\n",
       "      <th>285</th>\n",
       "      <td>-0.565946</td>\n",
       "    </tr>\n",
       "  </tbody>\n",
       "</table>\n",
       "<p>436 rows × 1 columns</p>\n",
       "</div>"
      ],
      "text/plain": [
       "     quantitative response of LC50\n",
       "395                      -0.294509\n",
       "275                      -0.212838\n",
       "291                       2.413850\n",
       "468                       0.662724\n",
       "410                      -0.028478\n",
       "..                             ...\n",
       "208                      -1.380855\n",
       "211                      -0.827774\n",
       "259                       0.000948\n",
       "248                       2.270925\n",
       "285                      -0.565946\n",
       "\n",
       "[436 rows x 1 columns]"
      ]
     },
     "execution_count": 10,
     "metadata": {},
     "output_type": "execute_result"
    }
   ],
   "source": [
    "trainY = pd.DataFrame(train[\"quantitative response of LC50\"])\n",
    "trainY"
   ]
  },
  {
   "cell_type": "code",
   "execution_count": 11,
   "id": "cbb0e298",
   "metadata": {},
   "outputs": [
    {
     "data": {
      "text/html": [
       "<div>\n",
       "<style scoped>\n",
       "    .dataframe tbody tr th:only-of-type {\n",
       "        vertical-align: middle;\n",
       "    }\n",
       "\n",
       "    .dataframe tbody tr th {\n",
       "        vertical-align: top;\n",
       "    }\n",
       "\n",
       "    .dataframe thead th {\n",
       "        text-align: right;\n",
       "    }\n",
       "</style>\n",
       "<table border=\"1\" class=\"dataframe\">\n",
       "  <thead>\n",
       "    <tr style=\"text-align: right;\">\n",
       "      <th></th>\n",
       "      <th>RDCHI</th>\n",
       "      <th>MLOGP</th>\n",
       "    </tr>\n",
       "  </thead>\n",
       "  <tbody>\n",
       "    <tr>\n",
       "      <th>236</th>\n",
       "      <td>-1.095307</td>\n",
       "      <td>-1.498735</td>\n",
       "    </tr>\n",
       "    <tr>\n",
       "      <th>274</th>\n",
       "      <td>-0.182858</td>\n",
       "      <td>0.936680</td>\n",
       "    </tr>\n",
       "    <tr>\n",
       "      <th>103</th>\n",
       "      <td>0.445992</td>\n",
       "      <td>-1.046329</td>\n",
       "    </tr>\n",
       "    <tr>\n",
       "      <th>463</th>\n",
       "      <td>-1.212446</td>\n",
       "      <td>-0.868926</td>\n",
       "    </tr>\n",
       "    <tr>\n",
       "      <th>175</th>\n",
       "      <td>-0.381377</td>\n",
       "      <td>0.242570</td>\n",
       "    </tr>\n",
       "    <tr>\n",
       "      <th>...</th>\n",
       "      <td>...</td>\n",
       "      <td>...</td>\n",
       "    </tr>\n",
       "    <tr>\n",
       "      <th>288</th>\n",
       "      <td>1.571757</td>\n",
       "      <td>0.560058</td>\n",
       "    </tr>\n",
       "    <tr>\n",
       "      <th>233</th>\n",
       "      <td>-1.212446</td>\n",
       "      <td>-0.133479</td>\n",
       "    </tr>\n",
       "    <tr>\n",
       "      <th>200</th>\n",
       "      <td>-0.313560</td>\n",
       "      <td>0.491164</td>\n",
       "    </tr>\n",
       "    <tr>\n",
       "      <th>235</th>\n",
       "      <td>-0.422068</td>\n",
       "      <td>-0.486562</td>\n",
       "    </tr>\n",
       "    <tr>\n",
       "      <th>68</th>\n",
       "      <td>-1.004062</td>\n",
       "      <td>0.690383</td>\n",
       "    </tr>\n",
       "  </tbody>\n",
       "</table>\n",
       "<p>110 rows × 2 columns</p>\n",
       "</div>"
      ],
      "text/plain": [
       "        RDCHI     MLOGP\n",
       "236 -1.095307 -1.498735\n",
       "274 -0.182858  0.936680\n",
       "103  0.445992 -1.046329\n",
       "463 -1.212446 -0.868926\n",
       "175 -0.381377  0.242570\n",
       "..        ...       ...\n",
       "288  1.571757  0.560058\n",
       "233 -1.212446 -0.133479\n",
       "200 -0.313560  0.491164\n",
       "235 -0.422068 -0.486562\n",
       "68  -1.004062  0.690383\n",
       "\n",
       "[110 rows x 2 columns]"
      ]
     },
     "execution_count": 11,
     "metadata": {},
     "output_type": "execute_result"
    }
   ],
   "source": [
    "testX = pd.DataFrame(test[[\"RDCHI\", \"MLOGP\"]])\n",
    "testY = pd.DataFrame(test['quantitative response of LC50'])\n",
    "testX"
   ]
  },
  {
   "cell_type": "code",
   "execution_count": 12,
   "id": "3c103a6f",
   "metadata": {},
   "outputs": [
    {
     "data": {
      "text/html": [
       "<div>\n",
       "<style scoped>\n",
       "    .dataframe tbody tr th:only-of-type {\n",
       "        vertical-align: middle;\n",
       "    }\n",
       "\n",
       "    .dataframe tbody tr th {\n",
       "        vertical-align: top;\n",
       "    }\n",
       "\n",
       "    .dataframe thead th {\n",
       "        text-align: right;\n",
       "    }\n",
       "</style>\n",
       "<table border=\"1\" class=\"dataframe\">\n",
       "  <thead>\n",
       "    <tr style=\"text-align: right;\">\n",
       "      <th></th>\n",
       "      <th>quantitative response of LC50</th>\n",
       "    </tr>\n",
       "  </thead>\n",
       "  <tbody>\n",
       "    <tr>\n",
       "      <th>236</th>\n",
       "      <td>-0.969497</td>\n",
       "    </tr>\n",
       "    <tr>\n",
       "      <th>274</th>\n",
       "      <td>0.505387</td>\n",
       "    </tr>\n",
       "    <tr>\n",
       "      <th>103</th>\n",
       "      <td>2.216278</td>\n",
       "    </tr>\n",
       "    <tr>\n",
       "      <th>463</th>\n",
       "      <td>-0.925058</td>\n",
       "    </tr>\n",
       "    <tr>\n",
       "      <th>175</th>\n",
       "      <td>0.521602</td>\n",
       "    </tr>\n",
       "    <tr>\n",
       "      <th>...</th>\n",
       "      <td>...</td>\n",
       "    </tr>\n",
       "    <tr>\n",
       "      <th>288</th>\n",
       "      <td>0.657920</td>\n",
       "    </tr>\n",
       "    <tr>\n",
       "      <th>233</th>\n",
       "      <td>-0.202029</td>\n",
       "    </tr>\n",
       "    <tr>\n",
       "      <th>200</th>\n",
       "      <td>-0.380384</td>\n",
       "    </tr>\n",
       "    <tr>\n",
       "      <th>235</th>\n",
       "      <td>-1.033753</td>\n",
       "    </tr>\n",
       "    <tr>\n",
       "      <th>68</th>\n",
       "      <td>-0.191219</td>\n",
       "    </tr>\n",
       "  </tbody>\n",
       "</table>\n",
       "<p>110 rows × 1 columns</p>\n",
       "</div>"
      ],
      "text/plain": [
       "     quantitative response of LC50\n",
       "236                      -0.969497\n",
       "274                       0.505387\n",
       "103                       2.216278\n",
       "463                      -0.925058\n",
       "175                       0.521602\n",
       "..                             ...\n",
       "288                       0.657920\n",
       "233                      -0.202029\n",
       "200                      -0.380384\n",
       "235                      -1.033753\n",
       "68                       -0.191219\n",
       "\n",
       "[110 rows x 1 columns]"
      ]
     },
     "execution_count": 12,
     "metadata": {},
     "output_type": "execute_result"
    }
   ],
   "source": [
    "testY"
   ]
  },
  {
   "cell_type": "code",
   "execution_count": 13,
   "id": "b83b5080",
   "metadata": {},
   "outputs": [
    {
     "data": {
      "text/plain": [
       "(436, 3)"
      ]
     },
     "execution_count": 13,
     "metadata": {},
     "output_type": "execute_result"
    }
   ],
   "source": [
    "valX = trainX[trainX.columns[:]].to_numpy()\n",
    "valX = np.append(np.ones((436,1)), valX, axis=1)\n",
    "valY = trainY[trainY.columns[:]].to_numpy()\n",
    "np.shape(valX)\n",
    "# np.reshape(valX, (436,3))"
   ]
  },
  {
   "cell_type": "code",
   "execution_count": 14,
   "id": "11b7dc8f",
   "metadata": {},
   "outputs": [
    {
     "data": {
      "text/plain": [
       "(436, 1)"
      ]
     },
     "execution_count": 14,
     "metadata": {},
     "output_type": "execute_result"
    }
   ],
   "source": [
    "np.shape(valY)"
   ]
  },
  {
   "cell_type": "code",
   "execution_count": 15,
   "id": "ce27798b",
   "metadata": {},
   "outputs": [
    {
     "data": {
      "text/plain": [
       "(110, 3)"
      ]
     },
     "execution_count": 15,
     "metadata": {},
     "output_type": "execute_result"
    }
   ],
   "source": [
    "valTestX = testX[testX.columns[:]].to_numpy()\n",
    "valTestX = np.append(np.ones((110,1)), valTestX, axis=1)\n",
    "valTestY = testY[testY.columns[:]].to_numpy()\n",
    "np.shape(valTestX)"
   ]
  },
  {
   "cell_type": "code",
   "execution_count": 16,
   "id": "1635e99b",
   "metadata": {},
   "outputs": [
    {
     "data": {
      "text/plain": [
       "(110, 1)"
      ]
     },
     "execution_count": 16,
     "metadata": {},
     "output_type": "execute_result"
    }
   ],
   "source": [
    "np.shape(valTestY)"
   ]
  },
  {
   "cell_type": "code",
   "execution_count": 17,
   "id": "f7938765",
   "metadata": {},
   "outputs": [],
   "source": [
    "iters = 1500000\n",
    "learningRate = 0.001 #yeta or n\n",
    "costArr= np.zeros(iters+100)\n",
    "counterArr = np.zeros(iters+100)\n",
    "TrainErrorArray = np.array([])\n",
    "TestErrorArray = np.array([])"
   ]
  },
  {
   "cell_type": "code",
   "execution_count": 18,
   "id": "7478254f",
   "metadata": {},
   "outputs": [
    {
     "name": "stdout",
     "output_type": "stream",
     "text": [
      "w0= 0.5467671780085145\n",
      "w1= 0.567531755377248\n",
      "w2= 0.6434763923290014\n"
     ]
    }
   ],
   "source": [
    "# Degree 1 here without regularization\n",
    "degree = 1\n",
    "wSize = 3\n",
    "w = np.ones(wSize)\n",
    "w1 = np.zeros(wSize)\n",
    "\n",
    "counter = 0\n",
    "costArr= np.zeros(iters+1)\n",
    "counterArr = np.zeros(iters+1)\n",
    "for i in range(iters):\n",
    "    w2 = (np.sum((valY-np.reshape(np.sum(w*valX, axis = 1), (np.shape(valX)[0],1)))*valX*-1, axis = 0))#del E\n",
    "    # sum(Y-wX)*X where X = [1,x1,x2], so we get a matrix of 1x3 and w = [w0,w1,w2]\n",
    "#     for j in range(np.shape(valX)[0]):\n",
    "#         w2 += (((valY[j,0] - (w*valX[j,:wSize])))*valX[j,:wSize])/np.shape(valX)[0]\n",
    "\n",
    "    #w2 = w2/np.shape(valX)[0] #N\n",
    "    \n",
    "    w1 = w - learningRate*w2\n",
    "    if w1[0] - w[0] <= 10**(-20):\n",
    "        w=w1\n",
    "        break\n",
    "    w=w1\n",
    "    counter+=1\n",
    "    costArr[counter] = w2[0]\n",
    "    counterArr[counter] = counter\n",
    "\n",
    "   \n",
    "\n",
    "for i in range(np.shape(w)[0]):    \n",
    "    print(\"w\", i, \"= \", w[i], sep = '')\n"
   ]
  },
  {
   "cell_type": "code",
   "execution_count": 19,
   "id": "058a4c36",
   "metadata": {},
   "outputs": [
    {
     "data": {
      "text/plain": [
       "1.1703055560415951"
      ]
     },
     "execution_count": 19,
     "metadata": {},
     "output_type": "execute_result"
    }
   ],
   "source": [
    "w1 = 0\n",
    "for i in range(np.shape(valX)[0]):\n",
    "    w1+= (np.sum(w*valX[i,:wSize]) - valY[i,0])**2\n",
    "    \n",
    "TrainErrorArray = np.append(TrainErrorArray, w1)\n",
    "w1/np.shape(valX)[0]"
   ]
  },
  {
   "cell_type": "code",
   "execution_count": 20,
   "id": "09c232c7",
   "metadata": {},
   "outputs": [
    {
     "data": {
      "text/plain": [
       "1.0191163560143703"
      ]
     },
     "execution_count": 20,
     "metadata": {},
     "output_type": "execute_result"
    }
   ],
   "source": [
    "testError = 0\n",
    "for i in range(np.shape(valTestX)[0]):\n",
    "    testError += (np.sum(w*valTestX[i,:wSize]) - valTestY[i,0])**2\n",
    "    \n",
    "TestErrorArray = np.append(TestErrorArray, testError)\n",
    "testError/np.shape(valTestX)[0]"
   ]
  },
  {
   "cell_type": "code",
   "execution_count": 21,
   "id": "40628fd7",
   "metadata": {},
   "outputs": [],
   "source": [
    "# Reularization variables\n",
    "LambdaArr = np.arange(0.01,1.01,0.01)\n",
    "q = 0.5"
   ]
  },
  {
   "cell_type": "code",
   "execution_count": 22,
   "id": "f9790ec5",
   "metadata": {},
   "outputs": [
    {
     "name": "stderr",
     "output_type": "stream",
     "text": [
      "C:\\Users\\Acer\\AppData\\Local\\Temp\\ipykernel_9452\\715534281.py:15: RuntimeWarning: invalid value encountered in power\n",
      "  z = z**(q-1)\n"
     ]
    },
    {
     "name": "stdout",
     "output_type": "stream",
     "text": [
      "0\n",
      "Optimal Lambda = 0.01\n"
     ]
    }
   ],
   "source": [
    "# Finding optimal lambda for Degree 1 here with regularization q = 0.5\n",
    "degree = 1\n",
    "wSize = 3\n",
    "w = np.ones(wSize)\n",
    "w1 = np.zeros(wSize)\n",
    "TrainErrorArrayLambda = np.array([])\n",
    "TestErrorArrayLambda = np.array([])\n",
    "\n",
    "counter = 0\n",
    "costArr= np.zeros(iters+1)\n",
    "counterArr = np.zeros(iters+1)\n",
    "for Lambda in LambdaArr:\n",
    "    for i in range(iters):\n",
    "        z = w.copy()\n",
    "        z = z**(q-1)\n",
    "        z[0] = 0\n",
    "        w2 = (np.sum((valY-np.reshape(np.sum(w*valX, axis = 1), (np.shape(valX)[0],1)))*valX*-1, axis = 0)) + Lambda*q*(z)/2\n",
    "        # sum(Y-wX)*X where X = [1,x1,x2], so we get a matrix of 1x3 and w = [w0,w1,w2], z = [0,w1,w2]\n",
    "\n",
    "        w1 = w - learningRate*w2\n",
    "        if w1[0] - w[0] <= 10**(-20):\n",
    "            w=w1\n",
    "            break\n",
    "        w=w1\n",
    "        counter+=1\n",
    "        costArr[counter] = w2[0]\n",
    "        counterArr[counter] = counter\n",
    "    \n",
    "    ErrorLambdas = 0\n",
    "    for i in range(np.shape(valX)[0]):\n",
    "        ErrorLambdas += ((np.sum(w*valX[i,:wSize]) - valY[i,0])**2) + Lambda*np.sum(np.abs(w)**q)/2\n",
    "\n",
    "    TrainErrorArrayLambda = np.append(TrainErrorArrayLambda, ErrorLambdas)\n",
    "    \n",
    "    testError = 0\n",
    "    for i in range(np.shape(valTestX)[0]):\n",
    "        testError += ((np.sum(w*valTestX[i,:wSize]) - valTestY[i,0])**2) + Lambda*np.sum(np.abs(w)**q)/2\n",
    "\n",
    "    TestErrorArrayLambda = np.append(TestErrorArrayLambda, testError)\n",
    "\n",
    "\n",
    "minIndex = int(np.where(z == np.amin(z))[0])\n",
    "print(minIndex)\n",
    "\n",
    "\n",
    "Lambda = (minIndex+1)*0.01\n",
    "print(\"Optimal Lambda = \", Lambda, sep = '')"
   ]
  },
  {
   "cell_type": "code",
   "execution_count": 23,
   "id": "6ad52bcf",
   "metadata": {},
   "outputs": [
    {
     "name": "stdout",
     "output_type": "stream",
     "text": [
      "Optimal Lambda = 0.01\n",
      "w0= 0.5467671780085145\n",
      "w1= 0.567529255377248\n",
      "w2= 0.6434738923290014\n"
     ]
    }
   ],
   "source": [
    "# Degree 1 here with regularization q = 0.5\n",
    "q = 0.5\n",
    "degree = 1\n",
    "wSize = 3\n",
    "w = np.ones(wSize)\n",
    "w1 = np.zeros(wSize)\n",
    "\n",
    "counter = 0\n",
    "costArr= np.zeros(iters+1)\n",
    "counterArr = np.zeros(iters+1)\n",
    "for i in range(iters):\n",
    "    z = w.copy()\n",
    "    z = z**(q-1)\n",
    "    z[0] = 0\n",
    "    w2 = (np.sum((valY-np.reshape(np.sum(w*valX, axis = 1), (np.shape(valX)[0],1)))*valX*-1, axis = 0)) + Lambda*q*(z)/2\n",
    "    # sum(Y-wX)*X where X = [1,x1,x2], so we get a matrix of 1x3 and w = [w0,w1,w2], z = [0,w1,w2]\n",
    "    \n",
    "    w1 = w - learningRate*w2\n",
    "    if w1[0] - w[0] <= 10**(-20):\n",
    "        w=w1\n",
    "        break\n",
    "    w=w1\n",
    "    counter+=1\n",
    "    costArr[counter] = w2[0]\n",
    "    counterArr[counter] = counter\n",
    "\n",
    "   \n",
    "print(\"Optimal Lambda =\", Lambda)\n",
    "for i in range(np.shape(w)[0]):    \n",
    "    print(\"w\", i, \"= \", w[i], sep = '')\n"
   ]
  },
  {
   "cell_type": "code",
   "execution_count": 24,
   "id": "a5500ae9",
   "metadata": {},
   "outputs": [
    {
     "data": {
      "text/plain": [
       "1.1817766595453172"
      ]
     },
     "execution_count": 24,
     "metadata": {},
     "output_type": "execute_result"
    }
   ],
   "source": [
    "w1 = 0\n",
    "for i in range(np.shape(valX)[0]):\n",
    "    w1+= ((np.sum(w*valX[i,:wSize]) - valY[i,0])**2) + Lambda*np.sum(np.abs(w)**q)/2\n",
    "\n",
    "TrainErrorArray = np.append(TrainErrorArray, w1)\n",
    "w1/np.shape(valX)[0]"
   ]
  },
  {
   "cell_type": "code",
   "execution_count": 25,
   "id": "fc0b55da",
   "metadata": {},
   "outputs": [
    {
     "data": {
      "text/plain": [
       "1.030588709359393"
      ]
     },
     "execution_count": 25,
     "metadata": {},
     "output_type": "execute_result"
    }
   ],
   "source": [
    "testError = 0\n",
    "for i in range(np.shape(valTestX)[0]):\n",
    "    testError += ((np.sum(w*valTestX[i,:wSize]) - valTestY[i,0])**2) + Lambda*np.sum(np.abs(w)**q)/2\n",
    "\n",
    "TestErrorArray = np.append(TestErrorArray, testError)\n",
    "testError/np.shape(valTestX)[0]"
   ]
  },
  {
   "cell_type": "code",
   "execution_count": 26,
   "id": "97e790b9",
   "metadata": {},
   "outputs": [
    {
     "name": "stdout",
     "output_type": "stream",
     "text": [
      "0\n",
      "Optimal Lambda = 0.01\n"
     ]
    }
   ],
   "source": [
    "# Degree 1 here with regularization q = 1\n",
    "q = 1\n",
    "degree = 1\n",
    "wSize = 3\n",
    "w = np.ones(wSize)\n",
    "w1 = np.zeros(wSize)\n",
    "\n",
    "counter = 0\n",
    "costArr= np.zeros(iters+1)\n",
    "counterArr = np.zeros(iters+1)\n",
    "for Lambda in LambdaArr:\n",
    "    for i in range(iters):\n",
    "        z = np.array([0,1,1])\n",
    "        w2 = (np.sum((valY-np.reshape(np.sum(w*valX, axis = 1), (np.shape(valX)[0],1)))*valX*-1, axis = 0)) + Lambda*q*(z)/2\n",
    "        # sum(Y-wX)*X where X = [1,x1,x2], so we get a matrix of 1x3 and w = [w0,w1,w2], z = [0,w1,w2]\n",
    "\n",
    "        w1 = w - learningRate*w2\n",
    "        if w1[0] - w[0] <= 10**(-20):\n",
    "            w=w1\n",
    "            break\n",
    "        w=w1\n",
    "        counter+=1\n",
    "        costArr[counter] = w2[0]\n",
    "        counterArr[counter] = counter\n",
    "\n",
    "        ErrorLambdas = 0\n",
    "        for i in range(np.shape(valX)[0]):\n",
    "            ErrorLambdas += ((np.sum(w*valX[i,:wSize]) - valY[i,0])**2) + Lambda*np.sum(np.abs(w)**q)/2\n",
    "\n",
    "        TrainErrorArrayLambda = np.append(TrainErrorArrayLambda, ErrorLambdas)\n",
    "\n",
    "        testError = 0\n",
    "        for i in range(np.shape(valTestX)[0]):\n",
    "            testError += ((np.sum(w*valTestX[i,:wSize]) - valTestY[i,0])**2) + Lambda*np.sum(np.abs(w)**q)/2\n",
    "\n",
    "        TestErrorArrayLambda = np.append(TestErrorArrayLambda, testError)\n",
    "\n",
    "\n",
    "minIndex = int(np.where(z == np.amin(z))[0])\n",
    "print(minIndex)\n",
    "\n",
    "\n",
    "Lambda = (minIndex+1)*0.01\n",
    "print(\"Optimal Lambda = \", Lambda, sep = '')\n",
    "\n",
    "   \n",
    "\n",
    "\n"
   ]
  },
  {
   "cell_type": "code",
   "execution_count": 27,
   "id": "6456cc6c",
   "metadata": {},
   "outputs": [
    {
     "name": "stdout",
     "output_type": "stream",
     "text": [
      "w0= 0.5467671780085145\n",
      "w1= 0.567526755377248\n",
      "w2= 0.6434713923290014\n"
     ]
    }
   ],
   "source": [
    "# Degree 1 here with regularization q = 1\n",
    "degree = 1\n",
    "wSize = 3\n",
    "w = np.ones(wSize)\n",
    "w1 = np.zeros(wSize)\n",
    "\n",
    "counter = 0\n",
    "costArr= np.zeros(iters+1)\n",
    "counterArr = np.zeros(iters+1)\n",
    "for i in range(iters):\n",
    "    z = np.array([0,1,1])\n",
    "    w2 = (np.sum((valY-np.reshape(np.sum(w*valX, axis = 1), (np.shape(valX)[0],1)))*valX*-1, axis = 0)) + Lambda*q*(z)/2\n",
    "    # sum(Y-wX)*X where X = [1,x1,x2], so we get a matrix of 1x3 and w = [w0,w1,w2], z = [0,w1,w2]\n",
    "    \n",
    "    w1 = w - learningRate*w2\n",
    "    if w1[0] - w[0] <= 10**(-20):\n",
    "        w=w1\n",
    "        break\n",
    "    w=w1\n",
    "    counter+=1\n",
    "    costArr[counter] = w2[0]\n",
    "    counterArr[counter] = counter\n",
    "\n",
    "   \n",
    "\n",
    "for i in range(np.shape(w)[0]):    \n",
    "    print(\"w\", i, \"= \", w[i], sep = '')\n"
   ]
  },
  {
   "cell_type": "code",
   "execution_count": 28,
   "id": "f97f80e6",
   "metadata": {},
   "outputs": [
    {
     "data": {
      "text/plain": [
       "1.179087082824982"
      ]
     },
     "execution_count": 28,
     "metadata": {},
     "output_type": "execute_result"
    }
   ],
   "source": [
    "w1 = 0\n",
    "for i in range(np.shape(valX)[0]):\n",
    "    w1+= ((np.sum(w*valX[i,:wSize]) - valY[i,0])**2) + Lambda*np.sum(np.abs(w))/2\n",
    "\n",
    "TrainErrorArray = np.append(TrainErrorArray, w1)\n",
    "w1/np.shape(valX)[0]"
   ]
  },
  {
   "cell_type": "code",
   "execution_count": 29,
   "id": "370a1ad2",
   "metadata": {},
   "outputs": [
    {
     "data": {
      "text/plain": [
       "1.0279003824782666"
      ]
     },
     "execution_count": 29,
     "metadata": {},
     "output_type": "execute_result"
    }
   ],
   "source": [
    "testError = 0\n",
    "for i in range(np.shape(valTestX)[0]):\n",
    "    testError += ((np.sum(w*valTestX[i,:wSize]) - valTestY[i,0])**2) + Lambda*np.sum(np.abs(w)**q)/2\n",
    "\n",
    "TestErrorArray = np.append(TestErrorArray, testError)\n",
    "testError/np.shape(valTestX)[0]"
   ]
  },
  {
   "cell_type": "code",
   "execution_count": null,
   "id": "280aaefc",
   "metadata": {},
   "outputs": [],
   "source": []
  },
  {
   "cell_type": "code",
   "execution_count": 30,
   "id": "ed5061fe",
   "metadata": {},
   "outputs": [
    {
     "name": "stdout",
     "output_type": "stream",
     "text": [
      "0\n",
      "Optimal Lambda = 0.01\n"
     ]
    }
   ],
   "source": [
    "# Degree 1 here with regularization q = 2\n",
    "q = 2\n",
    "degree = 1\n",
    "wSize = 3\n",
    "w = np.ones(wSize)\n",
    "w1 = np.zeros(wSize)\n",
    "\n",
    "counter = 0\n",
    "costArr= np.zeros(iters+1)\n",
    "counterArr = np.zeros(iters+1)\n",
    "for Lambda in LambdaArr:\n",
    "    for i in range(iters):\n",
    "        z = w.copy()\n",
    "        z[0]=0\n",
    "        w2 = (np.sum((valY-np.reshape(np.sum(w*valX, axis = 1), (np.shape(valX)[0],1)))*valX*-1, axis = 0)) + Lambda*q*(z**(q-1))/2\n",
    "        # sum(Y-wX)*X where X = [1,x1,x2], so we get a matrix of 1x3 and w = [w0,w1,w2], z = [0,w1,w2]\n",
    "\n",
    "        w1 = w - learningRate*w2\n",
    "        if w1[0] - w[0] <= 10**(-20):\n",
    "            w=w1\n",
    "            break\n",
    "        w=w1\n",
    "        counter+=1\n",
    "        costArr[counter] = w2[0]\n",
    "        counterArr[counter] = counter\n",
    "        \n",
    "        ErrorLambdas = 0\n",
    "        for i in range(np.shape(valX)[0]):\n",
    "            ErrorLambdas += ((np.sum(w*valX[i,:wSize]) - valY[i,0])**2) + Lambda*np.sum(np.abs(w)**q)/2\n",
    "\n",
    "        TrainErrorArrayLambda = np.append(TrainErrorArrayLambda, ErrorLambdas)\n",
    "\n",
    "        testError = 0\n",
    "        for i in range(np.shape(valTestX)[0]):\n",
    "            testError += ((np.sum(w*valTestX[i,:wSize]) - valTestY[i,0])**2) + Lambda*np.sum(np.abs(w)**q)/2\n",
    "\n",
    "        TestErrorArrayLambda = np.append(TestErrorArrayLambda, testError)\n",
    "\n",
    "\n",
    "minIndex = int(np.where(z == np.amin(z))[0])\n",
    "print(minIndex)\n",
    "\n",
    "\n",
    "Lambda = (minIndex+1)*0.01\n",
    "print(\"Optimal Lambda = \", Lambda, sep = '')"
   ]
  },
  {
   "cell_type": "code",
   "execution_count": 31,
   "id": "29b42003",
   "metadata": {},
   "outputs": [
    {
     "name": "stdout",
     "output_type": "stream",
     "text": [
      "w0= 0.5467671780085145\n",
      "w1= 0.567521755377248\n",
      "w2= 0.6434663923290014\n"
     ]
    }
   ],
   "source": [
    "# Degree 1 here with regularization q = 2\n",
    "q = 2\n",
    "degree = 1\n",
    "wSize = 3\n",
    "w = np.ones(wSize)\n",
    "w1 = np.zeros(wSize)\n",
    "\n",
    "counter = 0\n",
    "costArr= np.zeros(iters+1)\n",
    "counterArr = np.zeros(iters+1)\n",
    "for i in range(iters):\n",
    "    z = w.copy()\n",
    "    z[0]=0\n",
    "    w2 = (np.sum((valY-np.reshape(np.sum(w*valX, axis = 1), (np.shape(valX)[0],1)))*valX*-1, axis = 0)) + Lambda*q*(z**(q-1))/2\n",
    "    # sum(Y-wX)*X where X = [1,x1,x2], so we get a matrix of 1x3 and w = [w0,w1,w2], z = [0,w1,w2]\n",
    "    \n",
    "    w1 = w - learningRate*w2\n",
    "    if w1[0] - w[0] <= 10**(-20):\n",
    "        w=w1\n",
    "        break\n",
    "    w=w1\n",
    "    counter+=1\n",
    "    costArr[counter] = w2[0]\n",
    "    counterArr[counter] = counter\n",
    "\n",
    "   \n",
    "\n",
    "for i in range(np.shape(w)[0]):    \n",
    "    print(\"w\", i, \"= \", w[i], sep = '')\n"
   ]
  },
  {
   "cell_type": "code",
   "execution_count": 32,
   "id": "7d2e3662",
   "metadata": {},
   "outputs": [
    {
     "data": {
      "text/plain": [
       "1.1754663779245191"
      ]
     },
     "execution_count": 32,
     "metadata": {},
     "output_type": "execute_result"
    }
   ],
   "source": [
    "w1 = 0\n",
    "for i in range(np.shape(valX)[0]):\n",
    "    w1+= ((np.sum(w*valX[i,:wSize]) - valY[i,0])**2) + Lambda*np.sum(np.abs(w)**q)/2\n",
    "\n",
    "TrainErrorArray = np.append(TrainErrorArray, w1)\n",
    "w1/np.shape(valX)[0]"
   ]
  },
  {
   "cell_type": "code",
   "execution_count": 33,
   "id": "09cbdbc8",
   "metadata": {},
   "outputs": [
    {
     "data": {
      "text/plain": [
       "1.0242821772499444"
      ]
     },
     "execution_count": 33,
     "metadata": {},
     "output_type": "execute_result"
    }
   ],
   "source": [
    "testError = 0\n",
    "for i in range(np.shape(valTestX)[0]):\n",
    "    testError += ((np.sum(w*valTestX[i,:wSize]) - valTestY[i,0])**2) + Lambda*np.sum(np.abs(w)**q)/2\n",
    "\n",
    "TestErrorArray = np.append(TestErrorArray, testError)\n",
    "testError/np.shape(valTestX)[0]"
   ]
  },
  {
   "cell_type": "code",
   "execution_count": null,
   "id": "83ef1bde",
   "metadata": {},
   "outputs": [],
   "source": []
  },
  {
   "cell_type": "code",
   "execution_count": 34,
   "id": "d39ff04a",
   "metadata": {},
   "outputs": [],
   "source": [
    "# Reularization variables\n",
    "Lambda = np.exp(-7)\n",
    "q = 4"
   ]
  },
  {
   "cell_type": "code",
   "execution_count": 35,
   "id": "88f3b925",
   "metadata": {},
   "outputs": [
    {
     "name": "stdout",
     "output_type": "stream",
     "text": [
      "0\n",
      "Optimal Lambda = 0.01\n"
     ]
    }
   ],
   "source": [
    "# Degree 1 here with regularization q = 4\n",
    "degree = 1\n",
    "wSize = 3\n",
    "w = np.ones(wSize)\n",
    "w1 = np.zeros(wSize)\n",
    "\n",
    "counter = 0\n",
    "costArr= np.zeros(iters+1)\n",
    "counterArr = np.zeros(iters+1)\n",
    "for Lambda in LambdaArr:\n",
    "    for i in range(iters):\n",
    "        z = w.copy()\n",
    "        z[0]=0\n",
    "        w2 = (np.sum((valY-np.reshape(np.sum(w*valX, axis = 1), (np.shape(valX)[0],1)))*valX*-1, axis = 0)) + Lambda*q*(z**(q-1))/2\n",
    "        # sum(Y-wX)*X where X = [1,x1,x2], so we get a matrix of 1x3 and w = [w0,w1,w2], z = [0,w1,w2]\n",
    "\n",
    "        w1 = w - learningRate*w2\n",
    "        if w1[0] - w[0] <= 10**(-20):\n",
    "            w=w1\n",
    "            break\n",
    "        w=w1\n",
    "        counter+=1\n",
    "        costArr[counter] = w2[0]\n",
    "        counterArr[counter] = counter\n",
    "        \n",
    "        ErrorLambdas = 0\n",
    "        for i in range(np.shape(valX)[0]):\n",
    "            ErrorLambdas += ((np.sum(w*valX[i,:wSize]) - valY[i,0])**2) + Lambda*np.sum(np.abs(w)**q)/2\n",
    "\n",
    "        TrainErrorArrayLambda = np.append(TrainErrorArrayLambda, ErrorLambdas)\n",
    "\n",
    "        testError = 0\n",
    "        for i in range(np.shape(valTestX)[0]):\n",
    "            testError += ((np.sum(w*valTestX[i,:wSize]) - valTestY[i,0])**2) + Lambda*np.sum(np.abs(w)**q)/2\n",
    "\n",
    "        TestErrorArrayLambda = np.append(TestErrorArrayLambda, testError)\n",
    "\n",
    "\n",
    "minIndex = int(np.where(z == np.amin(z))[0])\n",
    "print(minIndex)\n",
    "\n",
    "\n",
    "Lambda = (minIndex+1)*0.01\n",
    "print(\"Optimal Lambda = \", Lambda, sep = '')"
   ]
  },
  {
   "cell_type": "code",
   "execution_count": 36,
   "id": "e0f64eba",
   "metadata": {},
   "outputs": [
    {
     "name": "stdout",
     "output_type": "stream",
     "text": [
      "w0= 0.5467671780085145\n",
      "w1= 0.567511755377248\n",
      "w2= 0.6434563923290014\n"
     ]
    }
   ],
   "source": [
    "# Degree 1 here with regularization q = 4\n",
    "degree = 1\n",
    "wSize = 3\n",
    "w = np.ones(wSize)\n",
    "w1 = np.zeros(wSize)\n",
    "\n",
    "counter = 0\n",
    "costArr= np.zeros(iters+1)\n",
    "counterArr = np.zeros(iters+1)\n",
    "for i in range(iters):\n",
    "    z = w.copy()\n",
    "    z[0]=0\n",
    "    w2 = (np.sum((valY-np.reshape(np.sum(w*valX, axis = 1), (np.shape(valX)[0],1)))*valX*-1, axis = 0)) + Lambda*q*(z**(q-1))/2\n",
    "    # sum(Y-wX)*X where X = [1,x1,x2], so we get a matrix of 1x3 and w = [w0,w1,w2], z = [0,w1,w2]\n",
    "    \n",
    "    w1 = w - learningRate*w2\n",
    "    if w1[0] - w[0] <= 10**(-20):\n",
    "        w=w1\n",
    "        break\n",
    "    w=w1\n",
    "    counter+=1\n",
    "    costArr[counter] = w2[0]\n",
    "    counterArr[counter] = counter\n",
    "\n",
    "   \n",
    "\n",
    "for i in range(np.shape(w)[0]):    \n",
    "    print(\"w\", i, \"= \", w[i], sep = '')\n"
   ]
  },
  {
   "cell_type": "code",
   "execution_count": 37,
   "id": "b27f1fae",
   "metadata": {},
   "outputs": [
    {
     "data": {
      "text/plain": [
       "1.1720989996654188"
      ]
     },
     "execution_count": 37,
     "metadata": {},
     "output_type": "execute_result"
    }
   ],
   "source": [
    "w1 = 0\n",
    "for i in range(np.shape(valX)[0]):\n",
    "    w1+= ((np.sum(w*valX[i,:wSize]) - valY[i,0])**2) + Lambda*np.sum(np.abs(w)**q)/2\n",
    "\n",
    "TrainErrorArray = np.append(TrainErrorArray, w1)\n",
    "w1/np.shape(valX)[0]"
   ]
  },
  {
   "cell_type": "code",
   "execution_count": 38,
   "id": "737bea84",
   "metadata": {},
   "outputs": [
    {
     "data": {
      "text/plain": [
       "1.0209197983100253"
      ]
     },
     "execution_count": 38,
     "metadata": {},
     "output_type": "execute_result"
    }
   ],
   "source": [
    "testError = 0\n",
    "for i in range(np.shape(valTestX)[0]):\n",
    "    testError += ((np.sum(w*valTestX[i,:wSize]) - valTestY[i,0])**2) + Lambda*np.sum(np.abs(w)**q)/2\n",
    "\n",
    "TestErrorArray = np.append(TestErrorArray, testError)\n",
    "testError/np.shape(valTestX)[0]"
   ]
  },
  {
   "cell_type": "code",
   "execution_count": 39,
   "id": "3c63b845",
   "metadata": {},
   "outputs": [
    {
     "name": "stdout",
     "output_type": "stream",
     "text": [
      "[1.17030556 1.18177666 1.17908708 1.17546638 1.172099  ]\n",
      "[1.01911636 1.03058871 1.02790038 1.02428218 1.0209198 ]\n"
     ]
    }
   ],
   "source": [
    "print(TrainErrorArray/np.shape(valX)[0])\n",
    "print(TestErrorArray/np.shape(valTestX)[0])"
   ]
  },
  {
   "cell_type": "code",
   "execution_count": null,
   "id": "5edd6dd6",
   "metadata": {},
   "outputs": [],
   "source": []
  }
 ],
 "metadata": {
  "kernelspec": {
   "display_name": "Python 3 (ipykernel)",
   "language": "python",
   "name": "python3"
  },
  "language_info": {
   "codemirror_mode": {
    "name": "ipython",
    "version": 3
   },
   "file_extension": ".py",
   "mimetype": "text/x-python",
   "name": "python",
   "nbconvert_exporter": "python",
   "pygments_lexer": "ipython3",
   "version": "3.9.12"
  }
 },
 "nbformat": 4,
 "nbformat_minor": 5
}
