{
 "cells": [
  {
   "cell_type": "code",
   "execution_count": 1,
   "id": "4d67eca0",
   "metadata": {},
   "outputs": [
    {
     "name": "stdout",
     "output_type": "stream",
     "text": [
      "Success\n"
     ]
    }
   ],
   "source": [
    "import pandas as pd\n",
    "import numpy as np\n",
    "import matplotlib.pyplot as plt\n",
    "from sklearn import tree\n",
    "from sklearn.model_selection import train_test_split\n",
    "from sklearn.tree import DecisionTreeRegressor\n",
    "from sklearn.preprocessing import StandardScaler\n",
    "from sklearn.linear_model import LinearRegression\n",
    "print(\"Success\")"
   ]
  },
  {
   "cell_type": "code",
   "execution_count": 2,
   "id": "a2b4e8a6",
   "metadata": {
    "scrolled": false
   },
   "outputs": [
    {
     "data": {
      "text/html": [
       "<div>\n",
       "<style scoped>\n",
       "    .dataframe tbody tr th:only-of-type {\n",
       "        vertical-align: middle;\n",
       "    }\n",
       "\n",
       "    .dataframe tbody tr th {\n",
       "        vertical-align: top;\n",
       "    }\n",
       "\n",
       "    .dataframe thead th {\n",
       "        text-align: right;\n",
       "    }\n",
       "</style>\n",
       "<table border=\"1\" class=\"dataframe\">\n",
       "  <thead>\n",
       "    <tr style=\"text-align: right;\">\n",
       "      <th></th>\n",
       "      <th>MLOGP</th>\n",
       "      <th>RDCHI</th>\n",
       "      <th>quantitative response of LC50</th>\n",
       "    </tr>\n",
       "  </thead>\n",
       "  <tbody>\n",
       "    <tr>\n",
       "      <th>0</th>\n",
       "      <td>2.419</td>\n",
       "      <td>1.225</td>\n",
       "      <td>3.740</td>\n",
       "    </tr>\n",
       "    <tr>\n",
       "      <th>1</th>\n",
       "      <td>2.638</td>\n",
       "      <td>1.401</td>\n",
       "      <td>4.330</td>\n",
       "    </tr>\n",
       "    <tr>\n",
       "      <th>2</th>\n",
       "      <td>5.799</td>\n",
       "      <td>2.930</td>\n",
       "      <td>7.019</td>\n",
       "    </tr>\n",
       "    <tr>\n",
       "      <th>3</th>\n",
       "      <td>5.453</td>\n",
       "      <td>2.887</td>\n",
       "      <td>6.723</td>\n",
       "    </tr>\n",
       "    <tr>\n",
       "      <th>4</th>\n",
       "      <td>4.068</td>\n",
       "      <td>2.758</td>\n",
       "      <td>5.979</td>\n",
       "    </tr>\n",
       "    <tr>\n",
       "      <th>...</th>\n",
       "      <td>...</td>\n",
       "      <td>...</td>\n",
       "      <td>...</td>\n",
       "    </tr>\n",
       "    <tr>\n",
       "      <th>541</th>\n",
       "      <td>3.326</td>\n",
       "      <td>2.837</td>\n",
       "      <td>4.651</td>\n",
       "    </tr>\n",
       "    <tr>\n",
       "      <th>542</th>\n",
       "      <td>3.275</td>\n",
       "      <td>2.727</td>\n",
       "      <td>3.953</td>\n",
       "    </tr>\n",
       "    <tr>\n",
       "      <th>543</th>\n",
       "      <td>5.165</td>\n",
       "      <td>3.111</td>\n",
       "      <td>6.219</td>\n",
       "    </tr>\n",
       "    <tr>\n",
       "      <th>544</th>\n",
       "      <td>2.859</td>\n",
       "      <td>2.614</td>\n",
       "      <td>4.995</td>\n",
       "    </tr>\n",
       "    <tr>\n",
       "      <th>545</th>\n",
       "      <td>2.255</td>\n",
       "      <td>1.800</td>\n",
       "      <td>2.480</td>\n",
       "    </tr>\n",
       "  </tbody>\n",
       "</table>\n",
       "<p>546 rows × 3 columns</p>\n",
       "</div>"
      ],
      "text/plain": [
       "     MLOGP  RDCHI  quantitative response of LC50\n",
       "0    2.419  1.225                          3.740\n",
       "1    2.638  1.401                          4.330\n",
       "2    5.799  2.930                          7.019\n",
       "3    5.453  2.887                          6.723\n",
       "4    4.068  2.758                          5.979\n",
       "..     ...    ...                            ...\n",
       "541  3.326  2.837                          4.651\n",
       "542  3.275  2.727                          3.953\n",
       "543  5.165  3.111                          6.219\n",
       "544  2.859  2.614                          4.995\n",
       "545  2.255  1.800                          2.480\n",
       "\n",
       "[546 rows x 3 columns]"
      ]
     },
     "execution_count": 2,
     "metadata": {},
     "output_type": "execute_result"
    }
   ],
   "source": [
    "df = pd.read_csv('fods_1.csv')\n",
    "df"
   ]
  },
  {
   "cell_type": "code",
   "execution_count": 3,
   "id": "3bed213f",
   "metadata": {},
   "outputs": [
    {
     "name": "stdout",
     "output_type": "stream",
     "text": [
      "2.3134926739926738 2.4922985347985356 4.6584212454212475 1.741797285664983 0.8110039291512505 1.6652150617992907\n"
     ]
    }
   ],
   "source": [
    "meanX1 = df['MLOGP'].mean()\n",
    "meanX2 = df['RDCHI'].mean()\n",
    "meanY = df['quantitative response of LC50'].mean()\n",
    "stdX1 = df['MLOGP'].std()\n",
    "stdX2 = df['RDCHI'].std()\n",
    "stdY = df['quantitative response of LC50'].std()\n",
    "print(meanX1, meanX2, meanY, stdX1, stdX2, stdY)"
   ]
  },
  {
   "cell_type": "code",
   "execution_count": 4,
   "id": "45c034ec",
   "metadata": {
    "scrolled": false
   },
   "outputs": [
    {
     "data": {
      "text/html": [
       "<div>\n",
       "<style scoped>\n",
       "    .dataframe tbody tr th:only-of-type {\n",
       "        vertical-align: middle;\n",
       "    }\n",
       "\n",
       "    .dataframe tbody tr th {\n",
       "        vertical-align: top;\n",
       "    }\n",
       "\n",
       "    .dataframe thead th {\n",
       "        text-align: right;\n",
       "    }\n",
       "</style>\n",
       "<table border=\"1\" class=\"dataframe\">\n",
       "  <thead>\n",
       "    <tr style=\"text-align: right;\">\n",
       "      <th></th>\n",
       "      <th>MLOGP</th>\n",
       "      <th>RDCHI</th>\n",
       "      <th>quantitative response of LC50</th>\n",
       "    </tr>\n",
       "  </thead>\n",
       "  <tbody>\n",
       "    <tr>\n",
       "      <th>0</th>\n",
       "      <td>0.060574</td>\n",
       "      <td>-1.562629</td>\n",
       "      <td>-0.551533</td>\n",
       "    </tr>\n",
       "    <tr>\n",
       "      <th>1</th>\n",
       "      <td>0.186306</td>\n",
       "      <td>-1.345614</td>\n",
       "      <td>-0.197225</td>\n",
       "    </tr>\n",
       "    <tr>\n",
       "      <th>2</th>\n",
       "      <td>2.001098</td>\n",
       "      <td>0.539703</td>\n",
       "      <td>1.417582</td>\n",
       "    </tr>\n",
       "    <tr>\n",
       "      <th>3</th>\n",
       "      <td>1.802453</td>\n",
       "      <td>0.486683</td>\n",
       "      <td>1.239827</td>\n",
       "    </tr>\n",
       "    <tr>\n",
       "      <th>4</th>\n",
       "      <td>1.007297</td>\n",
       "      <td>0.327620</td>\n",
       "      <td>0.793038</td>\n",
       "    </tr>\n",
       "    <tr>\n",
       "      <th>...</th>\n",
       "      <td>...</td>\n",
       "      <td>...</td>\n",
       "      <td>...</td>\n",
       "    </tr>\n",
       "    <tr>\n",
       "      <th>541</th>\n",
       "      <td>0.581300</td>\n",
       "      <td>0.425031</td>\n",
       "      <td>-0.004457</td>\n",
       "    </tr>\n",
       "    <tr>\n",
       "      <th>542</th>\n",
       "      <td>0.552020</td>\n",
       "      <td>0.289396</td>\n",
       "      <td>-0.423622</td>\n",
       "    </tr>\n",
       "    <tr>\n",
       "      <th>543</th>\n",
       "      <td>1.637106</td>\n",
       "      <td>0.762883</td>\n",
       "      <td>0.937163</td>\n",
       "    </tr>\n",
       "    <tr>\n",
       "      <th>544</th>\n",
       "      <td>0.313186</td>\n",
       "      <td>0.150063</td>\n",
       "      <td>0.202123</td>\n",
       "    </tr>\n",
       "    <tr>\n",
       "      <th>545</th>\n",
       "      <td>-0.033582</td>\n",
       "      <td>-0.853632</td>\n",
       "      <td>-1.308192</td>\n",
       "    </tr>\n",
       "  </tbody>\n",
       "</table>\n",
       "<p>546 rows × 3 columns</p>\n",
       "</div>"
      ],
      "text/plain": [
       "        MLOGP     RDCHI  quantitative response of LC50\n",
       "0    0.060574 -1.562629                      -0.551533\n",
       "1    0.186306 -1.345614                      -0.197225\n",
       "2    2.001098  0.539703                       1.417582\n",
       "3    1.802453  0.486683                       1.239827\n",
       "4    1.007297  0.327620                       0.793038\n",
       "..        ...       ...                            ...\n",
       "541  0.581300  0.425031                      -0.004457\n",
       "542  0.552020  0.289396                      -0.423622\n",
       "543  1.637106  0.762883                       0.937163\n",
       "544  0.313186  0.150063                       0.202123\n",
       "545 -0.033582 -0.853632                      -1.308192\n",
       "\n",
       "[546 rows x 3 columns]"
      ]
     },
     "execution_count": 4,
     "metadata": {},
     "output_type": "execute_result"
    }
   ],
   "source": [
    "# standardization\n",
    "df['MLOGP'] = (df['MLOGP'] - meanX1)/stdX1\n",
    "df['RDCHI'] = (df['RDCHI'] - meanX2)/stdX2\n",
    "df['quantitative response of LC50'] = (df['quantitative response of LC50'] - meanY)/stdY\n",
    "df"
   ]
  },
  {
   "cell_type": "code",
   "execution_count": 5,
   "id": "47c9de65",
   "metadata": {},
   "outputs": [
    {
     "data": {
      "text/plain": [
       "MLOGP                            0\n",
       "RDCHI                            0\n",
       "quantitative response of LC50    0\n",
       "dtype: int64"
      ]
     },
     "execution_count": 5,
     "metadata": {},
     "output_type": "execute_result"
    }
   ],
   "source": [
    "df.isnull().sum()"
   ]
  },
  {
   "cell_type": "code",
   "execution_count": 6,
   "id": "827d288f",
   "metadata": {},
   "outputs": [
    {
     "data": {
      "text/html": [
       "<div>\n",
       "<style scoped>\n",
       "    .dataframe tbody tr th:only-of-type {\n",
       "        vertical-align: middle;\n",
       "    }\n",
       "\n",
       "    .dataframe tbody tr th {\n",
       "        vertical-align: top;\n",
       "    }\n",
       "\n",
       "    .dataframe thead th {\n",
       "        text-align: right;\n",
       "    }\n",
       "</style>\n",
       "<table border=\"1\" class=\"dataframe\">\n",
       "  <thead>\n",
       "    <tr style=\"text-align: right;\">\n",
       "      <th></th>\n",
       "      <th>MLOGP</th>\n",
       "      <th>RDCHI</th>\n",
       "      <th>quantitative response of LC50</th>\n",
       "    </tr>\n",
       "  </thead>\n",
       "  <tbody>\n",
       "    <tr>\n",
       "      <th>491</th>\n",
       "      <td>-0.417668</td>\n",
       "      <td>0.224045</td>\n",
       "      <td>0.098833</td>\n",
       "    </tr>\n",
       "    <tr>\n",
       "      <th>113</th>\n",
       "      <td>-0.380350</td>\n",
       "      <td>0.360913</td>\n",
       "      <td>-0.952682</td>\n",
       "    </tr>\n",
       "    <tr>\n",
       "      <th>285</th>\n",
       "      <td>-1.462566</td>\n",
       "      <td>-0.637850</td>\n",
       "      <td>-0.565946</td>\n",
       "    </tr>\n",
       "    <tr>\n",
       "      <th>26</th>\n",
       "      <td>1.915554</td>\n",
       "      <td>1.891115</td>\n",
       "      <td>1.466224</td>\n",
       "    </tr>\n",
       "    <tr>\n",
       "      <th>134</th>\n",
       "      <td>-0.550864</td>\n",
       "      <td>-0.742658</td>\n",
       "      <td>-1.938741</td>\n",
       "    </tr>\n",
       "    <tr>\n",
       "      <th>...</th>\n",
       "      <td>...</td>\n",
       "      <td>...</td>\n",
       "      <td>...</td>\n",
       "    </tr>\n",
       "    <tr>\n",
       "      <th>54</th>\n",
       "      <td>0.044498</td>\n",
       "      <td>0.147597</td>\n",
       "      <td>0.997816</td>\n",
       "    </tr>\n",
       "    <tr>\n",
       "      <th>493</th>\n",
       "      <td>0.542834</td>\n",
       "      <td>-0.632917</td>\n",
       "      <td>-0.215240</td>\n",
       "    </tr>\n",
       "    <tr>\n",
       "      <th>341</th>\n",
       "      <td>-0.324086</td>\n",
       "      <td>1.447220</td>\n",
       "      <td>-0.260279</td>\n",
       "    </tr>\n",
       "    <tr>\n",
       "      <th>358</th>\n",
       "      <td>0.836209</td>\n",
       "      <td>0.738223</td>\n",
       "      <td>-0.389392</td>\n",
       "    </tr>\n",
       "    <tr>\n",
       "      <th>177</th>\n",
       "      <td>0.242570</td>\n",
       "      <td>-0.376445</td>\n",
       "      <td>0.428520</td>\n",
       "    </tr>\n",
       "  </tbody>\n",
       "</table>\n",
       "<p>436 rows × 3 columns</p>\n",
       "</div>"
      ],
      "text/plain": [
       "        MLOGP     RDCHI  quantitative response of LC50\n",
       "491 -0.417668  0.224045                       0.098833\n",
       "113 -0.380350  0.360913                      -0.952682\n",
       "285 -1.462566 -0.637850                      -0.565946\n",
       "26   1.915554  1.891115                       1.466224\n",
       "134 -0.550864 -0.742658                      -1.938741\n",
       "..        ...       ...                            ...\n",
       "54   0.044498  0.147597                       0.997816\n",
       "493  0.542834 -0.632917                      -0.215240\n",
       "341 -0.324086  1.447220                      -0.260279\n",
       "358  0.836209  0.738223                      -0.389392\n",
       "177  0.242570 -0.376445                       0.428520\n",
       "\n",
       "[436 rows x 3 columns]"
      ]
     },
     "execution_count": 6,
     "metadata": {},
     "output_type": "execute_result"
    }
   ],
   "source": [
    "train, test = train_test_split(df, test_size=0.2) # this is a random split\n",
    "train"
   ]
  },
  {
   "cell_type": "code",
   "execution_count": 7,
   "id": "f5790539",
   "metadata": {
    "scrolled": false
   },
   "outputs": [
    {
     "data": {
      "text/html": [
       "<div>\n",
       "<style scoped>\n",
       "    .dataframe tbody tr th:only-of-type {\n",
       "        vertical-align: middle;\n",
       "    }\n",
       "\n",
       "    .dataframe tbody tr th {\n",
       "        vertical-align: top;\n",
       "    }\n",
       "\n",
       "    .dataframe thead th {\n",
       "        text-align: right;\n",
       "    }\n",
       "</style>\n",
       "<table border=\"1\" class=\"dataframe\">\n",
       "  <thead>\n",
       "    <tr style=\"text-align: right;\">\n",
       "      <th></th>\n",
       "      <th>MLOGP</th>\n",
       "      <th>RDCHI</th>\n",
       "      <th>quantitative response of LC50</th>\n",
       "    </tr>\n",
       "  </thead>\n",
       "  <tbody>\n",
       "    <tr>\n",
       "      <th>352</th>\n",
       "      <td>-1.999367</td>\n",
       "      <td>-0.196421</td>\n",
       "      <td>-1.154458</td>\n",
       "    </tr>\n",
       "    <tr>\n",
       "      <th>103</th>\n",
       "      <td>-1.046329</td>\n",
       "      <td>0.445992</td>\n",
       "      <td>2.216278</td>\n",
       "    </tr>\n",
       "    <tr>\n",
       "      <th>399</th>\n",
       "      <td>-0.381498</td>\n",
       "      <td>0.042788</td>\n",
       "      <td>-0.913048</td>\n",
       "    </tr>\n",
       "    <tr>\n",
       "      <th>17</th>\n",
       "      <td>1.300672</td>\n",
       "      <td>1.704926</td>\n",
       "      <td>1.822334</td>\n",
       "    </tr>\n",
       "    <tr>\n",
       "      <th>486</th>\n",
       "      <td>-0.742620</td>\n",
       "      <td>0.587792</td>\n",
       "      <td>0.565440</td>\n",
       "    </tr>\n",
       "    <tr>\n",
       "      <th>...</th>\n",
       "      <td>...</td>\n",
       "      <td>...</td>\n",
       "      <td>...</td>\n",
       "    </tr>\n",
       "    <tr>\n",
       "      <th>233</th>\n",
       "      <td>-0.133479</td>\n",
       "      <td>-1.212446</td>\n",
       "      <td>-0.202029</td>\n",
       "    </tr>\n",
       "    <tr>\n",
       "      <th>92</th>\n",
       "      <td>-0.068029</td>\n",
       "      <td>0.727125</td>\n",
       "      <td>1.432595</td>\n",
       "    </tr>\n",
       "    <tr>\n",
       "      <th>386</th>\n",
       "      <td>0.650769</td>\n",
       "      <td>-0.228480</td>\n",
       "      <td>0.164290</td>\n",
       "    </tr>\n",
       "    <tr>\n",
       "      <th>523</th>\n",
       "      <td>-1.214546</td>\n",
       "      <td>-0.875826</td>\n",
       "      <td>0.148677</td>\n",
       "    </tr>\n",
       "    <tr>\n",
       "      <th>379</th>\n",
       "      <td>0.467051</td>\n",
       "      <td>0.138965</td>\n",
       "      <td>0.005752</td>\n",
       "    </tr>\n",
       "  </tbody>\n",
       "</table>\n",
       "<p>110 rows × 3 columns</p>\n",
       "</div>"
      ],
      "text/plain": [
       "        MLOGP     RDCHI  quantitative response of LC50\n",
       "352 -1.999367 -0.196421                      -1.154458\n",
       "103 -1.046329  0.445992                       2.216278\n",
       "399 -0.381498  0.042788                      -0.913048\n",
       "17   1.300672  1.704926                       1.822334\n",
       "486 -0.742620  0.587792                       0.565440\n",
       "..        ...       ...                            ...\n",
       "233 -0.133479 -1.212446                      -0.202029\n",
       "92  -0.068029  0.727125                       1.432595\n",
       "386  0.650769 -0.228480                       0.164290\n",
       "523 -1.214546 -0.875826                       0.148677\n",
       "379  0.467051  0.138965                       0.005752\n",
       "\n",
       "[110 rows x 3 columns]"
      ]
     },
     "execution_count": 7,
     "metadata": {},
     "output_type": "execute_result"
    }
   ],
   "source": [
    "test"
   ]
  },
  {
   "cell_type": "code",
   "execution_count": 8,
   "id": "72fb5c78",
   "metadata": {},
   "outputs": [
    {
     "data": {
      "image/png": "[encoded data removed]",
      "text/plain": [
       "<Figure size 432x288 with 1 Axes>"
      ]
     },
     "metadata": {
      "needs_background": "light"
     },
     "output_type": "display_data"
    }
   ],
   "source": [
    "ax = plt.axes(projection='3d')\n",
    "\n",
    "# Data for three-dimensional scattered points\n",
    "zdata = train[\"quantitative response of LC50\"]\n",
    "xdata = train[\"RDCHI\"]\n",
    "ydata = train[\"MLOGP\"]\n",
    "ax.scatter3D(xdata, ydata, zdata, c=zdata, cmap='Greens');"
   ]
  },
  {
   "cell_type": "code",
   "execution_count": 9,
   "id": "16cf1ca1",
   "metadata": {},
   "outputs": [
    {
     "data": {
      "text/html": [
       "<div>\n",
       "<style scoped>\n",
       "    .dataframe tbody tr th:only-of-type {\n",
       "        vertical-align: middle;\n",
       "    }\n",
       "\n",
       "    .dataframe tbody tr th {\n",
       "        vertical-align: top;\n",
       "    }\n",
       "\n",
       "    .dataframe thead th {\n",
       "        text-align: right;\n",
       "    }\n",
       "</style>\n",
       "<table border=\"1\" class=\"dataframe\">\n",
       "  <thead>\n",
       "    <tr style=\"text-align: right;\">\n",
       "      <th></th>\n",
       "      <th>RDCHI</th>\n",
       "      <th>MLOGP</th>\n",
       "    </tr>\n",
       "  </thead>\n",
       "  <tbody>\n",
       "    <tr>\n",
       "      <th>491</th>\n",
       "      <td>0.224045</td>\n",
       "      <td>-0.417668</td>\n",
       "    </tr>\n",
       "    <tr>\n",
       "      <th>113</th>\n",
       "      <td>0.360913</td>\n",
       "      <td>-0.380350</td>\n",
       "    </tr>\n",
       "    <tr>\n",
       "      <th>285</th>\n",
       "      <td>-0.637850</td>\n",
       "      <td>-1.462566</td>\n",
       "    </tr>\n",
       "    <tr>\n",
       "      <th>26</th>\n",
       "      <td>1.891115</td>\n",
       "      <td>1.915554</td>\n",
       "    </tr>\n",
       "    <tr>\n",
       "      <th>134</th>\n",
       "      <td>-0.742658</td>\n",
       "      <td>-0.550864</td>\n",
       "    </tr>\n",
       "    <tr>\n",
       "      <th>...</th>\n",
       "      <td>...</td>\n",
       "      <td>...</td>\n",
       "    </tr>\n",
       "    <tr>\n",
       "      <th>54</th>\n",
       "      <td>0.147597</td>\n",
       "      <td>0.044498</td>\n",
       "    </tr>\n",
       "    <tr>\n",
       "      <th>493</th>\n",
       "      <td>-0.632917</td>\n",
       "      <td>0.542834</td>\n",
       "    </tr>\n",
       "    <tr>\n",
       "      <th>341</th>\n",
       "      <td>1.447220</td>\n",
       "      <td>-0.324086</td>\n",
       "    </tr>\n",
       "    <tr>\n",
       "      <th>358</th>\n",
       "      <td>0.738223</td>\n",
       "      <td>0.836209</td>\n",
       "    </tr>\n",
       "    <tr>\n",
       "      <th>177</th>\n",
       "      <td>-0.376445</td>\n",
       "      <td>0.242570</td>\n",
       "    </tr>\n",
       "  </tbody>\n",
       "</table>\n",
       "<p>436 rows × 2 columns</p>\n",
       "</div>"
      ],
      "text/plain": [
       "        RDCHI     MLOGP\n",
       "491  0.224045 -0.417668\n",
       "113  0.360913 -0.380350\n",
       "285 -0.637850 -1.462566\n",
       "26   1.891115  1.915554\n",
       "134 -0.742658 -0.550864\n",
       "..        ...       ...\n",
       "54   0.147597  0.044498\n",
       "493 -0.632917  0.542834\n",
       "341  1.447220 -0.324086\n",
       "358  0.738223  0.836209\n",
       "177 -0.376445  0.242570\n",
       "\n",
       "[436 rows x 2 columns]"
      ]
     },
     "execution_count": 9,
     "metadata": {},
     "output_type": "execute_result"
    }
   ],
   "source": [
    "trainX = pd.DataFrame(train[[\"RDCHI\", \"MLOGP\"]])\n",
    "trainX"
   ]
  },
  {
   "cell_type": "code",
   "execution_count": 10,
   "id": "d79abd31",
   "metadata": {},
   "outputs": [
    {
     "data": {
      "text/html": [
       "<div>\n",
       "<style scoped>\n",
       "    .dataframe tbody tr th:only-of-type {\n",
       "        vertical-align: middle;\n",
       "    }\n",
       "\n",
       "    .dataframe tbody tr th {\n",
       "        vertical-align: top;\n",
       "    }\n",
       "\n",
       "    .dataframe thead th {\n",
       "        text-align: right;\n",
       "    }\n",
       "</style>\n",
       "<table border=\"1\" class=\"dataframe\">\n",
       "  <thead>\n",
       "    <tr style=\"text-align: right;\">\n",
       "      <th></th>\n",
       "      <th>quantitative response of LC50</th>\n",
       "    </tr>\n",
       "  </thead>\n",
       "  <tbody>\n",
       "    <tr>\n",
       "      <th>491</th>\n",
       "      <td>0.098833</td>\n",
       "    </tr>\n",
       "    <tr>\n",
       "      <th>113</th>\n",
       "      <td>-0.952682</td>\n",
       "    </tr>\n",
       "    <tr>\n",
       "      <th>285</th>\n",
       "      <td>-0.565946</td>\n",
       "    </tr>\n",
       "    <tr>\n",
       "      <th>26</th>\n",
       "      <td>1.466224</td>\n",
       "    </tr>\n",
       "    <tr>\n",
       "      <th>134</th>\n",
       "      <td>-1.938741</td>\n",
       "    </tr>\n",
       "    <tr>\n",
       "      <th>...</th>\n",
       "      <td>...</td>\n",
       "    </tr>\n",
       "    <tr>\n",
       "      <th>54</th>\n",
       "      <td>0.997816</td>\n",
       "    </tr>\n",
       "    <tr>\n",
       "      <th>493</th>\n",
       "      <td>-0.215240</td>\n",
       "    </tr>\n",
       "    <tr>\n",
       "      <th>341</th>\n",
       "      <td>-0.260279</td>\n",
       "    </tr>\n",
       "    <tr>\n",
       "      <th>358</th>\n",
       "      <td>-0.389392</td>\n",
       "    </tr>\n",
       "    <tr>\n",
       "      <th>177</th>\n",
       "      <td>0.428520</td>\n",
       "    </tr>\n",
       "  </tbody>\n",
       "</table>\n",
       "<p>436 rows × 1 columns</p>\n",
       "</div>"
      ],
      "text/plain": [
       "     quantitative response of LC50\n",
       "491                       0.098833\n",
       "113                      -0.952682\n",
       "285                      -0.565946\n",
       "26                        1.466224\n",
       "134                      -1.938741\n",
       "..                             ...\n",
       "54                        0.997816\n",
       "493                      -0.215240\n",
       "341                      -0.260279\n",
       "358                      -0.389392\n",
       "177                       0.428520\n",
       "\n",
       "[436 rows x 1 columns]"
      ]
     },
     "execution_count": 10,
     "metadata": {},
     "output_type": "execute_result"
    }
   ],
   "source": [
    "trainY = pd.DataFrame(train[\"quantitative response of LC50\"])\n",
    "trainY"
   ]
  },
  {
   "cell_type": "code",
   "execution_count": 11,
   "id": "cbb0e298",
   "metadata": {},
   "outputs": [
    {
     "data": {
      "text/html": [
       "<div>\n",
       "<style scoped>\n",
       "    .dataframe tbody tr th:only-of-type {\n",
       "        vertical-align: middle;\n",
       "    }\n",
       "\n",
       "    .dataframe tbody tr th {\n",
       "        vertical-align: top;\n",
       "    }\n",
       "\n",
       "    .dataframe thead th {\n",
       "        text-align: right;\n",
       "    }\n",
       "</style>\n",
       "<table border=\"1\" class=\"dataframe\">\n",
       "  <thead>\n",
       "    <tr style=\"text-align: right;\">\n",
       "      <th></th>\n",
       "      <th>RDCHI</th>\n",
       "      <th>MLOGP</th>\n",
       "    </tr>\n",
       "  </thead>\n",
       "  <tbody>\n",
       "    <tr>\n",
       "      <th>352</th>\n",
       "      <td>-0.196421</td>\n",
       "      <td>-1.999367</td>\n",
       "    </tr>\n",
       "    <tr>\n",
       "      <th>103</th>\n",
       "      <td>0.445992</td>\n",
       "      <td>-1.046329</td>\n",
       "    </tr>\n",
       "    <tr>\n",
       "      <th>399</th>\n",
       "      <td>0.042788</td>\n",
       "      <td>-0.381498</td>\n",
       "    </tr>\n",
       "    <tr>\n",
       "      <th>17</th>\n",
       "      <td>1.704926</td>\n",
       "      <td>1.300672</td>\n",
       "    </tr>\n",
       "    <tr>\n",
       "      <th>486</th>\n",
       "      <td>0.587792</td>\n",
       "      <td>-0.742620</td>\n",
       "    </tr>\n",
       "    <tr>\n",
       "      <th>...</th>\n",
       "      <td>...</td>\n",
       "      <td>...</td>\n",
       "    </tr>\n",
       "    <tr>\n",
       "      <th>233</th>\n",
       "      <td>-1.212446</td>\n",
       "      <td>-0.133479</td>\n",
       "    </tr>\n",
       "    <tr>\n",
       "      <th>92</th>\n",
       "      <td>0.727125</td>\n",
       "      <td>-0.068029</td>\n",
       "    </tr>\n",
       "    <tr>\n",
       "      <th>386</th>\n",
       "      <td>-0.228480</td>\n",
       "      <td>0.650769</td>\n",
       "    </tr>\n",
       "    <tr>\n",
       "      <th>523</th>\n",
       "      <td>-0.875826</td>\n",
       "      <td>-1.214546</td>\n",
       "    </tr>\n",
       "    <tr>\n",
       "      <th>379</th>\n",
       "      <td>0.138965</td>\n",
       "      <td>0.467051</td>\n",
       "    </tr>\n",
       "  </tbody>\n",
       "</table>\n",
       "<p>110 rows × 2 columns</p>\n",
       "</div>"
      ],
      "text/plain": [
       "        RDCHI     MLOGP\n",
       "352 -0.196421 -1.999367\n",
       "103  0.445992 -1.046329\n",
       "399  0.042788 -0.381498\n",
       "17   1.704926  1.300672\n",
       "486  0.587792 -0.742620\n",
       "..        ...       ...\n",
       "233 -1.212446 -0.133479\n",
       "92   0.727125 -0.068029\n",
       "386 -0.228480  0.650769\n",
       "523 -0.875826 -1.214546\n",
       "379  0.138965  0.467051\n",
       "\n",
       "[110 rows x 2 columns]"
      ]
     },
     "execution_count": 11,
     "metadata": {},
     "output_type": "execute_result"
    }
   ],
   "source": [
    "testX = pd.DataFrame(test[[\"RDCHI\", \"MLOGP\"]])\n",
    "testY = pd.DataFrame(test['quantitative response of LC50'])\n",
    "testX"
   ]
  },
  {
   "cell_type": "code",
   "execution_count": 12,
   "id": "3c103a6f",
   "metadata": {},
   "outputs": [
    {
     "data": {
      "text/html": [
       "<div>\n",
       "<style scoped>\n",
       "    .dataframe tbody tr th:only-of-type {\n",
       "        vertical-align: middle;\n",
       "    }\n",
       "\n",
       "    .dataframe tbody tr th {\n",
       "        vertical-align: top;\n",
       "    }\n",
       "\n",
       "    .dataframe thead th {\n",
       "        text-align: right;\n",
       "    }\n",
       "</style>\n",
       "<table border=\"1\" class=\"dataframe\">\n",
       "  <thead>\n",
       "    <tr style=\"text-align: right;\">\n",
       "      <th></th>\n",
       "      <th>quantitative response of LC50</th>\n",
       "    </tr>\n",
       "  </thead>\n",
       "  <tbody>\n",
       "    <tr>\n",
       "      <th>352</th>\n",
       "      <td>-1.154458</td>\n",
       "    </tr>\n",
       "    <tr>\n",
       "      <th>103</th>\n",
       "      <td>2.216278</td>\n",
       "    </tr>\n",
       "    <tr>\n",
       "      <th>399</th>\n",
       "      <td>-0.913048</td>\n",
       "    </tr>\n",
       "    <tr>\n",
       "      <th>17</th>\n",
       "      <td>1.822334</td>\n",
       "    </tr>\n",
       "    <tr>\n",
       "      <th>486</th>\n",
       "      <td>0.565440</td>\n",
       "    </tr>\n",
       "    <tr>\n",
       "      <th>...</th>\n",
       "      <td>...</td>\n",
       "    </tr>\n",
       "    <tr>\n",
       "      <th>233</th>\n",
       "      <td>-0.202029</td>\n",
       "    </tr>\n",
       "    <tr>\n",
       "      <th>92</th>\n",
       "      <td>1.432595</td>\n",
       "    </tr>\n",
       "    <tr>\n",
       "      <th>386</th>\n",
       "      <td>0.164290</td>\n",
       "    </tr>\n",
       "    <tr>\n",
       "      <th>523</th>\n",
       "      <td>0.148677</td>\n",
       "    </tr>\n",
       "    <tr>\n",
       "      <th>379</th>\n",
       "      <td>0.005752</td>\n",
       "    </tr>\n",
       "  </tbody>\n",
       "</table>\n",
       "<p>110 rows × 1 columns</p>\n",
       "</div>"
      ],
      "text/plain": [
       "     quantitative response of LC50\n",
       "352                      -1.154458\n",
       "103                       2.216278\n",
       "399                      -0.913048\n",
       "17                        1.822334\n",
       "486                       0.565440\n",
       "..                             ...\n",
       "233                      -0.202029\n",
       "92                        1.432595\n",
       "386                       0.164290\n",
       "523                       0.148677\n",
       "379                       0.005752\n",
       "\n",
       "[110 rows x 1 columns]"
      ]
     },
     "execution_count": 12,
     "metadata": {},
     "output_type": "execute_result"
    }
   ],
   "source": [
    "testY"
   ]
  },
  {
   "cell_type": "code",
   "execution_count": 13,
   "id": "b83b5080",
   "metadata": {},
   "outputs": [
    {
     "data": {
      "text/plain": [
       "(436, 3)"
      ]
     },
     "execution_count": 13,
     "metadata": {},
     "output_type": "execute_result"
    }
   ],
   "source": [
    "valX = trainX[trainX.columns[:]].to_numpy()\n",
    "valX = np.append(np.ones((436,1)), valX, axis=1)\n",
    "valY = trainY[trainY.columns[:]].to_numpy()\n",
    "np.shape(valX)\n",
    "# np.reshape(valX, (436,3))"
   ]
  },
  {
   "cell_type": "code",
   "execution_count": 14,
   "id": "11b7dc8f",
   "metadata": {},
   "outputs": [
    {
     "data": {
      "text/plain": [
       "(436, 1)"
      ]
     },
     "execution_count": 14,
     "metadata": {},
     "output_type": "execute_result"
    }
   ],
   "source": [
    "np.shape(valY)"
   ]
  },
  {
   "cell_type": "code",
   "execution_count": 15,
   "id": "ce27798b",
   "metadata": {},
   "outputs": [
    {
     "data": {
      "text/plain": [
       "(110, 3)"
      ]
     },
     "execution_count": 15,
     "metadata": {},
     "output_type": "execute_result"
    }
   ],
   "source": [
    "valTestX = testX[testX.columns[:]].to_numpy()\n",
    "valTestX = np.append(np.ones((110,1)), valTestX, axis=1)\n",
    "valTestY = testY[testY.columns[:]].to_numpy()\n",
    "np.shape(valTestX)"
   ]
  },
  {
   "cell_type": "code",
   "execution_count": 16,
   "id": "1635e99b",
   "metadata": {},
   "outputs": [
    {
     "data": {
      "text/plain": [
       "(110, 1)"
      ]
     },
     "execution_count": 16,
     "metadata": {},
     "output_type": "execute_result"
    }
   ],
   "source": [
    "np.shape(valTestY)"
   ]
  },
  {
   "cell_type": "code",
   "execution_count": 17,
   "id": "f7938765",
   "metadata": {},
   "outputs": [],
   "source": [
    "iters = 1500000\n",
    "learningRate = 0.001 #yeta or n\n",
    "costArr= np.zeros(iters+100)\n",
    "counterArr = np.zeros(iters+100)\n",
    "TrainErrorArray = np.array([])\n",
    "TestErrorArray = np.array([])"
   ]
  },
  {
   "cell_type": "code",
   "execution_count": 18,
   "id": "7478254f",
   "metadata": {},
   "outputs": [
    {
     "name": "stdout",
     "output_type": "stream",
     "text": [
      "w0= 0.57812715689832\n",
      "w1= 0.6293951405894433\n",
      "w2= 0.647745946310366\n"
     ]
    }
   ],
   "source": [
    "# Degree 1 here without regularization\n",
    "degree = 1\n",
    "wSize = 3\n",
    "w = np.ones(wSize)\n",
    "w1 = np.zeros(wSize)\n",
    "\n",
    "counter = 0\n",
    "costArr= np.zeros(iters+1)\n",
    "counterArr = np.zeros(iters+1)\n",
    "for i in range(iters):\n",
    "    w2 = (np.sum((valY-np.reshape(np.sum(w*valX, axis = 1), (np.shape(valX)[0],1)))*valX*-1, axis = 0))#del E\n",
    "    # sum(Y-wX)*X where X = [1,x1,x2], so we get a matrix of 1x3 and w = [w0,w1,w2]\n",
    "#     for j in range(np.shape(valX)[0]):\n",
    "#         w2 += (((valY[j,0] - (w*valX[j,:wSize])))*valX[j,:wSize])/np.shape(valX)[0]\n",
    "\n",
    "    #w2 = w2/np.shape(valX)[0] #N\n",
    "    \n",
    "    w1 = w - learningRate*w2\n",
    "    if w1[0] - w[0] <= 10**(-20):\n",
    "        w=w1\n",
    "        break\n",
    "    w=w1\n",
    "    counter+=1\n",
    "    costArr[counter] = w2[0]\n",
    "    counterArr[counter] = counter\n",
    "\n",
    "   \n",
    "\n",
    "for i in range(np.shape(w)[0]):    \n",
    "    print(\"w\", i, \"= \", w[i], sep = '')\n"
   ]
  },
  {
   "cell_type": "code",
   "execution_count": 19,
   "id": "058a4c36",
   "metadata": {},
   "outputs": [
    {
     "data": {
      "text/plain": [
       "1.2032831466730627"
      ]
     },
     "execution_count": 19,
     "metadata": {},
     "output_type": "execute_result"
    }
   ],
   "source": [
    "w1 = 0\n",
    "for i in range(np.shape(valX)[0]):\n",
    "    w1+= (np.sum(w*valX[i,:wSize]) - valY[i,0])**2\n",
    "    \n",
    "TrainErrorArray = np.append(TrainErrorArray, w1)\n",
    "w1/np.shape(valX)[0]"
   ]
  },
  {
   "cell_type": "code",
   "execution_count": 20,
   "id": "09c232c7",
   "metadata": {},
   "outputs": [
    {
     "data": {
      "text/plain": [
       "1.3332692544144253"
      ]
     },
     "execution_count": 20,
     "metadata": {},
     "output_type": "execute_result"
    }
   ],
   "source": [
    "testError = 0\n",
    "for i in range(np.shape(valTestX)[0]):\n",
    "    testError += (np.sum(w*valTestX[i,:wSize]) - valTestY[i,0])**2\n",
    "    \n",
    "TestErrorArray = np.append(TestErrorArray, testError)\n",
    "testError/np.shape(valTestX)[0]"
   ]
  },
  {
   "cell_type": "code",
   "execution_count": 21,
   "id": "40628fd7",
   "metadata": {},
   "outputs": [],
   "source": [
    "# Reularization variables\n",
    "Lambda = np.exp(-6)\n",
    "q = 0.5"
   ]
  },
  {
   "cell_type": "code",
   "execution_count": 22,
   "id": "6ad52bcf",
   "metadata": {},
   "outputs": [
    {
     "name": "stdout",
     "output_type": "stream",
     "text": [
      "w0= 0.57812715689832\n",
      "w1= 0.6293945209013991\n",
      "w2= 0.6477453266223219\n"
     ]
    }
   ],
   "source": [
    "# Degree 1 here with regularization q = 0.5\n",
    "degree = 1\n",
    "wSize = 3\n",
    "w = np.ones(wSize)\n",
    "w1 = np.zeros(wSize)\n",
    "\n",
    "counter = 0\n",
    "costArr= np.zeros(iters+1)\n",
    "counterArr = np.zeros(iters+1)\n",
    "for i in range(iters):\n",
    "    z = w.copy()\n",
    "    z = z**(q-1)\n",
    "    z[0] = 0\n",
    "    w2 = (np.sum((valY-np.reshape(np.sum(w*valX, axis = 1), (np.shape(valX)[0],1)))*valX*-1, axis = 0)) + Lambda*q*(z)/2\n",
    "    # sum(Y-wX)*X where X = [1,x1,x2], so we get a matrix of 1x3 and w = [w0,w1,w2], z = [0,w1,w2]\n",
    "    \n",
    "    w1 = w - learningRate*w2\n",
    "    if w1[0] - w[0] <= 10**(-20):\n",
    "        w=w1\n",
    "        break\n",
    "    w=w1\n",
    "    counter+=1\n",
    "    costArr[counter] = w2[0]\n",
    "    counterArr[counter] = counter\n",
    "\n",
    "   \n",
    "\n",
    "for i in range(np.shape(w)[0]):    \n",
    "    print(\"w\", i, \"= \", w[i], sep = '')\n"
   ]
  },
  {
   "cell_type": "code",
   "execution_count": 23,
   "id": "a5500ae9",
   "metadata": {},
   "outputs": [
    {
     "data": {
      "text/plain": [
       "1.2062053539585502"
      ]
     },
     "execution_count": 23,
     "metadata": {},
     "output_type": "execute_result"
    }
   ],
   "source": [
    "w1 = 0\n",
    "for i in range(np.shape(valX)[0]):\n",
    "    w1+= ((np.sum(w*valX[i,:wSize]) - valY[i,0])**2) + Lambda*np.sum(np.abs(w)**q)/2\n",
    "\n",
    "TrainErrorArray = np.append(TrainErrorArray, w1)\n",
    "w1/np.shape(valX)[0]"
   ]
  },
  {
   "cell_type": "code",
   "execution_count": 24,
   "id": "fc0b55da",
   "metadata": {},
   "outputs": [
    {
     "data": {
      "text/plain": [
       "1.3361911205453298"
      ]
     },
     "execution_count": 24,
     "metadata": {},
     "output_type": "execute_result"
    }
   ],
   "source": [
    "testError = 0\n",
    "for i in range(np.shape(valTestX)[0]):\n",
    "    testError += ((np.sum(w*valTestX[i,:wSize]) - valTestY[i,0])**2) + Lambda*np.sum(np.abs(w)**q)/2\n",
    "\n",
    "TestErrorArray = np.append(TestErrorArray, testError)\n",
    "testError/np.shape(valTestX)[0]"
   ]
  },
  {
   "cell_type": "code",
   "execution_count": 25,
   "id": "aa17555f",
   "metadata": {},
   "outputs": [],
   "source": [
    "# Reularization variables\n",
    "Lambda = 0.5 #np.exp(-5)\n",
    "q = 1"
   ]
  },
  {
   "cell_type": "code",
   "execution_count": 26,
   "id": "6456cc6c",
   "metadata": {},
   "outputs": [
    {
     "name": "stdout",
     "output_type": "stream",
     "text": [
      "w0= 0.57812715689832\n",
      "w1= 0.6291451405894433\n",
      "w2= 0.647495946310366\n"
     ]
    }
   ],
   "source": [
    "# Degree 1 here with regularization q = 1\n",
    "degree = 1\n",
    "wSize = 3\n",
    "w = np.ones(wSize)\n",
    "w1 = np.zeros(wSize)\n",
    "\n",
    "counter = 0\n",
    "costArr= np.zeros(iters+1)\n",
    "counterArr = np.zeros(iters+1)\n",
    "for i in range(iters):\n",
    "    z = np.array([0,1,1])\n",
    "    w2 = (np.sum((valY-np.reshape(np.sum(w*valX, axis = 1), (np.shape(valX)[0],1)))*valX*-1, axis = 0)) + Lambda*q*(z)/2\n",
    "    # sum(Y-wX)*X where X = [1,x1,x2], so we get a matrix of 1x3 and w = [w0,w1,w2], z = [0,w1,w2]\n",
    "    \n",
    "    w1 = w - learningRate*w2\n",
    "    if w1[0] - w[0] <= 10**(-20):\n",
    "        w=w1\n",
    "        break\n",
    "    w=w1\n",
    "    counter+=1\n",
    "    costArr[counter] = w2[0]\n",
    "    counterArr[counter] = counter\n",
    "\n",
    "   \n",
    "\n",
    "for i in range(np.shape(w)[0]):    \n",
    "    print(\"w\", i, \"= \", w[i], sep = '')\n"
   ]
  },
  {
   "cell_type": "code",
   "execution_count": 27,
   "id": "f97f80e6",
   "metadata": {},
   "outputs": [
    {
     "data": {
      "text/plain": [
       "1.6666194864710913"
      ]
     },
     "execution_count": 27,
     "metadata": {},
     "output_type": "execute_result"
    }
   ],
   "source": [
    "w1 = 0\n",
    "for i in range(np.shape(valX)[0]):\n",
    "    w1+= ((np.sum(w*valX[i,:wSize]) - valY[i,0])**2) + Lambda*np.sum(np.abs(w))/2\n",
    "\n",
    "TrainErrorArray = np.append(TrainErrorArray, w1)\n",
    "w1/np.shape(valX)[0]"
   ]
  },
  {
   "cell_type": "code",
   "execution_count": 28,
   "id": "370a1ad2",
   "metadata": {},
   "outputs": [
    {
     "data": {
      "text/plain": [
       "1.7964679633225051"
      ]
     },
     "execution_count": 28,
     "metadata": {},
     "output_type": "execute_result"
    }
   ],
   "source": [
    "testError = 0\n",
    "for i in range(np.shape(valTestX)[0]):\n",
    "    testError += ((np.sum(w*valTestX[i,:wSize]) - valTestY[i,0])**2) + Lambda*np.sum(np.abs(w)**q)/2\n",
    "\n",
    "TestErrorArray = np.append(TestErrorArray, testError)\n",
    "testError/np.shape(valTestX)[0]"
   ]
  },
  {
   "cell_type": "code",
   "execution_count": null,
   "id": "280aaefc",
   "metadata": {},
   "outputs": [],
   "source": []
  },
  {
   "cell_type": "code",
   "execution_count": 29,
   "id": "073a7708",
   "metadata": {},
   "outputs": [],
   "source": [
    "# Reularization variables\n",
    "Lambda = 0.5\n",
    "q = 2"
   ]
  },
  {
   "cell_type": "code",
   "execution_count": 30,
   "id": "29b42003",
   "metadata": {},
   "outputs": [
    {
     "name": "stdout",
     "output_type": "stream",
     "text": [
      "w0= 0.57812715689832\n",
      "w1= 0.6288951405894433\n",
      "w2= 0.6472459463103659\n"
     ]
    }
   ],
   "source": [
    "# Degree 1 here with regularization q = 2\n",
    "degree = 1\n",
    "wSize = 3\n",
    "w = np.ones(wSize)\n",
    "w1 = np.zeros(wSize)\n",
    "\n",
    "counter = 0\n",
    "costArr= np.zeros(iters+1)\n",
    "counterArr = np.zeros(iters+1)\n",
    "for i in range(iters):\n",
    "    z = w.copy()\n",
    "    z[0]=0\n",
    "    w2 = (np.sum((valY-np.reshape(np.sum(w*valX, axis = 1), (np.shape(valX)[0],1)))*valX*-1, axis = 0)) + Lambda*q*(z**(q-1))/2\n",
    "    # sum(Y-wX)*X where X = [1,x1,x2], so we get a matrix of 1x3 and w = [w0,w1,w2], z = [0,w1,w2]\n",
    "    \n",
    "    w1 = w - learningRate*w2\n",
    "    if w1[0] - w[0] <= 10**(-20):\n",
    "        w=w1\n",
    "        break\n",
    "    w=w1\n",
    "    counter+=1\n",
    "    costArr[counter] = w2[0]\n",
    "    counterArr[counter] = counter\n",
    "\n",
    "   \n",
    "\n",
    "for i in range(np.shape(w)[0]):    \n",
    "    print(\"w\", i, \"= \", w[i], sep = '')\n"
   ]
  },
  {
   "cell_type": "code",
   "execution_count": 31,
   "id": "7d2e3662",
   "metadata": {},
   "outputs": [
    {
     "data": {
      "text/plain": [
       "1.4897388908372202"
      ]
     },
     "execution_count": 31,
     "metadata": {},
     "output_type": "execute_result"
    }
   ],
   "source": [
    "w1 = 0\n",
    "for i in range(np.shape(valX)[0]):\n",
    "    w1+= ((np.sum(w*valX[i,:wSize]) - valY[i,0])**2) + Lambda*np.sum(np.abs(w)**q)/2\n",
    "\n",
    "TrainErrorArray = np.append(TrainErrorArray, w1)\n",
    "w1/np.shape(valX)[0]"
   ]
  },
  {
   "cell_type": "code",
   "execution_count": 32,
   "id": "09cbdbc8",
   "metadata": {},
   "outputs": [
    {
     "data": {
      "text/plain": [
       "1.6194497381871045"
      ]
     },
     "execution_count": 32,
     "metadata": {},
     "output_type": "execute_result"
    }
   ],
   "source": [
    "testError = 0\n",
    "for i in range(np.shape(valTestX)[0]):\n",
    "    testError += ((np.sum(w*valTestX[i,:wSize]) - valTestY[i,0])**2) + Lambda*np.sum(np.abs(w)**q)/2\n",
    "\n",
    "TestErrorArray = np.append(TestErrorArray, testError)\n",
    "testError/np.shape(valTestX)[0]"
   ]
  },
  {
   "cell_type": "code",
   "execution_count": null,
   "id": "83ef1bde",
   "metadata": {},
   "outputs": [],
   "source": []
  },
  {
   "cell_type": "code",
   "execution_count": 33,
   "id": "d39ff04a",
   "metadata": {},
   "outputs": [],
   "source": [
    "# Reularization variables\n",
    "Lambda = np.exp(-7)\n",
    "q = 4"
   ]
  },
  {
   "cell_type": "code",
   "execution_count": 34,
   "id": "e0f64eba",
   "metadata": {},
   "outputs": [
    {
     "name": "stdout",
     "output_type": "stream",
     "text": [
      "w0= 0.57812715689832\n",
      "w1= 0.6293933168255121\n",
      "w2= 0.6477441225464349\n"
     ]
    }
   ],
   "source": [
    "# Degree 1 here with regularization q = 4\n",
    "degree = 1\n",
    "wSize = 3\n",
    "w = np.ones(wSize)\n",
    "w1 = np.zeros(wSize)\n",
    "\n",
    "counter = 0\n",
    "costArr= np.zeros(iters+1)\n",
    "counterArr = np.zeros(iters+1)\n",
    "for i in range(iters):\n",
    "    z = w.copy()\n",
    "    z[0]=0\n",
    "    w2 = (np.sum((valY-np.reshape(np.sum(w*valX, axis = 1), (np.shape(valX)[0],1)))*valX*-1, axis = 0)) + Lambda*q*(z**(q-1))/2\n",
    "    # sum(Y-wX)*X where X = [1,x1,x2], so we get a matrix of 1x3 and w = [w0,w1,w2], z = [0,w1,w2]\n",
    "    \n",
    "    w1 = w - learningRate*w2\n",
    "    if w1[0] - w[0] <= 10**(-20):\n",
    "        w=w1\n",
    "        break\n",
    "    w=w1\n",
    "    counter+=1\n",
    "    costArr[counter] = w2[0]\n",
    "    counterArr[counter] = counter\n",
    "\n",
    "   \n",
    "\n",
    "for i in range(np.shape(w)[0]):    \n",
    "    print(\"w\", i, \"= \", w[i], sep = '')\n"
   ]
  },
  {
   "cell_type": "code",
   "execution_count": 35,
   "id": "b27f1fae",
   "metadata": {},
   "outputs": [
    {
     "data": {
      "text/plain": [
       "1.2034832960696153"
      ]
     },
     "execution_count": 35,
     "metadata": {},
     "output_type": "execute_result"
    }
   ],
   "source": [
    "w1 = 0\n",
    "for i in range(np.shape(valX)[0]):\n",
    "    w1+= ((np.sum(w*valX[i,:wSize]) - valY[i,0])**2) + Lambda*np.sum(np.abs(w)**q)/2\n",
    "\n",
    "TrainErrorArray = np.append(TrainErrorArray, w1)\n",
    "w1/np.shape(valX)[0]"
   ]
  },
  {
   "cell_type": "code",
   "execution_count": 36,
   "id": "737bea84",
   "metadata": {},
   "outputs": [
    {
     "data": {
      "text/plain": [
       "1.3334683997809411"
      ]
     },
     "execution_count": 36,
     "metadata": {},
     "output_type": "execute_result"
    }
   ],
   "source": [
    "testError = 0\n",
    "for i in range(np.shape(valTestX)[0]):\n",
    "    testError += ((np.sum(w*valTestX[i,:wSize]) - valTestY[i,0])**2) + Lambda*np.sum(np.abs(w)**q)/2\n",
    "\n",
    "TestErrorArray = np.append(TestErrorArray, testError)\n",
    "testError/np.shape(valTestX)[0]"
   ]
  },
  {
   "cell_type": "code",
   "execution_count": 37,
   "id": "3c63b845",
   "metadata": {},
   "outputs": [
    {
     "name": "stdout",
     "output_type": "stream",
     "text": [
      "[1.20328315 1.20620535 1.66661949 1.48973889 1.2034833 ]\n",
      "[1.33326925 1.33619112 1.79646796 1.61944974 1.3334684 ]\n"
     ]
    }
   ],
   "source": [
    "print(TrainErrorArray/np.shape(valX)[0])\n",
    "print(TestErrorArray/np.shape(valTestX)[0])"
   ]
  },
  {
   "cell_type": "code",
   "execution_count": null,
   "id": "5edd6dd6",
   "metadata": {},
   "outputs": [],
   "source": []
  }
 ],
 "metadata": {
  "kernelspec": {
   "display_name": "Python 3 (ipykernel)",
   "language": "python",
   "name": "python3"
  },
  "language_info": {
   "codemirror_mode": {
    "name": "ipython",
    "version": 3
   },
   "file_extension": ".py",
   "mimetype": "text/x-python",
   "name": "python",
   "nbconvert_exporter": "python",
   "pygments_lexer": "ipython3",
   "version": "3.9.12"
  }
 },
 "nbformat": 4,
 "nbformat_minor": 5
}
