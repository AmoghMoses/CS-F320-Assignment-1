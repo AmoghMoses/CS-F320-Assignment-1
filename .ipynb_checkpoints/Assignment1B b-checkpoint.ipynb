{
 "cells": [
  {
   "cell_type": "code",
   "execution_count": 1,
   "id": "4d67eca0",
   "metadata": {},
   "outputs": [
    {
     "name": "stdout",
     "output_type": "stream",
     "text": [
      "Success\n"
     ]
    }
   ],
   "source": [
    "import pandas as pd\n",
    "import numpy as np\n",
    "import matplotlib.pyplot as plt\n",
    "print(\"Success\")"
   ]
  },
  {
   "cell_type": "code",
   "execution_count": 2,
   "id": "a2b4e8a6",
   "metadata": {
    "scrolled": false
   },
   "outputs": [
    {
     "data": {
      "text/html": [
       "<div>\n",
       "<style scoped>\n",
       "    .dataframe tbody tr th:only-of-type {\n",
       "        vertical-align: middle;\n",
       "    }\n",
       "\n",
       "    .dataframe tbody tr th {\n",
       "        vertical-align: top;\n",
       "    }\n",
       "\n",
       "    .dataframe thead th {\n",
       "        text-align: right;\n",
       "    }\n",
       "</style>\n",
       "<table border=\"1\" class=\"dataframe\">\n",
       "  <thead>\n",
       "    <tr style=\"text-align: right;\">\n",
       "      <th></th>\n",
       "      <th>MLOGP</th>\n",
       "      <th>RDCHI</th>\n",
       "      <th>quantitative response of LC50</th>\n",
       "    </tr>\n",
       "  </thead>\n",
       "  <tbody>\n",
       "    <tr>\n",
       "      <th>0</th>\n",
       "      <td>2.419</td>\n",
       "      <td>1.225</td>\n",
       "      <td>3.740</td>\n",
       "    </tr>\n",
       "    <tr>\n",
       "      <th>1</th>\n",
       "      <td>2.638</td>\n",
       "      <td>1.401</td>\n",
       "      <td>4.330</td>\n",
       "    </tr>\n",
       "    <tr>\n",
       "      <th>2</th>\n",
       "      <td>5.799</td>\n",
       "      <td>2.930</td>\n",
       "      <td>7.019</td>\n",
       "    </tr>\n",
       "    <tr>\n",
       "      <th>3</th>\n",
       "      <td>5.453</td>\n",
       "      <td>2.887</td>\n",
       "      <td>6.723</td>\n",
       "    </tr>\n",
       "    <tr>\n",
       "      <th>4</th>\n",
       "      <td>4.068</td>\n",
       "      <td>2.758</td>\n",
       "      <td>5.979</td>\n",
       "    </tr>\n",
       "    <tr>\n",
       "      <th>...</th>\n",
       "      <td>...</td>\n",
       "      <td>...</td>\n",
       "      <td>...</td>\n",
       "    </tr>\n",
       "    <tr>\n",
       "      <th>541</th>\n",
       "      <td>3.326</td>\n",
       "      <td>2.837</td>\n",
       "      <td>4.651</td>\n",
       "    </tr>\n",
       "    <tr>\n",
       "      <th>542</th>\n",
       "      <td>3.275</td>\n",
       "      <td>2.727</td>\n",
       "      <td>3.953</td>\n",
       "    </tr>\n",
       "    <tr>\n",
       "      <th>543</th>\n",
       "      <td>5.165</td>\n",
       "      <td>3.111</td>\n",
       "      <td>6.219</td>\n",
       "    </tr>\n",
       "    <tr>\n",
       "      <th>544</th>\n",
       "      <td>2.859</td>\n",
       "      <td>2.614</td>\n",
       "      <td>4.995</td>\n",
       "    </tr>\n",
       "    <tr>\n",
       "      <th>545</th>\n",
       "      <td>2.255</td>\n",
       "      <td>1.800</td>\n",
       "      <td>2.480</td>\n",
       "    </tr>\n",
       "  </tbody>\n",
       "</table>\n",
       "<p>546 rows × 3 columns</p>\n",
       "</div>"
      ],
      "text/plain": [
       "     MLOGP  RDCHI  quantitative response of LC50\n",
       "0    2.419  1.225                          3.740\n",
       "1    2.638  1.401                          4.330\n",
       "2    5.799  2.930                          7.019\n",
       "3    5.453  2.887                          6.723\n",
       "4    4.068  2.758                          5.979\n",
       "..     ...    ...                            ...\n",
       "541  3.326  2.837                          4.651\n",
       "542  3.275  2.727                          3.953\n",
       "543  5.165  3.111                          6.219\n",
       "544  2.859  2.614                          4.995\n",
       "545  2.255  1.800                          2.480\n",
       "\n",
       "[546 rows x 3 columns]"
      ]
     },
     "execution_count": 2,
     "metadata": {},
     "output_type": "execute_result"
    }
   ],
   "source": [
    "df = pd.read_csv('fods_1.csv')\n",
    "df"
   ]
  },
  {
   "cell_type": "code",
   "execution_count": 3,
   "id": "3bed213f",
   "metadata": {},
   "outputs": [
    {
     "name": "stdout",
     "output_type": "stream",
     "text": [
      "2.3134926739926738\n",
      "2.4922985347985356\n",
      "4.6584212454212475\n",
      "1.741797285664983\n",
      "0.8110039291512505\n",
      "1.6652150617992907\n",
      "MLOGP                             9.148\n",
      "RDCHI                             6.439\n",
      "quantitative response of LC50    10.047\n",
      "dtype: float64\n",
      "MLOGP                           -6.446\n",
      "RDCHI                            1.000\n",
      "quantitative response of LC50    0.122\n",
      "dtype: float64\n"
     ]
    }
   ],
   "source": [
    "meanX1 = df['MLOGP'].mean()\n",
    "meanX2 = df['RDCHI'].mean()\n",
    "meanY = df['quantitative response of LC50'].mean()\n",
    "stdX1 = df['MLOGP'].std()\n",
    "stdX2 = df['RDCHI'].std()\n",
    "stdY = df['quantitative response of LC50'].std()\n",
    "maxAll = df.max()\n",
    "minAll = df.min()\n",
    "print(meanX1, meanX2, meanY, stdX1, stdX2, stdY, maxAll, minAll, sep = '\\n')"
   ]
  },
  {
   "cell_type": "code",
   "execution_count": 4,
   "id": "45c034ec",
   "metadata": {
    "scrolled": false
   },
   "outputs": [
    {
     "data": {
      "text/html": [
       "<div>\n",
       "<style scoped>\n",
       "    .dataframe tbody tr th:only-of-type {\n",
       "        vertical-align: middle;\n",
       "    }\n",
       "\n",
       "    .dataframe tbody tr th {\n",
       "        vertical-align: top;\n",
       "    }\n",
       "\n",
       "    .dataframe thead th {\n",
       "        text-align: right;\n",
       "    }\n",
       "</style>\n",
       "<table border=\"1\" class=\"dataframe\">\n",
       "  <thead>\n",
       "    <tr style=\"text-align: right;\">\n",
       "      <th></th>\n",
       "      <th>MLOGP</th>\n",
       "      <th>RDCHI</th>\n",
       "      <th>quantitative response of LC50</th>\n",
       "    </tr>\n",
       "  </thead>\n",
       "  <tbody>\n",
       "    <tr>\n",
       "      <th>0</th>\n",
       "      <td>0.568488</td>\n",
       "      <td>0.041368</td>\n",
       "      <td>3.740</td>\n",
       "    </tr>\n",
       "    <tr>\n",
       "      <th>1</th>\n",
       "      <td>0.582532</td>\n",
       "      <td>0.073727</td>\n",
       "      <td>4.330</td>\n",
       "    </tr>\n",
       "    <tr>\n",
       "      <th>2</th>\n",
       "      <td>0.785238</td>\n",
       "      <td>0.354845</td>\n",
       "      <td>7.019</td>\n",
       "    </tr>\n",
       "    <tr>\n",
       "      <th>3</th>\n",
       "      <td>0.763050</td>\n",
       "      <td>0.346939</td>\n",
       "      <td>6.723</td>\n",
       "    </tr>\n",
       "    <tr>\n",
       "      <th>4</th>\n",
       "      <td>0.674234</td>\n",
       "      <td>0.323221</td>\n",
       "      <td>5.979</td>\n",
       "    </tr>\n",
       "    <tr>\n",
       "      <th>...</th>\n",
       "      <td>...</td>\n",
       "      <td>...</td>\n",
       "      <td>...</td>\n",
       "    </tr>\n",
       "    <tr>\n",
       "      <th>541</th>\n",
       "      <td>0.626651</td>\n",
       "      <td>0.337746</td>\n",
       "      <td>4.651</td>\n",
       "    </tr>\n",
       "    <tr>\n",
       "      <th>542</th>\n",
       "      <td>0.623381</td>\n",
       "      <td>0.317522</td>\n",
       "      <td>3.953</td>\n",
       "    </tr>\n",
       "    <tr>\n",
       "      <th>543</th>\n",
       "      <td>0.744581</td>\n",
       "      <td>0.388123</td>\n",
       "      <td>6.219</td>\n",
       "    </tr>\n",
       "    <tr>\n",
       "      <th>544</th>\n",
       "      <td>0.596704</td>\n",
       "      <td>0.296746</td>\n",
       "      <td>4.995</td>\n",
       "    </tr>\n",
       "    <tr>\n",
       "      <th>545</th>\n",
       "      <td>0.557971</td>\n",
       "      <td>0.147086</td>\n",
       "      <td>2.480</td>\n",
       "    </tr>\n",
       "  </tbody>\n",
       "</table>\n",
       "<p>546 rows × 3 columns</p>\n",
       "</div>"
      ],
      "text/plain": [
       "        MLOGP     RDCHI  quantitative response of LC50\n",
       "0    0.568488  0.041368                          3.740\n",
       "1    0.582532  0.073727                          4.330\n",
       "2    0.785238  0.354845                          7.019\n",
       "3    0.763050  0.346939                          6.723\n",
       "4    0.674234  0.323221                          5.979\n",
       "..        ...       ...                            ...\n",
       "541  0.626651  0.337746                          4.651\n",
       "542  0.623381  0.317522                          3.953\n",
       "543  0.744581  0.388123                          6.219\n",
       "544  0.596704  0.296746                          4.995\n",
       "545  0.557971  0.147086                          2.480\n",
       "\n",
       "[546 rows x 3 columns]"
      ]
     },
     "execution_count": 4,
     "metadata": {},
     "output_type": "execute_result"
    }
   ],
   "source": [
    "# standardization\n",
    "df['MLOGP'] = (df['MLOGP'] - df['MLOGP'].min())/(df['MLOGP'].max() - df['MLOGP'].min())\n",
    "df['RDCHI'] = (df['RDCHI'] - df['RDCHI'].min())/(df['RDCHI'].max() - df['RDCHI'].min())\n",
    "df"
   ]
  },
  {
   "cell_type": "code",
   "execution_count": 5,
   "id": "47c9de65",
   "metadata": {},
   "outputs": [
    {
     "data": {
      "text/plain": [
       "MLOGP                            0\n",
       "RDCHI                            0\n",
       "quantitative response of LC50    0\n",
       "dtype: int64"
      ]
     },
     "execution_count": 5,
     "metadata": {},
     "output_type": "execute_result"
    }
   ],
   "source": [
    "df.isnull().sum()"
   ]
  },
  {
   "cell_type": "code",
   "execution_count": 6,
   "id": "827d288f",
   "metadata": {},
   "outputs": [
    {
     "data": {
      "text/html": [
       "<div>\n",
       "<style scoped>\n",
       "    .dataframe tbody tr th:only-of-type {\n",
       "        vertical-align: middle;\n",
       "    }\n",
       "\n",
       "    .dataframe tbody tr th {\n",
       "        vertical-align: top;\n",
       "    }\n",
       "\n",
       "    .dataframe thead th {\n",
       "        text-align: right;\n",
       "    }\n",
       "</style>\n",
       "<table border=\"1\" class=\"dataframe\">\n",
       "  <thead>\n",
       "    <tr style=\"text-align: right;\">\n",
       "      <th></th>\n",
       "      <th>MLOGP</th>\n",
       "      <th>RDCHI</th>\n",
       "      <th>quantitative response of LC50</th>\n",
       "    </tr>\n",
       "  </thead>\n",
       "  <tbody>\n",
       "    <tr>\n",
       "      <th>123</th>\n",
       "      <td>0.553995</td>\n",
       "      <td>0.194153</td>\n",
       "      <td>6.130</td>\n",
       "    </tr>\n",
       "    <tr>\n",
       "      <th>200</th>\n",
       "      <td>0.616583</td>\n",
       "      <td>0.227615</td>\n",
       "      <td>4.025</td>\n",
       "    </tr>\n",
       "    <tr>\n",
       "      <th>377</th>\n",
       "      <td>0.549763</td>\n",
       "      <td>0.169884</td>\n",
       "      <td>4.426</td>\n",
       "    </tr>\n",
       "    <tr>\n",
       "      <th>304</th>\n",
       "      <td>0.579390</td>\n",
       "      <td>0.352822</td>\n",
       "      <td>4.234</td>\n",
       "    </tr>\n",
       "    <tr>\n",
       "      <th>102</th>\n",
       "      <td>0.463832</td>\n",
       "      <td>0.224858</td>\n",
       "      <td>2.899</td>\n",
       "    </tr>\n",
       "    <tr>\n",
       "      <th>...</th>\n",
       "      <td>...</td>\n",
       "      <td>...</td>\n",
       "      <td>...</td>\n",
       "    </tr>\n",
       "    <tr>\n",
       "      <th>348</th>\n",
       "      <td>0.591574</td>\n",
       "      <td>0.301342</td>\n",
       "      <td>4.001</td>\n",
       "    </tr>\n",
       "    <tr>\n",
       "      <th>494</th>\n",
       "      <td>0.557073</td>\n",
       "      <td>0.205736</td>\n",
       "      <td>4.010</td>\n",
       "    </tr>\n",
       "    <tr>\n",
       "      <th>186</th>\n",
       "      <td>0.554123</td>\n",
       "      <td>0.618680</td>\n",
       "      <td>5.132</td>\n",
       "    </tr>\n",
       "    <tr>\n",
       "      <th>337</th>\n",
       "      <td>0.526805</td>\n",
       "      <td>0.181835</td>\n",
       "      <td>3.976</td>\n",
       "    </tr>\n",
       "    <tr>\n",
       "      <th>126</th>\n",
       "      <td>0.528088</td>\n",
       "      <td>0.436293</td>\n",
       "      <td>3.432</td>\n",
       "    </tr>\n",
       "  </tbody>\n",
       "</table>\n",
       "<p>437 rows × 3 columns</p>\n",
       "</div>"
      ],
      "text/plain": [
       "        MLOGP     RDCHI  quantitative response of LC50\n",
       "123  0.553995  0.194153                          6.130\n",
       "200  0.616583  0.227615                          4.025\n",
       "377  0.549763  0.169884                          4.426\n",
       "304  0.579390  0.352822                          4.234\n",
       "102  0.463832  0.224858                          2.899\n",
       "..        ...       ...                            ...\n",
       "348  0.591574  0.301342                          4.001\n",
       "494  0.557073  0.205736                          4.010\n",
       "186  0.554123  0.618680                          5.132\n",
       "337  0.526805  0.181835                          3.976\n",
       "126  0.528088  0.436293                          3.432\n",
       "\n",
       "[437 rows x 3 columns]"
      ]
     },
     "execution_count": 6,
     "metadata": {},
     "output_type": "execute_result"
    }
   ],
   "source": [
    "train = df.sample(frac = 0.8)\n",
    "test = df.drop(train.index)\n",
    "train"
   ]
  },
  {
   "cell_type": "code",
   "execution_count": 7,
   "id": "f5790539",
   "metadata": {
    "scrolled": false
   },
   "outputs": [
    {
     "data": {
      "text/html": [
       "<div>\n",
       "<style scoped>\n",
       "    .dataframe tbody tr th:only-of-type {\n",
       "        vertical-align: middle;\n",
       "    }\n",
       "\n",
       "    .dataframe tbody tr th {\n",
       "        vertical-align: top;\n",
       "    }\n",
       "\n",
       "    .dataframe thead th {\n",
       "        text-align: right;\n",
       "    }\n",
       "</style>\n",
       "<table border=\"1\" class=\"dataframe\">\n",
       "  <thead>\n",
       "    <tr style=\"text-align: right;\">\n",
       "      <th></th>\n",
       "      <th>MLOGP</th>\n",
       "      <th>RDCHI</th>\n",
       "      <th>quantitative response of LC50</th>\n",
       "    </tr>\n",
       "  </thead>\n",
       "  <tbody>\n",
       "    <tr>\n",
       "      <th>4</th>\n",
       "      <td>0.674234</td>\n",
       "      <td>0.323221</td>\n",
       "      <td>5.979</td>\n",
       "    </tr>\n",
       "    <tr>\n",
       "      <th>6</th>\n",
       "      <td>0.587983</td>\n",
       "      <td>0.242876</td>\n",
       "      <td>7.337</td>\n",
       "    </tr>\n",
       "    <tr>\n",
       "      <th>9</th>\n",
       "      <td>0.589457</td>\n",
       "      <td>0.122633</td>\n",
       "      <td>3.809</td>\n",
       "    </tr>\n",
       "    <tr>\n",
       "      <th>17</th>\n",
       "      <td>0.707003</td>\n",
       "      <td>0.528590</td>\n",
       "      <td>7.693</td>\n",
       "    </tr>\n",
       "    <tr>\n",
       "      <th>29</th>\n",
       "      <td>0.700654</td>\n",
       "      <td>0.415150</td>\n",
       "      <td>5.721</td>\n",
       "    </tr>\n",
       "    <tr>\n",
       "      <th>...</th>\n",
       "      <td>...</td>\n",
       "      <td>...</td>\n",
       "      <td>...</td>\n",
       "    </tr>\n",
       "    <tr>\n",
       "      <th>524</th>\n",
       "      <td>0.595678</td>\n",
       "      <td>0.412576</td>\n",
       "      <td>4.022</td>\n",
       "    </tr>\n",
       "    <tr>\n",
       "      <th>526</th>\n",
       "      <td>0.520264</td>\n",
       "      <td>0.189557</td>\n",
       "      <td>4.462</td>\n",
       "    </tr>\n",
       "    <tr>\n",
       "      <th>530</th>\n",
       "      <td>0.287675</td>\n",
       "      <td>0.187718</td>\n",
       "      <td>3.908</td>\n",
       "    </tr>\n",
       "    <tr>\n",
       "      <th>531</th>\n",
       "      <td>0.669104</td>\n",
       "      <td>0.376356</td>\n",
       "      <td>4.121</td>\n",
       "    </tr>\n",
       "    <tr>\n",
       "      <th>542</th>\n",
       "      <td>0.623381</td>\n",
       "      <td>0.317522</td>\n",
       "      <td>3.953</td>\n",
       "    </tr>\n",
       "  </tbody>\n",
       "</table>\n",
       "<p>109 rows × 3 columns</p>\n",
       "</div>"
      ],
      "text/plain": [
       "        MLOGP     RDCHI  quantitative response of LC50\n",
       "4    0.674234  0.323221                          5.979\n",
       "6    0.587983  0.242876                          7.337\n",
       "9    0.589457  0.122633                          3.809\n",
       "17   0.707003  0.528590                          7.693\n",
       "29   0.700654  0.415150                          5.721\n",
       "..        ...       ...                            ...\n",
       "524  0.595678  0.412576                          4.022\n",
       "526  0.520264  0.189557                          4.462\n",
       "530  0.287675  0.187718                          3.908\n",
       "531  0.669104  0.376356                          4.121\n",
       "542  0.623381  0.317522                          3.953\n",
       "\n",
       "[109 rows x 3 columns]"
      ]
     },
     "execution_count": 7,
     "metadata": {},
     "output_type": "execute_result"
    }
   ],
   "source": [
    "test"
   ]
  },
  {
   "cell_type": "code",
   "execution_count": 8,
   "id": "72fb5c78",
   "metadata": {},
   "outputs": [
    {
     "data": {
      "image/png": "[encoded data removed]",
      "text/plain": [
       "<Figure size 432x288 with 1 Axes>"
      ]
     },
     "metadata": {
      "needs_background": "light"
     },
     "output_type": "display_data"
    }
   ],
   "source": [
    "ax = plt.axes(projection='3d')\n",
    "\n",
    "# Data for three-dimensional scattered points\n",
    "zdata = train[\"quantitative response of LC50\"]\n",
    "xdata = train[\"RDCHI\"]\n",
    "ydata = train[\"MLOGP\"]\n",
    "ax.scatter3D(xdata, ydata, zdata, c=zdata, cmap='Greens');"
   ]
  },
  {
   "cell_type": "code",
   "execution_count": 9,
   "id": "16cf1ca1",
   "metadata": {},
   "outputs": [
    {
     "data": {
      "text/html": [
       "<div>\n",
       "<style scoped>\n",
       "    .dataframe tbody tr th:only-of-type {\n",
       "        vertical-align: middle;\n",
       "    }\n",
       "\n",
       "    .dataframe tbody tr th {\n",
       "        vertical-align: top;\n",
       "    }\n",
       "\n",
       "    .dataframe thead th {\n",
       "        text-align: right;\n",
       "    }\n",
       "</style>\n",
       "<table border=\"1\" class=\"dataframe\">\n",
       "  <thead>\n",
       "    <tr style=\"text-align: right;\">\n",
       "      <th></th>\n",
       "      <th>RDCHI</th>\n",
       "      <th>MLOGP</th>\n",
       "    </tr>\n",
       "  </thead>\n",
       "  <tbody>\n",
       "    <tr>\n",
       "      <th>123</th>\n",
       "      <td>0.194153</td>\n",
       "      <td>0.553995</td>\n",
       "    </tr>\n",
       "    <tr>\n",
       "      <th>200</th>\n",
       "      <td>0.227615</td>\n",
       "      <td>0.616583</td>\n",
       "    </tr>\n",
       "    <tr>\n",
       "      <th>377</th>\n",
       "      <td>0.169884</td>\n",
       "      <td>0.549763</td>\n",
       "    </tr>\n",
       "    <tr>\n",
       "      <th>304</th>\n",
       "      <td>0.352822</td>\n",
       "      <td>0.579390</td>\n",
       "    </tr>\n",
       "    <tr>\n",
       "      <th>102</th>\n",
       "      <td>0.224858</td>\n",
       "      <td>0.463832</td>\n",
       "    </tr>\n",
       "    <tr>\n",
       "      <th>...</th>\n",
       "      <td>...</td>\n",
       "      <td>...</td>\n",
       "    </tr>\n",
       "    <tr>\n",
       "      <th>348</th>\n",
       "      <td>0.301342</td>\n",
       "      <td>0.591574</td>\n",
       "    </tr>\n",
       "    <tr>\n",
       "      <th>494</th>\n",
       "      <td>0.205736</td>\n",
       "      <td>0.557073</td>\n",
       "    </tr>\n",
       "    <tr>\n",
       "      <th>186</th>\n",
       "      <td>0.618680</td>\n",
       "      <td>0.554123</td>\n",
       "    </tr>\n",
       "    <tr>\n",
       "      <th>337</th>\n",
       "      <td>0.181835</td>\n",
       "      <td>0.526805</td>\n",
       "    </tr>\n",
       "    <tr>\n",
       "      <th>126</th>\n",
       "      <td>0.436293</td>\n",
       "      <td>0.528088</td>\n",
       "    </tr>\n",
       "  </tbody>\n",
       "</table>\n",
       "<p>437 rows × 2 columns</p>\n",
       "</div>"
      ],
      "text/plain": [
       "        RDCHI     MLOGP\n",
       "123  0.194153  0.553995\n",
       "200  0.227615  0.616583\n",
       "377  0.169884  0.549763\n",
       "304  0.352822  0.579390\n",
       "102  0.224858  0.463832\n",
       "..        ...       ...\n",
       "348  0.301342  0.591574\n",
       "494  0.205736  0.557073\n",
       "186  0.618680  0.554123\n",
       "337  0.181835  0.526805\n",
       "126  0.436293  0.528088\n",
       "\n",
       "[437 rows x 2 columns]"
      ]
     },
     "execution_count": 9,
     "metadata": {},
     "output_type": "execute_result"
    }
   ],
   "source": [
    "trainX = pd.DataFrame(train[[\"RDCHI\", \"MLOGP\"]])\n",
    "trainX"
   ]
  },
  {
   "cell_type": "code",
   "execution_count": 10,
   "id": "d79abd31",
   "metadata": {},
   "outputs": [
    {
     "data": {
      "text/html": [
       "<div>\n",
       "<style scoped>\n",
       "    .dataframe tbody tr th:only-of-type {\n",
       "        vertical-align: middle;\n",
       "    }\n",
       "\n",
       "    .dataframe tbody tr th {\n",
       "        vertical-align: top;\n",
       "    }\n",
       "\n",
       "    .dataframe thead th {\n",
       "        text-align: right;\n",
       "    }\n",
       "</style>\n",
       "<table border=\"1\" class=\"dataframe\">\n",
       "  <thead>\n",
       "    <tr style=\"text-align: right;\">\n",
       "      <th></th>\n",
       "      <th>quantitative response of LC50</th>\n",
       "    </tr>\n",
       "  </thead>\n",
       "  <tbody>\n",
       "    <tr>\n",
       "      <th>123</th>\n",
       "      <td>6.130</td>\n",
       "    </tr>\n",
       "    <tr>\n",
       "      <th>200</th>\n",
       "      <td>4.025</td>\n",
       "    </tr>\n",
       "    <tr>\n",
       "      <th>377</th>\n",
       "      <td>4.426</td>\n",
       "    </tr>\n",
       "    <tr>\n",
       "      <th>304</th>\n",
       "      <td>4.234</td>\n",
       "    </tr>\n",
       "    <tr>\n",
       "      <th>102</th>\n",
       "      <td>2.899</td>\n",
       "    </tr>\n",
       "    <tr>\n",
       "      <th>...</th>\n",
       "      <td>...</td>\n",
       "    </tr>\n",
       "    <tr>\n",
       "      <th>348</th>\n",
       "      <td>4.001</td>\n",
       "    </tr>\n",
       "    <tr>\n",
       "      <th>494</th>\n",
       "      <td>4.010</td>\n",
       "    </tr>\n",
       "    <tr>\n",
       "      <th>186</th>\n",
       "      <td>5.132</td>\n",
       "    </tr>\n",
       "    <tr>\n",
       "      <th>337</th>\n",
       "      <td>3.976</td>\n",
       "    </tr>\n",
       "    <tr>\n",
       "      <th>126</th>\n",
       "      <td>3.432</td>\n",
       "    </tr>\n",
       "  </tbody>\n",
       "</table>\n",
       "<p>437 rows × 1 columns</p>\n",
       "</div>"
      ],
      "text/plain": [
       "     quantitative response of LC50\n",
       "123                          6.130\n",
       "200                          4.025\n",
       "377                          4.426\n",
       "304                          4.234\n",
       "102                          2.899\n",
       "..                             ...\n",
       "348                          4.001\n",
       "494                          4.010\n",
       "186                          5.132\n",
       "337                          3.976\n",
       "126                          3.432\n",
       "\n",
       "[437 rows x 1 columns]"
      ]
     },
     "execution_count": 10,
     "metadata": {},
     "output_type": "execute_result"
    }
   ],
   "source": [
    "trainY = pd.DataFrame(train[\"quantitative response of LC50\"])\n",
    "trainY"
   ]
  },
  {
   "cell_type": "code",
   "execution_count": 11,
   "id": "cbb0e298",
   "metadata": {},
   "outputs": [
    {
     "data": {
      "text/html": [
       "<div>\n",
       "<style scoped>\n",
       "    .dataframe tbody tr th:only-of-type {\n",
       "        vertical-align: middle;\n",
       "    }\n",
       "\n",
       "    .dataframe tbody tr th {\n",
       "        vertical-align: top;\n",
       "    }\n",
       "\n",
       "    .dataframe thead th {\n",
       "        text-align: right;\n",
       "    }\n",
       "</style>\n",
       "<table border=\"1\" class=\"dataframe\">\n",
       "  <thead>\n",
       "    <tr style=\"text-align: right;\">\n",
       "      <th></th>\n",
       "      <th>RDCHI</th>\n",
       "      <th>MLOGP</th>\n",
       "    </tr>\n",
       "  </thead>\n",
       "  <tbody>\n",
       "    <tr>\n",
       "      <th>4</th>\n",
       "      <td>0.323221</td>\n",
       "      <td>0.674234</td>\n",
       "    </tr>\n",
       "    <tr>\n",
       "      <th>6</th>\n",
       "      <td>0.242876</td>\n",
       "      <td>0.587983</td>\n",
       "    </tr>\n",
       "    <tr>\n",
       "      <th>9</th>\n",
       "      <td>0.122633</td>\n",
       "      <td>0.589457</td>\n",
       "    </tr>\n",
       "    <tr>\n",
       "      <th>17</th>\n",
       "      <td>0.528590</td>\n",
       "      <td>0.707003</td>\n",
       "    </tr>\n",
       "    <tr>\n",
       "      <th>29</th>\n",
       "      <td>0.415150</td>\n",
       "      <td>0.700654</td>\n",
       "    </tr>\n",
       "    <tr>\n",
       "      <th>...</th>\n",
       "      <td>...</td>\n",
       "      <td>...</td>\n",
       "    </tr>\n",
       "    <tr>\n",
       "      <th>524</th>\n",
       "      <td>0.412576</td>\n",
       "      <td>0.595678</td>\n",
       "    </tr>\n",
       "    <tr>\n",
       "      <th>526</th>\n",
       "      <td>0.189557</td>\n",
       "      <td>0.520264</td>\n",
       "    </tr>\n",
       "    <tr>\n",
       "      <th>530</th>\n",
       "      <td>0.187718</td>\n",
       "      <td>0.287675</td>\n",
       "    </tr>\n",
       "    <tr>\n",
       "      <th>531</th>\n",
       "      <td>0.376356</td>\n",
       "      <td>0.669104</td>\n",
       "    </tr>\n",
       "    <tr>\n",
       "      <th>542</th>\n",
       "      <td>0.317522</td>\n",
       "      <td>0.623381</td>\n",
       "    </tr>\n",
       "  </tbody>\n",
       "</table>\n",
       "<p>109 rows × 2 columns</p>\n",
       "</div>"
      ],
      "text/plain": [
       "        RDCHI     MLOGP\n",
       "4    0.323221  0.674234\n",
       "6    0.242876  0.587983\n",
       "9    0.122633  0.589457\n",
       "17   0.528590  0.707003\n",
       "29   0.415150  0.700654\n",
       "..        ...       ...\n",
       "524  0.412576  0.595678\n",
       "526  0.189557  0.520264\n",
       "530  0.187718  0.287675\n",
       "531  0.376356  0.669104\n",
       "542  0.317522  0.623381\n",
       "\n",
       "[109 rows x 2 columns]"
      ]
     },
     "execution_count": 11,
     "metadata": {},
     "output_type": "execute_result"
    }
   ],
   "source": [
    "testX = pd.DataFrame(test[[\"RDCHI\", \"MLOGP\"]])\n",
    "testY = pd.DataFrame(test['quantitative response of LC50'])\n",
    "testX"
   ]
  },
  {
   "cell_type": "code",
   "execution_count": 12,
   "id": "3c103a6f",
   "metadata": {},
   "outputs": [
    {
     "data": {
      "text/html": [
       "<div>\n",
       "<style scoped>\n",
       "    .dataframe tbody tr th:only-of-type {\n",
       "        vertical-align: middle;\n",
       "    }\n",
       "\n",
       "    .dataframe tbody tr th {\n",
       "        vertical-align: top;\n",
       "    }\n",
       "\n",
       "    .dataframe thead th {\n",
       "        text-align: right;\n",
       "    }\n",
       "</style>\n",
       "<table border=\"1\" class=\"dataframe\">\n",
       "  <thead>\n",
       "    <tr style=\"text-align: right;\">\n",
       "      <th></th>\n",
       "      <th>quantitative response of LC50</th>\n",
       "    </tr>\n",
       "  </thead>\n",
       "  <tbody>\n",
       "    <tr>\n",
       "      <th>4</th>\n",
       "      <td>5.979</td>\n",
       "    </tr>\n",
       "    <tr>\n",
       "      <th>6</th>\n",
       "      <td>7.337</td>\n",
       "    </tr>\n",
       "    <tr>\n",
       "      <th>9</th>\n",
       "      <td>3.809</td>\n",
       "    </tr>\n",
       "    <tr>\n",
       "      <th>17</th>\n",
       "      <td>7.693</td>\n",
       "    </tr>\n",
       "    <tr>\n",
       "      <th>29</th>\n",
       "      <td>5.721</td>\n",
       "    </tr>\n",
       "    <tr>\n",
       "      <th>...</th>\n",
       "      <td>...</td>\n",
       "    </tr>\n",
       "    <tr>\n",
       "      <th>524</th>\n",
       "      <td>4.022</td>\n",
       "    </tr>\n",
       "    <tr>\n",
       "      <th>526</th>\n",
       "      <td>4.462</td>\n",
       "    </tr>\n",
       "    <tr>\n",
       "      <th>530</th>\n",
       "      <td>3.908</td>\n",
       "    </tr>\n",
       "    <tr>\n",
       "      <th>531</th>\n",
       "      <td>4.121</td>\n",
       "    </tr>\n",
       "    <tr>\n",
       "      <th>542</th>\n",
       "      <td>3.953</td>\n",
       "    </tr>\n",
       "  </tbody>\n",
       "</table>\n",
       "<p>109 rows × 1 columns</p>\n",
       "</div>"
      ],
      "text/plain": [
       "     quantitative response of LC50\n",
       "4                            5.979\n",
       "6                            7.337\n",
       "9                            3.809\n",
       "17                           7.693\n",
       "29                           5.721\n",
       "..                             ...\n",
       "524                          4.022\n",
       "526                          4.462\n",
       "530                          3.908\n",
       "531                          4.121\n",
       "542                          3.953\n",
       "\n",
       "[109 rows x 1 columns]"
      ]
     },
     "execution_count": 12,
     "metadata": {},
     "output_type": "execute_result"
    }
   ],
   "source": [
    "testY"
   ]
  },
  {
   "cell_type": "code",
   "execution_count": 13,
   "id": "b83b5080",
   "metadata": {},
   "outputs": [
    {
     "data": {
      "text/plain": [
       "(437, 3)"
      ]
     },
     "execution_count": 13,
     "metadata": {},
     "output_type": "execute_result"
    }
   ],
   "source": [
    "valX = trainX[trainX.columns[:]].to_numpy()\n",
    "valX = np.append(np.ones((np.shape(valX)[0],1)), valX, axis=1)\n",
    "valY = trainY[trainY.columns[:]].to_numpy()\n",
    "np.shape(valX)\n",
    "# np.reshape(valX, (436,3))"
   ]
  },
  {
   "cell_type": "code",
   "execution_count": 14,
   "id": "11b7dc8f",
   "metadata": {},
   "outputs": [
    {
     "data": {
      "text/plain": [
       "(437, 1)"
      ]
     },
     "execution_count": 14,
     "metadata": {},
     "output_type": "execute_result"
    }
   ],
   "source": [
    "np.shape(valY)"
   ]
  },
  {
   "cell_type": "code",
   "execution_count": 15,
   "id": "ce27798b",
   "metadata": {},
   "outputs": [
    {
     "data": {
      "text/plain": [
       "(109, 3)"
      ]
     },
     "execution_count": 15,
     "metadata": {},
     "output_type": "execute_result"
    }
   ],
   "source": [
    "valTestX = testX[testX.columns[:]].to_numpy()\n",
    "valTestX = np.append(np.ones((np.shape(valTestX)[0],1)), valTestX, axis=1)\n",
    "valTestY = testY[testY.columns[:]].to_numpy()\n",
    "np.shape(valTestX)"
   ]
  },
  {
   "cell_type": "code",
   "execution_count": 16,
   "id": "1635e99b",
   "metadata": {},
   "outputs": [
    {
     "data": {
      "text/plain": [
       "(109, 1)"
      ]
     },
     "execution_count": 16,
     "metadata": {},
     "output_type": "execute_result"
    }
   ],
   "source": [
    "np.shape(valTestY)"
   ]
  },
  {
   "cell_type": "code",
   "execution_count": 17,
   "id": "f7938765",
   "metadata": {},
   "outputs": [],
   "source": [
    "iters = 4000\n",
    "learningRate = 0.001 #yeta or n\n",
    "costArr= np.zeros(iters+100)\n",
    "counterArr = np.zeros(iters+100)\n",
    "TrainErrorArray = np.array([])\n",
    "TestErrorArray = np.array([])"
   ]
  },
  {
   "cell_type": "code",
   "execution_count": 18,
   "id": "c4443a45",
   "metadata": {},
   "outputs": [
    {
     "name": "stdout",
     "output_type": "stream",
     "text": [
      "w0=0.06600702906033008\n",
      "w1=2.73759040895696\n",
      "w2=6.816362093370128\n"
     ]
    },
    {
     "data": {
      "text/plain": [
       "437"
      ]
     },
     "execution_count": 18,
     "metadata": {},
     "output_type": "execute_result"
    }
   ],
   "source": [
    "wSize = 3\n",
    "w = np.ones(wSize) # similar template for others\n",
    "w1 = np.zeros(wSize)\n",
    "#print(w, '\\n', w1)\n",
    "\n",
    "counter = 0\n",
    "costArr= np.zeros(iters+1)\n",
    "counterArr = np.zeros(iters+1)\n",
    "for i in range(iters):\n",
    "    w2 = np.zeros(wSize)\n",
    "    for j in range(np.shape(valX)[0]):\n",
    "        w2 += ((valY[j,0]-np.sum(w*valX[j,:]))*valX[j,:])\n",
    "\n",
    "    w2 = w2 #N\n",
    "    \n",
    "    w1 = w + learningRate*w2\n",
    "    w=w1\n",
    "    counter+=1\n",
    "    costArr[counter] = w2[0]\n",
    "    counterArr[counter] = counter\n",
    "\n",
    "   \n",
    "\n",
    "for i in range(np.shape(w)[0]):    \n",
    "    print(\"w\", i, \"=\", w[i], sep = '')\n",
    "\n",
    "np.shape(valX)[0]\n",
    " "
   ]
  },
  {
   "cell_type": "code",
   "execution_count": 19,
   "id": "058a4c36",
   "metadata": {},
   "outputs": [
    {
     "data": {
      "text/plain": [
       "1.8570209177299524"
      ]
     },
     "execution_count": 19,
     "metadata": {},
     "output_type": "execute_result"
    }
   ],
   "source": [
    "w1 = 0\n",
    "for i in range(np.shape(valX)[0]):\n",
    "    w1+= (np.sum(w*valX[i,:wSize]) - valY[i,0])**2\n",
    "    \n",
    "TrainErrorArray = np.append(TrainErrorArray, w1)\n",
    "w1/np.shape(valX)[0]"
   ]
  },
  {
   "cell_type": "code",
   "execution_count": 20,
   "id": "09c232c7",
   "metadata": {},
   "outputs": [
    {
     "data": {
      "text/plain": [
       "1.7235434967310332"
      ]
     },
     "execution_count": 20,
     "metadata": {},
     "output_type": "execute_result"
    }
   ],
   "source": [
    "testError = 0\n",
    "for i in range(np.shape(valTestX)[0]):\n",
    "    testError += (np.sum(w*valTestX[i,:wSize]) - valTestY[i,0])**2\n",
    "    \n",
    "TestErrorArray = np.append(TestErrorArray, testError)\n",
    "testError/np.shape(valTestX)[0]"
   ]
  },
  {
   "cell_type": "code",
   "execution_count": 21,
   "id": "63bb132f",
   "metadata": {},
   "outputs": [],
   "source": [
    "degree = 1"
   ]
  },
  {
   "cell_type": "code",
   "execution_count": 22,
   "id": "38d50d13",
   "metadata": {},
   "outputs": [
    {
     "data": {
      "image/png": "[encoded data removed]",
      "text/plain": [
       "<Figure size 432x288 with 1 Axes>"
      ]
     },
     "metadata": {
      "needs_background": "light"
     },
     "output_type": "display_data"
    }
   ],
   "source": [
    "fig,ax = plt.subplots()\n",
    "ax.plot(costArr[1:-1])\n",
    "plt.title(\"Gradient Descent method degree %d - del(E) values\"% degree, y = 1, pad = 30)\n",
    "plt.show() # the number of iterations are maxed out in the end,"
   ]
  },
  {
   "cell_type": "code",
   "execution_count": 23,
   "id": "40628fd7",
   "metadata": {},
   "outputs": [],
   "source": [
    "# Reularization variables\n",
    "LambdaArr = np.linspace(0,0.01,100)\n",
    "q = 0.5\n",
    "LambdaArr\n",
    "learningRate = 10**-3\n",
    "iters = 10000"
   ]
  },
  {
   "cell_type": "code",
   "execution_count": 24,
   "id": "c686825a",
   "metadata": {
    "scrolled": true
   },
   "outputs": [
    {
     "data": {
      "text/plain": [
       "array([1.36272555, 1.36272573, 1.36272591, 1.36272609, 1.36272627,\n",
       "       1.36272645, 1.36272663, 1.36272681, 1.36272699, 1.36272718,\n",
       "       1.36272736, 1.36272754, 1.36272772, 1.3627279 , 1.36272808,\n",
       "       1.36272826, 1.36272844, 1.36272862, 1.3627288 , 1.36272898,\n",
       "       1.36272916, 1.36272935, 1.36272953, 1.36272971, 1.36272989,\n",
       "       1.36273007, 1.36273025, 1.36273043, 1.36273061, 1.36273079,\n",
       "       1.36273097, 1.36273115, 1.36273134, 1.36273152, 1.3627317 ,\n",
       "       1.36273188, 1.36273206, 1.36273224, 1.36273242, 1.3627326 ,\n",
       "       1.36273278, 1.36273296, 1.36273314, 1.36273333, 1.36273351,\n",
       "       1.36273369, 1.36273387, 1.36273405, 1.36273423, 1.36273441,\n",
       "       1.36273459, 1.36273477, 1.36273495, 1.36273513, 1.36273531,\n",
       "       1.3627355 , 1.36273568, 1.36273586, 1.36273604, 1.36273622,\n",
       "       1.3627364 , 1.36273658, 1.36273676, 1.36273694, 1.36273712,\n",
       "       1.3627373 , 1.36273749, 1.36273767, 1.36273785, 1.36273803,\n",
       "       1.36273821, 1.36273839, 1.36273857, 1.36273875, 1.36273893,\n",
       "       1.36273911, 1.36273929, 1.36273947, 1.36273966, 1.36273984,\n",
       "       1.36274002, 1.3627402 , 1.36274038, 1.36274056, 1.36274074,\n",
       "       1.36274092, 1.3627411 , 1.36274128, 1.36274146, 1.36274165,\n",
       "       1.36274183, 1.36274201, 1.36274219, 1.36274237, 1.36274255,\n",
       "       1.36274273, 1.36274291, 1.36274309, 1.36274327, 1.36274345])"
      ]
     },
     "execution_count": 24,
     "metadata": {},
     "output_type": "execute_result"
    }
   ],
   "source": [
    "wSize = 3\n",
    "w = np.ones(wSize) # similar template for others\n",
    "w1 = np.zeros(wSize)\n",
    "#print(w, '\\n', w1)\n",
    "\n",
    "counter = 0\n",
    "costArr= np.zeros(iters+1)\n",
    "counterArr = np.zeros(iters+1)\n",
    "ErrorLambdas = np.array([])\n",
    "for Lambda in LambdaArr:\n",
    "    w = np.ones(wSize) # similar template for others\n",
    "    w1 = np.zeros(wSize)\n",
    "    for i in range(iters):\n",
    "        z = w.copy()\n",
    "        z = np.abs(z)**(q-1)\n",
    "        z[0] = 0\n",
    "        w2 = np.zeros(wSize)\n",
    "        w2 = (np.sum((valY-np.reshape(np.sum(w*valX, axis = 1), (np.shape(valX)[0],1)))*valX, axis = 0)) - Lambda*q*(z)/2\n",
    "#         for j in range(np.shape(valX)[0]):\n",
    "#             w2 += ((valY[j,0]-np.sum(w*valX[j,:]))*valX[j,:])\n",
    "\n",
    "        w2 = w2 - (Lambda*q/2)*z\n",
    "\n",
    "        w1 = w + learningRate*w2\n",
    "        w=w1\n",
    "    \n",
    "    err = 0\n",
    "    for j in range(np.shape(valX)[0]):\n",
    "            err += ((valY[j,0]-np.sum(w*valX[j,:]))**2)\n",
    "    z = w.copy()\n",
    "    z = np.abs(z)**q\n",
    "    z[0] = 0\n",
    "    err += (Lambda/2)*(np.sum(z))\n",
    "#     print(np.sqrt(err/np.shape(valX)[0]))\n",
    "    \n",
    "    ErrorLambdas = np.append(ErrorLambdas, np.sqrt(err/np.shape(valX)[0]))\n",
    "#     print(\"Lambda:\", Lambda)\n",
    "#     print(\"-------------------------------------\")\n",
    "#     for i in range(np.shape(w)[0]):    \n",
    "#         print(\"w\", i, \"=\", w[i], sep = '')\n",
    "#     print(\"-------------------------------------\")\n",
    "\n",
    "\n",
    "   \n",
    "\n",
    "# for i in range(np.shape(w)[0]):    \n",
    "#     print(\"w\", i, \"=\", w[i], sep = '')\n",
    "\n",
    "np.shape(valX)[0]\n",
    "ErrorLambdas\n",
    " "
   ]
  },
  {
   "cell_type": "code",
   "execution_count": 25,
   "id": "e3c6950d",
   "metadata": {
    "scrolled": false
   },
   "outputs": [],
   "source": [
    "TeErrorLambdas = np.array([])\n",
    "for Lambda in LambdaArr:\n",
    "    err = 0\n",
    "    for j in range(np.shape(valX)[0]):\n",
    "            err += ((valY[j,0]-np.sum(w*valX[j,:]))**2)\n",
    "    z = w.copy()\n",
    "    z = np.abs(z)**q\n",
    "    z[0] = 0\n",
    "    err += (Lambda/2)*(np.sum(z))\n",
    "#     print(np.sqrt(err/np.shape(valTestX)[0]))\n",
    "    \n",
    "    TeErrorLambdas = np.append(TeErrorLambdas, np.sqrt(err/np.shape(valTestX)[0]))\n",
    "#     print(\"Lambda:\", Lambda)\n",
    "#     print(\"-------------------------------------\")\n",
    "#     for i in range(np.shape(w)[0]):    \n",
    "#         print(\"w\", i, \"=\", w[i], sep = '')\n",
    "#     print(\"-------------------------------------\")"
   ]
  },
  {
   "cell_type": "code",
   "execution_count": 26,
   "id": "ac7149b8",
   "metadata": {},
   "outputs": [
    {
     "data": {
      "text/plain": [
       "array([2.72857482, 2.72857519, 2.72857555, 2.72857591, 2.72857627,\n",
       "       2.72857663, 2.728577  , 2.72857736, 2.72857772, 2.72857808,\n",
       "       2.72857845, 2.72857881, 2.72857917, 2.72857953, 2.72857989,\n",
       "       2.72858026, 2.72858062, 2.72858098, 2.72858134, 2.72858171,\n",
       "       2.72858207, 2.72858243, 2.72858279, 2.72858315, 2.72858352,\n",
       "       2.72858388, 2.72858424, 2.7285846 , 2.72858496, 2.72858533,\n",
       "       2.72858569, 2.72858605, 2.72858641, 2.72858678, 2.72858714,\n",
       "       2.7285875 , 2.72858786, 2.72858822, 2.72858859, 2.72858895,\n",
       "       2.72858931, 2.72858967, 2.72859003, 2.7285904 , 2.72859076,\n",
       "       2.72859112, 2.72859148, 2.72859185, 2.72859221, 2.72859257,\n",
       "       2.72859293, 2.72859329, 2.72859366, 2.72859402, 2.72859438,\n",
       "       2.72859474, 2.7285951 , 2.72859547, 2.72859583, 2.72859619,\n",
       "       2.72859655, 2.72859692, 2.72859728, 2.72859764, 2.728598  ,\n",
       "       2.72859836, 2.72859873, 2.72859909, 2.72859945, 2.72859981,\n",
       "       2.72860017, 2.72860054, 2.7286009 , 2.72860126, 2.72860162,\n",
       "       2.72860199, 2.72860235, 2.72860271, 2.72860307, 2.72860343,\n",
       "       2.7286038 , 2.72860416, 2.72860452, 2.72860488, 2.72860524,\n",
       "       2.72860561, 2.72860597, 2.72860633, 2.72860669, 2.72860706,\n",
       "       2.72860742, 2.72860778, 2.72860814, 2.7286085 , 2.72860887,\n",
       "       2.72860923, 2.72860959, 2.72860995, 2.72861031, 2.72861068])"
      ]
     },
     "execution_count": 26,
     "metadata": {},
     "output_type": "execute_result"
    }
   ],
   "source": [
    "TeErrorLambdas"
   ]
  },
  {
   "cell_type": "code",
   "execution_count": 27,
   "id": "68f6a9f9",
   "metadata": {},
   "outputs": [
    {
     "data": {
      "image/png": "[encoded data removed]",
      "text/plain": [
       "<Figure size 432x288 with 1 Axes>"
      ]
     },
     "metadata": {
      "needs_background": "light"
     },
     "output_type": "display_data"
    }
   ],
   "source": [
    "X = LambdaArr.copy()\n",
    "fig, ax = plt.subplots()\n",
    "# Tr = plt.scatter(LambdaArr, ErrorLambdas, c = 'r')\n",
    "plt.plot(X, ErrorLambdas, c = 'r')\n",
    "plt.title(\"Training Error with Lambda\", y = 1, pad = 30)\n",
    "plt.show()"
   ]
  },
  {
   "cell_type": "code",
   "execution_count": 28,
   "id": "636846e0",
   "metadata": {
    "scrolled": true
   },
   "outputs": [
    {
     "data": {
      "image/png": "[encoded data removed]",
      "text/plain": [
       "<Figure size 432x288 with 1 Axes>"
      ]
     },
     "metadata": {
      "needs_background": "light"
     },
     "output_type": "display_data"
    }
   ],
   "source": [
    "fig, ax = plt.subplots()\n",
    "# Te = plt.scatter(LambdaArr, TeErrorLambdas, c = 'b')\n",
    "plt.plot(X, TeErrorLambdas, c = 'b')\n",
    "plt.title(\"Testing Error with Lambda\", y = 1, pad = 30)\n",
    "plt.show()"
   ]
  },
  {
   "cell_type": "code",
   "execution_count": 29,
   "id": "92d57929",
   "metadata": {},
   "outputs": [],
   "source": [
    "# Reularization variables\n",
    "LambdaArr = np.linspace(0,0.01,100)\n",
    "q = 1\n",
    "LambdaArr\n",
    "learningRate = 10**-3\n",
    "iters = 10000"
   ]
  },
  {
   "cell_type": "code",
   "execution_count": 30,
   "id": "b14c450d",
   "metadata": {
    "scrolled": true
   },
   "outputs": [
    {
     "data": {
      "text/plain": [
       "array([1.36272555, 1.36272595, 1.36272636, 1.36272676, 1.36272717,\n",
       "       1.36272757, 1.36272798, 1.36272838, 1.36272879, 1.36272919,\n",
       "       1.3627296 , 1.36273   , 1.36273041, 1.36273081, 1.36273122,\n",
       "       1.36273162, 1.36273203, 1.36273243, 1.36273284, 1.36273325,\n",
       "       1.36273365, 1.36273406, 1.36273446, 1.36273487, 1.36273527,\n",
       "       1.36273568, 1.36273608, 1.36273649, 1.36273689, 1.3627373 ,\n",
       "       1.3627377 , 1.36273811, 1.36273851, 1.36273892, 1.36273932,\n",
       "       1.36273973, 1.36274013, 1.36274054, 1.36274094, 1.36274135,\n",
       "       1.36274175, 1.36274216, 1.36274256, 1.36274297, 1.36274338,\n",
       "       1.36274378, 1.36274419, 1.36274459, 1.362745  , 1.3627454 ,\n",
       "       1.36274581, 1.36274621, 1.36274662, 1.36274702, 1.36274743,\n",
       "       1.36274783, 1.36274824, 1.36274864, 1.36274905, 1.36274945,\n",
       "       1.36274986, 1.36275026, 1.36275067, 1.36275107, 1.36275148,\n",
       "       1.36275188, 1.36275229, 1.3627527 , 1.3627531 , 1.36275351,\n",
       "       1.36275391, 1.36275432, 1.36275472, 1.36275513, 1.36275553,\n",
       "       1.36275594, 1.36275634, 1.36275675, 1.36275715, 1.36275756,\n",
       "       1.36275796, 1.36275837, 1.36275877, 1.36275918, 1.36275958,\n",
       "       1.36275999, 1.3627604 , 1.3627608 , 1.36276121, 1.36276161,\n",
       "       1.36276202, 1.36276242, 1.36276283, 1.36276323, 1.36276364,\n",
       "       1.36276404, 1.36276445, 1.36276485, 1.36276526, 1.36276566])"
      ]
     },
     "execution_count": 30,
     "metadata": {},
     "output_type": "execute_result"
    }
   ],
   "source": [
    "wSize = 3\n",
    "w = np.ones(wSize) # similar template for others\n",
    "w1 = np.zeros(wSize)\n",
    "#print(w, '\\n', w1)\n",
    "\n",
    "counter = 0\n",
    "costArr= np.zeros(iters+1)\n",
    "counterArr = np.zeros(iters+1)\n",
    "ErrorLambdas = np.array([])\n",
    "for Lambda in LambdaArr:\n",
    "    w = np.ones(wSize) # similar template for others\n",
    "    w1 = np.zeros(wSize)\n",
    "    for i in range(iters):\n",
    "        z = w.copy()\n",
    "        z = np.abs(z)**(q-1)\n",
    "        z[0] = 0\n",
    "        w2 = np.zeros(wSize)\n",
    "        w2 = (np.sum((valY-np.reshape(np.sum(w*valX, axis = 1), (np.shape(valX)[0],1)))*valX, axis = 0)) - Lambda*q*(z)/2\n",
    "#         for j in range(np.shape(valX)[0]):\n",
    "#             w2 += ((valY[j,0]-np.sum(w*valX[j,:]))*valX[j,:])\n",
    "\n",
    "        w2 = w2 - (Lambda*q/2)*z\n",
    "\n",
    "        w1 = w + learningRate*w2\n",
    "        w=w1\n",
    "    \n",
    "    err = 0\n",
    "    for j in range(np.shape(valX)[0]):\n",
    "            err += ((valY[j,0]-np.sum(w*valX[j,:]))**2)\n",
    "    z = w.copy()\n",
    "    z = np.abs(z)**q\n",
    "    z[0] = 0\n",
    "    err += (Lambda/2)*(np.sum(z))\n",
    "#     print(np.sqrt(err/np.shape(valX)[0]))\n",
    "    \n",
    "    ErrorLambdas = np.append(ErrorLambdas, np.sqrt(err/np.shape(valX)[0]))\n",
    "#     print(\"Lambda:\", Lambda)\n",
    "#     print(\"-------------------------------------\")\n",
    "#     for i in range(np.shape(w)[0]):    \n",
    "#         print(\"w\", i, \"=\", w[i], sep = '')\n",
    "#     print(\"-------------------------------------\")\n",
    "\n",
    "\n",
    "   \n",
    "\n",
    "# for i in range(np.shape(w)[0]):    \n",
    "#     print(\"w\", i, \"=\", w[i], sep = '')\n",
    "\n",
    "np.shape(valX)[0]\n",
    "ErrorLambdas\n",
    " "
   ]
  },
  {
   "cell_type": "code",
   "execution_count": 31,
   "id": "74e4bb1e",
   "metadata": {
    "scrolled": false
   },
   "outputs": [],
   "source": [
    "TeErrorLambdas = np.array([])\n",
    "for Lambda in LambdaArr:\n",
    "    err = 0\n",
    "    for j in range(np.shape(valX)[0]):\n",
    "            err += ((valY[j,0]-np.sum(w*valX[j,:]))**2)\n",
    "    z = w.copy()\n",
    "    z = np.abs(z)**q\n",
    "    z[0] = 0\n",
    "    err += (Lambda/2)*(np.sum(z))\n",
    "#     print(np.sqrt(err/np.shape(valTestX)[0]))\n",
    "    \n",
    "    TeErrorLambdas = np.append(TeErrorLambdas, np.sqrt(err/np.shape(valTestX)[0]))\n",
    "#     print(\"Lambda:\", Lambda)\n",
    "#     print(\"-------------------------------------\")\n",
    "#     for i in range(np.shape(w)[0]):    \n",
    "#         print(\"w\", i, \"=\", w[i], sep = '')\n",
    "#     print(\"-------------------------------------\")"
   ]
  },
  {
   "cell_type": "code",
   "execution_count": 32,
   "id": "ff5b3cbd",
   "metadata": {},
   "outputs": [
    {
     "data": {
      "text/plain": [
       "array([2.72857486, 2.72857567, 2.72857648, 2.72857729, 2.7285781 ,\n",
       "       2.72857891, 2.72857972, 2.72858054, 2.72858135, 2.72858216,\n",
       "       2.72858297, 2.72858378, 2.72858459, 2.7285854 , 2.72858621,\n",
       "       2.72858702, 2.72858783, 2.72858865, 2.72858946, 2.72859027,\n",
       "       2.72859108, 2.72859189, 2.7285927 , 2.72859351, 2.72859432,\n",
       "       2.72859513, 2.72859594, 2.72859676, 2.72859757, 2.72859838,\n",
       "       2.72859919, 2.7286    , 2.72860081, 2.72860162, 2.72860243,\n",
       "       2.72860324, 2.72860405, 2.72860487, 2.72860568, 2.72860649,\n",
       "       2.7286073 , 2.72860811, 2.72860892, 2.72860973, 2.72861054,\n",
       "       2.72861135, 2.72861216, 2.72861298, 2.72861379, 2.7286146 ,\n",
       "       2.72861541, 2.72861622, 2.72861703, 2.72861784, 2.72861865,\n",
       "       2.72861946, 2.72862027, 2.72862109, 2.7286219 , 2.72862271,\n",
       "       2.72862352, 2.72862433, 2.72862514, 2.72862595, 2.72862676,\n",
       "       2.72862757, 2.72862838, 2.7286292 , 2.72863001, 2.72863082,\n",
       "       2.72863163, 2.72863244, 2.72863325, 2.72863406, 2.72863487,\n",
       "       2.72863568, 2.72863649, 2.72863731, 2.72863812, 2.72863893,\n",
       "       2.72863974, 2.72864055, 2.72864136, 2.72864217, 2.72864298,\n",
       "       2.72864379, 2.7286446 , 2.72864542, 2.72864623, 2.72864704,\n",
       "       2.72864785, 2.72864866, 2.72864947, 2.72865028, 2.72865109,\n",
       "       2.7286519 , 2.72865271, 2.72865353, 2.72865434, 2.72865515])"
      ]
     },
     "execution_count": 32,
     "metadata": {},
     "output_type": "execute_result"
    }
   ],
   "source": [
    "TeErrorLambdas"
   ]
  },
  {
   "cell_type": "code",
   "execution_count": 33,
   "id": "54d3c89c",
   "metadata": {},
   "outputs": [
    {
     "data": {
      "image/png": "[encoded data removed]",
      "text/plain": [
       "<Figure size 432x288 with 1 Axes>"
      ]
     },
     "metadata": {
      "needs_background": "light"
     },
     "output_type": "display_data"
    }
   ],
   "source": [
    "X = LambdaArr.copy()\n",
    "fig, ax = plt.subplots()\n",
    "# Tr = plt.scatter(LambdaArr, ErrorLambdas, c = 'r')\n",
    "plt.plot(X, ErrorLambdas, c = 'r')\n",
    "plt.title(\"Training Error with Lambda\", y = 1, pad = 30)\n",
    "plt.show()"
   ]
  },
  {
   "cell_type": "code",
   "execution_count": 34,
   "id": "2aab085d",
   "metadata": {
    "scrolled": true
   },
   "outputs": [
    {
     "data": {
      "image/png": "[encoded data removed]",
      "text/plain": [
       "<Figure size 432x288 with 1 Axes>"
      ]
     },
     "metadata": {
      "needs_background": "light"
     },
     "output_type": "display_data"
    }
   ],
   "source": [
    "fig, ax = plt.subplots()\n",
    "# Te = plt.scatter(LambdaArr, TeErrorLambdas, c = 'b')\n",
    "plt.plot(X, TeErrorLambdas, c = 'b')\n",
    "plt.title(\"Testing Error with Lambda\", y = 1, pad = 30)\n",
    "plt.show()"
   ]
  },
  {
   "cell_type": "code",
   "execution_count": 35,
   "id": "ec08e802",
   "metadata": {},
   "outputs": [],
   "source": [
    "# Reularization variables\n",
    "LambdaArr = np.linspace(0,0.01,100)\n",
    "q = 2\n",
    "LambdaArr\n",
    "learningRate = 10**-3\n",
    "iters = 10000"
   ]
  },
  {
   "cell_type": "code",
   "execution_count": 36,
   "id": "1a2442ec",
   "metadata": {
    "scrolled": true
   },
   "outputs": [
    {
     "data": {
      "text/plain": [
       "array([1.36272555, 1.36272784, 1.36273012, 1.36273241, 1.3627347 ,\n",
       "       1.36273699, 1.36273928, 1.36274157, 1.36274386, 1.36274615,\n",
       "       1.36274844, 1.36275073, 1.36275302, 1.36275532, 1.36275761,\n",
       "       1.3627599 , 1.36276219, 1.36276448, 1.36276678, 1.36276907,\n",
       "       1.36277136, 1.36277366, 1.36277595, 1.36277825, 1.36278054,\n",
       "       1.36278284, 1.36278513, 1.36278743, 1.36278972, 1.36279202,\n",
       "       1.36279431, 1.36279661, 1.36279891, 1.36280121, 1.3628035 ,\n",
       "       1.3628058 , 1.3628081 , 1.3628104 , 1.3628127 , 1.36281499,\n",
       "       1.36281729, 1.36281959, 1.36282189, 1.36282419, 1.36282649,\n",
       "       1.36282879, 1.36283109, 1.36283339, 1.3628357 , 1.362838  ,\n",
       "       1.3628403 , 1.3628426 , 1.3628449 , 1.36284721, 1.36284951,\n",
       "       1.36285181, 1.36285412, 1.36285642, 1.36285872, 1.36286103,\n",
       "       1.36286333, 1.36286564, 1.36286794, 1.36287025, 1.36287255,\n",
       "       1.36287486, 1.36287717, 1.36287947, 1.36288178, 1.36288409,\n",
       "       1.36288639, 1.3628887 , 1.36289101, 1.36289332, 1.36289563,\n",
       "       1.36289794, 1.36290024, 1.36290255, 1.36290486, 1.36290717,\n",
       "       1.36290948, 1.36291179, 1.3629141 , 1.36291641, 1.36291873,\n",
       "       1.36292104, 1.36292335, 1.36292566, 1.36292797, 1.36293029,\n",
       "       1.3629326 , 1.36293491, 1.36293723, 1.36293954, 1.36294185,\n",
       "       1.36294417, 1.36294648, 1.3629488 , 1.36295111, 1.36295343])"
      ]
     },
     "execution_count": 36,
     "metadata": {},
     "output_type": "execute_result"
    }
   ],
   "source": [
    "wSize = 3\n",
    "w = np.ones(wSize) # similar template for others\n",
    "w1 = np.zeros(wSize)\n",
    "#print(w, '\\n', w1)\n",
    "\n",
    "counter = 0\n",
    "costArr= np.zeros(iters+1)\n",
    "counterArr = np.zeros(iters+1)\n",
    "ErrorLambdas = np.array([])\n",
    "for Lambda in LambdaArr:\n",
    "    w = np.ones(wSize) # similar template for others\n",
    "    w1 = np.zeros(wSize)\n",
    "    for i in range(iters):\n",
    "        z = w.copy()\n",
    "        z = np.abs(z)**(q-1)\n",
    "        z[0] = 0\n",
    "        w2 = np.zeros(wSize)\n",
    "        w2 = (np.sum((valY-np.reshape(np.sum(w*valX, axis = 1), (np.shape(valX)[0],1)))*valX, axis = 0)) - Lambda*q*(z)/2\n",
    "#         for j in range(np.shape(valX)[0]):\n",
    "#             w2 += ((valY[j,0]-np.sum(w*valX[j,:]))*valX[j,:])\n",
    "\n",
    "        w2 = w2 - (Lambda*q/2)*z\n",
    "\n",
    "        w1 = w + learningRate*w2\n",
    "        w=w1\n",
    "    \n",
    "    err = 0\n",
    "    for j in range(np.shape(valX)[0]):\n",
    "            err += ((valY[j,0]-np.sum(w*valX[j,:]))**2)\n",
    "    z = w.copy()\n",
    "    z = np.abs(z)**q\n",
    "    z[0] = 0\n",
    "    err += (Lambda/2)*(np.sum(z))\n",
    "#     print(np.sqrt(err/np.shape(valX)[0]))\n",
    "    \n",
    "    ErrorLambdas = np.append(ErrorLambdas, np.sqrt(err/np.shape(valX)[0]))\n",
    "#     print(\"Lambda:\", Lambda)\n",
    "#     print(\"-------------------------------------\")\n",
    "#     for i in range(np.shape(w)[0]):    \n",
    "#         print(\"w\", i, \"=\", w[i], sep = '')\n",
    "#     print(\"-------------------------------------\")\n",
    "\n",
    "\n",
    "   \n",
    "\n",
    "# for i in range(np.shape(w)[0]):    \n",
    "#     print(\"w\", i, \"=\", w[i], sep = '')\n",
    "\n",
    "np.shape(valX)[0]\n",
    "ErrorLambdas\n",
    " "
   ]
  },
  {
   "cell_type": "code",
   "execution_count": 37,
   "id": "07d23e47",
   "metadata": {
    "scrolled": false
   },
   "outputs": [],
   "source": [
    "TeErrorLambdas = np.array([])\n",
    "for Lambda in LambdaArr:\n",
    "    err = 0\n",
    "    for j in range(np.shape(valX)[0]):\n",
    "            err += ((valY[j,0]-np.sum(w*valX[j,:]))**2)\n",
    "    z = w.copy()\n",
    "    z = np.abs(z)**q\n",
    "    z[0] = 0\n",
    "    err += (Lambda/2)*(np.sum(z))\n",
    "#     print(np.sqrt(err/np.shape(valTestX)[0]))\n",
    "    \n",
    "    TeErrorLambdas = np.append(TeErrorLambdas, np.sqrt(err/np.shape(valTestX)[0]))\n",
    "#     print(\"Lambda:\", Lambda)\n",
    "#     print(\"-------------------------------------\")\n",
    "#     for i in range(np.shape(w)[0]):    \n",
    "#         print(\"w\", i, \"=\", w[i], sep = '')\n",
    "#     print(\"-------------------------------------\")"
   ]
  },
  {
   "cell_type": "code",
   "execution_count": 38,
   "id": "ece03a68",
   "metadata": {},
   "outputs": [
    {
     "data": {
      "text/plain": [
       "array([2.72858037, 2.72858492, 2.72858948, 2.72859403, 2.72859858,\n",
       "       2.72860313, 2.72860769, 2.72861224, 2.72861679, 2.72862135,\n",
       "       2.7286259 , 2.72863045, 2.72863501, 2.72863956, 2.72864411,\n",
       "       2.72864867, 2.72865322, 2.72865777, 2.72866233, 2.72866688,\n",
       "       2.72867143, 2.72867599, 2.72868054, 2.72868509, 2.72868964,\n",
       "       2.7286942 , 2.72869875, 2.7287033 , 2.72870786, 2.72871241,\n",
       "       2.72871696, 2.72872152, 2.72872607, 2.72873062, 2.72873518,\n",
       "       2.72873973, 2.72874428, 2.72874883, 2.72875339, 2.72875794,\n",
       "       2.72876249, 2.72876705, 2.7287716 , 2.72877615, 2.7287807 ,\n",
       "       2.72878526, 2.72878981, 2.72879436, 2.72879892, 2.72880347,\n",
       "       2.72880802, 2.72881258, 2.72881713, 2.72882168, 2.72882623,\n",
       "       2.72883079, 2.72883534, 2.72883989, 2.72884444, 2.728849  ,\n",
       "       2.72885355, 2.7288581 , 2.72886266, 2.72886721, 2.72887176,\n",
       "       2.72887631, 2.72888087, 2.72888542, 2.72888997, 2.72889453,\n",
       "       2.72889908, 2.72890363, 2.72890818, 2.72891274, 2.72891729,\n",
       "       2.72892184, 2.72892639, 2.72893095, 2.7289355 , 2.72894005,\n",
       "       2.72894461, 2.72894916, 2.72895371, 2.72895826, 2.72896282,\n",
       "       2.72896737, 2.72897192, 2.72897647, 2.72898103, 2.72898558,\n",
       "       2.72899013, 2.72899468, 2.72899924, 2.72900379, 2.72900834,\n",
       "       2.72901289, 2.72901745, 2.729022  , 2.72902655, 2.7290311 ])"
      ]
     },
     "execution_count": 38,
     "metadata": {},
     "output_type": "execute_result"
    }
   ],
   "source": [
    "TeErrorLambdas"
   ]
  },
  {
   "cell_type": "code",
   "execution_count": 39,
   "id": "6face7ae",
   "metadata": {},
   "outputs": [
    {
     "data": {
      "image/png": "[encoded data removed]",
      "text/plain": [
       "<Figure size 432x288 with 1 Axes>"
      ]
     },
     "metadata": {
      "needs_background": "light"
     },
     "output_type": "display_data"
    }
   ],
   "source": [
    "X = LambdaArr.copy()\n",
    "fig, ax = plt.subplots()\n",
    "# Tr = plt.scatter(LambdaArr, ErrorLambdas, c = 'r')\n",
    "plt.plot(X, ErrorLambdas, c = 'r')\n",
    "plt.title(\"Training Error with Lambda\", y = 1, pad = 30)\n",
    "plt.show()"
   ]
  },
  {
   "cell_type": "code",
   "execution_count": 40,
   "id": "1ffcc926",
   "metadata": {
    "scrolled": true
   },
   "outputs": [
    {
     "data": {
      "image/png": "[encoded data removed]",
      "text/plain": [
       "<Figure size 432x288 with 1 Axes>"
      ]
     },
     "metadata": {
      "needs_background": "light"
     },
     "output_type": "display_data"
    }
   ],
   "source": [
    "fig, ax = plt.subplots()\n",
    "# Te = plt.scatter(LambdaArr, TeErrorLambdas, c = 'b')\n",
    "plt.plot(X, TeErrorLambdas, c = 'b')\n",
    "plt.title(\"Testing Error with Lambda\", y = 1, pad = 30)\n",
    "plt.show()"
   ]
  },
  {
   "cell_type": "code",
   "execution_count": 41,
   "id": "d2103349",
   "metadata": {},
   "outputs": [],
   "source": [
    "# Reularization variables\n",
    "LambdaArr = np.linspace(0,0.01,100)\n",
    "q = 4\n",
    "LambdaArr\n",
    "learningRate = 10**-3\n",
    "iters = 10000"
   ]
  },
  {
   "cell_type": "code",
   "execution_count": 42,
   "id": "cb584832",
   "metadata": {
    "scrolled": true
   },
   "outputs": [
    {
     "data": {
      "text/plain": [
       "array([1.36272555, 1.36282076, 1.36291839, 1.36301825, 1.36312017,\n",
       "       1.36322397, 1.36332951, 1.36343663, 1.36354522, 1.36365515,\n",
       "       1.36376631, 1.3638786 , 1.36399192, 1.36410618, 1.36422131,\n",
       "       1.36433722, 1.36445384, 1.3645711 , 1.36468895, 1.36480733,\n",
       "       1.36492617, 1.36504544, 1.36516508, 1.36528505, 1.36540532,\n",
       "       1.36552583, 1.36564655, 1.36576746, 1.36588852, 1.36600969,\n",
       "       1.36613096, 1.36625229, 1.36637366, 1.36649505, 1.36661643,\n",
       "       1.36673779, 1.36685911, 1.36698037, 1.36710155, 1.36722264,\n",
       "       1.36734362, 1.36746447, 1.3675852 , 1.36770577, 1.36782619,\n",
       "       1.36794643, 1.3680665 , 1.36818638, 1.36830606, 1.36842554,\n",
       "       1.3685448 , 1.36866384, 1.36878266, 1.36890124, 1.36901957,\n",
       "       1.36913767, 1.36925551, 1.3693731 , 1.36949042, 1.36960749,\n",
       "       1.36972428, 1.3698408 , 1.36995705, 1.37007302, 1.3701887 ,\n",
       "       1.37030411, 1.37041922, 1.37053405, 1.37064859, 1.37076283,\n",
       "       1.37087678, 1.37099044, 1.37110379, 1.37121685, 1.37132961,\n",
       "       1.37144207, 1.37155423, 1.37166609, 1.37177764, 1.37188889,\n",
       "       1.37199984, 1.37211048, 1.37222082, 1.37233086, 1.37244059,\n",
       "       1.37255002, 1.37265914, 1.37276796, 1.37287648, 1.37298469,\n",
       "       1.3730926 , 1.37320021, 1.37330752, 1.37341452, 1.37352123,\n",
       "       1.37362763, 1.37373373, 1.37383954, 1.37394505, 1.37405026])"
      ]
     },
     "execution_count": 42,
     "metadata": {},
     "output_type": "execute_result"
    }
   ],
   "source": [
    "wSize = 3\n",
    "w = np.ones(wSize) # similar template for others\n",
    "w1 = np.zeros(wSize)\n",
    "#print(w, '\\n', w1)\n",
    "\n",
    "counter = 0\n",
    "costArr= np.zeros(iters+1)\n",
    "counterArr = np.zeros(iters+1)\n",
    "ErrorLambdas = np.array([])\n",
    "for Lambda in LambdaArr:\n",
    "    w = np.ones(wSize) # similar template for others\n",
    "    w1 = np.zeros(wSize)\n",
    "    for i in range(iters):\n",
    "        z = w.copy()\n",
    "        z = np.abs(z)**(q-1)\n",
    "        z[0] = 0\n",
    "        w2 = np.zeros(wSize)\n",
    "        w2 = (np.sum((valY-np.reshape(np.sum(w*valX, axis = 1), (np.shape(valX)[0],1)))*valX, axis = 0)) - Lambda*q*(z)/2\n",
    "#         for j in range(np.shape(valX)[0]):\n",
    "#             w2 += ((valY[j,0]-np.sum(w*valX[j,:]))*valX[j,:])\n",
    "\n",
    "        w2 = w2 - (Lambda*q/2)*z\n",
    "\n",
    "        w1 = w + learningRate*w2\n",
    "        w=w1\n",
    "    \n",
    "    err = 0\n",
    "    for j in range(np.shape(valX)[0]):\n",
    "            err += ((valY[j,0]-np.sum(w*valX[j,:]))**2)\n",
    "    z = w.copy()\n",
    "    z = np.abs(z)**q\n",
    "    z[0] = 0\n",
    "    err += (Lambda/2)*(np.sum(z))\n",
    "#     print(np.sqrt(err/np.shape(valX)[0]))\n",
    "    \n",
    "    ErrorLambdas = np.append(ErrorLambdas, np.sqrt(err/np.shape(valX)[0]))\n",
    "#     print(\"Lambda:\", Lambda)\n",
    "#     print(\"-------------------------------------\")\n",
    "#     for i in range(np.shape(w)[0]):    \n",
    "#         print(\"w\", i, \"=\", w[i], sep = '')\n",
    "#     print(\"-------------------------------------\")\n",
    "\n",
    "\n",
    "   \n",
    "\n",
    "# for i in range(np.shape(w)[0]):    \n",
    "#     print(\"w\", i, \"=\", w[i], sep = '')\n",
    "\n",
    "np.shape(valX)[0]\n",
    "ErrorLambdas\n",
    " "
   ]
  },
  {
   "cell_type": "code",
   "execution_count": 43,
   "id": "6b1d3659",
   "metadata": {
    "scrolled": false
   },
   "outputs": [],
   "source": [
    "TeErrorLambdas = np.array([])\n",
    "for Lambda in LambdaArr:\n",
    "    err = 0\n",
    "    for j in range(np.shape(valX)[0]):\n",
    "            err += ((valY[j,0]-np.sum(w*valX[j,:]))**2)\n",
    "    z = w.copy()\n",
    "    z = np.abs(z)**q\n",
    "    z[0] = 0\n",
    "    err += (Lambda/2)*(np.sum(z))\n",
    "#     print(np.sqrt(err/np.shape(valTestX)[0]))\n",
    "    \n",
    "    TeErrorLambdas = np.append(TeErrorLambdas, np.sqrt(err/np.shape(valTestX)[0]))\n",
    "#     print(\"Lambda:\", Lambda)\n",
    "#     print(\"-------------------------------------\")\n",
    "#     for i in range(np.shape(w)[0]):    \n",
    "#         print(\"w\", i, \"=\", w[i], sep = '')\n",
    "#     print(\"-------------------------------------\")"
   ]
  },
  {
   "cell_type": "code",
   "execution_count": 44,
   "id": "4ca9e002",
   "metadata": {},
   "outputs": [
    {
     "data": {
      "text/plain": [
       "array([2.74283949, 2.74292458, 2.74300966, 2.74309474, 2.74317982,\n",
       "       2.7432649 , 2.74334997, 2.74343504, 2.74352011, 2.74360517,\n",
       "       2.74369023, 2.74377529, 2.74386035, 2.7439454 , 2.74403045,\n",
       "       2.7441155 , 2.74420055, 2.74428559, 2.74437063, 2.74445567,\n",
       "       2.7445407 , 2.74462574, 2.74471077, 2.7447958 , 2.74488082,\n",
       "       2.74496584, 2.74505086, 2.74513588, 2.74522089, 2.74530591,\n",
       "       2.74539091, 2.74547592, 2.74556092, 2.74564593, 2.74573092,\n",
       "       2.74581592, 2.74590091, 2.7459859 , 2.74607089, 2.74615588,\n",
       "       2.74624086, 2.74632584, 2.74641082, 2.74649579, 2.74658077,\n",
       "       2.74666574, 2.7467507 , 2.74683567, 2.74692063, 2.74700559,\n",
       "       2.74709054, 2.7471755 , 2.74726045, 2.7473454 , 2.74743034,\n",
       "       2.74751529, 2.74760023, 2.74768517, 2.7477701 , 2.74785504,\n",
       "       2.74793997, 2.74802489, 2.74810982, 2.74819474, 2.74827966,\n",
       "       2.74836458, 2.74844949, 2.7485344 , 2.74861931, 2.74870422,\n",
       "       2.74878912, 2.74887403, 2.74895892, 2.74904382, 2.74912871,\n",
       "       2.7492136 , 2.74929849, 2.74938338, 2.74946826, 2.74955314,\n",
       "       2.74963802, 2.7497229 , 2.74980777, 2.74989264, 2.74997751,\n",
       "       2.75006237, 2.75014723, 2.75023209, 2.75031695, 2.7504018 ,\n",
       "       2.75048665, 2.7505715 , 2.75065635, 2.75074119, 2.75082603,\n",
       "       2.75091087, 2.75099571, 2.75108054, 2.75116537, 2.7512502 ])"
      ]
     },
     "execution_count": 44,
     "metadata": {},
     "output_type": "execute_result"
    }
   ],
   "source": [
    "TeErrorLambdas"
   ]
  },
  {
   "cell_type": "code",
   "execution_count": 45,
   "id": "a1176b2e",
   "metadata": {},
   "outputs": [
    {
     "data": {
      "image/png": "[encoded data removed]",
      "text/plain": [
       "<Figure size 432x288 with 1 Axes>"
      ]
     },
     "metadata": {
      "needs_background": "light"
     },
     "output_type": "display_data"
    }
   ],
   "source": [
    "X = LambdaArr.copy()\n",
    "fig, ax = plt.subplots()\n",
    "# Tr = plt.scatter(LambdaArr, ErrorLambdas, c = 'r')\n",
    "plt.plot(X, ErrorLambdas, c = 'r')\n",
    "plt.title(\"Training Error with Lambda\", y = 1, pad = 30)\n",
    "plt.show()"
   ]
  },
  {
   "cell_type": "code",
   "execution_count": 46,
   "id": "6bfb99c1",
   "metadata": {},
   "outputs": [
    {
     "data": {
      "image/png": "[encoded data removed]",
      "text/plain": [
       "<Figure size 432x288 with 1 Axes>"
      ]
     },
     "metadata": {
      "needs_background": "light"
     },
     "output_type": "display_data"
    }
   ],
   "source": [
    "fig, ax = plt.subplots()\n",
    "# Te = plt.scatter(LambdaArr, TeErrorLambdas, c = 'b')\n",
    "plt.plot(X, TeErrorLambdas, c = 'b')\n",
    "plt.title(\"Testing Error with Lambda\", y = 1, pad = 30)\n",
    "plt.show()"
   ]
  }
 ],
 "metadata": {
  "kernelspec": {
   "display_name": "Python 3 (ipykernel)",
   "language": "python",
   "name": "python3"
  },
  "language_info": {
   "codemirror_mode": {
    "name": "ipython",
    "version": 3
   },
   "file_extension": ".py",
   "mimetype": "text/x-python",
   "name": "python",
   "nbconvert_exporter": "python",
   "pygments_lexer": "ipython3",
   "version": "3.9.12"
  }
 },
 "nbformat": 4,
 "nbformat_minor": 5
}
